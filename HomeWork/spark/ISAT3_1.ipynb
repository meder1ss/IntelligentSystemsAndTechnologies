{
  "nbformat": 4,
  "nbformat_minor": 0,
  "metadata": {
    "colab": {
      "provenance": [],
      "toc_visible": true
    },
    "kernelspec": {
      "name": "python3",
      "display_name": "Python 3"
    },
    "language_info": {
      "name": "python"
    },
    "gpuClass": "standard"
  },
  "cells": [
    {
      "cell_type": "markdown",
      "source": [
        "# PySpark"
      ],
      "metadata": {
        "id": "fRdOZQcEKrQd"
      }
    },
    {
      "cell_type": "code",
      "source": [
        "!pip install pyspark"
      ],
      "metadata": {
        "colab": {
          "base_uri": "https://localhost:8080/"
        },
        "id": "ro4a8ZlZAZO0",
        "outputId": "beed5dcd-745d-4c6f-be2a-6b19a16275d3"
      },
      "execution_count": 1,
      "outputs": [
        {
          "output_type": "stream",
          "name": "stdout",
          "text": [
            "Looking in indexes: https://pypi.org/simple, https://us-python.pkg.dev/colab-wheels/public/simple/\n",
            "Collecting pyspark\n",
            "  Downloading pyspark-3.4.0.tar.gz (310.8 MB)\n",
            "\u001b[2K     \u001b[90m━━━━━━━━━━━━━━━━━━━━━━━━━━━━━━━━━━━━━━━\u001b[0m \u001b[32m310.8/310.8 MB\u001b[0m \u001b[31m4.6 MB/s\u001b[0m eta \u001b[36m0:00:00\u001b[0m\n",
            "\u001b[?25h  Preparing metadata (setup.py) ... \u001b[?25l\u001b[?25hdone\n",
            "Requirement already satisfied: py4j==0.10.9.7 in /usr/local/lib/python3.10/dist-packages (from pyspark) (0.10.9.7)\n",
            "Building wheels for collected packages: pyspark\n",
            "  Building wheel for pyspark (setup.py) ... \u001b[?25l\u001b[?25hdone\n",
            "  Created wheel for pyspark: filename=pyspark-3.4.0-py2.py3-none-any.whl size=311317130 sha256=ba245ed7daef1d8b8715e7642d4269877804ce029e2f385c6bdfb6397cf859ea\n",
            "  Stored in directory: /root/.cache/pip/wheels/7b/1b/4b/3363a1d04368e7ff0d408e57ff57966fcdf00583774e761327\n",
            "Successfully built pyspark\n",
            "Installing collected packages: pyspark\n",
            "Successfully installed pyspark-3.4.0\n"
          ]
        }
      ]
    },
    {
      "cell_type": "code",
      "source": [
        "from pyspark.sql import SparkSession\n",
        "spark = SparkSession.builder.master(\"local[*]\").getOrCreate()\n",
        "spark"
      ],
      "metadata": {
        "colab": {
          "base_uri": "https://localhost:8080/",
          "height": 219
        },
        "id": "8lQk10esBztr",
        "outputId": "c80b5a9e-a786-4b79-9878-e6f3d7671295"
      },
      "execution_count": 2,
      "outputs": [
        {
          "output_type": "execute_result",
          "data": {
            "text/plain": [
              "<pyspark.sql.session.SparkSession at 0x7f85e159f100>"
            ],
            "text/html": [
              "\n",
              "            <div>\n",
              "                <p><b>SparkSession - in-memory</b></p>\n",
              "                \n",
              "        <div>\n",
              "            <p><b>SparkContext</b></p>\n",
              "\n",
              "            <p><a href=\"http://862b7f039b42:4040\">Spark UI</a></p>\n",
              "\n",
              "            <dl>\n",
              "              <dt>Version</dt>\n",
              "                <dd><code>v3.4.0</code></dd>\n",
              "              <dt>Master</dt>\n",
              "                <dd><code>local[*]</code></dd>\n",
              "              <dt>AppName</dt>\n",
              "                <dd><code>pyspark-shell</code></dd>\n",
              "            </dl>\n",
              "        </div>\n",
              "        \n",
              "            </div>\n",
              "        "
            ]
          },
          "metadata": {},
          "execution_count": 2
        }
      ]
    },
    {
      "cell_type": "code",
      "source": [
        "sc = spark.sparkContext"
      ],
      "metadata": {
        "id": "Pew07k3aLIw9"
      },
      "execution_count": 3,
      "outputs": []
    },
    {
      "cell_type": "markdown",
      "source": [
        "# 1 задание"
      ],
      "metadata": {
        "id": "y3O0PPvvKvlt"
      }
    },
    {
      "cell_type": "code",
      "source": [
        "import pandas as pd\n",
        "columns = ['number','full_name','some_value','state', 'short_name', 'type', 'district', 'area', 'full_address', 'contact_number', 'some_value_2', 'state_2', 'latitude', 'longitude', 'point']\n",
        "df = pd.read_csv('https://raw.githubusercontent.com/SergUSProject/IntelligentSystemsAndTechnologies/main/HomeWork/spark/data/places.csv', header=None, names=columns)\n",
        "df.head()"
      ],
      "metadata": {
        "colab": {
          "base_uri": "https://localhost:8080/",
          "height": 337
        },
        "id": "NaFCsBK_Sf3a",
        "outputId": "9e9f2fe3-ad85-4fef-da02-84415d1ba1e2"
      },
      "execution_count": 84,
      "outputs": [
        {
          "output_type": "execute_result",
          "data": {
            "text/plain": [
              "   number                             full_name  some_value state  \\\n",
              "0   21830                           Шоколадница   637379839    да   \n",
              "1   22366                                 МУ-МУ   637379891    да   \n",
              "2   28608  КОМБИНАТ ПИТАНИЯ МГТУ ИМ.Н.Э.БАУМАНА   637381676   нет   \n",
              "3  132486                                Дом 12   637393784   нет   \n",
              "4   22357                               Чито-Ра   637393797   нет   \n",
              "\n",
              "    short_name   type                            district             area  \\\n",
              "0  Шоколадница   кафе  Центральный административный округ  Басманный район   \n",
              "1        Му-Му   кафе  Центральный административный округ  Басманный район   \n",
              "2          NaN  буфет  Центральный административный округ  Басманный район   \n",
              "3          NaN  буфет  Центральный административный округ  Басманный район   \n",
              "4          NaN   кафе  Центральный административный округ  Басманный район   \n",
              "\n",
              "                                        full_address   contact_number  \\\n",
              "0  город Москва, Бауманская улица, дом 33/2, стро...  (495) 916-57-62   \n",
              "1           город Москва, Бауманская улица, дом 35/1  (499) 261-33-58   \n",
              "2       город Москва, Бригадирский переулок, дом 3-5  (499) 261-51-67   \n",
              "3               город Москва, улица Казакова, дом 8А  (926) 295-05-77   \n",
              "4  город Москва, улица Казакова, дом 10/2, строен...  (499) 265-78-76   \n",
              "\n",
              "   some_value_2 state_2   latitude  longitude  \\\n",
              "0            48     нет  37.678681  55.773029   \n",
              "1           160     нет  37.678960  55.771587   \n",
              "2            34     нет  37.679609  55.765455   \n",
              "3            24     нет  37.661498  55.762609   \n",
              "4            40     нет  37.662846  55.762201   \n",
              "\n",
              "                                               point  \n",
              "0  {type=Point, coordinates=[37.6786812768991, 55...  \n",
              "1  {type=Point, coordinates=[37.678960226637, 55....  \n",
              "2  {type=Point, coordinates=[37.67960922494895, 5...  \n",
              "3  {type=Point, coordinates=[37.661498425199866, ...  \n",
              "4  {type=Point, coordinates=[37.6628455148762, 55...  "
            ],
            "text/html": [
              "\n",
              "  <div id=\"df-43e425e3-8ba3-4c0e-a9b6-404eeaf1bb60\">\n",
              "    <div class=\"colab-df-container\">\n",
              "      <div>\n",
              "<style scoped>\n",
              "    .dataframe tbody tr th:only-of-type {\n",
              "        vertical-align: middle;\n",
              "    }\n",
              "\n",
              "    .dataframe tbody tr th {\n",
              "        vertical-align: top;\n",
              "    }\n",
              "\n",
              "    .dataframe thead th {\n",
              "        text-align: right;\n",
              "    }\n",
              "</style>\n",
              "<table border=\"1\" class=\"dataframe\">\n",
              "  <thead>\n",
              "    <tr style=\"text-align: right;\">\n",
              "      <th></th>\n",
              "      <th>number</th>\n",
              "      <th>full_name</th>\n",
              "      <th>some_value</th>\n",
              "      <th>state</th>\n",
              "      <th>short_name</th>\n",
              "      <th>type</th>\n",
              "      <th>district</th>\n",
              "      <th>area</th>\n",
              "      <th>full_address</th>\n",
              "      <th>contact_number</th>\n",
              "      <th>some_value_2</th>\n",
              "      <th>state_2</th>\n",
              "      <th>latitude</th>\n",
              "      <th>longitude</th>\n",
              "      <th>point</th>\n",
              "    </tr>\n",
              "  </thead>\n",
              "  <tbody>\n",
              "    <tr>\n",
              "      <th>0</th>\n",
              "      <td>21830</td>\n",
              "      <td>Шоколадница</td>\n",
              "      <td>637379839</td>\n",
              "      <td>да</td>\n",
              "      <td>Шоколадница</td>\n",
              "      <td>кафе</td>\n",
              "      <td>Центральный административный округ</td>\n",
              "      <td>Басманный район</td>\n",
              "      <td>город Москва, Бауманская улица, дом 33/2, стро...</td>\n",
              "      <td>(495) 916-57-62</td>\n",
              "      <td>48</td>\n",
              "      <td>нет</td>\n",
              "      <td>37.678681</td>\n",
              "      <td>55.773029</td>\n",
              "      <td>{type=Point, coordinates=[37.6786812768991, 55...</td>\n",
              "    </tr>\n",
              "    <tr>\n",
              "      <th>1</th>\n",
              "      <td>22366</td>\n",
              "      <td>МУ-МУ</td>\n",
              "      <td>637379891</td>\n",
              "      <td>да</td>\n",
              "      <td>Му-Му</td>\n",
              "      <td>кафе</td>\n",
              "      <td>Центральный административный округ</td>\n",
              "      <td>Басманный район</td>\n",
              "      <td>город Москва, Бауманская улица, дом 35/1</td>\n",
              "      <td>(499) 261-33-58</td>\n",
              "      <td>160</td>\n",
              "      <td>нет</td>\n",
              "      <td>37.678960</td>\n",
              "      <td>55.771587</td>\n",
              "      <td>{type=Point, coordinates=[37.678960226637, 55....</td>\n",
              "    </tr>\n",
              "    <tr>\n",
              "      <th>2</th>\n",
              "      <td>28608</td>\n",
              "      <td>КОМБИНАТ ПИТАНИЯ МГТУ ИМ.Н.Э.БАУМАНА</td>\n",
              "      <td>637381676</td>\n",
              "      <td>нет</td>\n",
              "      <td>NaN</td>\n",
              "      <td>буфет</td>\n",
              "      <td>Центральный административный округ</td>\n",
              "      <td>Басманный район</td>\n",
              "      <td>город Москва, Бригадирский переулок, дом 3-5</td>\n",
              "      <td>(499) 261-51-67</td>\n",
              "      <td>34</td>\n",
              "      <td>нет</td>\n",
              "      <td>37.679609</td>\n",
              "      <td>55.765455</td>\n",
              "      <td>{type=Point, coordinates=[37.67960922494895, 5...</td>\n",
              "    </tr>\n",
              "    <tr>\n",
              "      <th>3</th>\n",
              "      <td>132486</td>\n",
              "      <td>Дом 12</td>\n",
              "      <td>637393784</td>\n",
              "      <td>нет</td>\n",
              "      <td>NaN</td>\n",
              "      <td>буфет</td>\n",
              "      <td>Центральный административный округ</td>\n",
              "      <td>Басманный район</td>\n",
              "      <td>город Москва, улица Казакова, дом 8А</td>\n",
              "      <td>(926) 295-05-77</td>\n",
              "      <td>24</td>\n",
              "      <td>нет</td>\n",
              "      <td>37.661498</td>\n",
              "      <td>55.762609</td>\n",
              "      <td>{type=Point, coordinates=[37.661498425199866, ...</td>\n",
              "    </tr>\n",
              "    <tr>\n",
              "      <th>4</th>\n",
              "      <td>22357</td>\n",
              "      <td>Чито-Ра</td>\n",
              "      <td>637393797</td>\n",
              "      <td>нет</td>\n",
              "      <td>NaN</td>\n",
              "      <td>кафе</td>\n",
              "      <td>Центральный административный округ</td>\n",
              "      <td>Басманный район</td>\n",
              "      <td>город Москва, улица Казакова, дом 10/2, строен...</td>\n",
              "      <td>(499) 265-78-76</td>\n",
              "      <td>40</td>\n",
              "      <td>нет</td>\n",
              "      <td>37.662846</td>\n",
              "      <td>55.762201</td>\n",
              "      <td>{type=Point, coordinates=[37.6628455148762, 55...</td>\n",
              "    </tr>\n",
              "  </tbody>\n",
              "</table>\n",
              "</div>\n",
              "      <button class=\"colab-df-convert\" onclick=\"convertToInteractive('df-43e425e3-8ba3-4c0e-a9b6-404eeaf1bb60')\"\n",
              "              title=\"Convert this dataframe to an interactive table.\"\n",
              "              style=\"display:none;\">\n",
              "        \n",
              "  <svg xmlns=\"http://www.w3.org/2000/svg\" height=\"24px\"viewBox=\"0 0 24 24\"\n",
              "       width=\"24px\">\n",
              "    <path d=\"M0 0h24v24H0V0z\" fill=\"none\"/>\n",
              "    <path d=\"M18.56 5.44l.94 2.06.94-2.06 2.06-.94-2.06-.94-.94-2.06-.94 2.06-2.06.94zm-11 1L8.5 8.5l.94-2.06 2.06-.94-2.06-.94L8.5 2.5l-.94 2.06-2.06.94zm10 10l.94 2.06.94-2.06 2.06-.94-2.06-.94-.94-2.06-.94 2.06-2.06.94z\"/><path d=\"M17.41 7.96l-1.37-1.37c-.4-.4-.92-.59-1.43-.59-.52 0-1.04.2-1.43.59L10.3 9.45l-7.72 7.72c-.78.78-.78 2.05 0 2.83L4 21.41c.39.39.9.59 1.41.59.51 0 1.02-.2 1.41-.59l7.78-7.78 2.81-2.81c.8-.78.8-2.07 0-2.86zM5.41 20L4 18.59l7.72-7.72 1.47 1.35L5.41 20z\"/>\n",
              "  </svg>\n",
              "      </button>\n",
              "      \n",
              "  <style>\n",
              "    .colab-df-container {\n",
              "      display:flex;\n",
              "      flex-wrap:wrap;\n",
              "      gap: 12px;\n",
              "    }\n",
              "\n",
              "    .colab-df-convert {\n",
              "      background-color: #E8F0FE;\n",
              "      border: none;\n",
              "      border-radius: 50%;\n",
              "      cursor: pointer;\n",
              "      display: none;\n",
              "      fill: #1967D2;\n",
              "      height: 32px;\n",
              "      padding: 0 0 0 0;\n",
              "      width: 32px;\n",
              "    }\n",
              "\n",
              "    .colab-df-convert:hover {\n",
              "      background-color: #E2EBFA;\n",
              "      box-shadow: 0px 1px 2px rgba(60, 64, 67, 0.3), 0px 1px 3px 1px rgba(60, 64, 67, 0.15);\n",
              "      fill: #174EA6;\n",
              "    }\n",
              "\n",
              "    [theme=dark] .colab-df-convert {\n",
              "      background-color: #3B4455;\n",
              "      fill: #D2E3FC;\n",
              "    }\n",
              "\n",
              "    [theme=dark] .colab-df-convert:hover {\n",
              "      background-color: #434B5C;\n",
              "      box-shadow: 0px 1px 3px 1px rgba(0, 0, 0, 0.15);\n",
              "      filter: drop-shadow(0px 1px 2px rgba(0, 0, 0, 0.3));\n",
              "      fill: #FFFFFF;\n",
              "    }\n",
              "  </style>\n",
              "\n",
              "      <script>\n",
              "        const buttonEl =\n",
              "          document.querySelector('#df-43e425e3-8ba3-4c0e-a9b6-404eeaf1bb60 button.colab-df-convert');\n",
              "        buttonEl.style.display =\n",
              "          google.colab.kernel.accessAllowed ? 'block' : 'none';\n",
              "\n",
              "        async function convertToInteractive(key) {\n",
              "          const element = document.querySelector('#df-43e425e3-8ba3-4c0e-a9b6-404eeaf1bb60');\n",
              "          const dataTable =\n",
              "            await google.colab.kernel.invokeFunction('convertToInteractive',\n",
              "                                                     [key], {});\n",
              "          if (!dataTable) return;\n",
              "\n",
              "          const docLinkHtml = 'Like what you see? Visit the ' +\n",
              "            '<a target=\"_blank\" href=https://colab.research.google.com/notebooks/data_table.ipynb>data table notebook</a>'\n",
              "            + ' to learn more about interactive tables.';\n",
              "          element.innerHTML = '';\n",
              "          dataTable['output_type'] = 'display_data';\n",
              "          await google.colab.output.renderOutput(dataTable, element);\n",
              "          const docLink = document.createElement('div');\n",
              "          docLink.innerHTML = docLinkHtml;\n",
              "          element.appendChild(docLink);\n",
              "        }\n",
              "      </script>\n",
              "    </div>\n",
              "  </div>\n",
              "  "
            ]
          },
          "metadata": {},
          "execution_count": 84
        }
      ]
    },
    {
      "cell_type": "code",
      "source": [
        "df.shape"
      ],
      "metadata": {
        "colab": {
          "base_uri": "https://localhost:8080/"
        },
        "id": "Nk5pKfqiqAdC",
        "outputId": "ab82245e-cb5c-4c06-ccf7-929093689f3b"
      },
      "execution_count": 85,
      "outputs": [
        {
          "output_type": "execute_result",
          "data": {
            "text/plain": [
              "(769, 15)"
            ]
          },
          "metadata": {},
          "execution_count": 85
        }
      ]
    },
    {
      "cell_type": "code",
      "source": [
        "y_data = df[['latitude', 'longitude']]"
      ],
      "metadata": {
        "id": "wWi2EL6fALD_"
      },
      "execution_count": 86,
      "outputs": []
    },
    {
      "cell_type": "code",
      "execution_count": 87,
      "metadata": {
        "id": "cxs0-IV0AJ45"
      },
      "outputs": [],
      "source": [
        "df = spark.createDataFrame(df)\n",
        "data_rdd = df.rdd "
      ]
    },
    {
      "cell_type": "code",
      "source": [
        "data_rdd.take(2)"
      ],
      "metadata": {
        "colab": {
          "base_uri": "https://localhost:8080/"
        },
        "id": "7zSpbK9GYJvQ",
        "outputId": "dd6020f3-1070-4013-e6a2-6ede3f1eb2fb"
      },
      "execution_count": 88,
      "outputs": [
        {
          "output_type": "execute_result",
          "data": {
            "text/plain": [
              "[Row(number=21830, full_name='Шоколадница', some_value=637379839, state='да', short_name='Шоколадница', type='кафе', district='Центральный административный округ', area='Басманный район', full_address='город Москва, Бауманская улица, дом 33/2, строение 1', contact_number='(495) 916-57-62', some_value_2=48, state_2='нет', latitude=37.67868127689911, longitude=55.77302899555391, point='{type=Point, coordinates=[37.6786812768991, 55.7730289955539]}'),\n",
              " Row(number=22366, full_name='МУ-МУ', some_value=637379891, state='да', short_name='Му-Му', type='кафе', district='Центральный административный округ', area='Басманный район', full_address='город Москва, Бауманская улица, дом 35/1', contact_number='(499) 261-33-58', some_value_2=160, state_2='нет', latitude=37.678960226637, longitude=55.771586681103294, point='{type=Point, coordinates=[37.678960226637, 55.7715866811033]}')]"
            ]
          },
          "metadata": {},
          "execution_count": 88
        }
      ]
    },
    {
      "cell_type": "markdown",
      "source": [
        "![image.png](data:image/png;base64,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)"
      ],
      "metadata": {
        "id": "ZGVlzXXDOQW0"
      }
    },
    {
      "cell_type": "code",
      "source": [
        "import math\n",
        "lat2 = 55.751244\n",
        "lng2 = 37.618423\n",
        "def Gaversinus(lat1, lng1, lat2, lng2): \n",
        "  R = 6371 \n",
        "  lat = (lat2 - lat1) * (math.pi / 180)\n",
        "  lng = (lng2 - lng1) * (math.pi / 180)\n",
        "  rez = math.sin(lat / 2) * math.sin(lat / 2) + math.cos(lat1 * (math.pi / 180)) * math.cos(lat2 * (math.pi / 180)) * math.sin(lng / 2) * math.sin(lng / 2);\n",
        "  d = 2 * R * math.atan2(math.sqrt(rez), math.sqrt(1-rez));\n",
        "  return d\n",
        "\n",
        "data_map_rdd = data_rdd.map(lambda x: Gaversinus(x.latitude, x.longitude, lat2, lng2))\n",
        "data_map_rdd.take(10)"
      ],
      "metadata": {
        "colab": {
          "base_uri": "https://localhost:8080/"
        },
        "id": "HcSO4ysZZfEe",
        "outputId": "17722a83-2b04-43f7-8492-24cab10ebe6a"
      },
      "execution_count": 89,
      "outputs": [
        {
          "output_type": "execute_result",
          "data": {
            "text/plain": [
              "[2423.9586003529253,\n",
              " 2423.8713224352405,\n",
              " 2423.552916816269,\n",
              " 2425.210220142108,\n",
              " 2425.0612220743787,\n",
              " 2425.7289668735857,\n",
              " 2425.6672860001604,\n",
              " 2427.844132479675,\n",
              " 2427.844132479675,\n",
              " 2427.741802939873]"
            ]
          },
          "metadata": {},
          "execution_count": 89
        }
      ]
    },
    {
      "cell_type": "code",
      "source": [
        "def pair_wise(lat1, lng1): \n",
        "  dists = []\n",
        "  for y in y_data.values: \n",
        "    dists.append(Gaversinus(lat1, lng1, y[0], y[1]))\n",
        "  return dists\n",
        "\n",
        "data_map_rdd = data_rdd.map(lambda x: pair_wise(x.latitude, x.longitude))\n",
        "data_map_rdd.take(1)"
      ],
      "metadata": {
        "id": "d8gZ8RJFqQsj"
      },
      "execution_count": null,
      "outputs": []
    },
    {
      "cell_type": "code",
      "source": [
        "data_map_rdd = data_map_rdd.zipWithIndex()\n",
        "data_map_rdd.first()"
      ],
      "metadata": {
        "id": "WdEobJeuBa5h"
      },
      "execution_count": null,
      "outputs": []
    },
    {
      "cell_type": "code",
      "source": [
        "data_map_rdd_indexes = data_map_rdd.flatMap(lambda x: [(x[1], w, x[0][w]) for w in range(len(x[0]))])\n",
        "data_map_rdd_indexes.take(20) #индексы кафе и расстояния между ними"
      ],
      "metadata": {
        "colab": {
          "base_uri": "https://localhost:8080/"
        },
        "id": "OnV0MI7lx-DY",
        "outputId": "12500d22-d7cb-4873-a9b2-59f113388d87"
      },
      "execution_count": 92,
      "outputs": [
        {
          "output_type": "execute_result",
          "data": {
            "text/plain": [
              "[(0, 0, 0.0),\n",
              " (0, 1, 0.1306660469815309),\n",
              " (0, 2, 0.6745259533162232),\n",
              " (0, 3, 2.1193660657239612),\n",
              " (0, 4, 2.0022040350529697),\n",
              " (0, 5, 2.524038186727086),\n",
              " (0, 6, 2.434066442484399),\n",
              " (0, 7, 5.016245831835019),\n",
              " (0, 8, 5.016245831835019),\n",
              " (0, 9, 4.876102310152428),\n",
              " (0, 10, 4.880967075911933),\n",
              " (0, 11, 4.880967075911933),\n",
              " (0, 12, 4.845636716037473),\n",
              " (0, 13, 4.446625173772371),\n",
              " (0, 14, 4.5290340878199755),\n",
              " (0, 15, 4.47617577628091),\n",
              " (0, 16, 4.267568168068885),\n",
              " (0, 17, 3.5807823770695744),\n",
              " (0, 18, 5.217589246543922),\n",
              " (0, 19, 0.19273769121451886)]"
            ]
          },
          "metadata": {},
          "execution_count": 92
        }
      ]
    },
    {
      "cell_type": "code",
      "source": [
        "data_map_rdd_indexes = data_map_rdd_indexes.filter(lambda x: x[0] != x[1]) \n",
        "data_map_rdd_indexes.take(20)"
      ],
      "metadata": {
        "colab": {
          "base_uri": "https://localhost:8080/"
        },
        "id": "6r_oVKyfy39m",
        "outputId": "bab126ed-b3e4-42ed-885d-7aabd3c8950f"
      },
      "execution_count": 93,
      "outputs": [
        {
          "output_type": "execute_result",
          "data": {
            "text/plain": [
              "[(0, 1, 0.1306660469815309),\n",
              " (0, 2, 0.6745259533162232),\n",
              " (0, 3, 2.1193660657239612),\n",
              " (0, 4, 2.0022040350529697),\n",
              " (0, 5, 2.524038186727086),\n",
              " (0, 6, 2.434066442484399),\n",
              " (0, 7, 5.016245831835019),\n",
              " (0, 8, 5.016245831835019),\n",
              " (0, 9, 4.876102310152428),\n",
              " (0, 10, 4.880967075911933),\n",
              " (0, 11, 4.880967075911933),\n",
              " (0, 12, 4.845636716037473),\n",
              " (0, 13, 4.446625173772371),\n",
              " (0, 14, 4.5290340878199755),\n",
              " (0, 15, 4.47617577628091),\n",
              " (0, 16, 4.267568168068885),\n",
              " (0, 17, 3.5807823770695744),\n",
              " (0, 18, 5.217589246543922),\n",
              " (0, 19, 0.19273769121451886),\n",
              " (0, 20, 3.18713064112489)]"
            ]
          },
          "metadata": {},
          "execution_count": 93
        }
      ]
    },
    {
      "cell_type": "code",
      "source": [
        "data_rdd = data_rdd.zipWithIndex()"
      ],
      "metadata": {
        "id": "KKpgJNIs0XwU"
      },
      "execution_count": 94,
      "outputs": []
    },
    {
      "cell_type": "code",
      "source": [
        "data_map_rdd_sorted_ascending = data_map_rdd_indexes.sortBy(lambda x: x[2], ascending=True)\n",
        "data_map_rdd_sorted_ascending.take(10)"
      ],
      "metadata": {
        "colab": {
          "base_uri": "https://localhost:8080/"
        },
        "id": "tO9pr7A12Ccg",
        "outputId": "9d049609-d246-471c-ae90-be9d0176b59e"
      },
      "execution_count": 99,
      "outputs": [
        {
          "output_type": "execute_result",
          "data": {
            "text/plain": [
              "[(7, 8, 0.0),\n",
              " (7, 249, 0.0),\n",
              " (7, 289, 0.0),\n",
              " (8, 7, 0.0),\n",
              " (8, 249, 0.0),\n",
              " (8, 289, 0.0),\n",
              " (10, 11, 0.0),\n",
              " (11, 10, 0.0),\n",
              " (21, 22, 0.0),\n",
              " (22, 21, 0.0)]"
            ]
          },
          "metadata": {},
          "execution_count": 99
        }
      ]
    },
    {
      "cell_type": "code",
      "source": [
        "data_map_rdd_sorted_descending = data_map_rdd_indexes.sortBy(lambda x: x[2], ascending=False)\n",
        "data_map_rdd_sorted_descending.take(10)"
      ],
      "metadata": {
        "colab": {
          "base_uri": "https://localhost:8080/"
        },
        "id": "YuypU8b82br4",
        "outputId": "46502e15-13d9-4a5e-af58-faf99144c8f0"
      },
      "execution_count": 100,
      "outputs": [
        {
          "output_type": "execute_result",
          "data": {
            "text/plain": [
              "[(93, 360, 9.267171644327652),\n",
              " (93, 361, 9.267171644327652),\n",
              " (93, 362, 9.267171644327652),\n",
              " (93, 497, 9.267171644327652),\n",
              " (360, 93, 9.267171644327652),\n",
              " (361, 93, 9.267171644327652),\n",
              " (362, 93, 9.267171644327652),\n",
              " (497, 93, 9.267171644327652),\n",
              " (93, 105, 9.084024636560684),\n",
              " (105, 93, 9.084024636560684)]"
            ]
          },
          "metadata": {},
          "execution_count": 100
        }
      ]
    },
    {
      "cell_type": "code",
      "source": [
        "print('Топ 10 самых ближних кафе: ')\n",
        "count = 1\n",
        "for d in data_map_rdd_sorted_descending.take(10): \n",
        "  name1 = data_rdd.filter(lambda x: x[1] == d[0]).first()[0][1]\n",
        "  name2 = data_rdd.filter(lambda x: x[1] == d[1]).first()[0][1]\n",
        "  print(count, '--->', name1, 'и', name2)\n",
        "  count += 1\n",
        "print('Топ 10 самых далеких кафе: ')\n",
        "count = 1\n",
        "for d in data_map_rdd_sorted_ascending.take(10): \n",
        "  name1 = data_rdd.filter(lambda x: x[1] == d[0]).first()[0][1]\n",
        "  name2 = data_rdd.filter(lambda x: x[1] == d[1]).first()[0][1]\n",
        "  print(count, '--->', name1, 'и', name2)\n",
        "  count += 1"
      ],
      "metadata": {
        "colab": {
          "base_uri": "https://localhost:8080/"
        },
        "id": "dUYl_WxlydP8",
        "outputId": "f32ab26c-e1ba-4bec-e7e5-7b6b1adf925b"
      },
      "execution_count": 102,
      "outputs": [
        {
          "output_type": "stream",
          "name": "stdout",
          "text": [
            "Топ 10 самых ближних кафе: \n",
            "1 ---> МНИТИ и Calabash Club\n",
            "2 ---> МНИТИ и Залечь на дно\n",
            "3 ---> МНИТИ и Политех\n",
            "4 ---> МНИТИ и Антикафе Checkpoint\n",
            "5 ---> Calabash Club и МНИТИ\n",
            "6 ---> Залечь на дно и МНИТИ\n",
            "7 ---> Политех и МНИТИ\n",
            "8 ---> Антикафе Checkpoint и МНИТИ\n",
            "9 ---> МНИТИ и Шоколадница\n",
            "10 ---> Шоколадница и МНИТИ\n",
            "Топ 10 самых далеких кафе: \n",
            "1 ---> Beer Gik и Погребок\n",
            "2 ---> Beer Gik и Kozlovna\n",
            "3 ---> Beer Gik и Па-Паэлья\n",
            "4 ---> Погребок и Beer Gik\n",
            "5 ---> Погребок и Kozlovna\n",
            "6 ---> Погребок и Па-Паэлья\n",
            "7 ---> TEMPO DI PASTA и Хлеб насущный\n",
            "8 ---> Хлеб насущный и TEMPO DI PASTA\n",
            "9 ---> Глав Пив Маг и Beermood\n",
            "10 ---> Beermood и Глав Пив Маг\n"
          ]
        }
      ]
    },
    {
      "cell_type": "markdown",
      "source": [
        "# 2 задание"
      ],
      "metadata": {
        "id": "Z3tYY-XHK0ZZ"
      }
    },
    {
      "cell_type": "code",
      "source": [
        "!wget --no-check-certificate https://jmcauley.ucsd.edu/data/amazon_v2/categoryFilesSmall/Software_5.json.gz"
      ],
      "metadata": {
        "colab": {
          "base_uri": "https://localhost:8080/"
        },
        "id": "bW9tKKkaI5dZ",
        "outputId": "ddd37a42-71aa-4c19-a845-06b56e824611"
      },
      "execution_count": null,
      "outputs": [
        {
          "output_type": "stream",
          "name": "stdout",
          "text": [
            "--2023-05-27 12:21:51--  https://jmcauley.ucsd.edu/data/amazon_v2/categoryFilesSmall/Software_5.json.gz\n",
            "Resolving jmcauley.ucsd.edu (jmcauley.ucsd.edu)... 137.110.160.73\n",
            "Connecting to jmcauley.ucsd.edu (jmcauley.ucsd.edu)|137.110.160.73|:443... connected.\n",
            "WARNING: cannot verify jmcauley.ucsd.edu's certificate, issued by ‘CN=InCommon RSA Server CA,OU=InCommon,O=Internet2,L=Ann Arbor,ST=MI,C=US’:\n",
            "  Unable to locally verify the issuer's authority.\n",
            "HTTP request sent, awaiting response... 200 OK\n",
            "Length: 5339013 (5.1M) [application/x-gzip]\n",
            "Saving to: ‘Software_5.json.gz’\n",
            "\n",
            "Software_5.json.gz  100%[===================>]   5.09M  21.9MB/s    in 0.2s    \n",
            "\n",
            "2023-05-27 12:21:51 (21.9 MB/s) - ‘Software_5.json.gz’ saved [5339013/5339013]\n",
            "\n",
            "tar (child): /Software_5.json.gz: Cannot open: No such file or directory\n",
            "tar (child): Error is not recoverable: exiting now\n",
            "tar: Child returned status 2\n",
            "tar: Error is not recoverable: exiting now\n"
          ]
        }
      ]
    },
    {
      "cell_type": "code",
      "source": [
        "import pandas as pd\n",
        "import gzip\n",
        "import json\n",
        "\n",
        "def parse(path):\n",
        "  g = gzip.open(path, 'rb')\n",
        "  for l in g:\n",
        "    yield json.loads(l)\n",
        "\n",
        "def getDF(path):\n",
        "  i = 0\n",
        "  df = {}\n",
        "  for d in parse(path):\n",
        "    df[i] = d\n",
        "    i += 1\n",
        "  return pd.DataFrame.from_dict(df, orient='index')\n",
        "\n",
        "df = getDF('Software_5.json.gz')\n",
        "df.head()"
      ],
      "metadata": {
        "colab": {
          "base_uri": "https://localhost:8080/",
          "height": 206
        },
        "id": "A7O1UEngKper",
        "outputId": "37229b2d-a016-4ae0-9744-24a00210a154"
      },
      "execution_count": null,
      "outputs": [
        {
          "output_type": "execute_result",
          "data": {
            "text/plain": [
              "   overall  verified   reviewTime      reviewerID        asin  \\\n",
              "0      4.0     False  10 20, 2010  A38NELQT98S4H8  0321719816   \n",
              "1      4.0     False  10 18, 2010  A3QJU4FEN8PQSZ  0321719816   \n",
              "2      5.0     False  10 16, 2010   ACJT8MUC0LRF0  0321719816   \n",
              "3      5.0     False  10 12, 2010   AYUF7YETYOLNX  0321719816   \n",
              "4      5.0     False   10 7, 2010  A31ICLWQ9CSHRS  0321719816   \n",
              "\n",
              "                     style  reviewerName  \\\n",
              "0  {'Format:': ' DVD-ROM'}     WB Halper   \n",
              "1  {'Format:': ' DVD-ROM'}        Grimmy   \n",
              "2  {'Format:': ' DVD-ROM'}     D. Fowler   \n",
              "3  {'Format:': ' DVD-ROM'}  Bryan Newman   \n",
              "4  {'Format:': ' DVD-ROM'}    Al Swanson   \n",
              "\n",
              "                                          reviewText  \\\n",
              "0  I've been using Dreamweaver (and it's predeces...   \n",
              "1  The demo is done with the PC version, with ref...   \n",
              "2  If you've been wanting to learn how to create ...   \n",
              "3  I've been creating websites with Dreamweaver f...   \n",
              "4  I decided (after trying a number of other prod...   \n",
              "\n",
              "                                             summary  unixReviewTime vote  \\\n",
              "0                A solid overview of Dreamweaver CS5      1287532800  NaN   \n",
              "1                                       A good value      1287360000  NaN   \n",
              "2  This is excellent software for those who want ...      1287187200    3   \n",
              "3  A Fantastic Overview of Dream Weaver and Web D...      1286841600  NaN   \n",
              "4                               Excellent Tutorials!      1286409600  NaN   \n",
              "\n",
              "  image  \n",
              "0   NaN  \n",
              "1   NaN  \n",
              "2   NaN  \n",
              "3   NaN  \n",
              "4   NaN  "
            ],
            "text/html": [
              "\n",
              "  <div id=\"df-7d8320cd-5b85-484b-89a9-9967213f20c3\">\n",
              "    <div class=\"colab-df-container\">\n",
              "      <div>\n",
              "<style scoped>\n",
              "    .dataframe tbody tr th:only-of-type {\n",
              "        vertical-align: middle;\n",
              "    }\n",
              "\n",
              "    .dataframe tbody tr th {\n",
              "        vertical-align: top;\n",
              "    }\n",
              "\n",
              "    .dataframe thead th {\n",
              "        text-align: right;\n",
              "    }\n",
              "</style>\n",
              "<table border=\"1\" class=\"dataframe\">\n",
              "  <thead>\n",
              "    <tr style=\"text-align: right;\">\n",
              "      <th></th>\n",
              "      <th>overall</th>\n",
              "      <th>verified</th>\n",
              "      <th>reviewTime</th>\n",
              "      <th>reviewerID</th>\n",
              "      <th>asin</th>\n",
              "      <th>style</th>\n",
              "      <th>reviewerName</th>\n",
              "      <th>reviewText</th>\n",
              "      <th>summary</th>\n",
              "      <th>unixReviewTime</th>\n",
              "      <th>vote</th>\n",
              "      <th>image</th>\n",
              "    </tr>\n",
              "  </thead>\n",
              "  <tbody>\n",
              "    <tr>\n",
              "      <th>0</th>\n",
              "      <td>4.0</td>\n",
              "      <td>False</td>\n",
              "      <td>10 20, 2010</td>\n",
              "      <td>A38NELQT98S4H8</td>\n",
              "      <td>0321719816</td>\n",
              "      <td>{'Format:': ' DVD-ROM'}</td>\n",
              "      <td>WB Halper</td>\n",
              "      <td>I've been using Dreamweaver (and it's predeces...</td>\n",
              "      <td>A solid overview of Dreamweaver CS5</td>\n",
              "      <td>1287532800</td>\n",
              "      <td>NaN</td>\n",
              "      <td>NaN</td>\n",
              "    </tr>\n",
              "    <tr>\n",
              "      <th>1</th>\n",
              "      <td>4.0</td>\n",
              "      <td>False</td>\n",
              "      <td>10 18, 2010</td>\n",
              "      <td>A3QJU4FEN8PQSZ</td>\n",
              "      <td>0321719816</td>\n",
              "      <td>{'Format:': ' DVD-ROM'}</td>\n",
              "      <td>Grimmy</td>\n",
              "      <td>The demo is done with the PC version, with ref...</td>\n",
              "      <td>A good value</td>\n",
              "      <td>1287360000</td>\n",
              "      <td>NaN</td>\n",
              "      <td>NaN</td>\n",
              "    </tr>\n",
              "    <tr>\n",
              "      <th>2</th>\n",
              "      <td>5.0</td>\n",
              "      <td>False</td>\n",
              "      <td>10 16, 2010</td>\n",
              "      <td>ACJT8MUC0LRF0</td>\n",
              "      <td>0321719816</td>\n",
              "      <td>{'Format:': ' DVD-ROM'}</td>\n",
              "      <td>D. Fowler</td>\n",
              "      <td>If you've been wanting to learn how to create ...</td>\n",
              "      <td>This is excellent software for those who want ...</td>\n",
              "      <td>1287187200</td>\n",
              "      <td>3</td>\n",
              "      <td>NaN</td>\n",
              "    </tr>\n",
              "    <tr>\n",
              "      <th>3</th>\n",
              "      <td>5.0</td>\n",
              "      <td>False</td>\n",
              "      <td>10 12, 2010</td>\n",
              "      <td>AYUF7YETYOLNX</td>\n",
              "      <td>0321719816</td>\n",
              "      <td>{'Format:': ' DVD-ROM'}</td>\n",
              "      <td>Bryan Newman</td>\n",
              "      <td>I've been creating websites with Dreamweaver f...</td>\n",
              "      <td>A Fantastic Overview of Dream Weaver and Web D...</td>\n",
              "      <td>1286841600</td>\n",
              "      <td>NaN</td>\n",
              "      <td>NaN</td>\n",
              "    </tr>\n",
              "    <tr>\n",
              "      <th>4</th>\n",
              "      <td>5.0</td>\n",
              "      <td>False</td>\n",
              "      <td>10 7, 2010</td>\n",
              "      <td>A31ICLWQ9CSHRS</td>\n",
              "      <td>0321719816</td>\n",
              "      <td>{'Format:': ' DVD-ROM'}</td>\n",
              "      <td>Al Swanson</td>\n",
              "      <td>I decided (after trying a number of other prod...</td>\n",
              "      <td>Excellent Tutorials!</td>\n",
              "      <td>1286409600</td>\n",
              "      <td>NaN</td>\n",
              "      <td>NaN</td>\n",
              "    </tr>\n",
              "  </tbody>\n",
              "</table>\n",
              "</div>\n",
              "      <button class=\"colab-df-convert\" onclick=\"convertToInteractive('df-7d8320cd-5b85-484b-89a9-9967213f20c3')\"\n",
              "              title=\"Convert this dataframe to an interactive table.\"\n",
              "              style=\"display:none;\">\n",
              "        \n",
              "  <svg xmlns=\"http://www.w3.org/2000/svg\" height=\"24px\"viewBox=\"0 0 24 24\"\n",
              "       width=\"24px\">\n",
              "    <path d=\"M0 0h24v24H0V0z\" fill=\"none\"/>\n",
              "    <path d=\"M18.56 5.44l.94 2.06.94-2.06 2.06-.94-2.06-.94-.94-2.06-.94 2.06-2.06.94zm-11 1L8.5 8.5l.94-2.06 2.06-.94-2.06-.94L8.5 2.5l-.94 2.06-2.06.94zm10 10l.94 2.06.94-2.06 2.06-.94-2.06-.94-.94-2.06-.94 2.06-2.06.94z\"/><path d=\"M17.41 7.96l-1.37-1.37c-.4-.4-.92-.59-1.43-.59-.52 0-1.04.2-1.43.59L10.3 9.45l-7.72 7.72c-.78.78-.78 2.05 0 2.83L4 21.41c.39.39.9.59 1.41.59.51 0 1.02-.2 1.41-.59l7.78-7.78 2.81-2.81c.8-.78.8-2.07 0-2.86zM5.41 20L4 18.59l7.72-7.72 1.47 1.35L5.41 20z\"/>\n",
              "  </svg>\n",
              "      </button>\n",
              "      \n",
              "  <style>\n",
              "    .colab-df-container {\n",
              "      display:flex;\n",
              "      flex-wrap:wrap;\n",
              "      gap: 12px;\n",
              "    }\n",
              "\n",
              "    .colab-df-convert {\n",
              "      background-color: #E8F0FE;\n",
              "      border: none;\n",
              "      border-radius: 50%;\n",
              "      cursor: pointer;\n",
              "      display: none;\n",
              "      fill: #1967D2;\n",
              "      height: 32px;\n",
              "      padding: 0 0 0 0;\n",
              "      width: 32px;\n",
              "    }\n",
              "\n",
              "    .colab-df-convert:hover {\n",
              "      background-color: #E2EBFA;\n",
              "      box-shadow: 0px 1px 2px rgba(60, 64, 67, 0.3), 0px 1px 3px 1px rgba(60, 64, 67, 0.15);\n",
              "      fill: #174EA6;\n",
              "    }\n",
              "\n",
              "    [theme=dark] .colab-df-convert {\n",
              "      background-color: #3B4455;\n",
              "      fill: #D2E3FC;\n",
              "    }\n",
              "\n",
              "    [theme=dark] .colab-df-convert:hover {\n",
              "      background-color: #434B5C;\n",
              "      box-shadow: 0px 1px 3px 1px rgba(0, 0, 0, 0.15);\n",
              "      filter: drop-shadow(0px 1px 2px rgba(0, 0, 0, 0.3));\n",
              "      fill: #FFFFFF;\n",
              "    }\n",
              "  </style>\n",
              "\n",
              "      <script>\n",
              "        const buttonEl =\n",
              "          document.querySelector('#df-7d8320cd-5b85-484b-89a9-9967213f20c3 button.colab-df-convert');\n",
              "        buttonEl.style.display =\n",
              "          google.colab.kernel.accessAllowed ? 'block' : 'none';\n",
              "\n",
              "        async function convertToInteractive(key) {\n",
              "          const element = document.querySelector('#df-7d8320cd-5b85-484b-89a9-9967213f20c3');\n",
              "          const dataTable =\n",
              "            await google.colab.kernel.invokeFunction('convertToInteractive',\n",
              "                                                     [key], {});\n",
              "          if (!dataTable) return;\n",
              "\n",
              "          const docLinkHtml = 'Like what you see? Visit the ' +\n",
              "            '<a target=\"_blank\" href=https://colab.research.google.com/notebooks/data_table.ipynb>data table notebook</a>'\n",
              "            + ' to learn more about interactive tables.';\n",
              "          element.innerHTML = '';\n",
              "          dataTable['output_type'] = 'display_data';\n",
              "          await google.colab.output.renderOutput(dataTable, element);\n",
              "          const docLink = document.createElement('div');\n",
              "          docLink.innerHTML = docLinkHtml;\n",
              "          element.appendChild(docLink);\n",
              "        }\n",
              "      </script>\n",
              "    </div>\n",
              "  </div>\n",
              "  "
            ]
          },
          "metadata": {},
          "execution_count": 36
        }
      ]
    },
    {
      "cell_type": "code",
      "source": [
        "df = df[['overall', 'asin', 'reviewerName', 'reviewText', 'summary']]\n",
        "df.head()"
      ],
      "metadata": {
        "colab": {
          "base_uri": "https://localhost:8080/",
          "height": 206
        },
        "id": "WIk1M5l3P3ql",
        "outputId": "b47938f9-930e-4464-acd9-25c2a64999b3"
      },
      "execution_count": null,
      "outputs": [
        {
          "output_type": "execute_result",
          "data": {
            "text/plain": [
              "   overall        asin  reviewerName  \\\n",
              "0      4.0  0321719816     WB Halper   \n",
              "1      4.0  0321719816        Grimmy   \n",
              "2      5.0  0321719816     D. Fowler   \n",
              "3      5.0  0321719816  Bryan Newman   \n",
              "4      5.0  0321719816    Al Swanson   \n",
              "\n",
              "                                          reviewText  \\\n",
              "0  I've been using Dreamweaver (and it's predeces...   \n",
              "1  The demo is done with the PC version, with ref...   \n",
              "2  If you've been wanting to learn how to create ...   \n",
              "3  I've been creating websites with Dreamweaver f...   \n",
              "4  I decided (after trying a number of other prod...   \n",
              "\n",
              "                                             summary  \n",
              "0                A solid overview of Dreamweaver CS5  \n",
              "1                                       A good value  \n",
              "2  This is excellent software for those who want ...  \n",
              "3  A Fantastic Overview of Dream Weaver and Web D...  \n",
              "4                               Excellent Tutorials!  "
            ],
            "text/html": [
              "\n",
              "  <div id=\"df-e2b25659-3cc4-4f82-8af2-e664ade79aac\">\n",
              "    <div class=\"colab-df-container\">\n",
              "      <div>\n",
              "<style scoped>\n",
              "    .dataframe tbody tr th:only-of-type {\n",
              "        vertical-align: middle;\n",
              "    }\n",
              "\n",
              "    .dataframe tbody tr th {\n",
              "        vertical-align: top;\n",
              "    }\n",
              "\n",
              "    .dataframe thead th {\n",
              "        text-align: right;\n",
              "    }\n",
              "</style>\n",
              "<table border=\"1\" class=\"dataframe\">\n",
              "  <thead>\n",
              "    <tr style=\"text-align: right;\">\n",
              "      <th></th>\n",
              "      <th>overall</th>\n",
              "      <th>asin</th>\n",
              "      <th>reviewerName</th>\n",
              "      <th>reviewText</th>\n",
              "      <th>summary</th>\n",
              "    </tr>\n",
              "  </thead>\n",
              "  <tbody>\n",
              "    <tr>\n",
              "      <th>0</th>\n",
              "      <td>4.0</td>\n",
              "      <td>0321719816</td>\n",
              "      <td>WB Halper</td>\n",
              "      <td>I've been using Dreamweaver (and it's predeces...</td>\n",
              "      <td>A solid overview of Dreamweaver CS5</td>\n",
              "    </tr>\n",
              "    <tr>\n",
              "      <th>1</th>\n",
              "      <td>4.0</td>\n",
              "      <td>0321719816</td>\n",
              "      <td>Grimmy</td>\n",
              "      <td>The demo is done with the PC version, with ref...</td>\n",
              "      <td>A good value</td>\n",
              "    </tr>\n",
              "    <tr>\n",
              "      <th>2</th>\n",
              "      <td>5.0</td>\n",
              "      <td>0321719816</td>\n",
              "      <td>D. Fowler</td>\n",
              "      <td>If you've been wanting to learn how to create ...</td>\n",
              "      <td>This is excellent software for those who want ...</td>\n",
              "    </tr>\n",
              "    <tr>\n",
              "      <th>3</th>\n",
              "      <td>5.0</td>\n",
              "      <td>0321719816</td>\n",
              "      <td>Bryan Newman</td>\n",
              "      <td>I've been creating websites with Dreamweaver f...</td>\n",
              "      <td>A Fantastic Overview of Dream Weaver and Web D...</td>\n",
              "    </tr>\n",
              "    <tr>\n",
              "      <th>4</th>\n",
              "      <td>5.0</td>\n",
              "      <td>0321719816</td>\n",
              "      <td>Al Swanson</td>\n",
              "      <td>I decided (after trying a number of other prod...</td>\n",
              "      <td>Excellent Tutorials!</td>\n",
              "    </tr>\n",
              "  </tbody>\n",
              "</table>\n",
              "</div>\n",
              "      <button class=\"colab-df-convert\" onclick=\"convertToInteractive('df-e2b25659-3cc4-4f82-8af2-e664ade79aac')\"\n",
              "              title=\"Convert this dataframe to an interactive table.\"\n",
              "              style=\"display:none;\">\n",
              "        \n",
              "  <svg xmlns=\"http://www.w3.org/2000/svg\" height=\"24px\"viewBox=\"0 0 24 24\"\n",
              "       width=\"24px\">\n",
              "    <path d=\"M0 0h24v24H0V0z\" fill=\"none\"/>\n",
              "    <path d=\"M18.56 5.44l.94 2.06.94-2.06 2.06-.94-2.06-.94-.94-2.06-.94 2.06-2.06.94zm-11 1L8.5 8.5l.94-2.06 2.06-.94-2.06-.94L8.5 2.5l-.94 2.06-2.06.94zm10 10l.94 2.06.94-2.06 2.06-.94-2.06-.94-.94-2.06-.94 2.06-2.06.94z\"/><path d=\"M17.41 7.96l-1.37-1.37c-.4-.4-.92-.59-1.43-.59-.52 0-1.04.2-1.43.59L10.3 9.45l-7.72 7.72c-.78.78-.78 2.05 0 2.83L4 21.41c.39.39.9.59 1.41.59.51 0 1.02-.2 1.41-.59l7.78-7.78 2.81-2.81c.8-.78.8-2.07 0-2.86zM5.41 20L4 18.59l7.72-7.72 1.47 1.35L5.41 20z\"/>\n",
              "  </svg>\n",
              "      </button>\n",
              "      \n",
              "  <style>\n",
              "    .colab-df-container {\n",
              "      display:flex;\n",
              "      flex-wrap:wrap;\n",
              "      gap: 12px;\n",
              "    }\n",
              "\n",
              "    .colab-df-convert {\n",
              "      background-color: #E8F0FE;\n",
              "      border: none;\n",
              "      border-radius: 50%;\n",
              "      cursor: pointer;\n",
              "      display: none;\n",
              "      fill: #1967D2;\n",
              "      height: 32px;\n",
              "      padding: 0 0 0 0;\n",
              "      width: 32px;\n",
              "    }\n",
              "\n",
              "    .colab-df-convert:hover {\n",
              "      background-color: #E2EBFA;\n",
              "      box-shadow: 0px 1px 2px rgba(60, 64, 67, 0.3), 0px 1px 3px 1px rgba(60, 64, 67, 0.15);\n",
              "      fill: #174EA6;\n",
              "    }\n",
              "\n",
              "    [theme=dark] .colab-df-convert {\n",
              "      background-color: #3B4455;\n",
              "      fill: #D2E3FC;\n",
              "    }\n",
              "\n",
              "    [theme=dark] .colab-df-convert:hover {\n",
              "      background-color: #434B5C;\n",
              "      box-shadow: 0px 1px 3px 1px rgba(0, 0, 0, 0.15);\n",
              "      filter: drop-shadow(0px 1px 2px rgba(0, 0, 0, 0.3));\n",
              "      fill: #FFFFFF;\n",
              "    }\n",
              "  </style>\n",
              "\n",
              "      <script>\n",
              "        const buttonEl =\n",
              "          document.querySelector('#df-e2b25659-3cc4-4f82-8af2-e664ade79aac button.colab-df-convert');\n",
              "        buttonEl.style.display =\n",
              "          google.colab.kernel.accessAllowed ? 'block' : 'none';\n",
              "\n",
              "        async function convertToInteractive(key) {\n",
              "          const element = document.querySelector('#df-e2b25659-3cc4-4f82-8af2-e664ade79aac');\n",
              "          const dataTable =\n",
              "            await google.colab.kernel.invokeFunction('convertToInteractive',\n",
              "                                                     [key], {});\n",
              "          if (!dataTable) return;\n",
              "\n",
              "          const docLinkHtml = 'Like what you see? Visit the ' +\n",
              "            '<a target=\"_blank\" href=https://colab.research.google.com/notebooks/data_table.ipynb>data table notebook</a>'\n",
              "            + ' to learn more about interactive tables.';\n",
              "          element.innerHTML = '';\n",
              "          dataTable['output_type'] = 'display_data';\n",
              "          await google.colab.output.renderOutput(dataTable, element);\n",
              "          const docLink = document.createElement('div');\n",
              "          docLink.innerHTML = docLinkHtml;\n",
              "          element.appendChild(docLink);\n",
              "        }\n",
              "      </script>\n",
              "    </div>\n",
              "  </div>\n",
              "  "
            ]
          },
          "metadata": {},
          "execution_count": 39
        }
      ]
    },
    {
      "cell_type": "code",
      "source": [
        "print(\"Before dropna:\", df.shape)\n",
        "df = df.dropna()\n",
        "print(\"After dropna:\", df.shape)"
      ],
      "metadata": {
        "colab": {
          "base_uri": "https://localhost:8080/"
        },
        "id": "Tb8HE4F7M9_e",
        "outputId": "8fe31bf9-97a9-4256-ff0e-4cd4398b0553"
      },
      "execution_count": null,
      "outputs": [
        {
          "output_type": "stream",
          "name": "stdout",
          "text": [
            "Before dropna: (12805, 5)\n",
            "After dropna: (12789, 5)\n"
          ]
        }
      ]
    },
    {
      "cell_type": "code",
      "source": [
        "spark_df = spark.createDataFrame(df)\n",
        "print(spark_df.printSchema())\n",
        "print(spark_df.show(truncate=False))\n",
        "data_rdd = spark_df.rdd \n",
        "print(data_rdd.first())"
      ],
      "metadata": {
        "colab": {
          "base_uri": "https://localhost:8080/"
        },
        "id": "YCXRK7kRMH6I",
        "outputId": "83ddddcc-d0ea-4dd9-88a3-94b17f82818e"
      },
      "execution_count": null,
      "outputs": [
        {
          "output_type": "stream",
          "name": "stdout",
          "text": [
            "root\n",
            " |-- overall: double (nullable = true)\n",
            " |-- asin: string (nullable = true)\n",
            " |-- reviewerName: string (nullable = true)\n",
            " |-- reviewText: string (nullable = true)\n",
            " |-- summary: string (nullable = true)\n",
            "\n",
            "None\n",
            "+-------+----------+------------------+----------------------------------------------------------------------------------------------------------------------------------------------------------------------------------------------------------------------------------------------------------------------------------------------------------------------------------------------------------------------------------------------------------------------------------------------------------------------------------------------------------------------------------------------------------------------------------------------------------------------------------------------------------------------------------------------------------------------------------------------------------------------------------------------------------------------------------------------------------------------------------------------------------------------------------------------------------------------------------------------------------------------------------------------------------------------------------------------------------------------------------------------------------------------------------------------------------------------------------------------------------------------------------------------------------------------------------------------------------------------------------------------------------------------------------------------------------------------------------------------------------------------------------------------------------------------------------------------------------------------------------------------------------------------------------------------------------------------------------------------------------------------------------------------------------------------------------------------------------------------------------------------------------------------------------------------------------------------------------------------------------------------------------------------------------------------------------------------------------------------------------------------------------------------------------------------------------------------------------------------------------------------------------------------------------------------------------------------------------------------------------------------------------------------------------------------------------------------------------------------------------------------------------------------------------------------------------------------------------------------------------------------------------------------------------------------------------------------------------------------------------------------------------------------------------------------------------------------------------------------------------------------------------------------------------------------------------------------------------------------------------------------------------------------------------------------------------------------------------------------------------------------------------------------------------------------------------------------------------------------------------------------------------------------------------------------------------------------------------------------------------------------------------------------------------------------------------------------------------------------------------------------------------------------------------------------------------------------------------------------------------------------------------------------------------------------------------------------------------------------------------------------------------------------------------------------------------------------------------------------------------------------------------------------------------------------------------------------------------------------------------------------------------------------------------------------------------------------------------------------------------------------------------------------------------------------------------------------------------------------------------------------------------------------------------------------------------------------------------------------------------------------------------------------------------------------------------------------------------------------------------------------------------------------------------------------------------------------------------------------------------------------------------------------------------------------------------------------------------------------------------------------------------------------------------------------------------------------------------------------------------------------------------------------------------------------------------------------------------------------------------------------------------------------------------------------------------------------------------------------------------------------------------------------------------------------------------------------------------------------------------------------------------------------------------------------------------------------------------------------------------------------------------------------------------------------------------------------------------------------------------------------------------------------------------------------------------------------------------------------------------------------------------------------------------------------------------------------------------------------------------------------------------------------------------------------------------------------------------------------------------------------------------------------------------------------------------------------------------------------------------------------------------------------------------------------------------------------------------------------------------------------------------------------------------------------------------------------------------------------------------------------------------------------------------------------------------------------------------------------------------------------------------------------------------------------------------------------------------------------------------------------------------------------------------------------------------------------------------------------------------------------------------------------------------------------------------------------------------------------------------------------------------------------------------------------------------------------------------------------------------------------------------------------------------------------------------------------------------------------------------------------------------------------------------------------------------------------------------------------------------------------------------------------------------------------------------------------------------------------------------------------------------------------------------------------------------------------------------------------------------------------------------------------------------------------------------------------------------------------------------------------------------------------------------------------------------------------------------------------------------------------------------------------------------------------------------------------------------------------------------------------------------------------------------------------------------------------------------------------------------------------------------------------------------------------------------------------------------------------------------------------------------------------------------------------------------------------------------------------------------------------------------------------------------------------------------------------------------------------------------------------------------------------------------------------------------------------------------------------------------------------------------------------------------------------------------------------------------------------------------------------------------------------------------------------------------------------------------------------------------------------------------------------------------------------------------------------------------------------------------------------------------------------------+------------------------------------------------------------------------------------------------------------------------------+\n",
            "|overall|asin      |reviewerName      |reviewText                                                                                                                                                                                                                                                                                                                                                                                                                                                                                                                                                                                                                                                                                                                                                                                                                                                                                                                                                                                                                                                                                                                                                                                                                                                                                                                                                                                                                                                                                                                                                                                                                                                                                                                                                                                                                                                                                                                                                                                                                                                                                                                                                                                                                                                                                                                                                                                                                                                                                                                                                                                                                                                                                                                                                                                                                                                                                                                                                                                                                                                                                                                                                                                                                                                                                                                                                                                                                                                                                                                                                                                                                                                                                                                                                                                                                                                                                                                                                                                                                                                                                                                                                                                                                                                                                                                                                                                                                                                                                                                                                                                                                                                                                                                                                                                                                                                                                                                                                                                                                                                                                                                                                                                                                                                                                                                                                                                                                                                                                                                                                                                                                                                                                                                                                                                                                                                                                                                                                                                                                                                                                                                                                                                                                                                                                                                                                                                                                                                                                                                                                                                                                                                                                                                                                                                                                                                                                                                                                                                                                                                                                                                                                                                                                                                                                                                                                                                                                                                                                                                                                                                                                                                                                                                                                                                                                                                                                                                                                                                                                                                                                                                                                                                                                                                                                                                                                                                                                                                                                                                                                                                                                                                                                                                                                                                          |summary                                                                                                                       |\n",
            "+-------+----------+------------------+----------------------------------------------------------------------------------------------------------------------------------------------------------------------------------------------------------------------------------------------------------------------------------------------------------------------------------------------------------------------------------------------------------------------------------------------------------------------------------------------------------------------------------------------------------------------------------------------------------------------------------------------------------------------------------------------------------------------------------------------------------------------------------------------------------------------------------------------------------------------------------------------------------------------------------------------------------------------------------------------------------------------------------------------------------------------------------------------------------------------------------------------------------------------------------------------------------------------------------------------------------------------------------------------------------------------------------------------------------------------------------------------------------------------------------------------------------------------------------------------------------------------------------------------------------------------------------------------------------------------------------------------------------------------------------------------------------------------------------------------------------------------------------------------------------------------------------------------------------------------------------------------------------------------------------------------------------------------------------------------------------------------------------------------------------------------------------------------------------------------------------------------------------------------------------------------------------------------------------------------------------------------------------------------------------------------------------------------------------------------------------------------------------------------------------------------------------------------------------------------------------------------------------------------------------------------------------------------------------------------------------------------------------------------------------------------------------------------------------------------------------------------------------------------------------------------------------------------------------------------------------------------------------------------------------------------------------------------------------------------------------------------------------------------------------------------------------------------------------------------------------------------------------------------------------------------------------------------------------------------------------------------------------------------------------------------------------------------------------------------------------------------------------------------------------------------------------------------------------------------------------------------------------------------------------------------------------------------------------------------------------------------------------------------------------------------------------------------------------------------------------------------------------------------------------------------------------------------------------------------------------------------------------------------------------------------------------------------------------------------------------------------------------------------------------------------------------------------------------------------------------------------------------------------------------------------------------------------------------------------------------------------------------------------------------------------------------------------------------------------------------------------------------------------------------------------------------------------------------------------------------------------------------------------------------------------------------------------------------------------------------------------------------------------------------------------------------------------------------------------------------------------------------------------------------------------------------------------------------------------------------------------------------------------------------------------------------------------------------------------------------------------------------------------------------------------------------------------------------------------------------------------------------------------------------------------------------------------------------------------------------------------------------------------------------------------------------------------------------------------------------------------------------------------------------------------------------------------------------------------------------------------------------------------------------------------------------------------------------------------------------------------------------------------------------------------------------------------------------------------------------------------------------------------------------------------------------------------------------------------------------------------------------------------------------------------------------------------------------------------------------------------------------------------------------------------------------------------------------------------------------------------------------------------------------------------------------------------------------------------------------------------------------------------------------------------------------------------------------------------------------------------------------------------------------------------------------------------------------------------------------------------------------------------------------------------------------------------------------------------------------------------------------------------------------------------------------------------------------------------------------------------------------------------------------------------------------------------------------------------------------------------------------------------------------------------------------------------------------------------------------------------------------------------------------------------------------------------------------------------------------------------------------------------------------------------------------------------------------------------------------------------------------------------------------------------------------------------------------------------------------------------------------------------------------------------------------------------------------------------------------------------------------------------------------------------------------------------------------------------------------------------------------------------------------------------------------------------------------------------------------------------------------------------------------------------------------------------------------------------------------------------------------------------------------------------------------------------------------------------------------------------------------------------------------------------------------------------------------------------------------------------------------------------------------------------------------------------------------------------------------------------------------------------------------------------------------------------------------------------------------------------------------------------------------------------------------------------------------------------------------------------------------------------------------------------------------------------------------------------------------------------------------------------------------------------------------------------------------------------------------------------------------------------------+------------------------------------------------------------------------------------------------------------------------------+\n",
            "|4.0    |0321719816|WB Halper         |I've been using Dreamweaver (and it's predecessor Macromedia's UltraDev) for many years.  For someone who is an experienced web designer, this course is a high-level review of the CS5 version of Dreamweaver, but it doesn't go into a great enough level of detail to find it very useful.\\n\\nOn the other hand, this is a great tool for someone who is a relative novice at web design.  It starts off with a basic overview of HTML and continues through the concepts necessary to build a modern web site.  Someone who goes through this course should exit with enough knowledge to create something that does what you want it do do...within reason.  Don't expect to go off and build an entire e-commerce system with only this class under your belt.\\n\\nIt's important to note that there's a long gap from site design to actual implementation.  This course teaches you how to implement a design.  The user interface and overall user experience is a different subject that isn't covered here...it's possible to do a great implementation of an absolutely abysmal design.  I speak from experience.  :)\\n\\nAs I said above, if you're a novice, a relative newcomer or just an experienced web designer who wants a refresher course, this is a good way to do it.                                                                                                                                                                                                                                                                                                                                                                                                                                                                                                                                                                                                                                                                                                                                                                                                                                                                                                                                                                                                                                                                                                                                                                                                                                                                                                                                                                                                                                                                                                                                                                                                                                                                                                                                                                                                                                                                                                                                                                                                                                                                                                                                                                                                                                                                                                                                                                                                                                                                                                                                                                                                                                                                                                                                                                                                                                                                                                                                                                                                                                                                                                                                                                                                                                                                                                                                                                                                                                                                                                                                                                                                                                                                                                                                                                                                                                                                                                                                                                                                                                                                                                                                                                                                                                                                                                                                                                                                                                                                                                                                                                                                                                                                                                                                                                                                                                                                                                                                                                                                                                                                                                                                                                                                                                                                                                                                                                                                                                                                                                                                                                                                                                                                                                                                                                                                                                                                                                                                                                                                                                                                                                                                                                                                                                                                                                                                                                                                                                                                                                                                                                                                                                                                                                                                                                                                                                                                                                                                                                                                                                                                                                                                                                                                                                                                                                                                                                                                                                                                                                         |A solid overview of Dreamweaver CS5                                                                                           |\n",
            "|4.0    |0321719816|Grimmy            |The demo is done with the PC version, with references to the Mac version when needed. The video is closed-captioned. You can set bookmarks. There are self-tests for each chapter as well.\\n\\nStarts off with \"what is HTML\" and some other basic stuff. Includes topics such as: Planning your Website; Defining a site in DW; Creating a new web page; Adding Text; Formatting with CSS; Images and rich media; Links; Page layout w/ CSS; Tables; Forms; Reusable Content; Testing; etc. Each section has sub-sections with their own video, and some have sub-sub-sections to flesh out the material, such as the one regarding project management, or CSS, which includes discussion of CSS for print. It is not, however, a tutorial on \"the best way to lay out a site using CSS\" or anything like that. For that, you'll need a book or two on that subject.\\n\\nShe has a site that has some helpful resources, e.g. checklists for project management and site development, and helpful URLs. All in all, it's a decent introduction to creating web sites.\\n\\nShe sounds weird, though, like a robot (or Stephen Hawking's voicebox) with her halting, clipped delivery. She tends to be slightly chatty and repeat material, but it's not that bad; could be helpful for retention for people new to the subject.\\n\\nUI - at the top of the interface, there's a \"Previous Video\" button and \"Next Video\" button. The \"Next Video\" button is disabled for the last video of each chapter, so to get to the next one you'll have to use other navigation. This is because the last item is the test. Kinda dumb UI choice, initially confusing. They could have changed it to read \"Take Test\" instead of putting up a virtual dead end. There is a sidebar which is normally hidden (you are cued that you can display it when the mouse strays into the video area), which has information on the current video and lists/links to the other videos in the chapter. The title bar (under the top-left tabs) is a dropdown to navigate the content.\\n\\nThere's a \"Watch and Work\" mode which shrinks the video display to let you work with your copy of DreamWeaver (not included). You can move the video window around BUT you CANNOT resize it - and it may be kind of tiny to watch in that mode. So if you have a dual monitor setup, you'll want to drag the Standard Mode video player to the other screen; Standard Mode cannot be resized to be smaller, either.\\n\\nAll in all, a good value if you want to learn DreamWeaver.                                                                                                                                                                                                                                                                                                                                                                                                                                                                                                                                                                                                                                                                                                                                                                                                                                                                                                                                                                                                                                                                                                                                                                                                                                                                                                                                                                                                                                                                                                                                                                                                                                                                                                                                                                                                                                                                                                                                                                                                                                                                                                                                                                                                                                                                                                                                                                                                                                                                                                                                                                                                                                                                                                                                                                                                                                                                                                                                                                                                                                                                                                                                                                                                                                                                                                                                                                                                                                                                                                                                                                                                                                                                                                                                                                                                                                                                                                                                                                                                                                                                                                                                                                                                                                                                                                                                                                                                                                                                                                                                                                                                                                                                                                                                                                                                                                                                                                                                                                                                                                                                                                                                                                                                                                                                                                                                                                                                                                                                                                                                                                                                                                                                                                                                                                                                                                                                                                                                                                                                                                                                                                                                                                                                                                                 |A good value                                                                                                                  |\n",
            "|5.0    |0321719816|D. Fowler         |If you've been wanting to learn how to create your own website, but have either lacked the confidence or knowledge, this affordable combination book and video course will enable you to learn at your own leisure.  There are more than twelve hours of video training included in this package, most of it split up in the small, absorbable sections.  This courseware is \"Certified Associate,\" approved courseware.  Dreamweaver is the premier product for website creation.  It offers several new advantages/features for the user.  It has improved dynamic applications, new CSS features that offer more control over your design, you can turn individual CSS properties on and off (you can see how they affect your designs), and you can fuse box model elements to troubleshoot directly within Dreamweaver.  If you are confident this DVD/book bundle is for you, you can simply bypass this review or read some shorter versions (this is a very long review).  If not, keep on reading.\\n\\nWith this software you'll learn a lot of basics, however, if you are already a web designer or have a lot of experience, you may find a lot of the material to be redundant.  On the other hand, if you are anxious to learn web design, this is the perfect place to start.  Taking a course can cost you a lot of $, but this course is quite affordable ... if you decide it is not for you, then you can hand it along to someone else.  You'll be getting more than twelve hours of video training from \"Adobe Certified Instructors\", a reference book, lesson files, and you can copy certain files to your iPhone, iPod, or iPad.\\n\\nFor the hearing impaired the script to the dialogue runs along the bottom as the narrator speaks. You can stop the video at any time to get a closer look at what is being done and/or absorb the material.  At the end of each section is a \"test\" to enable you to know just how you are progressing on each section.\\n\\nIf you are in a bookstore you can easily pick up a copy and glance at the book, but you cannot see what is on the DVD.  I'll try to describe what is on the DVD to the buyer can get a good understanding of what is on there and can decide if Adobe Dreamweaver CS5 is what they need. I've simply listed the few words under the contents and have tried to briefly explain what you'll be learning on the videos.\\n\\nCONTENTS:\\n\\n1) HTML Refresher - This is an excellent section for someone who already knows HTML, but could use a refresher in the form of a \"crash course.\"  You'll find a URL overview, an HTML intro (tags, how some browsers read tags differently, and what Dreamweaver \"does behind the scenes).\\n\\n2) Dreamweaver Introduction - You'll finally be able to learn what WYSIWYG is, you'll be introduced to Dreamweaver Design, Code, and split screens, and the welcome screen.  You'll learn about the Dreamweaver interface, the Workplace Switcher (the software's workplaces, arranging and saving your workspace), how to customize your workspace, setting up our preferences, an dhow to customize the insert bar.\\n\\n3) Getting a Quick Start - You'll learn about several starter layouts you can customize with CSS, how to build a starter layout page, how to create and set up the header area on a homepage, how to add a navigation bar (shows how to customize with CSS), how to use CSS to format your main content, you'll learn how to add links using CSS formatting, how to modify HTML tags and background color using CSS, and how to add a page border.\\n\\n4) Planning Your Website - You'll learn about project management (five videos), site development (two videos), and how to test your site (two videos).  You can opt to play all the videos in each section consecutively.\\n\\n5) Defining a Site in Dreamweaver - You'll learn about defining a site, what the benefits there are to defining, the course setup (copying & storing the files you'll need for your website), defining a site in Dreamweaver, and how to use the files panel.\\n\\n6) Creating a New Web Page - You'll learn how to create a web page by using the Welcome Screen, how to save a web page (considerations needed when naming a page), how to assign a proper title to a web page, and you'll learn what meta tags do and why they are important.\\n\\n7) Adding the Tex Content - You'll learn three ways to add text to your webpage (typing, copying/pasting or importing), how to set up headings, how to create lists for web pages (unordered, ordered, and definition), several ways of highlighting text, and how to insert special characters.\\n\\n8) Formatting Text with CSS - You'll receive an overview of text formatting options with CSS, you'll learn where you can manage and store the styles for you site, how to \"create a .CSS file and link your web pages to it,\" create styles for HTML tags, create class styles, edit styles, you'll learn how to add font styles (custom font stack), you'll learn about styles created by page properties, CSS styles for printing, and how to use the code navigator.\\n\\n9) Images and Rich Media - You'll learn how to pick the right web image, how to choose the file format for your project, the importance of inserting alternate text, inserting images, understanding and creating file paths, you'll learn how to use the assets panel, how to modify images, you'll learn how to work with Photoshop Smart Objects, use Flash Files to enrich your site, use Flash Video (FLV), and will learn how to optimize the use of your favorites panel.\\n\\n10) Creating Links - You'll learn where you can insert hyperlinks, the different kinds of links you can create, how you can link to an Internet resource, how you can create a \"local lin\" for a document within a single site, how to link to a Word or Microsoft Excel file, how to create an anchor link, how to create an email lin (with the recipients address pre-filled), you'll learn about images and image mapping (clickable hotspots), how to create rollover images, and how to insert a navigation bar (Fireworks).\\n\\n11) Page Layout with CSS - You'll learn background information about CSS, how to master the mechanics of CSS page layout, how to understand the box model, how to insert a div tag, how to add different styles to your div tags so CSS can control you page content, you'll learn how to edit CSS style for a div tag, how to insert a div tag (increase your efficiency), options for using div tags, fine tuning your page with different styles, customize your links (make your site attractive and consistent), center your page content, use AP elements, use inspection tools to edit and troubleshoot, you'll learn about the four types of positioning with CSS, and you'll learn how to use CSS selector types and tools.\\n\\n12) Tables - You'll learn how easy it is to create a table, options you can use to modify a table, use CSS for formatting tables (match text to the rest of your website), importing tabular data, merging and splitting table cells, working on rows and columns, and table alignment (border background colors, centering).\\n\\n13) Forms - You'll learn how create a basic for, how to use text fields (common HTML elements), ensure \"user input gets back to you,\" form validation (checkboxes, submit buttons), how to validate forms, and use Spry for from validation (implement Ajax).\\n\\n14) Reusable Content - You'll learn about templates and library items, how to use the library, modify a library item (keeping your pages contemporary), converting HTML to a template, creating additional pages based on your template, controlling and working with \"editable\" regions, template application, and you'll learn how to detach a page from a template.\\n\\n15) Testing - You'll learn how to use the spell-checker, search for a fix broken links, how you can preview your work, how to check browser compatibility, dealing with browser issues, how to allow users to test your site and offer valuable feedback, learn about page loading time an dfile size, and Dreamweaver extensions.\\n\\n16) Publishing and Maintenance - You'll learn how to manage you files, set up your web server to upload and download files directly to the site from Dreamweaver, learn how to expand files, incontext editing (allows non-technical users to edit the web page), Subversion control and integration features.\\n\\nYou'll also be treated to four bonus videos.  This was a long review, but hopefully anyone looking for core training in web communication will now know exactly what they will receive when they purchase this program.|This is excellent software for those who want to use it as a \"crash\" refresher course or for the wannabe web designer ...     |\n",
            "|5.0    |0321719816|Bryan Newman      |I've been creating websites with Dreamweaver for years now, and all that experience has taught me one thing - I'm a hack web designer.  Recently I have been trying to learn industry CSS standards and had heard that Dreamweaver has made great advances in CSS management in CS4 and CS5. I'm embarrassed to say what version I am using.\\n\\nWhen I got a chance to get a reviewer copy of this training set I jumped for two reasons, first I was mulling over spending the money to upgrade to DW CS5 and I second I have always that I was missing out on a lot of DW's capabilities.  It's now obvious that I should upgrade for the CSS management upgrades alone.\\n\\nAs for the value of the training - I couldn't be happier.  This is not an advanced tips and tricks resource, nor is it an exhaustive boot camp in web page authoring, but it is a fairly thorough training taking you from site planning and design to creation and publishing.  I watched the videos from beginning to end and they start pretty basic with an HTML refresher then move to the meatier DW specific training.  I can see myself returning to several sections later to brush up.\\n\\nPersonally, the CSS, Media, and Forms training videos were enough to justify the price tag.  The training lessons were short and easily digestible.  I liked that it broke training into 3-10 minutes so I had some time to do a little more in-depth googling on subjects like text wrapping on absolute positioned CSS objects (which it won't.) or checking my version of DW.\\n\\n  What this is\\n  - An Adobe Certification Training Aid - so it starts from a very low level introduction and  goes through the entire DW web creation process\\n  - A wonderfully designed interface\\n  - A great overview of using DW\\n\\nWhat it isn't\\n  - A substitute for spending the time working with DW (but it will jump start a novice)\\n  - An expert tips and tricks reference\\n\\nAll in all, I highly recommend this to anyone trying to learn DW or even web design in general. The CSS placement section has been the most enlightening coverage of the topic I have been able to find.  The author's delivery on the videos is great and the interface is the best, most intuitive I have seen. The only bad thing I can say is that the closed captioning is defaulted on, so at times it covered the bottom of the properties table at the bottom of the screen. So sometimes I had to close it to see things the author was pointing out.  But all in all, this is an absolutely wonderful product.                                                                                                                                                                                                                                                                                                                                                                                                                                                                                                                                                                                                                                                                                                                                                                                                                                                                                                                                                                                                                                                                                                                                                                                                                                                                                                                                                                                                                                                                                                                                                                                                                                                                                                                                                                                                                                                                                                                                                                                                                                                                                                                                                                                                                                                                                                                                                                                                                                                                                                                                                                                                                                                                                                                                                                                                                                                                                                                                                                                                                                                                                                                                                                                                                                                                                                                                                                                                                                                                                                                                                                                                                                                                                                                                                                                                                                                                                                                                                                                                                                                                                                                                                                                                                                                                                                                                                                                                                                                                                                                                                                                                                                                                                                                                                                                                                                                                                                                                                                                                                                                                                                                                                                                                                                                                                                                                                                                                                                                                                                                                                                                                                                                                                                                                                                                                                                                                                                                                                                                                                                                                                                                                                                                                        |A Fantastic Overview of Dream Weaver and Web Design in General                                                                |\n",
            "|5.0    |0321719816|Al Swanson        |I decided (after trying a number of other products) to switch to the gold standard of web site management, Dreamweaver. I bought a few books, did some Lynda courses and still found myself wanting more. This was the perfect product for that \"more\".\\n\\nI think some reviewers are confused about both Dreamweaver and this product - these aren't for \"design\". If you don't already know what you want to do, picking up Dreamweaver is not going to help! The product being reviewed here is how to use Dreamweaver - not how to design for the web. Both expect you already have the design part.\\n\\nI used a pure HTML editor, which for beginners is the best way to go. You'll learn HTML and CSS along with exactly how your code changes your page. DW is more for time savings and automation. That said, it's also massively complex with a steep learning curve. And that's where Learn Adobe Dreamweaver comes in. It very clearly takes you through learning DW so that you can get on with designing web pages.\\n\\nExcellent addition to my library and excellent companion to Dreamweaver itself. The only other thing you might need is one of the large reference books on DW to refer back to if you have questions.                                                                                                                                                                                                                                                                                                                                                                                                                                                                                                                                                                                                                                                                                                                                                                                                                                                                                                                                                                                                                                                                                                                                                                                                                                                                                                                                                                                                                                                                                                                                                                                                                                                                                                                                                                                                                                                                                                                                                                                                                                                                                                                                                                                                                                                                                                                                                                                                                                                                                                                                                                                                                                                                                                                                                                                                                                                                                                                                                                                                                                                                                                                                                                                                                                                                                                                                                                                                                                                                                                                                                                                                                                                                                                                                                                                                                                                                                                                                                                                                                                                                                                                                                                                                                                                                                                                                                                                                                                                                                                                                                                                                                                                                                                                                                                                                                                                                                                                                                                                                                                                                                                                                                                                                                                                                                                                                                                                                                                                                                                                                                                                                                                                                                                                                                                                                                                                                                                                                                                                                                                                                                                                                                                                                                                                                                                                                                                                                                                                                                                                                                                                                                                                                                                                                                                                                                                                                                                                                                                                                                                                                                                                                                                                                                                                                                                                                                                                                                                                                                                                                                          |Excellent Tutorials!                                                                                                          |\n",
            "|5.0    |0321719816|J. Howard         |The video is well-paced and delivered in an understandable manner.  It allows you to work with the software while watching and following the directions of instructor Candyce Mairs.  To me, the book is more of a reference guide, something I would access with a specific need or question, because overall I learn better by seeing and doing than by reading.  The video starts with the basics and builds logically.  This is everything you want in a teaching video/book!                                                                                                                                                                                                                                                                                                                                                                                                                                                                                                                                                                                                                                                                                                                                                                                                                                                                                                                                                                                                                                                                                                                                                                                                                                                                                                                                                                                                                                                                                                                                                                                                                                                                                                                                                                                                                                                                                                                                                                                                                                                                                                                                                                                                                                                                                                                                                                                                                                                                                                                                                                                                                                                                                                                                                                                                                                                                                                                                                                                                                                                                                                                                                                                                                                                                                                                                                                                                                                                                                                                                                                                                                                                                                                                                                                                                                                                                                                                                                                                                                                                                                                                                                                                                                                                                                                                                                                                                                                                                                                                                                                                                                                                                                                                                                                                                                                                                                                                                                                                                                                                                                                                                                                                                                                                                                                                                                                                                                                                                                                                                                                                                                                                                                                                                                                                                                                                                                                                                                                                                                                                                                                                                                                                                                                                                                                                                                                                                                                                                                                                                                                                                                                                                                                                                                                                                                                                                                                                                                                                                                                                                                                                                                                                                                                                                                                                                                                                                                                                                                                                                                                                                                                                                                                                                                                                                                                                                                                                                                                                                                                                                                                                                                                                                                                                                                                                   |Excellent.                                                                                                                    |\n",
            "|5.0    |0321719816|Yesuaini99        |I spent several hours on the lesson and I love it.\\nIt is very detailed and very clear.\\nThe instructions with the graph and the audio and the video playback is very nice.\\nYou can cut or repeat any lesson you need and come back and review at your convenience.\\nThe lesson starts with very fundamental knowledge of what an URL is and allow the students to know what is the source code, the layout and how to use the tools and maneuver in the Dreamweaver app.\\nIt is an excellent tool to have.\\nMost of us uses some of the tools but not all of the tools.  Some I don't even know the function was there.\\nIt is nice to have a teacher like this I can go to easily without calling expensive tech support.\\nHighly recommend this teaching series.                                                                                                                                                                                                                                                                                                                                                                                                                                                                                                                                                                                                                                                                                                                                                                                                                                                                                                                                                                                                                                                                                                                                                                                                                                                                                                                                                                                                                                                                                                                                                                                                                                                                                                                                                                                                                                                                                                                                                                                                                                                                                                                                                                                                                                                                                                                                                                                                                                                                                                                                                                                                                                                                                                                                                                                                                                                                                                                                                                                                                                                                                                                                                                                                                                                                                                                                                                                                                                                                                                                                                                                                                                                                                                                                                                                                                                                                                                                                                                                                                                                                                                                                                                                                                                                                                                                                                                                                                                                                                                                                                                                                                                                                                                                                                                                                                                                                                                                                                                                                                                                                                                                                                                                                                                                                                                                                                                                                                                                                                                                                                                                                                                                                                                                                                                                                                                                                                                                                                                                                                                                                                                                                                                                                                                                                                                                                                                                                                                                                                                                                                                                                                                                                                                                                                                                                                                                                                                                                                                                                                                                                                                                                                                                                                                                                                                                                                                                                                                                                                                                                                                                                                                                                                                                                                                                                                                                                                                                                                                                                                                |excellent video training material                                                                                             |\n",
            "|5.0    |0321719816|Bob Feeser        |I have had Dreamweaver MX2004 since it came out back then. Spent years with it. Feel like I know it real well, but I am still familiar with tables as opposed to CSS. So I thought this would be a great introduction, and it is. The problem is that while I am looking at the video, and that simplifies things a lot, I am not getting the intuitive explanation as to why things work the way they do. I understand just knowing how to work them is sufficient. I'm tempted to delve into the rich full attributes of Dreamweaver CS5 as explained by this video, albeit difficult to understand the more advanced features, but I won't because this is about the video.\\n\\nThe opening salvo is chock full of... for example, this is the URL; this is where you type in the address bar etc. Only when you start to get into areas such as CSS do you get an introduction that for me is beneficial, and that is only because I am somewhat of a newbie to it. So there you have it, do you get an advanced lesson that flies through things and most find it hard to understand, or do you get this one and appreciate the fact that she walks you through everything step by step, even at the risk of boring the more in the know people, but finally arriving at the section you need to learn, and then appreciate that she is not moving at lightning speed.\\n\\nI'm holding off buying Dreamweaver CS5, although I got the upgrade to Photoshop CS5 and love it, because my MX2004 is not an eligible upgrade version. If I could qualify for the upgrade I would grab it, but the learning curve of CSS, and the steep price for the full version when I have MX2004 already is giving me some hesitation. If I was to upgrade, or should I say take the leap to the full version, this tutorial is the one I would use, and I also recommend the&nbsp;<a data-hook=\"product-link-linked\" class=\"a-link-normal\" href=\"/Adobe-Dreamweaver-CS5-on-Demand/dp/0789744449/ref=cm_cr_arp_d_rvw_txt?ie=UTF8\">Adobe Dreamweaver CS5 on Demand</a>&nbsp;which makes a very good reference guide.\\nAt some point I will get the new version of CS5 Dreamweaver, and at that point I will do the entire video series, and have a much more in depth analysis of it. But from what I can see after viewing a bunch of the video tutorials, it is the easiest way to indoctrinate you to the newest version. So I recommend it.                                                                                                                                                                                                                                                                                                                                                                                                                                                                                                                                                                                                                                                                                                                                                                                                                                                                                                                                                                                                                                                                                                                                                                                                                                                                                                                                                                                                                                                                                                                                                                                                                                                                                                                                                                                                                                                                                                                                                                                                                                                                                                                                                                                                                                                                                                                                                                                                                                                                                                                                                                                                                                                                                                                                                                                                                                                                                                                                                                                                                                                                                                                                                                                                                                                                                                                                                                                                                                                                                                                                                                                                                                                                                                                                                                                                                                                                                                                                                                                                                                                                                                                                                                                                                                                                                                                                                                                                                                                                                                                                                                                                                                                                                                                                                                                                                                                                                                                                                                                                                                                                                                                                                                                                                                                                                                                                                                                                                                                                                                                                                                                                                                                                                                                                                                                                                                                                                                                                                                                                                                                                                                                                                                                                                                                                                                                                                                   |Great Video for a Difficult at Times Program                                                                                  |\n",
            "|5.0    |0321719816|Gadgetman         |I have also taken a local community college on-line course on DreamWeaver CS5 training. This video in comparison is quite a bit better in terms of the rich contents and course layout. The video has 17 sections covering the key elements of CS5 which allow the user to learn how to create a local web site from scratch and uploading it to the server. Each section is also broken down to several 3-6 minutes sub-sections which is just right in terms of the duration. At the end of each section there is also a test available to make sure you get a good understanding of the materials.\\n\\nThere are also some other additional useful features such as real-time caption and bookmarks which allows us to jump to our favorite section easily.\\n\\nAll in all, this is a great product for the price.                                                                                                                                                                                                                                                                                                                                                                                                                                                                                                                                                                                                                                                                                                                                                                                                                                                                                                                                                                                                                                                                                                                                                                                                                                                                                                                                                                                                                                                                                                                                                                                                                                                                                                                                                                                                                                                                                                                                                                                                                                                                                                                                                                                                                                                                                                                                                                                                                                                                                                                                                                                                                                                                                                                                                                                                                                                                                                                                                                                                                                                                                                                                                                                                                                                                                                                                                                                                                                                                                                                                                                                                                                                                                                                                                                                                                                                                                                                                                                                                                                                                                                                                                                                                                                                                                                                                                                                                                                                                                                                                                                                                                                                                                                                                                                                                                                                                                                                                                                                                                                                                                                                                                                                                                                                                                                                                                                                                                                                                                                                                                                                                                                                                                                                                                                                                                                                                                                                                                                                                                                                                                                                                                                                                                                                                                                                                                                                                                                                                                                                                                                                                                                                                                                                                                                                                                                                                                                                                                                                                                                                                                                                                                                                                                                                                                                                                                                                                                                                                                                                                                                                                                                                                                                                                                                                                                                                                                                                                                                                 |Excellent value for the price                                                                                                 |\n",
            "|5.0    |0321719816|Rebecca Haden     |Even though I use Dreamweaver a great deal and own several books on the subject, I found this set very helpful. Candyce Mairs takes you through everything, from opening the program and setting up your desktop to creating a site. The focus is on the software, not on CSS or HTML or web design, so you'll end up with a through understanding of just how the software is designed to work.\\n\\nThe videos are brief, with clear screenshots and step by step narration which is subtitled. When occasionally the narrator makes a small error (\"Fireworks\" for \"Firefox,\" say), the subtitles correct it. The pace is slow but focused and always on task -- no rambling or making and fixing errors on screen.\\n\\nSince each video looks at just one issue, it's very easy to find your way back if you feel confused. I like the \"Watch and work\" option, too, which lets you keep the video running in the corner of your screen so that you can work along with the video.\\n\\nNew features of CS5 are pointed out in detail, not only in the video training but in the accompanying booklet, which also has tables of keyboard shortcuts, a glossary, and lots of example code.\\n\\nIf you're upgrading and want to master the new features immediately or if you usually hand code and want to get to know all the timesaving features of Dreamweaver, this is exactly what you need. If you're a moderately skilled web designer and would like to increase your skills, improving your ability to use Spry, for example, this is an excellent choice. It's probably not enough for the absolute beginner -- you'll still need to learn HTML and CSS and web design theory, but this is the best I've seen for using Dreamweaver in particular.                                                                                                                                                                                                                                                                                                                                                                                                                                                                                                                                                                                                                                                                                                                                                                                                                                                                                                                                                                                                                                                                                                                                                                                                                                                                                                                                                                                                                                                                                                                                                                                                                                                                                                                                                                                                                                                                                                                                                                                                                                                                                                                                                                                                                                                                                                                                                                                                                                                                                                                                                                                                                                                                                                                                                                                                                                                                                                                                                                                                                                                                                                                                                                                                                                                                                                                                                                                                                                                                                                                                                                                                                                                                                                                                                                                                                                                                                                                                                                                                                                                                                                                                                                                                                                                                                                                                                                                                                                                                                                                                                                                                                                                                                                                                                                                                                                                                                                                                                                                                                                                                                                                                                                                                                                                                                                                                                                                                                                                                                                                                                                                                                                                                                                                                                                                                                                                                                                                                                                                                                                                                                                                                                                                                                                                                                                                                                                                                                                                                                                                                                                                                                                                                                                                                                                                                                                                                                                                                                                                                                                           |Buy this with your copy of Dreamweaver                                                                                        |\n",
            "|3.0    |0321719816|tachi1            |I waited to complete the entire course before writing this review and, in no particular order, these are my observations.\\n\\nI should tell you that my web skills are limited. I used Front Page for years and have created several very elementary Dreamweaver sites for family members. I'm in the process of trying to work more professionally (cleaner, less, and better code) and more creatively (a less stilted and more unique and appealing design). This course doesn't purport to be a web design course, it assumes that you already have a basic idea for a (relatively simple) website and it's going to teach you how to implement it. Don't expect inspiration.\\n\\nPOSITIVE:\\n* Level: absolute beginner to intermediate.\\n*  It is entirely DVD-based. The booklet (106 pages including index) that comes with the DVD just provides additional random information; it is in no way connected to the content or the sequence of the course.\\n* The scope of the information presented is all that is needed for basic competence in the implementation of a simple Dreamweaver CS5 website. You do become familiar with the DW interface; the workflow; best practices; web and DW terminology; and basic website structure and creation.\\n* The sequence and progression is logical and sequential. There is some reiteration of basic principles as the course progresses to clarify how something previously explained applies in a new situation.\\n* The interface is very well thought out. You can go backwards or forwards easily. It has constant access to a table of contents that allows you to search (by both topic and subtopics) in case you want to navigate to a completely different topic. It allows you to bookmark (with long notes-to-self) on topics of interest you may want to keep coming back to. The interface coloring and design are neutral and un-intrusive. The screen always retains focus and the surrounding options melt away.\\n* The course has the secondary purpose of preparing for the Adobe Certified Expert (ACE) test. Each main section has a practice test at the end.\\n* Another asset is that the video transcript is captioned under the viewing screen (optional). This is particularly helpful if you're in in a public place where you can't turn on the sound.\\n* All explanations of hard-to-grasp concepts (ex: the box model) are clearly demonstrated with visual examples. As a matter of fact, this is the clearest explanation I have ever seen of the box model.\\n* I did find the booklet section on Fireworks instructive, since I have never used that program in the past. In fact, the entire booklet is very instructive and useful--it's just totally unrelated to the course on DVD.\\n\\nNOT SO POSITIVE:\\n* Coverage of other concepts, such as content placement and positioning, are a little more basic and less detailed than I would have liked. I can't recall (or locate now) any reference to floats, whereas AP divs and frames (both older concepts) are well covered.\\n* The narrator has a pleasant voice and clear diction, but is somewhat monotone and unexciting.\\n* There is no \"search\" function or \"index.\" This makes it impossible to look up a term or a topic that is not specifically listed in the table of contents. I would have thought that the transcript text might have been searchable, but it isn't.\\n* For my learning style, I would have preferred that the booklet function as support material for the video so I could follow along with text that directly reinforces the visual demonstration (and is easier to go back to or use as reference material.)\\n* The bookmarks that you create when taking the course on your laptop are saved to that computer. If you want to change to your desktop, the bookmarks, obviously, are not there. So as a \"personal index\" these bookmarks have their limits.\\n\\nOn the whole, I do recommend this course. I wish I had taken it earlier, because it laid down the groundwork better than an online course that I had just taken. However, I think that, for a person who is learning-as-you-go (not just learning general theory but actually trying to apply it to a real website) it is essential to have reference material on Dreamweaver CS5, some sort of guidance on design principles, and a solid HTML and CSS anthology--all in well-indexed books.\\n\\nVideo and online courses teach you very well how to build their sample websites, but when you are stumped on YOUR website, you need to be able to supplement the general principles they taught you with a more on-point reference.                                                                                                                                                                                                                                                                                                                                                                                                                                                                                                                                                                                                                                                                                                                                                                                                                                                                                                                                                                                                                                                                                                                                                                                                                                                                                                                                                                                                                                                                                                                                                                                                                                                                                                                                                                                                                                                                                                                                                                                                                                                                                                                                                                                                                                                                                                                                                                                                                                                                                                                                                                                                                                                                                                                                                                                                                                                                                                                                                                                                                                                                                                                                                                                                                                                                                                                                                                                                                                                                                                                                                                                                                                                                                                                                                                                                                                                                                                                                                                                                                                                                                                                  |Competent introduction to Dreamweaver and web principles.                                                                     |\n",
            "|5.0    |0321700945|Loves Books in MD |As someone who has just upgraded from Lightroom version 2 to the new version 3, I got this to bring me up to speed on the new features. I thought I would just watch the video clips on the new items as I needed them. Boy was I wrong... this is so good that I ended up watching every one of them from start to finish.\\n\\nThis package consists of a DVD and a small book. The book has a chapter on being a better photographer and another introducing the new features of Lightroom 3. The DVD contains the videos and a dedicated video player.  You can either use Internet Explorer or the player to view the content. My recommendation is to use the player.  It's full featured... a nice menu system, resizing for the screen, and the normal control buttons (stop, pause, play, etc.). The nicest feature of the player is the \"Work Along\" mode. In this mode, the video plays in a small window while you're working in Lightroom. This lets you try the commands along with the video.\\n\\nVideo and audio quality is excellent. The 2 instructors do a great job. They don't get over technical and keep a good pace. Not only do they present the material, they also give examples of how they use a Lightroom feature or command in their own workflow. This product would be perfect for someone new to Lightroom or a seasoned user looking to learn the new version.                                                                                                                                                                                                                                                                                                                                                                                                                                                                                                                                                                                                                                                                                                                                                                                                                                                                                                                                                                                                                                                                                                                                                                                                                                                                                                                                                                                                                                                                                                                                                                                                                                                                                                                                                                                                                                                                                                                                                                                                                                                                                                                                                                                                                                                                                                                                                                                                                                                                                                                                                                                                                                                                                                                                                                                                                                                                                                                                                                                                                                                                                                                                                                                                                                                                                                                                                                                                                                                                                                                                                                                                                                                                                                                                                                                                                                                                                                                                                                                                                                                                                                                                                                                                                                                                                                                                                                                                                                                                                                                                                                                                                                                                                                                                                                                                                                                                                                                                                                                                                                                                                                                                                                                                                                                                                                                                                                                                                                                                                                                                                                                                                                                                                                                                                                                                                                                                                                                                                                                                                                                                                                                                                                                                                                                                                                                                                                                                                                                                                                                                                                                                                                                                                                                                                                                                                                                                                                                                                                                                                                                                                                                                                                                                                                                                                                                                                                                                      |Learn Adobe Photoshop Lightroom 3 by Video (Learn by Video)                                                                   |\n",
            "|5.0    |0321700945|Bill Oterson      |Adobe approved \"Adobe Photoshop Lightroom 3, Learn by Video\" is the absolutely best method of learning Lightroom 3 that I've found. It's one on one training presented by Tim Grey and Mikkel Aaland. The program truly has just about everything to get you up and running full hilt. You'll progress from the very beginning of setting Lightroom up to importing photos, developing them, exporting them and everything in between. It does not contain everything that anyone would want in an educational program - that would be a practical impossibility. However, this program contains 10 hours of video training: you hear how a procedure occurs and you see how it's done, along with advice and opinion. There's even a testing procedure included and reference booklet. You can also copy selected video tutorials. I've had and have been using Adobe Lightroom for a couple years and recently upgraded to Lightroom 3. I've books written about Lightroom 3 by well known authors but I found reading about it was just a little too tedious and finally decided to find out how to make it work for me. This program works, it did for me and frankly I believe it's the best program available.                                                                                                                                                                                                                                                                                                                                                                                                                                                                                                                                                                                                                                                                                                                                                                                                                                                                                                                                                                                                                                                                                                                                                                                                                                                                                                                                                                                                                                                                                                                                                                                                                                                                                                                                                                                                                                                                                                                                                                                                                                                                                                                                                                                                                                                                                                                                                                                                                                                                                                                                                                                                                                                                                                                                                                                                                                                                                                                                                                                                                                                                                                                                                                                                                                                                                                                                                                                                                                                                                                                                                                                                                                                                                                                                                                                                                                                                                                                                                                                                                                                                                                                                                                                                                                                                                                                                                                                                                                                                                                                                                                                                                                                                                                                                                                                                                                                                                                                                                                                                                                                                                                                                                                                                                                                                                                                                                                                                                                                                                                                                                                                                                                                                                                                                                                                                                                                                                                                                                                                                                                                                                                                                                                                                                                                                                                                                                                                                                                                                                                                                                                                                                                                                                                                                                                                                                                                                                                                                                                                                                                                                                                                                                                                                                                                                                                                                                                                                                                                                                                                                                                                |Absolutely the best.                                                                                                          |\n",
            "|5.0    |0321700945|Amazon Customer   |This is a greate collection of videos on the disk.  Most of the videos are between 2 and 6 minutes, The index allows you to quickly jump to a video that you want to review. The video goes from an introduction, to what is new in Lightroom 3. The videos cover working with the workflow, creating slideshows, and more.  I would recommend going to the authors website to get even more information on Lightroom\\n\\nAt this low of a cost it is a no brainer.  I highly recommed this to anyone who is just starting with Lightroom or those who ahve worked with it for a while                                                                                                                                                                                                                                                                                                                                                                                                                                                                                                                                                                                                                                                                                                                                                                                                                                                                                                                                                                                                                                                                                                                                                                                                                                                                                                                                                                                                                                                                                                                                                                                                                                                                                                                                                                                                                                                                                                                                                                                                                                                                                                                                                                                                                                                                                                                                                                                                                                                                                                                                                                                                                                                                                                                                                                                                                                                                                                                                                                                                                                                                                                                                                                                                                                                                                                                                                                                                                                                                                                                                                                                                                                                                                                                                                                                                                                                                                                                                                                                                                                                                                                                                                                                                                                                                                                                                                                                                                                                                                                                                                                                                                                                                                                                                                                                                                                                                                                                                                                                                                                                                                                                                                                                                                                                                                                                                                                                                                                                                                                                                                                                                                                                                                                                                                                                                                                                                                                                                                                                                                                                                                                                                                                                                                                                                                                                                                                                                                                                                                                                                                                                                                                                                                                                                                                                                                                                                                                                                                                                                                                                                                                                                                                                                                                                                                                                                                                                                                                                                                                                                                                                                                                                                                                                                                                                                                                                                                                                                                                                                                                                                                                                                                                                                               |I find myself going back to the product                                                                                       |\n",
            "|3.0    |0321700945|Colinda           |There are over 100 video lessons here. Most users have given this a high rating and I assume they are very comfortable with video learning. Personally I found it rather tedious.\\n\\nI'd like to learn Lightroom because I've owned it for a while. I tried to use it but did not understand it so I went back to using Adobe Bridge, which is think is generally under-appreciated. I love Photoshop but tend to spend a lot of time with it, so the supposed time-saving features of Lightroom would be helpful.\\n\\nI really hoped this product would make it easy for me to use Lightroom. Unfortunately I had trouble staying alert through more than 3 or 4 lessons at a time, and that much only covers a small portion of the material.  I don't think this is because of the presenters so much as it is the difficulty of covering this sort of material in a video format.\\n\\nThe Introduction alone consists of 26 videos. It seemed like a commercial for Lightroom rather than a tutorial. Seven of the lessons are devoted to \"What's New\" -- not too relevant for beginners. On the plus side, there were plenty of screen shots to familiarize us with the look of the software.\\n\\nUnit 2 has 11 video lessons on importing pictures. That gives you an idea on how much detail is here. If that's what you need, you'll find this product useful.                                                                                                                                                                                                                                                                                                                                                                                                                                                                                                                                                                                                                                                                                                                                                                                                                                                                                                                                                                                                                                                                                                                                                                                                                                                                                                                                                                                                                                                                                                                                                                                                                                                                                                                                                                                                                                                                                                                                                                                                                                                                                                                                                                                                                                                                                                                                                                                                                                                                                                                                                                                                                                                                                                                                                                                                                                                                                                                                                                                                                                                                                                                                                                                                                                                                                                                                                                                                                                                                                                                                                                                                                                                                                                                                                                                                                                                                                                                                                                                                                                                                                                                                                                                                                                                                                                                                                                                                                                                                                                                                                                                                                                                                                                                                                                                                                                                                                                                                                                                                                                                                                                                                                                                                                                                                                                                                                                                                                                                                                                                                                                                                                                                                                                                                                                                                                                                                                                                                                                                                                                                                                                                                                                                                                                                                                                                                                                                                                                                                                                                                                                                                                                                                                                                                                                                                                                                                                                                                                                                                                                                                                                                                                                                                                                                                                                                                                                                                                                 |For Highly Motivated and Patient People                                                                                       |\n",
            "|5.0    |0321700945|midnight122       |I am not an avid Lightroom user, although I have used it many times.  I have always wanted to dive into the tools and techniques of the software more and this video series has definitely put me on the right track.  The series does an excellent job of not only giving you a general tour and reference to what is available in Lightroom, but also diving into more important aspects that you do not pick up on out of the gate.\\n\\nWatching the entire video in one sitting is probably not feasible since it's ten hours of content.  In fact, finding the time to watch the entire ten hours at all might be difficult.  Don't be fooled though as any time you invest in going through this video will improve your usage of Lightroom.  It really depends on what you want out of Lightroom.  If you are just wanting some simple organization and editing you won't need this video or certainly won't need all of it.  If you would like to dive into the publishing aspects and really optimizing your workflow, then this would be a good investment for you.                                                                                                                                                                                                                                                                                                                                                                                                                                                                                                                                                                                                                                                                                                                                                                                                                                                                                                                                                                                                                                                                                                                                                                                                                                                                                                                                                                                                                                                                                                                                                                                                                                                                                                                                                                                                                                                                                                                                                                                                                                                                                                                                                                                                                                                                                                                                                                                                                                                                                                                                                                                                                                                                                                                                                                                                                                                                                                                                                                                                                                                                                                                                                                                                                                                                                                                                                                                                                                                                                                                                                                                                                                                                                                                                                                                                                                                                                                                                                                                                                                                                                                                                                                                                                                                                                                                                                                                                                                                                                                                                                                                                                                                                                                                                                                                                                                                                                                                                                                                                                                                                                                                                                                                                                                                                                                                                                                                                                                                                                                                                                                                                                                                                                                                                                                                                                                                                                                                                                                                                                                                                                                                                                                                                                                                                                                                                                                                                                                                                                                                                                                                                                                                                                                                                                                                                                                                                                                                                                                                                                                                                                                                                                                                                                                                                                                                                                                                                                                                                                                                                                                                                                                                                                                                        |Great for beginners or just about any Lightroom user                                                                          |\n",
            "|5.0    |0321700945|Spike D.          |I am a long time user of Photoshop Lightroom, from the first version. I used to use Photoshop to manage and edit digital images, but switched to LR totally from then. LR is relatively user-friendly, you need very little instruction to get started. I never had any training, book or instructions of anykind, but always felt efficient with the software.\\n\\nWell, I think it is great that I now have access to this training video. It was kind of long (10 hrs.), so finding the time to watch them was a challenge. Especially for me, as I already know how to use the software. But of course, you will pick up things that you don't know before or how to do it better. And it is true. I learned more than I expected. So no matter how experienced you are or how user-friendly the software is, you will definitely gain something from it.\\n\\nIf you are a new user of LR, it could be a little intimidating. If you are a casual user who only need to manage your photo and run slideshow, you don't need this video. But if you want more like publishing, converting and optimizing images, I recommend this training video.                                                                                                                                                                                                                                                                                                                                                                                                                                                                                                                                                                                                                                                                                                                                                                                                                                                                                                                                                                                                                                                                                                                                                                                                                                                                                                                                                                                                                                                                                                                                                                                                                                                                                                                                                                                                                                                                                                                                                                                                                                                                                                                                                                                                                                                                                                                                                                                                                                                                                                                                                                                                                                                                                                                                                                                                                                                                                                                                                                                                                                                                                                                                                                                                                                                                                                                                                                                                                                                                                                                                                                                                                                                                                                                                                                                                                                                                                                                                                                                                                                                                                                                                                                                                                                                                                                                                                                                                                                                                                                                                                                                                                                                                                                                                                                                                                                                                                                                                                                                                                                                                                                                                                                                                                                                                                                                                                                                                                                                                                                                                                                                                                                                                                                                                                                                                                                                                                                                                                                                                                                                                                                                                                                                                                                                                                                                                                                                                                                                                                                                                                                                                                                                                                                                                                                                                                                                                                                                                                                                                                                                                                                                                                                                                                                                                                                                                                                                                                                                                                                                                                                                                                                                  |You need to have this..                                                                                                       |\n",
            "|4.0    |0321719824|Nate              |The \"Learn by Video\" program for Flash CS5 would make a nice alternative to an introductory book - especially for visual learners.  I'd worked through the&nbsp;<a data-hook=\"product-link-linked\" class=\"a-link-normal\" href=\"/Adobe-Flash-Professional-CS5-Classroom-in-a-Book/dp/0321701801/ref=cm_cr_arp_d_rvw_txt?ie=UTF8\">Adobe Flash Professional CS5 Classroom in a Book</a>&nbsp;- and found that to be more comprehensive in its coverage, but there is a different emphasis here and I found I learned quite a bit that I didn't know or that wasn't clear before.  The little booklet that comes with the guide is an extremely useful introduction to design principles that are essential to effective working in Flash.\\n\\nThere are several chapters on different introductory-level topics in Flash CS5.  Each is broken up into different sections, and usually these can be completed in under ten minutes each.  That makes this easy to work through in short sections.  You can set bookmarks to remember where you left off - although it would be nicer if the program saved your progress directly and remembered for you where you left off.  The exposition is clear, but perhaps a bit dry.  There's no hint of humor here, and I always find it helps to make verbal lessons a bit more interesting and memorable.  Each section tells you what you are going to learn, gives you an explanation and a tutorial you can follow along using one of the project files included on the dvd, and then explains what you have learned.\\n\\nThe focus here is on learning how things work and what things mean at a fairly basic level.  You don't get very advanced, and by the end of things you'd really just have a rough idea of how things work in Flash, but it is very clear.  They assume a listener who is just getting started with Flash, and, while the lessons are sequential and they build upon each other, they remind you what you've learned and how to do things several times.  Sometimes that's a bit frustrating - in a beginner's level textbook it's easy just to skim through the repetition when it is familiar - with video it's harder to skim through what is inessential without missing the important bits.  That's one reason to prefer something like the \"Classroom in a Book\" series, rather than the Video Classroom approach.\\n\\nOne thing I got here more clearly than in the \"Classroom in a Book\" for Flash CS5 is an emphasis on best practices - how to manage projects so as to be completely clear, and how that helps to achieve control over the project.  There is more explanation here - more whys behind the hows.  I thought the chapter on Action Script was excellent for giving a clear concept of how it works as an \"object based\" language - even though you'd only be able to do some very rudimentary things after working through the entire chapter, you'd have a pretty decent understanding of how the language works and a good basis for further learning.  There are video files on the disk that allow you to follow along on what they show you in the tutorials.  One thing they don't make clear is that to work with them you have to copy the assets folder to your hard drive and open and work with the projects there.  (I find it most convenient to backup the entire dvd to my hard drive and play it from there - since that means it's available and ready whenever I want to work through a section, and it also helps to protect the original disk from scratching).\\n\\nOverall, it's a good introduction to Flash and the emphasis on \"Best Practices\" serves as a useful complement to the \"how to\" guides you can find in other introductory Flash books.  I do have a few minor gripes:  the navigation through the chapter files is not as intuitive as I'd like: there are sections and subsections, and you can go to the next section in a chapter by clicking the \"Next Video\" button.  But: when you get to the end of a subsection, the \"Next Video\" button is not enabled and you have to go back to the main index and then open up the chapter index again to get to the next section in the chapter.  Several words in the projects are misspelt (e.g. \"Hawaiin\" instead of \"Hawaiian\"), and I also noticed that at least one of the project files they encourage you to use was missing (the \"inverseKinematics_start.fla\" file from chapter 9).  Still, the guide as a whole is very helpful and clear - and the emphasis on design principles in the included booklet makes this a very helpful overview and introduction to a rich and complicated program.                                                                                                                                                                                                                                                                                                                                                                                                                                                                                                                                                                                                                                                                                                                                                                                                                                                                                                                                                                                                                                                                                                                                                                                                                                                                                                                                                                                                                                                                                                                                                                                                                                                                                                                                                                                                                                                                                                                                                                                                                                                                                                                                                                                                                                                                                                                                                                                                                                                                                                                                                                                                                                                                                                                                                                                                                                                                                                                                                                                                                                                                                                                                                                                                                                                                                                                                                                                                                                                                                                                                                                                                                                                                                                                                                                                                                                                                                                                                                                                                                                                                                                             |A helpful introduction to Flash CS5 - a bit dry, perhaps, but very clear and useful explanations and great on \"best practices\"|\n",
            "|4.0    |0321719824|Grimmy            |The presenter here sounds much more natural than the semi-robotic delivery found in the DreamWeaver tutorial product.\\n\\nThe lessons are broken up into easily digested 3-5 minute chunks, covering aspects of Flash from project planning and defining customer needs to an introduction to ActionScript fundamentails. Although it does not deal with programming in detail, it does cover basic concepts of object-oriented programming, variables, conditional statements, and functions. The rest covers working with artwork and text; library and symbols; layers, timeline, animation, and tweens; working with files, sound and video. You'll learn the fundamentals; you won't learn how to create those fancy user interfaces on those fancy sites; that's for a more advanced class.\\n\\nAs with other products in this series, there are some usability issues. At the top of the interface, there's a \"Previous Video\" button and \"Next Video\" button. The \"Next Video\" button is disabled for the last video of each chapter, so to get to the next one you'll have to use other navigation. This is because the last item is the test. Kinda dumb UI choice, initially confusing. They could have changed it to read \"Take Test\" instead of putting up a virtual dead end. There is a sidebar which is normally hidden (you are cued that you can display it when the mouse strays into the video area), which has information on the current video and lists/links to the other videos in the chapter. The title bar (under the top-left tabs) is a dropdown to navigate the content.\\n\\nThere's a \"Watch and Work\" mode which shrinks the video display to let you work with your copy of DreamWeaver (not included). You can move the video window around BUT you CANNOT resize it - and it may be kind of tiny to watch in that mode. So if you have a dual monitor setup, you'll want to drag the Standard Mode video player to the other screen; Standard Mode cannot be resized to be smaller, either.\\n\\nAll in all it's a good way to get started in Flash programming, if you don't have the patience for going through a book. Know what to expect; you'll learn the basics, but you'll need to carry on the learning process yourself, by seeking out more advanced information or learning materials.                                                                                                                                                                                                                                                                                                                                                                                                                                                                                                                                                                                                                                                                                                                                                                                                                                                                                                                                                                                                                                                                                                                                                                                                                                                                                                                                                                                                                                                                                                                                                                                                                                                                                                                                                                                                                                                                                                                                                                                                                                                                                                                                                                                                                                                                                                                                                                                                                                                                                                                                                                                                                                                                                                                                                                                                                                                                                                                                                                                                                                                                                                                                                                                                                                                                                                                                                                                                                                                                                                                                                                                                                                                                                                                                                                                                                                                                                                                                                                                                                                                                                                                                                                                                                                                                                                                                                                                                                                                                                                                                                                                                                                                                                                                                                                                                                                                                                                                                                                                                                                                                                                                                                                                                                                                                                                                                                                                                                                                                                                                                                                                                                                                                                                                                                                                                                                                                                                                                                                                                                                                                                                                                                                                                                                                                                                                                                                                                                                                                   |A good introduction to Flash, with some UI weaknesses                                                                         |\n",
            "|4.0    |0321719824|Stephanie Sullivan|This certified associate courseware comes as a package containing a DVD-ROM plus supplemental written material. The software covered is Flash CS5.\\nIt is structured in an easy to follow manner.  It is very detailed and goes over most situations that can/will occur when using Flash CS5.  It covers the very basics and this might be off-putting to people with experience using MS Windows.\\nThe presentation voices are modulated and interesting. They are personable and the viewer gets an, \"in classroom,\" feel which improved the effectiveness of the lessons for me.  Some people learn better by working along with the instructor. This video course provides the necessary files to do this and complete the tutorial as it is watched.  The narrator leaves plenty of time for this.\\n\\nFor those who learn best by listening and watching the pace of presentation designed for working along with the presentation it will seem to move slowly.\\nThe supplemental material is a good reference for after you have completed the video lesson.  The video creates a foundation of basic skills needed and the reference reinforces the lesson.  The materials are a good reference to use while one is using the program.\\n\\nAll in all I found this lesson to be a useful introduction to using Flash CS5. This course helped me to learn skills that I can use in web development. For people like myself who learn better, especially at the begining in with a presentation format this provides a faster route to getting foundation skills to build upon with reference texts.                                                                                                                                                                                                                                                                                                                                                                                                                                                                                                                                                                                                                                                                                                                                                                                                                                                                                                                                                                                                                                                                                                                                                                                                                                                                                                                                                                                                                                                                                                                                                                                                                                                                                                                                                                                                                                                                                                                                                                                                                                                                                                                                                                                                                                                                                                                                                                                                                                                                                                                                                                                                                                                                                                                                                                                                                                                                                                                                                                                                                                                                                                                                                                                                                                                                                                                                                                                                                                                                                                                                                                                                                                                                                                                                                                                                                                                                                                                                                                                                                                                                                                                                                                                                                                                                                                                                                                                                                                                                                                                                                                                                                                                                                                                                                                                                                                                                                                                                                                                                                                                                                                                                                                                                                                                                                                                                                                                                                                                                                                                                                                                                                                                                                                                                                                                                                                                                                                                                                                                                                                                                                                                                                                                                                                                                                                                                                                                                                                                                                                                                                                                                                                                                                                                                                                                                                                                                                                                                                                                                                                                                                                                                                                                           |Learn Adobe Flash Professional CS5 by Video                                                                                   |\n",
            "+-------+----------+------------------+----------------------------------------------------------------------------------------------------------------------------------------------------------------------------------------------------------------------------------------------------------------------------------------------------------------------------------------------------------------------------------------------------------------------------------------------------------------------------------------------------------------------------------------------------------------------------------------------------------------------------------------------------------------------------------------------------------------------------------------------------------------------------------------------------------------------------------------------------------------------------------------------------------------------------------------------------------------------------------------------------------------------------------------------------------------------------------------------------------------------------------------------------------------------------------------------------------------------------------------------------------------------------------------------------------------------------------------------------------------------------------------------------------------------------------------------------------------------------------------------------------------------------------------------------------------------------------------------------------------------------------------------------------------------------------------------------------------------------------------------------------------------------------------------------------------------------------------------------------------------------------------------------------------------------------------------------------------------------------------------------------------------------------------------------------------------------------------------------------------------------------------------------------------------------------------------------------------------------------------------------------------------------------------------------------------------------------------------------------------------------------------------------------------------------------------------------------------------------------------------------------------------------------------------------------------------------------------------------------------------------------------------------------------------------------------------------------------------------------------------------------------------------------------------------------------------------------------------------------------------------------------------------------------------------------------------------------------------------------------------------------------------------------------------------------------------------------------------------------------------------------------------------------------------------------------------------------------------------------------------------------------------------------------------------------------------------------------------------------------------------------------------------------------------------------------------------------------------------------------------------------------------------------------------------------------------------------------------------------------------------------------------------------------------------------------------------------------------------------------------------------------------------------------------------------------------------------------------------------------------------------------------------------------------------------------------------------------------------------------------------------------------------------------------------------------------------------------------------------------------------------------------------------------------------------------------------------------------------------------------------------------------------------------------------------------------------------------------------------------------------------------------------------------------------------------------------------------------------------------------------------------------------------------------------------------------------------------------------------------------------------------------------------------------------------------------------------------------------------------------------------------------------------------------------------------------------------------------------------------------------------------------------------------------------------------------------------------------------------------------------------------------------------------------------------------------------------------------------------------------------------------------------------------------------------------------------------------------------------------------------------------------------------------------------------------------------------------------------------------------------------------------------------------------------------------------------------------------------------------------------------------------------------------------------------------------------------------------------------------------------------------------------------------------------------------------------------------------------------------------------------------------------------------------------------------------------------------------------------------------------------------------------------------------------------------------------------------------------------------------------------------------------------------------------------------------------------------------------------------------------------------------------------------------------------------------------------------------------------------------------------------------------------------------------------------------------------------------------------------------------------------------------------------------------------------------------------------------------------------------------------------------------------------------------------------------------------------------------------------------------------------------------------------------------------------------------------------------------------------------------------------------------------------------------------------------------------------------------------------------------------------------------------------------------------------------------------------------------------------------------------------------------------------------------------------------------------------------------------------------------------------------------------------------------------------------------------------------------------------------------------------------------------------------------------------------------------------------------------------------------------------------------------------------------------------------------------------------------------------------------------------------------------------------------------------------------------------------------------------------------------------------------------------------------------------------------------------------------------------------------------------------------------------------------------------------------------------------------------------------------------------------------------------------------------------------------------------------------------------------------------------------------------------------------------------------------------------------------------------------------------------------------------------------------------------------------------------------------------------------------------------------------------------------------------------------------------------------------------------------------------------------------------------------------------------------------------------------------------------------------------------------------------------------------------------------------------------------------------------------------------------------------------------------------------------------------------------------------------------------------------------------------------------------------+------------------------------------------------------------------------------------------------------------------------------+\n",
            "only showing top 20 rows\n",
            "\n",
            "None\n",
            "Row(overall=4.0, asin='0321719816', reviewerName='WB Halper', reviewText=\"I've been using Dreamweaver (and it's predecessor Macromedia's UltraDev) for many years.  For someone who is an experienced web designer, this course is a high-level review of the CS5 version of Dreamweaver, but it doesn't go into a great enough level of detail to find it very useful.\\n\\nOn the other hand, this is a great tool for someone who is a relative novice at web design.  It starts off with a basic overview of HTML and continues through the concepts necessary to build a modern web site.  Someone who goes through this course should exit with enough knowledge to create something that does what you want it do do...within reason.  Don't expect to go off and build an entire e-commerce system with only this class under your belt.\\n\\nIt's important to note that there's a long gap from site design to actual implementation.  This course teaches you how to implement a design.  The user interface and overall user experience is a different subject that isn't covered here...it's possible to do a great implementation of an absolutely abysmal design.  I speak from experience.  :)\\n\\nAs I said above, if you're a novice, a relative newcomer or just an experienced web designer who wants a refresher course, this is a good way to do it.\", summary='A solid overview of Dreamweaver CS5')\n"
          ]
        }
      ]
    },
    {
      "cell_type": "code",
      "source": [
        "from operator import add\n",
        "def to_list(a):\n",
        "    return [a]\n",
        "\n",
        "def append(a, b):\n",
        "    a.append(b)\n",
        "    return a\n",
        "\n",
        "def extend(a, b):\n",
        "    a.extend(b)\n",
        "    return a\n",
        "\n",
        "avg_values = data_rdd.map(lambda x: (x.asin, x.overall)).combineByKey(to_list, append, extend).map(lambda x: (x[0], sum(x[1])/len(x[1])))\n",
        "avg_values.take(10) #средние оценки для каждого товара"
      ],
      "metadata": {
        "colab": {
          "base_uri": "https://localhost:8080/"
        },
        "id": "6IQNZxCzRN77",
        "outputId": "c8ed7799-add0-4f8f-81bb-93e9f088bb45"
      },
      "execution_count": null,
      "outputs": [
        {
          "output_type": "execute_result",
          "data": {
            "text/plain": [
              "[('0321719816', 4.571428571428571),\n",
              " ('0321719824', 4.222222222222222),\n",
              " ('0763855553', 4.027777777777778),\n",
              " ('1413313728', 4.2105263157894735),\n",
              " ('1615354336', 4.6),\n",
              " ('B00003IRBU', 3.4285714285714284),\n",
              " ('B00003IRBV', 4.125),\n",
              " ('B00003JAU7', 4.0),\n",
              " ('B000050ZRE', 4.930131004366812),\n",
              " ('B00005AFI2', 3.6)]"
            ]
          },
          "metadata": {},
          "execution_count": 96
        }
      ]
    },
    {
      "cell_type": "code",
      "source": [
        "avg_values_less_3 = avg_values.filter(lambda x: x[1] < 3)\n",
        "avg_values_less_3.take(10) #выбираем товары с оценкой ниже 3"
      ],
      "metadata": {
        "colab": {
          "base_uri": "https://localhost:8080/"
        },
        "id": "cP_yZ-v_ghly",
        "outputId": "6d902680-ad64-468f-a4cb-3562860b4ab9"
      },
      "execution_count": null,
      "outputs": [
        {
          "output_type": "execute_result",
          "data": {
            "text/plain": [
              "[('B00005AFI4', 2.75),\n",
              " ('B00006FI0Z', 2.3333333333333335),\n",
              " ('B00006ULHT', 2.6666666666666665),\n",
              " ('B0000C8Y0W', 2.6),\n",
              " ('B00022PTRU', 2.857142857142857),\n",
              " ('B0002UCSKI', 2.4545454545454546),\n",
              " ('B00062VOW0', 2.5714285714285716),\n",
              " ('B000B5NS2G', 2.1538461538461537),\n",
              " ('B000GUDDXA', 2.1666666666666665),\n",
              " ('B000HCTYTO', 1.8461538461538463)]"
            ]
          },
          "metadata": {},
          "execution_count": 99
        }
      ]
    },
    {
      "cell_type": "code",
      "source": [
        "avg_values_less_3.takeOrdered(num = 10, key = lambda x: x[1]) #топ-10 товаров с наименьшим рейтингом."
      ],
      "metadata": {
        "colab": {
          "base_uri": "https://localhost:8080/"
        },
        "id": "gdhxHq8eg9Lz",
        "outputId": "2484ea65-d53b-4169-9b1a-4c00124d249b"
      },
      "execution_count": null,
      "outputs": [
        {
          "output_type": "execute_result",
          "data": {
            "text/plain": [
              "[('B000VQ7HO0', 1.0),\n",
              " ('B000VQ8AM8', 1.0),\n",
              " ('B000WS1590', 1.0),\n",
              " ('B0012RAVRC', 1.0),\n",
              " ('B00004W63J', 1.0),\n",
              " ('B000VSDNMI', 1.0),\n",
              " ('B0013WO6QS', 1.0),\n",
              " ('B0014GBX64', 1.0),\n",
              " ('B001676QOU', 1.0),\n",
              " ('B0014A0UDC', 1.0)]"
            ]
          },
          "metadata": {},
          "execution_count": 100
        }
      ]
    },
    {
      "cell_type": "code",
      "source": [
        "new_df = avg_values_less_3.toDF([\"asin\", \"overall\"])\n",
        "print(new_df.printSchema())\n",
        "print(new_df.show(truncate=False))"
      ],
      "metadata": {
        "colab": {
          "base_uri": "https://localhost:8080/"
        },
        "id": "FUO3DndEiCwg",
        "outputId": "6454f7c5-0178-4bb2-8a17-1af4e446b365"
      },
      "execution_count": null,
      "outputs": [
        {
          "output_type": "stream",
          "name": "stdout",
          "text": [
            "root\n",
            " |-- asin: string (nullable = true)\n",
            " |-- overall: double (nullable = true)\n",
            "\n",
            "None\n",
            "+----------+------------------+\n",
            "|asin      |overall           |\n",
            "+----------+------------------+\n",
            "|B00005AFI4|2.75              |\n",
            "|B00006FI0Z|2.3333333333333335|\n",
            "|B00006ULHT|2.6666666666666665|\n",
            "|B0000C8Y0W|2.6               |\n",
            "|B00022PTRU|2.857142857142857 |\n",
            "|B0002UCSKI|2.4545454545454546|\n",
            "|B00062VOW0|2.5714285714285716|\n",
            "|B000B5NS2G|2.1538461538461537|\n",
            "|B000GUDDXA|2.1666666666666665|\n",
            "|B000HCTYTO|1.8461538461538463|\n",
            "|B000HCTY1W|2.5               |\n",
            "|B000HCVR30|2.25              |\n",
            "|B000HCZ9AW|2.2666666666666666|\n",
            "|B000HCZ9BG|2.1538461538461537|\n",
            "|B000HCXKKS|2.6666666666666665|\n",
            "|B000HCTYTE|2.466666666666667 |\n",
            "|B000LP6JKY|2.8               |\n",
            "|B000T9LUBU|2.230769230769231 |\n",
            "|B000VQ7HO0|1.0               |\n",
            "|B000VQ8AM8|1.0               |\n",
            "+----------+------------------+\n",
            "only showing top 20 rows\n",
            "\n",
            "None\n"
          ]
        }
      ]
    },
    {
      "cell_type": "markdown",
      "source": [
        "# 3 задание"
      ],
      "metadata": {
        "id": "hKURUHGKjNDP"
      }
    },
    {
      "cell_type": "code",
      "source": [
        "!wget --no-check-certificate https://jmcauley.ucsd.edu/data/amazon_v2/categoryFilesSmall/Movies_and_TV_5.json.gz"
      ],
      "metadata": {
        "colab": {
          "base_uri": "https://localhost:8080/"
        },
        "id": "FoecU5r6LcmC",
        "outputId": "faedfd6f-8723-4585-8b19-3b1872ac5354"
      },
      "execution_count": 4,
      "outputs": [
        {
          "output_type": "stream",
          "name": "stdout",
          "text": [
            "--2023-06-01 01:33:02--  https://jmcauley.ucsd.edu/data/amazon_v2/categoryFilesSmall/Movies_and_TV_5.json.gz\n",
            "Resolving jmcauley.ucsd.edu (jmcauley.ucsd.edu)... 137.110.160.73\n",
            "Connecting to jmcauley.ucsd.edu (jmcauley.ucsd.edu)|137.110.160.73|:443... connected.\n",
            "WARNING: cannot verify jmcauley.ucsd.edu's certificate, issued by ‘CN=InCommon RSA Server CA,OU=InCommon,O=Internet2,L=Ann Arbor,ST=MI,C=US’:\n",
            "  Unable to locally verify the issuer's authority.\n",
            "HTTP request sent, awaiting response... 200 OK\n",
            "Length: 791322468 (755M) [application/x-gzip]\n",
            "Saving to: ‘Movies_and_TV_5.json.gz’\n",
            "\n",
            "Movies_and_TV_5.jso 100%[===================>] 754.66M  54.4MB/s    in 8.4s    \n",
            "\n",
            "2023-06-01 01:33:11 (89.6 MB/s) - ‘Movies_and_TV_5.json.gz’ saved [791322468/791322468]\n",
            "\n"
          ]
        }
      ]
    },
    {
      "cell_type": "code",
      "source": [
        "import pandas as pd\n",
        "import gzip\n",
        "import json\n",
        "\n",
        "def parse(path):\n",
        "  g = gzip.open(path, 'rb')\n",
        "  for l in g:\n",
        "    yield json.loads(l)\n",
        "\n",
        "def getDF(path):\n",
        "  i = 0\n",
        "  df = {}\n",
        "  for d in parse(path):\n",
        "    df[i] = d\n",
        "    i += 1\n",
        "    if i == 250000: #java.lang.OutOfMemoryError: Java heap space, так что уменьшаем количество данных\n",
        "      break\n",
        "  return pd.DataFrame.from_dict(df, orient='index')\n",
        "\n",
        "df = getDF('Movies_and_TV_5.json.gz')\n",
        "df.head()"
      ],
      "metadata": {
        "colab": {
          "base_uri": "https://localhost:8080/",
          "height": 206
        },
        "id": "9tVNsaGckSCo",
        "outputId": "dc04fec2-fe82-4091-aef5-646cca77fa15"
      },
      "execution_count": 5,
      "outputs": [
        {
          "output_type": "execute_result",
          "data": {
            "text/plain": [
              "   overall  verified   reviewTime      reviewerID        asin  \\\n",
              "0      5.0      True   11 9, 2012  A2M1CU2IRZG0K9  0005089549   \n",
              "1      5.0      True  12 30, 2011   AFTUJYISOFHY6  0005089549   \n",
              "2      5.0      True  04 21, 2005  A3JVF9Y53BEOGC  000503860X   \n",
              "3      5.0      True   04 6, 2005  A12VPEOEZS1KTC  000503860X   \n",
              "4      5.0      True   12 3, 2010   ATLZNVLYKP9AZ  000503860X   \n",
              "\n",
              "                      style            reviewerName  \\\n",
              "0  {'Format:': ' VHS Tape'}                   Terri   \n",
              "1  {'Format:': ' VHS Tape'}  Melissa D. Abercrombie   \n",
              "2       {'Format:': ' DVD'}        Anthony Thompson   \n",
              "3       {'Format:': ' DVD'}                JadeRain   \n",
              "4       {'Format:': ' DVD'}               T. Fisher   \n",
              "\n",
              "                                          reviewText  \\\n",
              "0  So sorry I didn't purchase this years ago when...   \n",
              "1  Believe me when I tell you that you will recei...   \n",
              "2  I have seen X live many times, both in the ear...   \n",
              "3  I was so excited for this!  Finally, a live co...   \n",
              "4  X is one of the best punk bands ever. I don't ...   \n",
              "\n",
              "                               summary  unixReviewTime vote image  \n",
              "0                             Amazing!      1352419200  NaN   NaN  \n",
              "1  Great Gospel VHS of the Cathedrals!      1325203200  NaN   NaN  \n",
              "2     A great document of a great band      1114041600   11   NaN  \n",
              "3                      YES!!  X LIVE!!      1112745600    5   NaN  \n",
              "4                  X have still got it      1291334400    5   NaN  "
            ],
            "text/html": [
              "\n",
              "  <div id=\"df-35ce50e9-302f-40d0-898a-55da9394e129\">\n",
              "    <div class=\"colab-df-container\">\n",
              "      <div>\n",
              "<style scoped>\n",
              "    .dataframe tbody tr th:only-of-type {\n",
              "        vertical-align: middle;\n",
              "    }\n",
              "\n",
              "    .dataframe tbody tr th {\n",
              "        vertical-align: top;\n",
              "    }\n",
              "\n",
              "    .dataframe thead th {\n",
              "        text-align: right;\n",
              "    }\n",
              "</style>\n",
              "<table border=\"1\" class=\"dataframe\">\n",
              "  <thead>\n",
              "    <tr style=\"text-align: right;\">\n",
              "      <th></th>\n",
              "      <th>overall</th>\n",
              "      <th>verified</th>\n",
              "      <th>reviewTime</th>\n",
              "      <th>reviewerID</th>\n",
              "      <th>asin</th>\n",
              "      <th>style</th>\n",
              "      <th>reviewerName</th>\n",
              "      <th>reviewText</th>\n",
              "      <th>summary</th>\n",
              "      <th>unixReviewTime</th>\n",
              "      <th>vote</th>\n",
              "      <th>image</th>\n",
              "    </tr>\n",
              "  </thead>\n",
              "  <tbody>\n",
              "    <tr>\n",
              "      <th>0</th>\n",
              "      <td>5.0</td>\n",
              "      <td>True</td>\n",
              "      <td>11 9, 2012</td>\n",
              "      <td>A2M1CU2IRZG0K9</td>\n",
              "      <td>0005089549</td>\n",
              "      <td>{'Format:': ' VHS Tape'}</td>\n",
              "      <td>Terri</td>\n",
              "      <td>So sorry I didn't purchase this years ago when...</td>\n",
              "      <td>Amazing!</td>\n",
              "      <td>1352419200</td>\n",
              "      <td>NaN</td>\n",
              "      <td>NaN</td>\n",
              "    </tr>\n",
              "    <tr>\n",
              "      <th>1</th>\n",
              "      <td>5.0</td>\n",
              "      <td>True</td>\n",
              "      <td>12 30, 2011</td>\n",
              "      <td>AFTUJYISOFHY6</td>\n",
              "      <td>0005089549</td>\n",
              "      <td>{'Format:': ' VHS Tape'}</td>\n",
              "      <td>Melissa D. Abercrombie</td>\n",
              "      <td>Believe me when I tell you that you will recei...</td>\n",
              "      <td>Great Gospel VHS of the Cathedrals!</td>\n",
              "      <td>1325203200</td>\n",
              "      <td>NaN</td>\n",
              "      <td>NaN</td>\n",
              "    </tr>\n",
              "    <tr>\n",
              "      <th>2</th>\n",
              "      <td>5.0</td>\n",
              "      <td>True</td>\n",
              "      <td>04 21, 2005</td>\n",
              "      <td>A3JVF9Y53BEOGC</td>\n",
              "      <td>000503860X</td>\n",
              "      <td>{'Format:': ' DVD'}</td>\n",
              "      <td>Anthony Thompson</td>\n",
              "      <td>I have seen X live many times, both in the ear...</td>\n",
              "      <td>A great document of a great band</td>\n",
              "      <td>1114041600</td>\n",
              "      <td>11</td>\n",
              "      <td>NaN</td>\n",
              "    </tr>\n",
              "    <tr>\n",
              "      <th>3</th>\n",
              "      <td>5.0</td>\n",
              "      <td>True</td>\n",
              "      <td>04 6, 2005</td>\n",
              "      <td>A12VPEOEZS1KTC</td>\n",
              "      <td>000503860X</td>\n",
              "      <td>{'Format:': ' DVD'}</td>\n",
              "      <td>JadeRain</td>\n",
              "      <td>I was so excited for this!  Finally, a live co...</td>\n",
              "      <td>YES!!  X LIVE!!</td>\n",
              "      <td>1112745600</td>\n",
              "      <td>5</td>\n",
              "      <td>NaN</td>\n",
              "    </tr>\n",
              "    <tr>\n",
              "      <th>4</th>\n",
              "      <td>5.0</td>\n",
              "      <td>True</td>\n",
              "      <td>12 3, 2010</td>\n",
              "      <td>ATLZNVLYKP9AZ</td>\n",
              "      <td>000503860X</td>\n",
              "      <td>{'Format:': ' DVD'}</td>\n",
              "      <td>T. Fisher</td>\n",
              "      <td>X is one of the best punk bands ever. I don't ...</td>\n",
              "      <td>X have still got it</td>\n",
              "      <td>1291334400</td>\n",
              "      <td>5</td>\n",
              "      <td>NaN</td>\n",
              "    </tr>\n",
              "  </tbody>\n",
              "</table>\n",
              "</div>\n",
              "      <button class=\"colab-df-convert\" onclick=\"convertToInteractive('df-35ce50e9-302f-40d0-898a-55da9394e129')\"\n",
              "              title=\"Convert this dataframe to an interactive table.\"\n",
              "              style=\"display:none;\">\n",
              "        \n",
              "  <svg xmlns=\"http://www.w3.org/2000/svg\" height=\"24px\"viewBox=\"0 0 24 24\"\n",
              "       width=\"24px\">\n",
              "    <path d=\"M0 0h24v24H0V0z\" fill=\"none\"/>\n",
              "    <path d=\"M18.56 5.44l.94 2.06.94-2.06 2.06-.94-2.06-.94-.94-2.06-.94 2.06-2.06.94zm-11 1L8.5 8.5l.94-2.06 2.06-.94-2.06-.94L8.5 2.5l-.94 2.06-2.06.94zm10 10l.94 2.06.94-2.06 2.06-.94-2.06-.94-.94-2.06-.94 2.06-2.06.94z\"/><path d=\"M17.41 7.96l-1.37-1.37c-.4-.4-.92-.59-1.43-.59-.52 0-1.04.2-1.43.59L10.3 9.45l-7.72 7.72c-.78.78-.78 2.05 0 2.83L4 21.41c.39.39.9.59 1.41.59.51 0 1.02-.2 1.41-.59l7.78-7.78 2.81-2.81c.8-.78.8-2.07 0-2.86zM5.41 20L4 18.59l7.72-7.72 1.47 1.35L5.41 20z\"/>\n",
              "  </svg>\n",
              "      </button>\n",
              "      \n",
              "  <style>\n",
              "    .colab-df-container {\n",
              "      display:flex;\n",
              "      flex-wrap:wrap;\n",
              "      gap: 12px;\n",
              "    }\n",
              "\n",
              "    .colab-df-convert {\n",
              "      background-color: #E8F0FE;\n",
              "      border: none;\n",
              "      border-radius: 50%;\n",
              "      cursor: pointer;\n",
              "      display: none;\n",
              "      fill: #1967D2;\n",
              "      height: 32px;\n",
              "      padding: 0 0 0 0;\n",
              "      width: 32px;\n",
              "    }\n",
              "\n",
              "    .colab-df-convert:hover {\n",
              "      background-color: #E2EBFA;\n",
              "      box-shadow: 0px 1px 2px rgba(60, 64, 67, 0.3), 0px 1px 3px 1px rgba(60, 64, 67, 0.15);\n",
              "      fill: #174EA6;\n",
              "    }\n",
              "\n",
              "    [theme=dark] .colab-df-convert {\n",
              "      background-color: #3B4455;\n",
              "      fill: #D2E3FC;\n",
              "    }\n",
              "\n",
              "    [theme=dark] .colab-df-convert:hover {\n",
              "      background-color: #434B5C;\n",
              "      box-shadow: 0px 1px 3px 1px rgba(0, 0, 0, 0.15);\n",
              "      filter: drop-shadow(0px 1px 2px rgba(0, 0, 0, 0.3));\n",
              "      fill: #FFFFFF;\n",
              "    }\n",
              "  </style>\n",
              "\n",
              "      <script>\n",
              "        const buttonEl =\n",
              "          document.querySelector('#df-35ce50e9-302f-40d0-898a-55da9394e129 button.colab-df-convert');\n",
              "        buttonEl.style.display =\n",
              "          google.colab.kernel.accessAllowed ? 'block' : 'none';\n",
              "\n",
              "        async function convertToInteractive(key) {\n",
              "          const element = document.querySelector('#df-35ce50e9-302f-40d0-898a-55da9394e129');\n",
              "          const dataTable =\n",
              "            await google.colab.kernel.invokeFunction('convertToInteractive',\n",
              "                                                     [key], {});\n",
              "          if (!dataTable) return;\n",
              "\n",
              "          const docLinkHtml = 'Like what you see? Visit the ' +\n",
              "            '<a target=\"_blank\" href=https://colab.research.google.com/notebooks/data_table.ipynb>data table notebook</a>'\n",
              "            + ' to learn more about interactive tables.';\n",
              "          element.innerHTML = '';\n",
              "          dataTable['output_type'] = 'display_data';\n",
              "          await google.colab.output.renderOutput(dataTable, element);\n",
              "          const docLink = document.createElement('div');\n",
              "          docLink.innerHTML = docLinkHtml;\n",
              "          element.appendChild(docLink);\n",
              "        }\n",
              "      </script>\n",
              "    </div>\n",
              "  </div>\n",
              "  "
            ]
          },
          "metadata": {},
          "execution_count": 5
        }
      ]
    },
    {
      "cell_type": "code",
      "source": [
        "df = df[['overall', 'asin', 'reviewerName', 'reviewText', 'summary']]\n",
        "df.head()"
      ],
      "metadata": {
        "colab": {
          "base_uri": "https://localhost:8080/",
          "height": 206
        },
        "id": "8_nqnt5NFgKX",
        "outputId": "85664262-fdcc-4c8c-a59e-252a8476c500"
      },
      "execution_count": 6,
      "outputs": [
        {
          "output_type": "execute_result",
          "data": {
            "text/plain": [
              "   overall        asin            reviewerName  \\\n",
              "0      5.0  0005089549                   Terri   \n",
              "1      5.0  0005089549  Melissa D. Abercrombie   \n",
              "2      5.0  000503860X        Anthony Thompson   \n",
              "3      5.0  000503860X                JadeRain   \n",
              "4      5.0  000503860X               T. Fisher   \n",
              "\n",
              "                                          reviewText  \\\n",
              "0  So sorry I didn't purchase this years ago when...   \n",
              "1  Believe me when I tell you that you will recei...   \n",
              "2  I have seen X live many times, both in the ear...   \n",
              "3  I was so excited for this!  Finally, a live co...   \n",
              "4  X is one of the best punk bands ever. I don't ...   \n",
              "\n",
              "                               summary  \n",
              "0                             Amazing!  \n",
              "1  Great Gospel VHS of the Cathedrals!  \n",
              "2     A great document of a great band  \n",
              "3                      YES!!  X LIVE!!  \n",
              "4                  X have still got it  "
            ],
            "text/html": [
              "\n",
              "  <div id=\"df-2152ea04-9bec-439e-96fd-de228fabb14b\">\n",
              "    <div class=\"colab-df-container\">\n",
              "      <div>\n",
              "<style scoped>\n",
              "    .dataframe tbody tr th:only-of-type {\n",
              "        vertical-align: middle;\n",
              "    }\n",
              "\n",
              "    .dataframe tbody tr th {\n",
              "        vertical-align: top;\n",
              "    }\n",
              "\n",
              "    .dataframe thead th {\n",
              "        text-align: right;\n",
              "    }\n",
              "</style>\n",
              "<table border=\"1\" class=\"dataframe\">\n",
              "  <thead>\n",
              "    <tr style=\"text-align: right;\">\n",
              "      <th></th>\n",
              "      <th>overall</th>\n",
              "      <th>asin</th>\n",
              "      <th>reviewerName</th>\n",
              "      <th>reviewText</th>\n",
              "      <th>summary</th>\n",
              "    </tr>\n",
              "  </thead>\n",
              "  <tbody>\n",
              "    <tr>\n",
              "      <th>0</th>\n",
              "      <td>5.0</td>\n",
              "      <td>0005089549</td>\n",
              "      <td>Terri</td>\n",
              "      <td>So sorry I didn't purchase this years ago when...</td>\n",
              "      <td>Amazing!</td>\n",
              "    </tr>\n",
              "    <tr>\n",
              "      <th>1</th>\n",
              "      <td>5.0</td>\n",
              "      <td>0005089549</td>\n",
              "      <td>Melissa D. Abercrombie</td>\n",
              "      <td>Believe me when I tell you that you will recei...</td>\n",
              "      <td>Great Gospel VHS of the Cathedrals!</td>\n",
              "    </tr>\n",
              "    <tr>\n",
              "      <th>2</th>\n",
              "      <td>5.0</td>\n",
              "      <td>000503860X</td>\n",
              "      <td>Anthony Thompson</td>\n",
              "      <td>I have seen X live many times, both in the ear...</td>\n",
              "      <td>A great document of a great band</td>\n",
              "    </tr>\n",
              "    <tr>\n",
              "      <th>3</th>\n",
              "      <td>5.0</td>\n",
              "      <td>000503860X</td>\n",
              "      <td>JadeRain</td>\n",
              "      <td>I was so excited for this!  Finally, a live co...</td>\n",
              "      <td>YES!!  X LIVE!!</td>\n",
              "    </tr>\n",
              "    <tr>\n",
              "      <th>4</th>\n",
              "      <td>5.0</td>\n",
              "      <td>000503860X</td>\n",
              "      <td>T. Fisher</td>\n",
              "      <td>X is one of the best punk bands ever. I don't ...</td>\n",
              "      <td>X have still got it</td>\n",
              "    </tr>\n",
              "  </tbody>\n",
              "</table>\n",
              "</div>\n",
              "      <button class=\"colab-df-convert\" onclick=\"convertToInteractive('df-2152ea04-9bec-439e-96fd-de228fabb14b')\"\n",
              "              title=\"Convert this dataframe to an interactive table.\"\n",
              "              style=\"display:none;\">\n",
              "        \n",
              "  <svg xmlns=\"http://www.w3.org/2000/svg\" height=\"24px\"viewBox=\"0 0 24 24\"\n",
              "       width=\"24px\">\n",
              "    <path d=\"M0 0h24v24H0V0z\" fill=\"none\"/>\n",
              "    <path d=\"M18.56 5.44l.94 2.06.94-2.06 2.06-.94-2.06-.94-.94-2.06-.94 2.06-2.06.94zm-11 1L8.5 8.5l.94-2.06 2.06-.94-2.06-.94L8.5 2.5l-.94 2.06-2.06.94zm10 10l.94 2.06.94-2.06 2.06-.94-2.06-.94-.94-2.06-.94 2.06-2.06.94z\"/><path d=\"M17.41 7.96l-1.37-1.37c-.4-.4-.92-.59-1.43-.59-.52 0-1.04.2-1.43.59L10.3 9.45l-7.72 7.72c-.78.78-.78 2.05 0 2.83L4 21.41c.39.39.9.59 1.41.59.51 0 1.02-.2 1.41-.59l7.78-7.78 2.81-2.81c.8-.78.8-2.07 0-2.86zM5.41 20L4 18.59l7.72-7.72 1.47 1.35L5.41 20z\"/>\n",
              "  </svg>\n",
              "      </button>\n",
              "      \n",
              "  <style>\n",
              "    .colab-df-container {\n",
              "      display:flex;\n",
              "      flex-wrap:wrap;\n",
              "      gap: 12px;\n",
              "    }\n",
              "\n",
              "    .colab-df-convert {\n",
              "      background-color: #E8F0FE;\n",
              "      border: none;\n",
              "      border-radius: 50%;\n",
              "      cursor: pointer;\n",
              "      display: none;\n",
              "      fill: #1967D2;\n",
              "      height: 32px;\n",
              "      padding: 0 0 0 0;\n",
              "      width: 32px;\n",
              "    }\n",
              "\n",
              "    .colab-df-convert:hover {\n",
              "      background-color: #E2EBFA;\n",
              "      box-shadow: 0px 1px 2px rgba(60, 64, 67, 0.3), 0px 1px 3px 1px rgba(60, 64, 67, 0.15);\n",
              "      fill: #174EA6;\n",
              "    }\n",
              "\n",
              "    [theme=dark] .colab-df-convert {\n",
              "      background-color: #3B4455;\n",
              "      fill: #D2E3FC;\n",
              "    }\n",
              "\n",
              "    [theme=dark] .colab-df-convert:hover {\n",
              "      background-color: #434B5C;\n",
              "      box-shadow: 0px 1px 3px 1px rgba(0, 0, 0, 0.15);\n",
              "      filter: drop-shadow(0px 1px 2px rgba(0, 0, 0, 0.3));\n",
              "      fill: #FFFFFF;\n",
              "    }\n",
              "  </style>\n",
              "\n",
              "      <script>\n",
              "        const buttonEl =\n",
              "          document.querySelector('#df-2152ea04-9bec-439e-96fd-de228fabb14b button.colab-df-convert');\n",
              "        buttonEl.style.display =\n",
              "          google.colab.kernel.accessAllowed ? 'block' : 'none';\n",
              "\n",
              "        async function convertToInteractive(key) {\n",
              "          const element = document.querySelector('#df-2152ea04-9bec-439e-96fd-de228fabb14b');\n",
              "          const dataTable =\n",
              "            await google.colab.kernel.invokeFunction('convertToInteractive',\n",
              "                                                     [key], {});\n",
              "          if (!dataTable) return;\n",
              "\n",
              "          const docLinkHtml = 'Like what you see? Visit the ' +\n",
              "            '<a target=\"_blank\" href=https://colab.research.google.com/notebooks/data_table.ipynb>data table notebook</a>'\n",
              "            + ' to learn more about interactive tables.';\n",
              "          element.innerHTML = '';\n",
              "          dataTable['output_type'] = 'display_data';\n",
              "          await google.colab.output.renderOutput(dataTable, element);\n",
              "          const docLink = document.createElement('div');\n",
              "          docLink.innerHTML = docLinkHtml;\n",
              "          element.appendChild(docLink);\n",
              "        }\n",
              "      </script>\n",
              "    </div>\n",
              "  </div>\n",
              "  "
            ]
          },
          "metadata": {},
          "execution_count": 6
        }
      ]
    },
    {
      "cell_type": "code",
      "source": [
        "print(\"Before dropna:\", df.shape)\n",
        "df = df.dropna()\n",
        "print(\"After dropna:\", df.shape)"
      ],
      "metadata": {
        "colab": {
          "base_uri": "https://localhost:8080/"
        },
        "id": "IpMHuy-Pk4NU",
        "outputId": "98cdf750-a811-4742-e96b-0bf90ba7c56e"
      },
      "execution_count": 7,
      "outputs": [
        {
          "output_type": "stream",
          "name": "stdout",
          "text": [
            "Before dropna: (250000, 5)\n",
            "After dropna: (249874, 5)\n"
          ]
        }
      ]
    },
    {
      "cell_type": "code",
      "source": [
        "spark_df = spark.createDataFrame(df)\n",
        "print(spark_df.printSchema())\n",
        "print(spark_df.show(truncate=False))\n",
        "data_rdd = spark_df.rdd \n",
        "print(data_rdd.first())"
      ],
      "metadata": {
        "colab": {
          "base_uri": "https://localhost:8080/"
        },
        "id": "jfA-dL0LlLli",
        "outputId": "6ef9cbff-9b8b-4df3-8718-721218a5d0e7"
      },
      "execution_count": 8,
      "outputs": [
        {
          "output_type": "stream",
          "name": "stdout",
          "text": [
            "root\n",
            " |-- overall: double (nullable = true)\n",
            " |-- asin: string (nullable = true)\n",
            " |-- reviewerName: string (nullable = true)\n",
            " |-- reviewText: string (nullable = true)\n",
            " |-- summary: string (nullable = true)\n",
            "\n",
            "None\n",
            "+-------+----------+----------------------+-------------------------------------------------------------------------------------------------------------------------------------------------------------------------------------------------------------------------------------------------------------------------------------------------------------------------------------------------------------------------------------------------------------------------------------------------------------------------------------------------------------------------------------------------------------------------------------------------------------------------------------------------------------------------------------------------------------------------------------------------------------------------------------------------------------------------------------------------------------------------------------------------------------------------------------------------------------------------------------------------------------------------------------------------------------------------------------------------------------------------------------------------------------------------------------------------------------------------------------------------------------------------------------------------------------------------------------------------------------------------------------------------------------------------------------------------------------------------------------------------------------------------------------------------------------------------------------------------------------------------------------------------------------------------------------------------------------------------------------------------------------------------------------------------------------------------------------------------------------------------------------------------------------------------------------------------------------------------------------------------------------------------------------------------------------------------------------------------------------------------------------------------------------------------------------------------------------------------------------------------------------------------------------------------------------------------------------------------------------------------------------------------------------------------------------------------+----------------------------------------------------------+\n",
            "|overall|asin      |reviewerName          |reviewText                                                                                                                                                                                                                                                                                                                                                                                                                                                                                                                                                                                                                                                                                                                                                                                                                                                                                                                                                                                                                                                                                                                                                                                                                                                                                                                                                                                                                                                                                                                                                                                                                                                                                                                                                                                                                                                                                                                                                                                                                                                                                                                                                                                                                                                                                                                                                                                                                                       |summary                                                   |\n",
            "+-------+----------+----------------------+-------------------------------------------------------------------------------------------------------------------------------------------------------------------------------------------------------------------------------------------------------------------------------------------------------------------------------------------------------------------------------------------------------------------------------------------------------------------------------------------------------------------------------------------------------------------------------------------------------------------------------------------------------------------------------------------------------------------------------------------------------------------------------------------------------------------------------------------------------------------------------------------------------------------------------------------------------------------------------------------------------------------------------------------------------------------------------------------------------------------------------------------------------------------------------------------------------------------------------------------------------------------------------------------------------------------------------------------------------------------------------------------------------------------------------------------------------------------------------------------------------------------------------------------------------------------------------------------------------------------------------------------------------------------------------------------------------------------------------------------------------------------------------------------------------------------------------------------------------------------------------------------------------------------------------------------------------------------------------------------------------------------------------------------------------------------------------------------------------------------------------------------------------------------------------------------------------------------------------------------------------------------------------------------------------------------------------------------------------------------------------------------------------------------------------------------------+----------------------------------------------------------+\n",
            "|5.0    |0005089549|Terri                 |So sorry I didn't purchase this years ago when it first came out!!  This is very good and entertaining!  We absolutely loved it and anticipate seeing it repeatedly.  We actually wore out the cassette years back, so we also purchased this same product on cd.  Best purchase we made out of all!  Would purchase on dvd if we could find one.                                                                                                                                                                                                                                                                                                                                                                                                                                                                                                                                                                                                                                                                                                                                                                                                                                                                                                                                                                                                                                                                                                                                                                                                                                                                                                                                                                                                                                                                                                                                                                                                                                                                                                                                                                                                                                                                                                                                                                                                                                                                                                |Amazing!                                                  |\n",
            "|5.0    |0005089549|Melissa D. Abercrombie|Believe me when I tell you that you will receive a blessing watching this video of the Cathedral Quartet.  They bring back most of the singers that were ever in their group and it is a really great VHS.                                                                                                                                                                                                                                                                                                                                                                                                                                                                                                                                                                                                                                                                                                                                                                                                                                                                                                                                                                                                                                                                                                                                                                                                                                                                                                                                                                                                                                                                                                                                                                                                                                                                                                                                                                                                                                                                                                                                                                                                                                                                                                                                                                                                                                       |Great Gospel VHS of the Cathedrals!                       |\n",
            "|5.0    |000503860X|Anthony Thompson      |I have seen X live many times, both in the early days and their more recent reunion shows. Trust me when I say this: they never disappoint as a live band! This DVD document of a show on their home turf of LA is a dream come true. Can't wait.                                                                                                                                                                                                                                                                                                                                                                                                                                                                                                                                                                                                                                                                                                                                                                                                                                                                                                                                                                                                                                                                                                                                                                                                                                                                                                                                                                                                                                                                                                                                                                                                                                                                                                                                                                                                                                                                                                                                                                                                                                                                                                                                                                                                |A great document of a great band                          |\n",
            "|5.0    |000503860X|JadeRain              |I was so excited for this!  Finally, a live concert video from X!  I've seen them twice, both times with Tony G. on guitar (he was superb by the way).  But we all know you HAVE to have Billy Zoom in the band. I haven't been able to see them, but this DVD will do the trick.  This DVD is AMAZING!! One listen/viewing makes me instantly forget all the \"power pop\" \"punk\" bands that are around now.  Their sound is fantastic, full, fast, heavy, thrilling!  All the members sound excellent, period.  I'm hopeful that there will be a tour, come on X!  Us old fogeys would like to see you old fogeys play your beautiful music for us!! UPDATE:  I've been so lucky to catch X a couple of times with Billy on guitar since I wrote this, it was just incredible seeing them, this DVD does give an accurate view of what it is like to have X RIPPING it up in concert!  cheers.                                                                                                                                                                                                                                                                                                                                                                                                                                                                                                                                                                                                                                                                                                                                                                                                                                                                                                                                                                                                                                                                                                                                                                                                                                                                                                                                                                                                                                                                                                                                                   |YES!!  X LIVE!!                                           |\n",
            "|5.0    |000503860X|T. Fisher             |X is one of the best punk bands ever. I don't even like calling them a punk band, but that's what they call themselves so I guess it's OK. This is musically complex punk with a lot of influences and a lot of tight playing and gripping tunes.\\n\\nThis is an awesome concert. The only two problems are that 1) it is just 67 minutes long and 2) John Doe's bass is buried too deep in the mix.\\n\\nEvery X fan should get this. More importantly, anyone who doesn't know about X should get this.\\n\\nWhy X? Did you know, for example, that:\\n- X has a different sound based on the unique harmonies between co-lead singers Exene Cervenka and John Doe that really sets them apart from anything else out there?\\n- Doe, Cervenka and drummer DJ Bonebrake also play in the country punk band The Knitters?\\n- Billy Zoom, the guitarist who originally formed the band, used to play rockabilly guitar for Gene Vincent and other big stars, and has been voted one of the greatest guitar players ever by Guitar Player magazine?\\n- X were playing Leadbelly tunes way before Kurt Cobain?\\n- Ray Manzarek, keyboard player of The Doors, produced X's first four albums? This is one of the big reasons why the band covered and generally closed its concerts with \"Soul Kitchen\" from the album&nbsp;<a data-hook=\"product-link-linked\" class=\"a-link-normal\" href=\"/The-Doors/dp/B000MCIBE8/ref=cm_cr_arp_d_rvw_txt?ie=UTF8\">The Doors</a>\\n- Cervenka and Doe used to be married, before Exene later married Viggo Mortensen -- Aragorn from the Lord of the Rings movies?\\n- Billy Zoom left the band from the mid-1980s to the mid-1990s, but during this time the band still managed to record&nbsp;<a data-hook=\"product-link-linked\" class=\"a-link-normal\" href=\"/X-Live-at-the-Whisky-a-Go-Go/dp/B000005IRW/ref=cm_cr_arp_d_rvw_txt?ie=UTF8\">X Live at the Whisky a Go-Go</a>, one of the greatest live rock albums ever, with guitarist Tony Gilkyson?\\n\\nAs this DVD proves, X is still as good as ever. Billy Zoom still plays standing in his trademark splayed-leg stance with a broad grin on his face. Did I say he is awesome? Awesome.\\n\\nI waited way too long before getting this one, thinking I could do without an X DVD. And I could have. But why should I? This really is worth it, and I'm sure I'll be putting this one in the player more often than a lot of my other music DVDs. Really, really good.|X have still got it                                       |\n",
            "|5.0    |000503860X|Stanley  C. Sargent   |I've loved X since I first saw them here in San Francisco with, I believe, Devo and Romeo Void.  Romeo Void was a disaster due to the tiny outfit Deborah squeezed her huge body into; the audience couldn't stand to look at her even when the music was good. Devo was quite good. Then X came on stage and it was like hearing a great music system play compared to a tinny radio's sound. Man, they were great and they, unlike 99% of the other \"new wave/punk\" bands of the era were pros.  They had it down and played it up. I loved them! Watching this excellent reunion video (yes, Billy Zoom still has that same perpetual, inane smile on his face while playing), I was surprised to see very much the same show I saw all those years ago, with some extra songs that came out later, that is. The band's still electrifying. I'd like to see them \"live\" again, but until then, this video is the next best thing. It's well filmed and has a great selection of their best songs. Sure, they aren't as \"pretty\" as they used to be, but before you say too much, check your rearview mirror to see how you look now compared to 20 some odd years ago. Then, once humbled, go buy this CD. You will love it!                                                                                                                                                                                                                                                                                                                                                                                                                                                                                                                                                                                                                                                                                                                                                                                                                                                                                                                                                                                                                                                                                                                                                                                                                  |A Revival to match the early shows by a great band        |\n",
            "|5.0    |000503860X|PSM/Bokor             |I must admit I was hesitant to purchase this DVD. A classic punk band performing twenty plus years later, what could one expect? Apparently, one can expect a hell of a lot. These guys and gal can still tear their songs apart.\\n\\nIt's well filmed; there isn't that MTV, rapid editing that can cause seizures. The audio is excellent; you can actually understand the lyrics. It's well mixed. It's far superior to a lot of live performance DVD's currently released by some bands. X released a product that is worthy of ones money.\\n\\nIf you like X; you'll love this DVD. If you just appreciate a good rock/punk concert, you won't be disappointed.                                                                                                                                                                                                                                                                                                                                                                                                                                                                                                                                                                                                                                                                                                                                                                                                                                                                                                                                                                                                                                                                                                                                                                                                                                                                                                                                                                                                                                                                                                                                                                                                                                                                                                                                                                               |Old punks still rule...                                   |\n",
            "|5.0    |0005419263|SuzieQ                |The little ones love this                                                                                                                                                                                                                                                                                                                                                                                                                                                                                                                                                                                                                                                                                                                                                                                                                                                                                                                                                                                                                                                                                                                                                                                                                                                                                                                                                                                                                                                                                                                                                                                                                                                                                                                                                                                                                                                                                                                                                                                                                                                                                                                                                                                                                                                                                                                                                                                                                        |Love it                                                   |\n",
            "|3.0    |0005419263|SingingButterfly      |Good songs. The DVD is a little boring.                                                                                                                                                                                                                                                                                                                                                                                                                                                                                                                                                                                                                                                                                                                                                                                                                                                                                                                                                                                                                                                                                                                                                                                                                                                                                                                                                                                                                                                                                                                                                                                                                                                                                                                                                                                                                                                                                                                                                                                                                                                                                                                                                                                                                                                                                                                                                                                                          |Three Stars                                               |\n",
            "|5.0    |0005419263|Cutegirlmomma         |The DVD came in great condition and provided lots of entertaining minutes of reliving the past.  Definitely worth the money.                                                                                                                                                                                                                                                                                                                                                                                                                                                                                                                                                                                                                                                                                                                                                                                                                                                                                                                                                                                                                                                                                                                                                                                                                                                                                                                                                                                                                                                                                                                                                                                                                                                                                                                                                                                                                                                                                                                                                                                                                                                                                                                                                                                                                                                                                                                     |Blast from the past                                       |\n",
            "|5.0    |0005092663|Amazon Customer       |Watch this and learn how we ended up in the state we are in as a dying country.                                                                                                                                                                                                                                                                                                                                                                                                                                                                                                                                                                                                                                                                                                                                                                                                                                                                                                                                                                                                                                                                                                                                                                                                                                                                                                                                                                                                                                                                                                                                                                                                                                                                                                                                                                                                                                                                                                                                                                                                                                                                                                                                                                                                                                                                                                                                                                  |Excellent Viewing                                         |\n",
            "|4.0    |0005092663|FASTEDDY              |REALLY ENJOYED                                                                                                                                                                                                                                                                                                                                                                                                                                                                                                                                                                                                                                                                                                                                                                                                                                                                                                                                                                                                                                                                                                                                                                                                                                                                                                                                                                                                                                                                                                                                                                                                                                                                                                                                                                                                                                                                                                                                                                                                                                                                                                                                                                                                                                                                                                                                                                                                                                   |Four Stars                                                |\n",
            "|5.0    |0005092663|GCK                   |excellent as usual                                                                                                                                                                                                                                                                                                                                                                                                                                                                                                                                                                                                                                                                                                                                                                                                                                                                                                                                                                                                                                                                                                                                                                                                                                                                                                                                                                                                                                                                                                                                                                                                                                                                                                                                                                                                                                                                                                                                                                                                                                                                                                                                                                                                                                                                                                                                                                                                                               |Five Stars                                                |\n",
            "|5.0    |0005092663|Dagny Dibona          |A great read.  So much historical info.\\n\\nThank you,                                                                                                                                                                                                                                                                                                                                                                                                                                                                                                                                                                                                                                                                                                                                                                                                                                                                                                                                                                                                                                                                                                                                                                                                                                                                                                                                                                                                                                                                                                                                                                                                                                                                                                                                                                                                                                                                                                                                                                                                                                                                                                                                                                                                                                                                                                                                                                                            |A great read. So much historical info                     |\n",
            "|5.0    |0005092663|Kindle Customer       |Should be a must read                                                                                                                                                                                                                                                                                                                                                                                                                                                                                                                                                                                                                                                                                                                                                                                                                                                                                                                                                                                                                                                                                                                                                                                                                                                                                                                                                                                                                                                                                                                                                                                                                                                                                                                                                                                                                                                                                                                                                                                                                                                                                                                                                                                                                                                                                                                                                                                                                            |Five Stars                                                |\n",
            "|5.0    |0005092663|Stan Laurel           |Well done video with important information that Americans should know.                                                                                                                                                                                                                                                                                                                                                                                                                                                                                                                                                                                                                                                                                                                                                                                                                                                                                                                                                                                                                                                                                                                                                                                                                                                                                                                                                                                                                                                                                                                                                                                                                                                                                                                                                                                                                                                                                                                                                                                                                                                                                                                                                                                                                                                                                                                                                                           |Americans should see this.                                |\n",
            "|2.0    |0005092663|Trish                 |While there was a lot of information in this piece (some of it coming at your faster than a freight train, another down side of the video), there is no doubt that it was produced as right-wing propaganda, which means I'm not able to use it as I hoped (for my children's home schooling). One large section of the video is a series of quotes from historical U. S. leaders, mentioning God and/or the Bible -- the quotes are simply inserted without any background or even a common-ground to relate each of them.                                                                                                                                                                                                                                                                                                                                                                                                                                                                                                                                                                                                                                                                                                                                                                                                                                                                                                                                                                                                                                                                                                                                                                                                                                                                                                                                                                                                                                                                                                                                                                                                                                                                                                                                                                                                                                                                                                                      |Lots of Info. But Mostly a Right-Wing Agenda Pusher       |\n",
            "|5.0    |0005092663|David Christhilf      |There is an essential message here that is not being told in society today.  People claim that this nation was not founded on Christianity, and that the writers of the Constitution were actually Deists rather than Christians.  There is a preponderance of evidence over centuries of time presented here, including the wording of documents such as the Mayflower Compact, that establish the Christian heritage of this nation unapologetically beyond refute, as a matter of history.\\n\\nThe other story that is not being told is the origins and destructive objectives of organizations such as Planned Parenthood and the American Civil Liberties Union (ACLU).  The founder of Planned Parenthood was interested in eugenics, and specifically in reducing the number of Blacks to survive being born in this country.  Efforts by the ACLU to remove prayer and the Bible from school are shown to be in direct conflict with the statements by the founding fathers about what they considered to be essential for a proper education that would equip the youth of this country for effective citizenship.  The redefinition of marriage to include homosexual relationships is shown to be tearing at the fabric of the traditional family, and of the stability of our society.\\n\\nWe HAVE become A Nation Adrift, and much of that comes from ignorance of how this country was founded, and of the sacrifices that were made along the way.  This DVD would be beneficial for viewing in every home, school, and church in this country.                                                                                                                                                                                                                                                                                                                                                                                                                                                                                                                                                                                                                                                                                                                                                                                                                                                                                    |This should be esential reading for everyone in the USA.  |\n",
            "|4.0    |0005092663|Jennifer McCoy        |Haters will say this is biased, that the founding fathers were not christians, or that they were deists...and maybe that's true for some of the ff. But this documentary is very informative. Our nation started as something it is most certainly not anymore. And we are falling. This movie gives insight as to why.                                                                                                                                                                                                                                                                                                                                                                                                                                                                                                                                                                                                                                                                                                                                                                                                                                                                                                                                                                                                                                                                                                                                                                                                                                                                                                                                                                                                                                                                                                                                                                                                                                                                                                                                                                                                                                                                                                                                                                                                                                                                                                                          |Haters gonna hate                                         |\n",
            "|5.0    |0005092663|L. Bridges            |What a great video that gives the early history of our great country!  I'd highly recommend this to everyone - especially for school children that are not learning the history of our country.                                                                                                                                                                                                                                                                                                                                                                                                                                                                                                                                                                                                                                                                                                                                                                                                                                                                                                                                                                                                                                                                                                                                                                                                                                                                                                                                                                                                                                                                                                                                                                                                                                                                                                                                                                                                                                                                                                                                                                                                                                                                                                                                                                                                                                                  |Interesting and educational video about our great country!|\n",
            "+-------+----------+----------------------+-------------------------------------------------------------------------------------------------------------------------------------------------------------------------------------------------------------------------------------------------------------------------------------------------------------------------------------------------------------------------------------------------------------------------------------------------------------------------------------------------------------------------------------------------------------------------------------------------------------------------------------------------------------------------------------------------------------------------------------------------------------------------------------------------------------------------------------------------------------------------------------------------------------------------------------------------------------------------------------------------------------------------------------------------------------------------------------------------------------------------------------------------------------------------------------------------------------------------------------------------------------------------------------------------------------------------------------------------------------------------------------------------------------------------------------------------------------------------------------------------------------------------------------------------------------------------------------------------------------------------------------------------------------------------------------------------------------------------------------------------------------------------------------------------------------------------------------------------------------------------------------------------------------------------------------------------------------------------------------------------------------------------------------------------------------------------------------------------------------------------------------------------------------------------------------------------------------------------------------------------------------------------------------------------------------------------------------------------------------------------------------------------------------------------------------------------+----------------------------------------------------------+\n",
            "only showing top 20 rows\n",
            "\n",
            "None\n",
            "Row(overall=5.0, asin='0005089549', reviewerName='Terri', reviewText=\"So sorry I didn't purchase this years ago when it first came out!!  This is very good and entertaining!  We absolutely loved it and anticipate seeing it repeatedly.  We actually wore out the cassette years back, so we also purchased this same product on cd.  Best purchase we made out of all!  Would purchase on dvd if we could find one.\", summary='Amazing!')\n"
          ]
        }
      ]
    },
    {
      "cell_type": "code",
      "source": [
        "def to_list(a):\n",
        "    return [a]\n",
        "\n",
        "def append(a, b):\n",
        "    a.append(b)\n",
        "    return a\n",
        "\n",
        "def extend(a, b):\n",
        "    a.extend(b)\n",
        "    return a\n",
        "\n",
        "movie_overalls = data_rdd.map(lambda x: (x.asin, x.overall)).combineByKey(to_list, append, extend)\n",
        "movie_overalls.first()"
      ],
      "metadata": {
        "colab": {
          "base_uri": "https://localhost:8080/"
        },
        "id": "c_w8MHDZtAra",
        "outputId": "8910cb2d-8395-4faf-ef02-080c2f7d4958"
      },
      "execution_count": 9,
      "outputs": [
        {
          "output_type": "execute_result",
          "data": {
            "text/plain": [
              "('0005419263', [5.0, 3.0, 5.0])"
            ]
          },
          "metadata": {},
          "execution_count": 9
        }
      ]
    },
    {
      "cell_type": "code",
      "source": [
        "y_data = movie_overalls.map(lambda x: x[1]).collect()"
      ],
      "metadata": {
        "id": "KlRlpU6W8KVq"
      },
      "execution_count": 10,
      "outputs": []
    },
    {
      "cell_type": "code",
      "source": [
        "from sklearn.metrics.pairwise import cosine_similarity\n",
        "import numpy as np\n",
        "\n",
        "def cos_sims(overall): \n",
        "  sims = []\n",
        "  for y in y_data: \n",
        "    if len(y) == len(overall):\n",
        "      y = np.array(y)\n",
        "      overall = np.array(overall)\n",
        "      sims.append(cosine_similarity(y.reshape(1, -1), overall.reshape(1, -1)))\n",
        "    else: \n",
        "      sims.append(0)\n",
        "  return sims\n",
        "\n",
        "cos_sim_rdd = movie_overalls.map(lambda x: (x[0], cos_sims(x[1])))\n",
        "cos_sim_rdd.take(1) #косинусное расстояние с каждым из векторов оценок фильмов для 1 фильма"
      ],
      "metadata": {
        "id": "km4DqK8mGN8B"
      },
      "execution_count": null,
      "outputs": []
    },
    {
      "cell_type": "code",
      "source": [
        "cos_sim_rdd.collect()[589] #косинусное расстояние с каждым из векторов оценок фильмов для 589 фильма"
      ],
      "metadata": {
        "id": "zotSQUPH-K96"
      },
      "execution_count": null,
      "outputs": []
    },
    {
      "cell_type": "code",
      "source": [
        "!wget --no-check-certificate https://datarepo.eng.ucsd.edu/mcauley_group/data/amazon_v2/metaFiles2/meta_Movies_and_TV.json.gz\n",
        "import pandas as pd\n",
        "import gzip\n",
        "import json\n",
        "\n",
        "def parse(path):\n",
        "  g = gzip.open(path, 'rb')\n",
        "  for l in g:\n",
        "    yield json.loads(l)\n",
        "\n",
        "def getDF(path):\n",
        "  i = 0\n",
        "  df = {}\n",
        "  for d in parse(path):\n",
        "    df[i] = d\n",
        "    i += 1\n",
        "  return pd.DataFrame.from_dict(df, orient='index')\n",
        "\n",
        "df = getDF('meta_Movies_and_TV.json.gz')\n",
        "df.head()"
      ],
      "metadata": {
        "id": "ZeVzhs6ix5GM",
        "colab": {
          "base_uri": "https://localhost:8080/",
          "height": 632
        },
        "outputId": "9df50321-b899-462c-e0a1-9c049e24275e"
      },
      "execution_count": 13,
      "outputs": [
        {
          "output_type": "stream",
          "name": "stdout",
          "text": [
            "--2023-06-01 01:35:09--  https://datarepo.eng.ucsd.edu/mcauley_group/data/amazon_v2/metaFiles2/meta_Movies_and_TV.json.gz\n",
            "Resolving datarepo.eng.ucsd.edu (datarepo.eng.ucsd.edu)... 132.239.8.30\n",
            "Connecting to datarepo.eng.ucsd.edu (datarepo.eng.ucsd.edu)|132.239.8.30|:443... connected.\n",
            "HTTP request sent, awaiting response... 200 OK\n",
            "Length: 104749005 (100M) [application/x-gzip]\n",
            "Saving to: ‘meta_Movies_and_TV.json.gz’\n",
            "\n",
            "meta_Movies_and_TV. 100%[===================>]  99.90M   109MB/s    in 0.9s    \n",
            "\n",
            "2023-06-01 01:35:10 (109 MB/s) - ‘meta_Movies_and_TV.json.gz’ saved [104749005/104749005]\n",
            "\n"
          ]
        },
        {
          "output_type": "execute_result",
          "data": {
            "text/plain": [
              "                category tech1  \\\n",
              "0  [Movies & TV, Movies]         \n",
              "1  [Movies & TV, Movies]         \n",
              "2  [Movies & TV, Movies]         \n",
              "3  [Movies & TV, Movies]         \n",
              "4  [Movies & TV, Movies]         \n",
              "\n",
              "                                         description fit  \\\n",
              "0                                                 []       \n",
              "1                                                 []       \n",
              "2  [Disc 1: Flour Power (Scones; Shortcakes; Sout...       \n",
              "3  [Barefoot Contessa Volume 2: On these three di...       \n",
              "4  [Rise and Swine (Good Eats Vol. 7) includes bo...       \n",
              "\n",
              "                                               title  \\\n",
              "0                Understanding Seizures and Epilepsy   \n",
              "1  Spirit Led&mdash;Moving By Grace In The Holy S...   \n",
              "2                  My Fair Pastry (Good Eats Vol. 9)   \n",
              "3  Barefoot Contessa (with Ina Garten), Entertain...   \n",
              "4                  Rise and Swine (Good Eats Vol. 7)   \n",
              "\n",
              "                                            also_buy tech2        brand  \\\n",
              "0                                                 []                      \n",
              "1                                                 []                      \n",
              "2                                                 []        Alton Brown   \n",
              "3  [B002I5GNW4, B005WXPVMM, B009UY3W8O, B00N27ID1...         Ina Garten   \n",
              "4                           [B000P1CKES, B000NR4CRM]        Alton Brown   \n",
              "\n",
              "  feature                      rank  \\\n",
              "0      []  886,503 in Movies & TV (   \n",
              "1      []  342,688 in Movies & TV (   \n",
              "2      []  370,026 in Movies & TV (   \n",
              "3      []  342,914 in Movies & TV (   \n",
              "4      []  351,684 in Movies & TV (   \n",
              "\n",
              "                                           also_view     main_cat  \\\n",
              "0                                                 []  Movies & TV   \n",
              "1                                                 []  Movies & TV   \n",
              "2                                                 []  Movies & TV   \n",
              "3  [B002I5GNW4, 0804187045, B009UY3W8O, 060960219...  Movies & TV   \n",
              "4                                       [B0015SVNXY]  Movies & TV   \n",
              "\n",
              "  similar_item date   price        asin  \\\n",
              "0                            0000695009   \n",
              "1                            0000791156   \n",
              "2                            0000143529   \n",
              "3                    $74.95  0000143588   \n",
              "4                            0000143502   \n",
              "\n",
              "                                            imageURL  \\\n",
              "0                                                 []   \n",
              "1  [https://images-na.ssl-images-amazon.com/image...   \n",
              "2  [https://images-na.ssl-images-amazon.com/image...   \n",
              "3                                                 []   \n",
              "4  [https://images-na.ssl-images-amazon.com/image...   \n",
              "\n",
              "                                     imageURLHighRes details  \n",
              "0                                                 []     NaN  \n",
              "1  [https://images-na.ssl-images-amazon.com/image...     NaN  \n",
              "2  [https://images-na.ssl-images-amazon.com/image...     NaN  \n",
              "3                                                 []     NaN  \n",
              "4  [https://images-na.ssl-images-amazon.com/image...     NaN  "
            ],
            "text/html": [
              "\n",
              "  <div id=\"df-d21f08f1-2c5a-4209-82e8-a23b29534d3a\">\n",
              "    <div class=\"colab-df-container\">\n",
              "      <div>\n",
              "<style scoped>\n",
              "    .dataframe tbody tr th:only-of-type {\n",
              "        vertical-align: middle;\n",
              "    }\n",
              "\n",
              "    .dataframe tbody tr th {\n",
              "        vertical-align: top;\n",
              "    }\n",
              "\n",
              "    .dataframe thead th {\n",
              "        text-align: right;\n",
              "    }\n",
              "</style>\n",
              "<table border=\"1\" class=\"dataframe\">\n",
              "  <thead>\n",
              "    <tr style=\"text-align: right;\">\n",
              "      <th></th>\n",
              "      <th>category</th>\n",
              "      <th>tech1</th>\n",
              "      <th>description</th>\n",
              "      <th>fit</th>\n",
              "      <th>title</th>\n",
              "      <th>also_buy</th>\n",
              "      <th>tech2</th>\n",
              "      <th>brand</th>\n",
              "      <th>feature</th>\n",
              "      <th>rank</th>\n",
              "      <th>also_view</th>\n",
              "      <th>main_cat</th>\n",
              "      <th>similar_item</th>\n",
              "      <th>date</th>\n",
              "      <th>price</th>\n",
              "      <th>asin</th>\n",
              "      <th>imageURL</th>\n",
              "      <th>imageURLHighRes</th>\n",
              "      <th>details</th>\n",
              "    </tr>\n",
              "  </thead>\n",
              "  <tbody>\n",
              "    <tr>\n",
              "      <th>0</th>\n",
              "      <td>[Movies &amp; TV, Movies]</td>\n",
              "      <td></td>\n",
              "      <td>[]</td>\n",
              "      <td></td>\n",
              "      <td>Understanding Seizures and Epilepsy</td>\n",
              "      <td>[]</td>\n",
              "      <td></td>\n",
              "      <td></td>\n",
              "      <td>[]</td>\n",
              "      <td>886,503 in Movies &amp; TV (</td>\n",
              "      <td>[]</td>\n",
              "      <td>Movies &amp; TV</td>\n",
              "      <td></td>\n",
              "      <td></td>\n",
              "      <td></td>\n",
              "      <td>0000695009</td>\n",
              "      <td>[]</td>\n",
              "      <td>[]</td>\n",
              "      <td>NaN</td>\n",
              "    </tr>\n",
              "    <tr>\n",
              "      <th>1</th>\n",
              "      <td>[Movies &amp; TV, Movies]</td>\n",
              "      <td></td>\n",
              "      <td>[]</td>\n",
              "      <td></td>\n",
              "      <td>Spirit Led&amp;mdash;Moving By Grace In The Holy S...</td>\n",
              "      <td>[]</td>\n",
              "      <td></td>\n",
              "      <td></td>\n",
              "      <td>[]</td>\n",
              "      <td>342,688 in Movies &amp; TV (</td>\n",
              "      <td>[]</td>\n",
              "      <td>Movies &amp; TV</td>\n",
              "      <td></td>\n",
              "      <td></td>\n",
              "      <td></td>\n",
              "      <td>0000791156</td>\n",
              "      <td>[https://images-na.ssl-images-amazon.com/image...</td>\n",
              "      <td>[https://images-na.ssl-images-amazon.com/image...</td>\n",
              "      <td>NaN</td>\n",
              "    </tr>\n",
              "    <tr>\n",
              "      <th>2</th>\n",
              "      <td>[Movies &amp; TV, Movies]</td>\n",
              "      <td></td>\n",
              "      <td>[Disc 1: Flour Power (Scones; Shortcakes; Sout...</td>\n",
              "      <td></td>\n",
              "      <td>My Fair Pastry (Good Eats Vol. 9)</td>\n",
              "      <td>[]</td>\n",
              "      <td></td>\n",
              "      <td>Alton Brown</td>\n",
              "      <td>[]</td>\n",
              "      <td>370,026 in Movies &amp; TV (</td>\n",
              "      <td>[]</td>\n",
              "      <td>Movies &amp; TV</td>\n",
              "      <td></td>\n",
              "      <td></td>\n",
              "      <td></td>\n",
              "      <td>0000143529</td>\n",
              "      <td>[https://images-na.ssl-images-amazon.com/image...</td>\n",
              "      <td>[https://images-na.ssl-images-amazon.com/image...</td>\n",
              "      <td>NaN</td>\n",
              "    </tr>\n",
              "    <tr>\n",
              "      <th>3</th>\n",
              "      <td>[Movies &amp; TV, Movies]</td>\n",
              "      <td></td>\n",
              "      <td>[Barefoot Contessa Volume 2: On these three di...</td>\n",
              "      <td></td>\n",
              "      <td>Barefoot Contessa (with Ina Garten), Entertain...</td>\n",
              "      <td>[B002I5GNW4, B005WXPVMM, B009UY3W8O, B00N27ID1...</td>\n",
              "      <td></td>\n",
              "      <td>Ina Garten</td>\n",
              "      <td>[]</td>\n",
              "      <td>342,914 in Movies &amp; TV (</td>\n",
              "      <td>[B002I5GNW4, 0804187045, B009UY3W8O, 060960219...</td>\n",
              "      <td>Movies &amp; TV</td>\n",
              "      <td></td>\n",
              "      <td></td>\n",
              "      <td>$74.95</td>\n",
              "      <td>0000143588</td>\n",
              "      <td>[]</td>\n",
              "      <td>[]</td>\n",
              "      <td>NaN</td>\n",
              "    </tr>\n",
              "    <tr>\n",
              "      <th>4</th>\n",
              "      <td>[Movies &amp; TV, Movies]</td>\n",
              "      <td></td>\n",
              "      <td>[Rise and Swine (Good Eats Vol. 7) includes bo...</td>\n",
              "      <td></td>\n",
              "      <td>Rise and Swine (Good Eats Vol. 7)</td>\n",
              "      <td>[B000P1CKES, B000NR4CRM]</td>\n",
              "      <td></td>\n",
              "      <td>Alton Brown</td>\n",
              "      <td>[]</td>\n",
              "      <td>351,684 in Movies &amp; TV (</td>\n",
              "      <td>[B0015SVNXY]</td>\n",
              "      <td>Movies &amp; TV</td>\n",
              "      <td></td>\n",
              "      <td></td>\n",
              "      <td></td>\n",
              "      <td>0000143502</td>\n",
              "      <td>[https://images-na.ssl-images-amazon.com/image...</td>\n",
              "      <td>[https://images-na.ssl-images-amazon.com/image...</td>\n",
              "      <td>NaN</td>\n",
              "    </tr>\n",
              "  </tbody>\n",
              "</table>\n",
              "</div>\n",
              "      <button class=\"colab-df-convert\" onclick=\"convertToInteractive('df-d21f08f1-2c5a-4209-82e8-a23b29534d3a')\"\n",
              "              title=\"Convert this dataframe to an interactive table.\"\n",
              "              style=\"display:none;\">\n",
              "        \n",
              "  <svg xmlns=\"http://www.w3.org/2000/svg\" height=\"24px\"viewBox=\"0 0 24 24\"\n",
              "       width=\"24px\">\n",
              "    <path d=\"M0 0h24v24H0V0z\" fill=\"none\"/>\n",
              "    <path d=\"M18.56 5.44l.94 2.06.94-2.06 2.06-.94-2.06-.94-.94-2.06-.94 2.06-2.06.94zm-11 1L8.5 8.5l.94-2.06 2.06-.94-2.06-.94L8.5 2.5l-.94 2.06-2.06.94zm10 10l.94 2.06.94-2.06 2.06-.94-2.06-.94-.94-2.06-.94 2.06-2.06.94z\"/><path d=\"M17.41 7.96l-1.37-1.37c-.4-.4-.92-.59-1.43-.59-.52 0-1.04.2-1.43.59L10.3 9.45l-7.72 7.72c-.78.78-.78 2.05 0 2.83L4 21.41c.39.39.9.59 1.41.59.51 0 1.02-.2 1.41-.59l7.78-7.78 2.81-2.81c.8-.78.8-2.07 0-2.86zM5.41 20L4 18.59l7.72-7.72 1.47 1.35L5.41 20z\"/>\n",
              "  </svg>\n",
              "      </button>\n",
              "      \n",
              "  <style>\n",
              "    .colab-df-container {\n",
              "      display:flex;\n",
              "      flex-wrap:wrap;\n",
              "      gap: 12px;\n",
              "    }\n",
              "\n",
              "    .colab-df-convert {\n",
              "      background-color: #E8F0FE;\n",
              "      border: none;\n",
              "      border-radius: 50%;\n",
              "      cursor: pointer;\n",
              "      display: none;\n",
              "      fill: #1967D2;\n",
              "      height: 32px;\n",
              "      padding: 0 0 0 0;\n",
              "      width: 32px;\n",
              "    }\n",
              "\n",
              "    .colab-df-convert:hover {\n",
              "      background-color: #E2EBFA;\n",
              "      box-shadow: 0px 1px 2px rgba(60, 64, 67, 0.3), 0px 1px 3px 1px rgba(60, 64, 67, 0.15);\n",
              "      fill: #174EA6;\n",
              "    }\n",
              "\n",
              "    [theme=dark] .colab-df-convert {\n",
              "      background-color: #3B4455;\n",
              "      fill: #D2E3FC;\n",
              "    }\n",
              "\n",
              "    [theme=dark] .colab-df-convert:hover {\n",
              "      background-color: #434B5C;\n",
              "      box-shadow: 0px 1px 3px 1px rgba(0, 0, 0, 0.15);\n",
              "      filter: drop-shadow(0px 1px 2px rgba(0, 0, 0, 0.3));\n",
              "      fill: #FFFFFF;\n",
              "    }\n",
              "  </style>\n",
              "\n",
              "      <script>\n",
              "        const buttonEl =\n",
              "          document.querySelector('#df-d21f08f1-2c5a-4209-82e8-a23b29534d3a button.colab-df-convert');\n",
              "        buttonEl.style.display =\n",
              "          google.colab.kernel.accessAllowed ? 'block' : 'none';\n",
              "\n",
              "        async function convertToInteractive(key) {\n",
              "          const element = document.querySelector('#df-d21f08f1-2c5a-4209-82e8-a23b29534d3a');\n",
              "          const dataTable =\n",
              "            await google.colab.kernel.invokeFunction('convertToInteractive',\n",
              "                                                     [key], {});\n",
              "          if (!dataTable) return;\n",
              "\n",
              "          const docLinkHtml = 'Like what you see? Visit the ' +\n",
              "            '<a target=\"_blank\" href=https://colab.research.google.com/notebooks/data_table.ipynb>data table notebook</a>'\n",
              "            + ' to learn more about interactive tables.';\n",
              "          element.innerHTML = '';\n",
              "          dataTable['output_type'] = 'display_data';\n",
              "          await google.colab.output.renderOutput(dataTable, element);\n",
              "          const docLink = document.createElement('div');\n",
              "          docLink.innerHTML = docLinkHtml;\n",
              "          element.appendChild(docLink);\n",
              "        }\n",
              "      </script>\n",
              "    </div>\n",
              "  </div>\n",
              "  "
            ]
          },
          "metadata": {},
          "execution_count": 13
        }
      ]
    },
    {
      "cell_type": "code",
      "source": [
        "df_titles = df[['title', 'asin']]\n",
        "df_titles.head()"
      ],
      "metadata": {
        "colab": {
          "base_uri": "https://localhost:8080/",
          "height": 206
        },
        "id": "ZheTmz4RKt4H",
        "outputId": "eab23d2d-0037-46d1-97c5-cb2245425e88"
      },
      "execution_count": 14,
      "outputs": [
        {
          "output_type": "execute_result",
          "data": {
            "text/plain": [
              "                                               title        asin\n",
              "0                Understanding Seizures and Epilepsy  0000695009\n",
              "1  Spirit Led&mdash;Moving By Grace In The Holy S...  0000791156\n",
              "2                  My Fair Pastry (Good Eats Vol. 9)  0000143529\n",
              "3  Barefoot Contessa (with Ina Garten), Entertain...  0000143588\n",
              "4                  Rise and Swine (Good Eats Vol. 7)  0000143502"
            ],
            "text/html": [
              "\n",
              "  <div id=\"df-d80334e2-d701-4adc-838a-a1d78dad13b7\">\n",
              "    <div class=\"colab-df-container\">\n",
              "      <div>\n",
              "<style scoped>\n",
              "    .dataframe tbody tr th:only-of-type {\n",
              "        vertical-align: middle;\n",
              "    }\n",
              "\n",
              "    .dataframe tbody tr th {\n",
              "        vertical-align: top;\n",
              "    }\n",
              "\n",
              "    .dataframe thead th {\n",
              "        text-align: right;\n",
              "    }\n",
              "</style>\n",
              "<table border=\"1\" class=\"dataframe\">\n",
              "  <thead>\n",
              "    <tr style=\"text-align: right;\">\n",
              "      <th></th>\n",
              "      <th>title</th>\n",
              "      <th>asin</th>\n",
              "    </tr>\n",
              "  </thead>\n",
              "  <tbody>\n",
              "    <tr>\n",
              "      <th>0</th>\n",
              "      <td>Understanding Seizures and Epilepsy</td>\n",
              "      <td>0000695009</td>\n",
              "    </tr>\n",
              "    <tr>\n",
              "      <th>1</th>\n",
              "      <td>Spirit Led&amp;mdash;Moving By Grace In The Holy S...</td>\n",
              "      <td>0000791156</td>\n",
              "    </tr>\n",
              "    <tr>\n",
              "      <th>2</th>\n",
              "      <td>My Fair Pastry (Good Eats Vol. 9)</td>\n",
              "      <td>0000143529</td>\n",
              "    </tr>\n",
              "    <tr>\n",
              "      <th>3</th>\n",
              "      <td>Barefoot Contessa (with Ina Garten), Entertain...</td>\n",
              "      <td>0000143588</td>\n",
              "    </tr>\n",
              "    <tr>\n",
              "      <th>4</th>\n",
              "      <td>Rise and Swine (Good Eats Vol. 7)</td>\n",
              "      <td>0000143502</td>\n",
              "    </tr>\n",
              "  </tbody>\n",
              "</table>\n",
              "</div>\n",
              "      <button class=\"colab-df-convert\" onclick=\"convertToInteractive('df-d80334e2-d701-4adc-838a-a1d78dad13b7')\"\n",
              "              title=\"Convert this dataframe to an interactive table.\"\n",
              "              style=\"display:none;\">\n",
              "        \n",
              "  <svg xmlns=\"http://www.w3.org/2000/svg\" height=\"24px\"viewBox=\"0 0 24 24\"\n",
              "       width=\"24px\">\n",
              "    <path d=\"M0 0h24v24H0V0z\" fill=\"none\"/>\n",
              "    <path d=\"M18.56 5.44l.94 2.06.94-2.06 2.06-.94-2.06-.94-.94-2.06-.94 2.06-2.06.94zm-11 1L8.5 8.5l.94-2.06 2.06-.94-2.06-.94L8.5 2.5l-.94 2.06-2.06.94zm10 10l.94 2.06.94-2.06 2.06-.94-2.06-.94-.94-2.06-.94 2.06-2.06.94z\"/><path d=\"M17.41 7.96l-1.37-1.37c-.4-.4-.92-.59-1.43-.59-.52 0-1.04.2-1.43.59L10.3 9.45l-7.72 7.72c-.78.78-.78 2.05 0 2.83L4 21.41c.39.39.9.59 1.41.59.51 0 1.02-.2 1.41-.59l7.78-7.78 2.81-2.81c.8-.78.8-2.07 0-2.86zM5.41 20L4 18.59l7.72-7.72 1.47 1.35L5.41 20z\"/>\n",
              "  </svg>\n",
              "      </button>\n",
              "      \n",
              "  <style>\n",
              "    .colab-df-container {\n",
              "      display:flex;\n",
              "      flex-wrap:wrap;\n",
              "      gap: 12px;\n",
              "    }\n",
              "\n",
              "    .colab-df-convert {\n",
              "      background-color: #E8F0FE;\n",
              "      border: none;\n",
              "      border-radius: 50%;\n",
              "      cursor: pointer;\n",
              "      display: none;\n",
              "      fill: #1967D2;\n",
              "      height: 32px;\n",
              "      padding: 0 0 0 0;\n",
              "      width: 32px;\n",
              "    }\n",
              "\n",
              "    .colab-df-convert:hover {\n",
              "      background-color: #E2EBFA;\n",
              "      box-shadow: 0px 1px 2px rgba(60, 64, 67, 0.3), 0px 1px 3px 1px rgba(60, 64, 67, 0.15);\n",
              "      fill: #174EA6;\n",
              "    }\n",
              "\n",
              "    [theme=dark] .colab-df-convert {\n",
              "      background-color: #3B4455;\n",
              "      fill: #D2E3FC;\n",
              "    }\n",
              "\n",
              "    [theme=dark] .colab-df-convert:hover {\n",
              "      background-color: #434B5C;\n",
              "      box-shadow: 0px 1px 3px 1px rgba(0, 0, 0, 0.15);\n",
              "      filter: drop-shadow(0px 1px 2px rgba(0, 0, 0, 0.3));\n",
              "      fill: #FFFFFF;\n",
              "    }\n",
              "  </style>\n",
              "\n",
              "      <script>\n",
              "        const buttonEl =\n",
              "          document.querySelector('#df-d80334e2-d701-4adc-838a-a1d78dad13b7 button.colab-df-convert');\n",
              "        buttonEl.style.display =\n",
              "          google.colab.kernel.accessAllowed ? 'block' : 'none';\n",
              "\n",
              "        async function convertToInteractive(key) {\n",
              "          const element = document.querySelector('#df-d80334e2-d701-4adc-838a-a1d78dad13b7');\n",
              "          const dataTable =\n",
              "            await google.colab.kernel.invokeFunction('convertToInteractive',\n",
              "                                                     [key], {});\n",
              "          if (!dataTable) return;\n",
              "\n",
              "          const docLinkHtml = 'Like what you see? Visit the ' +\n",
              "            '<a target=\"_blank\" href=https://colab.research.google.com/notebooks/data_table.ipynb>data table notebook</a>'\n",
              "            + ' to learn more about interactive tables.';\n",
              "          element.innerHTML = '';\n",
              "          dataTable['output_type'] = 'display_data';\n",
              "          await google.colab.output.renderOutput(dataTable, element);\n",
              "          const docLink = document.createElement('div');\n",
              "          docLink.innerHTML = docLinkHtml;\n",
              "          element.appendChild(docLink);\n",
              "        }\n",
              "      </script>\n",
              "    </div>\n",
              "  </div>\n",
              "  "
            ]
          },
          "metadata": {},
          "execution_count": 14
        }
      ]
    },
    {
      "cell_type": "code",
      "source": [
        "sp_df_titles = spark.createDataFrame(df_titles)\n",
        "print(sp_df_titles.printSchema())\n",
        "print(sp_df_titles.show(truncate=False))\n",
        "titles_rdd = sp_df_titles.rdd \n",
        "print(titles_rdd.first())"
      ],
      "metadata": {
        "colab": {
          "base_uri": "https://localhost:8080/"
        },
        "id": "0DEBDJeSK9BV",
        "outputId": "939de899-7f21-424e-8da1-b74dc1446127"
      },
      "execution_count": 15,
      "outputs": [
        {
          "output_type": "stream",
          "name": "stdout",
          "text": [
            "root\n",
            " |-- title: string (nullable = true)\n",
            " |-- asin: string (nullable = true)\n",
            "\n",
            "None\n",
            "+---------------------------------------------------------------------------------------------------------------------------------+----------+\n",
            "|title                                                                                                                            |asin      |\n",
            "+---------------------------------------------------------------------------------------------------------------------------------+----------+\n",
            "|Understanding Seizures and Epilepsy                                                                                              |0000695009|\n",
            "|Spirit Led&mdash;Moving By Grace In The Holy Spirit's Gifts                                                                      |0000791156|\n",
            "|My Fair Pastry (Good Eats Vol. 9)                                                                                                |0000143529|\n",
            "|Barefoot Contessa (with Ina Garten), Entertaining With Ina Vol. 2 (3 Pack): Brunch 'n' Lunch, Picnic Parties, Summer Entertaining|0000143588|\n",
            "|Rise and Swine (Good Eats Vol. 7)                                                                                                |0000143502|\n",
            "|The Power of the Cross Joseph Prince                                                                                             |000073991X|\n",
            "|Live in Houston [VHS]                                                                                                            |000107461X|\n",
            "|Everyday Italian (with Giada de Laurentiis), Volume 1 (3 Pack): Italian Classics, Parties, Holidays                              |0000143561|\n",
            "|At Home with the Guitar VHS                                                                                                      |0001499572|\n",
            "|Steve Green: Hide 'em in Your Heart: 13 Bible Memory Music Videos for Children of All Ages VHS                                   |0001526863|\n",
            "|A Call to Holiness VHS                                                                                                           |0001421409|\n",
            "|Praise Aerobics VHS                                                                                                              |0001517791|\n",
            "|The Life of Sister Faustina: The Apostle of Divine Mercy VHS                                                                     |0001485423|\n",
            "|Peace Child VHS                                                                                                                  |0001527665|\n",
            "|Where Jesus Walked VHS                                                                                                           |0005000009|\n",
            "|Passion According to Luke VHS                                                                                                    |0005054885|\n",
            "|The Homecoming Kids Camp Out VHS                                                                                                 |0005059836|\n",
            "|An American Christmas Carol VHS                                                                                                  |0005019281|\n",
            "|Dance for Joy - Worship and Praise Through Davidic Dance VHS                                                                     |0005022134|\n",
            "|50 Years of Thorns and Roses VHS                                                                                                 |0005055121|\n",
            "+---------------------------------------------------------------------------------------------------------------------------------+----------+\n",
            "only showing top 20 rows\n",
            "\n",
            "None\n",
            "Row(title='Understanding Seizures and Epilepsy', asin='0000695009')\n"
          ]
        }
      ]
    },
    {
      "cell_type": "code",
      "source": [
        "titles_rdd = titles_rdd.map(lambda x: (x[1], x[0]))\n",
        "titles_rdd.first()"
      ],
      "metadata": {
        "colab": {
          "base_uri": "https://localhost:8080/"
        },
        "id": "26MRhHlLR80w",
        "outputId": "1eb4d681-3fb9-42bf-fd6d-6e39e85ff79a"
      },
      "execution_count": 16,
      "outputs": [
        {
          "output_type": "execute_result",
          "data": {
            "text/plain": [
              "('0000695009', 'Understanding Seizures and Epilepsy')"
            ]
          },
          "metadata": {},
          "execution_count": 16
        }
      ]
    },
    {
      "cell_type": "code",
      "source": [
        "cos_sim_rdd_with_titles = cos_sim_rdd.join(titles_rdd) \n",
        "cos_sim_rdd_with_titles.first() #соединяем названия с asin"
      ],
      "metadata": {
        "id": "XMi7QvO8SIWG"
      },
      "execution_count": null,
      "outputs": []
    },
    {
      "cell_type": "code",
      "source": [
        "cos_sim = cos_sim_rdd_with_titles.zipWithIndex()\n",
        "cos_sim.first()"
      ],
      "metadata": {
        "id": "_IuLjGeeSqEa"
      },
      "execution_count": null,
      "outputs": []
    },
    {
      "cell_type": "code",
      "source": [
        "cos_sim_indexes = cos_sim.flatMap(lambda x: [(x[1], w, x[0][1][0][w]) for w in range(len(x[0][1][0]))])\n",
        "cos_sim_indexes.take(20) #косинусное сходство для каждого вектора оценок по индексам"
      ],
      "metadata": {
        "colab": {
          "base_uri": "https://localhost:8080/"
        },
        "id": "pWMRKyZArz1c",
        "outputId": "0d3feba5-eae5-40cd-d37d-5bc4ed5c9a7d"
      },
      "execution_count": 43,
      "outputs": [
        {
          "output_type": "execute_result",
          "data": {
            "text/plain": [
              "[(0, 0, array([[1.]])),\n",
              " (0, 1, 0),\n",
              " (0, 2, 0),\n",
              " (0, 3, 0),\n",
              " (0, 4, 0),\n",
              " (0, 5, 0),\n",
              " (0, 6, 0),\n",
              " (0, 7, 0),\n",
              " (0, 8, 0),\n",
              " (0, 9, 0),\n",
              " (0, 10, 0),\n",
              " (0, 11, 0),\n",
              " (0, 12, 0),\n",
              " (0, 13, 0),\n",
              " (0, 14, 0),\n",
              " (0, 15, 0),\n",
              " (0, 16, array([[0.97713984]])),\n",
              " (0, 17, 0),\n",
              " (0, 18, 0),\n",
              " (0, 19, 0)]"
            ]
          },
          "metadata": {},
          "execution_count": 43
        }
      ]
    },
    {
      "cell_type": "code",
      "source": [
        "cos_sim_indexes_sorted = cos_sim_indexes.sortBy(lambda x: x[2], ascending=False)\n",
        "cos_sim_indexes_sorted.take(20)"
      ],
      "metadata": {
        "colab": {
          "base_uri": "https://localhost:8080/"
        },
        "id": "_Vb41aB_u4rt",
        "outputId": "a2805021-fb65-445c-c22d-d8410b7f64e5"
      },
      "execution_count": 44,
      "outputs": [
        {
          "output_type": "execute_result",
          "data": {
            "text/plain": [
              "[(1670, 133, array([[1.]])),\n",
              " (897, 1761, array([[1.]])),\n",
              " (110, 212, array([[1.]])),\n",
              " (851, 1674, array([[1.]])),\n",
              " (947, 1862, array([[1.]])),\n",
              " (1071, 2088, array([[1.]])),\n",
              " (1377, 2694, array([[1.]])),\n",
              " (1632, 61, array([[1.]])),\n",
              " (2206, 1212, array([[1.]])),\n",
              " (2476, 1778, array([[1.]])),\n",
              " (2486, 1798, array([[1.]])),\n",
              " (40, 72, array([[1.]])),\n",
              " (87, 161, array([[1.]])),\n",
              " (271, 520, array([[1.]])),\n",
              " (320, 622, array([[1.]])),\n",
              " (321, 623, array([[1.]])),\n",
              " (667, 1307, array([[1.]])),\n",
              " (1109, 2150, array([[1.]])),\n",
              " (1131, 2196, array([[1.]])),\n",
              " (1425, 2798, array([[1.]]))]"
            ]
          },
          "metadata": {},
          "execution_count": 44
        }
      ]
    },
    {
      "cell_type": "code",
      "source": [
        "top_10 = cos_sim_indexes_sorted.take(10)\n",
        "count = 0\n",
        "print(\"Топ 10 наиболее похожих фильмов: \")\n",
        "for y in top_10: \n",
        "  title1 = cos_sim.filter(lambda x: x[1] == y[0]).collect()[0][0][1][1]\n",
        "  title2 = cos_sim.filter(lambda x: x[1] == y[1]).collect()[0][0][1][1]\n",
        "  print(count, \"--->\", title1, \"и\", title2)\n",
        "  count += 1"
      ],
      "metadata": {
        "colab": {
          "base_uri": "https://localhost:8080/"
        },
        "id": "b9fkZVdnvvhE",
        "outputId": "c1e380ac-be59-4968-aee9-38312f99dc21"
      },
      "execution_count": 54,
      "outputs": [
        {
          "output_type": "stream",
          "name": "stdout",
          "text": [
            "Топ 10 наиболее похожих фильмов: \n",
            "0 ---> Blade Runner и Carnival of Souls\n",
            "1 ---> In Harm's Way VHS и Meet Wally Sparks\n",
            "2 ---> Sense &amp; Sensibility и Trouble in Mind VHS\n",
            "3 ---> My Left Foot и Dracula a.D. 1972 VHS\n",
            "4 ---> Dances with Wolves (VHS 8768) и Naked Prey VHS\n",
            "5 ---> Airplane VHS и Father of the Bride VHS\n",
            "6 ---> The Day the Earth Stood Still VHS и The Spy Who Came in From the Cold VHS\n",
            "7 ---> Suspicion VHS и Lilo &amp; Stitch 2: Stitch Has a Glitch\n",
            "8 ---> The Quiet Man VHS и Days of Glory VHS\n",
            "9 ---> Fiddler on the Roof и Muay Thai: Knockout One VHS\n"
          ]
        }
      ]
    }
  ]
}