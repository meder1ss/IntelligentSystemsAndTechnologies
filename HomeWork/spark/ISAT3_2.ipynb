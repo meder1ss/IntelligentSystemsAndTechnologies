{
  "nbformat": 4,
  "nbformat_minor": 0,
  "metadata": {
    "colab": {
      "provenance": [],
      "toc_visible": true
    },
    "kernelspec": {
      "name": "python3",
      "display_name": "Python 3"
    },
    "language_info": {
      "name": "python"
    }
  },
  "cells": [
    {
      "cell_type": "markdown",
      "source": [
        "# PySpark"
      ],
      "metadata": {
        "id": "L_6TwcKwlMd_"
      }
    },
    {
      "cell_type": "code",
      "source": [
        "!pip install pyspark"
      ],
      "metadata": {
        "colab": {
          "base_uri": "https://localhost:8080/"
        },
        "id": "ruPQwrrvlFzV",
        "outputId": "2ccff637-782e-4e53-fad7-193488313156"
      },
      "execution_count": 2,
      "outputs": [
        {
          "output_type": "stream",
          "name": "stdout",
          "text": [
            "Looking in indexes: https://pypi.org/simple, https://us-python.pkg.dev/colab-wheels/public/simple/\n",
            "Collecting pyspark\n",
            "  Downloading pyspark-3.4.0.tar.gz (310.8 MB)\n",
            "\u001b[2K     \u001b[90m━━━━━━━━━━━━━━━━━━━━━━━━━━━━━━━━━━━━━━━\u001b[0m \u001b[32m310.8/310.8 MB\u001b[0m \u001b[31m2.0 MB/s\u001b[0m eta \u001b[36m0:00:00\u001b[0m\n",
            "\u001b[?25h  Preparing metadata (setup.py) ... \u001b[?25l\u001b[?25hdone\n",
            "Requirement already satisfied: py4j==0.10.9.7 in /usr/local/lib/python3.10/dist-packages (from pyspark) (0.10.9.7)\n",
            "Building wheels for collected packages: pyspark\n",
            "  Building wheel for pyspark (setup.py) ... \u001b[?25l\u001b[?25hdone\n",
            "  Created wheel for pyspark: filename=pyspark-3.4.0-py2.py3-none-any.whl size=311317130 sha256=d74ab195d530a5c432d6f0e0e4e432dd7540aa199ee86ee4396410a3866ca061\n",
            "  Stored in directory: /root/.cache/pip/wheels/7b/1b/4b/3363a1d04368e7ff0d408e57ff57966fcdf00583774e761327\n",
            "Successfully built pyspark\n",
            "Installing collected packages: pyspark\n",
            "Successfully installed pyspark-3.4.0\n"
          ]
        }
      ]
    },
    {
      "cell_type": "code",
      "source": [
        "from pyspark.sql import SparkSession\n",
        "spark = SparkSession.builder.master(\"local[*]\").getOrCreate()\n",
        "spark"
      ],
      "metadata": {
        "colab": {
          "base_uri": "https://localhost:8080/",
          "height": 219
        },
        "id": "lKtoc_gLlJTu",
        "outputId": "277c5225-38b6-471d-9366-f0281b199716"
      },
      "execution_count": 3,
      "outputs": [
        {
          "output_type": "execute_result",
          "data": {
            "text/plain": [
              "<pyspark.sql.session.SparkSession at 0x7f0148b07a30>"
            ],
            "text/html": [
              "\n",
              "            <div>\n",
              "                <p><b>SparkSession - in-memory</b></p>\n",
              "                \n",
              "        <div>\n",
              "            <p><b>SparkContext</b></p>\n",
              "\n",
              "            <p><a href=\"http://de494d331ea7:4040\">Spark UI</a></p>\n",
              "\n",
              "            <dl>\n",
              "              <dt>Version</dt>\n",
              "                <dd><code>v3.4.0</code></dd>\n",
              "              <dt>Master</dt>\n",
              "                <dd><code>local[*]</code></dd>\n",
              "              <dt>AppName</dt>\n",
              "                <dd><code>pyspark-shell</code></dd>\n",
              "            </dl>\n",
              "        </div>\n",
              "        \n",
              "            </div>\n",
              "        "
            ]
          },
          "metadata": {},
          "execution_count": 3
        }
      ]
    },
    {
      "cell_type": "code",
      "source": [
        "sc = spark.sparkContext"
      ],
      "metadata": {
        "id": "EU1GAa-JlLFW"
      },
      "execution_count": 4,
      "outputs": []
    },
    {
      "cell_type": "markdown",
      "source": [
        "# Задание 1"
      ],
      "metadata": {
        "id": "am6I2HEVlQWa"
      }
    },
    {
      "cell_type": "code",
      "execution_count": 5,
      "metadata": {
        "colab": {
          "base_uri": "https://localhost:8080/"
        },
        "id": "3QXte4uek6hg",
        "outputId": "3fb8bbb6-9ce3-4e1a-8fb8-ce3bc78e8baa"
      },
      "outputs": [
        {
          "output_type": "stream",
          "name": "stdout",
          "text": [
            "--2023-06-11 11:32:09--  https://s3.amazonaws.com/tripdata/201902-citibike-tripdata.csv.zip\n",
            "Resolving s3.amazonaws.com (s3.amazonaws.com)... 54.231.131.168, 52.217.121.176, 54.231.193.144, ...\n",
            "Connecting to s3.amazonaws.com (s3.amazonaws.com)|54.231.131.168|:443... connected.\n",
            "HTTP request sent, awaiting response... 200 OK\n",
            "Length: 40466165 (39M) [application/zip]\n",
            "Saving to: ‘201902-citibike-tripdata.csv.zip’\n",
            "\n",
            "201902-citibike-tri 100%[===================>]  38.59M  80.4MB/s    in 0.5s    \n",
            "\n",
            "2023-06-11 11:32:10 (80.4 MB/s) - ‘201902-citibike-tripdata.csv.zip’ saved [40466165/40466165]\n",
            "\n"
          ]
        }
      ],
      "source": [
        "!wget https://s3.amazonaws.com/tripdata/201902-citibike-tripdata.csv.zip"
      ]
    },
    {
      "cell_type": "code",
      "source": [
        "!unzip 201902-citibike-tripdata.csv.zip"
      ],
      "metadata": {
        "colab": {
          "base_uri": "https://localhost:8080/"
        },
        "id": "boLz3p5Xl3ka",
        "outputId": "ded45215-24ca-475a-9571-cc61006e642e"
      },
      "execution_count": 6,
      "outputs": [
        {
          "output_type": "stream",
          "name": "stdout",
          "text": [
            "Archive:  201902-citibike-tripdata.csv.zip\n",
            "  inflating: 201902-citibike-tripdata.csv  \n",
            "   creating: __MACOSX/\n",
            "  inflating: __MACOSX/._201902-citibike-tripdata.csv  \n"
          ]
        }
      ]
    },
    {
      "cell_type": "code",
      "source": [
        "import pandas as pd\n",
        "df = pd.read_csv('201902-citibike-tripdata.csv')\n",
        "df.head()"
      ],
      "metadata": {
        "colab": {
          "base_uri": "https://localhost:8080/",
          "height": 354
        },
        "id": "Uzwm_YbTmEKE",
        "outputId": "32f8ec10-51ca-4e71-8cb8-3336d4077b74"
      },
      "execution_count": 7,
      "outputs": [
        {
          "output_type": "execute_result",
          "data": {
            "text/plain": [
              "   tripduration                 starttime                  stoptime  \\\n",
              "0           219  2019-02-01 00:00:06.2570  2019-02-01 00:03:46.1090   \n",
              "1           143  2019-02-01 00:00:28.0320  2019-02-01 00:02:51.7460   \n",
              "2           296  2019-02-01 00:01:13.9870  2019-02-01 00:06:10.7340   \n",
              "3           478  2019-02-01 00:01:14.1520  2019-02-01 00:09:12.7870   \n",
              "4           225  2019-02-01 00:01:49.3410  2019-02-01 00:05:34.4980   \n",
              "\n",
              "   start station id        start station name  start station latitude  \\\n",
              "0            3494.0  E 115 St & Lexington Ave               40.797911   \n",
              "1             438.0       St Marks Pl & 1 Ave               40.727791   \n",
              "2            3571.0   Bedford Ave & Bergen St               40.676368   \n",
              "3             167.0           E 39 St & 3 Ave               40.748901   \n",
              "4            3458.0           W 55 St & 6 Ave               40.763094   \n",
              "\n",
              "   start station longitude  end station id        end station name  \\\n",
              "0               -73.942300          3501.0  E 118 St & Madison Ave   \n",
              "1               -73.985649           236.0     St Marks Pl & 2 Ave   \n",
              "2               -73.952918          3549.0   Grand Ave & Bergen St   \n",
              "3               -73.976049           477.0         W 41 St & 8 Ave   \n",
              "4               -73.978350          3443.0         W 52 St & 6 Ave   \n",
              "\n",
              "   end station latitude  end station longitude  bikeid    usertype  \\\n",
              "0             40.801487             -73.944251   33450  Subscriber   \n",
              "1             40.728419             -73.987140   25626  Subscriber   \n",
              "2             40.678045             -73.962408   35568  Subscriber   \n",
              "3             40.756405             -73.990026   25045  Subscriber   \n",
              "4             40.761330             -73.979820   34006  Subscriber   \n",
              "\n",
              "   birth year  gender  \n",
              "0        1989       1  \n",
              "1        1990       1  \n",
              "2        1987       1  \n",
              "3        1964       2  \n",
              "4        1979       1  "
            ],
            "text/html": [
              "\n",
              "  <div id=\"df-118f83bb-c319-4adb-bb48-0c7bf5c33e60\">\n",
              "    <div class=\"colab-df-container\">\n",
              "      <div>\n",
              "<style scoped>\n",
              "    .dataframe tbody tr th:only-of-type {\n",
              "        vertical-align: middle;\n",
              "    }\n",
              "\n",
              "    .dataframe tbody tr th {\n",
              "        vertical-align: top;\n",
              "    }\n",
              "\n",
              "    .dataframe thead th {\n",
              "        text-align: right;\n",
              "    }\n",
              "</style>\n",
              "<table border=\"1\" class=\"dataframe\">\n",
              "  <thead>\n",
              "    <tr style=\"text-align: right;\">\n",
              "      <th></th>\n",
              "      <th>tripduration</th>\n",
              "      <th>starttime</th>\n",
              "      <th>stoptime</th>\n",
              "      <th>start station id</th>\n",
              "      <th>start station name</th>\n",
              "      <th>start station latitude</th>\n",
              "      <th>start station longitude</th>\n",
              "      <th>end station id</th>\n",
              "      <th>end station name</th>\n",
              "      <th>end station latitude</th>\n",
              "      <th>end station longitude</th>\n",
              "      <th>bikeid</th>\n",
              "      <th>usertype</th>\n",
              "      <th>birth year</th>\n",
              "      <th>gender</th>\n",
              "    </tr>\n",
              "  </thead>\n",
              "  <tbody>\n",
              "    <tr>\n",
              "      <th>0</th>\n",
              "      <td>219</td>\n",
              "      <td>2019-02-01 00:00:06.2570</td>\n",
              "      <td>2019-02-01 00:03:46.1090</td>\n",
              "      <td>3494.0</td>\n",
              "      <td>E 115 St &amp; Lexington Ave</td>\n",
              "      <td>40.797911</td>\n",
              "      <td>-73.942300</td>\n",
              "      <td>3501.0</td>\n",
              "      <td>E 118 St &amp; Madison Ave</td>\n",
              "      <td>40.801487</td>\n",
              "      <td>-73.944251</td>\n",
              "      <td>33450</td>\n",
              "      <td>Subscriber</td>\n",
              "      <td>1989</td>\n",
              "      <td>1</td>\n",
              "    </tr>\n",
              "    <tr>\n",
              "      <th>1</th>\n",
              "      <td>143</td>\n",
              "      <td>2019-02-01 00:00:28.0320</td>\n",
              "      <td>2019-02-01 00:02:51.7460</td>\n",
              "      <td>438.0</td>\n",
              "      <td>St Marks Pl &amp; 1 Ave</td>\n",
              "      <td>40.727791</td>\n",
              "      <td>-73.985649</td>\n",
              "      <td>236.0</td>\n",
              "      <td>St Marks Pl &amp; 2 Ave</td>\n",
              "      <td>40.728419</td>\n",
              "      <td>-73.987140</td>\n",
              "      <td>25626</td>\n",
              "      <td>Subscriber</td>\n",
              "      <td>1990</td>\n",
              "      <td>1</td>\n",
              "    </tr>\n",
              "    <tr>\n",
              "      <th>2</th>\n",
              "      <td>296</td>\n",
              "      <td>2019-02-01 00:01:13.9870</td>\n",
              "      <td>2019-02-01 00:06:10.7340</td>\n",
              "      <td>3571.0</td>\n",
              "      <td>Bedford Ave &amp; Bergen St</td>\n",
              "      <td>40.676368</td>\n",
              "      <td>-73.952918</td>\n",
              "      <td>3549.0</td>\n",
              "      <td>Grand Ave &amp; Bergen St</td>\n",
              "      <td>40.678045</td>\n",
              "      <td>-73.962408</td>\n",
              "      <td>35568</td>\n",
              "      <td>Subscriber</td>\n",
              "      <td>1987</td>\n",
              "      <td>1</td>\n",
              "    </tr>\n",
              "    <tr>\n",
              "      <th>3</th>\n",
              "      <td>478</td>\n",
              "      <td>2019-02-01 00:01:14.1520</td>\n",
              "      <td>2019-02-01 00:09:12.7870</td>\n",
              "      <td>167.0</td>\n",
              "      <td>E 39 St &amp; 3 Ave</td>\n",
              "      <td>40.748901</td>\n",
              "      <td>-73.976049</td>\n",
              "      <td>477.0</td>\n",
              "      <td>W 41 St &amp; 8 Ave</td>\n",
              "      <td>40.756405</td>\n",
              "      <td>-73.990026</td>\n",
              "      <td>25045</td>\n",
              "      <td>Subscriber</td>\n",
              "      <td>1964</td>\n",
              "      <td>2</td>\n",
              "    </tr>\n",
              "    <tr>\n",
              "      <th>4</th>\n",
              "      <td>225</td>\n",
              "      <td>2019-02-01 00:01:49.3410</td>\n",
              "      <td>2019-02-01 00:05:34.4980</td>\n",
              "      <td>3458.0</td>\n",
              "      <td>W 55 St &amp; 6 Ave</td>\n",
              "      <td>40.763094</td>\n",
              "      <td>-73.978350</td>\n",
              "      <td>3443.0</td>\n",
              "      <td>W 52 St &amp; 6 Ave</td>\n",
              "      <td>40.761330</td>\n",
              "      <td>-73.979820</td>\n",
              "      <td>34006</td>\n",
              "      <td>Subscriber</td>\n",
              "      <td>1979</td>\n",
              "      <td>1</td>\n",
              "    </tr>\n",
              "  </tbody>\n",
              "</table>\n",
              "</div>\n",
              "      <button class=\"colab-df-convert\" onclick=\"convertToInteractive('df-118f83bb-c319-4adb-bb48-0c7bf5c33e60')\"\n",
              "              title=\"Convert this dataframe to an interactive table.\"\n",
              "              style=\"display:none;\">\n",
              "        \n",
              "  <svg xmlns=\"http://www.w3.org/2000/svg\" height=\"24px\"viewBox=\"0 0 24 24\"\n",
              "       width=\"24px\">\n",
              "    <path d=\"M0 0h24v24H0V0z\" fill=\"none\"/>\n",
              "    <path d=\"M18.56 5.44l.94 2.06.94-2.06 2.06-.94-2.06-.94-.94-2.06-.94 2.06-2.06.94zm-11 1L8.5 8.5l.94-2.06 2.06-.94-2.06-.94L8.5 2.5l-.94 2.06-2.06.94zm10 10l.94 2.06.94-2.06 2.06-.94-2.06-.94-.94-2.06-.94 2.06-2.06.94z\"/><path d=\"M17.41 7.96l-1.37-1.37c-.4-.4-.92-.59-1.43-.59-.52 0-1.04.2-1.43.59L10.3 9.45l-7.72 7.72c-.78.78-.78 2.05 0 2.83L4 21.41c.39.39.9.59 1.41.59.51 0 1.02-.2 1.41-.59l7.78-7.78 2.81-2.81c.8-.78.8-2.07 0-2.86zM5.41 20L4 18.59l7.72-7.72 1.47 1.35L5.41 20z\"/>\n",
              "  </svg>\n",
              "      </button>\n",
              "      \n",
              "  <style>\n",
              "    .colab-df-container {\n",
              "      display:flex;\n",
              "      flex-wrap:wrap;\n",
              "      gap: 12px;\n",
              "    }\n",
              "\n",
              "    .colab-df-convert {\n",
              "      background-color: #E8F0FE;\n",
              "      border: none;\n",
              "      border-radius: 50%;\n",
              "      cursor: pointer;\n",
              "      display: none;\n",
              "      fill: #1967D2;\n",
              "      height: 32px;\n",
              "      padding: 0 0 0 0;\n",
              "      width: 32px;\n",
              "    }\n",
              "\n",
              "    .colab-df-convert:hover {\n",
              "      background-color: #E2EBFA;\n",
              "      box-shadow: 0px 1px 2px rgba(60, 64, 67, 0.3), 0px 1px 3px 1px rgba(60, 64, 67, 0.15);\n",
              "      fill: #174EA6;\n",
              "    }\n",
              "\n",
              "    [theme=dark] .colab-df-convert {\n",
              "      background-color: #3B4455;\n",
              "      fill: #D2E3FC;\n",
              "    }\n",
              "\n",
              "    [theme=dark] .colab-df-convert:hover {\n",
              "      background-color: #434B5C;\n",
              "      box-shadow: 0px 1px 3px 1px rgba(0, 0, 0, 0.15);\n",
              "      filter: drop-shadow(0px 1px 2px rgba(0, 0, 0, 0.3));\n",
              "      fill: #FFFFFF;\n",
              "    }\n",
              "  </style>\n",
              "\n",
              "      <script>\n",
              "        const buttonEl =\n",
              "          document.querySelector('#df-118f83bb-c319-4adb-bb48-0c7bf5c33e60 button.colab-df-convert');\n",
              "        buttonEl.style.display =\n",
              "          google.colab.kernel.accessAllowed ? 'block' : 'none';\n",
              "\n",
              "        async function convertToInteractive(key) {\n",
              "          const element = document.querySelector('#df-118f83bb-c319-4adb-bb48-0c7bf5c33e60');\n",
              "          const dataTable =\n",
              "            await google.colab.kernel.invokeFunction('convertToInteractive',\n",
              "                                                     [key], {});\n",
              "          if (!dataTable) return;\n",
              "\n",
              "          const docLinkHtml = 'Like what you see? Visit the ' +\n",
              "            '<a target=\"_blank\" href=https://colab.research.google.com/notebooks/data_table.ipynb>data table notebook</a>'\n",
              "            + ' to learn more about interactive tables.';\n",
              "          element.innerHTML = '';\n",
              "          dataTable['output_type'] = 'display_data';\n",
              "          await google.colab.output.renderOutput(dataTable, element);\n",
              "          const docLink = document.createElement('div');\n",
              "          docLink.innerHTML = docLinkHtml;\n",
              "          element.appendChild(docLink);\n",
              "        }\n",
              "      </script>\n",
              "    </div>\n",
              "  </div>\n",
              "  "
            ]
          },
          "metadata": {},
          "execution_count": 7
        }
      ]
    },
    {
      "cell_type": "code",
      "source": [
        "spark_df = spark.createDataFrame(df)\n",
        "print(spark_df.printSchema())\n",
        "print(spark_df.show(truncate=False))"
      ],
      "metadata": {
        "id": "5sy-lflMmWEN"
      },
      "execution_count": null,
      "outputs": []
    },
    {
      "cell_type": "code",
      "source": [
        "spark_df.groupBy(\"start station id\").count().sort(\"count\", ascending=False).show() #количество начала поездок для каждой станции"
      ],
      "metadata": {
        "colab": {
          "base_uri": "https://localhost:8080/"
        },
        "id": "YGWDz2pRm0LA",
        "outputId": "2dd14d40-38f9-4c99-baf0-559a16e88554"
      },
      "execution_count": null,
      "outputs": [
        {
          "output_type": "stream",
          "name": "stdout",
          "text": [
            "+----------------+-----+\n",
            "|start station id|count|\n",
            "+----------------+-----+\n",
            "|           519.0| 8084|\n",
            "|           435.0| 6303|\n",
            "|          3255.0| 5969|\n",
            "|           497.0| 5903|\n",
            "|           402.0| 5788|\n",
            "|           285.0| 5713|\n",
            "|           490.0| 5035|\n",
            "|           477.0| 5033|\n",
            "|           293.0| 4836|\n",
            "|          3660.0| 4809|\n",
            "|           459.0| 4733|\n",
            "|           359.0| 4663|\n",
            "|           523.0| 4644|\n",
            "|           499.0| 4547|\n",
            "|           379.0| 4473|\n",
            "|          3641.0| 4425|\n",
            "|           492.0| 4402|\n",
            "|           465.0| 4333|\n",
            "|           504.0| 4262|\n",
            "|           505.0| 4257|\n",
            "+----------------+-----+\n",
            "only showing top 20 rows\n",
            "\n"
          ]
        }
      ]
    },
    {
      "cell_type": "code",
      "source": [
        "spark_df.groupBy(\"end station id\").count().sort(\"count\", ascending=False).show() #количество завершения поездок для каждой станции"
      ],
      "metadata": {
        "colab": {
          "base_uri": "https://localhost:8080/"
        },
        "id": "wTVfM_TSnbgX",
        "outputId": "b2c265fd-8cc8-4978-bed4-28a51a320b74"
      },
      "execution_count": null,
      "outputs": [
        {
          "output_type": "stream",
          "name": "stdout",
          "text": [
            "+--------------+-----+\n",
            "|end station id|count|\n",
            "+--------------+-----+\n",
            "|         519.0| 8193|\n",
            "|         402.0| 6688|\n",
            "|         435.0| 6303|\n",
            "|        3255.0| 6141|\n",
            "|         497.0| 5964|\n",
            "|         285.0| 5794|\n",
            "|         490.0| 5073|\n",
            "|         477.0| 5009|\n",
            "|         293.0| 4990|\n",
            "|        3660.0| 4827|\n",
            "|         359.0| 4826|\n",
            "|         459.0| 4729|\n",
            "|         523.0| 4696|\n",
            "|        3263.0| 4622|\n",
            "|         379.0| 4444|\n",
            "|        3641.0| 4407|\n",
            "|         492.0| 4385|\n",
            "|         465.0| 4364|\n",
            "|         505.0| 4274|\n",
            "|         499.0| 4236|\n",
            "+--------------+-----+\n",
            "only showing top 20 rows\n",
            "\n"
          ]
        }
      ]
    },
    {
      "cell_type": "code",
      "source": [
        "!pip install geopandas\n",
        "import geopandas as gpd\n",
        "df1 = gpd.read_file(\"NYC Taxi Zones.geojson\")\n",
        "df1.head()"
      ],
      "metadata": {
        "colab": {
          "base_uri": "https://localhost:8080/",
          "height": 484
        },
        "id": "ZdPA4mVIoeYj",
        "outputId": "b00d7506-0cfa-4743-a013-79dae469cfba"
      },
      "execution_count": null,
      "outputs": [
        {
          "output_type": "stream",
          "name": "stdout",
          "text": [
            "Looking in indexes: https://pypi.org/simple, https://us-python.pkg.dev/colab-wheels/public/simple/\n",
            "Requirement already satisfied: geopandas in /usr/local/lib/python3.10/dist-packages (0.13.0)\n",
            "Requirement already satisfied: fiona>=1.8.19 in /usr/local/lib/python3.10/dist-packages (from geopandas) (1.9.4.post1)\n",
            "Requirement already satisfied: packaging in /usr/local/lib/python3.10/dist-packages (from geopandas) (23.1)\n",
            "Requirement already satisfied: pandas>=1.1.0 in /usr/local/lib/python3.10/dist-packages (from geopandas) (1.5.3)\n",
            "Requirement already satisfied: pyproj>=3.0.1 in /usr/local/lib/python3.10/dist-packages (from geopandas) (3.5.0)\n",
            "Requirement already satisfied: shapely>=1.7.1 in /usr/local/lib/python3.10/dist-packages (from geopandas) (2.0.1)\n",
            "Requirement already satisfied: attrs>=19.2.0 in /usr/local/lib/python3.10/dist-packages (from fiona>=1.8.19->geopandas) (23.1.0)\n",
            "Requirement already satisfied: certifi in /usr/local/lib/python3.10/dist-packages (from fiona>=1.8.19->geopandas) (2022.12.7)\n",
            "Requirement already satisfied: click~=8.0 in /usr/local/lib/python3.10/dist-packages (from fiona>=1.8.19->geopandas) (8.1.3)\n",
            "Requirement already satisfied: click-plugins>=1.0 in /usr/local/lib/python3.10/dist-packages (from fiona>=1.8.19->geopandas) (1.1.1)\n",
            "Requirement already satisfied: cligj>=0.5 in /usr/local/lib/python3.10/dist-packages (from fiona>=1.8.19->geopandas) (0.7.2)\n",
            "Requirement already satisfied: six in /usr/local/lib/python3.10/dist-packages (from fiona>=1.8.19->geopandas) (1.16.0)\n",
            "Requirement already satisfied: python-dateutil>=2.8.1 in /usr/local/lib/python3.10/dist-packages (from pandas>=1.1.0->geopandas) (2.8.2)\n",
            "Requirement already satisfied: pytz>=2020.1 in /usr/local/lib/python3.10/dist-packages (from pandas>=1.1.0->geopandas) (2022.7.1)\n",
            "Requirement already satisfied: numpy>=1.21.0 in /usr/local/lib/python3.10/dist-packages (from pandas>=1.1.0->geopandas) (1.22.4)\n"
          ]
        },
        {
          "output_type": "execute_result",
          "data": {
            "text/plain": [
              "          shape_area objectid       shape_leng location_id  \\\n",
              "0    0.0007823067885        1   0.116357453189           1   \n",
              "1   0.00486634037837        2    0.43346966679           2   \n",
              "2  0.000314414156821        3  0.0843411059012           3   \n",
              "3  0.000111871946192        4  0.0435665270921           4   \n",
              "4  0.000497957489363        5  0.0921464898574           5   \n",
              "\n",
              "                      zone        borough  \\\n",
              "0           Newark Airport            EWR   \n",
              "1              Jamaica Bay         Queens   \n",
              "2  Allerton/Pelham Gardens          Bronx   \n",
              "3            Alphabet City      Manhattan   \n",
              "4            Arden Heights  Staten Island   \n",
              "\n",
              "                                            geometry  \n",
              "0  MULTIPOLYGON (((-74.18445 40.69500, -74.18449 ...  \n",
              "1  MULTIPOLYGON (((-73.82338 40.63899, -73.82277 ...  \n",
              "2  MULTIPOLYGON (((-73.84793 40.87134, -73.84725 ...  \n",
              "3  MULTIPOLYGON (((-73.97177 40.72582, -73.97179 ...  \n",
              "4  MULTIPOLYGON (((-74.17422 40.56257, -74.17349 ...  "
            ],
            "text/html": [
              "\n",
              "  <div id=\"df-804c6966-6f13-46a2-8438-c84a03054b30\">\n",
              "    <div class=\"colab-df-container\">\n",
              "      <div>\n",
              "<style scoped>\n",
              "    .dataframe tbody tr th:only-of-type {\n",
              "        vertical-align: middle;\n",
              "    }\n",
              "\n",
              "    .dataframe tbody tr th {\n",
              "        vertical-align: top;\n",
              "    }\n",
              "\n",
              "    .dataframe thead th {\n",
              "        text-align: right;\n",
              "    }\n",
              "</style>\n",
              "<table border=\"1\" class=\"dataframe\">\n",
              "  <thead>\n",
              "    <tr style=\"text-align: right;\">\n",
              "      <th></th>\n",
              "      <th>shape_area</th>\n",
              "      <th>objectid</th>\n",
              "      <th>shape_leng</th>\n",
              "      <th>location_id</th>\n",
              "      <th>zone</th>\n",
              "      <th>borough</th>\n",
              "      <th>geometry</th>\n",
              "    </tr>\n",
              "  </thead>\n",
              "  <tbody>\n",
              "    <tr>\n",
              "      <th>0</th>\n",
              "      <td>0.0007823067885</td>\n",
              "      <td>1</td>\n",
              "      <td>0.116357453189</td>\n",
              "      <td>1</td>\n",
              "      <td>Newark Airport</td>\n",
              "      <td>EWR</td>\n",
              "      <td>MULTIPOLYGON (((-74.18445 40.69500, -74.18449 ...</td>\n",
              "    </tr>\n",
              "    <tr>\n",
              "      <th>1</th>\n",
              "      <td>0.00486634037837</td>\n",
              "      <td>2</td>\n",
              "      <td>0.43346966679</td>\n",
              "      <td>2</td>\n",
              "      <td>Jamaica Bay</td>\n",
              "      <td>Queens</td>\n",
              "      <td>MULTIPOLYGON (((-73.82338 40.63899, -73.82277 ...</td>\n",
              "    </tr>\n",
              "    <tr>\n",
              "      <th>2</th>\n",
              "      <td>0.000314414156821</td>\n",
              "      <td>3</td>\n",
              "      <td>0.0843411059012</td>\n",
              "      <td>3</td>\n",
              "      <td>Allerton/Pelham Gardens</td>\n",
              "      <td>Bronx</td>\n",
              "      <td>MULTIPOLYGON (((-73.84793 40.87134, -73.84725 ...</td>\n",
              "    </tr>\n",
              "    <tr>\n",
              "      <th>3</th>\n",
              "      <td>0.000111871946192</td>\n",
              "      <td>4</td>\n",
              "      <td>0.0435665270921</td>\n",
              "      <td>4</td>\n",
              "      <td>Alphabet City</td>\n",
              "      <td>Manhattan</td>\n",
              "      <td>MULTIPOLYGON (((-73.97177 40.72582, -73.97179 ...</td>\n",
              "    </tr>\n",
              "    <tr>\n",
              "      <th>4</th>\n",
              "      <td>0.000497957489363</td>\n",
              "      <td>5</td>\n",
              "      <td>0.0921464898574</td>\n",
              "      <td>5</td>\n",
              "      <td>Arden Heights</td>\n",
              "      <td>Staten Island</td>\n",
              "      <td>MULTIPOLYGON (((-74.17422 40.56257, -74.17349 ...</td>\n",
              "    </tr>\n",
              "  </tbody>\n",
              "</table>\n",
              "</div>\n",
              "      <button class=\"colab-df-convert\" onclick=\"convertToInteractive('df-804c6966-6f13-46a2-8438-c84a03054b30')\"\n",
              "              title=\"Convert this dataframe to an interactive table.\"\n",
              "              style=\"display:none;\">\n",
              "        \n",
              "  <svg xmlns=\"http://www.w3.org/2000/svg\" height=\"24px\"viewBox=\"0 0 24 24\"\n",
              "       width=\"24px\">\n",
              "    <path d=\"M0 0h24v24H0V0z\" fill=\"none\"/>\n",
              "    <path d=\"M18.56 5.44l.94 2.06.94-2.06 2.06-.94-2.06-.94-.94-2.06-.94 2.06-2.06.94zm-11 1L8.5 8.5l.94-2.06 2.06-.94-2.06-.94L8.5 2.5l-.94 2.06-2.06.94zm10 10l.94 2.06.94-2.06 2.06-.94-2.06-.94-.94-2.06-.94 2.06-2.06.94z\"/><path d=\"M17.41 7.96l-1.37-1.37c-.4-.4-.92-.59-1.43-.59-.52 0-1.04.2-1.43.59L10.3 9.45l-7.72 7.72c-.78.78-.78 2.05 0 2.83L4 21.41c.39.39.9.59 1.41.59.51 0 1.02-.2 1.41-.59l7.78-7.78 2.81-2.81c.8-.78.8-2.07 0-2.86zM5.41 20L4 18.59l7.72-7.72 1.47 1.35L5.41 20z\"/>\n",
              "  </svg>\n",
              "      </button>\n",
              "      \n",
              "  <style>\n",
              "    .colab-df-container {\n",
              "      display:flex;\n",
              "      flex-wrap:wrap;\n",
              "      gap: 12px;\n",
              "    }\n",
              "\n",
              "    .colab-df-convert {\n",
              "      background-color: #E8F0FE;\n",
              "      border: none;\n",
              "      border-radius: 50%;\n",
              "      cursor: pointer;\n",
              "      display: none;\n",
              "      fill: #1967D2;\n",
              "      height: 32px;\n",
              "      padding: 0 0 0 0;\n",
              "      width: 32px;\n",
              "    }\n",
              "\n",
              "    .colab-df-convert:hover {\n",
              "      background-color: #E2EBFA;\n",
              "      box-shadow: 0px 1px 2px rgba(60, 64, 67, 0.3), 0px 1px 3px 1px rgba(60, 64, 67, 0.15);\n",
              "      fill: #174EA6;\n",
              "    }\n",
              "\n",
              "    [theme=dark] .colab-df-convert {\n",
              "      background-color: #3B4455;\n",
              "      fill: #D2E3FC;\n",
              "    }\n",
              "\n",
              "    [theme=dark] .colab-df-convert:hover {\n",
              "      background-color: #434B5C;\n",
              "      box-shadow: 0px 1px 3px 1px rgba(0, 0, 0, 0.15);\n",
              "      filter: drop-shadow(0px 1px 2px rgba(0, 0, 0, 0.3));\n",
              "      fill: #FFFFFF;\n",
              "    }\n",
              "  </style>\n",
              "\n",
              "      <script>\n",
              "        const buttonEl =\n",
              "          document.querySelector('#df-804c6966-6f13-46a2-8438-c84a03054b30 button.colab-df-convert');\n",
              "        buttonEl.style.display =\n",
              "          google.colab.kernel.accessAllowed ? 'block' : 'none';\n",
              "\n",
              "        async function convertToInteractive(key) {\n",
              "          const element = document.querySelector('#df-804c6966-6f13-46a2-8438-c84a03054b30');\n",
              "          const dataTable =\n",
              "            await google.colab.kernel.invokeFunction('convertToInteractive',\n",
              "                                                     [key], {});\n",
              "          if (!dataTable) return;\n",
              "\n",
              "          const docLinkHtml = 'Like what you see? Visit the ' +\n",
              "            '<a target=\"_blank\" href=https://colab.research.google.com/notebooks/data_table.ipynb>data table notebook</a>'\n",
              "            + ' to learn more about interactive tables.';\n",
              "          element.innerHTML = '';\n",
              "          dataTable['output_type'] = 'display_data';\n",
              "          await google.colab.output.renderOutput(dataTable, element);\n",
              "          const docLink = document.createElement('div');\n",
              "          docLink.innerHTML = docLinkHtml;\n",
              "          element.appendChild(docLink);\n",
              "        }\n",
              "      </script>\n",
              "    </div>\n",
              "  </div>\n",
              "  "
            ]
          },
          "metadata": {},
          "execution_count": 10
        }
      ]
    },
    {
      "cell_type": "code",
      "source": [
        "df1[\"longitude\"] = df1[\"geometry\"].centroid.x\n",
        "df1[\"latitude\"] = df1[\"geometry\"].centroid.y\n",
        "df1.head()"
      ],
      "metadata": {
        "colab": {
          "base_uri": "https://localhost:8080/",
          "height": 310
        },
        "id": "d1GiUxunR0pV",
        "outputId": "34502e7c-174b-4ca8-994f-bed83c109f07"
      },
      "execution_count": null,
      "outputs": [
        {
          "output_type": "stream",
          "name": "stderr",
          "text": [
            "<ipython-input-11-9ce287d42044>:1: UserWarning: Geometry is in a geographic CRS. Results from 'centroid' are likely incorrect. Use 'GeoSeries.to_crs()' to re-project geometries to a projected CRS before this operation.\n",
            "\n",
            "  df1[\"longitude\"] = df1[\"geometry\"].centroid.x\n",
            "<ipython-input-11-9ce287d42044>:2: UserWarning: Geometry is in a geographic CRS. Results from 'centroid' are likely incorrect. Use 'GeoSeries.to_crs()' to re-project geometries to a projected CRS before this operation.\n",
            "\n",
            "  df1[\"latitude\"] = df1[\"geometry\"].centroid.y\n"
          ]
        },
        {
          "output_type": "execute_result",
          "data": {
            "text/plain": [
              "          shape_area objectid       shape_leng location_id  \\\n",
              "0    0.0007823067885        1   0.116357453189           1   \n",
              "1   0.00486634037837        2    0.43346966679           2   \n",
              "2  0.000314414156821        3  0.0843411059012           3   \n",
              "3  0.000111871946192        4  0.0435665270921           4   \n",
              "4  0.000497957489363        5  0.0921464898574           5   \n",
              "\n",
              "                      zone        borough  \\\n",
              "0           Newark Airport            EWR   \n",
              "1              Jamaica Bay         Queens   \n",
              "2  Allerton/Pelham Gardens          Bronx   \n",
              "3            Alphabet City      Manhattan   \n",
              "4            Arden Heights  Staten Island   \n",
              "\n",
              "                                            geometry  longitude   latitude  \n",
              "0  MULTIPOLYGON (((-74.18445 40.69500, -74.18449 ... -74.174000  40.691831  \n",
              "1  MULTIPOLYGON (((-73.82338 40.63899, -73.82277 ... -73.831299  40.616745  \n",
              "2  MULTIPOLYGON (((-73.84793 40.87134, -73.84725 ... -73.847422  40.864474  \n",
              "3  MULTIPOLYGON (((-73.97177 40.72582, -73.97179 ... -73.976968  40.723752  \n",
              "4  MULTIPOLYGON (((-74.17422 40.56257, -74.17349 ... -74.188484  40.552659  "
            ],
            "text/html": [
              "\n",
              "  <div id=\"df-af909ea8-b47b-4d6b-8b36-84a2b439b13e\">\n",
              "    <div class=\"colab-df-container\">\n",
              "      <div>\n",
              "<style scoped>\n",
              "    .dataframe tbody tr th:only-of-type {\n",
              "        vertical-align: middle;\n",
              "    }\n",
              "\n",
              "    .dataframe tbody tr th {\n",
              "        vertical-align: top;\n",
              "    }\n",
              "\n",
              "    .dataframe thead th {\n",
              "        text-align: right;\n",
              "    }\n",
              "</style>\n",
              "<table border=\"1\" class=\"dataframe\">\n",
              "  <thead>\n",
              "    <tr style=\"text-align: right;\">\n",
              "      <th></th>\n",
              "      <th>shape_area</th>\n",
              "      <th>objectid</th>\n",
              "      <th>shape_leng</th>\n",
              "      <th>location_id</th>\n",
              "      <th>zone</th>\n",
              "      <th>borough</th>\n",
              "      <th>geometry</th>\n",
              "      <th>longitude</th>\n",
              "      <th>latitude</th>\n",
              "    </tr>\n",
              "  </thead>\n",
              "  <tbody>\n",
              "    <tr>\n",
              "      <th>0</th>\n",
              "      <td>0.0007823067885</td>\n",
              "      <td>1</td>\n",
              "      <td>0.116357453189</td>\n",
              "      <td>1</td>\n",
              "      <td>Newark Airport</td>\n",
              "      <td>EWR</td>\n",
              "      <td>MULTIPOLYGON (((-74.18445 40.69500, -74.18449 ...</td>\n",
              "      <td>-74.174000</td>\n",
              "      <td>40.691831</td>\n",
              "    </tr>\n",
              "    <tr>\n",
              "      <th>1</th>\n",
              "      <td>0.00486634037837</td>\n",
              "      <td>2</td>\n",
              "      <td>0.43346966679</td>\n",
              "      <td>2</td>\n",
              "      <td>Jamaica Bay</td>\n",
              "      <td>Queens</td>\n",
              "      <td>MULTIPOLYGON (((-73.82338 40.63899, -73.82277 ...</td>\n",
              "      <td>-73.831299</td>\n",
              "      <td>40.616745</td>\n",
              "    </tr>\n",
              "    <tr>\n",
              "      <th>2</th>\n",
              "      <td>0.000314414156821</td>\n",
              "      <td>3</td>\n",
              "      <td>0.0843411059012</td>\n",
              "      <td>3</td>\n",
              "      <td>Allerton/Pelham Gardens</td>\n",
              "      <td>Bronx</td>\n",
              "      <td>MULTIPOLYGON (((-73.84793 40.87134, -73.84725 ...</td>\n",
              "      <td>-73.847422</td>\n",
              "      <td>40.864474</td>\n",
              "    </tr>\n",
              "    <tr>\n",
              "      <th>3</th>\n",
              "      <td>0.000111871946192</td>\n",
              "      <td>4</td>\n",
              "      <td>0.0435665270921</td>\n",
              "      <td>4</td>\n",
              "      <td>Alphabet City</td>\n",
              "      <td>Manhattan</td>\n",
              "      <td>MULTIPOLYGON (((-73.97177 40.72582, -73.97179 ...</td>\n",
              "      <td>-73.976968</td>\n",
              "      <td>40.723752</td>\n",
              "    </tr>\n",
              "    <tr>\n",
              "      <th>4</th>\n",
              "      <td>0.000497957489363</td>\n",
              "      <td>5</td>\n",
              "      <td>0.0921464898574</td>\n",
              "      <td>5</td>\n",
              "      <td>Arden Heights</td>\n",
              "      <td>Staten Island</td>\n",
              "      <td>MULTIPOLYGON (((-74.17422 40.56257, -74.17349 ...</td>\n",
              "      <td>-74.188484</td>\n",
              "      <td>40.552659</td>\n",
              "    </tr>\n",
              "  </tbody>\n",
              "</table>\n",
              "</div>\n",
              "      <button class=\"colab-df-convert\" onclick=\"convertToInteractive('df-af909ea8-b47b-4d6b-8b36-84a2b439b13e')\"\n",
              "              title=\"Convert this dataframe to an interactive table.\"\n",
              "              style=\"display:none;\">\n",
              "        \n",
              "  <svg xmlns=\"http://www.w3.org/2000/svg\" height=\"24px\"viewBox=\"0 0 24 24\"\n",
              "       width=\"24px\">\n",
              "    <path d=\"M0 0h24v24H0V0z\" fill=\"none\"/>\n",
              "    <path d=\"M18.56 5.44l.94 2.06.94-2.06 2.06-.94-2.06-.94-.94-2.06-.94 2.06-2.06.94zm-11 1L8.5 8.5l.94-2.06 2.06-.94-2.06-.94L8.5 2.5l-.94 2.06-2.06.94zm10 10l.94 2.06.94-2.06 2.06-.94-2.06-.94-.94-2.06-.94 2.06-2.06.94z\"/><path d=\"M17.41 7.96l-1.37-1.37c-.4-.4-.92-.59-1.43-.59-.52 0-1.04.2-1.43.59L10.3 9.45l-7.72 7.72c-.78.78-.78 2.05 0 2.83L4 21.41c.39.39.9.59 1.41.59.51 0 1.02-.2 1.41-.59l7.78-7.78 2.81-2.81c.8-.78.8-2.07 0-2.86zM5.41 20L4 18.59l7.72-7.72 1.47 1.35L5.41 20z\"/>\n",
              "  </svg>\n",
              "      </button>\n",
              "      \n",
              "  <style>\n",
              "    .colab-df-container {\n",
              "      display:flex;\n",
              "      flex-wrap:wrap;\n",
              "      gap: 12px;\n",
              "    }\n",
              "\n",
              "    .colab-df-convert {\n",
              "      background-color: #E8F0FE;\n",
              "      border: none;\n",
              "      border-radius: 50%;\n",
              "      cursor: pointer;\n",
              "      display: none;\n",
              "      fill: #1967D2;\n",
              "      height: 32px;\n",
              "      padding: 0 0 0 0;\n",
              "      width: 32px;\n",
              "    }\n",
              "\n",
              "    .colab-df-convert:hover {\n",
              "      background-color: #E2EBFA;\n",
              "      box-shadow: 0px 1px 2px rgba(60, 64, 67, 0.3), 0px 1px 3px 1px rgba(60, 64, 67, 0.15);\n",
              "      fill: #174EA6;\n",
              "    }\n",
              "\n",
              "    [theme=dark] .colab-df-convert {\n",
              "      background-color: #3B4455;\n",
              "      fill: #D2E3FC;\n",
              "    }\n",
              "\n",
              "    [theme=dark] .colab-df-convert:hover {\n",
              "      background-color: #434B5C;\n",
              "      box-shadow: 0px 1px 3px 1px rgba(0, 0, 0, 0.15);\n",
              "      filter: drop-shadow(0px 1px 2px rgba(0, 0, 0, 0.3));\n",
              "      fill: #FFFFFF;\n",
              "    }\n",
              "  </style>\n",
              "\n",
              "      <script>\n",
              "        const buttonEl =\n",
              "          document.querySelector('#df-af909ea8-b47b-4d6b-8b36-84a2b439b13e button.colab-df-convert');\n",
              "        buttonEl.style.display =\n",
              "          google.colab.kernel.accessAllowed ? 'block' : 'none';\n",
              "\n",
              "        async function convertToInteractive(key) {\n",
              "          const element = document.querySelector('#df-af909ea8-b47b-4d6b-8b36-84a2b439b13e');\n",
              "          const dataTable =\n",
              "            await google.colab.kernel.invokeFunction('convertToInteractive',\n",
              "                                                     [key], {});\n",
              "          if (!dataTable) return;\n",
              "\n",
              "          const docLinkHtml = 'Like what you see? Visit the ' +\n",
              "            '<a target=\"_blank\" href=https://colab.research.google.com/notebooks/data_table.ipynb>data table notebook</a>'\n",
              "            + ' to learn more about interactive tables.';\n",
              "          element.innerHTML = '';\n",
              "          dataTable['output_type'] = 'display_data';\n",
              "          await google.colab.output.renderOutput(dataTable, element);\n",
              "          const docLink = document.createElement('div');\n",
              "          docLink.innerHTML = docLinkHtml;\n",
              "          element.appendChild(docLink);\n",
              "        }\n",
              "      </script>\n",
              "    </div>\n",
              "  </div>\n",
              "  "
            ]
          },
          "metadata": {},
          "execution_count": 11
        }
      ]
    },
    {
      "cell_type": "code",
      "source": [
        "spark_df1 = spark.createDataFrame(df1[['location_id', 'zone', 'borough', 'longitude', 'latitude']])\n",
        "print(spark_df1.printSchema())\n",
        "print(spark_df1.show(truncate=False))"
      ],
      "metadata": {
        "colab": {
          "base_uri": "https://localhost:8080/"
        },
        "id": "oE8ygLkhTETp",
        "outputId": "b926c63a-49d9-4b65-c47c-7c46dac08aba"
      },
      "execution_count": null,
      "outputs": [
        {
          "output_type": "stream",
          "name": "stdout",
          "text": [
            "root\n",
            " |-- location_id: string (nullable = true)\n",
            " |-- zone: string (nullable = true)\n",
            " |-- borough: string (nullable = true)\n",
            " |-- longitude: double (nullable = true)\n",
            " |-- latitude: double (nullable = true)\n",
            "\n",
            "None\n",
            "+-----------+-----------------------+-------------+------------------+------------------+\n",
            "|location_id|zone                   |borough      |longitude         |latitude          |\n",
            "+-----------+-----------------------+-------------+------------------+------------------+\n",
            "|1          |Newark Airport         |EWR          |-74.17400027276304|40.691831206401325|\n",
            "|2          |Jamaica Bay            |Queens       |-73.83129854302213|40.61674529165957 |\n",
            "|3          |Allerton/Pelham Gardens|Bronx        |-73.84742223236718|40.86447368477527 |\n",
            "|4          |Alphabet City          |Manhattan    |-73.97696825691759|40.72375214158459 |\n",
            "|5          |Arden Heights          |Staten Island|-74.18848410184935|40.55265928694546 |\n",
            "|6          |Arrochar/Fort Wadsworth|Staten Island|-74.07177055895134|40.600324146034424|\n",
            "|7          |Astoria                |Queens       |-73.91969431946075|40.7614925621636  |\n",
            "|8          |Astoria Park           |Queens       |-73.9230861575075 |40.778558653750515|\n",
            "|9          |Auburndale             |Queens       |-73.7879488777789 |40.75103502557218 |\n",
            "|24         |Bloomingdale           |Manhattan    |-73.96547951516966|40.801970493899425|\n",
            "|10         |Baisley Park           |Queens       |-73.79098635986959|40.678953310115105|\n",
            "|11         |Bath Beach             |Brooklyn     |-74.00748815801177|40.60427284003062 |\n",
            "|12         |Battery Park           |Manhattan    |-74.01556351255894|40.70294583498452 |\n",
            "|13         |Battery Park City      |Manhattan    |-74.01607915192938|40.71203815707432 |\n",
            "|18         |Bedford Park           |Bronx        |-73.89018328872038|40.86768245607527 |\n",
            "|25         |Boerum Hill            |Brooklyn     |-73.98611382213656|40.68563374132041 |\n",
            "|14         |Bay Ridge              |Brooklyn     |-74.02989237418787|40.62483492360799 |\n",
            "|15         |Bay Terrace/Fort Totten|Queens       |-73.78597227877704|40.783333047260825|\n",
            "|22         |Bensonhurst West       |Brooklyn     |-73.99525857986232|40.61221825780545 |\n",
            "|23         |Bloomfield/Emerson Hill|Staten Island|-74.17088688155253|40.60644770102735 |\n",
            "+-----------+-----------------------+-------------+------------------+------------------+\n",
            "only showing top 20 rows\n",
            "\n",
            "None\n"
          ]
        }
      ]
    },
    {
      "cell_type": "code",
      "source": [
        "spark_df1.count()"
      ],
      "metadata": {
        "colab": {
          "base_uri": "https://localhost:8080/"
        },
        "id": "x9pGRAStPJdU",
        "outputId": "907b8600-3cb3-410b-ce13-874579315662"
      },
      "execution_count": null,
      "outputs": [
        {
          "output_type": "execute_result",
          "data": {
            "text/plain": [
              "263"
            ]
          },
          "metadata": {},
          "execution_count": 13
        }
      ]
    },
    {
      "cell_type": "code",
      "source": [
        "import numpy as np\n",
        "station_names = set(np.concatenate((df['start station name'].unique(), df['end station name'].unique())))"
      ],
      "metadata": {
        "colab": {
          "base_uri": "https://localhost:8080/"
        },
        "id": "2hTH4X4u5keF",
        "outputId": "ef6b0122-334b-4a94-8969-aa755d88bfce"
      },
      "execution_count": 34,
      "outputs": [
        {
          "output_type": "stream",
          "name": "stdout",
          "text": [
            "771\n"
          ]
        }
      ]
    },
    {
      "cell_type": "code",
      "source": [
        "station_dict = dict.fromkeys(station_names, '')\n",
        "print(station_dict)"
      ],
      "metadata": {
        "colab": {
          "base_uri": "https://localhost:8080/"
        },
        "id": "lYW3TH8IDsP_",
        "outputId": "5ab3077e-a886-4bf8-a8cd-9a16477f4a7e"
      },
      "execution_count": 35,
      "outputs": [
        {
          "output_type": "stream",
          "name": "stdout",
          "text": [
            "{'Fulton St & Grand Ave': '', 'W 107 St & Columbus Ave': '', 'Lispenard St & Broadway': '', 'W 17 St & 9 Ave': '', 'W 52 St & 5 Ave': '', 'Lafayette Ave & St James Pl': '', '3 St & 3 Ave': '', '28 St & 38 Ave': '', 'Bedford Ave & Nassau Ave': '', 'W 106 St & Amsterdam Ave': '', '31 St & 23 Ave': '', 'Willoughby Ave & Walworth St': '', 'Carroll St & Bond St': '', 'W 76 St & Columbus Ave': '', 'Spruce St & Nassau St': '', 'E 84 St & Park Ave': '', '1 Pl & Clinton St': '', 'E 89 St & York Ave': '', '35 Ave & 37 St': '', '5 Ave & E 73 St': '', '9 Ave & W 28 St': '', 'Union Ave & N 12 St': '', 'Jay St & York St': '', 'W 26 St & 10 Ave': '', 'Clermont Ave & Park Ave': '', 'W 31 St & 7 Ave': '', nan: '', '3 Ave & E 95 St': '', 'Rogers Ave & Sterling St': '', 'W 100 St & Broadway': '', 'E 66 St & Madison Ave': '', 'Cadman Plaza E & Johnson St': '', 'E 48 St & 5 Ave': '', 'E 91 St & 2 Ave': '', 'Grand Ave & Bergen St': '', 'Newton Rd & 44 St': '', '1 Ave & E 94 St': '', 'E 59 St & Madison Ave': '', 'Clark St & Henry St': '', 'Grand St & Greene St': '', 'W 95 St & Broadway': '', 'Henry St & Degraw St': '', 'Washington Pl & Broadway': '', 'W 70 St & Amsterdam Ave': '', '8 Ave & W 52 St': '', 'Myrtle Ave & St Edwards St': '', 'Frederick Douglass Blvd & W 112 St': '', '7 Ave & Central Park South': '', 'E 17 St & Broadway': '', '34 Ave & 13 St': '', '5 Ave & E 93 St': '', '28 St & 36 Ave': '', 'Bond St & Fulton St': '', 'N 11 St & Kent Ave': '', '11 St & 35 Ave': '', 'E 72 St & York Ave': '', 'W 15 St & 6 Ave': '', 'W 37 St & 10 Ave': '', 'Lewis Ave & Decatur St': '', '39 St & 2 Ave - Citi Bike HQ at Industry City': '', 'Carlton Ave & Dean St': '', 'Humboldt St & Varet St': '', '11 Ave & W 41 St': '', 'Avenue D & E 12 St': '', 'Jackson St & Leonard St': '', 'Clinton St & Grand St': '', 'W 38 St & 8 Ave': '', 'Broadway & Berry St': '', 'South St & Whitehall St': '', 'Clinton St & Centre St': '', 'Crescent St & Broadway': '', 'Ditmars Blvd & 19 St': '', '3 St & 7 Ave': '', 'W 110 St & Amsterdam Ave': '', 'Frederick Douglass Blvd & W 117 St': '', 'Pleasant Ave & E 120 St': '', 'Roebling St & N 4 St': '', 'Leonard St & Church St': '', 'W 42 St & 8 Ave': '', 'Market St & Cherry St': '', 'W 44 St & 5 Ave': '', 'Court St & State St': '', 'Broadway & W 25 St': '', 'W 25 St & 6 Ave': '', 'Center Blvd & 51 Ave': '', 'Astoria Park S & Shore Blvd': '', 'E 2 St & Avenue B': '', 'W 45 St & 6 Ave': '', 'Throop Ave & Myrtle Ave': '', 'E 88 St & Park Ave': '', '31 Ave & 34 St': '', 'Frederick Douglass Blvd & W 129 St': '', 'Carlton Ave & Park Ave': '', 'E 32 St & Park Ave': '', '6 Ave & Canal St': '', 'Amsterdam Ave & W 119 St': '', 'Nassau Ave & Russell St': '', 'University Pl & E 14 St': '', 'W 90 St & Amsterdam Ave': '', 'Adam Clayton Powell Blvd & W 123 St': '', 'Fulton St & Broadway': '', '30 Ave & 21 St': '', 'Pioneer St & Van Brunt St': '', 'Forsyth St & Broome St': '', 'E 65 St & 2 Ave': '', '1 Ave & E 68 St': '', 'Old Fulton St': '', 'W 63 St & Broadway': '', 'E 51 St & Lexington Ave': '', 'DeKalb Ave & Hudson Ave': '', 'W 116 St & Amsterdam Ave': '', '1 Ave & E 44 St': '', 'Central Park West & W 102 St': '', 'Avenue C & E 18 St': '', 'Vesey Pl & River Terrace': '', '31 St & Newtown Ave': '', '3 Ave & E 71 St': '', 'Broadway & W 56 St': '', 'Mercer St & Bleecker St': '', 'W 74 St & Columbus Ave': '', '7 St & 5 Ave': '', 'Sullivan Pl & Bedford Ave': '', '35 St & 34 Ave': '', 'Steinway St & 28 Ave': '', '2 Ave & E 99 St': '', 'W 64 St & Thelonious Monk Circle': '', 'West Drive & Prospect Park West': '', '35 Ave & 10 St': '', 'Riverview Park': '', 'Washington Park': '', '27 St & Hunter St': '', 'E 39 St & 3 Ave': '', '28 Ave & 35 St': '', 'Fulton St & Adams St': '', 'S 5 Pl & S 5 St': '', 'Butler St & Court St': '', 'Central Park North & Adam Clayton Powell Blvd': '', 'W 120 St & Claremont Ave': '', 'NYCBS DEPOT - DELANCEY': '', 'W 104 St & Amsterdam Ave': '', '31 St & 35 Ave': '', 'Carroll St & Smith St': '', '31 St & Thomson Ave': '', 'Wolcott St & Dwight St': '', 'E 2 St & Avenue C': '', 'Gansevoort St & Hudson St': '', 'Central Park W & W 96 St': '', 'W 56 St & 10 Ave': '', 'Water - Whitehall Plaza': '', 'E 30 St & Park Ave S': '', 'Kent Ave & S 11 St': '', 'Clinton St & 4 Place': '', 'DeKalb Ave & Vanderbilt Ave': '', 'E 103 St & Lexington Ave': '', 'Wyckoff St & Bond St': '', 'Richardson St & N Henry St': '', 'E 68 St & 3 Ave': '', '8 Ave & W 31 St': '', 'W 116 St & Broadway': '', '28 St & 41 Ave': '', 'Riverside Dr & W 91 St': '', 'Columbia St & Kane St': '', 'E 11 St & 2 Ave': '', '49 Ave & 21 St': '', 'E 76 St & Park Ave': '', 'North Moore St & Greenwich St': '', 'E 10 St & 5 Ave': '', 'Willoughby Ave & Hall St': '', 'Flushing Ave & Vanderbilt Ave': '', 'Harborside': '', 'Broadway & E 22 St': '', 'Catherine St & Monroe St': '', 'Bayard St & Baxter St': '', '31 Ave & Steinway St': '', 'Congress St & Clinton St': '', '28 Ave & 44 St': '', 'E 53 St & 3 Ave': '', 'Laight St & Hudson St': '', 'Hancock St & Bedford Ave': '', 'E 39 St & 2 Ave': '', 'E 2 St & 2 Ave': '', 'Cliff St & Fulton St': '', 'E 75 St & 3 Ave': '', 'Park Ave & E 124 St': '', '21 St & Hoyt Ave S': '', 'W 20 St & 8 Ave': '', 'Watts St & Greenwich St': '', '4 Ave & 9 St': '', 'E 85 St & 3 Ave': '', 'E 55 St & 3 Ave': '', 'E 43 St & 2 Ave': '', 'W 21 St & 6 Ave': '', 'Howard St & Centre St': '', 'E 55 St & 2 Ave': '', 'Adam Clayton Powell Blvd & W 118 St': '', 'E 109 St & 3 Ave': '', 'E 25 St & 1 Ave': '', 'Pike St & Monroe St': '', '10 St & 7 Ave': '', 'W 106 St & Central Park West': '', 'Park Ave & St Edwards St': '', 'Henry St & Grand St': '', 'President St & Henry St': '', '46 Ave & 5 St': '', 'Madison Ave & E 82 St': '', 'Kosciuszko St & Nostrand Ave': '', 'Graham Ave & Withers St': '', 'Warren St & Court St': '', 'E 16 St & 5 Ave': '', 'West End Ave & W 107 St': '', 'Lexington Ave & E 63 St': '', 'E 77 St & 3 Ave': '', 'Bus Slip & State St': '', 'E 102 St & 1 Ave': '', 'Pleasant Ave & E 116 St': '', 'Broadway & 12 St': '', 'E 60 St & York Ave': '', '8 Ave & W 33 St': '', 'W 18 St & 6 Ave': '', '2 Ave & E 96 St': '', 'Perry St & Bleecker St': '', 'S 4 St & Wythe Ave': '', 'Vernon Blvd & 47 Rd': '', 'E 58 St & 3 Ave': '', 'Amsterdam Ave & W 82 St': '', 'E 6 St & Avenue D': '', '1 Ave & E 30 St': '', 'E 72 St & Park Ave': '', 'N 12 St & Bedford Ave': '', 'E 27 St & 1 Ave': '', 'E 51 St & 1 Ave': '', 'E 5 St & Avenue C': '', '21 St & 36 Ave': '', 'Crescent St & 34 Ave': '', 'St Marks Pl & 1 Ave': '', 'Cooper Square & Astor Pl': '', 'Broadway & W 51 St': '', 'Henry St & W 9 St': '', '48 Ave & 30 Pl': '', 'Fulton St & Utica Ave': '', 'E 74 St & 1 Ave': '', 'N 15 St & Wythe Ave': '', 'Morningside Ave & W 123 St': '', 'Clinton Ave & Myrtle Ave': '', 'Sullivan St & Washington Sq': '', 'Carroll St & Franklin Ave': '', 'Lewis Ave & Kosciuszko St': '', 'E 15 St & 3 Ave': '', 'Christopher St & Greenwich St': '', 'Pershing Square South': '', 'Pierrepont St & Monroe Pl': '', 'W 78 St & Broadway': '', 'Center Blvd & 48 Ave': '', 'W 42 St & Dyer Ave': '', 'Central Park S & 6 Ave': '', 'Prospect Park West & 8 St': '', 'Division St & Bowery': '', 'Barclay St & Church St': '', 'Amsterdam Ave & W 66 St': '', 'Morningside Dr & Amsterdam Ave': '', 'Bedford Ave & S 9 St': '', 'Stagg St & Union Ave': '', 'Lafayette Ave & Fort Greene Pl': '', 'Kosciuszko St & Tompkins Ave': '', '31 Ave & Crescent St': '', 'Allen St & Hester St': '', 'Park Pl & Vanderbilt Ave': '', '34 Ave & 38 St': '', '31 Ave & 14 St': '', '21 St & 31 Dr': '', 'E 88 St & 1 Ave': '', 'E 123 St & Lexington Ave': '', 'W 34 St & 11 Ave': '', 'Queens Plaza North & Crescent St': '', 'W 113 St & Broadway': '', 'Eastern Pkwy & Washington Ave': '', '1 Ave & E 18 St': '', 'Broadway & Moylan Pl': '', 'Montrose Ave & Bushwick Ave': '', 'Kingston Ave & Herkimer St': '', 'Underhill Ave & Lincoln Pl': '', '27 Ave & 9 St': '', 'W 27 St & 10 Ave': '', '12 St & 4 Ave': '', '6 Ave & W 33 St': '', 'West St & Chambers St': '', 'Avenue D & E 8 St': '', 'Rivington St & Ridge St': '', '7 St & 3 Ave': '', 'E 97 St & Madison Ave': '', '24 Ave & 26 St': '', 'E 84 St & 1 Ave': '', 'Broadway & W 122 St': '', 'NYCBS Depot - GOW': '', 'Prospect Pl & 6 Ave': '', 'W 55 St & 6 Ave': '', 'Murray St & West St': '', 'Riverside Blvd & W 67 St': '', 'Cathedral Pkwy & Broadway': '', 'Milton St & Franklin St': '', 'E 10 St & Avenue A': '', 'Barrow St & Hudson St': '', '31 St & Astoria Blvd': '', 'Murray St & Greenwich St': '', 'Bond St & Bergen St': '', 'Riverside Dr & W 82 St': '', '6 Ave & 12 St': '', 'Broadway & Whipple St': '', '5 Ave & E 103 St': '', 'Lexington Ave & Classon Ave': '', 'Willoughby St & Fleet St': '', 'John St & William St': '', '2 Ave & 36 St - Citi Bike HQ at Industry City': '', 'E 24 St & Park Ave S': '', 'Lenox Ave & W 115 St': '', 'E 25 St & 2 Ave': '', 'E 43 St & 5 Ave': '', 'St. Nicholas Ave & W 126 St': '', 'Carroll St & 5 Ave': '', 'Central Park West & W 85 St': '', 'W 84 St & Broadway': '', 'Halsey St & Tompkins Ave': '', 'E 81 St & Park Ave': '', 'Stanton St & Mangin St': '', 'Sterling Pl & 7 Ave': '', 'Union St & 4 Ave': '', 'W 22 St & 8 Ave': '', 'Broadway & W 38 St': '', 'Putnam Ave & Nostrand Ave': '', 'Crescent St & Ditmars Blvd': '', 'W 92 St & Broadway': '', 'Cadman Plaza E & Red Cross Pl': '', 'Division Av & Hooper St': '', 'Little West St & 1 Pl': '', 'E 115 St & Lexington Ave': '', 'Monroe St & Bedford Ave': '', '23 Ave & 27 St': '', 'Garfield Pl & 8 Ave': '', 'S 4 St & Rodney St': '', 'E 20 St & FDR Drive': '', 'E 102 St & Park Ave': '', 'Crescent St & 30 Ave': '', 'Hudson St & Reade St': '', '31 Ave & 30 St': '', 'E 85 St & York Ave': '', 'Lefferts Pl & Franklin Ave': '', 'Hanson Pl & Ashland Pl': '', 'East End Ave & E 86 St': '', 'E 81 St & York Ave': '', 'Henry St & Bay St': '', 'W 46 St & 11 Ave': '', 'E 53 St & Madison Ave': '', 'Mercer St & Spring St': '', 'Grand St & Elizabeth St': '', '2 Ave & E 31 St': '', 'Columbus Ave & W 95 St': '', 'Lenox Ave & W 111 St': '', 'Greenpoint Ave & Manhattan Ave': '', '31 St & Broadway': '', '3 St & Prospect Park West': '', 'Central Park West & W 76 St': '', '14 St & 7 Ave': '', '1 Ave & E 16 St': '', 'Nostrand Ave & Myrtle Ave': '', 'W 11 St & 6 Ave': '', 'Newtown Ave & 23 St': '', 'Montgomery St & Franklin Ave': '', 'W 15 St & 10 Ave': '', 'E 97 St & 3 Ave': '', 'Greenwich St & W Houston St': '', 'E 33 St & 1 Ave': '', 'Front St & Washington St': '', 'E 128 St & Madison Ave': '', 'Franklin St & Dupont St': '', '5 Ave & E 78 St': '', 'Lorimer St & Broadway': '', '12 Ave & W 40 St': '', 'Bushwick Ave & Powers St': '', 'Centre St & Chambers St': '', 'Van Brunt St & Wolcott St': '', 'Graham Ave & Grand St': '', '3 St & Hoyt St': '', 'Park Pl & Franklin Ave': '', 'Bergen St & Smith St': '', 'Driggs Ave & N 9 St': '', 'West Thames St': '', 'W 67 St & Broadway': '', 'E 48 St & 3 Ave': '', '21 St & 43 Ave': '', 'E 106 St & Madison Ave': '', 'E 98 St & Park Ave': '', 'Vernon Blvd & 31 Ave': '', 'Monroe St & Tompkins Ave': '', 'Columbia Heights & Cranberry St': '', 'Coffey St & Conover St': '', 'W 20 St & 11 Ave': '', 'Cleveland Pl & Spring St': '', 'W 22 St & 10 Ave': '', 'Pulaski St & Marcus Garvey Blvd': '', 'E 81 St & 3 Ave': '', '48 Ave & 5 St': '', 'E 55 St & Lexington Ave': '', 'E 118 St & Park Ave': '', '24 Ave & 29 St': '', 'Railroad Ave & Kay Ave': '', 'E 114 St & 1 Ave': '', 'W 16 St & 8 Ave': '', 'Lenox Ave & W 130 St': '', 'Van Brunt St & Van Dyke St': '', '6 Ave & Spring St': '', '11 Ave & W 59 St': '', 'St James Pl & Oliver St': '', 'Clinton St & Union St': '', 'Pershing Square North': '', 'E 33 St & 5 Ave': '', 'Greenwich Ave & Charles St': '', 'Sigourney St & Columbia St': '', 'Marcy Ave & Lafayette Ave': '', '34 Ave & 21 St': '', 'Lenox Ave & W 117 St': '', 'Franklin Ave & Empire Blvd': '', 'Centre St & Worth St': '', 'Monroe St & Classon Ave': '', 'Columbia St & Lorraine St': '', 'E 118 St & 3 Ave': '', 'E 118 St & 1 Ave': '', 'Broadway & W 32 St': '', 'Broad St & Bridge St': '', 'Riverside Dr & W 104 St': '', 'Putnam Ave & Throop Ave': '', 'Madison St & Montgomery St': '', 'E 68 St & Madison Ave': '', 'William St & Pine St': '', 'Broadway & W 29 St': '', 'W 49 St & 8 Ave': '', '3 Ave & E 112 St': '', 'W 15 St & 7 Ave': '', 'Crown St & Bedford Ave': '', 'E 9 St & Avenue C': '', 'W 13 St & 7 Ave': '', 'Amsterdam Ave & W 79 St': '', 'E 6 St & Avenue B': '', 'Clinton Ave & Flushing Ave': '', 'Lafayette St & Jersey St': '', 'Norfolk St & Broome St': '', '2 Ave & E 104 St': '', 'Degraw St & Hoyt St': '', 'Johnson St & Gold St': '', 'Pike St & E Broadway': '', 'Broadway & W 60 St': '', 'Union St & Nevins St': '', 'Cadman Plaza West & Montague St': '', 'Grand Army Plaza & Plaza St West': '', 'Lenox Ave & W 126 St': '', '14 St & 5 Ave': '', 'Driggs Ave & N Henry St': '', 'Albany Ave & Fulton St': '', 'Franklin Ave & St Marks Ave': '', 'Lexington Ave & E 120 St': '', 'W 33 St & 7 Ave': '', 'Bergen St & Vanderbilt Ave': '', 'Jackson Ave & 46 Rd': '', '3 Ave & E 72 St': '', 'Amsterdam Ave & W 125 St': '', 'Suffolk St & Stanton St': '', 'E 4 St & 2 Ave': '', 'E 45 St & 3 Ave': '', 'Pioneer St & Richards St': '', 'Steinway St & 23 Ave': '', 'E 31 St & 3 Ave': '', 'Harrison St & Hudson St': '', 'W 18 St & 9 Ave': '', 'Court St & Nelson St': '', 'Carroll St & Washington Ave': '', 'E 19 St & 3 Ave': '', 'Grand Army Plaza & Central Park S': '', 'Broadway & W 49 St': '', 'Hicks St & Montague St': '', 'Central Park West & W 68 St': '', '31 St & Hoyt Ave N': '', 'W 88 St & West End Ave': '', 'Emerson Pl & Myrtle Ave': '', 'Devoe St & Lorimer St': '', 'Degraw St & Smith St': '', 'Plaza St West & Flatbush Ave': '', 'W 82 St & Central Park West': '', 'Eastern Pkwy & Franklin Ave': '', 'W 100 St & Manhattan Ave': '', 'W 26 St & 8 Ave': '', 'Riverside Dr & W 78 St': '', 'Carmine St & 6 Ave': '', 'Lexington Ave & E 29 St': '', 'W 53 St & 10 Ave': '', 'E 89 St & 3 Ave': '', 'E 16 St & Irving Pl': '', 'Broadway & W 37 St': '', '5 Ave & E 126 St': '', 'LaGuardia Pl & W 3 St': '', 'Metropolitan Ave & Bedford Ave': '', 'South End Ave & Liberty St': '', 'Pearl St & Anchorage Pl': '', 'Forsyth St & Canal St': '', 'W 59 St & 10 Ave': '', '6 St & 7 Ave': '', 'Sterling St & Bedford Ave': '', 'DeKalb Ave & S Portland Ave': '', 'Broadway & W 53 St': '', 'Dwight St & Van Dyke St': '', '2 Ave & 9 St': '', 'W Broadway & Spring Street': '', '35 St & Broadway': '', 'Nassau Ave & Newell St': '', 'Huron St & Franklin St': '', '37 Ave & 35 St': '', 'E 35 St & 3 Ave': '', 'Commerce St & Van Brunt St': '', 'Lincoln Pl & Classon Ave': '', 'St Marks Pl & 2 Ave': '', 'India St & West St': '', 'Atlantic Ave & Fort Greene Pl': '', '10 Hudson Yards': '', 'Pitt St & Stanton St': '', 'St Nicholas Ave & Manhattan Ave': '', 'E 20 St & 2 Ave': '', 'Riverside Dr & W 72 St': '', 'W 87 St & Amsterdam Ave': '', 'Clinton St & Joralemon St': '', 'Vernon Blvd & 41 Rd': '', 'Washington St & Gansevoort St': '', 'Richards St & Delavan St': '', '3 Ave & 14 St': '', 'Madison St & Clinton St': '', 'Union St & Bedford Ave': '', 'Bayard St & Leonard St': '', 'Vernon Blvd & 10 St': '', 'E 110 St & Madison Ave': '', 'Vernon Blvd & 30 Rd': '', 'E 81 St & 2 Ave': '', 'Smith St & 3 St': '', 'W 12 St & W 4 St': '', '47 Ave & 31 St': '', 'E 78 St & 2 Ave': '', 'Graham Ave & Conselyea St': '', 'E 47 St & 1 Ave': '', 'Allen St & Stanton St': '', '5 St & 51 Ave': '', 'Handlebar @ Gowanus': '', 'MacDougal St & Washington Sq': '', 'Wyckoff St & 3 Ave': '', 'W 89 St & Columbus Ave': '', 'Front St & Maiden Ln': '', 'Leonard St & Maujer St': '', 'Fulton St & Clermont Ave': '', 'Bergen St & Flatbush Ave': '', 'Adam Clayton Powell Blvd & W 115 St': '', 'W 24 St & 7 Ave': '', 'W 45 St & 8 Ave': '', 'FDR Drive & E 35 St': '', 'E 11 St & 1 Ave': '', 'E 116 St & 2 Ave': '', 'Concord St & Bridge St': '', 'Broadway & Roebling St': '', '47 Ave & Skillman Ave': '', 'Columbia St & W 9 St': '', 'E 82 St & East End Ave': '', 'E 47 St & 2 Ave': '', 'Frederick Douglass Blvd & W 115 St': '', 'Leonard St & Boerum St': '', 'Smith St & 9 St': '', 'Meserole Ave & Manhattan Ave': '', 'Verona Pl & Fulton St': '', 'Lexington Ave & E 127 St': '', '43 St & Broadway': '', 'Greene Ave & Throop Ave': '', 'Peck Slip & Front St': '', 'S Portland Ave & Hanson Pl': '', 'Front St & Gold St': '', 'Tompkins Ave & Hopkins St': '', '5 St & 6 Ave': '', '3 Ave & Schermerhorn St': '', 'Central Park West & W 72 St': '', 'Cherry St': '', 'E 67 St & Park Ave': '', 'W 37 St & 5 Ave': '', 'Duffield St & Willoughby St': '', 'Broadway & W 41 St': '', 'Adam Clayton Powell Blvd & W 126 St': '', 'Union Ave & Wallabout St': '', 'Crescent St & 35 Ave': '', '4 Ave & 2 St': '', 'E 7 St & Avenue A': '', 'W 43 St & 10 Ave': '', 'W 84 St & Columbus Ave': '', 'E 52 St & 2 Ave': '', 'Great Jones St': '', 'Pacific St & Nevins St': '', 'Douglass St & 4 Ave': '', '44 Dr & Jackson Ave': '', 'Central Park West & W 100 St': '', '5 St & Market St': '', 'Division Ave & Marcy Ave': '', 'Jay St & Tech Pl': '', 'Bank St & Washington St': '', 'E 44 St & 2 Ave': '', 'W 43 St & 6 Ave': '', 'W 50 St & 9 Ave': '', 'E 106 St & 1 Ave': '', 'Wythe Ave & Metropolitan Ave': '', 'Pier 40 - Hudson River Park': '', '31 St & Northern Blvd': '', 'Park Pl & Church St': '', 'Lafayette Ave & Classon Ave': '', 'Greene Ave & Nostrand Ave': '', '45 Rd & 11 St': '', 'Berkeley Pl & 6 Ave': '', 'Rivington St & Chrystie St': '', 'Stanton St & Norfolk St': '', 'Henry St & Atlantic Ave': '', 'Broadway & E 14 St': '', 'South St & Gouverneur Ln': '', 'E 13 St & Avenue A': '', 'Willoughby Ave & Tompkins Ave': '', 'Park Ave & Marcus Garvey Blvd': '', 'Cambridge Pl & Gates Ave': '', 'St James Pl & Pearl St': '', '3 Ave & E 100 St': '', 'W 4 St & 7 Ave S': '', 'Franklin Ave & Myrtle Ave': '', 'Columbus Ave & W 103 St': '', 'Washington Pl & 6 Ave': '', 'Carlton Ave & Flushing Ave': '', 'Bedford Ave & Bergen St': '', '11 St & 43 Ave': '', 'Lewis Ave & Madison St': '', 'W 20 St & 7 Ave': '', '24 St & 41 Ave': '', 'E 11 St & Broadway': '', 'Lexington Ave & E 111 St': '', 'Columbus Ave & W 72 St': '', 'Liberty St & Broadway': '', 'Bank St & Hudson St': '', '1 Ave & E 110 St': '', 'Mt Morris Park W & W 120 St': '', '21 St & 38 Ave': '', 'Bialystoker Pl & Delancey St': '', 'Maiden Ln & Pearl St': '', 'Schermerhorn St & Court St': '', 'Berkeley Pl & 7 Ave': '', 'Carroll St & Columbia St': '', 'Berry St & N 8 St': '', 'E 58 St & 1 Ave': '', 'Old Slip & Front St': '', 'Marcus Garvey Blvd & Macon St': '', '3 Ave & E 62 St': '', 'W 27 St & 7 Ave': '', 'Myrtle Ave & Marcy Ave': '', 'McKibbin St & Manhattan Ave': '', '5 Ave & E 63 St': '', 'Driggs Ave & Lorimer St': '', 'Stanton St & Chrystie St': '', 'Vernon Blvd & 50 Ave': '', 'Baltic St & 5 Ave': '', '5 Ave & E 88 St': '', 'Clermont Ave & Lafayette Ave': '', 'Kane St & Clinton St': '', '27 Ave & 4 St': '', '40 Ave & 9 St': '', 'DeKalb Ave & Skillman St': '', '10 St & 5 Ave': '', '1 Ave & E 62 St': '', 'Dean St & Hoyt St': '', '36 Ave & 31 St': '', 'Pacific St & Classon Ave': '', 'Carroll St & 6 Ave': '', 'Hope St & Union Ave': '', 'Allen St & Rivington St': '', '9 Ave & W 45 St': '', 'Franklin St & W Broadway': '', '40 Ave & Crescent St': '', '1 Ave & E 78 St': '', '9 St & 44 Rd': '', 'McGuinness Blvd & Eagle St': '', 'St Johns Pl & Washington Ave': '', 'Frost St & Meeker Ave': '', 'State St & Smith St': '', 'E 20 St & Park Ave': '', 'Graham Ave & Herbert St': '', 'Amsterdam Ave & W 73 St': '', 'Washington Ave & Greene Ave': '', 'Boerum St & Broadway': '', 'Classon Ave & St Marks Ave': '', 'Sterling Pl & Bedford Ave': '', 'Fulton St & Rockwell Pl': '', 'Prospect Pl & Underhill Ave': '', 'Underhill Ave & Pacific St': '', '36 Ave & 10 St': '', 'Kent Ave & N 7 St': '', 'N 6 St & Bedford Ave': '', 'W 47 St & 10 Ave': '', 'Broadway & Battery Pl': '', 'Atlantic Ave & Furman St': '', 'W 52 St & 6 Ave': '', 'Canal St & Rutgers St': '', '2 Ave & E 72 St': '', 'Washington Ave & Park Ave': '', 'E 47 St & Park Ave': '', 'Dean St & 4 Ave': '', 'Madison Ave & E 120 St': '', '34 St & 35 Ave': '', 'Metropolitan Ave & Meeker Ave': '', 'Duane St & Greenwich St': '', 'E 93 St & 2 Ave': '', '9 Ave & W 22 St': '', 'Broadway & W 36 St': '', 'MacDougal St & Prince St': '', 'E 41 St & Madison Ave': '', 'Adelphi St & Myrtle Ave': '', 'W 54 St & 9 Ave': '', 'Grand St & Havemeyer St': '', 'University Pl & E 8 St': '', 'Madison Ave & E 99 St': '', 'Fulton St & Waverly Ave': '', 'Scholes St & Manhattan Ave': '', 'Fulton St & William St': '', 'Dean St & Franklin Ave': '', '21 St & Queens Plaza North': '', 'Nassau St & Navy St': '', 'Henry St & Poplar St': '', 'Leonard St & Nassau Ave': '', 'W 35 St & Dyer Ave': '', 'W 16 St & The High Line': '', '11 Ave & W 27 St': '', 'E 23 St & 1 Ave': '', '6 Ave & 9 St': '', 'S 3 St & Bedford Ave': '', 'Cumberland St & Lafayette Ave': '', 'Eckford St & Engert Ave': '', '19 St & 24 Ave': '', 'Essex Light Rail': '', 'E 58 St & Madison Ave': '', '5 Ave & E 29 St': '', 'Schermerhorn St & Bond St': '', '37 St & 24 Ave': '', 'E 91 St & Park Ave': '', '44 Dr & 21 St': '', 'Douglass St & 3 Ave': '', 'Lawrence St & Willoughby St': '', 'Mott St & Prince St': '', 'Banker St & Meserole Ave': '', 'E 118 St & Madison Ave': '', '7 Ave & Park Pl': '', 'Myrtle Ave & Lewis Ave': '', 'E 106 St & Lexington Ave': '', 'Columbia St & Rivington St': '', 'Union Ave & Jackson St': '', 'Avenue D & E 3 St': '', 'E 11 St & Avenue B': '', '2 Ave & E 122 St': '', '5 Ave & 3 St': '', 'Lafayette St & E 8 St': '', 'E 2 St & Avenue A': '', 'Columbia St & Degraw St': '', 'Pearl St & Hanover Square': '', 'Macon St & Nostrand Ave': '', 'W 52 St & 11 Ave': '', 'Reade St & Broadway': '', 'E 115 St & Madison Ave': '', 'India St & Manhattan Ave': '', 'W 41 St & 8 Ave': '', 'W 129 St & Convent Ave': '', 'West End Ave & W 94 St': ''}\n"
          ]
        }
      ]
    },
    {
      "cell_type": "code",
      "source": [
        "from pyspark.sql import functions as F\n",
        "def find_zone(lon1, lat1): \n",
        "  df_closest = spark_df1[['zone', 'longitude', 'latitude']]\n",
        "  row = df_closest.withColumn(\"difference\", F.abs(F.col('longitude') - lon1) + F.abs(F.col('latitude') - lat1)).sort(\"difference\", ascending=False).first()\n",
        "  return row.zone\n",
        "\n",
        "for name in station_names: \n",
        "  start = spark_df.filter(spark_df[\"start station name\"]==name).first()\n",
        "  if start: \n",
        "    station_dict[name] = find_zone(start[6], start[5])\n",
        "  else: \n",
        "    end = spark_df.filter(spark_df[\"end station name\"]==name).first()\n",
        "    station_dict[name] = find_zone(end[10], end[9])\n",
        "print(station_dict)"
      ],
      "metadata": {
        "colab": {
          "base_uri": "https://localhost:8080/"
        },
        "id": "Y8OmbP2GCsBh",
        "outputId": "04b8b970-d071-4a8e-f8a8-5eda2b1daf9b"
      },
      "execution_count": 41,
      "outputs": [
        {
          "output_type": "stream",
          "name": "stdout",
          "text": [
            "{'Fulton St & Grand Ave': 'Charleston/Tottenville', 'W 107 St & Columbus Ave': 'Charleston/Tottenville', 'Lispenard St & Broadway': 'Charleston/Tottenville', 'W 17 St & 9 Ave': 'Charleston/Tottenville', 'W 52 St & 5 Ave': 'Charleston/Tottenville', 'Lafayette Ave & St James Pl': 'Charleston/Tottenville', '3 St & 3 Ave': 'Charleston/Tottenville', '28 St & 38 Ave': 'Charleston/Tottenville', 'Bedford Ave & Nassau Ave': 'Charleston/Tottenville', 'W 106 St & Amsterdam Ave': 'Charleston/Tottenville', '31 St & 23 Ave': 'Charleston/Tottenville', 'Willoughby Ave & Walworth St': 'Charleston/Tottenville', 'Carroll St & Bond St': 'Charleston/Tottenville', 'W 76 St & Columbus Ave': 'Charleston/Tottenville', 'Spruce St & Nassau St': 'Charleston/Tottenville', 'E 84 St & Park Ave': 'Charleston/Tottenville', '1 Pl & Clinton St': 'Charleston/Tottenville', 'E 89 St & York Ave': 'Charleston/Tottenville', '35 Ave & 37 St': 'Charleston/Tottenville', '5 Ave & E 73 St': 'Charleston/Tottenville', '9 Ave & W 28 St': 'Charleston/Tottenville', 'Union Ave & N 12 St': 'Charleston/Tottenville', 'Jay St & York St': 'Charleston/Tottenville', 'W 26 St & 10 Ave': 'Charleston/Tottenville', 'Clermont Ave & Park Ave': 'Charleston/Tottenville', 'W 31 St & 7 Ave': 'Charleston/Tottenville', nan: 'Charleston/Tottenville', '3 Ave & E 95 St': 'Charleston/Tottenville', 'Rogers Ave & Sterling St': 'Charleston/Tottenville', 'W 100 St & Broadway': 'Charleston/Tottenville', 'E 66 St & Madison Ave': 'Charleston/Tottenville', 'Cadman Plaza E & Johnson St': 'Charleston/Tottenville', 'E 48 St & 5 Ave': 'Charleston/Tottenville', 'E 91 St & 2 Ave': 'Charleston/Tottenville', 'Grand Ave & Bergen St': 'Charleston/Tottenville', 'Newton Rd & 44 St': 'Charleston/Tottenville', '1 Ave & E 94 St': 'Charleston/Tottenville', 'E 59 St & Madison Ave': 'Charleston/Tottenville', 'Clark St & Henry St': 'Charleston/Tottenville', 'Grand St & Greene St': 'Charleston/Tottenville', 'W 95 St & Broadway': 'Charleston/Tottenville', 'Henry St & Degraw St': 'Charleston/Tottenville', 'Washington Pl & Broadway': 'Charleston/Tottenville', 'W 70 St & Amsterdam Ave': 'Charleston/Tottenville', '8 Ave & W 52 St': 'Charleston/Tottenville', 'Myrtle Ave & St Edwards St': 'Charleston/Tottenville', 'Frederick Douglass Blvd & W 112 St': 'Charleston/Tottenville', '7 Ave & Central Park South': 'Charleston/Tottenville', 'E 17 St & Broadway': 'Charleston/Tottenville', '34 Ave & 13 St': 'Charleston/Tottenville', '5 Ave & E 93 St': 'Charleston/Tottenville', '28 St & 36 Ave': 'Charleston/Tottenville', 'Bond St & Fulton St': 'Charleston/Tottenville', 'N 11 St & Kent Ave': 'Charleston/Tottenville', '11 St & 35 Ave': 'Charleston/Tottenville', 'E 72 St & York Ave': 'Charleston/Tottenville', 'W 15 St & 6 Ave': 'Charleston/Tottenville', 'W 37 St & 10 Ave': 'Charleston/Tottenville', 'Lewis Ave & Decatur St': 'Charleston/Tottenville', '39 St & 2 Ave - Citi Bike HQ at Industry City': 'City Island', 'Carlton Ave & Dean St': 'Charleston/Tottenville', 'Humboldt St & Varet St': 'Charleston/Tottenville', '11 Ave & W 41 St': 'Charleston/Tottenville', 'Avenue D & E 12 St': 'Charleston/Tottenville', 'Jackson St & Leonard St': 'Charleston/Tottenville', 'Clinton St & Grand St': 'Charleston/Tottenville', 'W 38 St & 8 Ave': 'Charleston/Tottenville', 'Broadway & Berry St': 'Charleston/Tottenville', 'South St & Whitehall St': 'Charleston/Tottenville', 'Clinton St & Centre St': 'City Island', 'Crescent St & Broadway': 'Charleston/Tottenville', 'Ditmars Blvd & 19 St': 'Charleston/Tottenville', '3 St & 7 Ave': 'Charleston/Tottenville', 'W 110 St & Amsterdam Ave': 'Charleston/Tottenville', 'Frederick Douglass Blvd & W 117 St': 'Charleston/Tottenville', 'Pleasant Ave & E 120 St': 'Charleston/Tottenville', 'Roebling St & N 4 St': 'Charleston/Tottenville', 'Leonard St & Church St': 'Charleston/Tottenville', 'W 42 St & 8 Ave': 'Charleston/Tottenville', 'Market St & Cherry St': 'Charleston/Tottenville', 'W 44 St & 5 Ave': 'Charleston/Tottenville', 'Court St & State St': 'Charleston/Tottenville', 'Broadway & W 25 St': 'Charleston/Tottenville', 'W 25 St & 6 Ave': 'Charleston/Tottenville', 'Center Blvd & 51 Ave': 'Charleston/Tottenville', 'Astoria Park S & Shore Blvd': 'Charleston/Tottenville', 'E 2 St & Avenue B': 'Charleston/Tottenville', 'W 45 St & 6 Ave': 'Charleston/Tottenville', 'Throop Ave & Myrtle Ave': 'Charleston/Tottenville', 'E 88 St & Park Ave': 'Charleston/Tottenville', '31 Ave & 34 St': 'Charleston/Tottenville', 'Frederick Douglass Blvd & W 129 St': 'Charleston/Tottenville', 'Carlton Ave & Park Ave': 'Charleston/Tottenville', 'E 32 St & Park Ave': 'Charleston/Tottenville', '6 Ave & Canal St': 'Charleston/Tottenville', 'Amsterdam Ave & W 119 St': 'Charleston/Tottenville', 'Nassau Ave & Russell St': 'Charleston/Tottenville', 'University Pl & E 14 St': 'Charleston/Tottenville', 'W 90 St & Amsterdam Ave': 'Charleston/Tottenville', 'Adam Clayton Powell Blvd & W 123 St': 'Charleston/Tottenville', 'Fulton St & Broadway': 'Charleston/Tottenville', '30 Ave & 21 St': 'Charleston/Tottenville', 'Pioneer St & Van Brunt St': 'City Island', 'Forsyth St & Broome St': 'Charleston/Tottenville', 'E 65 St & 2 Ave': 'Charleston/Tottenville', '1 Ave & E 68 St': 'Charleston/Tottenville', 'Old Fulton St': 'Charleston/Tottenville', 'W 63 St & Broadway': 'Charleston/Tottenville', 'E 51 St & Lexington Ave': 'Charleston/Tottenville', 'DeKalb Ave & Hudson Ave': 'Charleston/Tottenville', 'W 116 St & Amsterdam Ave': 'Charleston/Tottenville', '1 Ave & E 44 St': 'Charleston/Tottenville', 'Central Park West & W 102 St': 'Charleston/Tottenville', 'Avenue C & E 18 St': 'Charleston/Tottenville', 'Vesey Pl & River Terrace': 'Charleston/Tottenville', '31 St & Newtown Ave': 'Charleston/Tottenville', '3 Ave & E 71 St': 'Charleston/Tottenville', 'Broadway & W 56 St': 'Charleston/Tottenville', 'Mercer St & Bleecker St': 'Charleston/Tottenville', 'W 74 St & Columbus Ave': 'Charleston/Tottenville', '7 St & 5 Ave': 'Charleston/Tottenville', 'Sullivan Pl & Bedford Ave': 'Charleston/Tottenville', '35 St & 34 Ave': 'Charleston/Tottenville', 'Steinway St & 28 Ave': 'Charleston/Tottenville', '2 Ave & E 99 St': 'Charleston/Tottenville', 'W 64 St & Thelonious Monk Circle': 'Charleston/Tottenville', 'West Drive & Prospect Park West': 'Charleston/Tottenville', '35 Ave & 10 St': 'Charleston/Tottenville', 'Riverview Park': 'Far Rockaway', 'Washington Park': 'Charleston/Tottenville', '27 St & Hunter St': 'Charleston/Tottenville', 'E 39 St & 3 Ave': 'Charleston/Tottenville', '28 Ave & 35 St': 'Charleston/Tottenville', 'Fulton St & Adams St': 'Charleston/Tottenville', 'S 5 Pl & S 5 St': 'Charleston/Tottenville', 'Butler St & Court St': 'Charleston/Tottenville', 'Central Park North & Adam Clayton Powell Blvd': 'Charleston/Tottenville', 'W 120 St & Claremont Ave': 'Charleston/Tottenville', 'NYCBS DEPOT - DELANCEY': 'Charleston/Tottenville', 'W 104 St & Amsterdam Ave': 'Charleston/Tottenville', '31 St & 35 Ave': 'Charleston/Tottenville', 'Carroll St & Smith St': 'Charleston/Tottenville', '31 St & Thomson Ave': 'Charleston/Tottenville', 'Wolcott St & Dwight St': 'City Island', 'E 2 St & Avenue C': 'Charleston/Tottenville', 'Gansevoort St & Hudson St': 'Charleston/Tottenville', 'Central Park W & W 96 St': 'Charleston/Tottenville', 'W 56 St & 10 Ave': 'Charleston/Tottenville', 'Water - Whitehall Plaza': 'Charleston/Tottenville', 'E 30 St & Park Ave S': 'Charleston/Tottenville', 'Kent Ave & S 11 St': 'Charleston/Tottenville', 'Clinton St & 4 Place': 'City Island', 'DeKalb Ave & Vanderbilt Ave': 'Charleston/Tottenville', 'E 103 St & Lexington Ave': 'Charleston/Tottenville', 'Wyckoff St & Bond St': 'Charleston/Tottenville', 'Richardson St & N Henry St': 'Charleston/Tottenville', 'E 68 St & 3 Ave': 'Charleston/Tottenville', '8 Ave & W 31 St': 'Charleston/Tottenville', 'W 116 St & Broadway': 'Charleston/Tottenville', '28 St & 41 Ave': 'Charleston/Tottenville', 'Riverside Dr & W 91 St': 'Charleston/Tottenville', 'Columbia St & Kane St': 'Charleston/Tottenville', 'E 11 St & 2 Ave': 'Charleston/Tottenville', '49 Ave & 21 St': 'Charleston/Tottenville', 'E 76 St & Park Ave': 'Charleston/Tottenville', 'North Moore St & Greenwich St': 'Charleston/Tottenville', 'E 10 St & 5 Ave': 'Charleston/Tottenville', 'Willoughby Ave & Hall St': 'Charleston/Tottenville', 'Flushing Ave & Vanderbilt Ave': 'Charleston/Tottenville', 'Harborside': 'Far Rockaway', 'Broadway & E 22 St': 'Charleston/Tottenville', 'Catherine St & Monroe St': 'Charleston/Tottenville', 'Bayard St & Baxter St': 'Charleston/Tottenville', '31 Ave & Steinway St': 'Charleston/Tottenville', 'Congress St & Clinton St': 'Charleston/Tottenville', '28 Ave & 44 St': 'Charleston/Tottenville', 'E 53 St & 3 Ave': 'Charleston/Tottenville', 'Laight St & Hudson St': 'Charleston/Tottenville', 'Hancock St & Bedford Ave': 'Charleston/Tottenville', 'E 39 St & 2 Ave': 'Charleston/Tottenville', 'E 2 St & 2 Ave': 'Charleston/Tottenville', 'Cliff St & Fulton St': 'Charleston/Tottenville', 'E 75 St & 3 Ave': 'Charleston/Tottenville', 'Park Ave & E 124 St': 'Charleston/Tottenville', '21 St & Hoyt Ave S': 'Charleston/Tottenville', 'W 20 St & 8 Ave': 'Charleston/Tottenville', 'Watts St & Greenwich St': 'Charleston/Tottenville', '4 Ave & 9 St': 'Charleston/Tottenville', 'E 85 St & 3 Ave': 'Charleston/Tottenville', 'E 55 St & 3 Ave': 'Charleston/Tottenville', 'E 43 St & 2 Ave': 'Charleston/Tottenville', 'W 21 St & 6 Ave': 'Charleston/Tottenville', 'Howard St & Centre St': 'Charleston/Tottenville', 'E 55 St & 2 Ave': 'Charleston/Tottenville', 'Adam Clayton Powell Blvd & W 118 St': 'Charleston/Tottenville', 'E 109 St & 3 Ave': 'Charleston/Tottenville', 'E 25 St & 1 Ave': 'Charleston/Tottenville', 'Pike St & Monroe St': 'Charleston/Tottenville', '10 St & 7 Ave': 'Charleston/Tottenville', 'W 106 St & Central Park West': 'Charleston/Tottenville', 'Park Ave & St Edwards St': 'Charleston/Tottenville', 'Henry St & Grand St': 'Charleston/Tottenville', 'President St & Henry St': 'Charleston/Tottenville', '46 Ave & 5 St': 'Charleston/Tottenville', 'Madison Ave & E 82 St': 'Charleston/Tottenville', 'Kosciuszko St & Nostrand Ave': 'Charleston/Tottenville', 'Graham Ave & Withers St': 'Charleston/Tottenville', 'Warren St & Court St': 'Charleston/Tottenville', 'E 16 St & 5 Ave': 'Charleston/Tottenville', 'West End Ave & W 107 St': 'Charleston/Tottenville', 'Lexington Ave & E 63 St': 'Charleston/Tottenville', 'E 77 St & 3 Ave': 'Charleston/Tottenville', 'Bus Slip & State St': 'Charleston/Tottenville', 'E 102 St & 1 Ave': 'Charleston/Tottenville', 'Pleasant Ave & E 116 St': 'Charleston/Tottenville', 'Broadway & 12 St': 'Charleston/Tottenville', 'E 60 St & York Ave': 'Charleston/Tottenville', '8 Ave & W 33 St': 'Charleston/Tottenville', 'W 18 St & 6 Ave': 'Charleston/Tottenville', '2 Ave & E 96 St': 'Charleston/Tottenville', 'Perry St & Bleecker St': 'Charleston/Tottenville', 'S 4 St & Wythe Ave': 'Charleston/Tottenville', 'Vernon Blvd & 47 Rd': 'Charleston/Tottenville', 'E 58 St & 3 Ave': 'Charleston/Tottenville', 'Amsterdam Ave & W 82 St': 'Charleston/Tottenville', 'E 6 St & Avenue D': 'Charleston/Tottenville', '1 Ave & E 30 St': 'Charleston/Tottenville', 'E 72 St & Park Ave': 'Charleston/Tottenville', 'N 12 St & Bedford Ave': 'Charleston/Tottenville', 'E 27 St & 1 Ave': 'Charleston/Tottenville', 'E 51 St & 1 Ave': 'Charleston/Tottenville', 'E 5 St & Avenue C': 'Charleston/Tottenville', '21 St & 36 Ave': 'Charleston/Tottenville', 'Crescent St & 34 Ave': 'Charleston/Tottenville', 'St Marks Pl & 1 Ave': 'Charleston/Tottenville', 'Cooper Square & Astor Pl': 'Charleston/Tottenville', 'Broadway & W 51 St': 'Charleston/Tottenville', 'Henry St & W 9 St': 'City Island', '48 Ave & 30 Pl': 'Charleston/Tottenville', 'Fulton St & Utica Ave': 'Charleston/Tottenville', 'E 74 St & 1 Ave': 'Charleston/Tottenville', 'N 15 St & Wythe Ave': 'Charleston/Tottenville', 'Morningside Ave & W 123 St': 'Charleston/Tottenville', 'Clinton Ave & Myrtle Ave': 'Charleston/Tottenville', 'Sullivan St & Washington Sq': 'Charleston/Tottenville', 'Carroll St & Franklin Ave': 'Charleston/Tottenville', 'Lewis Ave & Kosciuszko St': 'Charleston/Tottenville', 'E 15 St & 3 Ave': 'Charleston/Tottenville', 'Christopher St & Greenwich St': 'Charleston/Tottenville', 'Pershing Square South': 'Charleston/Tottenville', 'Pierrepont St & Monroe Pl': 'Charleston/Tottenville', 'W 78 St & Broadway': 'Charleston/Tottenville', 'Center Blvd & 48 Ave': 'Charleston/Tottenville', 'W 42 St & Dyer Ave': 'Charleston/Tottenville', 'Central Park S & 6 Ave': 'Charleston/Tottenville', 'Prospect Park West & 8 St': 'Charleston/Tottenville', 'Division St & Bowery': 'Charleston/Tottenville', 'Barclay St & Church St': 'Charleston/Tottenville', 'Amsterdam Ave & W 66 St': 'Charleston/Tottenville', 'Morningside Dr & Amsterdam Ave': 'Charleston/Tottenville', 'Bedford Ave & S 9 St': 'Charleston/Tottenville', 'Stagg St & Union Ave': 'Charleston/Tottenville', 'Lafayette Ave & Fort Greene Pl': 'Charleston/Tottenville', 'Kosciuszko St & Tompkins Ave': 'Charleston/Tottenville', '31 Ave & Crescent St': 'Charleston/Tottenville', 'Allen St & Hester St': 'Charleston/Tottenville', 'Park Pl & Vanderbilt Ave': 'Charleston/Tottenville', '34 Ave & 38 St': 'Charleston/Tottenville', '31 Ave & 14 St': 'Charleston/Tottenville', '21 St & 31 Dr': 'Charleston/Tottenville', 'E 88 St & 1 Ave': 'Charleston/Tottenville', 'E 123 St & Lexington Ave': 'Charleston/Tottenville', 'W 34 St & 11 Ave': 'Charleston/Tottenville', 'Queens Plaza North & Crescent St': 'Charleston/Tottenville', 'W 113 St & Broadway': 'Charleston/Tottenville', 'Eastern Pkwy & Washington Ave': 'Charleston/Tottenville', '1 Ave & E 18 St': 'Charleston/Tottenville', 'Broadway & Moylan Pl': 'Charleston/Tottenville', 'Montrose Ave & Bushwick Ave': 'Charleston/Tottenville', 'Kingston Ave & Herkimer St': 'Charleston/Tottenville', 'Underhill Ave & Lincoln Pl': 'Charleston/Tottenville', '27 Ave & 9 St': 'Charleston/Tottenville', 'W 27 St & 10 Ave': 'Charleston/Tottenville', '12 St & 4 Ave': 'City Island', '6 Ave & W 33 St': 'Charleston/Tottenville', 'West St & Chambers St': 'Charleston/Tottenville', 'Avenue D & E 8 St': 'Charleston/Tottenville', 'Rivington St & Ridge St': 'Charleston/Tottenville', '7 St & 3 Ave': 'Charleston/Tottenville', 'E 97 St & Madison Ave': 'Charleston/Tottenville', '24 Ave & 26 St': 'Charleston/Tottenville', 'E 84 St & 1 Ave': 'Charleston/Tottenville', 'Broadway & W 122 St': 'Charleston/Tottenville', 'NYCBS Depot - GOW': 'City Island', 'Prospect Pl & 6 Ave': 'Charleston/Tottenville', 'W 55 St & 6 Ave': 'Charleston/Tottenville', 'Murray St & West St': 'Charleston/Tottenville', 'Riverside Blvd & W 67 St': 'Charleston/Tottenville', 'Cathedral Pkwy & Broadway': 'Charleston/Tottenville', 'Milton St & Franklin St': 'Charleston/Tottenville', 'E 10 St & Avenue A': 'Charleston/Tottenville', 'Barrow St & Hudson St': 'Charleston/Tottenville', '31 St & Astoria Blvd': 'Charleston/Tottenville', 'Murray St & Greenwich St': 'Charleston/Tottenville', 'Bond St & Bergen St': 'Charleston/Tottenville', 'Riverside Dr & W 82 St': 'Charleston/Tottenville', '6 Ave & 12 St': 'Charleston/Tottenville', 'Broadway & Whipple St': 'Charleston/Tottenville', '5 Ave & E 103 St': 'Charleston/Tottenville', 'Lexington Ave & Classon Ave': 'Charleston/Tottenville', 'Willoughby St & Fleet St': 'Charleston/Tottenville', 'John St & William St': 'Charleston/Tottenville', '2 Ave & 36 St - Citi Bike HQ at Industry City': 'City Island', 'E 24 St & Park Ave S': 'Charleston/Tottenville', 'Lenox Ave & W 115 St': 'Charleston/Tottenville', 'E 25 St & 2 Ave': 'Charleston/Tottenville', 'E 43 St & 5 Ave': 'Charleston/Tottenville', 'St. Nicholas Ave & W 126 St': 'Charleston/Tottenville', 'Carroll St & 5 Ave': 'Charleston/Tottenville', 'Central Park West & W 85 St': 'Charleston/Tottenville', 'W 84 St & Broadway': 'Charleston/Tottenville', 'Halsey St & Tompkins Ave': 'Charleston/Tottenville', 'E 81 St & Park Ave': 'Charleston/Tottenville', 'Stanton St & Mangin St': 'Charleston/Tottenville', 'Sterling Pl & 7 Ave': 'Charleston/Tottenville', 'Union St & 4 Ave': 'Charleston/Tottenville', 'W 22 St & 8 Ave': 'Charleston/Tottenville', 'Broadway & W 38 St': 'Charleston/Tottenville', 'Putnam Ave & Nostrand Ave': 'Charleston/Tottenville', 'Crescent St & Ditmars Blvd': 'Charleston/Tottenville', 'W 92 St & Broadway': 'Charleston/Tottenville', 'Cadman Plaza E & Red Cross Pl': 'Charleston/Tottenville', 'Division Av & Hooper St': 'Charleston/Tottenville', 'Little West St & 1 Pl': 'Charleston/Tottenville', 'E 115 St & Lexington Ave': 'Charleston/Tottenville', 'Monroe St & Bedford Ave': 'Charleston/Tottenville', '23 Ave & 27 St': 'Charleston/Tottenville', 'Garfield Pl & 8 Ave': 'Charleston/Tottenville', 'S 4 St & Rodney St': 'Charleston/Tottenville', 'E 20 St & FDR Drive': 'Charleston/Tottenville', 'E 102 St & Park Ave': 'Charleston/Tottenville', 'Crescent St & 30 Ave': 'Charleston/Tottenville', 'Hudson St & Reade St': 'Charleston/Tottenville', '31 Ave & 30 St': 'Charleston/Tottenville', 'E 85 St & York Ave': 'Charleston/Tottenville', 'Lefferts Pl & Franklin Ave': 'Charleston/Tottenville', 'Hanson Pl & Ashland Pl': 'Charleston/Tottenville', 'East End Ave & E 86 St': 'Charleston/Tottenville', 'E 81 St & York Ave': 'Charleston/Tottenville', 'Henry St & Bay St': 'City Island', 'W 46 St & 11 Ave': 'Charleston/Tottenville', 'E 53 St & Madison Ave': 'Charleston/Tottenville', 'Mercer St & Spring St': 'Charleston/Tottenville', 'Grand St & Elizabeth St': 'Charleston/Tottenville', '2 Ave & E 31 St': 'Charleston/Tottenville', 'Columbus Ave & W 95 St': 'Charleston/Tottenville', 'Lenox Ave & W 111 St': 'Charleston/Tottenville', 'Greenpoint Ave & Manhattan Ave': 'Charleston/Tottenville', '31 St & Broadway': 'Charleston/Tottenville', '3 St & Prospect Park West': 'Charleston/Tottenville', 'Central Park West & W 76 St': 'Charleston/Tottenville', '14 St & 7 Ave': 'Charleston/Tottenville', '1 Ave & E 16 St': 'Charleston/Tottenville', 'Nostrand Ave & Myrtle Ave': 'Charleston/Tottenville', 'W 11 St & 6 Ave': 'Charleston/Tottenville', 'Newtown Ave & 23 St': 'Charleston/Tottenville', 'Montgomery St & Franklin Ave': 'Charleston/Tottenville', 'W 15 St & 10 Ave': 'Charleston/Tottenville', 'E 97 St & 3 Ave': 'Charleston/Tottenville', 'Greenwich St & W Houston St': 'Charleston/Tottenville', 'E 33 St & 1 Ave': 'Charleston/Tottenville', 'Front St & Washington St': 'Charleston/Tottenville', 'E 128 St & Madison Ave': 'Charleston/Tottenville', 'Franklin St & Dupont St': 'Charleston/Tottenville', '5 Ave & E 78 St': 'Charleston/Tottenville', 'Lorimer St & Broadway': 'Charleston/Tottenville', '12 Ave & W 40 St': 'Charleston/Tottenville', 'Bushwick Ave & Powers St': 'Charleston/Tottenville', 'Centre St & Chambers St': 'Charleston/Tottenville', 'Van Brunt St & Wolcott St': 'City Island', 'Graham Ave & Grand St': 'Charleston/Tottenville', '3 St & Hoyt St': 'Charleston/Tottenville', 'Park Pl & Franklin Ave': 'Charleston/Tottenville', 'Bergen St & Smith St': 'Charleston/Tottenville', 'Driggs Ave & N 9 St': 'Charleston/Tottenville', 'West Thames St': 'Charleston/Tottenville', 'W 67 St & Broadway': 'Charleston/Tottenville', 'E 48 St & 3 Ave': 'Charleston/Tottenville', '21 St & 43 Ave': 'Charleston/Tottenville', 'E 106 St & Madison Ave': 'Charleston/Tottenville', 'E 98 St & Park Ave': 'Charleston/Tottenville', 'Vernon Blvd & 31 Ave': 'Charleston/Tottenville', 'Monroe St & Tompkins Ave': 'Charleston/Tottenville', 'Columbia Heights & Cranberry St': 'Charleston/Tottenville', 'Coffey St & Conover St': 'City Island', 'W 20 St & 11 Ave': 'Charleston/Tottenville', 'Cleveland Pl & Spring St': 'Charleston/Tottenville', 'W 22 St & 10 Ave': 'Charleston/Tottenville', 'Pulaski St & Marcus Garvey Blvd': 'Charleston/Tottenville', 'E 81 St & 3 Ave': 'Charleston/Tottenville', '48 Ave & 5 St': 'Charleston/Tottenville', 'E 55 St & Lexington Ave': 'Charleston/Tottenville', 'E 118 St & Park Ave': 'Charleston/Tottenville', '24 Ave & 29 St': 'Charleston/Tottenville', 'Railroad Ave & Kay Ave': 'Charleston/Tottenville', 'E 114 St & 1 Ave': 'Charleston/Tottenville', 'W 16 St & 8 Ave': 'Charleston/Tottenville', 'Lenox Ave & W 130 St': 'Charleston/Tottenville', 'Van Brunt St & Van Dyke St': 'City Island', '6 Ave & Spring St': 'Charleston/Tottenville', '11 Ave & W 59 St': 'Charleston/Tottenville', 'St James Pl & Oliver St': 'Charleston/Tottenville', 'Clinton St & Union St': 'Charleston/Tottenville', 'Pershing Square North': 'Charleston/Tottenville', 'E 33 St & 5 Ave': 'Charleston/Tottenville', 'Greenwich Ave & Charles St': 'Charleston/Tottenville', 'Sigourney St & Columbia St': 'City Island', 'Marcy Ave & Lafayette Ave': 'Charleston/Tottenville', '34 Ave & 21 St': 'Charleston/Tottenville', 'Lenox Ave & W 117 St': 'Charleston/Tottenville', 'Franklin Ave & Empire Blvd': 'Charleston/Tottenville', 'Centre St & Worth St': 'Charleston/Tottenville', 'Monroe St & Classon Ave': 'Charleston/Tottenville', 'Columbia St & Lorraine St': 'City Island', 'E 118 St & 3 Ave': 'Charleston/Tottenville', 'E 118 St & 1 Ave': 'Charleston/Tottenville', 'Broadway & W 32 St': 'Charleston/Tottenville', 'Broad St & Bridge St': 'Charleston/Tottenville', 'Riverside Dr & W 104 St': 'Charleston/Tottenville', 'Putnam Ave & Throop Ave': 'Charleston/Tottenville', 'Madison St & Montgomery St': 'Charleston/Tottenville', 'E 68 St & Madison Ave': 'Charleston/Tottenville', 'William St & Pine St': 'Charleston/Tottenville', 'Broadway & W 29 St': 'Charleston/Tottenville', 'W 49 St & 8 Ave': 'Charleston/Tottenville', '3 Ave & E 112 St': 'Charleston/Tottenville', 'W 15 St & 7 Ave': 'Charleston/Tottenville', 'Crown St & Bedford Ave': 'Charleston/Tottenville', 'E 9 St & Avenue C': 'Charleston/Tottenville', 'W 13 St & 7 Ave': 'Charleston/Tottenville', 'Amsterdam Ave & W 79 St': 'Charleston/Tottenville', 'E 6 St & Avenue B': 'Charleston/Tottenville', 'Clinton Ave & Flushing Ave': 'Charleston/Tottenville', 'Lafayette St & Jersey St': 'Charleston/Tottenville', 'Norfolk St & Broome St': 'Charleston/Tottenville', '2 Ave & E 104 St': 'Charleston/Tottenville', 'Degraw St & Hoyt St': 'Charleston/Tottenville', 'Johnson St & Gold St': 'Charleston/Tottenville', 'Pike St & E Broadway': 'Charleston/Tottenville', 'Broadway & W 60 St': 'Charleston/Tottenville', 'Union St & Nevins St': 'Charleston/Tottenville', 'Cadman Plaza West & Montague St': 'Charleston/Tottenville', 'Grand Army Plaza & Plaza St West': 'Charleston/Tottenville', 'Lenox Ave & W 126 St': 'Charleston/Tottenville', '14 St & 5 Ave': 'City Island', 'Driggs Ave & N Henry St': 'Charleston/Tottenville', 'Albany Ave & Fulton St': 'Charleston/Tottenville', 'Franklin Ave & St Marks Ave': 'Charleston/Tottenville', 'Lexington Ave & E 120 St': 'Charleston/Tottenville', 'W 33 St & 7 Ave': 'Charleston/Tottenville', 'Bergen St & Vanderbilt Ave': 'Charleston/Tottenville', 'Jackson Ave & 46 Rd': 'Charleston/Tottenville', '3 Ave & E 72 St': 'Charleston/Tottenville', 'Amsterdam Ave & W 125 St': 'Charleston/Tottenville', 'Suffolk St & Stanton St': 'Charleston/Tottenville', 'E 4 St & 2 Ave': 'Charleston/Tottenville', 'E 45 St & 3 Ave': 'Charleston/Tottenville', 'Pioneer St & Richards St': 'City Island', 'Steinway St & 23 Ave': 'Charleston/Tottenville', 'E 31 St & 3 Ave': 'Charleston/Tottenville', 'Harrison St & Hudson St': 'Charleston/Tottenville', 'W 18 St & 9 Ave': 'Charleston/Tottenville', 'Court St & Nelson St': 'City Island', 'Carroll St & Washington Ave': 'Charleston/Tottenville', 'E 19 St & 3 Ave': 'Charleston/Tottenville', 'Grand Army Plaza & Central Park S': 'Charleston/Tottenville', 'Broadway & W 49 St': 'Charleston/Tottenville', 'Hicks St & Montague St': 'Charleston/Tottenville', 'Central Park West & W 68 St': 'Charleston/Tottenville', '31 St & Hoyt Ave N': 'Charleston/Tottenville', 'W 88 St & West End Ave': 'Charleston/Tottenville', 'Emerson Pl & Myrtle Ave': 'Charleston/Tottenville', 'Devoe St & Lorimer St': 'Charleston/Tottenville', 'Degraw St & Smith St': 'Charleston/Tottenville', 'Plaza St West & Flatbush Ave': 'Charleston/Tottenville', 'W 82 St & Central Park West': 'Charleston/Tottenville', 'Eastern Pkwy & Franklin Ave': 'Charleston/Tottenville', 'W 100 St & Manhattan Ave': 'Charleston/Tottenville', 'W 26 St & 8 Ave': 'Charleston/Tottenville', 'Riverside Dr & W 78 St': 'Charleston/Tottenville', 'Carmine St & 6 Ave': 'Charleston/Tottenville', 'Lexington Ave & E 29 St': 'Charleston/Tottenville', 'W 53 St & 10 Ave': 'Charleston/Tottenville', 'E 89 St & 3 Ave': 'Charleston/Tottenville', 'E 16 St & Irving Pl': 'Charleston/Tottenville', 'Broadway & W 37 St': 'Charleston/Tottenville', '5 Ave & E 126 St': 'Charleston/Tottenville', 'LaGuardia Pl & W 3 St': 'Charleston/Tottenville', 'Metropolitan Ave & Bedford Ave': 'Charleston/Tottenville', 'South End Ave & Liberty St': 'Charleston/Tottenville', 'Pearl St & Anchorage Pl': 'Charleston/Tottenville', 'Forsyth St & Canal St': 'Charleston/Tottenville', 'W 59 St & 10 Ave': 'Charleston/Tottenville', '6 St & 7 Ave': 'Charleston/Tottenville', 'Sterling St & Bedford Ave': 'Charleston/Tottenville', 'DeKalb Ave & S Portland Ave': 'Charleston/Tottenville', 'Broadway & W 53 St': 'Charleston/Tottenville', 'Dwight St & Van Dyke St': 'City Island', '2 Ave & 9 St': 'City Island', 'W Broadway & Spring Street': 'Charleston/Tottenville', '35 St & Broadway': 'Charleston/Tottenville', 'Nassau Ave & Newell St': 'Charleston/Tottenville', 'Huron St & Franklin St': 'Charleston/Tottenville', '37 Ave & 35 St': 'Charleston/Tottenville', 'E 35 St & 3 Ave': 'Charleston/Tottenville', 'Commerce St & Van Brunt St': 'City Island', 'Lincoln Pl & Classon Ave': 'Charleston/Tottenville', 'St Marks Pl & 2 Ave': 'Charleston/Tottenville', 'India St & West St': 'Charleston/Tottenville', 'Atlantic Ave & Fort Greene Pl': 'Charleston/Tottenville', '10 Hudson Yards': 'Charleston/Tottenville', 'Pitt St & Stanton St': 'Charleston/Tottenville', 'St Nicholas Ave & Manhattan Ave': 'Charleston/Tottenville', 'E 20 St & 2 Ave': 'Charleston/Tottenville', 'Riverside Dr & W 72 St': 'Charleston/Tottenville', 'W 87 St & Amsterdam Ave': 'Charleston/Tottenville', 'Clinton St & Joralemon St': 'Charleston/Tottenville', 'Vernon Blvd & 41 Rd': 'Charleston/Tottenville', 'Washington St & Gansevoort St': 'Charleston/Tottenville', 'Richards St & Delavan St': 'City Island', '3 Ave & 14 St': 'City Island', 'Madison St & Clinton St': 'Charleston/Tottenville', 'Union St & Bedford Ave': 'Charleston/Tottenville', 'Bayard St & Leonard St': 'Charleston/Tottenville', 'Vernon Blvd & 10 St': 'Charleston/Tottenville', 'E 110 St & Madison Ave': 'Charleston/Tottenville', 'Vernon Blvd & 30 Rd': 'Charleston/Tottenville', 'E 81 St & 2 Ave': 'Charleston/Tottenville', 'Smith St & 3 St': 'Charleston/Tottenville', 'W 12 St & W 4 St': 'Charleston/Tottenville', '47 Ave & 31 St': 'Charleston/Tottenville', 'E 78 St & 2 Ave': 'Charleston/Tottenville', 'Graham Ave & Conselyea St': 'Charleston/Tottenville', 'E 47 St & 1 Ave': 'Charleston/Tottenville', 'Allen St & Stanton St': 'Charleston/Tottenville', '5 St & 51 Ave': 'Charleston/Tottenville', 'Handlebar @ Gowanus': 'City Island', 'MacDougal St & Washington Sq': 'Charleston/Tottenville', 'Wyckoff St & 3 Ave': 'Charleston/Tottenville', 'W 89 St & Columbus Ave': 'Charleston/Tottenville', 'Front St & Maiden Ln': 'Charleston/Tottenville', 'Leonard St & Maujer St': 'Charleston/Tottenville', 'Fulton St & Clermont Ave': 'Charleston/Tottenville', 'Bergen St & Flatbush Ave': 'Charleston/Tottenville', 'Adam Clayton Powell Blvd & W 115 St': 'Charleston/Tottenville', 'W 24 St & 7 Ave': 'Charleston/Tottenville', 'W 45 St & 8 Ave': 'Charleston/Tottenville', 'FDR Drive & E 35 St': 'Charleston/Tottenville', 'E 11 St & 1 Ave': 'Charleston/Tottenville', 'E 116 St & 2 Ave': 'Charleston/Tottenville', 'Concord St & Bridge St': 'Charleston/Tottenville', 'Broadway & Roebling St': 'Charleston/Tottenville', '47 Ave & Skillman Ave': 'Charleston/Tottenville', 'Columbia St & W 9 St': 'City Island', 'E 82 St & East End Ave': 'Charleston/Tottenville', 'E 47 St & 2 Ave': 'Charleston/Tottenville', 'Frederick Douglass Blvd & W 115 St': 'Charleston/Tottenville', 'Leonard St & Boerum St': 'Charleston/Tottenville', 'Smith St & 9 St': 'City Island', 'Meserole Ave & Manhattan Ave': 'Charleston/Tottenville', 'Verona Pl & Fulton St': 'Charleston/Tottenville', 'Lexington Ave & E 127 St': 'Charleston/Tottenville', '43 St & Broadway': 'Charleston/Tottenville', 'Greene Ave & Throop Ave': 'Charleston/Tottenville', 'Peck Slip & Front St': 'Charleston/Tottenville', 'S Portland Ave & Hanson Pl': 'Charleston/Tottenville', 'Front St & Gold St': 'Charleston/Tottenville', 'Tompkins Ave & Hopkins St': 'Charleston/Tottenville', '5 St & 6 Ave': 'Charleston/Tottenville', '3 Ave & Schermerhorn St': 'Charleston/Tottenville', 'Central Park West & W 72 St': 'Charleston/Tottenville', 'Cherry St': 'Charleston/Tottenville', 'E 67 St & Park Ave': 'Charleston/Tottenville', 'W 37 St & 5 Ave': 'Charleston/Tottenville', 'Duffield St & Willoughby St': 'Charleston/Tottenville', 'Broadway & W 41 St': 'Charleston/Tottenville', 'Adam Clayton Powell Blvd & W 126 St': 'Charleston/Tottenville', 'Union Ave & Wallabout St': 'Charleston/Tottenville', 'Crescent St & 35 Ave': 'Charleston/Tottenville', '4 Ave & 2 St': 'Charleston/Tottenville', 'E 7 St & Avenue A': 'Charleston/Tottenville', 'W 43 St & 10 Ave': 'Charleston/Tottenville', 'W 84 St & Columbus Ave': 'Charleston/Tottenville', 'E 52 St & 2 Ave': 'Charleston/Tottenville', 'Great Jones St': 'Charleston/Tottenville', 'Pacific St & Nevins St': 'Charleston/Tottenville', 'Douglass St & 4 Ave': 'Charleston/Tottenville', '44 Dr & Jackson Ave': 'Charleston/Tottenville', 'Central Park West & W 100 St': 'Charleston/Tottenville', '5 St & Market St': 'Charleston/Tottenville', 'Division Ave & Marcy Ave': 'Charleston/Tottenville', 'Jay St & Tech Pl': 'Charleston/Tottenville', 'Bank St & Washington St': 'Charleston/Tottenville', 'E 44 St & 2 Ave': 'Charleston/Tottenville', 'W 43 St & 6 Ave': 'Charleston/Tottenville', 'W 50 St & 9 Ave': 'Charleston/Tottenville', 'E 106 St & 1 Ave': 'Charleston/Tottenville', 'Wythe Ave & Metropolitan Ave': 'Charleston/Tottenville', 'Pier 40 - Hudson River Park': 'Charleston/Tottenville', '31 St & Northern Blvd': 'Charleston/Tottenville', 'Park Pl & Church St': 'Charleston/Tottenville', 'Lafayette Ave & Classon Ave': 'Charleston/Tottenville', 'Greene Ave & Nostrand Ave': 'Charleston/Tottenville', '45 Rd & 11 St': 'Charleston/Tottenville', 'Berkeley Pl & 6 Ave': 'Charleston/Tottenville', 'Rivington St & Chrystie St': 'Charleston/Tottenville', 'Stanton St & Norfolk St': 'Charleston/Tottenville', 'Henry St & Atlantic Ave': 'Charleston/Tottenville', 'Broadway & E 14 St': 'Charleston/Tottenville', 'South St & Gouverneur Ln': 'Charleston/Tottenville', 'E 13 St & Avenue A': 'Charleston/Tottenville', 'Willoughby Ave & Tompkins Ave': 'Charleston/Tottenville', 'Park Ave & Marcus Garvey Blvd': 'Charleston/Tottenville', 'Cambridge Pl & Gates Ave': 'Charleston/Tottenville', 'St James Pl & Pearl St': 'Charleston/Tottenville', '3 Ave & E 100 St': 'Charleston/Tottenville', 'W 4 St & 7 Ave S': 'Charleston/Tottenville', 'Franklin Ave & Myrtle Ave': 'Charleston/Tottenville', 'Columbus Ave & W 103 St': 'Charleston/Tottenville', 'Washington Pl & 6 Ave': 'Charleston/Tottenville', 'Carlton Ave & Flushing Ave': 'Charleston/Tottenville', 'Bedford Ave & Bergen St': 'Charleston/Tottenville', '11 St & 43 Ave': 'Charleston/Tottenville', 'Lewis Ave & Madison St': 'Charleston/Tottenville', 'W 20 St & 7 Ave': 'Charleston/Tottenville', '24 St & 41 Ave': 'Charleston/Tottenville', 'E 11 St & Broadway': 'Charleston/Tottenville', 'Lexington Ave & E 111 St': 'Charleston/Tottenville', 'Columbus Ave & W 72 St': 'Charleston/Tottenville', 'Liberty St & Broadway': 'Charleston/Tottenville', 'Bank St & Hudson St': 'Charleston/Tottenville', '1 Ave & E 110 St': 'Charleston/Tottenville', 'Mt Morris Park W & W 120 St': 'Charleston/Tottenville', '21 St & 38 Ave': 'Charleston/Tottenville', 'Bialystoker Pl & Delancey St': 'Charleston/Tottenville', 'Maiden Ln & Pearl St': 'Charleston/Tottenville', 'Schermerhorn St & Court St': 'Charleston/Tottenville', 'Berkeley Pl & 7 Ave': 'Charleston/Tottenville', 'Carroll St & Columbia St': 'Charleston/Tottenville', 'Berry St & N 8 St': 'Charleston/Tottenville', 'E 58 St & 1 Ave': 'Charleston/Tottenville', 'Old Slip & Front St': 'Charleston/Tottenville', 'Marcus Garvey Blvd & Macon St': 'Charleston/Tottenville', '3 Ave & E 62 St': 'Charleston/Tottenville', 'W 27 St & 7 Ave': 'Charleston/Tottenville', 'Myrtle Ave & Marcy Ave': 'Charleston/Tottenville', 'McKibbin St & Manhattan Ave': 'Charleston/Tottenville', '5 Ave & E 63 St': 'Charleston/Tottenville', 'Driggs Ave & Lorimer St': 'Charleston/Tottenville', 'Stanton St & Chrystie St': 'Charleston/Tottenville', 'Vernon Blvd & 50 Ave': 'Charleston/Tottenville', 'Baltic St & 5 Ave': 'Charleston/Tottenville', '5 Ave & E 88 St': 'Charleston/Tottenville', 'Clermont Ave & Lafayette Ave': 'Charleston/Tottenville', 'Kane St & Clinton St': 'Charleston/Tottenville', '27 Ave & 4 St': 'Charleston/Tottenville', '40 Ave & 9 St': 'Charleston/Tottenville', 'DeKalb Ave & Skillman St': 'Charleston/Tottenville', '10 St & 5 Ave': 'Charleston/Tottenville', '1 Ave & E 62 St': 'Charleston/Tottenville', 'Dean St & Hoyt St': 'Charleston/Tottenville', '36 Ave & 31 St': 'Charleston/Tottenville', 'Pacific St & Classon Ave': 'Charleston/Tottenville', 'Carroll St & 6 Ave': 'Charleston/Tottenville', 'Hope St & Union Ave': 'Charleston/Tottenville', 'Allen St & Rivington St': 'Charleston/Tottenville', '9 Ave & W 45 St': 'Charleston/Tottenville', 'Franklin St & W Broadway': 'Charleston/Tottenville', '40 Ave & Crescent St': 'Charleston/Tottenville', '1 Ave & E 78 St': 'Charleston/Tottenville', '9 St & 44 Rd': 'Charleston/Tottenville', 'McGuinness Blvd & Eagle St': 'Charleston/Tottenville', 'St Johns Pl & Washington Ave': 'Charleston/Tottenville', 'Frost St & Meeker Ave': 'Charleston/Tottenville', 'State St & Smith St': 'Charleston/Tottenville', 'E 20 St & Park Ave': 'Charleston/Tottenville', 'Graham Ave & Herbert St': 'Charleston/Tottenville', 'Amsterdam Ave & W 73 St': 'Charleston/Tottenville', 'Washington Ave & Greene Ave': 'Charleston/Tottenville', 'Boerum St & Broadway': 'Charleston/Tottenville', 'Classon Ave & St Marks Ave': 'Charleston/Tottenville', 'Sterling Pl & Bedford Ave': 'Charleston/Tottenville', 'Fulton St & Rockwell Pl': 'Charleston/Tottenville', 'Prospect Pl & Underhill Ave': 'Charleston/Tottenville', 'Underhill Ave & Pacific St': 'Charleston/Tottenville', '36 Ave & 10 St': 'Charleston/Tottenville', 'Kent Ave & N 7 St': 'Charleston/Tottenville', 'N 6 St & Bedford Ave': 'Charleston/Tottenville', 'W 47 St & 10 Ave': 'Charleston/Tottenville', 'Broadway & Battery Pl': 'Charleston/Tottenville', 'Atlantic Ave & Furman St': 'Charleston/Tottenville', 'W 52 St & 6 Ave': 'Charleston/Tottenville', 'Canal St & Rutgers St': 'Charleston/Tottenville', '2 Ave & E 72 St': 'Charleston/Tottenville', 'Washington Ave & Park Ave': 'Charleston/Tottenville', 'E 47 St & Park Ave': 'Charleston/Tottenville', 'Dean St & 4 Ave': 'Charleston/Tottenville', 'Madison Ave & E 120 St': 'Charleston/Tottenville', '34 St & 35 Ave': 'Charleston/Tottenville', 'Metropolitan Ave & Meeker Ave': 'Charleston/Tottenville', 'Duane St & Greenwich St': 'Charleston/Tottenville', 'E 93 St & 2 Ave': 'Charleston/Tottenville', '9 Ave & W 22 St': 'Charleston/Tottenville', 'Broadway & W 36 St': 'Charleston/Tottenville', 'MacDougal St & Prince St': 'Charleston/Tottenville', 'E 41 St & Madison Ave': 'Charleston/Tottenville', 'Adelphi St & Myrtle Ave': 'Charleston/Tottenville', 'W 54 St & 9 Ave': 'Charleston/Tottenville', 'Grand St & Havemeyer St': 'Charleston/Tottenville', 'University Pl & E 8 St': 'Charleston/Tottenville', 'Madison Ave & E 99 St': 'Charleston/Tottenville', 'Fulton St & Waverly Ave': 'Charleston/Tottenville', 'Scholes St & Manhattan Ave': 'Charleston/Tottenville', 'Fulton St & William St': 'Charleston/Tottenville', 'Dean St & Franklin Ave': 'Charleston/Tottenville', '21 St & Queens Plaza North': 'Charleston/Tottenville', 'Nassau St & Navy St': 'Charleston/Tottenville', 'Henry St & Poplar St': 'Charleston/Tottenville', 'Leonard St & Nassau Ave': 'Charleston/Tottenville', 'W 35 St & Dyer Ave': 'Charleston/Tottenville', 'W 16 St & The High Line': 'Charleston/Tottenville', '11 Ave & W 27 St': 'Charleston/Tottenville', 'E 23 St & 1 Ave': 'Charleston/Tottenville', '6 Ave & 9 St': 'Charleston/Tottenville', 'S 3 St & Bedford Ave': 'Charleston/Tottenville', 'Cumberland St & Lafayette Ave': 'Charleston/Tottenville', 'Eckford St & Engert Ave': 'Charleston/Tottenville', '19 St & 24 Ave': 'Charleston/Tottenville', 'Essex Light Rail': 'Far Rockaway', 'E 58 St & Madison Ave': 'Charleston/Tottenville', '5 Ave & E 29 St': 'Charleston/Tottenville', 'Schermerhorn St & Bond St': 'Charleston/Tottenville', '37 St & 24 Ave': 'Charleston/Tottenville', 'E 91 St & Park Ave': 'Charleston/Tottenville', '44 Dr & 21 St': 'Charleston/Tottenville', 'Douglass St & 3 Ave': 'Charleston/Tottenville', 'Lawrence St & Willoughby St': 'Charleston/Tottenville', 'Mott St & Prince St': 'Charleston/Tottenville', 'Banker St & Meserole Ave': 'Charleston/Tottenville', 'E 118 St & Madison Ave': 'Charleston/Tottenville', '7 Ave & Park Pl': 'Charleston/Tottenville', 'Myrtle Ave & Lewis Ave': 'Charleston/Tottenville', 'E 106 St & Lexington Ave': 'Charleston/Tottenville', 'Columbia St & Rivington St': 'Charleston/Tottenville', 'Union Ave & Jackson St': 'Charleston/Tottenville', 'Avenue D & E 3 St': 'Charleston/Tottenville', 'E 11 St & Avenue B': 'Charleston/Tottenville', '2 Ave & E 122 St': 'Charleston/Tottenville', '5 Ave & 3 St': 'Charleston/Tottenville', 'Lafayette St & E 8 St': 'Charleston/Tottenville', 'E 2 St & Avenue A': 'Charleston/Tottenville', 'Columbia St & Degraw St': 'Charleston/Tottenville', 'Pearl St & Hanover Square': 'Charleston/Tottenville', 'Macon St & Nostrand Ave': 'Charleston/Tottenville', 'W 52 St & 11 Ave': 'Charleston/Tottenville', 'Reade St & Broadway': 'Charleston/Tottenville', 'E 115 St & Madison Ave': 'Charleston/Tottenville', 'India St & Manhattan Ave': 'Charleston/Tottenville', 'W 41 St & 8 Ave': 'Charleston/Tottenville', 'W 129 St & Convent Ave': 'Charleston/Tottenville', 'West End Ave & W 94 St': 'Charleston/Tottenville'}\n"
          ]
        }
      ]
    },
    {
      "cell_type": "code",
      "source": [
        "import json\n",
        "with open(\"stations_zones.json\", \"w\") as outfile:\n",
        "    json.dump(station_dict, outfile)"
      ],
      "metadata": {
        "id": "NblufS0UcMms"
      },
      "execution_count": 42,
      "outputs": []
    },
    {
      "cell_type": "code",
      "source": [
        "from pyspark.sql.types import StringType\n",
        "from pyspark.sql.functions import udf\n",
        "\n",
        "def translate(mapping):\n",
        "    def translate_(col):\n",
        "        return mapping.get(col)\n",
        "    return udf(translate_, StringType())\n",
        "spark_df = spark_df.withColumn(\"start zone\", translate(station_dict)(\"start station name\"))\n",
        "spark_df.show(truncate = False)"
      ],
      "metadata": {
        "colab": {
          "base_uri": "https://localhost:8080/"
        },
        "id": "yYPzjJLWcZ5G",
        "outputId": "ee5ee5e9-e3da-4a4d-e9bf-05b3c2f5b39a"
      },
      "execution_count": 51,
      "outputs": [
        {
          "output_type": "stream",
          "name": "stdout",
          "text": [
            "+------------+------------------------+------------------------+----------------+---------------------------+----------------------+-----------------------+--------------+---------------------------+--------------------+---------------------+------+----------+----------+------+----------------------+\n",
            "|tripduration|starttime               |stoptime                |start station id|start station name         |start station latitude|start station longitude|end station id|end station name           |end station latitude|end station longitude|bikeid|usertype  |birth year|gender|start zone            |\n",
            "+------------+------------------------+------------------------+----------------+---------------------------+----------------------+-----------------------+--------------+---------------------------+--------------------+---------------------+------+----------+----------+------+----------------------+\n",
            "|219         |2019-02-01 00:00:06.2570|2019-02-01 00:03:46.1090|3494.0          |E 115 St & Lexington Ave   |40.797911             |-73.9423               |3501.0        |E 118 St & Madison Ave     |40.8014866          |-73.9442507          |33450 |Subscriber|1989      |1     |Charleston/Tottenville|\n",
            "|143         |2019-02-01 00:00:28.0320|2019-02-01 00:02:51.7460|438.0           |St Marks Pl & 1 Ave        |40.72779126           |-73.98564945           |236.0         |St Marks Pl & 2 Ave        |40.7284186          |-73.98713956         |25626 |Subscriber|1990      |1     |Charleston/Tottenville|\n",
            "|296         |2019-02-01 00:01:13.9870|2019-02-01 00:06:10.7340|3571.0          |Bedford Ave & Bergen St    |40.676368             |-73.952918             |3549.0        |Grand Ave & Bergen St      |40.678045           |-73.962408           |35568 |Subscriber|1987      |1     |Charleston/Tottenville|\n",
            "|478         |2019-02-01 00:01:14.1520|2019-02-01 00:09:12.7870|167.0           |E 39 St & 3 Ave            |40.7489006            |-73.97604882           |477.0         |W 41 St & 8 Ave            |40.75640548         |-73.9900262          |25045 |Subscriber|1964      |2     |Charleston/Tottenville|\n",
            "|225         |2019-02-01 00:01:49.3410|2019-02-01 00:05:34.4980|3458.0          |W 55 St & 6 Ave            |40.76309387270797     |-73.9783501625061      |3443.0        |W 52 St & 6 Ave            |40.76132983124814   |-73.97982001304626   |34006 |Subscriber|1979      |1     |Charleston/Tottenville|\n",
            "|457         |2019-02-01 00:02:04.0010|2019-02-01 00:09:41.5640|3078.0          |Broadway & Roebling St     |40.70924826276157     |-73.96063148975372     |3016.0        |Kent Ave & N 7 St          |40.72036775298455   |-73.96165072917938   |33858 |Subscriber|1981      |2     |Charleston/Tottenville|\n",
            "|175         |2019-02-01 00:02:12.2960|2019-02-01 00:05:08.0930|411.0           |E 6 St & Avenue D          |40.72228087           |-73.97668709           |317.0         |E 6 St & Avenue B          |40.72453734         |-73.98185424         |24839 |Subscriber|1995      |1     |Charleston/Tottenville|\n",
            "|248         |2019-02-01 00:02:13.0450|2019-02-01 00:06:21.3960|3628.0          |Lenox Ave & W 117 St       |40.8025566            |-73.9490782            |3506.0        |Lexington Ave & E 120 St   |40.8013066          |-73.9398167          |31798 |Subscriber|1991      |1     |Charleston/Tottenville|\n",
            "|541         |2019-02-01 00:02:28.0750|2019-02-01 00:11:29.5490|293.0           |Lafayette St & E 8 St      |40.73020660529954     |-73.99102628231049     |383.0         |Greenwich Ave & Charles St |40.735238           |-74.000271           |32175 |Subscriber|1981      |0     |Charleston/Tottenville|\n",
            "|406         |2019-02-01 00:03:06.5420|2019-02-01 00:09:53.4310|380.0           |W 4 St & 7 Ave S           |40.73401143           |-74.00293877           |3263.0        |Cooper Square & Astor Pl   |40.72951496224949   |-73.99075269699097   |27688 |Subscriber|1973      |2     |Charleston/Tottenville|\n",
            "|659         |2019-02-01 00:03:12.6290|2019-02-01 00:14:12.2660|236.0           |St Marks Pl & 2 Ave        |40.7284186            |-73.98713956           |3660.0        |W 16 St & 8 Ave            |40.74102150900266   |-74.001384973526     |31796 |Subscriber|1990      |1     |Charleston/Tottenville|\n",
            "|1224        |2019-02-01 00:03:34.3910|2019-02-01 00:23:59.3330|3167.0          |Amsterdam Ave & W 73 St    |40.77966809007312     |-73.98093044757842     |3168.0        |Central Park West & W 85 St|40.78472675         |-73.96961715         |32737 |Subscriber|1965      |2     |Charleston/Tottenville|\n",
            "|419         |2019-02-01 00:03:45.0740|2019-02-01 00:10:44.1750|484.0           |W 44 St & 5 Ave            |40.75500254           |-73.98014437           |469.0         |Broadway & W 53 St         |40.76344058         |-73.98268129         |30708 |Subscriber|1964      |2     |Charleston/Tottenville|\n",
            "|752         |2019-02-01 00:03:57.2850|2019-02-01 00:16:30.1260|327.0           |Vesey Pl & River Terrace   |40.7153379            |-74.01658354           |312.0         |Allen St & Stanton St      |40.722055           |-73.989111           |26835 |Subscriber|1992      |1     |Charleston/Tottenville|\n",
            "|1125        |2019-02-01 00:04:09.5860|2019-02-01 00:22:55.1010|3243.0          |E 58 St & 1 Ave            |40.75892386377695     |-73.96226227283478     |3170.0        |W 84 St & Columbus Ave     |40.78499979         |-73.97283406         |34662 |Subscriber|1985      |1     |Charleston/Tottenville|\n",
            "|1271        |2019-02-01 00:04:55.1950|2019-02-01 00:26:06.9570|362.0           |Broadway & W 37 St         |40.75172632           |-73.98753523           |478.0         |11 Ave & W 41 St           |40.76030096         |-73.99884222         |28893 |Subscriber|1966      |1     |Charleston/Tottenville|\n",
            "|469         |2019-02-01 00:05:12.0320|2019-02-01 00:13:01.6280|490.0           |8 Ave & W 33 St            |40.751551             |-73.993934             |508.0         |W 46 St & 11 Ave           |40.76341379         |-73.99667444         |33856 |Subscriber|1968      |1     |Charleston/Tottenville|\n",
            "|156         |2019-02-01 00:05:13.7320|2019-02-01 00:07:49.9200|3107.0          |Bedford Ave & Nassau Ave   |40.72311651           |-73.95212324           |3096.0        |Union Ave & N 12 St        |40.71924            |-73.95242            |35009 |Subscriber|1992      |1     |Charleston/Tottenville|\n",
            "|342         |2019-02-01 00:05:22.5790|2019-02-01 00:11:05.1590|3263.0          |Cooper Square & Astor Pl   |40.72951496224949     |-73.99075269699097     |394.0         |E 9 St & Avenue C          |40.72521311         |-73.97768752         |26739 |Subscriber|1986      |1     |Charleston/Tottenville|\n",
            "|412         |2019-02-01 00:05:30.7550|2019-02-01 00:12:22.9910|336.0           |Sullivan St & Washington Sq|40.73047747           |-73.99906065           |326.0         |E 11 St & 1 Ave            |40.72953837         |-73.98426726         |32911 |Subscriber|1991      |1     |Charleston/Tottenville|\n",
            "+------------+------------------------+------------------------+----------------+---------------------------+----------------------+-----------------------+--------------+---------------------------+--------------------+---------------------+------+----------+----------+------+----------------------+\n",
            "only showing top 20 rows\n",
            "\n"
          ]
        }
      ]
    },
    {
      "cell_type": "code",
      "source": [
        "spark_df = spark_df.withColumn(\"end zone\", translate(station_dict)(\"end station name\"))\n",
        "spark_df.show(truncate = False)"
      ],
      "metadata": {
        "colab": {
          "base_uri": "https://localhost:8080/"
        },
        "id": "2iEdzeCKfTVo",
        "outputId": "d0a5a499-2057-4f97-ab4e-e9afcca6d383"
      },
      "execution_count": 55,
      "outputs": [
        {
          "output_type": "stream",
          "name": "stdout",
          "text": [
            "+------------+------------------------+------------------------+----------------+---------------------------+----------------------+-----------------------+--------------+---------------------------+--------------------+---------------------+------+----------+----------+------+----------------------+----------------------+\n",
            "|tripduration|starttime               |stoptime                |start station id|start station name         |start station latitude|start station longitude|end station id|end station name           |end station latitude|end station longitude|bikeid|usertype  |birth year|gender|start zone            |end zone              |\n",
            "+------------+------------------------+------------------------+----------------+---------------------------+----------------------+-----------------------+--------------+---------------------------+--------------------+---------------------+------+----------+----------+------+----------------------+----------------------+\n",
            "|219         |2019-02-01 00:00:06.2570|2019-02-01 00:03:46.1090|3494.0          |E 115 St & Lexington Ave   |40.797911             |-73.9423               |3501.0        |E 118 St & Madison Ave     |40.8014866          |-73.9442507          |33450 |Subscriber|1989      |1     |Charleston/Tottenville|Charleston/Tottenville|\n",
            "|143         |2019-02-01 00:00:28.0320|2019-02-01 00:02:51.7460|438.0           |St Marks Pl & 1 Ave        |40.72779126           |-73.98564945           |236.0         |St Marks Pl & 2 Ave        |40.7284186          |-73.98713956         |25626 |Subscriber|1990      |1     |Charleston/Tottenville|Charleston/Tottenville|\n",
            "|296         |2019-02-01 00:01:13.9870|2019-02-01 00:06:10.7340|3571.0          |Bedford Ave & Bergen St    |40.676368             |-73.952918             |3549.0        |Grand Ave & Bergen St      |40.678045           |-73.962408           |35568 |Subscriber|1987      |1     |Charleston/Tottenville|Charleston/Tottenville|\n",
            "|478         |2019-02-01 00:01:14.1520|2019-02-01 00:09:12.7870|167.0           |E 39 St & 3 Ave            |40.7489006            |-73.97604882           |477.0         |W 41 St & 8 Ave            |40.75640548         |-73.9900262          |25045 |Subscriber|1964      |2     |Charleston/Tottenville|Charleston/Tottenville|\n",
            "|225         |2019-02-01 00:01:49.3410|2019-02-01 00:05:34.4980|3458.0          |W 55 St & 6 Ave            |40.76309387270797     |-73.9783501625061      |3443.0        |W 52 St & 6 Ave            |40.76132983124814   |-73.97982001304626   |34006 |Subscriber|1979      |1     |Charleston/Tottenville|Charleston/Tottenville|\n",
            "|457         |2019-02-01 00:02:04.0010|2019-02-01 00:09:41.5640|3078.0          |Broadway & Roebling St     |40.70924826276157     |-73.96063148975372     |3016.0        |Kent Ave & N 7 St          |40.72036775298455   |-73.96165072917938   |33858 |Subscriber|1981      |2     |Charleston/Tottenville|Charleston/Tottenville|\n",
            "|175         |2019-02-01 00:02:12.2960|2019-02-01 00:05:08.0930|411.0           |E 6 St & Avenue D          |40.72228087           |-73.97668709           |317.0         |E 6 St & Avenue B          |40.72453734         |-73.98185424         |24839 |Subscriber|1995      |1     |Charleston/Tottenville|Charleston/Tottenville|\n",
            "|248         |2019-02-01 00:02:13.0450|2019-02-01 00:06:21.3960|3628.0          |Lenox Ave & W 117 St       |40.8025566            |-73.9490782            |3506.0        |Lexington Ave & E 120 St   |40.8013066          |-73.9398167          |31798 |Subscriber|1991      |1     |Charleston/Tottenville|Charleston/Tottenville|\n",
            "|541         |2019-02-01 00:02:28.0750|2019-02-01 00:11:29.5490|293.0           |Lafayette St & E 8 St      |40.73020660529954     |-73.99102628231049     |383.0         |Greenwich Ave & Charles St |40.735238           |-74.000271           |32175 |Subscriber|1981      |0     |Charleston/Tottenville|Charleston/Tottenville|\n",
            "|406         |2019-02-01 00:03:06.5420|2019-02-01 00:09:53.4310|380.0           |W 4 St & 7 Ave S           |40.73401143           |-74.00293877           |3263.0        |Cooper Square & Astor Pl   |40.72951496224949   |-73.99075269699097   |27688 |Subscriber|1973      |2     |Charleston/Tottenville|Charleston/Tottenville|\n",
            "|659         |2019-02-01 00:03:12.6290|2019-02-01 00:14:12.2660|236.0           |St Marks Pl & 2 Ave        |40.7284186            |-73.98713956           |3660.0        |W 16 St & 8 Ave            |40.74102150900266   |-74.001384973526     |31796 |Subscriber|1990      |1     |Charleston/Tottenville|Charleston/Tottenville|\n",
            "|1224        |2019-02-01 00:03:34.3910|2019-02-01 00:23:59.3330|3167.0          |Amsterdam Ave & W 73 St    |40.77966809007312     |-73.98093044757842     |3168.0        |Central Park West & W 85 St|40.78472675         |-73.96961715         |32737 |Subscriber|1965      |2     |Charleston/Tottenville|Charleston/Tottenville|\n",
            "|419         |2019-02-01 00:03:45.0740|2019-02-01 00:10:44.1750|484.0           |W 44 St & 5 Ave            |40.75500254           |-73.98014437           |469.0         |Broadway & W 53 St         |40.76344058         |-73.98268129         |30708 |Subscriber|1964      |2     |Charleston/Tottenville|Charleston/Tottenville|\n",
            "|752         |2019-02-01 00:03:57.2850|2019-02-01 00:16:30.1260|327.0           |Vesey Pl & River Terrace   |40.7153379            |-74.01658354           |312.0         |Allen St & Stanton St      |40.722055           |-73.989111           |26835 |Subscriber|1992      |1     |Charleston/Tottenville|Charleston/Tottenville|\n",
            "|1125        |2019-02-01 00:04:09.5860|2019-02-01 00:22:55.1010|3243.0          |E 58 St & 1 Ave            |40.75892386377695     |-73.96226227283478     |3170.0        |W 84 St & Columbus Ave     |40.78499979         |-73.97283406         |34662 |Subscriber|1985      |1     |Charleston/Tottenville|Charleston/Tottenville|\n",
            "|1271        |2019-02-01 00:04:55.1950|2019-02-01 00:26:06.9570|362.0           |Broadway & W 37 St         |40.75172632           |-73.98753523           |478.0         |11 Ave & W 41 St           |40.76030096         |-73.99884222         |28893 |Subscriber|1966      |1     |Charleston/Tottenville|Charleston/Tottenville|\n",
            "|469         |2019-02-01 00:05:12.0320|2019-02-01 00:13:01.6280|490.0           |8 Ave & W 33 St            |40.751551             |-73.993934             |508.0         |W 46 St & 11 Ave           |40.76341379         |-73.99667444         |33856 |Subscriber|1968      |1     |Charleston/Tottenville|Charleston/Tottenville|\n",
            "|156         |2019-02-01 00:05:13.7320|2019-02-01 00:07:49.9200|3107.0          |Bedford Ave & Nassau Ave   |40.72311651           |-73.95212324           |3096.0        |Union Ave & N 12 St        |40.71924            |-73.95242            |35009 |Subscriber|1992      |1     |Charleston/Tottenville|Charleston/Tottenville|\n",
            "|342         |2019-02-01 00:05:22.5790|2019-02-01 00:11:05.1590|3263.0          |Cooper Square & Astor Pl   |40.72951496224949     |-73.99075269699097     |394.0         |E 9 St & Avenue C          |40.72521311         |-73.97768752         |26739 |Subscriber|1986      |1     |Charleston/Tottenville|Charleston/Tottenville|\n",
            "|412         |2019-02-01 00:05:30.7550|2019-02-01 00:12:22.9910|336.0           |Sullivan St & Washington Sq|40.73047747           |-73.99906065           |326.0         |E 11 St & 1 Ave            |40.72953837         |-73.98426726         |32911 |Subscriber|1991      |1     |Charleston/Tottenville|Charleston/Tottenville|\n",
            "+------------+------------------------+------------------------+----------------+---------------------------+----------------------+-----------------------+--------------+---------------------------+--------------------+---------------------+------+----------+----------+------+----------------------+----------------------+\n",
            "only showing top 20 rows\n",
            "\n"
          ]
        }
      ]
    },
    {
      "cell_type": "code",
      "source": [
        "spark_df.groupBy(\"start zone\").count().sort(\"count\", ascending=False).show() #количество начала поездок для каждой зоны"
      ],
      "metadata": {
        "colab": {
          "base_uri": "https://localhost:8080/"
        },
        "id": "9weAIQ9iflEr",
        "outputId": "2c124ab7-c984-493a-ba3d-1aac8dff635e"
      },
      "execution_count": 56,
      "outputs": [
        {
          "output_type": "stream",
          "name": "stdout",
          "text": [
            "+--------------------+------+\n",
            "|          start zone| count|\n",
            "+--------------------+------+\n",
            "|Charleston/Totten...|938036|\n",
            "|         City Island|  5699|\n",
            "|                null|     9|\n",
            "+--------------------+------+\n",
            "\n"
          ]
        }
      ]
    },
    {
      "cell_type": "code",
      "source": [
        "spark_df.groupBy(\"end zone\").count().sort(\"count\", ascending=False).show() #количество конца поездок для каждой зоны"
      ],
      "metadata": {
        "colab": {
          "base_uri": "https://localhost:8080/"
        },
        "id": "LStaNN0kfvwG",
        "outputId": "55fcf041-93c5-4db8-a043-39d7291702ad"
      },
      "execution_count": 57,
      "outputs": [
        {
          "output_type": "stream",
          "name": "stdout",
          "text": [
            "+--------------------+------+\n",
            "|            end zone| count|\n",
            "+--------------------+------+\n",
            "|Charleston/Totten...|937679|\n",
            "|         City Island|  6053|\n",
            "|                null|     9|\n",
            "|        Far Rockaway|     3|\n",
            "+--------------------+------+\n",
            "\n"
          ]
        }
      ]
    },
    {
      "cell_type": "code",
      "source": [
        "!pip install plotly-express"
      ],
      "metadata": {
        "id": "5iDEylPtf6u4"
      },
      "execution_count": null,
      "outputs": []
    },
    {
      "cell_type": "code",
      "source": [
        "df_end_zones = spark_df.groupBy(\"end zone\").count().sort(\"count\", ascending=False).toPandas().dropna()"
      ],
      "metadata": {
        "id": "mKX0devzlETE"
      },
      "execution_count": 62,
      "outputs": []
    },
    {
      "cell_type": "code",
      "source": [
        "latitudes = []\n",
        "longitudes = []\n",
        "for zones in df_end_zones['end zone']:\n",
        "  latitudes.append(spark_df1.filter(F.col(\"zone\")==zones).first().latitude) \n",
        "  longitudes.append(spark_df1.filter(F.col(\"zone\")==zones).first().longitude) \n",
        "df_end_zones['latitude'] = latitudes \n",
        "df_end_zones['longitude'] = longitudes \n",
        "df_end_zones.head()"
      ],
      "metadata": {
        "colab": {
          "base_uri": "https://localhost:8080/",
          "height": 144
        },
        "id": "VQTtnfOclX-X",
        "outputId": "4d94f917-6a4f-4e22-9624-d31407c256eb"
      },
      "execution_count": 71,
      "outputs": [
        {
          "output_type": "execute_result",
          "data": {
            "text/plain": [
              "                 end zone   count   latitude  longitude\n",
              "0  Charleston/Tottenville  937679  40.525495 -74.233534\n",
              "1             City Island    6053  40.849086 -73.781987\n",
              "3            Far Rockaway       3  40.602433 -73.755244"
            ],
            "text/html": [
              "\n",
              "  <div id=\"df-75152a3e-7671-4ec8-b8b3-3c7e73506181\">\n",
              "    <div class=\"colab-df-container\">\n",
              "      <div>\n",
              "<style scoped>\n",
              "    .dataframe tbody tr th:only-of-type {\n",
              "        vertical-align: middle;\n",
              "    }\n",
              "\n",
              "    .dataframe tbody tr th {\n",
              "        vertical-align: top;\n",
              "    }\n",
              "\n",
              "    .dataframe thead th {\n",
              "        text-align: right;\n",
              "    }\n",
              "</style>\n",
              "<table border=\"1\" class=\"dataframe\">\n",
              "  <thead>\n",
              "    <tr style=\"text-align: right;\">\n",
              "      <th></th>\n",
              "      <th>end zone</th>\n",
              "      <th>count</th>\n",
              "      <th>latitude</th>\n",
              "      <th>longitude</th>\n",
              "    </tr>\n",
              "  </thead>\n",
              "  <tbody>\n",
              "    <tr>\n",
              "      <th>0</th>\n",
              "      <td>Charleston/Tottenville</td>\n",
              "      <td>937679</td>\n",
              "      <td>40.525495</td>\n",
              "      <td>-74.233534</td>\n",
              "    </tr>\n",
              "    <tr>\n",
              "      <th>1</th>\n",
              "      <td>City Island</td>\n",
              "      <td>6053</td>\n",
              "      <td>40.849086</td>\n",
              "      <td>-73.781987</td>\n",
              "    </tr>\n",
              "    <tr>\n",
              "      <th>3</th>\n",
              "      <td>Far Rockaway</td>\n",
              "      <td>3</td>\n",
              "      <td>40.602433</td>\n",
              "      <td>-73.755244</td>\n",
              "    </tr>\n",
              "  </tbody>\n",
              "</table>\n",
              "</div>\n",
              "      <button class=\"colab-df-convert\" onclick=\"convertToInteractive('df-75152a3e-7671-4ec8-b8b3-3c7e73506181')\"\n",
              "              title=\"Convert this dataframe to an interactive table.\"\n",
              "              style=\"display:none;\">\n",
              "        \n",
              "  <svg xmlns=\"http://www.w3.org/2000/svg\" height=\"24px\"viewBox=\"0 0 24 24\"\n",
              "       width=\"24px\">\n",
              "    <path d=\"M0 0h24v24H0V0z\" fill=\"none\"/>\n",
              "    <path d=\"M18.56 5.44l.94 2.06.94-2.06 2.06-.94-2.06-.94-.94-2.06-.94 2.06-2.06.94zm-11 1L8.5 8.5l.94-2.06 2.06-.94-2.06-.94L8.5 2.5l-.94 2.06-2.06.94zm10 10l.94 2.06.94-2.06 2.06-.94-2.06-.94-.94-2.06-.94 2.06-2.06.94z\"/><path d=\"M17.41 7.96l-1.37-1.37c-.4-.4-.92-.59-1.43-.59-.52 0-1.04.2-1.43.59L10.3 9.45l-7.72 7.72c-.78.78-.78 2.05 0 2.83L4 21.41c.39.39.9.59 1.41.59.51 0 1.02-.2 1.41-.59l7.78-7.78 2.81-2.81c.8-.78.8-2.07 0-2.86zM5.41 20L4 18.59l7.72-7.72 1.47 1.35L5.41 20z\"/>\n",
              "  </svg>\n",
              "      </button>\n",
              "      \n",
              "  <style>\n",
              "    .colab-df-container {\n",
              "      display:flex;\n",
              "      flex-wrap:wrap;\n",
              "      gap: 12px;\n",
              "    }\n",
              "\n",
              "    .colab-df-convert {\n",
              "      background-color: #E8F0FE;\n",
              "      border: none;\n",
              "      border-radius: 50%;\n",
              "      cursor: pointer;\n",
              "      display: none;\n",
              "      fill: #1967D2;\n",
              "      height: 32px;\n",
              "      padding: 0 0 0 0;\n",
              "      width: 32px;\n",
              "    }\n",
              "\n",
              "    .colab-df-convert:hover {\n",
              "      background-color: #E2EBFA;\n",
              "      box-shadow: 0px 1px 2px rgba(60, 64, 67, 0.3), 0px 1px 3px 1px rgba(60, 64, 67, 0.15);\n",
              "      fill: #174EA6;\n",
              "    }\n",
              "\n",
              "    [theme=dark] .colab-df-convert {\n",
              "      background-color: #3B4455;\n",
              "      fill: #D2E3FC;\n",
              "    }\n",
              "\n",
              "    [theme=dark] .colab-df-convert:hover {\n",
              "      background-color: #434B5C;\n",
              "      box-shadow: 0px 1px 3px 1px rgba(0, 0, 0, 0.15);\n",
              "      filter: drop-shadow(0px 1px 2px rgba(0, 0, 0, 0.3));\n",
              "      fill: #FFFFFF;\n",
              "    }\n",
              "  </style>\n",
              "\n",
              "      <script>\n",
              "        const buttonEl =\n",
              "          document.querySelector('#df-75152a3e-7671-4ec8-b8b3-3c7e73506181 button.colab-df-convert');\n",
              "        buttonEl.style.display =\n",
              "          google.colab.kernel.accessAllowed ? 'block' : 'none';\n",
              "\n",
              "        async function convertToInteractive(key) {\n",
              "          const element = document.querySelector('#df-75152a3e-7671-4ec8-b8b3-3c7e73506181');\n",
              "          const dataTable =\n",
              "            await google.colab.kernel.invokeFunction('convertToInteractive',\n",
              "                                                     [key], {});\n",
              "          if (!dataTable) return;\n",
              "\n",
              "          const docLinkHtml = 'Like what you see? Visit the ' +\n",
              "            '<a target=\"_blank\" href=https://colab.research.google.com/notebooks/data_table.ipynb>data table notebook</a>'\n",
              "            + ' to learn more about interactive tables.';\n",
              "          element.innerHTML = '';\n",
              "          dataTable['output_type'] = 'display_data';\n",
              "          await google.colab.output.renderOutput(dataTable, element);\n",
              "          const docLink = document.createElement('div');\n",
              "          docLink.innerHTML = docLinkHtml;\n",
              "          element.appendChild(docLink);\n",
              "        }\n",
              "      </script>\n",
              "    </div>\n",
              "  </div>\n",
              "  "
            ]
          },
          "metadata": {},
          "execution_count": 71
        }
      ]
    },
    {
      "cell_type": "code",
      "source": [
        "import plotly\n",
        "data1 = [dict(type='scattergeo', \\\n",
        "              lat = df_end_zones[\"latitude\"], \\\n",
        "              lon = df_end_zones[\"longitude\"], \\\n",
        "              marker = dict(size = 9, autocolorscale=False, colorscale = 'Viridis', color = df_end_zones['count'], colorbar = dict(title='Amount')) \\\n",
        "              )]\n",
        "layout1 = dict(title='Number of arrivals to zones',\n",
        "              geo = dict(scope='usa',projection = dict(type ='albers usa'),showland = True,\n",
        "                    landcolor=\"rgb(250,250,250)\",subunitcolor = \"rgb(217,217,217)\",\n",
        "                    countrycolor = \"rgb(217,217,217)\",countrywidth =0.5, subunitwidth=0.5))\n",
        "plotly.offline.iplot({\n",
        "    \"data\": data1,\n",
        "    \"layout\": layout1\n",
        "})\n"
      ],
      "metadata": {
        "colab": {
          "base_uri": "https://localhost:8080/",
          "height": 542
        },
        "id": "BMuaFL0ljDJp",
        "outputId": "fb60bf03-8047-4ffb-a918-605816228768"
      },
      "execution_count": 72,
      "outputs": [
        {
          "output_type": "display_data",
          "data": {
            "text/html": [
              "<html>\n",
              "<head><meta charset=\"utf-8\" /></head>\n",
              "<body>\n",
              "    <div>            <script src=\"https://cdnjs.cloudflare.com/ajax/libs/mathjax/2.7.5/MathJax.js?config=TeX-AMS-MML_SVG\"></script><script type=\"text/javascript\">if (window.MathJax && window.MathJax.Hub && window.MathJax.Hub.Config) {window.MathJax.Hub.Config({SVG: {font: \"STIX-Web\"}});}</script>                <script type=\"text/javascript\">window.PlotlyConfig = {MathJaxConfig: 'local'};</script>\n",
              "        <script src=\"https://cdn.plot.ly/plotly-2.18.2.min.js\"></script>                <div id=\"06f63124-08e5-42a6-b51a-279eee36b354\" class=\"plotly-graph-div\" style=\"height:525px; width:100%;\"></div>            <script type=\"text/javascript\">                                    window.PLOTLYENV=window.PLOTLYENV || {};                                    if (document.getElementById(\"06f63124-08e5-42a6-b51a-279eee36b354\")) {                    Plotly.newPlot(                        \"06f63124-08e5-42a6-b51a-279eee36b354\",                        [{\"lat\":[40.525494581763574,40.84908594313943,40.60243279341622],\"lon\":[-74.23353354937646,-73.78198714613215,-73.75524369679556],\"marker\":{\"autocolorscale\":false,\"color\":[937679,6053,3],\"colorbar\":{\"title\":{\"text\":\"Amount\"}},\"colorscale\":[[0.0,\"#440154\"],[0.1111111111111111,\"#482878\"],[0.2222222222222222,\"#3e4989\"],[0.3333333333333333,\"#31688e\"],[0.4444444444444444,\"#26828e\"],[0.5555555555555556,\"#1f9e89\"],[0.6666666666666666,\"#35b779\"],[0.7777777777777778,\"#6ece58\"],[0.8888888888888888,\"#b5de2b\"],[1.0,\"#fde725\"]],\"size\":9},\"type\":\"scattergeo\"}],                        {\"geo\":{\"countrycolor\":\"rgb(217,217,217)\",\"countrywidth\":0.5,\"landcolor\":\"rgb(250,250,250)\",\"projection\":{\"type\":\"albers usa\"},\"scope\":\"usa\",\"showland\":true,\"subunitcolor\":\"rgb(217,217,217)\",\"subunitwidth\":0.5},\"template\":{\"data\":{\"barpolar\":[{\"marker\":{\"line\":{\"color\":\"#E5ECF6\",\"width\":0.5},\"pattern\":{\"fillmode\":\"overlay\",\"size\":10,\"solidity\":0.2}},\"type\":\"barpolar\"}],\"bar\":[{\"error_x\":{\"color\":\"#2a3f5f\"},\"error_y\":{\"color\":\"#2a3f5f\"},\"marker\":{\"line\":{\"color\":\"#E5ECF6\",\"width\":0.5},\"pattern\":{\"fillmode\":\"overlay\",\"size\":10,\"solidity\":0.2}},\"type\":\"bar\"}],\"carpet\":[{\"aaxis\":{\"endlinecolor\":\"#2a3f5f\",\"gridcolor\":\"white\",\"linecolor\":\"white\",\"minorgridcolor\":\"white\",\"startlinecolor\":\"#2a3f5f\"},\"baxis\":{\"endlinecolor\":\"#2a3f5f\",\"gridcolor\":\"white\",\"linecolor\":\"white\",\"minorgridcolor\":\"white\",\"startlinecolor\":\"#2a3f5f\"},\"type\":\"carpet\"}],\"choropleth\":[{\"colorbar\":{\"outlinewidth\":0,\"ticks\":\"\"},\"type\":\"choropleth\"}],\"contourcarpet\":[{\"colorbar\":{\"outlinewidth\":0,\"ticks\":\"\"},\"type\":\"contourcarpet\"}],\"contour\":[{\"colorbar\":{\"outlinewidth\":0,\"ticks\":\"\"},\"colorscale\":[[0.0,\"#0d0887\"],[0.1111111111111111,\"#46039f\"],[0.2222222222222222,\"#7201a8\"],[0.3333333333333333,\"#9c179e\"],[0.4444444444444444,\"#bd3786\"],[0.5555555555555556,\"#d8576b\"],[0.6666666666666666,\"#ed7953\"],[0.7777777777777778,\"#fb9f3a\"],[0.8888888888888888,\"#fdca26\"],[1.0,\"#f0f921\"]],\"type\":\"contour\"}],\"heatmapgl\":[{\"colorbar\":{\"outlinewidth\":0,\"ticks\":\"\"},\"colorscale\":[[0.0,\"#0d0887\"],[0.1111111111111111,\"#46039f\"],[0.2222222222222222,\"#7201a8\"],[0.3333333333333333,\"#9c179e\"],[0.4444444444444444,\"#bd3786\"],[0.5555555555555556,\"#d8576b\"],[0.6666666666666666,\"#ed7953\"],[0.7777777777777778,\"#fb9f3a\"],[0.8888888888888888,\"#fdca26\"],[1.0,\"#f0f921\"]],\"type\":\"heatmapgl\"}],\"heatmap\":[{\"colorbar\":{\"outlinewidth\":0,\"ticks\":\"\"},\"colorscale\":[[0.0,\"#0d0887\"],[0.1111111111111111,\"#46039f\"],[0.2222222222222222,\"#7201a8\"],[0.3333333333333333,\"#9c179e\"],[0.4444444444444444,\"#bd3786\"],[0.5555555555555556,\"#d8576b\"],[0.6666666666666666,\"#ed7953\"],[0.7777777777777778,\"#fb9f3a\"],[0.8888888888888888,\"#fdca26\"],[1.0,\"#f0f921\"]],\"type\":\"heatmap\"}],\"histogram2dcontour\":[{\"colorbar\":{\"outlinewidth\":0,\"ticks\":\"\"},\"colorscale\":[[0.0,\"#0d0887\"],[0.1111111111111111,\"#46039f\"],[0.2222222222222222,\"#7201a8\"],[0.3333333333333333,\"#9c179e\"],[0.4444444444444444,\"#bd3786\"],[0.5555555555555556,\"#d8576b\"],[0.6666666666666666,\"#ed7953\"],[0.7777777777777778,\"#fb9f3a\"],[0.8888888888888888,\"#fdca26\"],[1.0,\"#f0f921\"]],\"type\":\"histogram2dcontour\"}],\"histogram2d\":[{\"colorbar\":{\"outlinewidth\":0,\"ticks\":\"\"},\"colorscale\":[[0.0,\"#0d0887\"],[0.1111111111111111,\"#46039f\"],[0.2222222222222222,\"#7201a8\"],[0.3333333333333333,\"#9c179e\"],[0.4444444444444444,\"#bd3786\"],[0.5555555555555556,\"#d8576b\"],[0.6666666666666666,\"#ed7953\"],[0.7777777777777778,\"#fb9f3a\"],[0.8888888888888888,\"#fdca26\"],[1.0,\"#f0f921\"]],\"type\":\"histogram2d\"}],\"histogram\":[{\"marker\":{\"pattern\":{\"fillmode\":\"overlay\",\"size\":10,\"solidity\":0.2}},\"type\":\"histogram\"}],\"mesh3d\":[{\"colorbar\":{\"outlinewidth\":0,\"ticks\":\"\"},\"type\":\"mesh3d\"}],\"parcoords\":[{\"line\":{\"colorbar\":{\"outlinewidth\":0,\"ticks\":\"\"}},\"type\":\"parcoords\"}],\"pie\":[{\"automargin\":true,\"type\":\"pie\"}],\"scatter3d\":[{\"line\":{\"colorbar\":{\"outlinewidth\":0,\"ticks\":\"\"}},\"marker\":{\"colorbar\":{\"outlinewidth\":0,\"ticks\":\"\"}},\"type\":\"scatter3d\"}],\"scattercarpet\":[{\"marker\":{\"colorbar\":{\"outlinewidth\":0,\"ticks\":\"\"}},\"type\":\"scattercarpet\"}],\"scattergeo\":[{\"marker\":{\"colorbar\":{\"outlinewidth\":0,\"ticks\":\"\"}},\"type\":\"scattergeo\"}],\"scattergl\":[{\"marker\":{\"colorbar\":{\"outlinewidth\":0,\"ticks\":\"\"}},\"type\":\"scattergl\"}],\"scattermapbox\":[{\"marker\":{\"colorbar\":{\"outlinewidth\":0,\"ticks\":\"\"}},\"type\":\"scattermapbox\"}],\"scatterpolargl\":[{\"marker\":{\"colorbar\":{\"outlinewidth\":0,\"ticks\":\"\"}},\"type\":\"scatterpolargl\"}],\"scatterpolar\":[{\"marker\":{\"colorbar\":{\"outlinewidth\":0,\"ticks\":\"\"}},\"type\":\"scatterpolar\"}],\"scatter\":[{\"fillpattern\":{\"fillmode\":\"overlay\",\"size\":10,\"solidity\":0.2},\"type\":\"scatter\"}],\"scatterternary\":[{\"marker\":{\"colorbar\":{\"outlinewidth\":0,\"ticks\":\"\"}},\"type\":\"scatterternary\"}],\"surface\":[{\"colorbar\":{\"outlinewidth\":0,\"ticks\":\"\"},\"colorscale\":[[0.0,\"#0d0887\"],[0.1111111111111111,\"#46039f\"],[0.2222222222222222,\"#7201a8\"],[0.3333333333333333,\"#9c179e\"],[0.4444444444444444,\"#bd3786\"],[0.5555555555555556,\"#d8576b\"],[0.6666666666666666,\"#ed7953\"],[0.7777777777777778,\"#fb9f3a\"],[0.8888888888888888,\"#fdca26\"],[1.0,\"#f0f921\"]],\"type\":\"surface\"}],\"table\":[{\"cells\":{\"fill\":{\"color\":\"#EBF0F8\"},\"line\":{\"color\":\"white\"}},\"header\":{\"fill\":{\"color\":\"#C8D4E3\"},\"line\":{\"color\":\"white\"}},\"type\":\"table\"}]},\"layout\":{\"annotationdefaults\":{\"arrowcolor\":\"#2a3f5f\",\"arrowhead\":0,\"arrowwidth\":1},\"autotypenumbers\":\"strict\",\"coloraxis\":{\"colorbar\":{\"outlinewidth\":0,\"ticks\":\"\"}},\"colorscale\":{\"diverging\":[[0,\"#8e0152\"],[0.1,\"#c51b7d\"],[0.2,\"#de77ae\"],[0.3,\"#f1b6da\"],[0.4,\"#fde0ef\"],[0.5,\"#f7f7f7\"],[0.6,\"#e6f5d0\"],[0.7,\"#b8e186\"],[0.8,\"#7fbc41\"],[0.9,\"#4d9221\"],[1,\"#276419\"]],\"sequential\":[[0.0,\"#0d0887\"],[0.1111111111111111,\"#46039f\"],[0.2222222222222222,\"#7201a8\"],[0.3333333333333333,\"#9c179e\"],[0.4444444444444444,\"#bd3786\"],[0.5555555555555556,\"#d8576b\"],[0.6666666666666666,\"#ed7953\"],[0.7777777777777778,\"#fb9f3a\"],[0.8888888888888888,\"#fdca26\"],[1.0,\"#f0f921\"]],\"sequentialminus\":[[0.0,\"#0d0887\"],[0.1111111111111111,\"#46039f\"],[0.2222222222222222,\"#7201a8\"],[0.3333333333333333,\"#9c179e\"],[0.4444444444444444,\"#bd3786\"],[0.5555555555555556,\"#d8576b\"],[0.6666666666666666,\"#ed7953\"],[0.7777777777777778,\"#fb9f3a\"],[0.8888888888888888,\"#fdca26\"],[1.0,\"#f0f921\"]]},\"colorway\":[\"#636efa\",\"#EF553B\",\"#00cc96\",\"#ab63fa\",\"#FFA15A\",\"#19d3f3\",\"#FF6692\",\"#B6E880\",\"#FF97FF\",\"#FECB52\"],\"font\":{\"color\":\"#2a3f5f\"},\"geo\":{\"bgcolor\":\"white\",\"lakecolor\":\"white\",\"landcolor\":\"#E5ECF6\",\"showlakes\":true,\"showland\":true,\"subunitcolor\":\"white\"},\"hoverlabel\":{\"align\":\"left\"},\"hovermode\":\"closest\",\"mapbox\":{\"style\":\"light\"},\"paper_bgcolor\":\"white\",\"plot_bgcolor\":\"#E5ECF6\",\"polar\":{\"angularaxis\":{\"gridcolor\":\"white\",\"linecolor\":\"white\",\"ticks\":\"\"},\"bgcolor\":\"#E5ECF6\",\"radialaxis\":{\"gridcolor\":\"white\",\"linecolor\":\"white\",\"ticks\":\"\"}},\"scene\":{\"xaxis\":{\"backgroundcolor\":\"#E5ECF6\",\"gridcolor\":\"white\",\"gridwidth\":2,\"linecolor\":\"white\",\"showbackground\":true,\"ticks\":\"\",\"zerolinecolor\":\"white\"},\"yaxis\":{\"backgroundcolor\":\"#E5ECF6\",\"gridcolor\":\"white\",\"gridwidth\":2,\"linecolor\":\"white\",\"showbackground\":true,\"ticks\":\"\",\"zerolinecolor\":\"white\"},\"zaxis\":{\"backgroundcolor\":\"#E5ECF6\",\"gridcolor\":\"white\",\"gridwidth\":2,\"linecolor\":\"white\",\"showbackground\":true,\"ticks\":\"\",\"zerolinecolor\":\"white\"}},\"shapedefaults\":{\"line\":{\"color\":\"#2a3f5f\"}},\"ternary\":{\"aaxis\":{\"gridcolor\":\"white\",\"linecolor\":\"white\",\"ticks\":\"\"},\"baxis\":{\"gridcolor\":\"white\",\"linecolor\":\"white\",\"ticks\":\"\"},\"bgcolor\":\"#E5ECF6\",\"caxis\":{\"gridcolor\":\"white\",\"linecolor\":\"white\",\"ticks\":\"\"}},\"title\":{\"x\":0.05},\"xaxis\":{\"automargin\":true,\"gridcolor\":\"white\",\"linecolor\":\"white\",\"ticks\":\"\",\"title\":{\"standoff\":15},\"zerolinecolor\":\"white\",\"zerolinewidth\":2},\"yaxis\":{\"automargin\":true,\"gridcolor\":\"white\",\"linecolor\":\"white\",\"ticks\":\"\",\"title\":{\"standoff\":15},\"zerolinecolor\":\"white\",\"zerolinewidth\":2}}},\"title\":{\"text\":\"Number of arrivals to zones\"}},                        {\"responsive\": true}                    ).then(function(){\n",
              "                            \n",
              "var gd = document.getElementById('06f63124-08e5-42a6-b51a-279eee36b354');\n",
              "var x = new MutationObserver(function (mutations, observer) {{\n",
              "        var display = window.getComputedStyle(gd).display;\n",
              "        if (!display || display === 'none') {{\n",
              "            console.log([gd, 'removed!']);\n",
              "            Plotly.purge(gd);\n",
              "            observer.disconnect();\n",
              "        }}\n",
              "}});\n",
              "\n",
              "// Listen for the removal of the full notebook cells\n",
              "var notebookContainer = gd.closest('#notebook-container');\n",
              "if (notebookContainer) {{\n",
              "    x.observe(notebookContainer, {childList: true});\n",
              "}}\n",
              "\n",
              "// Listen for the clearing of the current output cell\n",
              "var outputEl = gd.closest('.output');\n",
              "if (outputEl) {{\n",
              "    x.observe(outputEl, {childList: true});\n",
              "}}\n",
              "\n",
              "                        })                };                            </script>        </div>\n",
              "</body>\n",
              "</html>"
            ]
          },
          "metadata": {}
        }
      ]
    },
    {
      "cell_type": "markdown",
      "source": [
        "# Задание 2"
      ],
      "metadata": {
        "id": "bJ8Yts62ndIk"
      }
    },
    {
      "cell_type": "code",
      "source": [
        "import math\n",
        "from pyspark.sql import functions as F\n",
        "from pyspark.sql.types import DoubleType\n",
        "def Gaversinus(lat1, lng1, lat2, lng2): \n",
        "  R = 6371 \n",
        "  lat = (lat2 - lat1) * (math.pi / 180)\n",
        "  lng = (lng2 - lng1) * (math.pi / 180)\n",
        "  rez = math.sin(lat / 2) * math.sin(lat / 2) + math.cos(lat1 * (math.pi / 180)) * math.cos(lat2 * (math.pi / 180)) * math.sin(lng / 2) * math.sin(lng / 2);\n",
        "  d = 2 * R * math.atan2(math.sqrt(rez), math.sqrt(1-rez));\n",
        "  return d \n",
        "\n",
        "calc_dist_udf = F.udf(Gaversinus, DoubleType())\n",
        "spark_df_with_dists = spark_df.filter(F.col(\"start station name\") != F.col(\"end station name\")).withColumn('gs_dist', calc_dist_udf(F.col(\"start station latitude\"), F.col(\"start station longitude\"), F.col(\"end station latitude\"), F.col(\"end station longitude\")))\n",
        "spark_df_with_dists.show()"
      ],
      "metadata": {
        "colab": {
          "base_uri": "https://localhost:8080/"
        },
        "id": "8J_XABZKtOwm",
        "outputId": "ad8aa9d5-aff9-485c-df78-79883093c7eb"
      },
      "execution_count": 26,
      "outputs": [
        {
          "output_type": "stream",
          "name": "stdout",
          "text": [
            "+------------+--------------------+--------------------+----------------+--------------------+----------------------+-----------------------+--------------+--------------------+--------------------+---------------------+------+----------+----------+------+-------------------+\n",
            "|tripduration|           starttime|            stoptime|start station id|  start station name|start station latitude|start station longitude|end station id|    end station name|end station latitude|end station longitude|bikeid|  usertype|birth year|gender|            gs_dist|\n",
            "+------------+--------------------+--------------------+----------------+--------------------+----------------------+-----------------------+--------------+--------------------+--------------------+---------------------+------+----------+----------+------+-------------------+\n",
            "|         219|2019-02-01 00:00:...|2019-02-01 00:03:...|          3494.0|E 115 St & Lexing...|             40.797911|               -73.9423|        3501.0|E 118 St & Madiso...|          40.8014866|          -73.9442507| 33450|Subscriber|      1989|     1|0.43016041846270137|\n",
            "|         143|2019-02-01 00:00:...|2019-02-01 00:02:...|           438.0| St Marks Pl & 1 Ave|           40.72779126|           -73.98564945|         236.0| St Marks Pl & 2 Ave|          40.7284186|         -73.98713956| 25626|Subscriber|      1990|     1|0.14363994294033108|\n",
            "|         296|2019-02-01 00:01:...|2019-02-01 00:06:...|          3571.0|Bedford Ave & Ber...|             40.676368|             -73.952918|        3549.0|Grand Ave & Berge...|           40.678045|           -73.962408| 35568|Subscriber|      1987|     1| 0.8217251348321907|\n",
            "|         478|2019-02-01 00:01:...|2019-02-01 00:09:...|           167.0|     E 39 St & 3 Ave|            40.7489006|           -73.97604882|         477.0|     W 41 St & 8 Ave|         40.75640548|          -73.9900262| 25045|Subscriber|      1964|     2| 1.4431216853333029|\n",
            "|         225|2019-02-01 00:01:...|2019-02-01 00:05:...|          3458.0|     W 55 St & 6 Ave|     40.76309387270797|      -73.9783501625061|        3443.0|     W 52 St & 6 Ave|   40.76132983124814|   -73.97982001304626| 34006|Subscriber|      1979|     1|0.23194966788217464|\n",
            "|         457|2019-02-01 00:02:...|2019-02-01 00:09:...|          3078.0|Broadway & Roebli...|     40.70924826276157|     -73.96063148975372|        3016.0|   Kent Ave & N 7 St|   40.72036775298455|   -73.96165072917938| 33858|Subscriber|      1981|     2| 1.2394114645118521|\n",
            "|         175|2019-02-01 00:02:...|2019-02-01 00:05:...|           411.0|   E 6 St & Avenue D|           40.72228087|           -73.97668709|         317.0|   E 6 St & Avenue B|         40.72453734|         -73.98185424| 24839|Subscriber|      1995|     1| 0.5025573365981136|\n",
            "|         248|2019-02-01 00:02:...|2019-02-01 00:06:...|          3628.0|Lenox Ave & W 117 St|            40.8025566|            -73.9490782|        3506.0|Lexington Ave & E...|          40.8013066|          -73.9398167| 31798|Subscriber|      1991|     1| 0.7918491557600996|\n",
            "|         541|2019-02-01 00:02:...|2019-02-01 00:11:...|           293.0|Lafayette St & E ...|     40.73020660529954|     -73.99102628231049|         383.0|Greenwich Ave & C...|           40.735238|           -74.000271| 32175|Subscriber|      1981|     0| 0.9590462458902683|\n",
            "|         406|2019-02-01 00:03:...|2019-02-01 00:09:...|           380.0|    W 4 St & 7 Ave S|           40.73401143|           -74.00293877|        3263.0|Cooper Square & A...|   40.72951496224949|   -73.99075269699097| 27688|Subscriber|      1973|     2| 1.1420646344025551|\n",
            "|         659|2019-02-01 00:03:...|2019-02-01 00:14:...|           236.0| St Marks Pl & 2 Ave|            40.7284186|           -73.98713956|        3660.0|     W 16 St & 8 Ave|   40.74102150900266|     -74.001384973526| 31796|Subscriber|      1990|     1| 1.8451334949014415|\n",
            "|        1224|2019-02-01 00:03:...|2019-02-01 00:23:...|          3167.0|Amsterdam Ave & W...|     40.77966809007312|     -73.98093044757842|        3168.0|Central Park West...|         40.78472675|         -73.96961715| 32737|Subscriber|      1965|     2| 1.1062267152417558|\n",
            "|         419|2019-02-01 00:03:...|2019-02-01 00:10:...|           484.0|     W 44 St & 5 Ave|           40.75500254|           -73.98014437|         469.0|  Broadway & W 53 St|         40.76344058|         -73.98268129| 30708|Subscriber|      1964|     2| 0.9622899409824277|\n",
            "|         752|2019-02-01 00:03:...|2019-02-01 00:16:...|           327.0|Vesey Pl & River ...|            40.7153379|           -74.01658354|         312.0|Allen St & Stanto...|           40.722055|           -73.989111| 26835|Subscriber|      1992|     1|  2.432797395699147|\n",
            "|        1125|2019-02-01 00:04:...|2019-02-01 00:22:...|          3243.0|     E 58 St & 1 Ave|     40.75892386377695|     -73.96226227283478|        3170.0|W 84 St & Columbu...|         40.78499979|         -73.97283406| 34662|Subscriber|      1985|     1|  3.033100610142988|\n",
            "|        1271|2019-02-01 00:04:...|2019-02-01 00:26:...|           362.0|  Broadway & W 37 St|           40.75172632|           -73.98753523|         478.0|    11 Ave & W 41 St|         40.76030096|         -73.99884222| 28893|Subscriber|      1966|     1| 1.3476337064724904|\n",
            "|         469|2019-02-01 00:05:...|2019-02-01 00:13:...|           490.0|     8 Ave & W 33 St|             40.751551|             -73.993934|         508.0|    W 46 St & 11 Ave|         40.76341379|         -73.99667444| 33856|Subscriber|      1968|     1|  1.339125110834045|\n",
            "|         156|2019-02-01 00:05:...|2019-02-01 00:07:...|          3107.0|Bedford Ave & Nas...|           40.72311651|           -73.95212324|        3096.0| Union Ave & N 12 St|            40.71924|            -73.95242| 35009|Subscriber|      1992|     1|0.43177314132418954|\n",
            "|         342|2019-02-01 00:05:...|2019-02-01 00:11:...|          3263.0|Cooper Square & A...|     40.72951496224949|     -73.99075269699097|         394.0|   E 9 St & Avenue C|         40.72521311|         -73.97768752| 26739|Subscriber|      1986|     1| 1.2003774267656508|\n",
            "|         412|2019-02-01 00:05:...|2019-02-01 00:12:...|           336.0|Sullivan St & Was...|           40.73047747|           -73.99906065|         326.0|     E 11 St & 1 Ave|         40.72953837|         -73.98426726| 32911|Subscriber|      1991|     1| 1.2508972130938862|\n",
            "+------------+--------------------+--------------------+----------------+--------------------+----------------------+-----------------------+--------------+--------------------+--------------------+---------------------+------+----------+----------+------+-------------------+\n",
            "only showing top 20 rows\n",
            "\n"
          ]
        }
      ]
    },
    {
      "cell_type": "code",
      "source": [
        "spark_df_with_dists.agg(F.min('gs_dist').alias(\"Минимальное расстояние\"), F.max('gs_dist').alias(\"Максимальное расстояние\"), F.avg('gs_dist').alias(\"Среднее расстояние\"), F.median('gs_dist').alias(\"Медиана\"), F.stddev_pop('gs_dist').alias(\"Стандартное отклонение\")).show()"
      ],
      "metadata": {
        "colab": {
          "base_uri": "https://localhost:8080/"
        },
        "id": "tvvZBmGXAa30",
        "outputId": "d6b7184f-f81a-4f64-c72e-a09695109dd6"
      },
      "execution_count": 27,
      "outputs": [
        {
          "output_type": "stream",
          "name": "stdout",
          "text": [
            "+----------------------+-----------------------+------------------+------------------+----------------------+\n",
            "|Минимальное расстояние|Максимальное расстояние|Среднее расстояние|           Медиана|Стандартное отклонение|\n",
            "+----------------------+-----------------------+------------------+------------------+----------------------+\n",
            "|   0.03673581134308801|     15.326431486694728|1.6403749148456084|1.2628745712443081|     1.288676481830412|\n",
            "+----------------------+-----------------------+------------------+------------------+----------------------+\n",
            "\n"
          ]
        }
      ]
    },
    {
      "cell_type": "markdown",
      "source": [
        "# Задание 3"
      ],
      "metadata": {
        "id": "E-sFh5U1DcC7"
      }
    },
    {
      "cell_type": "markdown",
      "source": [
        "Среднее количество начала поездок в день для каждой из станции"
      ],
      "metadata": {
        "id": "mYsFZ2KGePgP"
      }
    },
    {
      "cell_type": "code",
      "source": [
        "from pyspark.sql.functions import date_format\n",
        "spark_df.withColumn(\"startday\", date_format(\"starttime\", \"yyyy-MM-dd\"))\\\n",
        ".groupBy(\"start station name\", \"startday\")\\\n",
        ".count()\\\n",
        ".groupBy(\"start station name\")\\\n",
        ".avg(\"count\")\\\n",
        ".show()"
      ],
      "metadata": {
        "colab": {
          "base_uri": "https://localhost:8080/"
        },
        "id": "XJwod8Lqa4_i",
        "outputId": "4d4e0d15-1475-42c5-d0bc-e899d82e2311"
      },
      "execution_count": 66,
      "outputs": [
        {
          "output_type": "stream",
          "name": "stdout",
          "text": [
            "+--------------------+------------------+\n",
            "|  start station name|        avg(count)|\n",
            "+--------------------+------------------+\n",
            "|       45 Rd & 11 St|21.821428571428573|\n",
            "|       10 St & 5 Ave|11.535714285714286|\n",
            "|  N 11 St & Kent Ave|14.821428571428571|\n",
            "| Berkeley Pl & 6 Ave|17.178571428571427|\n",
            "|   Dean St & Hoyt St|15.964285714285714|\n",
            "|    W 12 St & W 4 St|62.392857142857146|\n",
            "| Park Ave & E 124 St|54.392857142857146|\n",
            "|      49 Ave & 21 St| 7.678571428571429|\n",
            "|     E 91 St & 2 Ave|39.392857142857146|\n",
            "|Park Pl & Vanderb...|33.892857142857146|\n",
            "|Central Park West...| 74.92857142857143|\n",
            "|    Jay St & Tech Pl| 36.92857142857143|\n",
            "| Bank St & Hudson St|62.785714285714285|\n",
            "|       44 Dr & 21 St|22.321428571428573|\n",
            "|Meserole Ave & Ma...| 39.92857142857143|\n",
            "|Sterling St & Bed...| 4.555555555555555|\n",
            "|  E 91 St & Park Ave|22.892857142857142|\n",
            "|Carlton Ave & Flu...|17.571428571428573|\n",
            "|39 St & 2 Ave - C...| 6.285714285714286|\n",
            "|E 123 St & Lexing...|             11.25|\n",
            "+--------------------+------------------+\n",
            "only showing top 20 rows\n",
            "\n"
          ]
        }
      ]
    },
    {
      "cell_type": "markdown",
      "source": [
        "Среднее количество завершения поездок в день для каждой станции"
      ],
      "metadata": {
        "id": "p9XFfgpuebX8"
      }
    },
    {
      "cell_type": "code",
      "source": [
        "spark_df.withColumn(\"endday\", date_format(\"stoptime\", \"yyyy-MM-dd\"))\\\n",
        ".groupBy(\"end station name\", \"endday\")\\\n",
        ".count()\\\n",
        ".groupBy(\"end station name\")\\\n",
        ".avg(\"count\")\\\n",
        ".show()"
      ],
      "metadata": {
        "colab": {
          "base_uri": "https://localhost:8080/"
        },
        "id": "Z5UxQl1TeVX-",
        "outputId": "803d76af-9bc0-428d-89f6-38ab893f874e"
      },
      "execution_count": 67,
      "outputs": [
        {
          "output_type": "stream",
          "name": "stdout",
          "text": [
            "+--------------------+------------------+\n",
            "|    end station name|        avg(count)|\n",
            "+--------------------+------------------+\n",
            "|       45 Rd & 11 St|21.178571428571427|\n",
            "|       10 St & 5 Ave|11.642857142857142|\n",
            "|  N 11 St & Kent Ave|15.428571428571429|\n",
            "| Berkeley Pl & 6 Ave|17.178571428571427|\n",
            "|   Dean St & Hoyt St|16.642857142857142|\n",
            "|    W 12 St & W 4 St| 65.07142857142857|\n",
            "| Park Ave & E 124 St| 54.82142857142857|\n",
            "|      49 Ave & 21 St|               8.0|\n",
            "|     E 91 St & 2 Ave|40.785714285714285|\n",
            "|Park Pl & Vanderb...|              29.0|\n",
            "|Central Park West...|              69.0|\n",
            "|    Jay St & Tech Pl| 37.96551724137931|\n",
            "| Bank St & Hudson St|             64.25|\n",
            "|       44 Dr & 21 St|22.107142857142858|\n",
            "|Meserole Ave & Ma...|39.607142857142854|\n",
            "|Sterling St & Bed...| 4.777777777777778|\n",
            "|  E 91 St & Park Ave|             23.25|\n",
            "|Carlton Ave & Flu...|22.571428571428573|\n",
            "|39 St & 2 Ave - C...| 6.925925925925926|\n",
            "|E 123 St & Lexing...|11.321428571428571|\n",
            "+--------------------+------------------+\n",
            "only showing top 20 rows\n",
            "\n"
          ]
        }
      ]
    },
    {
      "cell_type": "markdown",
      "source": [
        "Среднее количество начала поездок в утренний период для каждой станции (6AM - 12PM)"
      ],
      "metadata": {
        "id": "obOmU7kTaP6j"
      }
    },
    {
      "cell_type": "code",
      "source": [
        "from pyspark.sql import functions as F\n",
        "start_morning_spark_df = spark_df.withColumn(\"starttimet\", date_format(\"starttime\", 'HH:mm:ss'))\\\n",
        ".filter(F.col(\"starttimet\") >= \"06:00:00\")\\\n",
        ".filter(F.col(\"starttimet\") <= \"11:59:00\")\\\n",
        ".groupBy(\"start station name\")\\\n",
        ".count()\\\n",
        ".groupBy(\"start station name\")\\\n",
        ".avg(\"count\")\n",
        "\n",
        "start_morning_spark_df.show()"
      ],
      "metadata": {
        "colab": {
          "base_uri": "https://localhost:8080/"
        },
        "id": "e91Cn8gPWRQ3",
        "outputId": "ac4510f3-a146-4f9f-8850-72a75c0809e4"
      },
      "execution_count": 71,
      "outputs": [
        {
          "output_type": "stream",
          "name": "stdout",
          "text": [
            "+--------------------+----------+\n",
            "|  start station name|avg(count)|\n",
            "+--------------------+----------+\n",
            "|       45 Rd & 11 St|     131.0|\n",
            "|       10 St & 5 Ave|     103.0|\n",
            "|  N 11 St & Kent Ave|      58.0|\n",
            "| Park Ave & E 124 St|     679.0|\n",
            "|      49 Ave & 21 St|     120.0|\n",
            "|    W 12 St & W 4 St|     617.0|\n",
            "| Berkeley Pl & 6 Ave|     208.0|\n",
            "|   Dean St & Hoyt St|     117.0|\n",
            "|     E 91 St & 2 Ave|     481.0|\n",
            "| Bank St & Hudson St|     729.0|\n",
            "|    Jay St & Tech Pl|     225.0|\n",
            "|Central Park West...|     821.0|\n",
            "|Meserole Ave & Ma...|     371.0|\n",
            "|Park Pl & Vanderb...|     294.0|\n",
            "|Sterling St & Bed...|      57.0|\n",
            "|       44 Dr & 21 St|     105.0|\n",
            "|Carlton Ave & Flu...|      98.0|\n",
            "|  E 91 St & Park Ave|     211.0|\n",
            "|39 St & 2 Ave - C...|      43.0|\n",
            "|Washington St & G...|     667.0|\n",
            "+--------------------+----------+\n",
            "only showing top 20 rows\n",
            "\n"
          ]
        }
      ]
    },
    {
      "cell_type": "markdown",
      "source": [
        "Среднее количество завершения поездок в утренний период для каждой станции (6AM - 12PM)"
      ],
      "metadata": {
        "id": "1h0ilBRDaf2k"
      }
    },
    {
      "cell_type": "code",
      "source": [
        "from pyspark.sql.functions import date_format\n",
        "from pyspark.sql import functions as F\n",
        "end_morning_spark_df = spark_df.withColumn(\"stoptimet\", date_format(\"stoptime\", 'HH:mm:ss'))\\\n",
        ".filter(F.col(\"stoptimet\") >= \"06:00:00\")\\\n",
        ".filter(F.col(\"stoptimet\") <= \"11:59:00\")\\\n",
        ".groupBy(\"end station name\")\\\n",
        ".count()\\\n",
        ".groupBy(\"end station name\")\\\n",
        ".avg(\"count\")\n",
        "\n",
        "end_morning_spark_df.show()"
      ],
      "metadata": {
        "colab": {
          "base_uri": "https://localhost:8080/"
        },
        "id": "CRi1m2bwafHG",
        "outputId": "55868e95-f5f9-42ee-c5aa-c14ca19eb5ea"
      },
      "execution_count": 72,
      "outputs": [
        {
          "output_type": "stream",
          "name": "stdout",
          "text": [
            "+--------------------+----------+\n",
            "|    end station name|avg(count)|\n",
            "+--------------------+----------+\n",
            "|       10 St & 5 Ave|      86.0|\n",
            "|       45 Rd & 11 St|     238.0|\n",
            "|  N 11 St & Kent Ave|     154.0|\n",
            "| Park Ave & E 124 St|     737.0|\n",
            "|    W 12 St & W 4 St|     461.0|\n",
            "|   Dean St & Hoyt St|     119.0|\n",
            "| Berkeley Pl & 6 Ave|     118.0|\n",
            "|      49 Ave & 21 St|      52.0|\n",
            "|     E 91 St & 2 Ave|     217.0|\n",
            "|       44 Dr & 21 St|     256.0|\n",
            "| Bank St & Hudson St|     404.0|\n",
            "|Central Park West...|     373.0|\n",
            "|Park Pl & Vanderb...|     297.0|\n",
            "|    Jay St & Tech Pl|     455.0|\n",
            "|Meserole Ave & Ma...|     281.0|\n",
            "|Sterling St & Bed...|      18.0|\n",
            "|Carlton Ave & Flu...|     263.0|\n",
            "|  E 91 St & Park Ave|     190.0|\n",
            "|39 St & 2 Ave - C...|      67.0|\n",
            "|Washington St & G...|     747.0|\n",
            "+--------------------+----------+\n",
            "only showing top 20 rows\n",
            "\n"
          ]
        }
      ]
    },
    {
      "cell_type": "markdown",
      "source": [
        "Среднее количество начала поездок в дневной период для каждой станции (12PM - 6PM)"
      ],
      "metadata": {
        "id": "lPs8AwYPiMdu"
      }
    },
    {
      "cell_type": "code",
      "source": [
        "from pyspark.sql import functions as F\n",
        "start_day_spark_df = spark_df.withColumn(\"starttimet\", date_format(\"starttime\", 'HH:mm:ss'))\\\n",
        ".filter(F.col(\"starttimet\") >= \"12:00:00\")\\\n",
        ".filter(F.col(\"starttimet\") <= \"17:59:00\")\\\n",
        ".groupBy(\"start station name\")\\\n",
        ".count()\\\n",
        ".groupBy(\"start station name\")\\\n",
        ".avg(\"count\")\n",
        "\n",
        "start_day_spark_df.show()"
      ],
      "metadata": {
        "colab": {
          "base_uri": "https://localhost:8080/"
        },
        "id": "sq1zBVe6eo7X",
        "outputId": "cc2c57e5-e899-4205-d791-d70994d3dd6c"
      },
      "execution_count": 73,
      "outputs": [
        {
          "output_type": "stream",
          "name": "stdout",
          "text": [
            "+--------------------+----------+\n",
            "|  start station name|avg(count)|\n",
            "+--------------------+----------+\n",
            "|       10 St & 5 Ave|     141.0|\n",
            "|       45 Rd & 11 St|     235.0|\n",
            "|  N 11 St & Kent Ave|     181.0|\n",
            "|    W 12 St & W 4 St|     688.0|\n",
            "| Park Ave & E 124 St|     381.0|\n",
            "| Berkeley Pl & 6 Ave|     153.0|\n",
            "|      49 Ave & 21 St|      62.0|\n",
            "|   Dean St & Hoyt St|     203.0|\n",
            "|     E 91 St & 2 Ave|     379.0|\n",
            "| Bank St & Hudson St|     643.0|\n",
            "|Park Pl & Vanderb...|     340.0|\n",
            "|Meserole Ave & Ma...|     416.0|\n",
            "|       44 Dr & 21 St|     245.0|\n",
            "|    Jay St & Tech Pl|     504.0|\n",
            "|Central Park West...|     915.0|\n",
            "|Sterling St & Bed...|      46.0|\n",
            "|Carlton Ave & Flu...|     255.0|\n",
            "|  E 91 St & Park Ave|     221.0|\n",
            "|39 St & 2 Ave - C...|      89.0|\n",
            "|  Broadway & W 56 St|    1595.0|\n",
            "+--------------------+----------+\n",
            "only showing top 20 rows\n",
            "\n"
          ]
        }
      ]
    },
    {
      "cell_type": "markdown",
      "source": [
        "Среднее количество завершения поездок в дневной период для каждой станции (12PM - 6PM)"
      ],
      "metadata": {
        "id": "gZMDMOt4iuQ4"
      }
    },
    {
      "cell_type": "code",
      "source": [
        "from pyspark.sql.functions import date_format\n",
        "from pyspark.sql import functions as F\n",
        "end_day_spark_df = spark_df.withColumn(\"stoptimet\", date_format(\"stoptime\", 'HH:mm:ss'))\\\n",
        ".filter(F.col(\"stoptimet\") >= \"12:00:00\")\\\n",
        ".filter(F.col(\"stoptimet\") <= \"17:59:00\")\\\n",
        ".groupBy(\"end station name\")\\\n",
        ".count()\\\n",
        ".groupBy(\"end station name\")\\\n",
        ".avg(\"count\")\n",
        "\n",
        "end_day_spark_df.show()"
      ],
      "metadata": {
        "colab": {
          "base_uri": "https://localhost:8080/"
        },
        "id": "AyG2bQbpimgF",
        "outputId": "7973fb67-f053-4ece-c184-551dbfb7fd6b"
      },
      "execution_count": 75,
      "outputs": [
        {
          "output_type": "stream",
          "name": "stdout",
          "text": [
            "+--------------------+----------+\n",
            "|    end station name|avg(count)|\n",
            "+--------------------+----------+\n",
            "|       10 St & 5 Ave|     147.0|\n",
            "|  N 11 St & Kent Ave|     149.0|\n",
            "|       45 Rd & 11 St|     207.0|\n",
            "|    W 12 St & W 4 St|     832.0|\n",
            "|   Dean St & Hoyt St|     227.0|\n",
            "| Berkeley Pl & 6 Ave|     203.0|\n",
            "| Park Ave & E 124 St|     519.0|\n",
            "|      49 Ave & 21 St|     119.0|\n",
            "|     E 91 St & 2 Ave|     474.0|\n",
            "|Sterling St & Bed...|      61.0|\n",
            "|Meserole Ave & Ma...|     442.0|\n",
            "|    Jay St & Tech Pl|     414.0|\n",
            "| Bank St & Hudson St|     884.0|\n",
            "|Central Park West...|    1147.0|\n",
            "|Park Pl & Vanderb...|     307.0|\n",
            "|       44 Dr & 21 St|     225.0|\n",
            "|Carlton Ave & Flu...|     224.0|\n",
            "|  E 91 St & Park Ave|     268.0|\n",
            "|39 St & 2 Ave - C...|      77.0|\n",
            "|  Broadway & W 56 St|    1430.0|\n",
            "+--------------------+----------+\n",
            "only showing top 20 rows\n",
            "\n"
          ]
        }
      ]
    },
    {
      "cell_type": "markdown",
      "source": [
        "Среднее количество начала поездок в вечерний период для каждой станции (6PM - 12AM)"
      ],
      "metadata": {
        "id": "eKc0dLU4i8mg"
      }
    },
    {
      "cell_type": "code",
      "source": [
        "from pyspark.sql import functions as F\n",
        "start_evening_spark_df = spark_df.withColumn(\"starttimet\", date_format(\"starttime\", 'HH:mm:ss'))\\\n",
        ".filter(F.col(\"starttimet\") >= \"18:00:00\")\\\n",
        ".filter(F.col(\"starttimet\") <= \"23:59:00\")\\\n",
        ".groupBy(\"start station name\")\\\n",
        ".count()\\\n",
        ".groupBy(\"start station name\")\\\n",
        ".avg(\"count\")\n",
        "\n",
        "start_evening_spark_df.show()"
      ],
      "metadata": {
        "colab": {
          "base_uri": "https://localhost:8080/"
        },
        "id": "L-xNJ1EIjn1d",
        "outputId": "cb1732be-1e93-4e01-e8e1-4deac03df3d7"
      },
      "execution_count": 76,
      "outputs": [
        {
          "output_type": "stream",
          "name": "stdout",
          "text": [
            "+--------------------+----------+\n",
            "|  start station name|avg(count)|\n",
            "+--------------------+----------+\n",
            "|  N 11 St & Kent Ave|     135.0|\n",
            "|       45 Rd & 11 St|     238.0|\n",
            "|       10 St & 5 Ave|      75.0|\n",
            "| Park Ave & E 124 St|     442.0|\n",
            "|    W 12 St & W 4 St|     403.0|\n",
            "|      49 Ave & 21 St|      29.0|\n",
            "|   Dean St & Hoyt St|     113.0|\n",
            "| Berkeley Pl & 6 Ave|     102.0|\n",
            "|     E 91 St & 2 Ave|     224.0|\n",
            "|    Jay St & Tech Pl|     290.0|\n",
            "|Central Park West...|     322.0|\n",
            "| Bank St & Hudson St|     336.0|\n",
            "|Park Pl & Vanderb...|     269.0|\n",
            "|Meserole Ave & Ma...|     301.0|\n",
            "|       44 Dr & 21 St|     259.0|\n",
            "|Sterling St & Bed...|      18.0|\n",
            "|Carlton Ave & Flu...|     120.0|\n",
            "|  E 91 St & Park Ave|     196.0|\n",
            "|39 St & 2 Ave - C...|      43.0|\n",
            "|Washington St & G...|     516.0|\n",
            "+--------------------+----------+\n",
            "only showing top 20 rows\n",
            "\n"
          ]
        }
      ]
    },
    {
      "cell_type": "markdown",
      "source": [
        "Среднее количество завершения поездок в вечерний период для каждой станции (6PM - 12AM)"
      ],
      "metadata": {
        "id": "EuvalYUQjUZ8"
      }
    },
    {
      "cell_type": "code",
      "source": [
        "from pyspark.sql.functions import date_format\n",
        "from pyspark.sql import functions as F\n",
        "end_evening_spark_df = spark_df.withColumn(\"stoptimet\", date_format(\"stoptime\", 'HH:mm:ss'))\\\n",
        ".filter(F.col(\"stoptimet\") >= \"18:00:00\")\\\n",
        ".filter(F.col(\"stoptimet\") <= \"23:59:00\")\\\n",
        ".groupBy(\"end station name\")\\\n",
        ".count()\\\n",
        ".groupBy(\"end station name\")\\\n",
        ".avg(\"count\")\n",
        "\n",
        "end_evening_spark_df.show()"
      ],
      "metadata": {
        "colab": {
          "base_uri": "https://localhost:8080/"
        },
        "id": "JKYZ3RHujocd",
        "outputId": "004bb53f-6159-428f-f385-9c320b2283f2"
      },
      "execution_count": 77,
      "outputs": [
        {
          "output_type": "stream",
          "name": "stdout",
          "text": [
            "+--------------------+----------+\n",
            "|    end station name|avg(count)|\n",
            "+--------------------+----------+\n",
            "|       10 St & 5 Ave|      85.0|\n",
            "|       45 Rd & 11 St|     141.0|\n",
            "|  N 11 St & Kent Ave|     121.0|\n",
            "| Park Ave & E 124 St|     233.0|\n",
            "|   Dean St & Hoyt St|     115.0|\n",
            "| Berkeley Pl & 6 Ave|     152.0|\n",
            "|    W 12 St & W 4 St|     497.0|\n",
            "|      49 Ave & 21 St|      52.0|\n",
            "|     E 91 St & 2 Ave|     392.0|\n",
            "|    Jay St & Tech Pl|     222.0|\n",
            "|Central Park West...|     432.0|\n",
            "|Meserole Ave & Ma...|     326.0|\n",
            "|Park Pl & Vanderb...|     216.0|\n",
            "| Bank St & Hudson St|     457.0|\n",
            "|       44 Dr & 21 St|     132.0|\n",
            "|Sterling St & Bed...|      43.0|\n",
            "|  E 91 St & Park Ave|     178.0|\n",
            "|Carlton Ave & Flu...|     132.0|\n",
            "|39 St & 2 Ave - C...|      41.0|\n",
            "|Carlton Ave & Dea...|     247.0|\n",
            "+--------------------+----------+\n",
            "only showing top 20 rows\n",
            "\n"
          ]
        }
      ]
    },
    {
      "cell_type": "markdown",
      "source": [
        "Среднее количество начала поездок в ночной период для каждой станции (12AM - 6AM)"
      ],
      "metadata": {
        "id": "rcB7y_1xjZ2M"
      }
    },
    {
      "cell_type": "code",
      "source": [
        "from pyspark.sql import functions as F\n",
        "start_night_spark_df = spark_df.withColumn(\"starttimet\", date_format(\"starttime\", 'HH:mm:ss'))\\\n",
        ".filter(F.col(\"starttimet\") >= \"00:00:00\")\\\n",
        ".filter(F.col(\"starttimet\") <= \"05:59:00\")\\\n",
        ".groupBy(\"start station name\")\\\n",
        ".count()\\\n",
        ".groupBy(\"start station name\")\\\n",
        ".avg(\"count\")\n",
        "\n",
        "start_night_spark_df.show()"
      ],
      "metadata": {
        "colab": {
          "base_uri": "https://localhost:8080/"
        },
        "id": "e7PAKQBQjo_2",
        "outputId": "bff69262-2149-4950-84fe-59520b065add"
      },
      "execution_count": 78,
      "outputs": [
        {
          "output_type": "stream",
          "name": "stdout",
          "text": [
            "+--------------------+----------+\n",
            "|  start station name|avg(count)|\n",
            "+--------------------+----------+\n",
            "|       45 Rd & 11 St|       6.0|\n",
            "|  N 11 St & Kent Ave|      41.0|\n",
            "|       10 St & 5 Ave|       3.0|\n",
            "| Berkeley Pl & 6 Ave|      17.0|\n",
            "|    W 12 St & W 4 St|      33.0|\n",
            "|   Dean St & Hoyt St|      14.0|\n",
            "|      49 Ave & 21 St|       4.0|\n",
            "| Park Ave & E 124 St|      17.0|\n",
            "|     E 91 St & 2 Ave|      19.0|\n",
            "|       44 Dr & 21 St|      13.0|\n",
            "|Central Park West...|      34.0|\n",
            "| Bank St & Hudson St|      48.0|\n",
            "|Meserole Ave & Ma...|      30.0|\n",
            "|    Jay St & Tech Pl|      13.0|\n",
            "|Park Pl & Vanderb...|      44.0|\n",
            "|Carlton Ave & Flu...|      18.0|\n",
            "|  E 91 St & Park Ave|      12.0|\n",
            "|39 St & 2 Ave - C...|       1.0|\n",
            "|  Broadway & W 56 St|      45.0|\n",
            "|Washington St & G...|      46.0|\n",
            "+--------------------+----------+\n",
            "only showing top 20 rows\n",
            "\n"
          ]
        }
      ]
    },
    {
      "cell_type": "markdown",
      "source": [
        "Среднее количество завершения поездок в ночной период для каждой станции (12AM - 6AM)"
      ],
      "metadata": {
        "id": "YTfxQdcEjhw-"
      }
    },
    {
      "cell_type": "code",
      "source": [
        "from pyspark.sql.functions import date_format\n",
        "from pyspark.sql import functions as F\n",
        "end_night_spark_df = spark_df.withColumn(\"stoptimet\", date_format(\"stoptime\", 'HH:mm:ss'))\\\n",
        ".filter(F.col(\"stoptimet\") >= \"00:00:00\")\\\n",
        ".filter(F.col(\"stoptimet\") <= \"05:59:00\")\\\n",
        ".groupBy(\"end station name\")\\\n",
        ".count()\\\n",
        ".groupBy(\"end station name\")\\\n",
        ".avg(\"count\")\n",
        "\n",
        "end_night_spark_df.show()"
      ],
      "metadata": {
        "colab": {
          "base_uri": "https://localhost:8080/"
        },
        "id": "tKRwSjHpjpiD",
        "outputId": "8a941537-2f2d-40ad-eab5-4ea56accb836"
      },
      "execution_count": 79,
      "outputs": [
        {
          "output_type": "stream",
          "name": "stdout",
          "text": [
            "+--------------------+----------+\n",
            "|    end station name|avg(count)|\n",
            "+--------------------+----------+\n",
            "|  N 11 St & Kent Ave|       7.0|\n",
            "|       45 Rd & 11 St|       6.0|\n",
            "|       10 St & 5 Ave|       7.0|\n",
            "| Park Ave & E 124 St|      43.0|\n",
            "|   Dean St & Hoyt St|       5.0|\n",
            "|    W 12 St & W 4 St|      27.0|\n",
            "|      49 Ave & 21 St|       1.0|\n",
            "|     E 91 St & 2 Ave|      53.0|\n",
            "|Meserole Ave & Ma...|      54.0|\n",
            "|Central Park West...|      45.0|\n",
            "| Bank St & Hudson St|      46.0|\n",
            "|    Jay St & Tech Pl|       6.0|\n",
            "|Park Pl & Vanderb...|      18.0|\n",
            "|       44 Dr & 21 St|       3.0|\n",
            "|Sterling St & Bed...|       6.0|\n",
            "|Carlton Ave & Flu...|      11.0|\n",
            "|  E 91 St & Park Ave|      13.0|\n",
            "|39 St & 2 Ave - C...|       2.0|\n",
            "|   E 2 St & Avenue C|      89.0|\n",
            "|Washington St & G...|      19.0|\n",
            "+--------------------+----------+\n",
            "only showing top 20 rows\n",
            "\n"
          ]
        }
      ]
    },
    {
      "cell_type": "code",
      "source": [
        "data_start_day = start_day_spark_df.select(\"avg(count)\").collect()\n",
        "data_start_day = [l[0] for l in data_start_day]\n",
        "data_start_morning = start_morning_spark_df.select(\"avg(count)\").collect()\n",
        "data_start_morning = [l[0] for l in data_start_morning]\n",
        "data_start_evening = start_evening_spark_df.select(\"avg(count)\").collect()\n",
        "data_start_evening = [l[0] for l in data_start_evening]\n",
        "data_start_night = start_night_spark_df.select(\"avg(count)\").collect()\n",
        "data_start_night = [l[0] for l in data_start_night]\n",
        "data_end_day = end_day_spark_df.select(\"avg(count)\").collect()\n",
        "data_end_day = [l[0] for l in data_end_day]\n",
        "data_end_morning = end_morning_spark_df.select(\"avg(count)\").collect()\n",
        "data_end_morning = [l[0] for l in data_end_morning]\n",
        "data_end_evening = end_evening_spark_df.select(\"avg(count)\").collect()\n",
        "data_end_evening = [l[0] for l in data_end_evening]\n",
        "data_end_night = end_night_spark_df.select(\"avg(count)\").collect()\n",
        "data_end_night = [l[0] for l in data_end_night]\n"
      ],
      "metadata": {
        "id": "YMVoefg0i5aP"
      },
      "execution_count": 86,
      "outputs": []
    },
    {
      "cell_type": "code",
      "source": [
        "from datetime import datetime\n",
        "time_index = [\n",
        "    datetime.strptime(\"06:00:00\", '%H:%M:%S').time() for k in range(len(data_start_morning) + len(data_end_morning))\n",
        "] + \\\n",
        "[\n",
        "    datetime.strptime(\"12:00:00\", '%H:%M:%S').time() for k in range(len(data_start_day) + len(data_end_day))\n",
        "] + \\\n",
        "[\n",
        "    datetime.strptime(\"18:00:00\", '%H:%M:%S').time() for k in range(len(data_start_evening) + len(data_end_evening))\n",
        "] + \\\n",
        "[\n",
        "    datetime.strptime(\"00:00:00\", '%H:%M:%S').time() for k in range(len(data_start_night) + len(data_end_night))\n",
        "]\n",
        "data = data_start_morning + data_end_morning + data_start_day + data_end_day + data_start_evening + data_end_evening + data_start_night + data_end_night"
      ],
      "metadata": {
        "id": "HJP1ubfWl5F9"
      },
      "execution_count": 87,
      "outputs": []
    },
    {
      "cell_type": "code",
      "source": [
        "import folium\n",
        "import folium.plugins as plugins\n",
        "m = folium.Map([48., 5.], tiles='stamentoner', zoom_start=6)\n",
        "\n",
        "hm = plugins.HeatMapWithTime(\n",
        "    data,\n",
        "    index=time_index,\n",
        "    auto_play=True,\n",
        "    max_opacity=0.3\n",
        ")\n",
        "\n",
        "hm.add_to(m)\n",
        "\n",
        "m"
      ],
      "metadata": {
        "colab": {
          "base_uri": "https://localhost:8080/",
          "height": 1000
        },
        "id": "4S3k6woum8eh",
        "outputId": "cb34aeb4-a18e-4887-a90b-3db41d9afddc"
      },
      "execution_count": 88,
      "outputs": [
        {
          "output_type": "execute_result",
          "data": {
            "text/plain": [
              "<folium.folium.Map at 0x7f0148b06c20>"
            ],
            "text/html": [
              "<div style=\"width:100%;\"><div style=\"position:relative;width:100%;height:0;padding-bottom:60%;\"><span style=\"color:#565656\">Make this Notebook Trusted to load map: File -> Trust Notebook</span><iframe srcdoc=\"&lt;!DOCTYPE html&gt;\n",
              "&lt;html&gt;\n",
              "&lt;head&gt;\n",
              "    \n",
              "    &lt;meta http-equiv=&quot;content-type&quot; content=&quot;text/html; charset=UTF-8&quot; /&gt;\n",
              "    \n",
              "        &lt;script&gt;\n",
              "            L_NO_TOUCH = false;\n",
              "            L_DISABLE_3D = false;\n",
              "        &lt;/script&gt;\n",
              "    \n",
              "    &lt;style&gt;html, body {width: 100%;height: 100%;margin: 0;padding: 0;}&lt;/style&gt;\n",
              "    &lt;style&gt;#map {position:absolute;top:0;bottom:0;right:0;left:0;}&lt;/style&gt;\n",
              "    &lt;script src=&quot;https://cdn.jsdelivr.net/npm/leaflet@1.9.3/dist/leaflet.js&quot;&gt;&lt;/script&gt;\n",
              "    &lt;script src=&quot;https://code.jquery.com/jquery-1.12.4.min.js&quot;&gt;&lt;/script&gt;\n",
              "    &lt;script src=&quot;https://cdn.jsdelivr.net/npm/bootstrap@5.2.2/dist/js/bootstrap.bundle.min.js&quot;&gt;&lt;/script&gt;\n",
              "    &lt;script src=&quot;https://cdnjs.cloudflare.com/ajax/libs/Leaflet.awesome-markers/2.0.2/leaflet.awesome-markers.js&quot;&gt;&lt;/script&gt;\n",
              "    &lt;link rel=&quot;stylesheet&quot; href=&quot;https://cdn.jsdelivr.net/npm/leaflet@1.9.3/dist/leaflet.css&quot;/&gt;\n",
              "    &lt;link rel=&quot;stylesheet&quot; href=&quot;https://cdn.jsdelivr.net/npm/bootstrap@5.2.2/dist/css/bootstrap.min.css&quot;/&gt;\n",
              "    &lt;link rel=&quot;stylesheet&quot; href=&quot;https://netdna.bootstrapcdn.com/bootstrap/3.0.0/css/bootstrap.min.css&quot;/&gt;\n",
              "    &lt;link rel=&quot;stylesheet&quot; href=&quot;https://cdn.jsdelivr.net/npm/@fortawesome/fontawesome-free@6.2.0/css/all.min.css&quot;/&gt;\n",
              "    &lt;link rel=&quot;stylesheet&quot; href=&quot;https://cdnjs.cloudflare.com/ajax/libs/Leaflet.awesome-markers/2.0.2/leaflet.awesome-markers.css&quot;/&gt;\n",
              "    &lt;link rel=&quot;stylesheet&quot; href=&quot;https://cdn.jsdelivr.net/gh/python-visualization/folium/folium/templates/leaflet.awesome.rotate.min.css&quot;/&gt;\n",
              "    \n",
              "            &lt;meta name=&quot;viewport&quot; content=&quot;width=device-width,\n",
              "                initial-scale=1.0, maximum-scale=1.0, user-scalable=no&quot; /&gt;\n",
              "            &lt;style&gt;\n",
              "                #map_07359571ebab0e1c7bb313bcf309f0e1 {\n",
              "                    position: relative;\n",
              "                    width: 100.0%;\n",
              "                    height: 100.0%;\n",
              "                    left: 0.0%;\n",
              "                    top: 0.0%;\n",
              "                }\n",
              "                .leaflet-container { font-size: 1rem; }\n",
              "            &lt;/style&gt;\n",
              "        \n",
              "    &lt;script src=&quot;https://cdn.jsdelivr.net/npm/iso8601-js-period@0.2.1/iso8601.min.js&quot;&gt;&lt;/script&gt;\n",
              "    &lt;script src=&quot;https://cdn.jsdelivr.net/npm/leaflet-timedimension@1.1.1/dist/leaflet.timedimension.min.js&quot;&gt;&lt;/script&gt;\n",
              "    &lt;script src=&quot;https://cdn.jsdelivr.net/gh/python-visualization/folium/folium/templates/pa7_hm.min.js&quot;&gt;&lt;/script&gt;\n",
              "    &lt;script src=&quot;https://cdn.jsdelivr.net/gh/python-visualization/folium/folium/templates/pa7_leaflet_hm.min.js&quot;&gt;&lt;/script&gt;\n",
              "    &lt;link rel=&quot;stylesheet&quot; href=&quot;https://cdn.jsdelivr.net/npm/leaflet-timedimension@1.1.1/dist/leaflet.timedimension.control.css&quot;/&gt;\n",
              "    \n",
              "            &lt;script&gt;\n",
              "                var TDHeatmap = L.TimeDimension.Layer.extend({\n",
              "\n",
              "            initialize: function(data, options) {\n",
              "                var heatmapCfg = {\n",
              "                    radius: 15,\n",
              "                    blur: 0.8,\n",
              "                    maxOpacity: 1.,\n",
              "                    scaleRadius: false,\n",
              "                    useLocalExtrema: false,\n",
              "                    latField: &#x27;lat&#x27;,\n",
              "                    lngField: &#x27;lng&#x27;,\n",
              "                    valueField: &#x27;count&#x27;,\n",
              "                    defaultWeight : 1,\n",
              "                };\n",
              "                heatmapCfg = $.extend({}, heatmapCfg, options.heatmapOptions || {});\n",
              "                var layer = new HeatmapOverlay(heatmapCfg);\n",
              "                L.TimeDimension.Layer.prototype.initialize.call(this, layer, options);\n",
              "                this._currentLoadedTime = 0;\n",
              "                this._currentTimeData = {\n",
              "                    data: []\n",
              "                    };\n",
              "                this.data= data;\n",
              "                this.defaultWeight = heatmapCfg.defaultWeight || 1;\n",
              "            },\n",
              "            onAdd: function(map) {\n",
              "                L.TimeDimension.Layer.prototype.onAdd.call(this, map);\n",
              "                map.addLayer(this._baseLayer);\n",
              "                if (this._timeDimension) {\n",
              "                    this._getDataForTime(this._timeDimension.getCurrentTime());\n",
              "                }\n",
              "            },\n",
              "            _onNewTimeLoading: function(ev) {\n",
              "                this._getDataForTime(ev.time);\n",
              "                return;\n",
              "            },\n",
              "            isReady: function(time) {\n",
              "                return (this._currentLoadedTime == time);\n",
              "            },\n",
              "            _update: function() {\n",
              "                this._baseLayer.setData(this._currentTimeData);\n",
              "                return true;\n",
              "            },\n",
              "            _getDataForTime: function(time) {\n",
              "                    delete this._currentTimeData.data;\n",
              "                    this._currentTimeData.data = [];\n",
              "                    var data = this.data[time-1];\n",
              "                    for (var i = 0; i &lt; data.length; i++) {\n",
              "                        this._currentTimeData.data.push({\n",
              "                                lat: data[i][0],\n",
              "                                lng: data[i][1],\n",
              "                                count: data[i].length&gt;2 ? data[i][2] : this.defaultWeight\n",
              "                            });\n",
              "                        }\n",
              "                    this._currentLoadedTime = time;\n",
              "                    if (this._timeDimension &amp;&amp; time == this._timeDimension.getCurrentTime() &amp;&amp; !this._timeDimension.isLoading()) {\n",
              "                        this._update();\n",
              "                    }\n",
              "                    this.fire(&#x27;timeload&#x27;, {\n",
              "                        time: time\n",
              "                    });\n",
              "                }\n",
              "        });\n",
              "\n",
              "        L.Control.TimeDimensionCustom = L.Control.TimeDimension.extend({\n",
              "            initialize: function(index, options) {\n",
              "                var playerOptions = {\n",
              "                    buffer: 1,\n",
              "                    minBufferReady: -1\n",
              "                    };\n",
              "                options.playerOptions = $.extend({}, playerOptions, options.playerOptions || {});\n",
              "                L.Control.TimeDimension.prototype.initialize.call(this, options);\n",
              "                this.index = index;\n",
              "                },\n",
              "            _getDisplayDateFormat: function(date){\n",
              "                return this.index[date.getTime()-1];\n",
              "                }\n",
              "            });\n",
              "            &lt;/script&gt;\n",
              "                \n",
              "&lt;/head&gt;\n",
              "&lt;body&gt;\n",
              "    \n",
              "    \n",
              "            &lt;div class=&quot;folium-map&quot; id=&quot;map_07359571ebab0e1c7bb313bcf309f0e1&quot; &gt;&lt;/div&gt;\n",
              "        \n",
              "&lt;/body&gt;\n",
              "&lt;script&gt;\n",
              "    \n",
              "    \n",
              "            var map_07359571ebab0e1c7bb313bcf309f0e1 = L.map(\n",
              "                &quot;map_07359571ebab0e1c7bb313bcf309f0e1&quot;,\n",
              "                {\n",
              "                    center: [48.0, 5.0],\n",
              "                    crs: L.CRS.EPSG3857,\n",
              "                    zoom: 6,\n",
              "                    zoomControl: true,\n",
              "                    preferCanvas: false,\n",
              "                }\n",
              "            );\n",
              "\n",
              "            \n",
              "\n",
              "        \n",
              "    \n",
              "            var tile_layer_5944ba8c9643428b496f6b183032a75f = L.tileLayer(\n",
              "                &quot;https://stamen-tiles-{s}.a.ssl.fastly.net/toner/{z}/{x}/{y}.png&quot;,\n",
              "                {&quot;attribution&quot;: &quot;Map tiles by \\u003ca target=\\&quot;_blank\\&quot; href=\\&quot;http://stamen.com\\&quot;\\u003eStamen Design\\u003c/a\\u003e, under \\u003ca target=\\&quot;_blank\\&quot; href=\\&quot;http://creativecommons.org/licenses/by/3.0\\&quot;\\u003eCC BY 3.0\\u003c/a\\u003e. Data by \\u0026copy; \\u003ca target=\\&quot;_blank\\&quot; href=\\&quot;http://openstreetmap.org\\&quot;\\u003eOpenStreetMap\\u003c/a\\u003e, under \\u003ca target=\\&quot;_blank\\&quot; href=\\&quot;http://www.openstreetmap.org/copyright\\&quot;\\u003eODbL\\u003c/a\\u003e.&quot;, &quot;detectRetina&quot;: false, &quot;maxNativeZoom&quot;: 18, &quot;maxZoom&quot;: 18, &quot;minZoom&quot;: 0, &quot;noWrap&quot;: false, &quot;opacity&quot;: 1, &quot;subdomains&quot;: &quot;abc&quot;, &quot;tms&quot;: false}\n",
              "            ).addTo(map_07359571ebab0e1c7bb313bcf309f0e1);\n",
              "        \n",
              "    \n",
              "\n",
              "            var times = [1, 2, 3, 4, 5, 6, 7, 8, 9, 10, 11, 12, 13, 14, 15, 16, 17, 18, 19, 20, 21, 22, 23, 24, 25, 26, 27, 28, 29, 30, 31, 32, 33, 34, 35, 36, 37, 38, 39, 40, 41, 42, 43, 44, 45, 46, 47, 48, 49, 50, 51, 52, 53, 54, 55, 56, 57, 58, 59, 60, 61, 62, 63, 64, 65, 66, 67, 68, 69, 70, 71, 72, 73, 74, 75, 76, 77, 78, 79, 80, 81, 82, 83, 84, 85, 86, 87, 88, 89, 90, 91, 92, 93, 94, 95, 96, 97, 98, 99, 100, 101, 102, 103, 104, 105, 106, 107, 108, 109, 110, 111, 112, 113, 114, 115, 116, 117, 118, 119, 120, 121, 122, 123, 124, 125, 126, 127, 128, 129, 130, 131, 132, 133, 134, 135, 136, 137, 138, 139, 140, 141, 142, 143, 144, 145, 146, 147, 148, 149, 150, 151, 152, 153, 154, 155, 156, 157, 158, 159, 160, 161, 162, 163, 164, 165, 166, 167, 168, 169, 170, 171, 172, 173, 174, 175, 176, 177, 178, 179, 180, 181, 182, 183, 184, 185, 186, 187, 188, 189, 190, 191, 192, 193, 194, 195, 196, 197, 198, 199, 200, 201, 202, 203, 204, 205, 206, 207, 208, 209, 210, 211, 212, 213, 214, 215, 216, 217, 218, 219, 220, 221, 222, 223, 224, 225, 226, 227, 228, 229, 230, 231, 232, 233, 234, 235, 236, 237, 238, 239, 240, 241, 242, 243, 244, 245, 246, 247, 248, 249, 250, 251, 252, 253, 254, 255, 256, 257, 258, 259, 260, 261, 262, 263, 264, 265, 266, 267, 268, 269, 270, 271, 272, 273, 274, 275, 276, 277, 278, 279, 280, 281, 282, 283, 284, 285, 286, 287, 288, 289, 290, 291, 292, 293, 294, 295, 296, 297, 298, 299, 300, 301, 302, 303, 304, 305, 306, 307, 308, 309, 310, 311, 312, 313, 314, 315, 316, 317, 318, 319, 320, 321, 322, 323, 324, 325, 326, 327, 328, 329, 330, 331, 332, 333, 334, 335, 336, 337, 338, 339, 340, 341, 342, 343, 344, 345, 346, 347, 348, 349, 350, 351, 352, 353, 354, 355, 356, 357, 358, 359, 360, 361, 362, 363, 364, 365, 366, 367, 368, 369, 370, 371, 372, 373, 374, 375, 376, 377, 378, 379, 380, 381, 382, 383, 384, 385, 386, 387, 388, 389, 390, 391, 392, 393, 394, 395, 396, 397, 398, 399, 400, 401, 402, 403, 404, 405, 406, 407, 408, 409, 410, 411, 412, 413, 414, 415, 416, 417, 418, 419, 420, 421, 422, 423, 424, 425, 426, 427, 428, 429, 430, 431, 432, 433, 434, 435, 436, 437, 438, 439, 440, 441, 442, 443, 444, 445, 446, 447, 448, 449, 450, 451, 452, 453, 454, 455, 456, 457, 458, 459, 460, 461, 462, 463, 464, 465, 466, 467, 468, 469, 470, 471, 472, 473, 474, 475, 476, 477, 478, 479, 480, 481, 482, 483, 484, 485, 486, 487, 488, 489, 490, 491, 492, 493, 494, 495, 496, 497, 498, 499, 500, 501, 502, 503, 504, 505, 506, 507, 508, 509, 510, 511, 512, 513, 514, 515, 516, 517, 518, 519, 520, 521, 522, 523, 524, 525, 526, 527, 528, 529, 530, 531, 532, 533, 534, 535, 536, 537, 538, 539, 540, 541, 542, 543, 544, 545, 546, 547, 548, 549, 550, 551, 552, 553, 554, 555, 556, 557, 558, 559, 560, 561, 562, 563, 564, 565, 566, 567, 568, 569, 570, 571, 572, 573, 574, 575, 576, 577, 578, 579, 580, 581, 582, 583, 584, 585, 586, 587, 588, 589, 590, 591, 592, 593, 594, 595, 596, 597, 598, 599, 600, 601, 602, 603, 604, 605, 606, 607, 608, 609, 610, 611, 612, 613, 614, 615, 616, 617, 618, 619, 620, 621, 622, 623, 624, 625, 626, 627, 628, 629, 630, 631, 632, 633, 634, 635, 636, 637, 638, 639, 640, 641, 642, 643, 644, 645, 646, 647, 648, 649, 650, 651, 652, 653, 654, 655, 656, 657, 658, 659, 660, 661, 662, 663, 664, 665, 666, 667, 668, 669, 670, 671, 672, 673, 674, 675, 676, 677, 678, 679, 680, 681, 682, 683, 684, 685, 686, 687, 688, 689, 690, 691, 692, 693, 694, 695, 696, 697, 698, 699, 700, 701, 702, 703, 704, 705, 706, 707, 708, 709, 710, 711, 712, 713, 714, 715, 716, 717, 718, 719, 720, 721, 722, 723, 724, 725, 726, 727, 728, 729, 730, 731, 732, 733, 734, 735, 736, 737, 738, 739, 740, 741, 742, 743, 744, 745, 746, 747, 748, 749, 750, 751, 752, 753, 754, 755, 756, 757, 758, 759, 760, 761, 762, 763, 764, 765, 766, 767, 768, 769, 770, 771, 772, 773, 774, 775, 776, 777, 778, 779, 780, 781, 782, 783, 784, 785, 786, 787, 788, 789, 790, 791, 792, 793, 794, 795, 796, 797, 798, 799, 800, 801, 802, 803, 804, 805, 806, 807, 808, 809, 810, 811, 812, 813, 814, 815, 816, 817, 818, 819, 820, 821, 822, 823, 824, 825, 826, 827, 828, 829, 830, 831, 832, 833, 834, 835, 836, 837, 838, 839, 840, 841, 842, 843, 844, 845, 846, 847, 848, 849, 850, 851, 852, 853, 854, 855, 856, 857, 858, 859, 860, 861, 862, 863, 864, 865, 866, 867, 868, 869, 870, 871, 872, 873, 874, 875, 876, 877, 878, 879, 880, 881, 882, 883, 884, 885, 886, 887, 888, 889, 890, 891, 892, 893, 894, 895, 896, 897, 898, 899, 900, 901, 902, 903, 904, 905, 906, 907, 908, 909, 910, 911, 912, 913, 914, 915, 916, 917, 918, 919, 920, 921, 922, 923, 924, 925, 926, 927, 928, 929, 930, 931, 932, 933, 934, 935, 936, 937, 938, 939, 940, 941, 942, 943, 944, 945, 946, 947, 948, 949, 950, 951, 952, 953, 954, 955, 956, 957, 958, 959, 960, 961, 962, 963, 964, 965, 966, 967, 968, 969, 970, 971, 972, 973, 974, 975, 976, 977, 978, 979, 980, 981, 982, 983, 984, 985, 986, 987, 988, 989, 990, 991, 992, 993, 994, 995, 996, 997, 998, 999, 1000, 1001, 1002, 1003, 1004, 1005, 1006, 1007, 1008, 1009, 1010, 1011, 1012, 1013, 1014, 1015, 1016, 1017, 1018, 1019, 1020, 1021, 1022, 1023, 1024, 1025, 1026, 1027, 1028, 1029, 1030, 1031, 1032, 1033, 1034, 1035, 1036, 1037, 1038, 1039, 1040, 1041, 1042, 1043, 1044, 1045, 1046, 1047, 1048, 1049, 1050, 1051, 1052, 1053, 1054, 1055, 1056, 1057, 1058, 1059, 1060, 1061, 1062, 1063, 1064, 1065, 1066, 1067, 1068, 1069, 1070, 1071, 1072, 1073, 1074, 1075, 1076, 1077, 1078, 1079, 1080, 1081, 1082, 1083, 1084, 1085, 1086, 1087, 1088, 1089, 1090, 1091, 1092, 1093, 1094, 1095, 1096, 1097, 1098, 1099, 1100, 1101, 1102, 1103, 1104, 1105, 1106, 1107, 1108, 1109, 1110, 1111, 1112, 1113, 1114, 1115, 1116, 1117, 1118, 1119, 1120, 1121, 1122, 1123, 1124, 1125, 1126, 1127, 1128, 1129, 1130, 1131, 1132, 1133, 1134, 1135, 1136, 1137, 1138, 1139, 1140, 1141, 1142, 1143, 1144, 1145, 1146, 1147, 1148, 1149, 1150, 1151, 1152, 1153, 1154, 1155, 1156, 1157, 1158, 1159, 1160, 1161, 1162, 1163, 1164, 1165, 1166, 1167, 1168, 1169, 1170, 1171, 1172, 1173, 1174, 1175, 1176, 1177, 1178, 1179, 1180, 1181, 1182, 1183, 1184, 1185, 1186, 1187, 1188, 1189, 1190, 1191, 1192, 1193, 1194, 1195, 1196, 1197, 1198, 1199, 1200, 1201, 1202, 1203, 1204, 1205, 1206, 1207, 1208, 1209, 1210, 1211, 1212, 1213, 1214, 1215, 1216, 1217, 1218, 1219, 1220, 1221, 1222, 1223, 1224, 1225, 1226, 1227, 1228, 1229, 1230, 1231, 1232, 1233, 1234, 1235, 1236, 1237, 1238, 1239, 1240, 1241, 1242, 1243, 1244, 1245, 1246, 1247, 1248, 1249, 1250, 1251, 1252, 1253, 1254, 1255, 1256, 1257, 1258, 1259, 1260, 1261, 1262, 1263, 1264, 1265, 1266, 1267, 1268, 1269, 1270, 1271, 1272, 1273, 1274, 1275, 1276, 1277, 1278, 1279, 1280, 1281, 1282, 1283, 1284, 1285, 1286, 1287, 1288, 1289, 1290, 1291, 1292, 1293, 1294, 1295, 1296, 1297, 1298, 1299, 1300, 1301, 1302, 1303, 1304, 1305, 1306, 1307, 1308, 1309, 1310, 1311, 1312, 1313, 1314, 1315, 1316, 1317, 1318, 1319, 1320, 1321, 1322, 1323, 1324, 1325, 1326, 1327, 1328, 1329, 1330, 1331, 1332, 1333, 1334, 1335, 1336, 1337, 1338, 1339, 1340, 1341, 1342, 1343, 1344, 1345, 1346, 1347, 1348, 1349, 1350, 1351, 1352, 1353, 1354, 1355, 1356, 1357, 1358, 1359, 1360, 1361, 1362, 1363, 1364, 1365, 1366, 1367, 1368, 1369, 1370, 1371, 1372, 1373, 1374, 1375, 1376, 1377, 1378, 1379, 1380, 1381, 1382, 1383, 1384, 1385, 1386, 1387, 1388, 1389, 1390, 1391, 1392, 1393, 1394, 1395, 1396, 1397, 1398, 1399, 1400, 1401, 1402, 1403, 1404, 1405, 1406, 1407, 1408, 1409, 1410, 1411, 1412, 1413, 1414, 1415, 1416, 1417, 1418, 1419, 1420, 1421, 1422, 1423, 1424, 1425, 1426, 1427, 1428, 1429, 1430, 1431, 1432, 1433, 1434, 1435, 1436, 1437, 1438, 1439, 1440, 1441, 1442, 1443, 1444, 1445, 1446, 1447, 1448, 1449, 1450, 1451, 1452, 1453, 1454, 1455, 1456, 1457, 1458, 1459, 1460, 1461, 1462, 1463, 1464, 1465, 1466, 1467, 1468, 1469, 1470, 1471, 1472, 1473, 1474, 1475, 1476, 1477, 1478, 1479, 1480, 1481, 1482, 1483, 1484, 1485, 1486, 1487, 1488, 1489, 1490, 1491, 1492, 1493, 1494, 1495, 1496, 1497, 1498, 1499, 1500, 1501, 1502, 1503, 1504, 1505, 1506, 1507, 1508, 1509, 1510, 1511, 1512, 1513, 1514, 1515, 1516, 1517, 1518, 1519, 1520, 1521, 1522, 1523, 1524, 1525, 1526, 1527, 1528, 1529, 1530, 1531, 1532, 1533, 1534, 1535, 1536, 1537, 1538, 1539, 1540, 1541, 1542, 1543, 1544, 1545, 1546, 1547, 1548, 1549, 1550, 1551, 1552, 1553, 1554, 1555, 1556, 1557, 1558, 1559, 1560, 1561, 1562, 1563, 1564, 1565, 1566, 1567, 1568, 1569, 1570, 1571, 1572, 1573, 1574, 1575, 1576, 1577, 1578, 1579, 1580, 1581, 1582, 1583, 1584, 1585, 1586, 1587, 1588, 1589, 1590, 1591, 1592, 1593, 1594, 1595, 1596, 1597, 1598, 1599, 1600, 1601, 1602, 1603, 1604, 1605, 1606, 1607, 1608, 1609, 1610, 1611, 1612, 1613, 1614, 1615, 1616, 1617, 1618, 1619, 1620, 1621, 1622, 1623, 1624, 1625, 1626, 1627, 1628, 1629, 1630, 1631, 1632, 1633, 1634, 1635, 1636, 1637, 1638, 1639, 1640, 1641, 1642, 1643, 1644, 1645, 1646, 1647, 1648, 1649, 1650, 1651, 1652, 1653, 1654, 1655, 1656, 1657, 1658, 1659, 1660, 1661, 1662, 1663, 1664, 1665, 1666, 1667, 1668, 1669, 1670, 1671, 1672, 1673, 1674, 1675, 1676, 1677, 1678, 1679, 1680, 1681, 1682, 1683, 1684, 1685, 1686, 1687, 1688, 1689, 1690, 1691, 1692, 1693, 1694, 1695, 1696, 1697, 1698, 1699, 1700, 1701, 1702, 1703, 1704, 1705, 1706, 1707, 1708, 1709, 1710, 1711, 1712, 1713, 1714, 1715, 1716, 1717, 1718, 1719, 1720, 1721, 1722, 1723, 1724, 1725, 1726, 1727, 1728, 1729, 1730, 1731, 1732, 1733, 1734, 1735, 1736, 1737, 1738, 1739, 1740, 1741, 1742, 1743, 1744, 1745, 1746, 1747, 1748, 1749, 1750, 1751, 1752, 1753, 1754, 1755, 1756, 1757, 1758, 1759, 1760, 1761, 1762, 1763, 1764, 1765, 1766, 1767, 1768, 1769, 1770, 1771, 1772, 1773, 1774, 1775, 1776, 1777, 1778, 1779, 1780, 1781, 1782, 1783, 1784, 1785, 1786, 1787, 1788, 1789, 1790, 1791, 1792, 1793, 1794, 1795, 1796, 1797, 1798, 1799, 1800, 1801, 1802, 1803, 1804, 1805, 1806, 1807, 1808, 1809, 1810, 1811, 1812, 1813, 1814, 1815, 1816, 1817, 1818, 1819, 1820, 1821, 1822, 1823, 1824, 1825, 1826, 1827, 1828, 1829, 1830, 1831, 1832, 1833, 1834, 1835, 1836, 1837, 1838, 1839, 1840, 1841, 1842, 1843, 1844, 1845, 1846, 1847, 1848, 1849, 1850, 1851, 1852, 1853, 1854, 1855, 1856, 1857, 1858, 1859, 1860, 1861, 1862, 1863, 1864, 1865, 1866, 1867, 1868, 1869, 1870, 1871, 1872, 1873, 1874, 1875, 1876, 1877, 1878, 1879, 1880, 1881, 1882, 1883, 1884, 1885, 1886, 1887, 1888, 1889, 1890, 1891, 1892, 1893, 1894, 1895, 1896, 1897, 1898, 1899, 1900, 1901, 1902, 1903, 1904, 1905, 1906, 1907, 1908, 1909, 1910, 1911, 1912, 1913, 1914, 1915, 1916, 1917, 1918, 1919, 1920, 1921, 1922, 1923, 1924, 1925, 1926, 1927, 1928, 1929, 1930, 1931, 1932, 1933, 1934, 1935, 1936, 1937, 1938, 1939, 1940, 1941, 1942, 1943, 1944, 1945, 1946, 1947, 1948, 1949, 1950, 1951, 1952, 1953, 1954, 1955, 1956, 1957, 1958, 1959, 1960, 1961, 1962, 1963, 1964, 1965, 1966, 1967, 1968, 1969, 1970, 1971, 1972, 1973, 1974, 1975, 1976, 1977, 1978, 1979, 1980, 1981, 1982, 1983, 1984, 1985, 1986, 1987, 1988, 1989, 1990, 1991, 1992, 1993, 1994, 1995, 1996, 1997, 1998, 1999, 2000, 2001, 2002, 2003, 2004, 2005, 2006, 2007, 2008, 2009, 2010, 2011, 2012, 2013, 2014, 2015, 2016, 2017, 2018, 2019, 2020, 2021, 2022, 2023, 2024, 2025, 2026, 2027, 2028, 2029, 2030, 2031, 2032, 2033, 2034, 2035, 2036, 2037, 2038, 2039, 2040, 2041, 2042, 2043, 2044, 2045, 2046, 2047, 2048, 2049, 2050, 2051, 2052, 2053, 2054, 2055, 2056, 2057, 2058, 2059, 2060, 2061, 2062, 2063, 2064, 2065, 2066, 2067, 2068, 2069, 2070, 2071, 2072, 2073, 2074, 2075, 2076, 2077, 2078, 2079, 2080, 2081, 2082, 2083, 2084, 2085, 2086, 2087, 2088, 2089, 2090, 2091, 2092, 2093, 2094, 2095, 2096, 2097, 2098, 2099, 2100, 2101, 2102, 2103, 2104, 2105, 2106, 2107, 2108, 2109, 2110, 2111, 2112, 2113, 2114, 2115, 2116, 2117, 2118, 2119, 2120, 2121, 2122, 2123, 2124, 2125, 2126, 2127, 2128, 2129, 2130, 2131, 2132, 2133, 2134, 2135, 2136, 2137, 2138, 2139, 2140, 2141, 2142, 2143, 2144, 2145, 2146, 2147, 2148, 2149, 2150, 2151, 2152, 2153, 2154, 2155, 2156, 2157, 2158, 2159, 2160, 2161, 2162, 2163, 2164, 2165, 2166, 2167, 2168, 2169, 2170, 2171, 2172, 2173, 2174, 2175, 2176, 2177, 2178, 2179, 2180, 2181, 2182, 2183, 2184, 2185, 2186, 2187, 2188, 2189, 2190, 2191, 2192, 2193, 2194, 2195, 2196, 2197, 2198, 2199, 2200, 2201, 2202, 2203, 2204, 2205, 2206, 2207, 2208, 2209, 2210, 2211, 2212, 2213, 2214, 2215, 2216, 2217, 2218, 2219, 2220, 2221, 2222, 2223, 2224, 2225, 2226, 2227, 2228, 2229, 2230, 2231, 2232, 2233, 2234, 2235, 2236, 2237, 2238, 2239, 2240, 2241, 2242, 2243, 2244, 2245, 2246, 2247, 2248, 2249, 2250, 2251, 2252, 2253, 2254, 2255, 2256, 2257, 2258, 2259, 2260, 2261, 2262, 2263, 2264, 2265, 2266, 2267, 2268, 2269, 2270, 2271, 2272, 2273, 2274, 2275, 2276, 2277, 2278, 2279, 2280, 2281, 2282, 2283, 2284, 2285, 2286, 2287, 2288, 2289, 2290, 2291, 2292, 2293, 2294, 2295, 2296, 2297, 2298, 2299, 2300, 2301, 2302, 2303, 2304, 2305, 2306, 2307, 2308, 2309, 2310, 2311, 2312, 2313, 2314, 2315, 2316, 2317, 2318, 2319, 2320, 2321, 2322, 2323, 2324, 2325, 2326, 2327, 2328, 2329, 2330, 2331, 2332, 2333, 2334, 2335, 2336, 2337, 2338, 2339, 2340, 2341, 2342, 2343, 2344, 2345, 2346, 2347, 2348, 2349, 2350, 2351, 2352, 2353, 2354, 2355, 2356, 2357, 2358, 2359, 2360, 2361, 2362, 2363, 2364, 2365, 2366, 2367, 2368, 2369, 2370, 2371, 2372, 2373, 2374, 2375, 2376, 2377, 2378, 2379, 2380, 2381, 2382, 2383, 2384, 2385, 2386, 2387, 2388, 2389, 2390, 2391, 2392, 2393, 2394, 2395, 2396, 2397, 2398, 2399, 2400, 2401, 2402, 2403, 2404, 2405, 2406, 2407, 2408, 2409, 2410, 2411, 2412, 2413, 2414, 2415, 2416, 2417, 2418, 2419, 2420, 2421, 2422, 2423, 2424, 2425, 2426, 2427, 2428, 2429, 2430, 2431, 2432, 2433, 2434, 2435, 2436, 2437, 2438, 2439, 2440, 2441, 2442, 2443, 2444, 2445, 2446, 2447, 2448, 2449, 2450, 2451, 2452, 2453, 2454, 2455, 2456, 2457, 2458, 2459, 2460, 2461, 2462, 2463, 2464, 2465, 2466, 2467, 2468, 2469, 2470, 2471, 2472, 2473, 2474, 2475, 2476, 2477, 2478, 2479, 2480, 2481, 2482, 2483, 2484, 2485, 2486, 2487, 2488, 2489, 2490, 2491, 2492, 2493, 2494, 2495, 2496, 2497, 2498, 2499, 2500, 2501, 2502, 2503, 2504, 2505, 2506, 2507, 2508, 2509, 2510, 2511, 2512, 2513, 2514, 2515, 2516, 2517, 2518, 2519, 2520, 2521, 2522, 2523, 2524, 2525, 2526, 2527, 2528, 2529, 2530, 2531, 2532, 2533, 2534, 2535, 2536, 2537, 2538, 2539, 2540, 2541, 2542, 2543, 2544, 2545, 2546, 2547, 2548, 2549, 2550, 2551, 2552, 2553, 2554, 2555, 2556, 2557, 2558, 2559, 2560, 2561, 2562, 2563, 2564, 2565, 2566, 2567, 2568, 2569, 2570, 2571, 2572, 2573, 2574, 2575, 2576, 2577, 2578, 2579, 2580, 2581, 2582, 2583, 2584, 2585, 2586, 2587, 2588, 2589, 2590, 2591, 2592, 2593, 2594, 2595, 2596, 2597, 2598, 2599, 2600, 2601, 2602, 2603, 2604, 2605, 2606, 2607, 2608, 2609, 2610, 2611, 2612, 2613, 2614, 2615, 2616, 2617, 2618, 2619, 2620, 2621, 2622, 2623, 2624, 2625, 2626, 2627, 2628, 2629, 2630, 2631, 2632, 2633, 2634, 2635, 2636, 2637, 2638, 2639, 2640, 2641, 2642, 2643, 2644, 2645, 2646, 2647, 2648, 2649, 2650, 2651, 2652, 2653, 2654, 2655, 2656, 2657, 2658, 2659, 2660, 2661, 2662, 2663, 2664, 2665, 2666, 2667, 2668, 2669, 2670, 2671, 2672, 2673, 2674, 2675, 2676, 2677, 2678, 2679, 2680, 2681, 2682, 2683, 2684, 2685, 2686, 2687, 2688, 2689, 2690, 2691, 2692, 2693, 2694, 2695, 2696, 2697, 2698, 2699, 2700, 2701, 2702, 2703, 2704, 2705, 2706, 2707, 2708, 2709, 2710, 2711, 2712, 2713, 2714, 2715, 2716, 2717, 2718, 2719, 2720, 2721, 2722, 2723, 2724, 2725, 2726, 2727, 2728, 2729, 2730, 2731, 2732, 2733, 2734, 2735, 2736, 2737, 2738, 2739, 2740, 2741, 2742, 2743, 2744, 2745, 2746, 2747, 2748, 2749, 2750, 2751, 2752, 2753, 2754, 2755, 2756, 2757, 2758, 2759, 2760, 2761, 2762, 2763, 2764, 2765, 2766, 2767, 2768, 2769, 2770, 2771, 2772, 2773, 2774, 2775, 2776, 2777, 2778, 2779, 2780, 2781, 2782, 2783, 2784, 2785, 2786, 2787, 2788, 2789, 2790, 2791, 2792, 2793, 2794, 2795, 2796, 2797, 2798, 2799, 2800, 2801, 2802, 2803, 2804, 2805, 2806, 2807, 2808, 2809, 2810, 2811, 2812, 2813, 2814, 2815, 2816, 2817, 2818, 2819, 2820, 2821, 2822, 2823, 2824, 2825, 2826, 2827, 2828, 2829, 2830, 2831, 2832, 2833, 2834, 2835, 2836, 2837, 2838, 2839, 2840, 2841, 2842, 2843, 2844, 2845, 2846, 2847, 2848, 2849, 2850, 2851, 2852, 2853, 2854, 2855, 2856, 2857, 2858, 2859, 2860, 2861, 2862, 2863, 2864, 2865, 2866, 2867, 2868, 2869, 2870, 2871, 2872, 2873, 2874, 2875, 2876, 2877, 2878, 2879, 2880, 2881, 2882, 2883, 2884, 2885, 2886, 2887, 2888, 2889, 2890, 2891, 2892, 2893, 2894, 2895, 2896, 2897, 2898, 2899, 2900, 2901, 2902, 2903, 2904, 2905, 2906, 2907, 2908, 2909, 2910, 2911, 2912, 2913, 2914, 2915, 2916, 2917, 2918, 2919, 2920, 2921, 2922, 2923, 2924, 2925, 2926, 2927, 2928, 2929, 2930, 2931, 2932, 2933, 2934, 2935, 2936, 2937, 2938, 2939, 2940, 2941, 2942, 2943, 2944, 2945, 2946, 2947, 2948, 2949, 2950, 2951, 2952, 2953, 2954, 2955, 2956, 2957, 2958, 2959, 2960, 2961, 2962, 2963, 2964, 2965, 2966, 2967, 2968, 2969, 2970, 2971, 2972, 2973, 2974, 2975, 2976, 2977, 2978, 2979, 2980, 2981, 2982, 2983, 2984, 2985, 2986, 2987, 2988, 2989, 2990, 2991, 2992, 2993, 2994, 2995, 2996, 2997, 2998, 2999, 3000, 3001, 3002, 3003, 3004, 3005, 3006, 3007, 3008, 3009, 3010, 3011, 3012, 3013, 3014, 3015, 3016, 3017, 3018, 3019, 3020, 3021, 3022, 3023, 3024, 3025, 3026, 3027, 3028, 3029, 3030, 3031, 3032, 3033, 3034, 3035, 3036, 3037, 3038, 3039, 3040, 3041, 3042, 3043, 3044, 3045, 3046, 3047, 3048, 3049, 3050, 3051, 3052, 3053, 3054, 3055, 3056, 3057, 3058, 3059, 3060, 3061, 3062, 3063, 3064, 3065, 3066, 3067, 3068, 3069, 3070, 3071, 3072, 3073, 3074, 3075, 3076, 3077, 3078, 3079, 3080, 3081, 3082, 3083, 3084, 3085, 3086, 3087, 3088, 3089, 3090, 3091, 3092, 3093, 3094, 3095, 3096, 3097, 3098, 3099, 3100, 3101, 3102, 3103, 3104, 3105, 3106, 3107, 3108, 3109, 3110, 3111, 3112, 3113, 3114, 3115, 3116, 3117, 3118, 3119, 3120, 3121, 3122, 3123, 3124, 3125, 3126, 3127, 3128, 3129, 3130, 3131, 3132, 3133, 3134, 3135, 3136, 3137, 3138, 3139, 3140, 3141, 3142, 3143, 3144, 3145, 3146, 3147, 3148, 3149, 3150, 3151, 3152, 3153, 3154, 3155, 3156, 3157, 3158, 3159, 3160, 3161, 3162, 3163, 3164, 3165, 3166, 3167, 3168, 3169, 3170, 3171, 3172, 3173, 3174, 3175, 3176, 3177, 3178, 3179, 3180, 3181, 3182, 3183, 3184, 3185, 3186, 3187, 3188, 3189, 3190, 3191, 3192, 3193, 3194, 3195, 3196, 3197, 3198, 3199, 3200, 3201, 3202, 3203, 3204, 3205, 3206, 3207, 3208, 3209, 3210, 3211, 3212, 3213, 3214, 3215, 3216, 3217, 3218, 3219, 3220, 3221, 3222, 3223, 3224, 3225, 3226, 3227, 3228, 3229, 3230, 3231, 3232, 3233, 3234, 3235, 3236, 3237, 3238, 3239, 3240, 3241, 3242, 3243, 3244, 3245, 3246, 3247, 3248, 3249, 3250, 3251, 3252, 3253, 3254, 3255, 3256, 3257, 3258, 3259, 3260, 3261, 3262, 3263, 3264, 3265, 3266, 3267, 3268, 3269, 3270, 3271, 3272, 3273, 3274, 3275, 3276, 3277, 3278, 3279, 3280, 3281, 3282, 3283, 3284, 3285, 3286, 3287, 3288, 3289, 3290, 3291, 3292, 3293, 3294, 3295, 3296, 3297, 3298, 3299, 3300, 3301, 3302, 3303, 3304, 3305, 3306, 3307, 3308, 3309, 3310, 3311, 3312, 3313, 3314, 3315, 3316, 3317, 3318, 3319, 3320, 3321, 3322, 3323, 3324, 3325, 3326, 3327, 3328, 3329, 3330, 3331, 3332, 3333, 3334, 3335, 3336, 3337, 3338, 3339, 3340, 3341, 3342, 3343, 3344, 3345, 3346, 3347, 3348, 3349, 3350, 3351, 3352, 3353, 3354, 3355, 3356, 3357, 3358, 3359, 3360, 3361, 3362, 3363, 3364, 3365, 3366, 3367, 3368, 3369, 3370, 3371, 3372, 3373, 3374, 3375, 3376, 3377, 3378, 3379, 3380, 3381, 3382, 3383, 3384, 3385, 3386, 3387, 3388, 3389, 3390, 3391, 3392, 3393, 3394, 3395, 3396, 3397, 3398, 3399, 3400, 3401, 3402, 3403, 3404, 3405, 3406, 3407, 3408, 3409, 3410, 3411, 3412, 3413, 3414, 3415, 3416, 3417, 3418, 3419, 3420, 3421, 3422, 3423, 3424, 3425, 3426, 3427, 3428, 3429, 3430, 3431, 3432, 3433, 3434, 3435, 3436, 3437, 3438, 3439, 3440, 3441, 3442, 3443, 3444, 3445, 3446, 3447, 3448, 3449, 3450, 3451, 3452, 3453, 3454, 3455, 3456, 3457, 3458, 3459, 3460, 3461, 3462, 3463, 3464, 3465, 3466, 3467, 3468, 3469, 3470, 3471, 3472, 3473, 3474, 3475, 3476, 3477, 3478, 3479, 3480, 3481, 3482, 3483, 3484, 3485, 3486, 3487, 3488, 3489, 3490, 3491, 3492, 3493, 3494, 3495, 3496, 3497, 3498, 3499, 3500, 3501, 3502, 3503, 3504, 3505, 3506, 3507, 3508, 3509, 3510, 3511, 3512, 3513, 3514, 3515, 3516, 3517, 3518, 3519, 3520, 3521, 3522, 3523, 3524, 3525, 3526, 3527, 3528, 3529, 3530, 3531, 3532, 3533, 3534, 3535, 3536, 3537, 3538, 3539, 3540, 3541, 3542, 3543, 3544, 3545, 3546, 3547, 3548, 3549, 3550, 3551, 3552, 3553, 3554, 3555, 3556, 3557, 3558, 3559, 3560, 3561, 3562, 3563, 3564, 3565, 3566, 3567, 3568, 3569, 3570, 3571, 3572, 3573, 3574, 3575, 3576, 3577, 3578, 3579, 3580, 3581, 3582, 3583, 3584, 3585, 3586, 3587, 3588, 3589, 3590, 3591, 3592, 3593, 3594, 3595, 3596, 3597, 3598, 3599, 3600, 3601, 3602, 3603, 3604, 3605, 3606, 3607, 3608, 3609, 3610, 3611, 3612, 3613, 3614, 3615, 3616, 3617, 3618, 3619, 3620, 3621, 3622, 3623, 3624, 3625, 3626, 3627, 3628, 3629, 3630, 3631, 3632, 3633, 3634, 3635, 3636, 3637, 3638, 3639, 3640, 3641, 3642, 3643, 3644, 3645, 3646, 3647, 3648, 3649, 3650, 3651, 3652, 3653, 3654, 3655, 3656, 3657, 3658, 3659, 3660, 3661, 3662, 3663, 3664, 3665, 3666, 3667, 3668, 3669, 3670, 3671, 3672, 3673, 3674, 3675, 3676, 3677, 3678, 3679, 3680, 3681, 3682, 3683, 3684, 3685, 3686, 3687, 3688, 3689, 3690, 3691, 3692, 3693, 3694, 3695, 3696, 3697, 3698, 3699, 3700, 3701, 3702, 3703, 3704, 3705, 3706, 3707, 3708, 3709, 3710, 3711, 3712, 3713, 3714, 3715, 3716, 3717, 3718, 3719, 3720, 3721, 3722, 3723, 3724, 3725, 3726, 3727, 3728, 3729, 3730, 3731, 3732, 3733, 3734, 3735, 3736, 3737, 3738, 3739, 3740, 3741, 3742, 3743, 3744, 3745, 3746, 3747, 3748, 3749, 3750, 3751, 3752, 3753, 3754, 3755, 3756, 3757, 3758, 3759, 3760, 3761, 3762, 3763, 3764, 3765, 3766, 3767, 3768, 3769, 3770, 3771, 3772, 3773, 3774, 3775, 3776, 3777, 3778, 3779, 3780, 3781, 3782, 3783, 3784, 3785, 3786, 3787, 3788, 3789, 3790, 3791, 3792, 3793, 3794, 3795, 3796, 3797, 3798, 3799, 3800, 3801, 3802, 3803, 3804, 3805, 3806, 3807, 3808, 3809, 3810, 3811, 3812, 3813, 3814, 3815, 3816, 3817, 3818, 3819, 3820, 3821, 3822, 3823, 3824, 3825, 3826, 3827, 3828, 3829, 3830, 3831, 3832, 3833, 3834, 3835, 3836, 3837, 3838, 3839, 3840, 3841, 3842, 3843, 3844, 3845, 3846, 3847, 3848, 3849, 3850, 3851, 3852, 3853, 3854, 3855, 3856, 3857, 3858, 3859, 3860, 3861, 3862, 3863, 3864, 3865, 3866, 3867, 3868, 3869, 3870, 3871, 3872, 3873, 3874, 3875, 3876, 3877, 3878, 3879, 3880, 3881, 3882, 3883, 3884, 3885, 3886, 3887, 3888, 3889, 3890, 3891, 3892, 3893, 3894, 3895, 3896, 3897, 3898, 3899, 3900, 3901, 3902, 3903, 3904, 3905, 3906, 3907, 3908, 3909, 3910, 3911, 3912, 3913, 3914, 3915, 3916, 3917, 3918, 3919, 3920, 3921, 3922, 3923, 3924, 3925, 3926, 3927, 3928, 3929, 3930, 3931, 3932, 3933, 3934, 3935, 3936, 3937, 3938, 3939, 3940, 3941, 3942, 3943, 3944, 3945, 3946, 3947, 3948, 3949, 3950, 3951, 3952, 3953, 3954, 3955, 3956, 3957, 3958, 3959, 3960, 3961, 3962, 3963, 3964, 3965, 3966, 3967, 3968, 3969, 3970, 3971, 3972, 3973, 3974, 3975, 3976, 3977, 3978, 3979, 3980, 3981, 3982, 3983, 3984, 3985, 3986, 3987, 3988, 3989, 3990, 3991, 3992, 3993, 3994, 3995, 3996, 3997, 3998, 3999, 4000, 4001, 4002, 4003, 4004, 4005, 4006, 4007, 4008, 4009, 4010, 4011, 4012, 4013, 4014, 4015, 4016, 4017, 4018, 4019, 4020, 4021, 4022, 4023, 4024, 4025, 4026, 4027, 4028, 4029, 4030, 4031, 4032, 4033, 4034, 4035, 4036, 4037, 4038, 4039, 4040, 4041, 4042, 4043, 4044, 4045, 4046, 4047, 4048, 4049, 4050, 4051, 4052, 4053, 4054, 4055, 4056, 4057, 4058, 4059, 4060, 4061, 4062, 4063, 4064, 4065, 4066, 4067, 4068, 4069, 4070, 4071, 4072, 4073, 4074, 4075, 4076, 4077, 4078, 4079, 4080, 4081, 4082, 4083, 4084, 4085, 4086, 4087, 4088, 4089, 4090, 4091, 4092, 4093, 4094, 4095, 4096, 4097, 4098, 4099, 4100, 4101, 4102, 4103, 4104, 4105, 4106, 4107, 4108, 4109, 4110, 4111, 4112, 4113, 4114, 4115, 4116, 4117, 4118, 4119, 4120, 4121, 4122, 4123, 4124, 4125, 4126, 4127, 4128, 4129, 4130, 4131, 4132, 4133, 4134, 4135, 4136, 4137, 4138, 4139, 4140, 4141, 4142, 4143, 4144, 4145, 4146, 4147, 4148, 4149, 4150, 4151, 4152, 4153, 4154, 4155, 4156, 4157, 4158, 4159, 4160, 4161, 4162, 4163, 4164, 4165, 4166, 4167, 4168, 4169, 4170, 4171, 4172, 4173, 4174, 4175, 4176, 4177, 4178, 4179, 4180, 4181, 4182, 4183, 4184, 4185, 4186, 4187, 4188, 4189, 4190, 4191, 4192, 4193, 4194, 4195, 4196, 4197, 4198, 4199, 4200, 4201, 4202, 4203, 4204, 4205, 4206, 4207, 4208, 4209, 4210, 4211, 4212, 4213, 4214, 4215, 4216, 4217, 4218, 4219, 4220, 4221, 4222, 4223, 4224, 4225, 4226, 4227, 4228, 4229, 4230, 4231, 4232, 4233, 4234, 4235, 4236, 4237, 4238, 4239, 4240, 4241, 4242, 4243, 4244, 4245, 4246, 4247, 4248, 4249, 4250, 4251, 4252, 4253, 4254, 4255, 4256, 4257, 4258, 4259, 4260, 4261, 4262, 4263, 4264, 4265, 4266, 4267, 4268, 4269, 4270, 4271, 4272, 4273, 4274, 4275, 4276, 4277, 4278, 4279, 4280, 4281, 4282, 4283, 4284, 4285, 4286, 4287, 4288, 4289, 4290, 4291, 4292, 4293, 4294, 4295, 4296, 4297, 4298, 4299, 4300, 4301, 4302, 4303, 4304, 4305, 4306, 4307, 4308, 4309, 4310, 4311, 4312, 4313, 4314, 4315, 4316, 4317, 4318, 4319, 4320, 4321, 4322, 4323, 4324, 4325, 4326, 4327, 4328, 4329, 4330, 4331, 4332, 4333, 4334, 4335, 4336, 4337, 4338, 4339, 4340, 4341, 4342, 4343, 4344, 4345, 4346, 4347, 4348, 4349, 4350, 4351, 4352, 4353, 4354, 4355, 4356, 4357, 4358, 4359, 4360, 4361, 4362, 4363, 4364, 4365, 4366, 4367, 4368, 4369, 4370, 4371, 4372, 4373, 4374, 4375, 4376, 4377, 4378, 4379, 4380, 4381, 4382, 4383, 4384, 4385, 4386, 4387, 4388, 4389, 4390, 4391, 4392, 4393, 4394, 4395, 4396, 4397, 4398, 4399, 4400, 4401, 4402, 4403, 4404, 4405, 4406, 4407, 4408, 4409, 4410, 4411, 4412, 4413, 4414, 4415, 4416, 4417, 4418, 4419, 4420, 4421, 4422, 4423, 4424, 4425, 4426, 4427, 4428, 4429, 4430, 4431, 4432, 4433, 4434, 4435, 4436, 4437, 4438, 4439, 4440, 4441, 4442, 4443, 4444, 4445, 4446, 4447, 4448, 4449, 4450, 4451, 4452, 4453, 4454, 4455, 4456, 4457, 4458, 4459, 4460, 4461, 4462, 4463, 4464, 4465, 4466, 4467, 4468, 4469, 4470, 4471, 4472, 4473, 4474, 4475, 4476, 4477, 4478, 4479, 4480, 4481, 4482, 4483, 4484, 4485, 4486, 4487, 4488, 4489, 4490, 4491, 4492, 4493, 4494, 4495, 4496, 4497, 4498, 4499, 4500, 4501, 4502, 4503, 4504, 4505, 4506, 4507, 4508, 4509, 4510, 4511, 4512, 4513, 4514, 4515, 4516, 4517, 4518, 4519, 4520, 4521, 4522, 4523, 4524, 4525, 4526, 4527, 4528, 4529, 4530, 4531, 4532, 4533, 4534, 4535, 4536, 4537, 4538, 4539, 4540, 4541, 4542, 4543, 4544, 4545, 4546, 4547, 4548, 4549, 4550, 4551, 4552, 4553, 4554, 4555, 4556, 4557, 4558, 4559, 4560, 4561, 4562, 4563, 4564, 4565, 4566, 4567, 4568, 4569, 4570, 4571, 4572, 4573, 4574, 4575, 4576, 4577, 4578, 4579, 4580, 4581, 4582, 4583, 4584, 4585, 4586, 4587, 4588, 4589, 4590, 4591, 4592, 4593, 4594, 4595, 4596, 4597, 4598, 4599, 4600, 4601, 4602, 4603, 4604, 4605, 4606, 4607, 4608, 4609, 4610, 4611, 4612, 4613, 4614, 4615, 4616, 4617, 4618, 4619, 4620, 4621, 4622, 4623, 4624, 4625, 4626, 4627, 4628, 4629, 4630, 4631, 4632, 4633, 4634, 4635, 4636, 4637, 4638, 4639, 4640, 4641, 4642, 4643, 4644, 4645, 4646, 4647, 4648, 4649, 4650, 4651, 4652, 4653, 4654, 4655, 4656, 4657, 4658, 4659, 4660, 4661, 4662, 4663, 4664, 4665, 4666, 4667, 4668, 4669, 4670, 4671, 4672, 4673, 4674, 4675, 4676, 4677, 4678, 4679, 4680, 4681, 4682, 4683, 4684, 4685, 4686, 4687, 4688, 4689, 4690, 4691, 4692, 4693, 4694, 4695, 4696, 4697, 4698, 4699, 4700, 4701, 4702, 4703, 4704, 4705, 4706, 4707, 4708, 4709, 4710, 4711, 4712, 4713, 4714, 4715, 4716, 4717, 4718, 4719, 4720, 4721, 4722, 4723, 4724, 4725, 4726, 4727, 4728, 4729, 4730, 4731, 4732, 4733, 4734, 4735, 4736, 4737, 4738, 4739, 4740, 4741, 4742, 4743, 4744, 4745, 4746, 4747, 4748, 4749, 4750, 4751, 4752, 4753, 4754, 4755, 4756, 4757, 4758, 4759, 4760, 4761, 4762, 4763, 4764, 4765, 4766, 4767, 4768, 4769, 4770, 4771, 4772, 4773, 4774, 4775, 4776, 4777, 4778, 4779, 4780, 4781, 4782, 4783, 4784, 4785, 4786, 4787, 4788, 4789, 4790, 4791, 4792, 4793, 4794, 4795, 4796, 4797, 4798, 4799, 4800, 4801, 4802, 4803, 4804, 4805, 4806, 4807, 4808, 4809, 4810, 4811, 4812, 4813, 4814, 4815, 4816, 4817, 4818, 4819, 4820, 4821, 4822, 4823, 4824, 4825, 4826, 4827, 4828, 4829, 4830, 4831, 4832, 4833, 4834, 4835, 4836, 4837, 4838, 4839, 4840, 4841, 4842, 4843, 4844, 4845, 4846, 4847, 4848, 4849, 4850, 4851, 4852, 4853, 4854, 4855, 4856, 4857, 4858, 4859, 4860, 4861, 4862, 4863, 4864, 4865, 4866, 4867, 4868, 4869, 4870, 4871, 4872, 4873, 4874, 4875, 4876, 4877, 4878, 4879, 4880, 4881, 4882, 4883, 4884, 4885, 4886, 4887, 4888, 4889, 4890, 4891, 4892, 4893, 4894, 4895, 4896, 4897, 4898, 4899, 4900, 4901, 4902, 4903, 4904, 4905, 4906, 4907, 4908, 4909, 4910, 4911, 4912, 4913, 4914, 4915, 4916, 4917, 4918, 4919, 4920, 4921, 4922, 4923, 4924, 4925, 4926, 4927, 4928, 4929, 4930, 4931, 4932, 4933, 4934, 4935, 4936, 4937, 4938, 4939, 4940, 4941, 4942, 4943, 4944, 4945, 4946, 4947, 4948, 4949, 4950, 4951, 4952, 4953, 4954, 4955, 4956, 4957, 4958, 4959, 4960, 4961, 4962, 4963, 4964, 4965, 4966, 4967, 4968, 4969, 4970, 4971, 4972, 4973, 4974, 4975, 4976, 4977, 4978, 4979, 4980, 4981, 4982, 4983, 4984, 4985, 4986, 4987, 4988, 4989, 4990, 4991, 4992, 4993, 4994, 4995, 4996, 4997, 4998, 4999, 5000, 5001, 5002, 5003, 5004, 5005, 5006, 5007, 5008, 5009, 5010, 5011, 5012, 5013, 5014, 5015, 5016, 5017, 5018, 5019, 5020, 5021, 5022, 5023, 5024, 5025, 5026, 5027, 5028, 5029, 5030, 5031, 5032, 5033, 5034, 5035, 5036, 5037, 5038, 5039, 5040, 5041, 5042, 5043, 5044, 5045, 5046, 5047, 5048, 5049, 5050, 5051, 5052, 5053, 5054, 5055, 5056, 5057, 5058, 5059, 5060, 5061, 5062, 5063, 5064, 5065, 5066, 5067, 5068, 5069, 5070, 5071, 5072, 5073, 5074, 5075, 5076, 5077, 5078, 5079, 5080, 5081, 5082, 5083, 5084, 5085, 5086, 5087, 5088, 5089, 5090, 5091, 5092, 5093, 5094, 5095, 5096, 5097, 5098, 5099, 5100, 5101, 5102, 5103, 5104, 5105, 5106, 5107, 5108, 5109, 5110, 5111, 5112, 5113, 5114, 5115, 5116, 5117, 5118, 5119, 5120, 5121, 5122, 5123, 5124, 5125, 5126, 5127, 5128, 5129, 5130, 5131, 5132, 5133, 5134, 5135, 5136, 5137, 5138, 5139, 5140, 5141, 5142, 5143, 5144, 5145, 5146, 5147, 5148, 5149, 5150, 5151, 5152, 5153, 5154, 5155, 5156, 5157, 5158, 5159, 5160, 5161, 5162, 5163, 5164, 5165, 5166, 5167, 5168, 5169, 5170, 5171, 5172, 5173, 5174, 5175, 5176, 5177, 5178, 5179, 5180, 5181, 5182, 5183, 5184, 5185, 5186, 5187, 5188, 5189, 5190, 5191, 5192, 5193, 5194, 5195, 5196, 5197, 5198, 5199, 5200, 5201, 5202, 5203, 5204, 5205, 5206, 5207, 5208, 5209, 5210, 5211, 5212, 5213, 5214, 5215, 5216, 5217, 5218, 5219, 5220, 5221, 5222, 5223, 5224, 5225, 5226, 5227, 5228, 5229, 5230, 5231, 5232, 5233, 5234, 5235, 5236, 5237, 5238, 5239, 5240, 5241, 5242, 5243, 5244, 5245, 5246, 5247, 5248, 5249, 5250, 5251, 5252, 5253, 5254, 5255, 5256, 5257, 5258, 5259, 5260, 5261, 5262, 5263, 5264, 5265, 5266, 5267, 5268, 5269, 5270, 5271, 5272, 5273, 5274, 5275, 5276, 5277, 5278, 5279, 5280, 5281, 5282, 5283, 5284, 5285, 5286, 5287, 5288, 5289, 5290, 5291, 5292, 5293, 5294, 5295, 5296, 5297, 5298, 5299, 5300, 5301, 5302, 5303, 5304, 5305, 5306, 5307, 5308, 5309, 5310, 5311, 5312, 5313, 5314, 5315, 5316, 5317, 5318, 5319, 5320, 5321, 5322, 5323, 5324, 5325, 5326, 5327, 5328, 5329, 5330, 5331, 5332, 5333, 5334, 5335, 5336, 5337, 5338, 5339, 5340, 5341, 5342, 5343, 5344, 5345, 5346, 5347, 5348, 5349, 5350, 5351, 5352, 5353, 5354, 5355, 5356, 5357, 5358, 5359, 5360, 5361, 5362, 5363, 5364, 5365, 5366, 5367, 5368, 5369, 5370, 5371, 5372, 5373, 5374, 5375, 5376, 5377, 5378, 5379, 5380, 5381, 5382, 5383, 5384, 5385, 5386, 5387, 5388, 5389, 5390, 5391, 5392, 5393, 5394, 5395, 5396, 5397, 5398, 5399, 5400, 5401, 5402, 5403, 5404, 5405, 5406, 5407, 5408, 5409, 5410, 5411, 5412, 5413, 5414, 5415, 5416, 5417, 5418, 5419, 5420, 5421, 5422, 5423, 5424, 5425, 5426, 5427, 5428, 5429, 5430, 5431, 5432, 5433, 5434, 5435, 5436, 5437, 5438, 5439, 5440, 5441, 5442, 5443, 5444, 5445, 5446, 5447, 5448, 5449, 5450, 5451, 5452, 5453, 5454, 5455, 5456, 5457, 5458, 5459, 5460, 5461, 5462, 5463, 5464, 5465, 5466, 5467, 5468, 5469, 5470, 5471, 5472, 5473, 5474, 5475, 5476, 5477, 5478, 5479, 5480, 5481, 5482, 5483, 5484, 5485, 5486, 5487, 5488, 5489, 5490, 5491, 5492, 5493, 5494, 5495, 5496, 5497, 5498, 5499, 5500, 5501, 5502, 5503, 5504, 5505, 5506, 5507, 5508, 5509, 5510, 5511, 5512, 5513, 5514, 5515, 5516, 5517, 5518, 5519, 5520, 5521, 5522, 5523, 5524, 5525, 5526, 5527, 5528, 5529, 5530, 5531, 5532, 5533, 5534, 5535, 5536, 5537, 5538, 5539, 5540, 5541, 5542, 5543, 5544, 5545, 5546, 5547, 5548, 5549, 5550, 5551, 5552, 5553, 5554, 5555, 5556, 5557, 5558, 5559, 5560, 5561, 5562, 5563, 5564, 5565, 5566, 5567, 5568, 5569, 5570, 5571, 5572, 5573, 5574, 5575, 5576, 5577, 5578, 5579, 5580, 5581, 5582, 5583, 5584, 5585, 5586, 5587, 5588, 5589, 5590, 5591, 5592, 5593, 5594, 5595, 5596, 5597, 5598, 5599, 5600, 5601, 5602, 5603, 5604, 5605, 5606, 5607, 5608, 5609, 5610, 5611, 5612, 5613, 5614, 5615, 5616, 5617, 5618, 5619, 5620, 5621, 5622, 5623, 5624, 5625, 5626, 5627, 5628, 5629, 5630, 5631, 5632, 5633, 5634, 5635, 5636, 5637, 5638, 5639, 5640, 5641, 5642, 5643, 5644, 5645, 5646, 5647, 5648, 5649, 5650, 5651, 5652, 5653, 5654, 5655, 5656, 5657, 5658, 5659, 5660, 5661, 5662, 5663, 5664, 5665, 5666, 5667, 5668, 5669, 5670, 5671, 5672, 5673, 5674, 5675, 5676, 5677, 5678, 5679, 5680, 5681, 5682, 5683, 5684, 5685, 5686, 5687, 5688, 5689, 5690, 5691, 5692, 5693, 5694, 5695, 5696, 5697, 5698, 5699, 5700, 5701, 5702, 5703, 5704, 5705, 5706, 5707, 5708, 5709, 5710, 5711, 5712, 5713, 5714, 5715, 5716, 5717, 5718, 5719, 5720, 5721, 5722, 5723, 5724, 5725, 5726, 5727, 5728, 5729, 5730, 5731, 5732, 5733, 5734, 5735, 5736, 5737, 5738, 5739, 5740, 5741, 5742, 5743, 5744, 5745, 5746, 5747, 5748, 5749, 5750, 5751, 5752, 5753, 5754, 5755, 5756, 5757, 5758, 5759, 5760, 5761, 5762, 5763, 5764, 5765, 5766, 5767, 5768, 5769, 5770, 5771, 5772, 5773, 5774, 5775, 5776, 5777, 5778, 5779, 5780, 5781, 5782, 5783, 5784, 5785, 5786, 5787, 5788, 5789, 5790, 5791, 5792, 5793, 5794, 5795, 5796, 5797, 5798, 5799, 5800, 5801, 5802, 5803, 5804, 5805, 5806, 5807, 5808, 5809, 5810, 5811, 5812, 5813, 5814, 5815, 5816, 5817, 5818, 5819, 5820, 5821, 5822, 5823, 5824, 5825, 5826, 5827, 5828, 5829, 5830, 5831, 5832, 5833, 5834, 5835, 5836, 5837, 5838, 5839, 5840, 5841, 5842, 5843, 5844, 5845, 5846, 5847, 5848, 5849, 5850, 5851, 5852, 5853, 5854, 5855, 5856, 5857, 5858, 5859, 5860, 5861, 5862, 5863, 5864, 5865, 5866, 5867, 5868, 5869, 5870, 5871, 5872, 5873, 5874, 5875, 5876, 5877, 5878, 5879, 5880, 5881, 5882, 5883, 5884, 5885, 5886, 5887, 5888, 5889, 5890, 5891, 5892, 5893, 5894, 5895, 5896, 5897, 5898, 5899, 5900, 5901, 5902, 5903, 5904, 5905, 5906, 5907, 5908, 5909, 5910, 5911, 5912, 5913, 5914, 5915, 5916, 5917, 5918, 5919, 5920, 5921, 5922, 5923, 5924, 5925, 5926, 5927, 5928, 5929, 5930, 5931, 5932, 5933, 5934, 5935, 5936, 5937, 5938, 5939, 5940, 5941, 5942, 5943, 5944, 5945, 5946, 5947, 5948, 5949, 5950, 5951, 5952, 5953, 5954, 5955, 5956, 5957, 5958, 5959, 5960, 5961, 5962, 5963, 5964, 5965, 5966, 5967, 5968, 5969, 5970, 5971, 5972, 5973, 5974, 5975, 5976, 5977, 5978, 5979, 5980, 5981, 5982, 5983, 5984, 5985, 5986, 5987, 5988, 5989, 5990, 5991, 5992, 5993, 5994, 5995, 5996, 5997, 5998, 5999, 6000, 6001, 6002, 6003, 6004, 6005, 6006, 6007, 6008, 6009, 6010, 6011, 6012, 6013, 6014, 6015, 6016, 6017, 6018, 6019, 6020, 6021, 6022, 6023, 6024, 6025, 6026, 6027, 6028, 6029, 6030, 6031, 6032, 6033, 6034, 6035, 6036, 6037, 6038, 6039, 6040, 6041, 6042, 6043, 6044, 6045, 6046, 6047, 6048, 6049, 6050, 6051, 6052, 6053, 6054, 6055, 6056, 6057, 6058, 6059, 6060, 6061, 6062, 6063, 6064, 6065, 6066, 6067, 6068, 6069, 6070, 6071, 6072, 6073, 6074, 6075, 6076, 6077, 6078, 6079, 6080, 6081, 6082, 6083, 6084, 6085, 6086, 6087, 6088, 6089, 6090, 6091, 6092, 6093, 6094, 6095, 6096, 6097, 6098, 6099, 6100, 6101, 6102, 6103, 6104, 6105, 6106, 6107, 6108, 6109, 6110, 6111, 6112, 6113, 6114, 6115, 6116, 6117, 6118, 6119, 6120];\n",
              "\n",
              "            map_07359571ebab0e1c7bb313bcf309f0e1.timeDimension = L.timeDimension(\n",
              "                {times : times, currentTime: new Date(1)}\n",
              "            );\n",
              "\n",
              "            var heat_map_af3685fb8f0488b3918485da65fe336aControl = new L.Control.TimeDimensionCustom([datetime.time(6, 0), datetime.time(6, 0), datetime.time(6, 0), datetime.time(6, 0), datetime.time(6, 0), datetime.time(6, 0), datetime.time(6, 0), datetime.time(6, 0), datetime.time(6, 0), datetime.time(6, 0), datetime.time(6, 0), datetime.time(6, 0), datetime.time(6, 0), datetime.time(6, 0), datetime.time(6, 0), datetime.time(6, 0), datetime.time(6, 0), datetime.time(6, 0), datetime.time(6, 0), datetime.time(6, 0), datetime.time(6, 0), datetime.time(6, 0), datetime.time(6, 0), datetime.time(6, 0), datetime.time(6, 0), datetime.time(6, 0), datetime.time(6, 0), datetime.time(6, 0), datetime.time(6, 0), datetime.time(6, 0), datetime.time(6, 0), datetime.time(6, 0), datetime.time(6, 0), datetime.time(6, 0), datetime.time(6, 0), datetime.time(6, 0), datetime.time(6, 0), datetime.time(6, 0), datetime.time(6, 0), datetime.time(6, 0), datetime.time(6, 0), datetime.time(6, 0), datetime.time(6, 0), datetime.time(6, 0), datetime.time(6, 0), datetime.time(6, 0), datetime.time(6, 0), datetime.time(6, 0), datetime.time(6, 0), datetime.time(6, 0), datetime.time(6, 0), datetime.time(6, 0), datetime.time(6, 0), datetime.time(6, 0), datetime.time(6, 0), datetime.time(6, 0), datetime.time(6, 0), datetime.time(6, 0), datetime.time(6, 0), datetime.time(6, 0), datetime.time(6, 0), datetime.time(6, 0), datetime.time(6, 0), datetime.time(6, 0), datetime.time(6, 0), datetime.time(6, 0), datetime.time(6, 0), datetime.time(6, 0), datetime.time(6, 0), datetime.time(6, 0), datetime.time(6, 0), datetime.time(6, 0), datetime.time(6, 0), datetime.time(6, 0), datetime.time(6, 0), datetime.time(6, 0), datetime.time(6, 0), datetime.time(6, 0), datetime.time(6, 0), datetime.time(6, 0), datetime.time(6, 0), datetime.time(6, 0), datetime.time(6, 0), datetime.time(6, 0), datetime.time(6, 0), datetime.time(6, 0), datetime.time(6, 0), datetime.time(6, 0), datetime.time(6, 0), datetime.time(6, 0), datetime.time(6, 0), datetime.time(6, 0), datetime.time(6, 0), datetime.time(6, 0), datetime.time(6, 0), datetime.time(6, 0), datetime.time(6, 0), datetime.time(6, 0), datetime.time(6, 0), datetime.time(6, 0), datetime.time(6, 0), datetime.time(6, 0), datetime.time(6, 0), datetime.time(6, 0), datetime.time(6, 0), datetime.time(6, 0), datetime.time(6, 0), datetime.time(6, 0), datetime.time(6, 0), datetime.time(6, 0), datetime.time(6, 0), datetime.time(6, 0), datetime.time(6, 0), datetime.time(6, 0), datetime.time(6, 0), datetime.time(6, 0), datetime.time(6, 0), datetime.time(6, 0), datetime.time(6, 0), datetime.time(6, 0), datetime.time(6, 0), datetime.time(6, 0), datetime.time(6, 0), datetime.time(6, 0), datetime.time(6, 0), datetime.time(6, 0), datetime.time(6, 0), datetime.time(6, 0), datetime.time(6, 0), datetime.time(6, 0), datetime.time(6, 0), datetime.time(6, 0), datetime.time(6, 0), datetime.time(6, 0), datetime.time(6, 0), datetime.time(6, 0), datetime.time(6, 0), datetime.time(6, 0), datetime.time(6, 0), datetime.time(6, 0), datetime.time(6, 0), datetime.time(6, 0), datetime.time(6, 0), datetime.time(6, 0), datetime.time(6, 0), datetime.time(6, 0), datetime.time(6, 0), datetime.time(6, 0), datetime.time(6, 0), datetime.time(6, 0), datetime.time(6, 0), datetime.time(6, 0), datetime.time(6, 0), datetime.time(6, 0), datetime.time(6, 0), datetime.time(6, 0), datetime.time(6, 0), datetime.time(6, 0), datetime.time(6, 0), datetime.time(6, 0), datetime.time(6, 0), datetime.time(6, 0), datetime.time(6, 0), datetime.time(6, 0), datetime.time(6, 0), datetime.time(6, 0), datetime.time(6, 0), datetime.time(6, 0), datetime.time(6, 0), datetime.time(6, 0), datetime.time(6, 0), datetime.time(6, 0), datetime.time(6, 0), datetime.time(6, 0), datetime.time(6, 0), datetime.time(6, 0), datetime.time(6, 0), datetime.time(6, 0), datetime.time(6, 0), datetime.time(6, 0), datetime.time(6, 0), datetime.time(6, 0), datetime.time(6, 0), datetime.time(6, 0), datetime.time(6, 0), datetime.time(6, 0), datetime.time(6, 0), datetime.time(6, 0), datetime.time(6, 0), datetime.time(6, 0), datetime.time(6, 0), datetime.time(6, 0), datetime.time(6, 0), datetime.time(6, 0), datetime.time(6, 0), datetime.time(6, 0), datetime.time(6, 0), datetime.time(6, 0), datetime.time(6, 0), datetime.time(6, 0), datetime.time(6, 0), datetime.time(6, 0), datetime.time(6, 0), datetime.time(6, 0), datetime.time(6, 0), datetime.time(6, 0), datetime.time(6, 0), datetime.time(6, 0), datetime.time(6, 0), datetime.time(6, 0), datetime.time(6, 0), datetime.time(6, 0), datetime.time(6, 0), datetime.time(6, 0), datetime.time(6, 0), datetime.time(6, 0), datetime.time(6, 0), datetime.time(6, 0), datetime.time(6, 0), datetime.time(6, 0), datetime.time(6, 0), datetime.time(6, 0), datetime.time(6, 0), datetime.time(6, 0), datetime.time(6, 0), datetime.time(6, 0), datetime.time(6, 0), datetime.time(6, 0), datetime.time(6, 0), datetime.time(6, 0), datetime.time(6, 0), datetime.time(6, 0), datetime.time(6, 0), datetime.time(6, 0), datetime.time(6, 0), datetime.time(6, 0), datetime.time(6, 0), datetime.time(6, 0), datetime.time(6, 0), datetime.time(6, 0), datetime.time(6, 0), datetime.time(6, 0), datetime.time(6, 0), datetime.time(6, 0), datetime.time(6, 0), datetime.time(6, 0), datetime.time(6, 0), datetime.time(6, 0), datetime.time(6, 0), datetime.time(6, 0), datetime.time(6, 0), datetime.time(6, 0), datetime.time(6, 0), datetime.time(6, 0), datetime.time(6, 0), datetime.time(6, 0), datetime.time(6, 0), datetime.time(6, 0), datetime.time(6, 0), datetime.time(6, 0), datetime.time(6, 0), datetime.time(6, 0), datetime.time(6, 0), datetime.time(6, 0), datetime.time(6, 0), datetime.time(6, 0), datetime.time(6, 0), datetime.time(6, 0), datetime.time(6, 0), datetime.time(6, 0), datetime.time(6, 0), datetime.time(6, 0), datetime.time(6, 0), datetime.time(6, 0), datetime.time(6, 0), datetime.time(6, 0), datetime.time(6, 0), datetime.time(6, 0), datetime.time(6, 0), datetime.time(6, 0), datetime.time(6, 0), datetime.time(6, 0), datetime.time(6, 0), datetime.time(6, 0), datetime.time(6, 0), datetime.time(6, 0), datetime.time(6, 0), datetime.time(6, 0), datetime.time(6, 0), datetime.time(6, 0), datetime.time(6, 0), datetime.time(6, 0), datetime.time(6, 0), datetime.time(6, 0), datetime.time(6, 0), datetime.time(6, 0), datetime.time(6, 0), datetime.time(6, 0), datetime.time(6, 0), datetime.time(6, 0), datetime.time(6, 0), datetime.time(6, 0), datetime.time(6, 0), datetime.time(6, 0), datetime.time(6, 0), datetime.time(6, 0), datetime.time(6, 0), datetime.time(6, 0), datetime.time(6, 0), datetime.time(6, 0), datetime.time(6, 0), datetime.time(6, 0), datetime.time(6, 0), datetime.time(6, 0), datetime.time(6, 0), datetime.time(6, 0), datetime.time(6, 0), datetime.time(6, 0), datetime.time(6, 0), datetime.time(6, 0), datetime.time(6, 0), datetime.time(6, 0), datetime.time(6, 0), datetime.time(6, 0), datetime.time(6, 0), datetime.time(6, 0), datetime.time(6, 0), datetime.time(6, 0), datetime.time(6, 0), datetime.time(6, 0), datetime.time(6, 0), datetime.time(6, 0), datetime.time(6, 0), datetime.time(6, 0), datetime.time(6, 0), datetime.time(6, 0), datetime.time(6, 0), datetime.time(6, 0), datetime.time(6, 0), datetime.time(6, 0), datetime.time(6, 0), datetime.time(6, 0), datetime.time(6, 0), datetime.time(6, 0), datetime.time(6, 0), datetime.time(6, 0), datetime.time(6, 0), datetime.time(6, 0), datetime.time(6, 0), datetime.time(6, 0), datetime.time(6, 0), datetime.time(6, 0), datetime.time(6, 0), datetime.time(6, 0), datetime.time(6, 0), datetime.time(6, 0), datetime.time(6, 0), datetime.time(6, 0), datetime.time(6, 0), datetime.time(6, 0), datetime.time(6, 0), datetime.time(6, 0), datetime.time(6, 0), datetime.time(6, 0), datetime.time(6, 0), datetime.time(6, 0), datetime.time(6, 0), datetime.time(6, 0), datetime.time(6, 0), datetime.time(6, 0), datetime.time(6, 0), datetime.time(6, 0), datetime.time(6, 0), datetime.time(6, 0), datetime.time(6, 0), datetime.time(6, 0), datetime.time(6, 0), datetime.time(6, 0), datetime.time(6, 0), datetime.time(6, 0), datetime.time(6, 0), datetime.time(6, 0), datetime.time(6, 0), datetime.time(6, 0), datetime.time(6, 0), datetime.time(6, 0), datetime.time(6, 0), datetime.time(6, 0), datetime.time(6, 0), datetime.time(6, 0), datetime.time(6, 0), datetime.time(6, 0), datetime.time(6, 0), datetime.time(6, 0), datetime.time(6, 0), datetime.time(6, 0), datetime.time(6, 0), datetime.time(6, 0), datetime.time(6, 0), datetime.time(6, 0), datetime.time(6, 0), datetime.time(6, 0), datetime.time(6, 0), datetime.time(6, 0), datetime.time(6, 0), datetime.time(6, 0), datetime.time(6, 0), datetime.time(6, 0), datetime.time(6, 0), datetime.time(6, 0), datetime.time(6, 0), datetime.time(6, 0), datetime.time(6, 0), datetime.time(6, 0), datetime.time(6, 0), datetime.time(6, 0), datetime.time(6, 0), datetime.time(6, 0), datetime.time(6, 0), datetime.time(6, 0), datetime.time(6, 0), datetime.time(6, 0), datetime.time(6, 0), datetime.time(6, 0), datetime.time(6, 0), datetime.time(6, 0), datetime.time(6, 0), datetime.time(6, 0), datetime.time(6, 0), datetime.time(6, 0), datetime.time(6, 0), datetime.time(6, 0), datetime.time(6, 0), datetime.time(6, 0), datetime.time(6, 0), datetime.time(6, 0), datetime.time(6, 0), datetime.time(6, 0), datetime.time(6, 0), datetime.time(6, 0), datetime.time(6, 0), datetime.time(6, 0), datetime.time(6, 0), datetime.time(6, 0), datetime.time(6, 0), datetime.time(6, 0), datetime.time(6, 0), datetime.time(6, 0), datetime.time(6, 0), datetime.time(6, 0), datetime.time(6, 0), datetime.time(6, 0), datetime.time(6, 0), datetime.time(6, 0), datetime.time(6, 0), datetime.time(6, 0), datetime.time(6, 0), datetime.time(6, 0), datetime.time(6, 0), datetime.time(6, 0), datetime.time(6, 0), datetime.time(6, 0), datetime.time(6, 0), datetime.time(6, 0), datetime.time(6, 0), datetime.time(6, 0), datetime.time(6, 0), datetime.time(6, 0), datetime.time(6, 0), datetime.time(6, 0), datetime.time(6, 0), datetime.time(6, 0), datetime.time(6, 0), datetime.time(6, 0), datetime.time(6, 0), datetime.time(6, 0), datetime.time(6, 0), datetime.time(6, 0), datetime.time(6, 0), datetime.time(6, 0), datetime.time(6, 0), datetime.time(6, 0), datetime.time(6, 0), datetime.time(6, 0), datetime.time(6, 0), datetime.time(6, 0), datetime.time(6, 0), datetime.time(6, 0), datetime.time(6, 0), datetime.time(6, 0), datetime.time(6, 0), datetime.time(6, 0), datetime.time(6, 0), datetime.time(6, 0), datetime.time(6, 0), datetime.time(6, 0), datetime.time(6, 0), datetime.time(6, 0), datetime.time(6, 0), datetime.time(6, 0), datetime.time(6, 0), datetime.time(6, 0), datetime.time(6, 0), datetime.time(6, 0), datetime.time(6, 0), datetime.time(6, 0), datetime.time(6, 0), datetime.time(6, 0), datetime.time(6, 0), datetime.time(6, 0), datetime.time(6, 0), datetime.time(6, 0), datetime.time(6, 0), datetime.time(6, 0), datetime.time(6, 0), datetime.time(6, 0), datetime.time(6, 0), datetime.time(6, 0), datetime.time(6, 0), datetime.time(6, 0), datetime.time(6, 0), datetime.time(6, 0), datetime.time(6, 0), datetime.time(6, 0), datetime.time(6, 0), datetime.time(6, 0), datetime.time(6, 0), datetime.time(6, 0), datetime.time(6, 0), datetime.time(6, 0), datetime.time(6, 0), datetime.time(6, 0), datetime.time(6, 0), datetime.time(6, 0), datetime.time(6, 0), datetime.time(6, 0), datetime.time(6, 0), datetime.time(6, 0), datetime.time(6, 0), datetime.time(6, 0), datetime.time(6, 0), datetime.time(6, 0), datetime.time(6, 0), datetime.time(6, 0), datetime.time(6, 0), datetime.time(6, 0), datetime.time(6, 0), datetime.time(6, 0), datetime.time(6, 0), datetime.time(6, 0), datetime.time(6, 0), datetime.time(6, 0), datetime.time(6, 0), datetime.time(6, 0), datetime.time(6, 0), datetime.time(6, 0), datetime.time(6, 0), datetime.time(6, 0), datetime.time(6, 0), datetime.time(6, 0), datetime.time(6, 0), datetime.time(6, 0), datetime.time(6, 0), datetime.time(6, 0), datetime.time(6, 0), datetime.time(6, 0), datetime.time(6, 0), datetime.time(6, 0), datetime.time(6, 0), datetime.time(6, 0), datetime.time(6, 0), datetime.time(6, 0), datetime.time(6, 0), datetime.time(6, 0), datetime.time(6, 0), datetime.time(6, 0), datetime.time(6, 0), datetime.time(6, 0), datetime.time(6, 0), datetime.time(6, 0), datetime.time(6, 0), datetime.time(6, 0), datetime.time(6, 0), datetime.time(6, 0), datetime.time(6, 0), datetime.time(6, 0), datetime.time(6, 0), datetime.time(6, 0), datetime.time(6, 0), datetime.time(6, 0), datetime.time(6, 0), datetime.time(6, 0), datetime.time(6, 0), datetime.time(6, 0), datetime.time(6, 0), datetime.time(6, 0), datetime.time(6, 0), datetime.time(6, 0), datetime.time(6, 0), datetime.time(6, 0), datetime.time(6, 0), datetime.time(6, 0), datetime.time(6, 0), datetime.time(6, 0), datetime.time(6, 0), datetime.time(6, 0), datetime.time(6, 0), datetime.time(6, 0), datetime.time(6, 0), datetime.time(6, 0), datetime.time(6, 0), datetime.time(6, 0), datetime.time(6, 0), datetime.time(6, 0), datetime.time(6, 0), datetime.time(6, 0), datetime.time(6, 0), datetime.time(6, 0), datetime.time(6, 0), datetime.time(6, 0), datetime.time(6, 0), datetime.time(6, 0), datetime.time(6, 0), datetime.time(6, 0), datetime.time(6, 0), datetime.time(6, 0), datetime.time(6, 0), datetime.time(6, 0), datetime.time(6, 0), datetime.time(6, 0), datetime.time(6, 0), datetime.time(6, 0), datetime.time(6, 0), datetime.time(6, 0), datetime.time(6, 0), datetime.time(6, 0), datetime.time(6, 0), datetime.time(6, 0), datetime.time(6, 0), datetime.time(6, 0), datetime.time(6, 0), datetime.time(6, 0), datetime.time(6, 0), datetime.time(6, 0), datetime.time(6, 0), datetime.time(6, 0), datetime.time(6, 0), datetime.time(6, 0), datetime.time(6, 0), datetime.time(6, 0), datetime.time(6, 0), datetime.time(6, 0), datetime.time(6, 0), datetime.time(6, 0), datetime.time(6, 0), datetime.time(6, 0), datetime.time(6, 0), datetime.time(6, 0), datetime.time(6, 0), datetime.time(6, 0), datetime.time(6, 0), datetime.time(6, 0), datetime.time(6, 0), datetime.time(6, 0), datetime.time(6, 0), datetime.time(6, 0), datetime.time(6, 0), datetime.time(6, 0), datetime.time(6, 0), datetime.time(6, 0), datetime.time(6, 0), datetime.time(6, 0), datetime.time(6, 0), datetime.time(6, 0), datetime.time(6, 0), datetime.time(6, 0), datetime.time(6, 0), datetime.time(6, 0), datetime.time(6, 0), datetime.time(6, 0), datetime.time(6, 0), datetime.time(6, 0), datetime.time(6, 0), datetime.time(6, 0), datetime.time(6, 0), datetime.time(6, 0), datetime.time(6, 0), datetime.time(6, 0), datetime.time(6, 0), datetime.time(6, 0), datetime.time(6, 0), datetime.time(6, 0), datetime.time(6, 0), datetime.time(6, 0), datetime.time(6, 0), datetime.time(6, 0), datetime.time(6, 0), datetime.time(6, 0), datetime.time(6, 0), datetime.time(6, 0), datetime.time(6, 0), datetime.time(6, 0), datetime.time(6, 0), datetime.time(6, 0), datetime.time(6, 0), datetime.time(6, 0), datetime.time(6, 0), datetime.time(6, 0), datetime.time(6, 0), datetime.time(6, 0), datetime.time(6, 0), datetime.time(6, 0), datetime.time(6, 0), datetime.time(6, 0), datetime.time(6, 0), datetime.time(6, 0), datetime.time(6, 0), datetime.time(6, 0), datetime.time(6, 0), datetime.time(6, 0), datetime.time(6, 0), datetime.time(6, 0), datetime.time(6, 0), datetime.time(6, 0), datetime.time(6, 0), datetime.time(6, 0), datetime.time(6, 0), datetime.time(6, 0), datetime.time(6, 0), datetime.time(6, 0), datetime.time(6, 0), datetime.time(6, 0), datetime.time(6, 0), datetime.time(6, 0), datetime.time(6, 0), datetime.time(6, 0), datetime.time(6, 0), datetime.time(6, 0), datetime.time(6, 0), datetime.time(6, 0), datetime.time(6, 0), datetime.time(6, 0), datetime.time(6, 0), datetime.time(6, 0), datetime.time(6, 0), datetime.time(6, 0), datetime.time(6, 0), datetime.time(6, 0), datetime.time(6, 0), datetime.time(6, 0), datetime.time(6, 0), datetime.time(6, 0), datetime.time(6, 0), datetime.time(6, 0), datetime.time(6, 0), datetime.time(6, 0), datetime.time(6, 0), datetime.time(6, 0), datetime.time(6, 0), datetime.time(6, 0), datetime.time(6, 0), datetime.time(6, 0), datetime.time(6, 0), datetime.time(6, 0), datetime.time(6, 0), datetime.time(6, 0), datetime.time(6, 0), datetime.time(6, 0), datetime.time(6, 0), datetime.time(6, 0), datetime.time(6, 0), datetime.time(6, 0), datetime.time(6, 0), datetime.time(6, 0), datetime.time(6, 0), datetime.time(6, 0), datetime.time(6, 0), datetime.time(6, 0), datetime.time(6, 0), datetime.time(6, 0), datetime.time(6, 0), datetime.time(6, 0), datetime.time(6, 0), datetime.time(6, 0), datetime.time(6, 0), datetime.time(6, 0), datetime.time(6, 0), datetime.time(6, 0), datetime.time(6, 0), datetime.time(6, 0), datetime.time(6, 0), datetime.time(6, 0), datetime.time(6, 0), datetime.time(6, 0), datetime.time(6, 0), datetime.time(6, 0), datetime.time(6, 0), datetime.time(6, 0), datetime.time(6, 0), datetime.time(6, 0), datetime.time(6, 0), datetime.time(6, 0), datetime.time(6, 0), datetime.time(6, 0), datetime.time(6, 0), datetime.time(6, 0), datetime.time(6, 0), datetime.time(6, 0), datetime.time(6, 0), datetime.time(6, 0), datetime.time(6, 0), datetime.time(6, 0), datetime.time(6, 0), datetime.time(6, 0), datetime.time(6, 0), datetime.time(6, 0), datetime.time(6, 0), datetime.time(6, 0), datetime.time(6, 0), datetime.time(6, 0), datetime.time(6, 0), datetime.time(6, 0), datetime.time(6, 0), datetime.time(6, 0), datetime.time(6, 0), datetime.time(6, 0), datetime.time(6, 0), datetime.time(6, 0), datetime.time(6, 0), datetime.time(6, 0), datetime.time(6, 0), datetime.time(6, 0), datetime.time(6, 0), datetime.time(6, 0), datetime.time(6, 0), datetime.time(6, 0), datetime.time(6, 0), datetime.time(6, 0), datetime.time(6, 0), datetime.time(6, 0), datetime.time(6, 0), datetime.time(6, 0), datetime.time(6, 0), datetime.time(6, 0), datetime.time(6, 0), datetime.time(6, 0), datetime.time(6, 0), datetime.time(6, 0), datetime.time(6, 0), datetime.time(6, 0), datetime.time(6, 0), datetime.time(6, 0), datetime.time(6, 0), datetime.time(6, 0), datetime.time(6, 0), datetime.time(6, 0), datetime.time(6, 0), datetime.time(6, 0), datetime.time(6, 0), datetime.time(6, 0), datetime.time(6, 0), datetime.time(6, 0), datetime.time(6, 0), datetime.time(6, 0), datetime.time(6, 0), datetime.time(6, 0), datetime.time(6, 0), datetime.time(6, 0), datetime.time(6, 0), datetime.time(6, 0), datetime.time(6, 0), datetime.time(6, 0), datetime.time(6, 0), datetime.time(6, 0), datetime.time(6, 0), datetime.time(6, 0), datetime.time(6, 0), datetime.time(6, 0), datetime.time(6, 0), datetime.time(6, 0), datetime.time(6, 0), datetime.time(6, 0), datetime.time(6, 0), datetime.time(6, 0), datetime.time(6, 0), datetime.time(6, 0), datetime.time(6, 0), datetime.time(6, 0), datetime.time(6, 0), datetime.time(6, 0), datetime.time(6, 0), datetime.time(6, 0), datetime.time(6, 0), datetime.time(6, 0), datetime.time(6, 0), datetime.time(6, 0), datetime.time(6, 0), datetime.time(6, 0), datetime.time(6, 0), datetime.time(6, 0), datetime.time(6, 0), datetime.time(6, 0), datetime.time(6, 0), datetime.time(6, 0), datetime.time(6, 0), datetime.time(6, 0), datetime.time(6, 0), datetime.time(6, 0), datetime.time(6, 0), datetime.time(6, 0), datetime.time(6, 0), datetime.time(6, 0), datetime.time(6, 0), datetime.time(6, 0), datetime.time(6, 0), datetime.time(6, 0), datetime.time(6, 0), datetime.time(6, 0), datetime.time(6, 0), datetime.time(6, 0), datetime.time(6, 0), datetime.time(6, 0), datetime.time(6, 0), datetime.time(6, 0), datetime.time(6, 0), datetime.time(6, 0), datetime.time(6, 0), datetime.time(6, 0), datetime.time(6, 0), datetime.time(6, 0), datetime.time(6, 0), datetime.time(6, 0), datetime.time(6, 0), datetime.time(6, 0), datetime.time(6, 0), datetime.time(6, 0), datetime.time(6, 0), datetime.time(6, 0), datetime.time(6, 0), datetime.time(6, 0), datetime.time(6, 0), datetime.time(6, 0), datetime.time(6, 0), datetime.time(6, 0), datetime.time(6, 0), datetime.time(6, 0), datetime.time(6, 0), datetime.time(6, 0), datetime.time(6, 0), datetime.time(6, 0), datetime.time(6, 0), datetime.time(6, 0), datetime.time(6, 0), datetime.time(6, 0), datetime.time(6, 0), datetime.time(6, 0), datetime.time(6, 0), datetime.time(6, 0), datetime.time(6, 0), datetime.time(6, 0), datetime.time(6, 0), datetime.time(6, 0), datetime.time(6, 0), datetime.time(6, 0), datetime.time(6, 0), datetime.time(6, 0), datetime.time(6, 0), datetime.time(6, 0), datetime.time(6, 0), datetime.time(6, 0), datetime.time(6, 0), datetime.time(6, 0), datetime.time(6, 0), datetime.time(6, 0), datetime.time(6, 0), datetime.time(6, 0), datetime.time(6, 0), datetime.time(6, 0), datetime.time(6, 0), datetime.time(6, 0), datetime.time(6, 0), datetime.time(6, 0), datetime.time(6, 0), datetime.time(6, 0), datetime.time(6, 0), datetime.time(6, 0), datetime.time(6, 0), datetime.time(6, 0), datetime.time(6, 0), datetime.time(6, 0), datetime.time(6, 0), datetime.time(6, 0), datetime.time(6, 0), datetime.time(6, 0), datetime.time(6, 0), datetime.time(6, 0), datetime.time(6, 0), datetime.time(6, 0), datetime.time(6, 0), datetime.time(6, 0), datetime.time(6, 0), datetime.time(6, 0), datetime.time(6, 0), datetime.time(6, 0), datetime.time(6, 0), datetime.time(6, 0), datetime.time(6, 0), datetime.time(6, 0), datetime.time(6, 0), datetime.time(6, 0), datetime.time(6, 0), datetime.time(6, 0), datetime.time(6, 0), datetime.time(6, 0), datetime.time(6, 0), datetime.time(6, 0), datetime.time(6, 0), datetime.time(6, 0), datetime.time(6, 0), datetime.time(6, 0), datetime.time(6, 0), datetime.time(6, 0), datetime.time(6, 0), datetime.time(6, 0), datetime.time(6, 0), datetime.time(6, 0), datetime.time(6, 0), datetime.time(6, 0), datetime.time(6, 0), datetime.time(6, 0), datetime.time(6, 0), datetime.time(6, 0), datetime.time(6, 0), datetime.time(6, 0), datetime.time(6, 0), datetime.time(6, 0), datetime.time(6, 0), datetime.time(6, 0), datetime.time(6, 0), datetime.time(6, 0), datetime.time(6, 0), datetime.time(6, 0), datetime.time(6, 0), datetime.time(6, 0), datetime.time(6, 0), datetime.time(6, 0), datetime.time(6, 0), datetime.time(6, 0), datetime.time(6, 0), datetime.time(6, 0), datetime.time(6, 0), datetime.time(6, 0), datetime.time(6, 0), datetime.time(6, 0), datetime.time(6, 0), datetime.time(6, 0), datetime.time(6, 0), datetime.time(6, 0), datetime.time(6, 0), datetime.time(6, 0), datetime.time(6, 0), datetime.time(6, 0), datetime.time(6, 0), datetime.time(6, 0), datetime.time(6, 0), datetime.time(6, 0), datetime.time(6, 0), datetime.time(6, 0), datetime.time(6, 0), datetime.time(6, 0), datetime.time(6, 0), datetime.time(6, 0), datetime.time(6, 0), datetime.time(6, 0), datetime.time(6, 0), datetime.time(6, 0), datetime.time(6, 0), datetime.time(6, 0), datetime.time(6, 0), datetime.time(6, 0), datetime.time(6, 0), datetime.time(6, 0), datetime.time(6, 0), datetime.time(6, 0), datetime.time(6, 0), datetime.time(6, 0), datetime.time(6, 0), datetime.time(6, 0), datetime.time(6, 0), datetime.time(6, 0), datetime.time(6, 0), datetime.time(6, 0), datetime.time(6, 0), datetime.time(6, 0), datetime.time(6, 0), datetime.time(6, 0), datetime.time(6, 0), datetime.time(6, 0), datetime.time(6, 0), datetime.time(6, 0), datetime.time(6, 0), datetime.time(6, 0), datetime.time(6, 0), datetime.time(6, 0), datetime.time(6, 0), datetime.time(6, 0), datetime.time(6, 0), datetime.time(6, 0), datetime.time(6, 0), datetime.time(6, 0), datetime.time(6, 0), datetime.time(6, 0), datetime.time(6, 0), datetime.time(6, 0), datetime.time(6, 0), datetime.time(6, 0), datetime.time(6, 0), datetime.time(6, 0), datetime.time(6, 0), datetime.time(6, 0), datetime.time(6, 0), datetime.time(6, 0), datetime.time(6, 0), datetime.time(6, 0), datetime.time(6, 0), datetime.time(6, 0), datetime.time(6, 0), datetime.time(6, 0), datetime.time(6, 0), datetime.time(6, 0), datetime.time(6, 0), datetime.time(6, 0), datetime.time(6, 0), datetime.time(6, 0), datetime.time(6, 0), datetime.time(6, 0), datetime.time(6, 0), datetime.time(6, 0), datetime.time(6, 0), datetime.time(6, 0), datetime.time(6, 0), datetime.time(6, 0), datetime.time(6, 0), datetime.time(6, 0), datetime.time(6, 0), datetime.time(6, 0), datetime.time(6, 0), datetime.time(6, 0), datetime.time(6, 0), datetime.time(6, 0), datetime.time(6, 0), datetime.time(6, 0), datetime.time(6, 0), datetime.time(6, 0), datetime.time(6, 0), datetime.time(6, 0), datetime.time(6, 0), datetime.time(6, 0), datetime.time(6, 0), datetime.time(6, 0), datetime.time(6, 0), datetime.time(6, 0), datetime.time(6, 0), datetime.time(6, 0), datetime.time(6, 0), datetime.time(6, 0), datetime.time(6, 0), datetime.time(6, 0), datetime.time(6, 0), datetime.time(6, 0), datetime.time(6, 0), datetime.time(6, 0), datetime.time(6, 0), datetime.time(6, 0), datetime.time(6, 0), datetime.time(6, 0), datetime.time(6, 0), datetime.time(6, 0), datetime.time(6, 0), datetime.time(6, 0), datetime.time(6, 0), datetime.time(6, 0), datetime.time(6, 0), datetime.time(6, 0), datetime.time(6, 0), datetime.time(6, 0), datetime.time(6, 0), datetime.time(6, 0), datetime.time(6, 0), datetime.time(6, 0), datetime.time(6, 0), datetime.time(6, 0), datetime.time(6, 0), datetime.time(6, 0), datetime.time(6, 0), datetime.time(6, 0), datetime.time(6, 0), datetime.time(6, 0), datetime.time(6, 0), datetime.time(6, 0), datetime.time(6, 0), datetime.time(6, 0), datetime.time(6, 0), datetime.time(6, 0), datetime.time(6, 0), datetime.time(6, 0), datetime.time(6, 0), datetime.time(6, 0), datetime.time(6, 0), datetime.time(6, 0), datetime.time(6, 0), datetime.time(6, 0), datetime.time(6, 0), datetime.time(6, 0), datetime.time(6, 0), datetime.time(6, 0), datetime.time(6, 0), datetime.time(6, 0), datetime.time(6, 0), datetime.time(6, 0), datetime.time(6, 0), datetime.time(6, 0), datetime.time(6, 0), datetime.time(6, 0), datetime.time(6, 0), datetime.time(6, 0), datetime.time(6, 0), datetime.time(6, 0), datetime.time(6, 0), datetime.time(6, 0), datetime.time(6, 0), datetime.time(6, 0), datetime.time(6, 0), datetime.time(6, 0), datetime.time(6, 0), datetime.time(6, 0), datetime.time(6, 0), datetime.time(6, 0), datetime.time(6, 0), datetime.time(6, 0), datetime.time(6, 0), datetime.time(6, 0), datetime.time(6, 0), datetime.time(6, 0), datetime.time(6, 0), datetime.time(6, 0), datetime.time(6, 0), datetime.time(6, 0), datetime.time(6, 0), datetime.time(6, 0), datetime.time(6, 0), datetime.time(6, 0), datetime.time(6, 0), datetime.time(6, 0), datetime.time(6, 0), datetime.time(6, 0), datetime.time(6, 0), datetime.time(6, 0), datetime.time(6, 0), datetime.time(6, 0), datetime.time(6, 0), datetime.time(6, 0), datetime.time(6, 0), datetime.time(6, 0), datetime.time(6, 0), datetime.time(6, 0), datetime.time(6, 0), datetime.time(6, 0), datetime.time(6, 0), datetime.time(6, 0), datetime.time(6, 0), datetime.time(6, 0), datetime.time(6, 0), datetime.time(6, 0), datetime.time(6, 0), datetime.time(6, 0), datetime.time(6, 0), datetime.time(6, 0), datetime.time(6, 0), datetime.time(6, 0), datetime.time(6, 0), datetime.time(6, 0), datetime.time(6, 0), datetime.time(6, 0), datetime.time(6, 0), datetime.time(6, 0), datetime.time(6, 0), datetime.time(6, 0), datetime.time(6, 0), datetime.time(6, 0), datetime.time(6, 0), datetime.time(6, 0), datetime.time(6, 0), datetime.time(6, 0), datetime.time(6, 0), datetime.time(6, 0), datetime.time(6, 0), datetime.time(6, 0), datetime.time(6, 0), datetime.time(6, 0), datetime.time(6, 0), datetime.time(6, 0), datetime.time(6, 0), datetime.time(6, 0), datetime.time(6, 0), datetime.time(6, 0), datetime.time(6, 0), datetime.time(6, 0), datetime.time(6, 0), datetime.time(6, 0), datetime.time(6, 0), datetime.time(6, 0), datetime.time(6, 0), datetime.time(6, 0), datetime.time(6, 0), datetime.time(6, 0), datetime.time(6, 0), datetime.time(6, 0), datetime.time(6, 0), datetime.time(6, 0), datetime.time(6, 0), datetime.time(6, 0), datetime.time(6, 0), datetime.time(6, 0), datetime.time(6, 0), datetime.time(6, 0), datetime.time(6, 0), datetime.time(6, 0), datetime.time(6, 0), datetime.time(6, 0), datetime.time(6, 0), datetime.time(6, 0), datetime.time(6, 0), datetime.time(6, 0), datetime.time(6, 0), datetime.time(6, 0), datetime.time(6, 0), datetime.time(6, 0), datetime.time(6, 0), datetime.time(6, 0), datetime.time(6, 0), datetime.time(6, 0), datetime.time(6, 0), datetime.time(6, 0), datetime.time(6, 0), datetime.time(6, 0), datetime.time(6, 0), datetime.time(6, 0), datetime.time(6, 0), datetime.time(6, 0), datetime.time(6, 0), datetime.time(6, 0), datetime.time(6, 0), datetime.time(6, 0), datetime.time(6, 0), datetime.time(6, 0), datetime.time(6, 0), datetime.time(6, 0), datetime.time(6, 0), datetime.time(6, 0), datetime.time(6, 0), datetime.time(6, 0), datetime.time(6, 0), datetime.time(6, 0), datetime.time(6, 0), datetime.time(6, 0), datetime.time(6, 0), datetime.time(6, 0), datetime.time(6, 0), datetime.time(6, 0), datetime.time(6, 0), datetime.time(6, 0), datetime.time(6, 0), datetime.time(6, 0), datetime.time(6, 0), datetime.time(6, 0), datetime.time(6, 0), datetime.time(6, 0), datetime.time(6, 0), datetime.time(6, 0), datetime.time(6, 0), datetime.time(6, 0), datetime.time(6, 0), datetime.time(6, 0), datetime.time(6, 0), datetime.time(6, 0), datetime.time(6, 0), datetime.time(6, 0), datetime.time(6, 0), datetime.time(6, 0), datetime.time(6, 0), datetime.time(6, 0), datetime.time(6, 0), datetime.time(6, 0), datetime.time(6, 0), datetime.time(6, 0), datetime.time(6, 0), datetime.time(6, 0), datetime.time(6, 0), datetime.time(6, 0), datetime.time(6, 0), datetime.time(6, 0), datetime.time(6, 0), datetime.time(6, 0), datetime.time(6, 0), datetime.time(6, 0), datetime.time(6, 0), datetime.time(6, 0), datetime.time(6, 0), datetime.time(6, 0), datetime.time(6, 0), datetime.time(6, 0), datetime.time(6, 0), datetime.time(6, 0), datetime.time(6, 0), datetime.time(6, 0), datetime.time(6, 0), datetime.time(6, 0), datetime.time(6, 0), datetime.time(6, 0), datetime.time(6, 0), datetime.time(6, 0), datetime.time(6, 0), datetime.time(6, 0), datetime.time(6, 0), datetime.time(6, 0), datetime.time(6, 0), datetime.time(6, 0), datetime.time(6, 0), datetime.time(6, 0), datetime.time(6, 0), datetime.time(6, 0), datetime.time(6, 0), datetime.time(6, 0), datetime.time(6, 0), datetime.time(6, 0), datetime.time(6, 0), datetime.time(6, 0), datetime.time(6, 0), datetime.time(6, 0), datetime.time(6, 0), datetime.time(6, 0), datetime.time(6, 0), datetime.time(6, 0), datetime.time(6, 0), datetime.time(6, 0), datetime.time(6, 0), datetime.time(6, 0), datetime.time(6, 0), datetime.time(6, 0), datetime.time(6, 0), datetime.time(6, 0), datetime.time(6, 0), datetime.time(6, 0), datetime.time(6, 0), datetime.time(6, 0), datetime.time(6, 0), datetime.time(6, 0), datetime.time(6, 0), datetime.time(6, 0), datetime.time(6, 0), datetime.time(6, 0), datetime.time(6, 0), datetime.time(6, 0), datetime.time(6, 0), datetime.time(6, 0), datetime.time(6, 0), datetime.time(6, 0), datetime.time(6, 0), datetime.time(6, 0), datetime.time(6, 0), datetime.time(6, 0), datetime.time(6, 0), datetime.time(6, 0), datetime.time(6, 0), datetime.time(6, 0), datetime.time(6, 0), datetime.time(6, 0), datetime.time(6, 0), datetime.time(6, 0), datetime.time(6, 0), datetime.time(6, 0), datetime.time(6, 0), datetime.time(6, 0), datetime.time(6, 0), datetime.time(6, 0), datetime.time(6, 0), datetime.time(6, 0), datetime.time(6, 0), datetime.time(6, 0), datetime.time(6, 0), datetime.time(6, 0), datetime.time(6, 0), datetime.time(6, 0), datetime.time(6, 0), datetime.time(6, 0), datetime.time(6, 0), datetime.time(6, 0), datetime.time(6, 0), datetime.time(6, 0), datetime.time(6, 0), datetime.time(6, 0), datetime.time(6, 0), datetime.time(6, 0), datetime.time(6, 0), datetime.time(6, 0), datetime.time(6, 0), datetime.time(6, 0), datetime.time(6, 0), datetime.time(6, 0), datetime.time(6, 0), datetime.time(6, 0), datetime.time(6, 0), datetime.time(6, 0), datetime.time(6, 0), datetime.time(6, 0), datetime.time(6, 0), datetime.time(6, 0), datetime.time(6, 0), datetime.time(6, 0), datetime.time(6, 0), datetime.time(6, 0), datetime.time(6, 0), datetime.time(6, 0), datetime.time(6, 0), datetime.time(6, 0), datetime.time(6, 0), datetime.time(6, 0), datetime.time(6, 0), datetime.time(6, 0), datetime.time(6, 0), datetime.time(6, 0), datetime.time(6, 0), datetime.time(6, 0), datetime.time(6, 0), datetime.time(12, 0), datetime.time(12, 0), datetime.time(12, 0), datetime.time(12, 0), datetime.time(12, 0), datetime.time(12, 0), datetime.time(12, 0), datetime.time(12, 0), datetime.time(12, 0), datetime.time(12, 0), datetime.time(12, 0), datetime.time(12, 0), datetime.time(12, 0), datetime.time(12, 0), datetime.time(12, 0), datetime.time(12, 0), datetime.time(12, 0), datetime.time(12, 0), datetime.time(12, 0), datetime.time(12, 0), datetime.time(12, 0), datetime.time(12, 0), datetime.time(12, 0), datetime.time(12, 0), datetime.time(12, 0), datetime.time(12, 0), datetime.time(12, 0), datetime.time(12, 0), datetime.time(12, 0), datetime.time(12, 0), datetime.time(12, 0), datetime.time(12, 0), datetime.time(12, 0), datetime.time(12, 0), datetime.time(12, 0), datetime.time(12, 0), datetime.time(12, 0), datetime.time(12, 0), datetime.time(12, 0), datetime.time(12, 0), datetime.time(12, 0), datetime.time(12, 0), datetime.time(12, 0), datetime.time(12, 0), datetime.time(12, 0), datetime.time(12, 0), datetime.time(12, 0), datetime.time(12, 0), datetime.time(12, 0), datetime.time(12, 0), datetime.time(12, 0), datetime.time(12, 0), datetime.time(12, 0), datetime.time(12, 0), datetime.time(12, 0), datetime.time(12, 0), datetime.time(12, 0), datetime.time(12, 0), datetime.time(12, 0), datetime.time(12, 0), datetime.time(12, 0), datetime.time(12, 0), datetime.time(12, 0), datetime.time(12, 0), datetime.time(12, 0), datetime.time(12, 0), datetime.time(12, 0), datetime.time(12, 0), datetime.time(12, 0), datetime.time(12, 0), datetime.time(12, 0), datetime.time(12, 0), datetime.time(12, 0), datetime.time(12, 0), datetime.time(12, 0), datetime.time(12, 0), datetime.time(12, 0), datetime.time(12, 0), datetime.time(12, 0), datetime.time(12, 0), datetime.time(12, 0), datetime.time(12, 0), datetime.time(12, 0), datetime.time(12, 0), datetime.time(12, 0), datetime.time(12, 0), datetime.time(12, 0), datetime.time(12, 0), datetime.time(12, 0), datetime.time(12, 0), datetime.time(12, 0), datetime.time(12, 0), datetime.time(12, 0), datetime.time(12, 0), datetime.time(12, 0), datetime.time(12, 0), datetime.time(12, 0), datetime.time(12, 0), datetime.time(12, 0), datetime.time(12, 0), datetime.time(12, 0), datetime.time(12, 0), datetime.time(12, 0), datetime.time(12, 0), datetime.time(12, 0), datetime.time(12, 0), datetime.time(12, 0), datetime.time(12, 0), datetime.time(12, 0), datetime.time(12, 0), datetime.time(12, 0), datetime.time(12, 0), datetime.time(12, 0), datetime.time(12, 0), datetime.time(12, 0), datetime.time(12, 0), datetime.time(12, 0), datetime.time(12, 0), datetime.time(12, 0), datetime.time(12, 0), datetime.time(12, 0), datetime.time(12, 0), datetime.time(12, 0), datetime.time(12, 0), datetime.time(12, 0), datetime.time(12, 0), datetime.time(12, 0), datetime.time(12, 0), datetime.time(12, 0), datetime.time(12, 0), datetime.time(12, 0), datetime.time(12, 0), datetime.time(12, 0), datetime.time(12, 0), datetime.time(12, 0), datetime.time(12, 0), datetime.time(12, 0), datetime.time(12, 0), datetime.time(12, 0), datetime.time(12, 0), datetime.time(12, 0), datetime.time(12, 0), datetime.time(12, 0), datetime.time(12, 0), datetime.time(12, 0), datetime.time(12, 0), datetime.time(12, 0), datetime.time(12, 0), datetime.time(12, 0), datetime.time(12, 0), datetime.time(12, 0), datetime.time(12, 0), datetime.time(12, 0), datetime.time(12, 0), datetime.time(12, 0), datetime.time(12, 0), datetime.time(12, 0), datetime.time(12, 0), datetime.time(12, 0), datetime.time(12, 0), datetime.time(12, 0), datetime.time(12, 0), datetime.time(12, 0), datetime.time(12, 0), datetime.time(12, 0), datetime.time(12, 0), datetime.time(12, 0), datetime.time(12, 0), datetime.time(12, 0), datetime.time(12, 0), datetime.time(12, 0), datetime.time(12, 0), datetime.time(12, 0), datetime.time(12, 0), datetime.time(12, 0), datetime.time(12, 0), datetime.time(12, 0), datetime.time(12, 0), datetime.time(12, 0), datetime.time(12, 0), datetime.time(12, 0), datetime.time(12, 0), datetime.time(12, 0), datetime.time(12, 0), datetime.time(12, 0), datetime.time(12, 0), datetime.time(12, 0), datetime.time(12, 0), datetime.time(12, 0), datetime.time(12, 0), datetime.time(12, 0), datetime.time(12, 0), datetime.time(12, 0), datetime.time(12, 0), datetime.time(12, 0), datetime.time(12, 0), datetime.time(12, 0), datetime.time(12, 0), datetime.time(12, 0), datetime.time(12, 0), datetime.time(12, 0), datetime.time(12, 0), datetime.time(12, 0), datetime.time(12, 0), datetime.time(12, 0), datetime.time(12, 0), datetime.time(12, 0), datetime.time(12, 0), datetime.time(12, 0), datetime.time(12, 0), datetime.time(12, 0), datetime.time(12, 0), datetime.time(12, 0), datetime.time(12, 0), datetime.time(12, 0), datetime.time(12, 0), datetime.time(12, 0), datetime.time(12, 0), datetime.time(12, 0), datetime.time(12, 0), datetime.time(12, 0), datetime.time(12, 0), datetime.time(12, 0), datetime.time(12, 0), datetime.time(12, 0), datetime.time(12, 0), datetime.time(12, 0), datetime.time(12, 0), datetime.time(12, 0), datetime.time(12, 0), datetime.time(12, 0), datetime.time(12, 0), datetime.time(12, 0), datetime.time(12, 0), datetime.time(12, 0), datetime.time(12, 0), datetime.time(12, 0), datetime.time(12, 0), datetime.time(12, 0), datetime.time(12, 0), datetime.time(12, 0), datetime.time(12, 0), datetime.time(12, 0), datetime.time(12, 0), datetime.time(12, 0), datetime.time(12, 0), datetime.time(12, 0), datetime.time(12, 0), datetime.time(12, 0), datetime.time(12, 0), datetime.time(12, 0), datetime.time(12, 0), datetime.time(12, 0), datetime.time(12, 0), datetime.time(12, 0), datetime.time(12, 0), datetime.time(12, 0), datetime.time(12, 0), datetime.time(12, 0), datetime.time(12, 0), datetime.time(12, 0), datetime.time(12, 0), datetime.time(12, 0), datetime.time(12, 0), datetime.time(12, 0), datetime.time(12, 0), datetime.time(12, 0), datetime.time(12, 0), datetime.time(12, 0), datetime.time(12, 0), datetime.time(12, 0), datetime.time(12, 0), datetime.time(12, 0), datetime.time(12, 0), datetime.time(12, 0), datetime.time(12, 0), datetime.time(12, 0), datetime.time(12, 0), datetime.time(12, 0), datetime.time(12, 0), datetime.time(12, 0), datetime.time(12, 0), datetime.time(12, 0), datetime.time(12, 0), datetime.time(12, 0), datetime.time(12, 0), datetime.time(12, 0), datetime.time(12, 0), datetime.time(12, 0), datetime.time(12, 0), datetime.time(12, 0), datetime.time(12, 0), datetime.time(12, 0), datetime.time(12, 0), datetime.time(12, 0), datetime.time(12, 0), datetime.time(12, 0), datetime.time(12, 0), datetime.time(12, 0), datetime.time(12, 0), datetime.time(12, 0), datetime.time(12, 0), datetime.time(12, 0), datetime.time(12, 0), datetime.time(12, 0), datetime.time(12, 0), datetime.time(12, 0), datetime.time(12, 0), datetime.time(12, 0), datetime.time(12, 0), datetime.time(12, 0), datetime.time(12, 0), datetime.time(12, 0), datetime.time(12, 0), datetime.time(12, 0), datetime.time(12, 0), datetime.time(12, 0), datetime.time(12, 0), datetime.time(12, 0), datetime.time(12, 0), datetime.time(12, 0), datetime.time(12, 0), datetime.time(12, 0), datetime.time(12, 0), datetime.time(12, 0), datetime.time(12, 0), datetime.time(12, 0), datetime.time(12, 0), datetime.time(12, 0), datetime.time(12, 0), datetime.time(12, 0), datetime.time(12, 0), datetime.time(12, 0), datetime.time(12, 0), datetime.time(12, 0), datetime.time(12, 0), datetime.time(12, 0), datetime.time(12, 0), datetime.time(12, 0), datetime.time(12, 0), datetime.time(12, 0), datetime.time(12, 0), datetime.time(12, 0), datetime.time(12, 0), datetime.time(12, 0), datetime.time(12, 0), datetime.time(12, 0), datetime.time(12, 0), datetime.time(12, 0), datetime.time(12, 0), datetime.time(12, 0), datetime.time(12, 0), datetime.time(12, 0), datetime.time(12, 0), datetime.time(12, 0), datetime.time(12, 0), datetime.time(12, 0), datetime.time(12, 0), datetime.time(12, 0), datetime.time(12, 0), datetime.time(12, 0), datetime.time(12, 0), datetime.time(12, 0), datetime.time(12, 0), datetime.time(12, 0), datetime.time(12, 0), datetime.time(12, 0), datetime.time(12, 0), datetime.time(12, 0), datetime.time(12, 0), datetime.time(12, 0), datetime.time(12, 0), datetime.time(12, 0), datetime.time(12, 0), datetime.time(12, 0), datetime.time(12, 0), datetime.time(12, 0), datetime.time(12, 0), datetime.time(12, 0), datetime.time(12, 0), datetime.time(12, 0), datetime.time(12, 0), datetime.time(12, 0), datetime.time(12, 0), datetime.time(12, 0), datetime.time(12, 0), datetime.time(12, 0), datetime.time(12, 0), datetime.time(12, 0), datetime.time(12, 0), datetime.time(12, 0), datetime.time(12, 0), datetime.time(12, 0), datetime.time(12, 0), datetime.time(12, 0), datetime.time(12, 0), datetime.time(12, 0), datetime.time(12, 0), datetime.time(12, 0), datetime.time(12, 0), datetime.time(12, 0), datetime.time(12, 0), datetime.time(12, 0), datetime.time(12, 0), datetime.time(12, 0), datetime.time(12, 0), datetime.time(12, 0), datetime.time(12, 0), datetime.time(12, 0), datetime.time(12, 0), datetime.time(12, 0), datetime.time(12, 0), datetime.time(12, 0), datetime.time(12, 0), datetime.time(12, 0), datetime.time(12, 0), datetime.time(12, 0), datetime.time(12, 0), datetime.time(12, 0), datetime.time(12, 0), datetime.time(12, 0), datetime.time(12, 0), datetime.time(12, 0), datetime.time(12, 0), datetime.time(12, 0), datetime.time(12, 0), datetime.time(12, 0), datetime.time(12, 0), datetime.time(12, 0), datetime.time(12, 0), datetime.time(12, 0), datetime.time(12, 0), datetime.time(12, 0), datetime.time(12, 0), datetime.time(12, 0), datetime.time(12, 0), datetime.time(12, 0), datetime.time(12, 0), datetime.time(12, 0), datetime.time(12, 0), datetime.time(12, 0), datetime.time(12, 0), datetime.time(12, 0), datetime.time(12, 0), datetime.time(12, 0), datetime.time(12, 0), datetime.time(12, 0), datetime.time(12, 0), datetime.time(12, 0), datetime.time(12, 0), datetime.time(12, 0), datetime.time(12, 0), datetime.time(12, 0), datetime.time(12, 0), datetime.time(12, 0), datetime.time(12, 0), datetime.time(12, 0), datetime.time(12, 0), datetime.time(12, 0), datetime.time(12, 0), datetime.time(12, 0), datetime.time(12, 0), datetime.time(12, 0), datetime.time(12, 0), datetime.time(12, 0), datetime.time(12, 0), datetime.time(12, 0), datetime.time(12, 0), datetime.time(12, 0), datetime.time(12, 0), datetime.time(12, 0), datetime.time(12, 0), datetime.time(12, 0), datetime.time(12, 0), datetime.time(12, 0), datetime.time(12, 0), datetime.time(12, 0), datetime.time(12, 0), datetime.time(12, 0), datetime.time(12, 0), datetime.time(12, 0), datetime.time(12, 0), datetime.time(12, 0), datetime.time(12, 0), datetime.time(12, 0), datetime.time(12, 0), datetime.time(12, 0), datetime.time(12, 0), datetime.time(12, 0), datetime.time(12, 0), datetime.time(12, 0), datetime.time(12, 0), datetime.time(12, 0), datetime.time(12, 0), datetime.time(12, 0), datetime.time(12, 0), datetime.time(12, 0), datetime.time(12, 0), datetime.time(12, 0), datetime.time(12, 0), datetime.time(12, 0), datetime.time(12, 0), datetime.time(12, 0), datetime.time(12, 0), datetime.time(12, 0), datetime.time(12, 0), datetime.time(12, 0), datetime.time(12, 0), datetime.time(12, 0), datetime.time(12, 0), datetime.time(12, 0), datetime.time(12, 0), datetime.time(12, 0), datetime.time(12, 0), datetime.time(12, 0), datetime.time(12, 0), datetime.time(12, 0), datetime.time(12, 0), datetime.time(12, 0), datetime.time(12, 0), datetime.time(12, 0), datetime.time(12, 0), datetime.time(12, 0), datetime.time(12, 0), datetime.time(12, 0), datetime.time(12, 0), datetime.time(12, 0), datetime.time(12, 0), datetime.time(12, 0), datetime.time(12, 0), datetime.time(12, 0), datetime.time(12, 0), datetime.time(12, 0), datetime.time(12, 0), datetime.time(12, 0), datetime.time(12, 0), datetime.time(12, 0), datetime.time(12, 0), datetime.time(12, 0), datetime.time(12, 0), datetime.time(12, 0), datetime.time(12, 0), datetime.time(12, 0), datetime.time(12, 0), datetime.time(12, 0), datetime.time(12, 0), datetime.time(12, 0), datetime.time(12, 0), datetime.time(12, 0), datetime.time(12, 0), datetime.time(12, 0), datetime.time(12, 0), datetime.time(12, 0), datetime.time(12, 0), datetime.time(12, 0), datetime.time(12, 0), datetime.time(12, 0), datetime.time(12, 0), datetime.time(12, 0), datetime.time(12, 0), datetime.time(12, 0), datetime.time(12, 0), datetime.time(12, 0), datetime.time(12, 0), datetime.time(12, 0), datetime.time(12, 0), datetime.time(12, 0), datetime.time(12, 0), datetime.time(12, 0), datetime.time(12, 0), datetime.time(12, 0), datetime.time(12, 0), datetime.time(12, 0), datetime.time(12, 0), datetime.time(12, 0), datetime.time(12, 0), datetime.time(12, 0), datetime.time(12, 0), datetime.time(12, 0), datetime.time(12, 0), datetime.time(12, 0), datetime.time(12, 0), datetime.time(12, 0), datetime.time(12, 0), datetime.time(12, 0), datetime.time(12, 0), datetime.time(12, 0), datetime.time(12, 0), datetime.time(12, 0), datetime.time(12, 0), datetime.time(12, 0), datetime.time(12, 0), datetime.time(12, 0), datetime.time(12, 0), datetime.time(12, 0), datetime.time(12, 0), datetime.time(12, 0), datetime.time(12, 0), datetime.time(12, 0), datetime.time(12, 0), datetime.time(12, 0), datetime.time(12, 0), datetime.time(12, 0), datetime.time(12, 0), datetime.time(12, 0), datetime.time(12, 0), datetime.time(12, 0), datetime.time(12, 0), datetime.time(12, 0), datetime.time(12, 0), datetime.time(12, 0), datetime.time(12, 0), datetime.time(12, 0), datetime.time(12, 0), datetime.time(12, 0), datetime.time(12, 0), datetime.time(12, 0), datetime.time(12, 0), datetime.time(12, 0), datetime.time(12, 0), datetime.time(12, 0), datetime.time(12, 0), datetime.time(12, 0), datetime.time(12, 0), datetime.time(12, 0), datetime.time(12, 0), datetime.time(12, 0), datetime.time(12, 0), datetime.time(12, 0), datetime.time(12, 0), datetime.time(12, 0), datetime.time(12, 0), datetime.time(12, 0), datetime.time(12, 0), datetime.time(12, 0), datetime.time(12, 0), datetime.time(12, 0), datetime.time(12, 0), datetime.time(12, 0), datetime.time(12, 0), datetime.time(12, 0), datetime.time(12, 0), datetime.time(12, 0), datetime.time(12, 0), datetime.time(12, 0), datetime.time(12, 0), datetime.time(12, 0), datetime.time(12, 0), datetime.time(12, 0), datetime.time(12, 0), datetime.time(12, 0), datetime.time(12, 0), datetime.time(12, 0), datetime.time(12, 0), datetime.time(12, 0), datetime.time(12, 0), datetime.time(12, 0), datetime.time(12, 0), datetime.time(12, 0), datetime.time(12, 0), datetime.time(12, 0), datetime.time(12, 0), datetime.time(12, 0), datetime.time(12, 0), datetime.time(12, 0), datetime.time(12, 0), datetime.time(12, 0), datetime.time(12, 0), datetime.time(12, 0), datetime.time(12, 0), datetime.time(12, 0), datetime.time(12, 0), datetime.time(12, 0), datetime.time(12, 0), datetime.time(12, 0), datetime.time(12, 0), datetime.time(12, 0), datetime.time(12, 0), datetime.time(12, 0), datetime.time(12, 0), datetime.time(12, 0), datetime.time(12, 0), datetime.time(12, 0), datetime.time(12, 0), datetime.time(12, 0), datetime.time(12, 0), datetime.time(12, 0), datetime.time(12, 0), datetime.time(12, 0), datetime.time(12, 0), datetime.time(12, 0), datetime.time(12, 0), datetime.time(12, 0), datetime.time(12, 0), datetime.time(12, 0), datetime.time(12, 0), datetime.time(12, 0), datetime.time(12, 0), datetime.time(12, 0), datetime.time(12, 0), datetime.time(12, 0), datetime.time(12, 0), datetime.time(12, 0), datetime.time(12, 0), datetime.time(12, 0), datetime.time(12, 0), datetime.time(12, 0), datetime.time(12, 0), datetime.time(12, 0), datetime.time(12, 0), datetime.time(12, 0), datetime.time(12, 0), datetime.time(12, 0), datetime.time(12, 0), datetime.time(12, 0), datetime.time(12, 0), datetime.time(12, 0), datetime.time(12, 0), datetime.time(12, 0), datetime.time(12, 0), datetime.time(12, 0), datetime.time(12, 0), datetime.time(12, 0), datetime.time(12, 0), datetime.time(12, 0), datetime.time(12, 0), datetime.time(12, 0), datetime.time(12, 0), datetime.time(12, 0), datetime.time(12, 0), datetime.time(12, 0), datetime.time(12, 0), datetime.time(12, 0), datetime.time(12, 0), datetime.time(12, 0), datetime.time(12, 0), datetime.time(12, 0), datetime.time(12, 0), datetime.time(12, 0), datetime.time(12, 0), datetime.time(12, 0), datetime.time(12, 0), datetime.time(12, 0), datetime.time(12, 0), datetime.time(12, 0), datetime.time(12, 0), datetime.time(12, 0), datetime.time(12, 0), datetime.time(12, 0), datetime.time(12, 0), datetime.time(12, 0), datetime.time(12, 0), datetime.time(12, 0), datetime.time(12, 0), datetime.time(12, 0), datetime.time(12, 0), datetime.time(12, 0), datetime.time(12, 0), datetime.time(12, 0), datetime.time(12, 0), datetime.time(12, 0), datetime.time(12, 0), datetime.time(12, 0), datetime.time(12, 0), datetime.time(12, 0), datetime.time(12, 0), datetime.time(12, 0), datetime.time(12, 0), datetime.time(12, 0), datetime.time(12, 0), datetime.time(12, 0), datetime.time(12, 0), datetime.time(12, 0), datetime.time(12, 0), datetime.time(12, 0), datetime.time(12, 0), datetime.time(12, 0), datetime.time(12, 0), datetime.time(12, 0), datetime.time(12, 0), datetime.time(12, 0), datetime.time(12, 0), datetime.time(12, 0), datetime.time(12, 0), datetime.time(12, 0), datetime.time(12, 0), datetime.time(12, 0), datetime.time(12, 0), datetime.time(12, 0), datetime.time(12, 0), datetime.time(12, 0), datetime.time(12, 0), datetime.time(12, 0), datetime.time(12, 0), datetime.time(12, 0), datetime.time(12, 0), datetime.time(12, 0), datetime.time(12, 0), datetime.time(12, 0), datetime.time(12, 0), datetime.time(12, 0), datetime.time(12, 0), datetime.time(12, 0), datetime.time(12, 0), datetime.time(12, 0), datetime.time(12, 0), datetime.time(12, 0), datetime.time(12, 0), datetime.time(12, 0), datetime.time(12, 0), datetime.time(12, 0), datetime.time(12, 0), datetime.time(12, 0), datetime.time(12, 0), datetime.time(12, 0), datetime.time(12, 0), datetime.time(12, 0), datetime.time(12, 0), datetime.time(12, 0), datetime.time(12, 0), datetime.time(12, 0), datetime.time(12, 0), datetime.time(12, 0), datetime.time(12, 0), datetime.time(12, 0), datetime.time(12, 0), datetime.time(12, 0), datetime.time(12, 0), datetime.time(12, 0), datetime.time(12, 0), datetime.time(12, 0), datetime.time(12, 0), datetime.time(12, 0), datetime.time(12, 0), datetime.time(12, 0), datetime.time(12, 0), datetime.time(12, 0), datetime.time(12, 0), datetime.time(12, 0), datetime.time(12, 0), datetime.time(12, 0), datetime.time(12, 0), datetime.time(12, 0), datetime.time(12, 0), datetime.time(12, 0), datetime.time(12, 0), datetime.time(12, 0), datetime.time(12, 0), datetime.time(12, 0), datetime.time(12, 0), datetime.time(12, 0), datetime.time(12, 0), datetime.time(12, 0), datetime.time(12, 0), datetime.time(12, 0), datetime.time(12, 0), datetime.time(12, 0), datetime.time(12, 0), datetime.time(12, 0), datetime.time(12, 0), datetime.time(12, 0), datetime.time(12, 0), datetime.time(12, 0), datetime.time(12, 0), datetime.time(12, 0), datetime.time(12, 0), datetime.time(12, 0), datetime.time(12, 0), datetime.time(12, 0), datetime.time(12, 0), datetime.time(12, 0), datetime.time(12, 0), datetime.time(12, 0), datetime.time(12, 0), datetime.time(12, 0), datetime.time(12, 0), datetime.time(12, 0), datetime.time(12, 0), datetime.time(12, 0), datetime.time(12, 0), datetime.time(12, 0), datetime.time(12, 0), datetime.time(12, 0), datetime.time(12, 0), datetime.time(12, 0), datetime.time(12, 0), datetime.time(12, 0), datetime.time(12, 0), datetime.time(12, 0), datetime.time(12, 0), datetime.time(12, 0), datetime.time(12, 0), datetime.time(12, 0), datetime.time(12, 0), datetime.time(12, 0), datetime.time(12, 0), datetime.time(12, 0), datetime.time(12, 0), datetime.time(12, 0), datetime.time(12, 0), datetime.time(12, 0), datetime.time(12, 0), datetime.time(12, 0), datetime.time(12, 0), datetime.time(12, 0), datetime.time(12, 0), datetime.time(12, 0), datetime.time(12, 0), datetime.time(12, 0), datetime.time(12, 0), datetime.time(12, 0), datetime.time(12, 0), datetime.time(12, 0), datetime.time(12, 0), datetime.time(12, 0), datetime.time(12, 0), datetime.time(12, 0), datetime.time(12, 0), datetime.time(12, 0), datetime.time(12, 0), datetime.time(12, 0), datetime.time(12, 0), datetime.time(12, 0), datetime.time(12, 0), datetime.time(12, 0), datetime.time(12, 0), datetime.time(12, 0), datetime.time(12, 0), datetime.time(12, 0), datetime.time(12, 0), datetime.time(12, 0), datetime.time(12, 0), datetime.time(12, 0), datetime.time(12, 0), datetime.time(12, 0), datetime.time(12, 0), datetime.time(12, 0), datetime.time(12, 0), datetime.time(12, 0), datetime.time(12, 0), datetime.time(12, 0), datetime.time(12, 0), datetime.time(12, 0), datetime.time(12, 0), datetime.time(12, 0), datetime.time(12, 0), datetime.time(12, 0), datetime.time(12, 0), datetime.time(12, 0), datetime.time(12, 0), datetime.time(12, 0), datetime.time(12, 0), datetime.time(12, 0), datetime.time(12, 0), datetime.time(12, 0), datetime.time(12, 0), datetime.time(12, 0), datetime.time(12, 0), datetime.time(12, 0), datetime.time(12, 0), datetime.time(12, 0), datetime.time(12, 0), datetime.time(12, 0), datetime.time(12, 0), datetime.time(12, 0), datetime.time(12, 0), datetime.time(12, 0), datetime.time(12, 0), datetime.time(12, 0), datetime.time(12, 0), datetime.time(12, 0), datetime.time(12, 0), datetime.time(12, 0), datetime.time(12, 0), datetime.time(12, 0), datetime.time(12, 0), datetime.time(12, 0), datetime.time(12, 0), datetime.time(12, 0), datetime.time(12, 0), datetime.time(12, 0), datetime.time(12, 0), datetime.time(12, 0), datetime.time(12, 0), datetime.time(12, 0), datetime.time(12, 0), datetime.time(12, 0), datetime.time(12, 0), datetime.time(12, 0), datetime.time(12, 0), datetime.time(12, 0), datetime.time(12, 0), datetime.time(12, 0), datetime.time(12, 0), datetime.time(12, 0), datetime.time(12, 0), datetime.time(12, 0), datetime.time(12, 0), datetime.time(12, 0), datetime.time(12, 0), datetime.time(12, 0), datetime.time(12, 0), datetime.time(12, 0), datetime.time(12, 0), datetime.time(12, 0), datetime.time(12, 0), datetime.time(12, 0), datetime.time(12, 0), datetime.time(12, 0), datetime.time(12, 0), datetime.time(12, 0), datetime.time(12, 0), datetime.time(12, 0), datetime.time(12, 0), datetime.time(12, 0), datetime.time(12, 0), datetime.time(12, 0), datetime.time(12, 0), datetime.time(12, 0), datetime.time(12, 0), datetime.time(12, 0), datetime.time(12, 0), datetime.time(12, 0), datetime.time(12, 0), datetime.time(12, 0), datetime.time(12, 0), datetime.time(12, 0), datetime.time(12, 0), datetime.time(12, 0), datetime.time(12, 0), datetime.time(12, 0), datetime.time(12, 0), datetime.time(12, 0), datetime.time(12, 0), datetime.time(12, 0), datetime.time(12, 0), datetime.time(12, 0), datetime.time(12, 0), datetime.time(12, 0), datetime.time(12, 0), datetime.time(12, 0), datetime.time(12, 0), datetime.time(12, 0), datetime.time(12, 0), datetime.time(12, 0), datetime.time(12, 0), datetime.time(12, 0), datetime.time(12, 0), datetime.time(12, 0), datetime.time(12, 0), datetime.time(12, 0), datetime.time(12, 0), datetime.time(12, 0), datetime.time(12, 0), datetime.time(12, 0), datetime.time(12, 0), datetime.time(12, 0), datetime.time(12, 0), datetime.time(12, 0), datetime.time(12, 0), datetime.time(12, 0), datetime.time(12, 0), datetime.time(12, 0), datetime.time(12, 0), datetime.time(12, 0), datetime.time(12, 0), datetime.time(12, 0), datetime.time(12, 0), datetime.time(12, 0), datetime.time(12, 0), datetime.time(12, 0), datetime.time(12, 0), datetime.time(12, 0), datetime.time(12, 0), datetime.time(12, 0), datetime.time(12, 0), datetime.time(12, 0), datetime.time(12, 0), datetime.time(12, 0), datetime.time(12, 0), datetime.time(12, 0), datetime.time(12, 0), datetime.time(12, 0), datetime.time(12, 0), datetime.time(12, 0), datetime.time(12, 0), datetime.time(12, 0), datetime.time(12, 0), datetime.time(12, 0), datetime.time(12, 0), datetime.time(12, 0), datetime.time(12, 0), datetime.time(12, 0), datetime.time(12, 0), datetime.time(12, 0), datetime.time(12, 0), datetime.time(12, 0), datetime.time(12, 0), datetime.time(12, 0), datetime.time(12, 0), datetime.time(12, 0), datetime.time(12, 0), datetime.time(12, 0), datetime.time(12, 0), datetime.time(12, 0), datetime.time(12, 0), datetime.time(12, 0), datetime.time(12, 0), datetime.time(12, 0), datetime.time(12, 0), datetime.time(12, 0), datetime.time(12, 0), datetime.time(12, 0), datetime.time(12, 0), datetime.time(12, 0), datetime.time(12, 0), datetime.time(12, 0), datetime.time(12, 0), datetime.time(12, 0), datetime.time(12, 0), datetime.time(12, 0), datetime.time(12, 0), datetime.time(12, 0), datetime.time(12, 0), datetime.time(12, 0), datetime.time(12, 0), datetime.time(12, 0), datetime.time(12, 0), datetime.time(12, 0), datetime.time(12, 0), datetime.time(12, 0), datetime.time(12, 0), datetime.time(12, 0), datetime.time(12, 0), datetime.time(12, 0), datetime.time(12, 0), datetime.time(12, 0), datetime.time(12, 0), datetime.time(12, 0), datetime.time(12, 0), datetime.time(12, 0), datetime.time(12, 0), datetime.time(12, 0), datetime.time(12, 0), datetime.time(12, 0), datetime.time(12, 0), datetime.time(12, 0), datetime.time(12, 0), datetime.time(12, 0), datetime.time(12, 0), datetime.time(12, 0), datetime.time(12, 0), datetime.time(12, 0), datetime.time(12, 0), datetime.time(12, 0), datetime.time(12, 0), datetime.time(12, 0), datetime.time(12, 0), datetime.time(12, 0), datetime.time(12, 0), datetime.time(12, 0), datetime.time(12, 0), datetime.time(12, 0), datetime.time(12, 0), datetime.time(12, 0), datetime.time(12, 0), datetime.time(12, 0), datetime.time(12, 0), datetime.time(12, 0), datetime.time(12, 0), datetime.time(12, 0), datetime.time(12, 0), datetime.time(12, 0), datetime.time(12, 0), datetime.time(12, 0), datetime.time(12, 0), datetime.time(12, 0), datetime.time(12, 0), datetime.time(12, 0), datetime.time(12, 0), datetime.time(12, 0), datetime.time(12, 0), datetime.time(12, 0), datetime.time(12, 0), datetime.time(12, 0), datetime.time(12, 0), datetime.time(12, 0), datetime.time(12, 0), datetime.time(12, 0), datetime.time(12, 0), datetime.time(12, 0), datetime.time(12, 0), datetime.time(12, 0), datetime.time(12, 0), datetime.time(12, 0), datetime.time(12, 0), datetime.time(12, 0), datetime.time(12, 0), datetime.time(12, 0), datetime.time(12, 0), datetime.time(12, 0), datetime.time(12, 0), datetime.time(12, 0), datetime.time(12, 0), datetime.time(12, 0), datetime.time(12, 0), datetime.time(12, 0), datetime.time(12, 0), datetime.time(12, 0), datetime.time(12, 0), datetime.time(12, 0), datetime.time(12, 0), datetime.time(12, 0), datetime.time(12, 0), datetime.time(12, 0), datetime.time(12, 0), datetime.time(12, 0), datetime.time(12, 0), datetime.time(12, 0), datetime.time(12, 0), datetime.time(12, 0), datetime.time(12, 0), datetime.time(12, 0), datetime.time(12, 0), datetime.time(12, 0), datetime.time(12, 0), datetime.time(12, 0), datetime.time(12, 0), datetime.time(12, 0), datetime.time(12, 0), datetime.time(12, 0), datetime.time(12, 0), datetime.time(12, 0), datetime.time(12, 0), datetime.time(12, 0), datetime.time(12, 0), datetime.time(12, 0), datetime.time(12, 0), datetime.time(12, 0), datetime.time(12, 0), datetime.time(12, 0), datetime.time(12, 0), datetime.time(12, 0), datetime.time(12, 0), datetime.time(12, 0), datetime.time(12, 0), datetime.time(12, 0), datetime.time(12, 0), datetime.time(12, 0), datetime.time(12, 0), datetime.time(12, 0), datetime.time(12, 0), datetime.time(12, 0), datetime.time(12, 0), datetime.time(12, 0), datetime.time(12, 0), datetime.time(12, 0), datetime.time(12, 0), datetime.time(12, 0), datetime.time(12, 0), datetime.time(12, 0), datetime.time(12, 0), datetime.time(12, 0), datetime.time(12, 0), datetime.time(12, 0), datetime.time(12, 0), datetime.time(12, 0), datetime.time(12, 0), datetime.time(12, 0), datetime.time(12, 0), datetime.time(12, 0), datetime.time(12, 0), datetime.time(12, 0), datetime.time(12, 0), datetime.time(12, 0), datetime.time(12, 0), datetime.time(12, 0), datetime.time(12, 0), datetime.time(12, 0), datetime.time(12, 0), datetime.time(12, 0), datetime.time(12, 0), datetime.time(12, 0), datetime.time(12, 0), datetime.time(12, 0), datetime.time(12, 0), datetime.time(12, 0), datetime.time(12, 0), datetime.time(12, 0), datetime.time(12, 0), datetime.time(12, 0), datetime.time(12, 0), datetime.time(12, 0), datetime.time(12, 0), datetime.time(12, 0), datetime.time(12, 0), datetime.time(12, 0), datetime.time(12, 0), datetime.time(12, 0), datetime.time(12, 0), datetime.time(12, 0), datetime.time(12, 0), datetime.time(12, 0), datetime.time(12, 0), datetime.time(12, 0), datetime.time(12, 0), datetime.time(12, 0), datetime.time(12, 0), datetime.time(12, 0), datetime.time(12, 0), datetime.time(12, 0), datetime.time(12, 0), datetime.time(12, 0), datetime.time(12, 0), datetime.time(12, 0), datetime.time(12, 0), datetime.time(12, 0), datetime.time(12, 0), datetime.time(12, 0), datetime.time(12, 0), datetime.time(12, 0), datetime.time(12, 0), datetime.time(12, 0), datetime.time(12, 0), datetime.time(12, 0), datetime.time(12, 0), datetime.time(12, 0), datetime.time(12, 0), datetime.time(12, 0), datetime.time(12, 0), datetime.time(12, 0), datetime.time(12, 0), datetime.time(12, 0), datetime.time(12, 0), datetime.time(12, 0), datetime.time(12, 0), datetime.time(12, 0), datetime.time(12, 0), datetime.time(12, 0), datetime.time(12, 0), datetime.time(12, 0), datetime.time(12, 0), datetime.time(12, 0), datetime.time(12, 0), datetime.time(12, 0), datetime.time(12, 0), datetime.time(12, 0), datetime.time(12, 0), datetime.time(12, 0), datetime.time(12, 0), datetime.time(12, 0), datetime.time(12, 0), datetime.time(12, 0), datetime.time(12, 0), datetime.time(12, 0), datetime.time(12, 0), datetime.time(12, 0), datetime.time(12, 0), datetime.time(12, 0), datetime.time(12, 0), datetime.time(12, 0), datetime.time(12, 0), datetime.time(12, 0), datetime.time(12, 0), datetime.time(12, 0), datetime.time(12, 0), datetime.time(12, 0), datetime.time(12, 0), datetime.time(12, 0), datetime.time(12, 0), datetime.time(12, 0), datetime.time(12, 0), datetime.time(12, 0), datetime.time(12, 0), datetime.time(12, 0), datetime.time(12, 0), datetime.time(12, 0), datetime.time(12, 0), datetime.time(12, 0), datetime.time(12, 0), datetime.time(12, 0), datetime.time(12, 0), datetime.time(12, 0), datetime.time(12, 0), datetime.time(12, 0), datetime.time(12, 0), datetime.time(12, 0), datetime.time(12, 0), datetime.time(12, 0), datetime.time(12, 0), datetime.time(12, 0), datetime.time(12, 0), datetime.time(12, 0), datetime.time(12, 0), datetime.time(12, 0), datetime.time(12, 0), datetime.time(12, 0), datetime.time(12, 0), datetime.time(12, 0), datetime.time(12, 0), datetime.time(12, 0), datetime.time(12, 0), datetime.time(12, 0), datetime.time(12, 0), datetime.time(12, 0), datetime.time(12, 0), datetime.time(12, 0), datetime.time(12, 0), datetime.time(12, 0), datetime.time(12, 0), datetime.time(12, 0), datetime.time(12, 0), datetime.time(12, 0), datetime.time(12, 0), datetime.time(12, 0), datetime.time(12, 0), datetime.time(12, 0), datetime.time(12, 0), datetime.time(12, 0), datetime.time(12, 0), datetime.time(12, 0), datetime.time(12, 0), datetime.time(12, 0), datetime.time(12, 0), datetime.time(12, 0), datetime.time(12, 0), datetime.time(12, 0), datetime.time(12, 0), datetime.time(12, 0), datetime.time(12, 0), datetime.time(12, 0), datetime.time(12, 0), datetime.time(12, 0), datetime.time(12, 0), datetime.time(12, 0), datetime.time(12, 0), datetime.time(12, 0), datetime.time(12, 0), datetime.time(12, 0), datetime.time(12, 0), datetime.time(12, 0), datetime.time(12, 0), datetime.time(12, 0), datetime.time(12, 0), datetime.time(12, 0), datetime.time(12, 0), datetime.time(12, 0), datetime.time(12, 0), datetime.time(12, 0), datetime.time(12, 0), datetime.time(12, 0), datetime.time(12, 0), datetime.time(12, 0), datetime.time(12, 0), datetime.time(12, 0), datetime.time(12, 0), datetime.time(12, 0), datetime.time(12, 0), datetime.time(12, 0), datetime.time(12, 0), datetime.time(12, 0), datetime.time(12, 0), datetime.time(12, 0), datetime.time(12, 0), datetime.time(12, 0), datetime.time(12, 0), datetime.time(12, 0), datetime.time(12, 0), datetime.time(12, 0), datetime.time(12, 0), datetime.time(12, 0), datetime.time(12, 0), datetime.time(12, 0), datetime.time(12, 0), datetime.time(12, 0), datetime.time(12, 0), datetime.time(12, 0), datetime.time(12, 0), datetime.time(12, 0), datetime.time(12, 0), datetime.time(12, 0), datetime.time(12, 0), datetime.time(12, 0), datetime.time(12, 0), datetime.time(12, 0), datetime.time(12, 0), datetime.time(12, 0), datetime.time(12, 0), datetime.time(12, 0), datetime.time(12, 0), datetime.time(12, 0), datetime.time(12, 0), datetime.time(12, 0), datetime.time(12, 0), datetime.time(12, 0), datetime.time(12, 0), datetime.time(12, 0), datetime.time(12, 0), datetime.time(12, 0), datetime.time(12, 0), datetime.time(12, 0), datetime.time(12, 0), datetime.time(12, 0), datetime.time(12, 0), datetime.time(12, 0), datetime.time(12, 0), datetime.time(12, 0), datetime.time(12, 0), datetime.time(12, 0), datetime.time(12, 0), datetime.time(12, 0), datetime.time(12, 0), datetime.time(12, 0), datetime.time(12, 0), datetime.time(12, 0), datetime.time(12, 0), datetime.time(12, 0), datetime.time(12, 0), datetime.time(12, 0), datetime.time(12, 0), datetime.time(12, 0), datetime.time(12, 0), datetime.time(12, 0), datetime.time(12, 0), datetime.time(12, 0), datetime.time(12, 0), datetime.time(12, 0), datetime.time(12, 0), datetime.time(12, 0), datetime.time(12, 0), datetime.time(12, 0), datetime.time(12, 0), datetime.time(12, 0), datetime.time(12, 0), datetime.time(12, 0), datetime.time(12, 0), datetime.time(18, 0), datetime.time(18, 0), datetime.time(18, 0), datetime.time(18, 0), datetime.time(18, 0), datetime.time(18, 0), datetime.time(18, 0), datetime.time(18, 0), datetime.time(18, 0), datetime.time(18, 0), datetime.time(18, 0), datetime.time(18, 0), datetime.time(18, 0), datetime.time(18, 0), datetime.time(18, 0), datetime.time(18, 0), datetime.time(18, 0), datetime.time(18, 0), datetime.time(18, 0), datetime.time(18, 0), datetime.time(18, 0), datetime.time(18, 0), datetime.time(18, 0), datetime.time(18, 0), datetime.time(18, 0), datetime.time(18, 0), datetime.time(18, 0), datetime.time(18, 0), datetime.time(18, 0), datetime.time(18, 0), datetime.time(18, 0), datetime.time(18, 0), datetime.time(18, 0), datetime.time(18, 0), datetime.time(18, 0), datetime.time(18, 0), datetime.time(18, 0), datetime.time(18, 0), datetime.time(18, 0), datetime.time(18, 0), datetime.time(18, 0), datetime.time(18, 0), datetime.time(18, 0), datetime.time(18, 0), datetime.time(18, 0), datetime.time(18, 0), datetime.time(18, 0), datetime.time(18, 0), datetime.time(18, 0), datetime.time(18, 0), datetime.time(18, 0), datetime.time(18, 0), datetime.time(18, 0), datetime.time(18, 0), datetime.time(18, 0), datetime.time(18, 0), datetime.time(18, 0), datetime.time(18, 0), datetime.time(18, 0), datetime.time(18, 0), datetime.time(18, 0), datetime.time(18, 0), datetime.time(18, 0), datetime.time(18, 0), datetime.time(18, 0), datetime.time(18, 0), datetime.time(18, 0), datetime.time(18, 0), datetime.time(18, 0), datetime.time(18, 0), datetime.time(18, 0), datetime.time(18, 0), datetime.time(18, 0), datetime.time(18, 0), datetime.time(18, 0), datetime.time(18, 0), datetime.time(18, 0), datetime.time(18, 0), datetime.time(18, 0), datetime.time(18, 0), datetime.time(18, 0), datetime.time(18, 0), datetime.time(18, 0), datetime.time(18, 0), datetime.time(18, 0), datetime.time(18, 0), datetime.time(18, 0), datetime.time(18, 0), datetime.time(18, 0), datetime.time(18, 0), datetime.time(18, 0), datetime.time(18, 0), datetime.time(18, 0), datetime.time(18, 0), datetime.time(18, 0), datetime.time(18, 0), datetime.time(18, 0), datetime.time(18, 0), datetime.time(18, 0), datetime.time(18, 0), datetime.time(18, 0), datetime.time(18, 0), datetime.time(18, 0), datetime.time(18, 0), datetime.time(18, 0), datetime.time(18, 0), datetime.time(18, 0), datetime.time(18, 0), datetime.time(18, 0), datetime.time(18, 0), datetime.time(18, 0), datetime.time(18, 0), datetime.time(18, 0), datetime.time(18, 0), datetime.time(18, 0), datetime.time(18, 0), datetime.time(18, 0), datetime.time(18, 0), datetime.time(18, 0), datetime.time(18, 0), datetime.time(18, 0), datetime.time(18, 0), datetime.time(18, 0), datetime.time(18, 0), datetime.time(18, 0), datetime.time(18, 0), datetime.time(18, 0), datetime.time(18, 0), datetime.time(18, 0), datetime.time(18, 0), datetime.time(18, 0), datetime.time(18, 0), datetime.time(18, 0), datetime.time(18, 0), datetime.time(18, 0), datetime.time(18, 0), datetime.time(18, 0), datetime.time(18, 0), datetime.time(18, 0), datetime.time(18, 0), datetime.time(18, 0), datetime.time(18, 0), datetime.time(18, 0), datetime.time(18, 0), datetime.time(18, 0), datetime.time(18, 0), datetime.time(18, 0), datetime.time(18, 0), datetime.time(18, 0), datetime.time(18, 0), datetime.time(18, 0), datetime.time(18, 0), datetime.time(18, 0), datetime.time(18, 0), datetime.time(18, 0), datetime.time(18, 0), datetime.time(18, 0), datetime.time(18, 0), datetime.time(18, 0), datetime.time(18, 0), datetime.time(18, 0), datetime.time(18, 0), datetime.time(18, 0), datetime.time(18, 0), datetime.time(18, 0), datetime.time(18, 0), datetime.time(18, 0), datetime.time(18, 0), datetime.time(18, 0), datetime.time(18, 0), datetime.time(18, 0), datetime.time(18, 0), datetime.time(18, 0), datetime.time(18, 0), datetime.time(18, 0), datetime.time(18, 0), datetime.time(18, 0), datetime.time(18, 0), datetime.time(18, 0), datetime.time(18, 0), datetime.time(18, 0), datetime.time(18, 0), datetime.time(18, 0), datetime.time(18, 0), datetime.time(18, 0), datetime.time(18, 0), datetime.time(18, 0), datetime.time(18, 0), datetime.time(18, 0), datetime.time(18, 0), datetime.time(18, 0), datetime.time(18, 0), datetime.time(18, 0), datetime.time(18, 0), datetime.time(18, 0), datetime.time(18, 0), datetime.time(18, 0), datetime.time(18, 0), datetime.time(18, 0), datetime.time(18, 0), datetime.time(18, 0), datetime.time(18, 0), datetime.time(18, 0), datetime.time(18, 0), datetime.time(18, 0), datetime.time(18, 0), datetime.time(18, 0), datetime.time(18, 0), datetime.time(18, 0), datetime.time(18, 0), datetime.time(18, 0), datetime.time(18, 0), datetime.time(18, 0), datetime.time(18, 0), datetime.time(18, 0), datetime.time(18, 0), datetime.time(18, 0), datetime.time(18, 0), datetime.time(18, 0), datetime.time(18, 0), datetime.time(18, 0), datetime.time(18, 0), datetime.time(18, 0), datetime.time(18, 0), datetime.time(18, 0), datetime.time(18, 0), datetime.time(18, 0), datetime.time(18, 0), datetime.time(18, 0), datetime.time(18, 0), datetime.time(18, 0), datetime.time(18, 0), datetime.time(18, 0), datetime.time(18, 0), datetime.time(18, 0), datetime.time(18, 0), datetime.time(18, 0), datetime.time(18, 0), datetime.time(18, 0), datetime.time(18, 0), datetime.time(18, 0), datetime.time(18, 0), datetime.time(18, 0), datetime.time(18, 0), datetime.time(18, 0), datetime.time(18, 0), datetime.time(18, 0), datetime.time(18, 0), datetime.time(18, 0), datetime.time(18, 0), datetime.time(18, 0), datetime.time(18, 0), datetime.time(18, 0), datetime.time(18, 0), datetime.time(18, 0), datetime.time(18, 0), datetime.time(18, 0), datetime.time(18, 0), datetime.time(18, 0), datetime.time(18, 0), datetime.time(18, 0), datetime.time(18, 0), datetime.time(18, 0), datetime.time(18, 0), datetime.time(18, 0), datetime.time(18, 0), datetime.time(18, 0), datetime.time(18, 0), datetime.time(18, 0), datetime.time(18, 0), datetime.time(18, 0), datetime.time(18, 0), datetime.time(18, 0), datetime.time(18, 0), datetime.time(18, 0), datetime.time(18, 0), datetime.time(18, 0), datetime.time(18, 0), datetime.time(18, 0), datetime.time(18, 0), datetime.time(18, 0), datetime.time(18, 0), datetime.time(18, 0), datetime.time(18, 0), datetime.time(18, 0), datetime.time(18, 0), datetime.time(18, 0), datetime.time(18, 0), datetime.time(18, 0), datetime.time(18, 0), datetime.time(18, 0), datetime.time(18, 0), datetime.time(18, 0), datetime.time(18, 0), datetime.time(18, 0), datetime.time(18, 0), datetime.time(18, 0), datetime.time(18, 0), datetime.time(18, 0), datetime.time(18, 0), datetime.time(18, 0), datetime.time(18, 0), datetime.time(18, 0), datetime.time(18, 0), datetime.time(18, 0), datetime.time(18, 0), datetime.time(18, 0), datetime.time(18, 0), datetime.time(18, 0), datetime.time(18, 0), datetime.time(18, 0), datetime.time(18, 0), datetime.time(18, 0), datetime.time(18, 0), datetime.time(18, 0), datetime.time(18, 0), datetime.time(18, 0), datetime.time(18, 0), datetime.time(18, 0), datetime.time(18, 0), datetime.time(18, 0), datetime.time(18, 0), datetime.time(18, 0), datetime.time(18, 0), datetime.time(18, 0), datetime.time(18, 0), datetime.time(18, 0), datetime.time(18, 0), datetime.time(18, 0), datetime.time(18, 0), datetime.time(18, 0), datetime.time(18, 0), datetime.time(18, 0), datetime.time(18, 0), datetime.time(18, 0), datetime.time(18, 0), datetime.time(18, 0), datetime.time(18, 0), datetime.time(18, 0), datetime.time(18, 0), datetime.time(18, 0), datetime.time(18, 0), datetime.time(18, 0), datetime.time(18, 0), datetime.time(18, 0), datetime.time(18, 0), datetime.time(18, 0), datetime.time(18, 0), datetime.time(18, 0), datetime.time(18, 0), datetime.time(18, 0), datetime.time(18, 0), datetime.time(18, 0), datetime.time(18, 0), datetime.time(18, 0), datetime.time(18, 0), datetime.time(18, 0), datetime.time(18, 0), datetime.time(18, 0), datetime.time(18, 0), datetime.time(18, 0), datetime.time(18, 0), datetime.time(18, 0), datetime.time(18, 0), datetime.time(18, 0), datetime.time(18, 0), datetime.time(18, 0), datetime.time(18, 0), datetime.time(18, 0), datetime.time(18, 0), datetime.time(18, 0), datetime.time(18, 0), datetime.time(18, 0), datetime.time(18, 0), datetime.time(18, 0), datetime.time(18, 0), datetime.time(18, 0), datetime.time(18, 0), datetime.time(18, 0), datetime.time(18, 0), datetime.time(18, 0), datetime.time(18, 0), datetime.time(18, 0), datetime.time(18, 0), datetime.time(18, 0), datetime.time(18, 0), datetime.time(18, 0), datetime.time(18, 0), datetime.time(18, 0), datetime.time(18, 0), datetime.time(18, 0), datetime.time(18, 0), datetime.time(18, 0), datetime.time(18, 0), datetime.time(18, 0), datetime.time(18, 0), datetime.time(18, 0), datetime.time(18, 0), datetime.time(18, 0), datetime.time(18, 0), datetime.time(18, 0), datetime.time(18, 0), datetime.time(18, 0), datetime.time(18, 0), datetime.time(18, 0), datetime.time(18, 0), datetime.time(18, 0), datetime.time(18, 0), datetime.time(18, 0), datetime.time(18, 0), datetime.time(18, 0), datetime.time(18, 0), datetime.time(18, 0), datetime.time(18, 0), datetime.time(18, 0), datetime.time(18, 0), datetime.time(18, 0), datetime.time(18, 0), datetime.time(18, 0), datetime.time(18, 0), datetime.time(18, 0), datetime.time(18, 0), datetime.time(18, 0), datetime.time(18, 0), datetime.time(18, 0), datetime.time(18, 0), datetime.time(18, 0), datetime.time(18, 0), datetime.time(18, 0), datetime.time(18, 0), datetime.time(18, 0), datetime.time(18, 0), datetime.time(18, 0), datetime.time(18, 0), datetime.time(18, 0), datetime.time(18, 0), datetime.time(18, 0), datetime.time(18, 0), datetime.time(18, 0), datetime.time(18, 0), datetime.time(18, 0), datetime.time(18, 0), datetime.time(18, 0), datetime.time(18, 0), datetime.time(18, 0), datetime.time(18, 0), datetime.time(18, 0), datetime.time(18, 0), datetime.time(18, 0), datetime.time(18, 0), datetime.time(18, 0), datetime.time(18, 0), datetime.time(18, 0), datetime.time(18, 0), datetime.time(18, 0), datetime.time(18, 0), datetime.time(18, 0), datetime.time(18, 0), datetime.time(18, 0), datetime.time(18, 0), datetime.time(18, 0), datetime.time(18, 0), datetime.time(18, 0), datetime.time(18, 0), datetime.time(18, 0), datetime.time(18, 0), datetime.time(18, 0), datetime.time(18, 0), datetime.time(18, 0), datetime.time(18, 0), datetime.time(18, 0), datetime.time(18, 0), datetime.time(18, 0), datetime.time(18, 0), datetime.time(18, 0), datetime.time(18, 0), datetime.time(18, 0), datetime.time(18, 0), datetime.time(18, 0), datetime.time(18, 0), datetime.time(18, 0), datetime.time(18, 0), datetime.time(18, 0), datetime.time(18, 0), datetime.time(18, 0), datetime.time(18, 0), datetime.time(18, 0), datetime.time(18, 0), datetime.time(18, 0), datetime.time(18, 0), datetime.time(18, 0), datetime.time(18, 0), datetime.time(18, 0), datetime.time(18, 0), datetime.time(18, 0), datetime.time(18, 0), datetime.time(18, 0), datetime.time(18, 0), datetime.time(18, 0), datetime.time(18, 0), datetime.time(18, 0), datetime.time(18, 0), datetime.time(18, 0), datetime.time(18, 0), datetime.time(18, 0), datetime.time(18, 0), datetime.time(18, 0), datetime.time(18, 0), datetime.time(18, 0), datetime.time(18, 0), datetime.time(18, 0), datetime.time(18, 0), datetime.time(18, 0), datetime.time(18, 0), datetime.time(18, 0), datetime.time(18, 0), datetime.time(18, 0), datetime.time(18, 0), datetime.time(18, 0), datetime.time(18, 0), datetime.time(18, 0), datetime.time(18, 0), datetime.time(18, 0), datetime.time(18, 0), datetime.time(18, 0), datetime.time(18, 0), datetime.time(18, 0), datetime.time(18, 0), datetime.time(18, 0), datetime.time(18, 0), datetime.time(18, 0), datetime.time(18, 0), datetime.time(18, 0), datetime.time(18, 0), datetime.time(18, 0), datetime.time(18, 0), datetime.time(18, 0), datetime.time(18, 0), datetime.time(18, 0), datetime.time(18, 0), datetime.time(18, 0), datetime.time(18, 0), datetime.time(18, 0), datetime.time(18, 0), datetime.time(18, 0), datetime.time(18, 0), datetime.time(18, 0), datetime.time(18, 0), datetime.time(18, 0), datetime.time(18, 0), datetime.time(18, 0), datetime.time(18, 0), datetime.time(18, 0), datetime.time(18, 0), datetime.time(18, 0), datetime.time(18, 0), datetime.time(18, 0), datetime.time(18, 0), datetime.time(18, 0), datetime.time(18, 0), datetime.time(18, 0), datetime.time(18, 0), datetime.time(18, 0), datetime.time(18, 0), datetime.time(18, 0), datetime.time(18, 0), datetime.time(18, 0), datetime.time(18, 0), datetime.time(18, 0), datetime.time(18, 0), datetime.time(18, 0), datetime.time(18, 0), datetime.time(18, 0), datetime.time(18, 0), datetime.time(18, 0), datetime.time(18, 0), datetime.time(18, 0), datetime.time(18, 0), datetime.time(18, 0), datetime.time(18, 0), datetime.time(18, 0), datetime.time(18, 0), datetime.time(18, 0), datetime.time(18, 0), datetime.time(18, 0), datetime.time(18, 0), datetime.time(18, 0), datetime.time(18, 0), datetime.time(18, 0), datetime.time(18, 0), datetime.time(18, 0), datetime.time(18, 0), datetime.time(18, 0), datetime.time(18, 0), datetime.time(18, 0), datetime.time(18, 0), datetime.time(18, 0), datetime.time(18, 0), datetime.time(18, 0), datetime.time(18, 0), datetime.time(18, 0), datetime.time(18, 0), datetime.time(18, 0), datetime.time(18, 0), datetime.time(18, 0), datetime.time(18, 0), datetime.time(18, 0), datetime.time(18, 0), datetime.time(18, 0), datetime.time(18, 0), datetime.time(18, 0), datetime.time(18, 0), datetime.time(18, 0), datetime.time(18, 0), datetime.time(18, 0), datetime.time(18, 0), datetime.time(18, 0), datetime.time(18, 0), datetime.time(18, 0), datetime.time(18, 0), datetime.time(18, 0), datetime.time(18, 0), datetime.time(18, 0), datetime.time(18, 0), datetime.time(18, 0), datetime.time(18, 0), datetime.time(18, 0), datetime.time(18, 0), datetime.time(18, 0), datetime.time(18, 0), datetime.time(18, 0), datetime.time(18, 0), datetime.time(18, 0), datetime.time(18, 0), datetime.time(18, 0), datetime.time(18, 0), datetime.time(18, 0), datetime.time(18, 0), datetime.time(18, 0), datetime.time(18, 0), datetime.time(18, 0), datetime.time(18, 0), datetime.time(18, 0), datetime.time(18, 0), datetime.time(18, 0), datetime.time(18, 0), datetime.time(18, 0), datetime.time(18, 0), datetime.time(18, 0), datetime.time(18, 0), datetime.time(18, 0), datetime.time(18, 0), datetime.time(18, 0), datetime.time(18, 0), datetime.time(18, 0), datetime.time(18, 0), datetime.time(18, 0), datetime.time(18, 0), datetime.time(18, 0), datetime.time(18, 0), datetime.time(18, 0), datetime.time(18, 0), datetime.time(18, 0), datetime.time(18, 0), datetime.time(18, 0), datetime.time(18, 0), datetime.time(18, 0), datetime.time(18, 0), datetime.time(18, 0), datetime.time(18, 0), datetime.time(18, 0), datetime.time(18, 0), datetime.time(18, 0), datetime.time(18, 0), datetime.time(18, 0), datetime.time(18, 0), datetime.time(18, 0), datetime.time(18, 0), datetime.time(18, 0), datetime.time(18, 0), datetime.time(18, 0), datetime.time(18, 0), datetime.time(18, 0), datetime.time(18, 0), datetime.time(18, 0), datetime.time(18, 0), datetime.time(18, 0), datetime.time(18, 0), datetime.time(18, 0), datetime.time(18, 0), datetime.time(18, 0), datetime.time(18, 0), datetime.time(18, 0), datetime.time(18, 0), datetime.time(18, 0), datetime.time(18, 0), datetime.time(18, 0), datetime.time(18, 0), datetime.time(18, 0), datetime.time(18, 0), datetime.time(18, 0), datetime.time(18, 0), datetime.time(18, 0), datetime.time(18, 0), datetime.time(18, 0), datetime.time(18, 0), datetime.time(18, 0), datetime.time(18, 0), datetime.time(18, 0), datetime.time(18, 0), datetime.time(18, 0), datetime.time(18, 0), datetime.time(18, 0), datetime.time(18, 0), datetime.time(18, 0), datetime.time(18, 0), datetime.time(18, 0), datetime.time(18, 0), datetime.time(18, 0), datetime.time(18, 0), datetime.time(18, 0), datetime.time(18, 0), datetime.time(18, 0), datetime.time(18, 0), datetime.time(18, 0), datetime.time(18, 0), datetime.time(18, 0), datetime.time(18, 0), datetime.time(18, 0), datetime.time(18, 0), datetime.time(18, 0), datetime.time(18, 0), datetime.time(18, 0), datetime.time(18, 0), datetime.time(18, 0), datetime.time(18, 0), datetime.time(18, 0), datetime.time(18, 0), datetime.time(18, 0), datetime.time(18, 0), datetime.time(18, 0), datetime.time(18, 0), datetime.time(18, 0), datetime.time(18, 0), datetime.time(18, 0), datetime.time(18, 0), datetime.time(18, 0), datetime.time(18, 0), datetime.time(18, 0), datetime.time(18, 0), datetime.time(18, 0), datetime.time(18, 0), datetime.time(18, 0), datetime.time(18, 0), datetime.time(18, 0), datetime.time(18, 0), datetime.time(18, 0), datetime.time(18, 0), datetime.time(18, 0), datetime.time(18, 0), datetime.time(18, 0), datetime.time(18, 0), datetime.time(18, 0), datetime.time(18, 0), datetime.time(18, 0), datetime.time(18, 0), datetime.time(18, 0), datetime.time(18, 0), datetime.time(18, 0), datetime.time(18, 0), datetime.time(18, 0), datetime.time(18, 0), datetime.time(18, 0), datetime.time(18, 0), datetime.time(18, 0), datetime.time(18, 0), datetime.time(18, 0), datetime.time(18, 0), datetime.time(18, 0), datetime.time(18, 0), datetime.time(18, 0), datetime.time(18, 0), datetime.time(18, 0), datetime.time(18, 0), datetime.time(18, 0), datetime.time(18, 0), datetime.time(18, 0), datetime.time(18, 0), datetime.time(18, 0), datetime.time(18, 0), datetime.time(18, 0), datetime.time(18, 0), datetime.time(18, 0), datetime.time(18, 0), datetime.time(18, 0), datetime.time(18, 0), datetime.time(18, 0), datetime.time(18, 0), datetime.time(18, 0), datetime.time(18, 0), datetime.time(18, 0), datetime.time(18, 0), datetime.time(18, 0), datetime.time(18, 0), datetime.time(18, 0), datetime.time(18, 0), datetime.time(18, 0), datetime.time(18, 0), datetime.time(18, 0), datetime.time(18, 0), datetime.time(18, 0), datetime.time(18, 0), datetime.time(18, 0), datetime.time(18, 0), datetime.time(18, 0), datetime.time(18, 0), datetime.time(18, 0), datetime.time(18, 0), datetime.time(18, 0), datetime.time(18, 0), datetime.time(18, 0), datetime.time(18, 0), datetime.time(18, 0), datetime.time(18, 0), datetime.time(18, 0), datetime.time(18, 0), datetime.time(18, 0), datetime.time(18, 0), datetime.time(18, 0), datetime.time(18, 0), datetime.time(18, 0), datetime.time(18, 0), datetime.time(18, 0), datetime.time(18, 0), datetime.time(18, 0), datetime.time(18, 0), datetime.time(18, 0), datetime.time(18, 0), datetime.time(18, 0), datetime.time(18, 0), datetime.time(18, 0), datetime.time(18, 0), datetime.time(18, 0), datetime.time(18, 0), datetime.time(18, 0), datetime.time(18, 0), datetime.time(18, 0), datetime.time(18, 0), datetime.time(18, 0), datetime.time(18, 0), datetime.time(18, 0), datetime.time(18, 0), datetime.time(18, 0), datetime.time(18, 0), datetime.time(18, 0), datetime.time(18, 0), datetime.time(18, 0), datetime.time(18, 0), datetime.time(18, 0), datetime.time(18, 0), datetime.time(18, 0), datetime.time(18, 0), datetime.time(18, 0), datetime.time(18, 0), datetime.time(18, 0), datetime.time(18, 0), datetime.time(18, 0), datetime.time(18, 0), datetime.time(18, 0), datetime.time(18, 0), datetime.time(18, 0), datetime.time(18, 0), datetime.time(18, 0), datetime.time(18, 0), datetime.time(18, 0), datetime.time(18, 0), datetime.time(18, 0), datetime.time(18, 0), datetime.time(18, 0), datetime.time(18, 0), datetime.time(18, 0), datetime.time(18, 0), datetime.time(18, 0), datetime.time(18, 0), datetime.time(18, 0), datetime.time(18, 0), datetime.time(18, 0), datetime.time(18, 0), datetime.time(18, 0), datetime.time(18, 0), datetime.time(18, 0), datetime.time(18, 0), datetime.time(18, 0), datetime.time(18, 0), datetime.time(18, 0), datetime.time(18, 0), datetime.time(18, 0), datetime.time(18, 0), datetime.time(18, 0), datetime.time(18, 0), datetime.time(18, 0), datetime.time(18, 0), datetime.time(18, 0), datetime.time(18, 0), datetime.time(18, 0), datetime.time(18, 0), datetime.time(18, 0), datetime.time(18, 0), datetime.time(18, 0), datetime.time(18, 0), datetime.time(18, 0), datetime.time(18, 0), datetime.time(18, 0), datetime.time(18, 0), datetime.time(18, 0), datetime.time(18, 0), datetime.time(18, 0), datetime.time(18, 0), datetime.time(18, 0), datetime.time(18, 0), datetime.time(18, 0), datetime.time(18, 0), datetime.time(18, 0), datetime.time(18, 0), datetime.time(18, 0), datetime.time(18, 0), datetime.time(18, 0), datetime.time(18, 0), datetime.time(18, 0), datetime.time(18, 0), datetime.time(18, 0), datetime.time(18, 0), datetime.time(18, 0), datetime.time(18, 0), datetime.time(18, 0), datetime.time(18, 0), datetime.time(18, 0), datetime.time(18, 0), datetime.time(18, 0), datetime.time(18, 0), datetime.time(18, 0), datetime.time(18, 0), datetime.time(18, 0), datetime.time(18, 0), datetime.time(18, 0), datetime.time(18, 0), datetime.time(18, 0), datetime.time(18, 0), datetime.time(18, 0), datetime.time(18, 0), datetime.time(18, 0), datetime.time(18, 0), datetime.time(18, 0), datetime.time(18, 0), datetime.time(18, 0), datetime.time(18, 0), datetime.time(18, 0), datetime.time(18, 0), datetime.time(18, 0), datetime.time(18, 0), datetime.time(18, 0), datetime.time(18, 0), datetime.time(18, 0), datetime.time(18, 0), datetime.time(18, 0), datetime.time(18, 0), datetime.time(18, 0), datetime.time(18, 0), datetime.time(18, 0), datetime.time(18, 0), datetime.time(18, 0), datetime.time(18, 0), datetime.time(18, 0), datetime.time(18, 0), datetime.time(18, 0), datetime.time(18, 0), datetime.time(18, 0), datetime.time(18, 0), datetime.time(18, 0), datetime.time(18, 0), datetime.time(18, 0), datetime.time(18, 0), datetime.time(18, 0), datetime.time(18, 0), datetime.time(18, 0), datetime.time(18, 0), datetime.time(18, 0), datetime.time(18, 0), datetime.time(18, 0), datetime.time(18, 0), datetime.time(18, 0), datetime.time(18, 0), datetime.time(18, 0), datetime.time(18, 0), datetime.time(18, 0), datetime.time(18, 0), datetime.time(18, 0), datetime.time(18, 0), datetime.time(18, 0), datetime.time(18, 0), datetime.time(18, 0), datetime.time(18, 0), datetime.time(18, 0), datetime.time(18, 0), datetime.time(18, 0), datetime.time(18, 0), datetime.time(18, 0), datetime.time(18, 0), datetime.time(18, 0), datetime.time(18, 0), datetime.time(18, 0), datetime.time(18, 0), datetime.time(18, 0), datetime.time(18, 0), datetime.time(18, 0), datetime.time(18, 0), datetime.time(18, 0), datetime.time(18, 0), datetime.time(18, 0), datetime.time(18, 0), datetime.time(18, 0), datetime.time(18, 0), datetime.time(18, 0), datetime.time(18, 0), datetime.time(18, 0), datetime.time(18, 0), datetime.time(18, 0), datetime.time(18, 0), datetime.time(18, 0), datetime.time(18, 0), datetime.time(18, 0), datetime.time(18, 0), datetime.time(18, 0), datetime.time(18, 0), datetime.time(18, 0), datetime.time(18, 0), datetime.time(18, 0), datetime.time(18, 0), datetime.time(18, 0), datetime.time(18, 0), datetime.time(18, 0), datetime.time(18, 0), datetime.time(18, 0), datetime.time(18, 0), datetime.time(18, 0), datetime.time(18, 0), datetime.time(18, 0), datetime.time(18, 0), datetime.time(18, 0), datetime.time(18, 0), datetime.time(18, 0), datetime.time(18, 0), datetime.time(18, 0), datetime.time(18, 0), datetime.time(18, 0), datetime.time(18, 0), datetime.time(18, 0), datetime.time(18, 0), datetime.time(18, 0), datetime.time(18, 0), datetime.time(18, 0), datetime.time(18, 0), datetime.time(18, 0), datetime.time(18, 0), datetime.time(18, 0), datetime.time(18, 0), datetime.time(18, 0), datetime.time(18, 0), datetime.time(18, 0), datetime.time(18, 0), datetime.time(18, 0), datetime.time(18, 0), datetime.time(18, 0), datetime.time(18, 0), datetime.time(18, 0), datetime.time(18, 0), datetime.time(18, 0), datetime.time(18, 0), datetime.time(18, 0), datetime.time(18, 0), datetime.time(18, 0), datetime.time(18, 0), datetime.time(18, 0), datetime.time(18, 0), datetime.time(18, 0), datetime.time(18, 0), datetime.time(18, 0), datetime.time(18, 0), datetime.time(18, 0), datetime.time(18, 0), datetime.time(18, 0), datetime.time(18, 0), datetime.time(18, 0), datetime.time(18, 0), datetime.time(18, 0), datetime.time(18, 0), datetime.time(18, 0), datetime.time(18, 0), datetime.time(18, 0), datetime.time(18, 0), datetime.time(18, 0), datetime.time(18, 0), datetime.time(18, 0), datetime.time(18, 0), datetime.time(18, 0), datetime.time(18, 0), datetime.time(18, 0), datetime.time(18, 0), datetime.time(18, 0), datetime.time(18, 0), datetime.time(18, 0), datetime.time(18, 0), datetime.time(18, 0), datetime.time(18, 0), datetime.time(18, 0), datetime.time(18, 0), datetime.time(18, 0), datetime.time(18, 0), datetime.time(18, 0), datetime.time(18, 0), datetime.time(18, 0), datetime.time(18, 0), datetime.time(18, 0), datetime.time(18, 0), datetime.time(18, 0), datetime.time(18, 0), datetime.time(18, 0), datetime.time(18, 0), datetime.time(18, 0), datetime.time(18, 0), datetime.time(18, 0), datetime.time(18, 0), datetime.time(18, 0), datetime.time(18, 0), datetime.time(18, 0), datetime.time(18, 0), datetime.time(18, 0), datetime.time(18, 0), datetime.time(18, 0), datetime.time(18, 0), datetime.time(18, 0), datetime.time(18, 0), datetime.time(18, 0), datetime.time(18, 0), datetime.time(18, 0), datetime.time(18, 0), datetime.time(18, 0), datetime.time(18, 0), datetime.time(18, 0), datetime.time(18, 0), datetime.time(18, 0), datetime.time(18, 0), datetime.time(18, 0), datetime.time(18, 0), datetime.time(18, 0), datetime.time(18, 0), datetime.time(18, 0), datetime.time(18, 0), datetime.time(18, 0), datetime.time(18, 0), datetime.time(18, 0), datetime.time(18, 0), datetime.time(18, 0), datetime.time(18, 0), datetime.time(18, 0), datetime.time(18, 0), datetime.time(18, 0), datetime.time(18, 0), datetime.time(18, 0), datetime.time(18, 0), datetime.time(18, 0), datetime.time(18, 0), datetime.time(18, 0), datetime.time(18, 0), datetime.time(18, 0), datetime.time(18, 0), datetime.time(18, 0), datetime.time(18, 0), datetime.time(18, 0), datetime.time(18, 0), datetime.time(18, 0), datetime.time(18, 0), datetime.time(18, 0), datetime.time(18, 0), datetime.time(18, 0), datetime.time(18, 0), datetime.time(18, 0), datetime.time(18, 0), datetime.time(18, 0), datetime.time(18, 0), datetime.time(18, 0), datetime.time(18, 0), datetime.time(18, 0), datetime.time(18, 0), datetime.time(18, 0), datetime.time(18, 0), datetime.time(18, 0), datetime.time(18, 0), datetime.time(18, 0), datetime.time(18, 0), datetime.time(18, 0), datetime.time(18, 0), datetime.time(18, 0), datetime.time(18, 0), datetime.time(18, 0), datetime.time(18, 0), datetime.time(18, 0), datetime.time(18, 0), datetime.time(18, 0), datetime.time(18, 0), datetime.time(18, 0), datetime.time(18, 0), datetime.time(18, 0), datetime.time(18, 0), datetime.time(18, 0), datetime.time(18, 0), datetime.time(18, 0), datetime.time(18, 0), datetime.time(18, 0), datetime.time(18, 0), datetime.time(18, 0), datetime.time(18, 0), datetime.time(18, 0), datetime.time(18, 0), datetime.time(18, 0), datetime.time(18, 0), datetime.time(18, 0), datetime.time(18, 0), datetime.time(18, 0), datetime.time(18, 0), datetime.time(18, 0), datetime.time(18, 0), datetime.time(18, 0), datetime.time(18, 0), datetime.time(18, 0), datetime.time(18, 0), datetime.time(18, 0), datetime.time(18, 0), datetime.time(18, 0), datetime.time(18, 0), datetime.time(18, 0), datetime.time(18, 0), datetime.time(18, 0), datetime.time(18, 0), datetime.time(18, 0), datetime.time(18, 0), datetime.time(18, 0), datetime.time(18, 0), datetime.time(18, 0), datetime.time(18, 0), datetime.time(18, 0), datetime.time(18, 0), datetime.time(18, 0), datetime.time(18, 0), datetime.time(18, 0), datetime.time(18, 0), datetime.time(18, 0), datetime.time(18, 0), datetime.time(18, 0), datetime.time(18, 0), datetime.time(18, 0), datetime.time(18, 0), datetime.time(18, 0), datetime.time(18, 0), datetime.time(18, 0), datetime.time(18, 0), datetime.time(18, 0), datetime.time(18, 0), datetime.time(18, 0), datetime.time(18, 0), datetime.time(18, 0), datetime.time(18, 0), datetime.time(18, 0), datetime.time(18, 0), datetime.time(18, 0), datetime.time(18, 0), datetime.time(18, 0), datetime.time(18, 0), datetime.time(18, 0), datetime.time(18, 0), datetime.time(18, 0), datetime.time(18, 0), datetime.time(18, 0), datetime.time(18, 0), datetime.time(18, 0), datetime.time(18, 0), datetime.time(18, 0), datetime.time(18, 0), datetime.time(18, 0), datetime.time(18, 0), datetime.time(18, 0), datetime.time(18, 0), datetime.time(18, 0), datetime.time(18, 0), datetime.time(18, 0), datetime.time(18, 0), datetime.time(18, 0), datetime.time(18, 0), datetime.time(18, 0), datetime.time(18, 0), datetime.time(18, 0), datetime.time(18, 0), datetime.time(18, 0), datetime.time(18, 0), datetime.time(18, 0), datetime.time(18, 0), datetime.time(18, 0), datetime.time(18, 0), datetime.time(18, 0), datetime.time(18, 0), datetime.time(18, 0), datetime.time(18, 0), datetime.time(18, 0), datetime.time(18, 0), datetime.time(18, 0), datetime.time(18, 0), datetime.time(18, 0), datetime.time(18, 0), datetime.time(18, 0), datetime.time(18, 0), datetime.time(18, 0), datetime.time(18, 0), datetime.time(18, 0), datetime.time(18, 0), datetime.time(18, 0), datetime.time(18, 0), datetime.time(18, 0), datetime.time(18, 0), datetime.time(18, 0), datetime.time(18, 0), datetime.time(18, 0), datetime.time(18, 0), datetime.time(18, 0), datetime.time(18, 0), datetime.time(18, 0), datetime.time(18, 0), datetime.time(18, 0), datetime.time(18, 0), datetime.time(18, 0), datetime.time(18, 0), datetime.time(18, 0), datetime.time(18, 0), datetime.time(18, 0), datetime.time(18, 0), datetime.time(18, 0), datetime.time(18, 0), datetime.time(18, 0), datetime.time(18, 0), datetime.time(18, 0), datetime.time(18, 0), datetime.time(18, 0), datetime.time(18, 0), datetime.time(18, 0), datetime.time(18, 0), datetime.time(18, 0), datetime.time(18, 0), datetime.time(18, 0), datetime.time(18, 0), datetime.time(18, 0), datetime.time(18, 0), datetime.time(18, 0), datetime.time(18, 0), datetime.time(18, 0), datetime.time(18, 0), datetime.time(18, 0), datetime.time(18, 0), datetime.time(18, 0), datetime.time(18, 0), datetime.time(18, 0), datetime.time(18, 0), datetime.time(18, 0), datetime.time(18, 0), datetime.time(18, 0), datetime.time(18, 0), datetime.time(18, 0), datetime.time(18, 0), datetime.time(18, 0), datetime.time(18, 0), datetime.time(18, 0), datetime.time(18, 0), datetime.time(18, 0), datetime.time(18, 0), datetime.time(18, 0), datetime.time(18, 0), datetime.time(18, 0), datetime.time(18, 0), datetime.time(18, 0), datetime.time(18, 0), datetime.time(18, 0), datetime.time(18, 0), datetime.time(18, 0), datetime.time(18, 0), datetime.time(18, 0), datetime.time(18, 0), datetime.time(18, 0), datetime.time(18, 0), datetime.time(18, 0), datetime.time(18, 0), datetime.time(18, 0), datetime.time(18, 0), datetime.time(18, 0), datetime.time(18, 0), datetime.time(18, 0), datetime.time(18, 0), datetime.time(18, 0), datetime.time(18, 0), datetime.time(18, 0), datetime.time(18, 0), datetime.time(18, 0), datetime.time(18, 0), datetime.time(18, 0), datetime.time(18, 0), datetime.time(18, 0), datetime.time(18, 0), datetime.time(18, 0), datetime.time(18, 0), datetime.time(18, 0), datetime.time(18, 0), datetime.time(18, 0), datetime.time(18, 0), datetime.time(18, 0), datetime.time(18, 0), datetime.time(18, 0), datetime.time(18, 0), datetime.time(18, 0), datetime.time(18, 0), datetime.time(18, 0), datetime.time(18, 0), datetime.time(18, 0), datetime.time(18, 0), datetime.time(18, 0), datetime.time(18, 0), datetime.time(18, 0), datetime.time(18, 0), datetime.time(18, 0), datetime.time(18, 0), datetime.time(18, 0), datetime.time(18, 0), datetime.time(18, 0), datetime.time(18, 0), datetime.time(18, 0), datetime.time(18, 0), datetime.time(18, 0), datetime.time(18, 0), datetime.time(18, 0), datetime.time(18, 0), datetime.time(18, 0), datetime.time(18, 0), datetime.time(18, 0), datetime.time(18, 0), datetime.time(18, 0), datetime.time(18, 0), datetime.time(18, 0), datetime.time(18, 0), datetime.time(18, 0), datetime.time(18, 0), datetime.time(18, 0), datetime.time(18, 0), datetime.time(18, 0), datetime.time(18, 0), datetime.time(18, 0), datetime.time(18, 0), datetime.time(18, 0), datetime.time(18, 0), datetime.time(18, 0), datetime.time(18, 0), datetime.time(18, 0), datetime.time(18, 0), datetime.time(18, 0), datetime.time(18, 0), datetime.time(18, 0), datetime.time(18, 0), datetime.time(18, 0), datetime.time(18, 0), datetime.time(18, 0), datetime.time(18, 0), datetime.time(18, 0), datetime.time(18, 0), datetime.time(18, 0), datetime.time(18, 0), datetime.time(18, 0), datetime.time(18, 0), datetime.time(18, 0), datetime.time(18, 0), datetime.time(18, 0), datetime.time(18, 0), datetime.time(18, 0), datetime.time(18, 0), datetime.time(18, 0), datetime.time(18, 0), datetime.time(18, 0), datetime.time(18, 0), datetime.time(18, 0), datetime.time(18, 0), datetime.time(18, 0), datetime.time(18, 0), datetime.time(18, 0), datetime.time(18, 0), datetime.time(18, 0), datetime.time(18, 0), datetime.time(18, 0), datetime.time(18, 0), datetime.time(18, 0), datetime.time(18, 0), datetime.time(18, 0), datetime.time(18, 0), datetime.time(18, 0), datetime.time(18, 0), datetime.time(18, 0), datetime.time(18, 0), datetime.time(18, 0), datetime.time(18, 0), datetime.time(18, 0), datetime.time(18, 0), datetime.time(18, 0), datetime.time(18, 0), datetime.time(18, 0), datetime.time(18, 0), datetime.time(18, 0), datetime.time(18, 0), datetime.time(18, 0), datetime.time(18, 0), datetime.time(18, 0), datetime.time(18, 0), datetime.time(18, 0), datetime.time(18, 0), datetime.time(18, 0), datetime.time(18, 0), datetime.time(18, 0), datetime.time(18, 0), datetime.time(18, 0), datetime.time(18, 0), datetime.time(18, 0), datetime.time(18, 0), datetime.time(18, 0), datetime.time(0, 0), datetime.time(0, 0), datetime.time(0, 0), datetime.time(0, 0), datetime.time(0, 0), datetime.time(0, 0), datetime.time(0, 0), datetime.time(0, 0), datetime.time(0, 0), datetime.time(0, 0), datetime.time(0, 0), datetime.time(0, 0), datetime.time(0, 0), datetime.time(0, 0), datetime.time(0, 0), datetime.time(0, 0), datetime.time(0, 0), datetime.time(0, 0), datetime.time(0, 0), datetime.time(0, 0), datetime.time(0, 0), datetime.time(0, 0), datetime.time(0, 0), datetime.time(0, 0), datetime.time(0, 0), datetime.time(0, 0), datetime.time(0, 0), datetime.time(0, 0), datetime.time(0, 0), datetime.time(0, 0), datetime.time(0, 0), datetime.time(0, 0), datetime.time(0, 0), datetime.time(0, 0), datetime.time(0, 0), datetime.time(0, 0), datetime.time(0, 0), datetime.time(0, 0), datetime.time(0, 0), datetime.time(0, 0), datetime.time(0, 0), datetime.time(0, 0), datetime.time(0, 0), datetime.time(0, 0), datetime.time(0, 0), datetime.time(0, 0), datetime.time(0, 0), datetime.time(0, 0), datetime.time(0, 0), datetime.time(0, 0), datetime.time(0, 0), datetime.time(0, 0), datetime.time(0, 0), datetime.time(0, 0), datetime.time(0, 0), datetime.time(0, 0), datetime.time(0, 0), datetime.time(0, 0), datetime.time(0, 0), datetime.time(0, 0), datetime.time(0, 0), datetime.time(0, 0), datetime.time(0, 0), datetime.time(0, 0), datetime.time(0, 0), datetime.time(0, 0), datetime.time(0, 0), datetime.time(0, 0), datetime.time(0, 0), datetime.time(0, 0), datetime.time(0, 0), datetime.time(0, 0), datetime.time(0, 0), datetime.time(0, 0), datetime.time(0, 0), datetime.time(0, 0), datetime.time(0, 0), datetime.time(0, 0), datetime.time(0, 0), datetime.time(0, 0), datetime.time(0, 0), datetime.time(0, 0), datetime.time(0, 0), datetime.time(0, 0), datetime.time(0, 0), datetime.time(0, 0), datetime.time(0, 0), datetime.time(0, 0), datetime.time(0, 0), datetime.time(0, 0), datetime.time(0, 0), datetime.time(0, 0), datetime.time(0, 0), datetime.time(0, 0), datetime.time(0, 0), datetime.time(0, 0), datetime.time(0, 0), datetime.time(0, 0), datetime.time(0, 0), datetime.time(0, 0), datetime.time(0, 0), datetime.time(0, 0), datetime.time(0, 0), datetime.time(0, 0), datetime.time(0, 0), datetime.time(0, 0), datetime.time(0, 0), datetime.time(0, 0), datetime.time(0, 0), datetime.time(0, 0), datetime.time(0, 0), datetime.time(0, 0), datetime.time(0, 0), datetime.time(0, 0), datetime.time(0, 0), datetime.time(0, 0), datetime.time(0, 0), datetime.time(0, 0), datetime.time(0, 0), datetime.time(0, 0), datetime.time(0, 0), datetime.time(0, 0), datetime.time(0, 0), datetime.time(0, 0), datetime.time(0, 0), datetime.time(0, 0), datetime.time(0, 0), datetime.time(0, 0), datetime.time(0, 0), datetime.time(0, 0), datetime.time(0, 0), datetime.time(0, 0), datetime.time(0, 0), datetime.time(0, 0), datetime.time(0, 0), datetime.time(0, 0), datetime.time(0, 0), datetime.time(0, 0), datetime.time(0, 0), datetime.time(0, 0), datetime.time(0, 0), datetime.time(0, 0), datetime.time(0, 0), datetime.time(0, 0), datetime.time(0, 0), datetime.time(0, 0), datetime.time(0, 0), datetime.time(0, 0), datetime.time(0, 0), datetime.time(0, 0), datetime.time(0, 0), datetime.time(0, 0), datetime.time(0, 0), datetime.time(0, 0), datetime.time(0, 0), datetime.time(0, 0), datetime.time(0, 0), datetime.time(0, 0), datetime.time(0, 0), datetime.time(0, 0), datetime.time(0, 0), datetime.time(0, 0), datetime.time(0, 0), datetime.time(0, 0), datetime.time(0, 0), datetime.time(0, 0), datetime.time(0, 0), datetime.time(0, 0), datetime.time(0, 0), datetime.time(0, 0), datetime.time(0, 0), datetime.time(0, 0), datetime.time(0, 0), datetime.time(0, 0), datetime.time(0, 0), datetime.time(0, 0), datetime.time(0, 0), datetime.time(0, 0), datetime.time(0, 0), datetime.time(0, 0), datetime.time(0, 0), datetime.time(0, 0), datetime.time(0, 0), datetime.time(0, 0), datetime.time(0, 0), datetime.time(0, 0), datetime.time(0, 0), datetime.time(0, 0), datetime.time(0, 0), datetime.time(0, 0), datetime.time(0, 0), datetime.time(0, 0), datetime.time(0, 0), datetime.time(0, 0), datetime.time(0, 0), datetime.time(0, 0), datetime.time(0, 0), datetime.time(0, 0), datetime.time(0, 0), datetime.time(0, 0), datetime.time(0, 0), datetime.time(0, 0), datetime.time(0, 0), datetime.time(0, 0), datetime.time(0, 0), datetime.time(0, 0), datetime.time(0, 0), datetime.time(0, 0), datetime.time(0, 0), datetime.time(0, 0), datetime.time(0, 0), datetime.time(0, 0), datetime.time(0, 0), datetime.time(0, 0), datetime.time(0, 0), datetime.time(0, 0), datetime.time(0, 0), datetime.time(0, 0), datetime.time(0, 0), datetime.time(0, 0), datetime.time(0, 0), datetime.time(0, 0), datetime.time(0, 0), datetime.time(0, 0), datetime.time(0, 0), datetime.time(0, 0), datetime.time(0, 0), datetime.time(0, 0), datetime.time(0, 0), datetime.time(0, 0), datetime.time(0, 0), datetime.time(0, 0), datetime.time(0, 0), datetime.time(0, 0), datetime.time(0, 0), datetime.time(0, 0), datetime.time(0, 0), datetime.time(0, 0), datetime.time(0, 0), datetime.time(0, 0), datetime.time(0, 0), datetime.time(0, 0), datetime.time(0, 0), datetime.time(0, 0), datetime.time(0, 0), datetime.time(0, 0), datetime.time(0, 0), datetime.time(0, 0), datetime.time(0, 0), datetime.time(0, 0), datetime.time(0, 0), datetime.time(0, 0), datetime.time(0, 0), datetime.time(0, 0), datetime.time(0, 0), datetime.time(0, 0), datetime.time(0, 0), datetime.time(0, 0), datetime.time(0, 0), datetime.time(0, 0), datetime.time(0, 0), datetime.time(0, 0), datetime.time(0, 0), datetime.time(0, 0), datetime.time(0, 0), datetime.time(0, 0), datetime.time(0, 0), datetime.time(0, 0), datetime.time(0, 0), datetime.time(0, 0), datetime.time(0, 0), datetime.time(0, 0), datetime.time(0, 0), datetime.time(0, 0), datetime.time(0, 0), datetime.time(0, 0), datetime.time(0, 0), datetime.time(0, 0), datetime.time(0, 0), datetime.time(0, 0), datetime.time(0, 0), datetime.time(0, 0), datetime.time(0, 0), datetime.time(0, 0), datetime.time(0, 0), datetime.time(0, 0), datetime.time(0, 0), datetime.time(0, 0), datetime.time(0, 0), datetime.time(0, 0), datetime.time(0, 0), datetime.time(0, 0), datetime.time(0, 0), datetime.time(0, 0), datetime.time(0, 0), datetime.time(0, 0), datetime.time(0, 0), datetime.time(0, 0), datetime.time(0, 0), datetime.time(0, 0), datetime.time(0, 0), datetime.time(0, 0), datetime.time(0, 0), datetime.time(0, 0), datetime.time(0, 0), datetime.time(0, 0), datetime.time(0, 0), datetime.time(0, 0), datetime.time(0, 0), datetime.time(0, 0), datetime.time(0, 0), datetime.time(0, 0), datetime.time(0, 0), datetime.time(0, 0), datetime.time(0, 0), datetime.time(0, 0), datetime.time(0, 0), datetime.time(0, 0), datetime.time(0, 0), datetime.time(0, 0), datetime.time(0, 0), datetime.time(0, 0), datetime.time(0, 0), datetime.time(0, 0), datetime.time(0, 0), datetime.time(0, 0), datetime.time(0, 0), datetime.time(0, 0), datetime.time(0, 0), datetime.time(0, 0), datetime.time(0, 0), datetime.time(0, 0), datetime.time(0, 0), datetime.time(0, 0), datetime.time(0, 0), datetime.time(0, 0), datetime.time(0, 0), datetime.time(0, 0), datetime.time(0, 0), datetime.time(0, 0), datetime.time(0, 0), datetime.time(0, 0), datetime.time(0, 0), datetime.time(0, 0), datetime.time(0, 0), datetime.time(0, 0), datetime.time(0, 0), datetime.time(0, 0), datetime.time(0, 0), datetime.time(0, 0), datetime.time(0, 0), datetime.time(0, 0), datetime.time(0, 0), datetime.time(0, 0), datetime.time(0, 0), datetime.time(0, 0), datetime.time(0, 0), datetime.time(0, 0), datetime.time(0, 0), datetime.time(0, 0), datetime.time(0, 0), datetime.time(0, 0), datetime.time(0, 0), datetime.time(0, 0), datetime.time(0, 0), datetime.time(0, 0), datetime.time(0, 0), datetime.time(0, 0), datetime.time(0, 0), datetime.time(0, 0), datetime.time(0, 0), datetime.time(0, 0), datetime.time(0, 0), datetime.time(0, 0), datetime.time(0, 0), datetime.time(0, 0), datetime.time(0, 0), datetime.time(0, 0), datetime.time(0, 0), datetime.time(0, 0), datetime.time(0, 0), datetime.time(0, 0), datetime.time(0, 0), datetime.time(0, 0), datetime.time(0, 0), datetime.time(0, 0), datetime.time(0, 0), datetime.time(0, 0), datetime.time(0, 0), datetime.time(0, 0), datetime.time(0, 0), datetime.time(0, 0), datetime.time(0, 0), datetime.time(0, 0), datetime.time(0, 0), datetime.time(0, 0), datetime.time(0, 0), datetime.time(0, 0), datetime.time(0, 0), datetime.time(0, 0), datetime.time(0, 0), datetime.time(0, 0), datetime.time(0, 0), datetime.time(0, 0), datetime.time(0, 0), datetime.time(0, 0), datetime.time(0, 0), datetime.time(0, 0), datetime.time(0, 0), datetime.time(0, 0), datetime.time(0, 0), datetime.time(0, 0), datetime.time(0, 0), datetime.time(0, 0), datetime.time(0, 0), datetime.time(0, 0), datetime.time(0, 0), datetime.time(0, 0), datetime.time(0, 0), datetime.time(0, 0), datetime.time(0, 0), datetime.time(0, 0), datetime.time(0, 0), datetime.time(0, 0), datetime.time(0, 0), datetime.time(0, 0), datetime.time(0, 0), datetime.time(0, 0), datetime.time(0, 0), datetime.time(0, 0), datetime.time(0, 0), datetime.time(0, 0), datetime.time(0, 0), datetime.time(0, 0), datetime.time(0, 0), datetime.time(0, 0), datetime.time(0, 0), datetime.time(0, 0), datetime.time(0, 0), datetime.time(0, 0), datetime.time(0, 0), datetime.time(0, 0), datetime.time(0, 0), datetime.time(0, 0), datetime.time(0, 0), datetime.time(0, 0), datetime.time(0, 0), datetime.time(0, 0), datetime.time(0, 0), datetime.time(0, 0), datetime.time(0, 0), datetime.time(0, 0), datetime.time(0, 0), datetime.time(0, 0), datetime.time(0, 0), datetime.time(0, 0), datetime.time(0, 0), datetime.time(0, 0), datetime.time(0, 0), datetime.time(0, 0), datetime.time(0, 0), datetime.time(0, 0), datetime.time(0, 0), datetime.time(0, 0), datetime.time(0, 0), datetime.time(0, 0), datetime.time(0, 0), datetime.time(0, 0), datetime.time(0, 0), datetime.time(0, 0), datetime.time(0, 0), datetime.time(0, 0), datetime.time(0, 0), datetime.time(0, 0), datetime.time(0, 0), datetime.time(0, 0), datetime.time(0, 0), datetime.time(0, 0), datetime.time(0, 0), datetime.time(0, 0), datetime.time(0, 0), datetime.time(0, 0), datetime.time(0, 0), datetime.time(0, 0), datetime.time(0, 0), datetime.time(0, 0), datetime.time(0, 0), datetime.time(0, 0), datetime.time(0, 0), datetime.time(0, 0), datetime.time(0, 0), datetime.time(0, 0), datetime.time(0, 0), datetime.time(0, 0), datetime.time(0, 0), datetime.time(0, 0), datetime.time(0, 0), datetime.time(0, 0), datetime.time(0, 0), datetime.time(0, 0), datetime.time(0, 0), datetime.time(0, 0), datetime.time(0, 0), datetime.time(0, 0), datetime.time(0, 0), datetime.time(0, 0), datetime.time(0, 0), datetime.time(0, 0), datetime.time(0, 0), datetime.time(0, 0), datetime.time(0, 0), datetime.time(0, 0), datetime.time(0, 0), datetime.time(0, 0), datetime.time(0, 0), datetime.time(0, 0), datetime.time(0, 0), datetime.time(0, 0), datetime.time(0, 0), datetime.time(0, 0), datetime.time(0, 0), datetime.time(0, 0), datetime.time(0, 0), datetime.time(0, 0), datetime.time(0, 0), datetime.time(0, 0), datetime.time(0, 0), datetime.time(0, 0), datetime.time(0, 0), datetime.time(0, 0), datetime.time(0, 0), datetime.time(0, 0), datetime.time(0, 0), datetime.time(0, 0), datetime.time(0, 0), datetime.time(0, 0), datetime.time(0, 0), datetime.time(0, 0), datetime.time(0, 0), datetime.time(0, 0), datetime.time(0, 0), datetime.time(0, 0), datetime.time(0, 0), datetime.time(0, 0), datetime.time(0, 0), datetime.time(0, 0), datetime.time(0, 0), datetime.time(0, 0), datetime.time(0, 0), datetime.time(0, 0), datetime.time(0, 0), datetime.time(0, 0), datetime.time(0, 0), datetime.time(0, 0), datetime.time(0, 0), datetime.time(0, 0), datetime.time(0, 0), datetime.time(0, 0), datetime.time(0, 0), datetime.time(0, 0), datetime.time(0, 0), datetime.time(0, 0), datetime.time(0, 0), datetime.time(0, 0), datetime.time(0, 0), datetime.time(0, 0), datetime.time(0, 0), datetime.time(0, 0), datetime.time(0, 0), datetime.time(0, 0), datetime.time(0, 0), datetime.time(0, 0), datetime.time(0, 0), datetime.time(0, 0), datetime.time(0, 0), datetime.time(0, 0), datetime.time(0, 0), datetime.time(0, 0), datetime.time(0, 0), datetime.time(0, 0), datetime.time(0, 0), datetime.time(0, 0), datetime.time(0, 0), datetime.time(0, 0), datetime.time(0, 0), datetime.time(0, 0), datetime.time(0, 0), datetime.time(0, 0), datetime.time(0, 0), datetime.time(0, 0), datetime.time(0, 0), datetime.time(0, 0), datetime.time(0, 0), datetime.time(0, 0), datetime.time(0, 0), datetime.time(0, 0), datetime.time(0, 0), datetime.time(0, 0), datetime.time(0, 0), datetime.time(0, 0), datetime.time(0, 0), datetime.time(0, 0), datetime.time(0, 0), datetime.time(0, 0), datetime.time(0, 0), datetime.time(0, 0), datetime.time(0, 0), datetime.time(0, 0), datetime.time(0, 0), datetime.time(0, 0), datetime.time(0, 0), datetime.time(0, 0), datetime.time(0, 0), datetime.time(0, 0), datetime.time(0, 0), datetime.time(0, 0), datetime.time(0, 0), datetime.time(0, 0), datetime.time(0, 0), datetime.time(0, 0), datetime.time(0, 0), datetime.time(0, 0), datetime.time(0, 0), datetime.time(0, 0), datetime.time(0, 0), datetime.time(0, 0), datetime.time(0, 0), datetime.time(0, 0), datetime.time(0, 0), datetime.time(0, 0), datetime.time(0, 0), datetime.time(0, 0), datetime.time(0, 0), datetime.time(0, 0), datetime.time(0, 0), datetime.time(0, 0), datetime.time(0, 0), datetime.time(0, 0), datetime.time(0, 0), datetime.time(0, 0), datetime.time(0, 0), datetime.time(0, 0), datetime.time(0, 0), datetime.time(0, 0), datetime.time(0, 0), datetime.time(0, 0), datetime.time(0, 0), datetime.time(0, 0), datetime.time(0, 0), datetime.time(0, 0), datetime.time(0, 0), datetime.time(0, 0), datetime.time(0, 0), datetime.time(0, 0), datetime.time(0, 0), datetime.time(0, 0), datetime.time(0, 0), datetime.time(0, 0), datetime.time(0, 0), datetime.time(0, 0), datetime.time(0, 0), datetime.time(0, 0), datetime.time(0, 0), datetime.time(0, 0), datetime.time(0, 0), datetime.time(0, 0), datetime.time(0, 0), datetime.time(0, 0), datetime.time(0, 0), datetime.time(0, 0), datetime.time(0, 0), datetime.time(0, 0), datetime.time(0, 0), datetime.time(0, 0), datetime.time(0, 0), datetime.time(0, 0), datetime.time(0, 0), datetime.time(0, 0), datetime.time(0, 0), datetime.time(0, 0), datetime.time(0, 0), datetime.time(0, 0), datetime.time(0, 0), datetime.time(0, 0), datetime.time(0, 0), datetime.time(0, 0), datetime.time(0, 0), datetime.time(0, 0), datetime.time(0, 0), datetime.time(0, 0), datetime.time(0, 0), datetime.time(0, 0), datetime.time(0, 0), datetime.time(0, 0), datetime.time(0, 0), datetime.time(0, 0), datetime.time(0, 0), datetime.time(0, 0), datetime.time(0, 0), datetime.time(0, 0), datetime.time(0, 0), datetime.time(0, 0), datetime.time(0, 0), datetime.time(0, 0), datetime.time(0, 0), datetime.time(0, 0), datetime.time(0, 0), datetime.time(0, 0), datetime.time(0, 0), datetime.time(0, 0), datetime.time(0, 0), datetime.time(0, 0), datetime.time(0, 0), datetime.time(0, 0), datetime.time(0, 0), datetime.time(0, 0), datetime.time(0, 0), datetime.time(0, 0), datetime.time(0, 0), datetime.time(0, 0), datetime.time(0, 0), datetime.time(0, 0), datetime.time(0, 0), datetime.time(0, 0), datetime.time(0, 0), datetime.time(0, 0), datetime.time(0, 0), datetime.time(0, 0), datetime.time(0, 0), datetime.time(0, 0), datetime.time(0, 0), datetime.time(0, 0), datetime.time(0, 0), datetime.time(0, 0), datetime.time(0, 0), datetime.time(0, 0), datetime.time(0, 0), datetime.time(0, 0), datetime.time(0, 0), datetime.time(0, 0), datetime.time(0, 0), datetime.time(0, 0), datetime.time(0, 0), datetime.time(0, 0), datetime.time(0, 0), datetime.time(0, 0), datetime.time(0, 0), datetime.time(0, 0), datetime.time(0, 0), datetime.time(0, 0), datetime.time(0, 0), datetime.time(0, 0), datetime.time(0, 0), datetime.time(0, 0), datetime.time(0, 0), datetime.time(0, 0), datetime.time(0, 0), datetime.time(0, 0), datetime.time(0, 0), datetime.time(0, 0), datetime.time(0, 0), datetime.time(0, 0), datetime.time(0, 0), datetime.time(0, 0), datetime.time(0, 0), datetime.time(0, 0), datetime.time(0, 0), datetime.time(0, 0), datetime.time(0, 0), datetime.time(0, 0), datetime.time(0, 0), datetime.time(0, 0), datetime.time(0, 0), datetime.time(0, 0), datetime.time(0, 0), datetime.time(0, 0), datetime.time(0, 0), datetime.time(0, 0), datetime.time(0, 0), datetime.time(0, 0), datetime.time(0, 0), datetime.time(0, 0), datetime.time(0, 0), datetime.time(0, 0), datetime.time(0, 0), datetime.time(0, 0), datetime.time(0, 0), datetime.time(0, 0), datetime.time(0, 0), datetime.time(0, 0), datetime.time(0, 0), datetime.time(0, 0), datetime.time(0, 0), datetime.time(0, 0), datetime.time(0, 0), datetime.time(0, 0), datetime.time(0, 0), datetime.time(0, 0), datetime.time(0, 0), datetime.time(0, 0), datetime.time(0, 0), datetime.time(0, 0), datetime.time(0, 0), datetime.time(0, 0), datetime.time(0, 0), datetime.time(0, 0), datetime.time(0, 0), datetime.time(0, 0), datetime.time(0, 0), datetime.time(0, 0), datetime.time(0, 0), datetime.time(0, 0), datetime.time(0, 0), datetime.time(0, 0), datetime.time(0, 0), datetime.time(0, 0), datetime.time(0, 0), datetime.time(0, 0), datetime.time(0, 0), datetime.time(0, 0), datetime.time(0, 0), datetime.time(0, 0), datetime.time(0, 0), datetime.time(0, 0), datetime.time(0, 0), datetime.time(0, 0), datetime.time(0, 0), datetime.time(0, 0), datetime.time(0, 0), datetime.time(0, 0), datetime.time(0, 0), datetime.time(0, 0), datetime.time(0, 0), datetime.time(0, 0), datetime.time(0, 0), datetime.time(0, 0), datetime.time(0, 0), datetime.time(0, 0), datetime.time(0, 0), datetime.time(0, 0), datetime.time(0, 0), datetime.time(0, 0), datetime.time(0, 0), datetime.time(0, 0), datetime.time(0, 0), datetime.time(0, 0), datetime.time(0, 0), datetime.time(0, 0), datetime.time(0, 0), datetime.time(0, 0), datetime.time(0, 0), datetime.time(0, 0), datetime.time(0, 0), datetime.time(0, 0), datetime.time(0, 0), datetime.time(0, 0), datetime.time(0, 0), datetime.time(0, 0), datetime.time(0, 0), datetime.time(0, 0), datetime.time(0, 0), datetime.time(0, 0), datetime.time(0, 0), datetime.time(0, 0), datetime.time(0, 0), datetime.time(0, 0), datetime.time(0, 0), datetime.time(0, 0), datetime.time(0, 0), datetime.time(0, 0), datetime.time(0, 0), datetime.time(0, 0), datetime.time(0, 0), datetime.time(0, 0), datetime.time(0, 0), datetime.time(0, 0), datetime.time(0, 0), datetime.time(0, 0), datetime.time(0, 0), datetime.time(0, 0), datetime.time(0, 0), datetime.time(0, 0), datetime.time(0, 0), datetime.time(0, 0), datetime.time(0, 0), datetime.time(0, 0), datetime.time(0, 0), datetime.time(0, 0), datetime.time(0, 0), datetime.time(0, 0), datetime.time(0, 0), datetime.time(0, 0), datetime.time(0, 0), datetime.time(0, 0), datetime.time(0, 0), datetime.time(0, 0), datetime.time(0, 0), datetime.time(0, 0), datetime.time(0, 0), datetime.time(0, 0), datetime.time(0, 0), datetime.time(0, 0), datetime.time(0, 0), datetime.time(0, 0), datetime.time(0, 0), datetime.time(0, 0), datetime.time(0, 0), datetime.time(0, 0), datetime.time(0, 0), datetime.time(0, 0), datetime.time(0, 0), datetime.time(0, 0), datetime.time(0, 0), datetime.time(0, 0), datetime.time(0, 0), datetime.time(0, 0), datetime.time(0, 0), datetime.time(0, 0), datetime.time(0, 0), datetime.time(0, 0), datetime.time(0, 0), datetime.time(0, 0), datetime.time(0, 0), datetime.time(0, 0), datetime.time(0, 0), datetime.time(0, 0), datetime.time(0, 0), datetime.time(0, 0), datetime.time(0, 0), datetime.time(0, 0), datetime.time(0, 0), datetime.time(0, 0), datetime.time(0, 0), datetime.time(0, 0), datetime.time(0, 0), datetime.time(0, 0), datetime.time(0, 0), datetime.time(0, 0), datetime.time(0, 0), datetime.time(0, 0), datetime.time(0, 0), datetime.time(0, 0), datetime.time(0, 0), datetime.time(0, 0), datetime.time(0, 0), datetime.time(0, 0), datetime.time(0, 0), datetime.time(0, 0), datetime.time(0, 0), datetime.time(0, 0), datetime.time(0, 0), datetime.time(0, 0), datetime.time(0, 0), datetime.time(0, 0), datetime.time(0, 0), datetime.time(0, 0), datetime.time(0, 0), datetime.time(0, 0), datetime.time(0, 0), datetime.time(0, 0), datetime.time(0, 0), datetime.time(0, 0), datetime.time(0, 0), datetime.time(0, 0), datetime.time(0, 0), datetime.time(0, 0), datetime.time(0, 0), datetime.time(0, 0), datetime.time(0, 0), datetime.time(0, 0), datetime.time(0, 0), datetime.time(0, 0), datetime.time(0, 0), datetime.time(0, 0), datetime.time(0, 0), datetime.time(0, 0), datetime.time(0, 0), datetime.time(0, 0), datetime.time(0, 0), datetime.time(0, 0), datetime.time(0, 0), datetime.time(0, 0), datetime.time(0, 0), datetime.time(0, 0), datetime.time(0, 0), datetime.time(0, 0), datetime.time(0, 0), datetime.time(0, 0), datetime.time(0, 0), datetime.time(0, 0), datetime.time(0, 0), datetime.time(0, 0), datetime.time(0, 0), datetime.time(0, 0), datetime.time(0, 0), datetime.time(0, 0), datetime.time(0, 0), datetime.time(0, 0), datetime.time(0, 0), datetime.time(0, 0), datetime.time(0, 0), datetime.time(0, 0), datetime.time(0, 0), datetime.time(0, 0), datetime.time(0, 0), datetime.time(0, 0), datetime.time(0, 0), datetime.time(0, 0), datetime.time(0, 0), datetime.time(0, 0), datetime.time(0, 0), datetime.time(0, 0), datetime.time(0, 0), datetime.time(0, 0), datetime.time(0, 0), datetime.time(0, 0), datetime.time(0, 0), datetime.time(0, 0), datetime.time(0, 0), datetime.time(0, 0), datetime.time(0, 0), datetime.time(0, 0), datetime.time(0, 0), datetime.time(0, 0), datetime.time(0, 0), datetime.time(0, 0), datetime.time(0, 0), datetime.time(0, 0), datetime.time(0, 0), datetime.time(0, 0), datetime.time(0, 0), datetime.time(0, 0), datetime.time(0, 0), datetime.time(0, 0), datetime.time(0, 0), datetime.time(0, 0), datetime.time(0, 0), datetime.time(0, 0), datetime.time(0, 0), datetime.time(0, 0), datetime.time(0, 0), datetime.time(0, 0), datetime.time(0, 0), datetime.time(0, 0), datetime.time(0, 0), datetime.time(0, 0), datetime.time(0, 0), datetime.time(0, 0), datetime.time(0, 0), datetime.time(0, 0), datetime.time(0, 0), datetime.time(0, 0), datetime.time(0, 0), datetime.time(0, 0), datetime.time(0, 0), datetime.time(0, 0), datetime.time(0, 0), datetime.time(0, 0), datetime.time(0, 0), datetime.time(0, 0), datetime.time(0, 0), datetime.time(0, 0), datetime.time(0, 0), datetime.time(0, 0), datetime.time(0, 0), datetime.time(0, 0), datetime.time(0, 0), datetime.time(0, 0), datetime.time(0, 0), datetime.time(0, 0), datetime.time(0, 0), datetime.time(0, 0), datetime.time(0, 0), datetime.time(0, 0), datetime.time(0, 0), datetime.time(0, 0), datetime.time(0, 0), datetime.time(0, 0), datetime.time(0, 0), datetime.time(0, 0), datetime.time(0, 0), datetime.time(0, 0), datetime.time(0, 0), datetime.time(0, 0), datetime.time(0, 0), datetime.time(0, 0), datetime.time(0, 0), datetime.time(0, 0), datetime.time(0, 0), datetime.time(0, 0), datetime.time(0, 0), datetime.time(0, 0), datetime.time(0, 0), datetime.time(0, 0), datetime.time(0, 0), datetime.time(0, 0), datetime.time(0, 0), datetime.time(0, 0), datetime.time(0, 0), datetime.time(0, 0), datetime.time(0, 0), datetime.time(0, 0), datetime.time(0, 0), datetime.time(0, 0), datetime.time(0, 0), datetime.time(0, 0), datetime.time(0, 0), datetime.time(0, 0), datetime.time(0, 0), datetime.time(0, 0), datetime.time(0, 0), datetime.time(0, 0), datetime.time(0, 0), datetime.time(0, 0), datetime.time(0, 0), datetime.time(0, 0), datetime.time(0, 0), datetime.time(0, 0), datetime.time(0, 0), datetime.time(0, 0), datetime.time(0, 0), datetime.time(0, 0), datetime.time(0, 0), datetime.time(0, 0), datetime.time(0, 0), datetime.time(0, 0), datetime.time(0, 0), datetime.time(0, 0), datetime.time(0, 0), datetime.time(0, 0), datetime.time(0, 0), datetime.time(0, 0), datetime.time(0, 0), datetime.time(0, 0), datetime.time(0, 0), datetime.time(0, 0), datetime.time(0, 0), datetime.time(0, 0), datetime.time(0, 0), datetime.time(0, 0), datetime.time(0, 0), datetime.time(0, 0), datetime.time(0, 0), datetime.time(0, 0), datetime.time(0, 0), datetime.time(0, 0), datetime.time(0, 0), datetime.time(0, 0), datetime.time(0, 0), datetime.time(0, 0), datetime.time(0, 0), datetime.time(0, 0), datetime.time(0, 0), datetime.time(0, 0), datetime.time(0, 0), datetime.time(0, 0), datetime.time(0, 0), datetime.time(0, 0), datetime.time(0, 0), datetime.time(0, 0), datetime.time(0, 0), datetime.time(0, 0), datetime.time(0, 0), datetime.time(0, 0), datetime.time(0, 0), datetime.time(0, 0), datetime.time(0, 0), datetime.time(0, 0), datetime.time(0, 0), datetime.time(0, 0), datetime.time(0, 0), datetime.time(0, 0), datetime.time(0, 0), datetime.time(0, 0), datetime.time(0, 0), datetime.time(0, 0), datetime.time(0, 0), datetime.time(0, 0), datetime.time(0, 0), datetime.time(0, 0), datetime.time(0, 0), datetime.time(0, 0), datetime.time(0, 0), datetime.time(0, 0), datetime.time(0, 0), datetime.time(0, 0), datetime.time(0, 0), datetime.time(0, 0), datetime.time(0, 0), datetime.time(0, 0), datetime.time(0, 0), datetime.time(0, 0), datetime.time(0, 0), datetime.time(0, 0), datetime.time(0, 0), datetime.time(0, 0), datetime.time(0, 0), datetime.time(0, 0), datetime.time(0, 0), datetime.time(0, 0), datetime.time(0, 0), datetime.time(0, 0), datetime.time(0, 0), datetime.time(0, 0), datetime.time(0, 0), datetime.time(0, 0), datetime.time(0, 0), datetime.time(0, 0), datetime.time(0, 0), datetime.time(0, 0), datetime.time(0, 0), datetime.time(0, 0), datetime.time(0, 0), datetime.time(0, 0), datetime.time(0, 0), datetime.time(0, 0), datetime.time(0, 0), datetime.time(0, 0), datetime.time(0, 0), datetime.time(0, 0), datetime.time(0, 0), datetime.time(0, 0), datetime.time(0, 0), datetime.time(0, 0), datetime.time(0, 0), datetime.time(0, 0), datetime.time(0, 0), datetime.time(0, 0), datetime.time(0, 0), datetime.time(0, 0), datetime.time(0, 0), datetime.time(0, 0), datetime.time(0, 0), datetime.time(0, 0), datetime.time(0, 0), datetime.time(0, 0), datetime.time(0, 0), datetime.time(0, 0), datetime.time(0, 0), datetime.time(0, 0), datetime.time(0, 0), datetime.time(0, 0), datetime.time(0, 0), datetime.time(0, 0), datetime.time(0, 0), datetime.time(0, 0), datetime.time(0, 0), datetime.time(0, 0), datetime.time(0, 0), datetime.time(0, 0), datetime.time(0, 0), datetime.time(0, 0), datetime.time(0, 0), datetime.time(0, 0), datetime.time(0, 0), datetime.time(0, 0), datetime.time(0, 0), datetime.time(0, 0), datetime.time(0, 0), datetime.time(0, 0), datetime.time(0, 0), datetime.time(0, 0), datetime.time(0, 0), datetime.time(0, 0), datetime.time(0, 0), datetime.time(0, 0), datetime.time(0, 0), datetime.time(0, 0), datetime.time(0, 0), datetime.time(0, 0), datetime.time(0, 0), datetime.time(0, 0), datetime.time(0, 0), datetime.time(0, 0), datetime.time(0, 0), datetime.time(0, 0), datetime.time(0, 0), datetime.time(0, 0), datetime.time(0, 0), datetime.time(0, 0), datetime.time(0, 0), datetime.time(0, 0), datetime.time(0, 0), datetime.time(0, 0), datetime.time(0, 0), datetime.time(0, 0), datetime.time(0, 0), datetime.time(0, 0), datetime.time(0, 0), datetime.time(0, 0), datetime.time(0, 0), datetime.time(0, 0), datetime.time(0, 0), datetime.time(0, 0), datetime.time(0, 0), datetime.time(0, 0), datetime.time(0, 0), datetime.time(0, 0), datetime.time(0, 0), datetime.time(0, 0), datetime.time(0, 0), datetime.time(0, 0), datetime.time(0, 0), datetime.time(0, 0), datetime.time(0, 0), datetime.time(0, 0), datetime.time(0, 0), datetime.time(0, 0), datetime.time(0, 0), datetime.time(0, 0), datetime.time(0, 0), datetime.time(0, 0), datetime.time(0, 0), datetime.time(0, 0), datetime.time(0, 0), datetime.time(0, 0), datetime.time(0, 0), datetime.time(0, 0), datetime.time(0, 0), datetime.time(0, 0), datetime.time(0, 0), datetime.time(0, 0), datetime.time(0, 0), datetime.time(0, 0), datetime.time(0, 0), datetime.time(0, 0), datetime.time(0, 0), datetime.time(0, 0), datetime.time(0, 0), datetime.time(0, 0), datetime.time(0, 0), datetime.time(0, 0), datetime.time(0, 0), datetime.time(0, 0), datetime.time(0, 0), datetime.time(0, 0), datetime.time(0, 0), datetime.time(0, 0), datetime.time(0, 0), datetime.time(0, 0), datetime.time(0, 0), datetime.time(0, 0), datetime.time(0, 0), datetime.time(0, 0), datetime.time(0, 0), datetime.time(0, 0), datetime.time(0, 0), datetime.time(0, 0), datetime.time(0, 0), datetime.time(0, 0), datetime.time(0, 0), datetime.time(0, 0), datetime.time(0, 0), datetime.time(0, 0), datetime.time(0, 0), datetime.time(0, 0), datetime.time(0, 0), datetime.time(0, 0), datetime.time(0, 0), datetime.time(0, 0), datetime.time(0, 0), datetime.time(0, 0), datetime.time(0, 0), datetime.time(0, 0), datetime.time(0, 0), datetime.time(0, 0), datetime.time(0, 0), datetime.time(0, 0), datetime.time(0, 0), datetime.time(0, 0), datetime.time(0, 0), datetime.time(0, 0), datetime.time(0, 0), datetime.time(0, 0), datetime.time(0, 0), datetime.time(0, 0), datetime.time(0, 0), datetime.time(0, 0), datetime.time(0, 0), datetime.time(0, 0), datetime.time(0, 0), datetime.time(0, 0), datetime.time(0, 0), datetime.time(0, 0), datetime.time(0, 0), datetime.time(0, 0), datetime.time(0, 0), datetime.time(0, 0), datetime.time(0, 0), datetime.time(0, 0), datetime.time(0, 0), datetime.time(0, 0), datetime.time(0, 0), datetime.time(0, 0), datetime.time(0, 0), datetime.time(0, 0), datetime.time(0, 0), datetime.time(0, 0), datetime.time(0, 0), datetime.time(0, 0), datetime.time(0, 0), datetime.time(0, 0), datetime.time(0, 0), datetime.time(0, 0), datetime.time(0, 0), datetime.time(0, 0), datetime.time(0, 0), datetime.time(0, 0), datetime.time(0, 0), datetime.time(0, 0), datetime.time(0, 0), datetime.time(0, 0), datetime.time(0, 0), datetime.time(0, 0), datetime.time(0, 0), datetime.time(0, 0), datetime.time(0, 0), datetime.time(0, 0), datetime.time(0, 0), datetime.time(0, 0), datetime.time(0, 0), datetime.time(0, 0), datetime.time(0, 0), datetime.time(0, 0), datetime.time(0, 0), datetime.time(0, 0), datetime.time(0, 0), datetime.time(0, 0), datetime.time(0, 0), datetime.time(0, 0), datetime.time(0, 0), datetime.time(0, 0), datetime.time(0, 0), datetime.time(0, 0), datetime.time(0, 0), datetime.time(0, 0), datetime.time(0, 0), datetime.time(0, 0), datetime.time(0, 0), datetime.time(0, 0), datetime.time(0, 0), datetime.time(0, 0), datetime.time(0, 0), datetime.time(0, 0), datetime.time(0, 0), datetime.time(0, 0), datetime.time(0, 0), datetime.time(0, 0), datetime.time(0, 0), datetime.time(0, 0), datetime.time(0, 0), datetime.time(0, 0), datetime.time(0, 0), datetime.time(0, 0), datetime.time(0, 0), datetime.time(0, 0), datetime.time(0, 0), datetime.time(0, 0), datetime.time(0, 0), datetime.time(0, 0), datetime.time(0, 0), datetime.time(0, 0), datetime.time(0, 0), datetime.time(0, 0), datetime.time(0, 0), datetime.time(0, 0), datetime.time(0, 0), datetime.time(0, 0), datetime.time(0, 0), datetime.time(0, 0), datetime.time(0, 0), datetime.time(0, 0), datetime.time(0, 0), datetime.time(0, 0), datetime.time(0, 0), datetime.time(0, 0), datetime.time(0, 0), datetime.time(0, 0), datetime.time(0, 0), datetime.time(0, 0), datetime.time(0, 0), datetime.time(0, 0), datetime.time(0, 0), datetime.time(0, 0), datetime.time(0, 0), datetime.time(0, 0), datetime.time(0, 0), datetime.time(0, 0), datetime.time(0, 0), datetime.time(0, 0), datetime.time(0, 0), datetime.time(0, 0), datetime.time(0, 0), datetime.time(0, 0), datetime.time(0, 0), datetime.time(0, 0), datetime.time(0, 0), datetime.time(0, 0), datetime.time(0, 0), datetime.time(0, 0), datetime.time(0, 0), datetime.time(0, 0), datetime.time(0, 0), datetime.time(0, 0), datetime.time(0, 0), datetime.time(0, 0), datetime.time(0, 0), datetime.time(0, 0), datetime.time(0, 0), datetime.time(0, 0), datetime.time(0, 0), datetime.time(0, 0), datetime.time(0, 0), datetime.time(0, 0)], {\n",
              "                autoPlay: true,\n",
              "                backwardButton: true,\n",
              "                displayDate: true,\n",
              "                forwardButton: true,\n",
              "                limitMinimumRange: 5,\n",
              "                limitSliders: true,\n",
              "                loopButton: true,\n",
              "                maxSpeed: 10,\n",
              "                minSpeed: 0.1,\n",
              "                playButton: true,\n",
              "                playReverseButton: true,\n",
              "                position: &quot;bottomleft&quot;,\n",
              "                speedSlider: true,\n",
              "                speedStep: 0.1,\n",
              "                styleNS: &quot;leaflet-control-timecontrol&quot;,\n",
              "                timeSlider: true,\n",
              "                timeSliderDrapUpdate: false,\n",
              "                timeSteps: 1\n",
              "                })\n",
              "                .addTo(map_07359571ebab0e1c7bb313bcf309f0e1);\n",
              "\n",
              "                var heat_map_af3685fb8f0488b3918485da65fe336a = new TDHeatmap([131.0, 103.0, 58.0, 679.0, 120.0, 617.0, 208.0, 117.0, 481.0, 729.0, 225.0, 821.0, 371.0, 294.0, 57.0, 105.0, 98.0, 211.0, 43.0, 667.0, 58.0, 1539.0, 255.0, 80.0, 849.0, 1614.0, 481.0, 315.0, 401.0, 481.0, 68.0, 124.0, 216.0, 268.0, 1504.0, 282.0, 235.0, 98.0, 316.0, 100.0, 65.0, 1347.0, 493.0, 703.0, 946.0, 100.0, 60.0, 424.0, 317.0, 72.0, 132.0, 1090.0, 37.0, 151.0, 747.0, 436.0, 268.0, 232.0, 257.0, 728.0, 945.0, 1081.0, 693.0, 254.0, 13.0, 338.0, 679.0, 96.0, 222.0, 1665.0, 952.0, 282.0, 345.0, 419.0, 538.0, 41.0, 139.0, 135.0, 1031.0, 372.0, 844.0, 473.0, 169.0, 127.0, 1096.0, 164.0, 74.0, 63.0, 607.0, 85.0, 101.0, 1796.0, 1272.0, 521.0, 402.0, 214.0, 315.0, 519.0, 306.0, 90.0, 914.0, 44.0, 776.0, 135.0, 179.0, 118.0, 30.0, 5.0, 1131.0, 790.0, 524.0, 136.0, 281.0, 649.0, 269.0, 321.0, 70.0, 543.0, 272.0, 54.0, 153.0, 323.0, 307.0, 657.0, 35.0, 196.0, 3593.0, 281.0, 685.0, 315.0, 261.0, 595.0, 670.0, 151.0, 921.0, 545.0, 250.0, 91.0, 444.0, 322.0, 77.0, 2975.0, 82.0, 1011.0, 335.0, 307.0, 661.0, 903.0, 242.0, 565.0, 647.0, 422.0, 100.0, 664.0, 58.0, 536.0, 397.0, 817.0, 1356.0, 555.0, 372.0, 473.0, 32.0, 442.0, 128.0, 24.0, 856.0, 302.0, 222.0, 735.0, 245.0, 101.0, 228.0, 137.0, 149.0, 115.0, 197.0, 297.0, 619.0, 317.0, 329.0, 511.0, 643.0, 441.0, 373.0, 354.0, 64.0, 221.0, 175.0, 75.0, 337.0, 233.0, 871.0, 123.0, 49.0, 61.0, 1230.0, 1561.0, 985.0, 122.0, 700.0, 440.0, 88.0, 14.0, 576.0, 1041.0, 86.0, 74.0, 83.0, 129.0, 47.0, 20.0, 146.0, 408.0, 143.0, 1.0, 794.0, 72.0, 793.0, 552.0, 213.0, 464.0, 445.0, 386.0, 715.0, 83.0, 464.0, 106.0, 585.0, 345.0, 412.0, 113.0, 72.0, 432.0, 270.0, 257.0, 122.0, 93.0, 281.0, 686.0, 582.0, 735.0, 1006.0, 192.0, 432.0, 88.0, 1065.0, 244.0, 208.0, 193.0, 426.0, 748.0, 214.0, 12.0, 1034.0, 252.0, 129.0, 119.0, 297.0, 301.0, 357.0, 250.0, 1108.0, 681.0, 211.0, 163.0, 842.0, 57.0, 79.0, 474.0, 657.0, 304.0, 162.0, 528.0, 130.0, 45.0, 551.0, 305.0, 641.0, 288.0, 602.0, 162.0, 28.0, 245.0, 495.0, 343.0, 254.0, 321.0, 88.0, 855.0, 227.0, 71.0, 347.0, 76.0, 140.0, 118.0, 440.0, 175.0, 68.0, 379.0, 219.0, 184.0, 1611.0, 533.0, 419.0, 710.0, 454.0, 716.0, 89.0, 82.0, 190.0, 152.0, 940.0, 48.0, 1832.0, 971.0, 839.0, 219.0, 831.0, 131.0, 173.0, 203.0, 797.0, 97.0, 97.0, 1689.0, 79.0, 300.0, 536.0, 59.0, 151.0, 19.0, 1092.0, 318.0, 233.0, 143.0, 146.0, 579.0, 244.0, 225.0, 443.0, 189.0, 177.0, 1342.0, 145.0, 168.0, 652.0, 508.0, 209.0, 755.0, 958.0, 215.0, 143.0, 275.0, 1199.0, 546.0, 350.0, 172.0, 137.0, 1392.0, 273.0, 85.0, 1952.0, 191.0, 1020.0, 49.0, 281.0, 204.0, 76.0, 64.0, 141.0, 39.0, 243.0, 334.0, 387.0, 475.0, 248.0, 61.0, 157.0, 88.0, 41.0, 60.0, 679.0, 1274.0, 209.0, 315.0, 141.0, 156.0, 20.0, 1220.0, 786.0, 237.0, 83.0, 893.0, 138.0, 81.0, 1614.0, 107.0, 506.0, 144.0, 140.0, 90.0, 308.0, 968.0, 361.0, 930.0, 251.0, 194.0, 277.0, 59.0, 691.0, 36.0, 945.0, 303.0, 182.0, 318.0, 1670.0, 253.0, 93.0, 124.0, 381.0, 92.0, 207.0, 563.0, 90.0, 216.0, 827.0, 165.0, 445.0, 451.0, 398.0, 743.0, 351.0, 1471.0, 1039.0, 215.0, 417.0, 344.0, 576.0, 205.0, 687.0, 1279.0, 41.0, 250.0, 937.0, 261.0, 125.0, 166.0, 125.0, 155.0, 1604.0, 984.0, 852.0, 477.0, 487.0, 402.0, 210.0, 206.0, 342.0, 122.0, 370.0, 35.0, 1014.0, 463.0, 1145.0, 44.0, 211.0, 598.0, 496.0, 845.0, 171.0, 80.0, 567.0, 404.0, 353.0, 137.0, 221.0, 599.0, 163.0, 480.0, 428.0, 451.0, 49.0, 1638.0, 595.0, 439.0, 462.0, 452.0, 334.0, 367.0, 177.0, 418.0, 1257.0, 218.0, 147.0, 332.0, 795.0, 482.0, 897.0, 229.0, 730.0, 272.0, 211.0, 208.0, 330.0, 456.0, 128.0, 292.0, 884.0, 64.0, 237.0, 133.0, 273.0, 397.0, 397.0, 37.0, 963.0, 163.0, 61.0, 21.0, 103.0, 186.0, 187.0, 30.0, 53.0, 44.0, 136.0, 375.0, 1184.0, 660.0, 442.0, 223.0, 109.0, 123.0, 32.0, 339.0, 23.0, 142.0, 469.0, 37.0, 263.0, 124.0, 93.0, 147.0, 93.0, 150.0, 975.0, 1091.0, 339.0, 237.0, 53.0, 841.0, 1078.0, 78.0, 330.0, 38.0, 90.0, 463.0, 1258.0, 1465.0, 541.0, 125.0, 33.0, 1168.0, 582.0, 841.0, 239.0, 236.0, 121.0, 1713.0, 18.0, 159.0, 898.0, 774.0, 94.0, 184.0, 77.0, 302.0, 141.0, 1094.0, 448.0, 328.0, 235.0, 383.0, 93.0, 68.0, 495.0, 945.0, 309.0, 334.0, 40.0, 30.0, 360.0, 95.0, 1471.0, 162.0, 1047.0, 1272.0, 656.0, 384.0, 71.0, 102.0, 407.0, 173.0, 58.0, 1741.0, 307.0, 111.0, 120.0, 96.0, 461.0, 46.0, 117.0, 441.0, 311.0, 594.0, 503.0, 216.0, 1018.0, 143.0, 936.0, 361.0, 446.0, 779.0, 548.0, 165.0, 6.0, 916.0, 1176.0, 82.0, 130.0, 289.0, 309.0, 990.0, 191.0, 523.0, 405.0, 250.0, 283.0, 505.0, 81.0, 207.0, 299.0, 1073.0, 244.0, 121.0, 83.0, 84.0, 110.0, 195.0, 15.0, 178.0, 368.0, 128.0, 139.0, 645.0, 1150.0, 493.0, 75.0, 479.0, 936.0, 347.0, 283.0, 253.0, 748.0, 781.0, 470.0, 419.0, 276.0, 50.0, 1284.0, 225.0, 76.0, 197.0, 604.0, 98.0, 291.0, 90.0, 89.0, 179.0, 16.0, 378.0, 1321.0, 614.0, 375.0, 644.0, 216.0, 51.0, 171.0, 83.0, 30.0, 18.0, 988.0, 346.0, 826.0, 501.0, 808.0, 594.0, 790.0, 75.0, 216.0, 27.0, 237.0, 143.0, 252.0, 76.0, 439.0, 862.0, 126.0, 81.0, 347.0, 384.0, 103.0, 897.0, 401.0, 98.0, 694.0, 403.0, 58.0, 61.0, 412.0, 969.0, 666.0, 209.0, 41.0, 489.0, 460.0, 114.0, 573.0, 358.0, 76.0, 84.0, 1315.0, 471.0, 283.0, 605.0, 256.0, 283.0, 271.0, 321.0, 180.0, 34.0, 1019.0, 65.0, 451.0, 263.0, 42.0, 207.0, 165.0, 182.0, 1352.0, 98.0, 123.0, 474.0, 28.0, 245.0, 122.0, 49.0, 86.0, 18.0, 8.0, 88.0, 111.0, 1.0, 1.0, 66.0, 147.0, 149.0, 207.0, 832.0, 227.0, 203.0, 519.0, 119.0, 474.0, 61.0, 442.0, 414.0, 884.0, 1147.0, 307.0, 225.0, 224.0, 268.0, 77.0, 1430.0, 1020.0, 224.0, 113.0, 570.0, 28.0, 424.0, 256.0, 412.0, 2517.0, 193.0, 323.0, 48.0, 450.0, 198.0, 2636.0, 217.0, 554.0, 136.0, 79.0, 394.0, 67.0, 1127.0, 1162.0, 925.0, 635.0, 114.0, 60.0, 503.0, 86.0, 335.0, 95.0, 993.0, 20.0, 303.0, 796.0, 194.0, 270.0, 329.0, 129.0, 719.0, 1335.0, 672.0, 928.0, 711.0, 31.0, 501.0, 790.0, 1377.0, 65.0, 1570.0, 381.0, 283.0, 181.0, 732.0, 1811.0, 402.0, 93.0, 192.0, 1223.0, 249.0, 1251.0, 516.0, 734.0, 165.0, 822.0, 80.0, 230.0, 110.0, 351.0, 88.0, 110.0, 1245.0, 1598.0, 198.0, 747.0, 348.0, 499.0, 239.0, 259.0, 1189.0, 130.0, 88.0, 1589.0, 181.0, 80.0, 25.0, 66.0, 110.0, 637.0, 1569.0, 686.0, 104.0, 362.0, 122.0, 308.0, 341.0, 617.0, 567.0, 252.0, 82.0, 1014.0, 239.0, 64.0, 148.0, 364.0, 657.0, 149.0, 3471.0, 611.0, 311.0, 806.0, 310.0, 184.0, 217.0, 1414.0, 616.0, 378.0, 120.0, 310.0, 175.0, 269.0, 3287.0, 1043.0, 791.0, 437.0, 264.0, 66.0, 1214.0, 289.0, 422.0, 1026.0, 400.0, 112.0, 507.0, 83.0, 1161.0, 1232.0, 495.0, 770.0, 1099.0, 504.0, 177.0, 428.0, 725.0, 40.0, 33.0, 1201.0, 271.0, 418.0, 619.0, 161.0, 205.0, 340.0, 439.0, 274.0, 136.0, 125.0, 768.0, 242.0, 331.0, 420.0, 899.0, 253.0, 459.0, 572.0, 397.0, 81.0, 110.0, 55.0, 294.0, 342.0, 636.0, 328.0, 219.0, 100.0, 1500.0, 2274.0, 1490.0, 303.0, 76.0, 976.0, 616.0, 46.0, 15.0, 1645.0, 134.0, 1011.0, 261.0, 62.0, 86.0, 66.0, 38.0, 832.0, 170.0, 246.0, 9.0, 1119.0, 70.0, 749.0, 716.0, 647.0, 659.0, 568.0, 754.0, 603.0, 408.0, 63.0, 60.0, 839.0, 335.0, 320.0, 91.0, 162.0, 629.0, 347.0, 428.0, 123.0, 136.0, 939.0, 296.0, 737.0, 181.0, 1357.0, 238.0, 802.0, 108.0, 1010.0, 282.0, 348.0, 377.0, 605.0, 444.0, 203.0, 42.0, 1250.0, 67.0, 376.0, 86.0, 787.0, 337.0, 385.0, 228.0, 1153.0, 526.0, 311.0, 156.0, 1883.0, 135.0, 47.0, 488.0, 349.0, 271.0, 493.0, 739.0, 171.0, 51.0, 234.0, 576.0, 71.0, 621.0, 324.0, 1201.0, 123.0, 250.0, 722.0, 361.0, 268.0, 313.0, 414.0, 888.0, 123.0, 119.0, 293.0, 85.0, 166.0, 173.0, 406.0, 494.0, 168.0, 274.0, 139.0, 239.0, 287.0, 1424.0, 473.0, 778.0, 68.0, 1041.0, 524.0, 405.0, 124.0, 183.0, 1111.0, 74.0, 1855.0, 2143.0, 510.0, 250.0, 1090.0, 240.0, 242.0, 107.0, 775.0, 142.0, 122.0, 1430.0, 779.0, 268.0, 81.0, 99.0, 108.0, 29.0, 1223.0, 386.0, 236.0, 233.0, 140.0, 243.0, 733.0, 220.0, 357.0, 548.0, 981.0, 138.0, 253.0, 135.0, 537.0, 257.0, 849.0, 629.0, 1084.0, 175.0, 180.0, 2078.0, 289.0, 700.0, 308.0, 421.0, 293.0, 170.0, 1427.0, 164.0, 2339.0, 953.0, 209.0, 143.0, 170.0, 86.0, 49.0, 33.0, 174.0, 90.0, 204.0, 672.0, 67.0, 343.0, 778.0, 287.0, 271.0, 68.0, 60.0, 55.0, 745.0, 385.0, 300.0, 1069.0, 105.0, 160.0, 186.0, 57.0, 771.0, 1478.0, 381.0, 1040.0, 207.0, 63.0, 645.0, 207.0, 995.0, 155.0, 258.0, 148.0, 1602.0, 1323.0, 405.0, 251.0, 396.0, 258.0, 357.0, 78.0, 1005.0, 67.0, 1371.0, 521.0, 215.0, 11.0, 1518.0, 149.0, 359.0, 88.0, 126.0, 265.0, 861.0, 249.0, 95.0, 85.0, 820.0, 546.0, 121.0, 587.0, 192.0, 454.0, 1654.0, 775.0, 1321.0, 168.0, 443.0, 1037.0, 615.0, 430.0, 802.0, 229.0, 42.0, 323.0, 954.0, 134.0, 620.0, 198.0, 267.0, 103.0, 237.0, 768.0, 498.0, 1295.0, 1793.0, 607.0, 1513.0, 341.0, 235.0, 375.0, 439.0, 63.0, 110.0, 1598.0, 884.0, 247.0, 413.0, 83.0, 701.0, 1064.0, 114.0, 488.0, 344.0, 726.0, 251.0, 443.0, 398.0, 902.0, 1171.0, 210.0, 260.0, 352.0, 454.0, 56.0, 2420.0, 452.0, 503.0, 1023.0, 470.0, 847.0, 726.0, 178.0, 369.0, 258.0, 1461.0, 393.0, 309.0, 296.0, 1058.0, 1280.0, 616.0, 274.0, 189.0, 164.0, 228.0, 346.0, 384.0, 212.0, 246.0, 1.0, 617.0, 927.0, 352.0, 230.0, 63.0, 784.0, 532.0, 190.0, 244.0, 49.0, 59.0, 50.0, 209.0, 177.0, 63.0, 52.0, 272.0, 118.0, 4.0, 816.0, 700.0, 486.0, 97.0, 1120.0, 249.0, 153.0, 167.0, 73.0, 232.0, 33.0, 230.0, 150.0, 242.0, 975.0, 127.0, 69.0, 94.0, 104.0, 128.0, 1227.0, 1171.0, 335.0, 241.0, 54.0, 712.0, 1162.0, 586.0, 393.0, 81.0, 126.0, 1566.0, 425.0, 768.0, 178.0, 1030.0, 46.0, 1822.0, 1097.0, 750.0, 287.0, 121.0, 186.0, 1607.0, 236.0, 25.0, 1213.0, 874.0, 130.0, 198.0, 88.0, 439.0, 235.0, 359.0, 1725.0, 461.0, 441.0, 274.0, 79.0, 49.0, 1192.0, 381.0, 352.0, 50.0, 434.0, 89.0, 311.0, 71.0, 163.0, 1375.0, 1085.0, 538.0, 1109.0, 1315.0, 50.0, 96.0, 660.0, 267.0, 45.0, 2006.0, 298.0, 169.0, 149.0, 139.0, 809.0, 778.0, 326.0, 10.0, 989.0, 1004.0, 709.0, 128.0, 249.0, 231.0, 1488.0, 713.0, 486.0, 363.0, 77.0, 654.0, 44.0, 910.0, 941.0, 133.0, 71.0, 1320.0, 534.0, 499.0, 169.0, 730.0, 521.0, 889.0, 770.0, 69.0, 273.0, 95.0, 1361.0, 404.0, 153.0, 123.0, 128.0, 159.0, 305.0, 90.0, 22.0, 183.0, 248.0, 135.0, 245.0, 1565.0, 775.0, 621.0, 46.0, 557.0, 604.0, 1021.0, 244.0, 253.0, 366.0, 1047.0, 942.0, 884.0, 378.0, 49.0, 1000.0, 142.0, 166.0, 91.0, 608.0, 141.0, 207.0, 329.0, 56.0, 48.0, 24.0, 2524.0, 224.0, 922.0, 492.0, 450.0, 93.0, 612.0, 153.0, 35.0, 21.0, 32.0, 367.0, 1322.0, 879.0, 667.0, 432.0, 595.0, 839.0, 88.0, 335.0, 59.0, 226.0, 410.0, 198.0, 77.0, 347.0, 1609.0, 733.0, 761.0, 94.0, 149.0, 167.0, 928.0, 306.0, 123.0, 1323.0, 897.0, 112.0, 89.0, 1285.0, 851.0, 318.0, 84.0, 178.0, 769.0, 958.0, 154.0, 964.0, 79.0, 182.0, 548.0, 1248.0, 324.0, 323.0, 817.0, 309.0, 247.0, 198.0, 334.0, 84.0, 37.0, 1033.0, 108.0, 481.0, 430.0, 306.0, 170.0, 32.0, 2218.0, 274.0, 149.0, 736.0, 100.0, 106.0, 160.0, 165.0, 71.0, 1.0, 139.0, 17.0, 22.0, 108.0, 64.0, 114.0, 1.0, 141.0, 235.0, 181.0, 688.0, 381.0, 153.0, 62.0, 203.0, 379.0, 643.0, 340.0, 416.0, 245.0, 504.0, 915.0, 46.0, 255.0, 221.0, 89.0, 1595.0, 115.0, 1022.0, 241.0, 49.0, 523.0, 239.0, 272.0, 404.0, 299.0, 1568.0, 187.0, 51.0, 865.0, 193.0, 3021.0, 163.0, 109.0, 450.0, 333.0, 63.0, 55.0, 482.0, 1429.0, 1096.0, 890.0, 32.0, 127.0, 391.0, 609.0, 91.0, 99.0, 803.0, 18.0, 254.0, 1137.0, 173.0, 300.0, 282.0, 109.0, 48.0, 650.0, 1143.0, 821.0, 1222.0, 751.0, 1655.0, 648.0, 843.0, 112.0, 160.0, 680.0, 1349.0, 267.0, 391.0, 1548.0, 452.0, 162.0, 164.0, 278.0, 1204.0, 702.0, 1137.0, 218.0, 519.0, 1194.0, 185.0, 108.0, 46.0, 330.0, 102.0, 66.0, 1172.0, 245.0, 743.0, 357.0, 1224.0, 501.0, 210.0, 252.0, 1045.0, 109.0, 113.0, 344.0, 1916.0, 67.0, 24.0, 68.0, 86.0, 1455.0, 560.0, 1031.0, 357.0, 823.0, 114.0, 398.0, 435.0, 257.0, 485.0, 253.0, 102.0, 1345.0, 122.0, 402.0, 176.0, 70.0, 809.0, 714.0, 221.0, 250.0, 1288.0, 502.0, 114.0, 143.0, 210.0, 991.0, 753.0, 388.0, 157.0, 277.0, 165.0, 227.0, 345.0, 815.0, 2684.0, 1575.0, 233.0, 55.0, 1139.0, 306.0, 315.0, 962.0, 419.0, 97.0, 617.0, 107.0, 1085.0, 1627.0, 688.0, 714.0, 918.0, 736.0, 655.0, 575.0, 192.0, 57.0, 56.0, 256.0, 356.0, 1134.0, 667.0, 222.0, 187.0, 350.0, 389.0, 98.0, 231.0, 102.0, 697.0, 247.0, 292.0, 1004.0, 296.0, 233.0, 434.0, 311.0, 106.0, 499.0, 54.0, 272.0, 92.0, 290.0, 1284.0, 225.0, 100.0, 441.0, 1186.0, 1490.0, 2474.0, 445.0, 69.0, 558.0, 1038.0, 24.0, 48.0, 1688.0, 937.0, 164.0, 278.0, 63.0, 39.0, 45.0, 71.0, 896.0, 170.0, 248.0, 28.0, 1744.0, 95.0, 926.0, 590.0, 1115.0, 1045.0, 564.0, 491.0, 963.0, 114.0, 309.0, 63.0, 1374.0, 296.0, 261.0, 209.0, 67.0, 638.0, 362.0, 561.0, 119.0, 103.0, 579.0, 320.0, 773.0, 197.0, 1083.0, 885.0, 249.0, 108.0, 758.0, 249.0, 498.0, 355.0, 1074.0, 411.0, 228.0, 140.0, 962.0, 405.0, 142.0, 61.0, 1340.0, 524.0, 152.0, 332.0, 351.0, 957.0, 385.0, 112.0, 2332.0, 177.0, 77.0, 381.0, 420.0, 263.0, 509.0, 1718.0, 173.0, 55.0, 1116.0, 196.0, 531.0, 1465.0, 107.0, 502.0, 120.0, 246.0, 737.0, 797.0, 327.0, 264.0, 859.0, 367.0, 163.0, 166.0, 147.0, 145.0, 97.0, 269.0, 406.0, 958.0, 137.0, 253.0, 137.0, 187.0, 216.0, 1066.0, 616.0, 426.0, 394.0, 395.0, 1084.0, 118.0, 60.0, 157.0, 911.0, 83.0, 1590.0, 1986.0, 527.0, 192.0, 207.0, 1053.0, 380.0, 120.0, 1083.0, 166.0, 111.0, 1580.0, 188.0, 207.0, 1114.0, 111.0, 102.0, 33.0, 1182.0, 436.0, 335.0, 286.0, 167.0, 183.0, 789.0, 240.0, 367.0, 450.0, 1393.0, 91.0, 137.0, 213.0, 772.0, 627.0, 278.0, 432.0, 1049.0, 149.0, 189.0, 2159.0, 734.0, 453.0, 281.0, 302.0, 201.0, 190.0, 1295.0, 195.0, 1111.0, 1644.0, 137.0, 209.0, 72.0, 176.0, 40.0, 67.0, 131.0, 58.0, 150.0, 789.0, 471.0, 592.0, 315.0, 304.0, 61.0, 77.0, 66.0, 53.0, 1100.0, 863.0, 613.0, 159.0, 172.0, 227.0, 151.0, 1259.0, 579.0, 36.0, 739.0, 1015.0, 244.0, 61.0, 1117.0, 126.0, 200.0, 659.0, 227.0, 284.0, 1671.0, 1463.0, 486.0, 358.0, 244.0, 329.0, 241.0, 60.0, 843.0, 112.0, 1174.0, 165.0, 518.0, 1279.0, 144.0, 120.0, 241.0, 270.0, 91.0, 731.0, 223.0, 89.0, 84.0, 569.0, 715.0, 941.0, 106.0, 168.0, 538.0, 1931.0, 172.0, 1242.0, 1058.0, 384.0, 1317.0, 234.0, 546.0, 427.0, 603.0, 453.0, 36.0, 523.0, 238.0, 300.0, 802.0, 167.0, 114.0, 111.0, 1327.0, 668.0, 701.0, 725.0, 274.0, 619.0, 178.0, 1285.0, 284.0, 373.0, 62.0, 72.0, 1292.0, 1061.0, 66.0, 216.0, 320.0, 779.0, 1015.0, 695.0, 316.0, 100.0, 459.0, 621.0, 331.0, 305.0, 1104.0, 1321.0, 222.0, 413.0, 398.0, 318.0, 72.0, 648.0, 1332.0, 489.0, 205.0, 1196.0, 1157.0, 1437.0, 345.0, 691.0, 372.0, 1472.0, 333.0, 841.0, 1089.0, 1098.0, 147.0, 147.0, 232.0, 324.0, 284.0, 300.0, 153.0, 343.0, 265.0, 554.0, 735.0, 433.0, 896.0, 213.0, 55.0, 694.0, 1057.0, 45.0, 230.0, 169.0, 215.0, 39.0, 199.0, 166.0, 115.0, 267.0, 44.0, 43.0, 4.0, 1289.0, 1057.0, 503.0, 729.0, 107.0, 223.0, 151.0, 190.0, 65.0, 175.0, 23.0, 1021.0, 251.0, 168.0, 163.0, 264.0, 100.0, 68.0, 106.0, 135.0, 914.0, 252.0, 1008.0, 234.0, 62.0, 679.0, 793.0, 741.0, 311.0, 68.0, 33.0, 1056.0, 429.0, 688.0, 2156.0, 80.0, 153.0, 2063.0, 900.0, 738.0, 283.0, 158.0, 95.0, 1467.0, 294.0, 20.0, 652.0, 1318.0, 96.0, 162.0, 71.0, 478.0, 212.0, 341.0, 1887.0, 435.0, 272.0, 472.0, 49.0, 46.0, 1109.0, 417.0, 340.0, 69.0, 279.0, 74.0, 277.0, 89.0, 1720.0, 2155.0, 1167.0, 1337.0, 223.0, 520.0, 79.0, 57.0, 988.0, 300.0, 47.0, 1420.0, 306.0, 130.0, 238.0, 129.0, 1331.0, 681.0, 358.0, 26.0, 1053.0, 908.0, 261.0, 277.0, 1023.0, 154.0, 1903.0, 534.0, 1483.0, 284.0, 108.0, 615.0, 5.0, 785.0, 764.0, 110.0, 74.0, 473.0, 1135.0, 158.0, 614.0, 601.0, 652.0, 1185.0, 820.0, 91.0, 200.0, 105.0, 1564.0, 376.0, 151.0, 131.0, 130.0, 171.0, 83.0, 277.0, 26.0, 267.0, 259.0, 130.0, 208.0, 1684.0, 575.0, 929.0, 40.0, 696.0, 700.0, 874.0, 217.0, 242.0, 943.0, 951.0, 551.0, 342.0, 870.0, 52.0, 149.0, 117.0, 1366.0, 130.0, 428.0, 727.0, 100.0, 234.0, 45.0, 102.0, 22.0, 2812.0, 217.0, 422.0, 872.0, 421.0, 515.0, 140.0, 57.0, 76.0, 112.0, 14.0, 1768.0, 879.0, 508.0, 331.0, 591.0, 550.0, 704.0, 109.0, 313.0, 55.0, 341.0, 77.0, 309.0, 245.0, 1683.0, 555.0, 704.0, 776.0, 134.0, 97.0, 195.0, 809.0, 282.0, 109.0, 153.0, 1431.0, 914.0, 117.0, 1460.0, 94.0, 188.0, 829.0, 232.0, 1341.0, 994.0, 149.0, 963.0, 424.0, 105.0, 129.0, 278.0, 1116.0, 354.0, 773.0, 368.0, 53.0, 182.0, 67.0, 250.0, 198.0, 1077.0, 97.0, 581.0, 499.0, 156.0, 728.0, 34.0, 264.0, 2605.0, 150.0, 919.0, 116.0, 80.0, 138.0, 164.0, 82.0, 208.0, 20.0, 18.0, 126.0, 65.0, 1.0, 1.0, 104.0, 147.0, 149.0, 207.0, 832.0, 227.0, 203.0, 519.0, 119.0, 474.0, 61.0, 442.0, 414.0, 884.0, 1147.0, 307.0, 225.0, 224.0, 268.0, 77.0, 1430.0, 1020.0, 224.0, 113.0, 570.0, 28.0, 424.0, 256.0, 412.0, 2517.0, 193.0, 323.0, 48.0, 450.0, 198.0, 2636.0, 217.0, 554.0, 136.0, 79.0, 394.0, 67.0, 1127.0, 1162.0, 925.0, 635.0, 114.0, 60.0, 503.0, 86.0, 335.0, 95.0, 993.0, 20.0, 303.0, 796.0, 194.0, 270.0, 329.0, 129.0, 719.0, 1335.0, 672.0, 928.0, 711.0, 31.0, 501.0, 790.0, 1377.0, 65.0, 1570.0, 381.0, 283.0, 181.0, 732.0, 1811.0, 402.0, 93.0, 192.0, 1223.0, 249.0, 1251.0, 516.0, 734.0, 165.0, 822.0, 80.0, 230.0, 110.0, 351.0, 88.0, 110.0, 1245.0, 1598.0, 198.0, 747.0, 348.0, 499.0, 239.0, 259.0, 1189.0, 130.0, 88.0, 1589.0, 181.0, 80.0, 25.0, 66.0, 110.0, 637.0, 1569.0, 686.0, 104.0, 362.0, 122.0, 308.0, 341.0, 617.0, 567.0, 252.0, 82.0, 1014.0, 239.0, 64.0, 148.0, 364.0, 657.0, 149.0, 3471.0, 611.0, 311.0, 806.0, 310.0, 184.0, 217.0, 1414.0, 616.0, 378.0, 120.0, 310.0, 175.0, 269.0, 3287.0, 1043.0, 791.0, 437.0, 264.0, 66.0, 1214.0, 289.0, 422.0, 1026.0, 400.0, 112.0, 507.0, 83.0, 1161.0, 1232.0, 495.0, 770.0, 1099.0, 504.0, 177.0, 428.0, 725.0, 40.0, 33.0, 1201.0, 271.0, 418.0, 619.0, 161.0, 205.0, 340.0, 439.0, 274.0, 136.0, 125.0, 768.0, 242.0, 331.0, 420.0, 899.0, 253.0, 459.0, 572.0, 397.0, 81.0, 110.0, 55.0, 294.0, 342.0, 636.0, 328.0, 219.0, 100.0, 1500.0, 2274.0, 1490.0, 303.0, 76.0, 976.0, 616.0, 46.0, 15.0, 1645.0, 134.0, 1011.0, 261.0, 62.0, 86.0, 66.0, 38.0, 832.0, 170.0, 246.0, 9.0, 1119.0, 70.0, 749.0, 716.0, 647.0, 659.0, 568.0, 754.0, 603.0, 408.0, 63.0, 60.0, 839.0, 335.0, 320.0, 91.0, 162.0, 629.0, 347.0, 428.0, 123.0, 136.0, 939.0, 296.0, 737.0, 181.0, 1357.0, 238.0, 802.0, 108.0, 1010.0, 282.0, 348.0, 377.0, 605.0, 444.0, 203.0, 42.0, 1250.0, 67.0, 376.0, 86.0, 787.0, 337.0, 385.0, 228.0, 1153.0, 526.0, 311.0, 156.0, 1883.0, 135.0, 47.0, 488.0, 349.0, 271.0, 493.0, 739.0, 171.0, 51.0, 234.0, 576.0, 71.0, 621.0, 324.0, 1201.0, 123.0, 250.0, 722.0, 361.0, 268.0, 313.0, 414.0, 888.0, 123.0, 119.0, 293.0, 85.0, 166.0, 173.0, 406.0, 494.0, 168.0, 274.0, 139.0, 239.0, 287.0, 1424.0, 473.0, 778.0, 68.0, 1041.0, 524.0, 405.0, 124.0, 183.0, 1111.0, 74.0, 1855.0, 2143.0, 510.0, 250.0, 1090.0, 240.0, 242.0, 107.0, 775.0, 142.0, 122.0, 1430.0, 779.0, 268.0, 81.0, 99.0, 108.0, 29.0, 1223.0, 386.0, 236.0, 233.0, 140.0, 243.0, 733.0, 220.0, 357.0, 548.0, 981.0, 138.0, 253.0, 135.0, 537.0, 257.0, 849.0, 629.0, 1084.0, 175.0, 180.0, 2078.0, 289.0, 700.0, 308.0, 421.0, 293.0, 170.0, 1427.0, 164.0, 2339.0, 953.0, 209.0, 143.0, 170.0, 86.0, 49.0, 33.0, 174.0, 90.0, 204.0, 672.0, 67.0, 343.0, 778.0, 287.0, 271.0, 68.0, 60.0, 55.0, 745.0, 385.0, 300.0, 1069.0, 105.0, 160.0, 186.0, 57.0, 771.0, 1478.0, 381.0, 1040.0, 207.0, 63.0, 645.0, 207.0, 995.0, 155.0, 258.0, 148.0, 1602.0, 1323.0, 405.0, 251.0, 396.0, 258.0, 357.0, 78.0, 1005.0, 67.0, 1371.0, 521.0, 215.0, 11.0, 1518.0, 149.0, 359.0, 88.0, 126.0, 265.0, 861.0, 249.0, 95.0, 85.0, 820.0, 546.0, 121.0, 587.0, 192.0, 454.0, 1654.0, 775.0, 1321.0, 168.0, 443.0, 1037.0, 615.0, 430.0, 802.0, 229.0, 42.0, 323.0, 954.0, 134.0, 620.0, 198.0, 267.0, 103.0, 237.0, 768.0, 498.0, 1295.0, 1793.0, 607.0, 1513.0, 341.0, 235.0, 375.0, 439.0, 63.0, 110.0, 1598.0, 884.0, 247.0, 413.0, 83.0, 701.0, 1064.0, 114.0, 488.0, 344.0, 726.0, 251.0, 443.0, 398.0, 902.0, 1171.0, 210.0, 260.0, 352.0, 454.0, 56.0, 2420.0, 452.0, 503.0, 1023.0, 470.0, 847.0, 726.0, 178.0, 369.0, 258.0, 1461.0, 393.0, 309.0, 296.0, 1058.0, 1280.0, 616.0, 274.0, 189.0, 164.0, 228.0, 346.0, 384.0, 212.0, 246.0, 1.0, 617.0, 927.0, 352.0, 230.0, 63.0, 784.0, 532.0, 190.0, 244.0, 49.0, 59.0, 50.0, 209.0, 177.0, 63.0, 52.0, 272.0, 118.0, 4.0, 816.0, 700.0, 486.0, 97.0, 1120.0, 249.0, 153.0, 167.0, 73.0, 232.0, 33.0, 230.0, 150.0, 242.0, 975.0, 127.0, 69.0, 94.0, 104.0, 128.0, 1227.0, 1171.0, 335.0, 241.0, 54.0, 712.0, 1162.0, 586.0, 393.0, 81.0, 126.0, 1566.0, 425.0, 768.0, 178.0, 1030.0, 46.0, 1822.0, 1097.0, 750.0, 287.0, 121.0, 186.0, 1607.0, 236.0, 25.0, 1213.0, 874.0, 130.0, 198.0, 88.0, 439.0, 235.0, 359.0, 1725.0, 461.0, 441.0, 274.0, 79.0, 49.0, 1192.0, 381.0, 352.0, 50.0, 434.0, 89.0, 311.0, 71.0, 163.0, 1375.0, 1085.0, 538.0, 1109.0, 1315.0, 50.0, 96.0, 660.0, 267.0, 45.0, 2006.0, 298.0, 169.0, 149.0, 139.0, 809.0, 778.0, 326.0, 10.0, 989.0, 1004.0, 709.0, 128.0, 249.0, 231.0, 1488.0, 713.0, 486.0, 363.0, 77.0, 654.0, 44.0, 910.0, 941.0, 133.0, 71.0, 1320.0, 534.0, 499.0, 169.0, 730.0, 521.0, 889.0, 770.0, 69.0, 273.0, 95.0, 1361.0, 404.0, 153.0, 123.0, 128.0, 159.0, 305.0, 90.0, 22.0, 183.0, 248.0, 135.0, 245.0, 1565.0, 775.0, 621.0, 46.0, 557.0, 604.0, 1021.0, 244.0, 253.0, 366.0, 1047.0, 942.0, 884.0, 378.0, 49.0, 1000.0, 142.0, 166.0, 91.0, 608.0, 141.0, 207.0, 329.0, 56.0, 48.0, 24.0, 2524.0, 224.0, 922.0, 492.0, 450.0, 93.0, 612.0, 153.0, 35.0, 21.0, 32.0, 367.0, 1322.0, 879.0, 667.0, 432.0, 595.0, 839.0, 88.0, 335.0, 59.0, 226.0, 410.0, 198.0, 77.0, 347.0, 1609.0, 733.0, 761.0, 94.0, 149.0, 167.0, 928.0, 306.0, 123.0, 1323.0, 897.0, 112.0, 89.0, 1285.0, 851.0, 318.0, 84.0, 178.0, 769.0, 958.0, 154.0, 964.0, 79.0, 182.0, 548.0, 1248.0, 324.0, 323.0, 817.0, 309.0, 247.0, 198.0, 334.0, 84.0, 37.0, 1033.0, 108.0, 481.0, 430.0, 306.0, 170.0, 32.0, 2218.0, 274.0, 149.0, 736.0, 100.0, 106.0, 160.0, 165.0, 71.0, 1.0, 139.0, 17.0, 22.0, 108.0, 64.0, 114.0, 1.0, 135.0, 238.0, 75.0, 442.0, 403.0, 29.0, 113.0, 102.0, 224.0, 290.0, 322.0, 336.0, 269.0, 301.0, 259.0, 18.0, 120.0, 196.0, 43.0, 516.0, 762.0, 107.0, 202.0, 333.0, 8.0, 151.0, 1322.0, 113.0, 42.0, 160.0, 118.0, 97.0, 268.0, 73.0, 1682.0, 504.0, 180.0, 113.0, 288.0, 25.0, 40.0, 806.0, 771.0, 551.0, 39.0, 313.0, 68.0, 322.0, 279.0, 95.0, 39.0, 534.0, 9.0, 542.0, 261.0, 238.0, 172.0, 98.0, 77.0, 475.0, 369.0, 220.0, 722.0, 22.0, 365.0, 496.0, 890.0, 375.0, 113.0, 1044.0, 88.0, 494.0, 153.0, 1135.0, 57.0, 162.0, 173.0, 80.0, 961.0, 286.0, 529.0, 99.0, 390.0, 691.0, 123.0, 153.0, 81.0, 19.0, 101.0, 139.0, 41.0, 663.0, 671.0, 374.0, 200.0, 88.0, 685.0, 171.0, 156.0, 691.0, 41.0, 50.0, 1001.0, 91.0, 50.0, 59.0, 63.0, 18.0, 356.0, 1071.0, 319.0, 134.0, 235.0, 144.0, 425.0, 208.0, 96.0, 133.0, 250.0, 60.0, 724.0, 155.0, 398.0, 84.0, 45.0, 699.0, 936.0, 382.0, 341.0, 117.0, 101.0, 72.0, 160.0, 44.0, 705.0, 535.0, 194.0, 54.0, 113.0, 198.0, 51.0, 2278.0, 735.0, 694.0, 96.0, 304.0, 52.0, 744.0, 263.0, 824.0, 244.0, 199.0, 63.0, 70.0, 159.0, 678.0, 547.0, 292.0, 771.0, 602.0, 18.0, 920.0, 283.0, 41.0, 111.0, 270.0, 270.0, 769.0, 158.0, 264.0, 193.0, 112.0, 281.0, 194.0, 169.0, 89.0, 44.0, 439.0, 166.0, 253.0, 626.0, 164.0, 181.0, 279.0, 393.0, 81.0, 208.0, 266.0, 78.0, 40.0, 149.0, 343.0, 108.0, 348.0, 77.0, 1119.0, 812.0, 1827.0, 278.0, 47.0, 723.0, 378.0, 32.0, 12.0, 175.0, 1048.0, 95.0, 750.0, 59.0, 55.0, 40.0, 19.0, 606.0, 113.0, 210.0, 6.0, 631.0, 53.0, 552.0, 475.0, 437.0, 402.0, 308.0, 661.0, 157.0, 289.0, 32.0, 93.0, 521.0, 191.0, 213.0, 94.0, 68.0, 481.0, 223.0, 420.0, 89.0, 47.0, 429.0, 202.0, 133.0, 455.0, 675.0, 703.0, 198.0, 61.0, 431.0, 136.0, 246.0, 192.0, 370.0, 83.0, 178.0, 82.0, 716.0, 284.0, 71.0, 17.0, 554.0, 165.0, 95.0, 69.0, 255.0, 528.0, 175.0, 34.0, 1185.0, 71.0, 58.0, 241.0, 329.0, 370.0, 231.0, 755.0, 25.0, 117.0, 465.0, 111.0, 553.0, 371.0, 54.0, 258.0, 76.0, 128.0, 228.0, 348.0, 371.0, 81.0, 502.0, 155.0, 96.0, 278.0, 77.0, 181.0, 64.0, 53.0, 338.0, 63.0, 105.0, 167.0, 129.0, 76.0, 568.0, 132.0, 207.0, 291.0, 317.0, 744.0, 70.0, 198.0, 61.0, 47.0, 628.0, 36.0, 1094.0, 1124.0, 475.0, 64.0, 217.0, 139.0, 710.0, 71.0, 504.0, 83.0, 80.0, 507.0, 965.0, 58.0, 58.0, 144.0, 58.0, 23.0, 217.0, 187.0, 1002.0, 205.0, 154.0, 232.0, 260.0, 570.0, 179.0, 132.0, 52.0, 640.0, 166.0, 81.0, 220.0, 445.0, 201.0, 217.0, 785.0, 75.0, 94.0, 479.0, 247.0, 1123.0, 199.0, 243.0, 112.0, 824.0, 105.0, 123.0, 791.0, 57.0, 1228.0, 57.0, 78.0, 129.0, 29.0, 56.0, 38.0, 23.0, 73.0, 457.0, 425.0, 28.0, 211.0, 429.0, 23.0, 263.0, 42.0, 44.0, 495.0, 404.0, 417.0, 33.0, 148.0, 197.0, 118.0, 866.0, 207.0, 426.0, 19.0, 589.0, 199.0, 20.0, 96.0, 115.0, 507.0, 624.0, 109.0, 72.0, 614.0, 1096.0, 213.0, 125.0, 316.0, 145.0, 145.0, 35.0, 489.0, 23.0, 66.0, 801.0, 394.0, 871.0, 56.0, 80.0, 138.0, 156.0, 32.0, 428.0, 146.0, 74.0, 42.0, 91.0, 271.0, 240.0, 313.0, 65.0, 402.0, 500.0, 1275.0, 665.0, 283.0, 112.0, 632.0, 20.0, 481.0, 107.0, 390.0, 170.0, 206.0, 517.0, 60.0, 196.0, 208.0, 102.0, 156.0, 83.0, 469.0, 577.0, 77.0, 680.0, 711.0, 166.0, 560.0, 210.0, 154.0, 266.0, 43.0, 23.0, 545.0, 243.0, 895.0, 98.0, 29.0, 678.0, 448.0, 407.0, 56.0, 66.0, 243.0, 116.0, 210.0, 87.0, 759.0, 127.0, 626.0, 123.0, 255.0, 167.0, 36.0, 1047.0, 504.0, 331.0, 593.0, 720.0, 209.0, 135.0, 297.0, 273.0, 975.0, 104.0, 273.0, 120.0, 196.0, 755.0, 93.0, 391.0, 816.0, 217.0, 187.0, 65.0, 348.0, 81.0, 153.0, 115.0, 496.0, 486.0, 112.0, 205.0, 24.0, 407.0, 569.0, 16.0, 174.0, 162.0, 70.0, 46.0, 183.0, 178.0, 76.0, 127.0, 23.0, 41.0, 3.0, 663.0, 34.0, 285.0, 327.0, 175.0, 227.0, 120.0, 64.0, 90.0, 155.0, 7.0, 197.0, 161.0, 38.0, 200.0, 65.0, 28.0, 53.0, 81.0, 71.0, 680.0, 184.0, 523.0, 113.0, 51.0, 451.0, 482.0, 517.0, 223.0, 54.0, 23.0, 384.0, 254.0, 966.0, 525.0, 100.0, 76.0, 1479.0, 573.0, 379.0, 133.0, 202.0, 72.0, 955.0, 154.0, 18.0, 317.0, 468.0, 43.0, 133.0, 43.0, 158.0, 459.0, 1691.0, 321.0, 140.0, 356.0, 369.0, 33.0, 15.0, 772.0, 258.0, 240.0, 121.0, 31.0, 32.0, 51.0, 169.0, 876.0, 657.0, 168.0, 681.0, 331.0, 648.0, 42.0, 15.0, 345.0, 18.0, 201.0, 80.0, 1146.0, 102.0, 123.0, 196.0, 407.0, 602.0, 256.0, 478.0, 755.0, 65.0, 871.0, 163.0, 202.0, 286.0, 778.0, 761.0, 494.0, 220.0, 47.0, 17.0, 521.0, 497.0, 46.0, 101.0, 858.0, 406.0, 415.0, 123.0, 618.0, 424.0, 572.0, 416.0, 121.0, 30.0, 37.0, 885.0, 51.0, 314.0, 121.0, 112.0, 74.0, 165.0, 73.0, 5.0, 113.0, 148.0, 140.0, 84.0, 581.0, 1279.0, 427.0, 33.0, 492.0, 396.0, 566.0, 135.0, 153.0, 643.0, 240.0, 621.0, 649.0, 379.0, 21.0, 778.0, 95.0, 70.0, 81.0, 108.0, 86.0, 428.0, 152.0, 21.0, 202.0, 27.0, 1671.0, 147.0, 660.0, 160.0, 333.0, 53.0, 272.0, 82.0, 13.0, 26.0, 26.0, 612.0, 671.0, 415.0, 174.0, 648.0, 228.0, 46.0, 337.0, 213.0, 15.0, 188.0, 47.0, 316.0, 186.0, 1184.0, 335.0, 301.0, 45.0, 506.0, 67.0, 160.0, 516.0, 248.0, 74.0, 251.0, 993.0, 51.0, 78.0, 137.0, 556.0, 808.0, 178.0, 123.0, 698.0, 745.0, 90.0, 336.0, 532.0, 62.0, 50.0, 232.0, 663.0, 221.0, 171.0, 283.0, 35.0, 562.0, 130.0, 17.0, 112.0, 570.0, 85.0, 496.0, 458.0, 191.0, 20.0, 97.0, 1768.0, 224.0, 106.0, 661.0, 76.0, 42.0, 150.0, 26.0, 78.0, 97.0, 6.0, 20.0, 93.0, 20.0, 5.0, 1.0, 104.0, 1.0, 85.0, 141.0, 121.0, 233.0, 115.0, 152.0, 497.0, 52.0, 392.0, 222.0, 432.0, 326.0, 216.0, 457.0, 132.0, 43.0, 178.0, 132.0, 41.0, 247.0, 722.0, 559.0, 37.0, 787.0, 50.0, 422.0, 237.0, 181.0, 1285.0, 126.0, 388.0, 83.0, 196.0, 162.0, 1321.0, 275.0, 82.0, 151.0, 342.0, 90.0, 66.0, 661.0, 497.0, 1070.0, 634.0, 88.0, 59.0, 368.0, 86.0, 273.0, 130.0, 1127.0, 55.0, 392.0, 223.0, 130.0, 201.0, 275.0, 134.0, 1100.0, 804.0, 188.0, 519.0, 27.0, 289.0, 212.0, 562.0, 318.0, 89.0, 1066.0, 96.0, 101.0, 440.0, 972.0, 306.0, 191.0, 135.0, 42.0, 760.0, 442.0, 1020.0, 465.0, 89.0, 313.0, 94.0, 166.0, 101.0, 25.0, 283.0, 102.0, 91.0, 832.0, 332.0, 310.0, 417.0, 1711.0, 174.0, 407.0, 153.0, 708.0, 99.0, 76.0, 612.0, 103.0, 5.0, 122.0, 107.0, 45.0, 664.0, 308.0, 1034.0, 95.0, 420.0, 235.0, 193.0, 202.0, 88.0, 463.0, 209.0, 74.0, 563.0, 323.0, 329.0, 160.0, 30.0, 1305.0, 93.0, 611.0, 566.0, 605.0, 183.0, 202.0, 155.0, 165.0, 315.0, 880.0, 201.0, 62.0, 238.0, 74.0, 317.0, 1803.0, 510.0, 766.0, 255.0, 348.0, 96.0, 717.0, 295.0, 832.0, 410.0, 338.0, 101.0, 247.0, 38.0, 351.0, 955.0, 662.0, 170.0, 117.0, 872.0, 328.0, 21.0, 335.0, 175.0, 14.0, 789.0, 319.0, 232.0, 170.0, 270.0, 302.0, 137.0, 119.0, 141.0, 79.0, 152.0, 259.0, 440.0, 183.0, 403.0, 440.0, 321.0, 424.0, 441.0, 248.0, 68.0, 268.0, 181.0, 51.0, 317.0, 156.0, 331.0, 38.0, 66.0, 926.0, 535.0, 1576.0, 100.0, 44.0, 595.0, 389.0, 100.0, 11.0, 880.0, 645.0, 155.0, 74.0, 108.0, 57.0, 76.0, 19.0, 541.0, 149.0, 210.0, 392.0, 89.0, 649.0, 408.0, 272.0, 268.0, 674.0, 495.0, 336.0, 105.0, 322.0, 33.0, 483.0, 300.0, 469.0, 101.0, 93.0, 432.0, 266.0, 264.0, 57.0, 145.0, 564.0, 399.0, 570.0, 213.0, 443.0, 867.0, 183.0, 74.0, 780.0, 251.0, 177.0, 130.0, 162.0, 4.0, 254.0, 251.0, 976.0, 56.0, 186.0, 118.0, 152.0, 194.0, 225.0, 171.0, 910.0, 356.0, 187.0, 137.0, 59.0, 760.0, 71.0, 308.0, 465.0, 375.0, 172.0, 360.0, 32.0, 139.0, 245.0, 212.0, 310.0, 527.0, 180.0, 127.0, 33.0, 234.0, 451.0, 142.0, 207.0, 311.0, 315.0, 779.0, 58.0, 80.0, 68.0, 315.0, 83.0, 104.0, 143.0, 205.0, 220.0, 93.0, 206.0, 177.0, 249.0, 1134.0, 461.0, 546.0, 738.0, 266.0, 438.0, 123.0, 67.0, 67.0, 833.0, 40.0, 1040.0, 1039.0, 167.0, 567.0, 800.0, 184.0, 79.0, 161.0, 446.0, 92.0, 141.0, 899.0, 396.0, 78.0, 42.0, 198.0, 165.0, 76.0, 1116.0, 217.0, 212.0, 178.0, 156.0, 510.0, 227.0, 186.0, 499.0, 163.0, 636.0, 111.0, 137.0, 169.0, 547.0, 348.0, 217.0, 319.0, 839.0, 96.0, 188.0, 220.0, 923.0, 234.0, 431.0, 261.0, 215.0, 1085.0, 256.0, 113.0, 1089.0, 208.0, 852.0, 167.0, 158.0, 80.0, 67.0, 59.0, 107.0, 11.0, 192.0, 258.0, 327.0, 416.0, 216.0, 136.0, 50.0, 69.0, 57.0, 65.0, 472.0, 1000.0, 171.0, 116.0, 116.0, 292.0, 28.0, 953.0, 397.0, 48.0, 125.0, 930.0, 58.0, 144.0, 781.0, 79.0, 147.0, 472.0, 129.0, 93.0, 742.0, 260.0, 153.0, 154.0, 51.0, 365.0, 949.0, 301.0, 531.0, 43.0, 994.0, 217.0, 5.0, 99.0, 1648.0, 261.0, 195.0, 162.0, 94.0, 86.0, 596.0, 206.0, 82.0, 90.0, 190.0, 553.0, 308.0, 180.0, 130.0, 322.0, 327.0, 1363.0, 899.0, 379.0, 182.0, 944.0, 553.0, 420.0, 416.0, 227.0, 129.0, 61.0, 792.0, 315.0, 203.0, 142.0, 220.0, 232.0, 88.0, 595.0, 431.0, 754.0, 871.0, 338.0, 142.0, 297.0, 139.0, 297.0, 375.0, 46.0, 95.0, 547.0, 1074.0, 317.0, 55.0, 149.0, 330.0, 714.0, 75.0, 359.0, 74.0, 372.0, 327.0, 219.0, 66.0, 637.0, 105.0, 397.0, 172.0, 314.0, 394.0, 55.0, 428.0, 902.0, 352.0, 429.0, 515.0, 692.0, 175.0, 218.0, 191.0, 381.0, 995.0, 84.0, 236.0, 263.0, 674.0, 369.0, 1167.0, 140.0, 211.0, 288.0, 298.0, 212.0, 237.0, 117.0, 79.0, 685.0, 139.0, 471.0, 52.0, 174.0, 206.0, 90.0, 895.0, 58.0, 345.0, 44.0, 20.0, 162.0, 73.0, 199.0, 87.0, 43.0, 42.0, 3.0, 242.0, 720.0, 321.0, 309.0, 122.0, 194.0, 136.0, 50.0, 65.0, 280.0, 15.0, 219.0, 146.0, 113.0, 222.0, 77.0, 62.0, 49.0, 107.0, 88.0, 801.0, 1193.0, 52.0, 282.0, 198.0, 766.0, 456.0, 43.0, 162.0, 336.0, 30.0, 390.0, 531.0, 458.0, 308.0, 118.0, 23.0, 1261.0, 739.0, 477.0, 199.0, 79.0, 256.0, 1559.0, 135.0, 26.0, 460.0, 563.0, 179.0, 83.0, 49.0, 294.0, 152.0, 1076.0, 293.0, 363.0, 294.0, 139.0, 88.0, 59.0, 782.0, 326.0, 225.0, 161.0, 41.0, 22.0, 329.0, 86.0, 901.0, 797.0, 566.0, 668.0, 355.0, 86.0, 114.0, 76.0, 163.0, 370.0, 52.0, 920.0, 349.0, 119.0, 68.0, 150.0, 212.0, 620.0, 138.0, 21.0, 748.0, 604.0, 237.0, 161.0, 627.0, 209.0, 748.0, 238.0, 580.0, 164.0, 207.0, 128.0, 39.0, 973.0, 760.0, 79.0, 136.0, 285.0, 1008.0, 504.0, 241.0, 376.0, 504.0, 350.0, 359.0, 207.0, 86.0, 167.0, 301.0, 669.0, 106.0, 167.0, 56.0, 112.0, 98.0, 175.0, 11.0, 211.0, 191.0, 131.0, 120.0, 1111.0, 582.0, 548.0, 70.0, 940.0, 197.0, 423.0, 196.0, 169.0, 438.0, 706.0, 717.0, 251.0, 230.0, 45.0, 838.0, 120.0, 106.0, 43.0, 57.0, 570.0, 164.0, 215.0, 18.0, 58.0, 116.0, 1176.0, 347.0, 356.0, 723.0, 307.0, 73.0, 213.0, 104.0, 19.0, 61.0, 7.0, 528.0, 411.0, 284.0, 626.0, 309.0, 480.0, 341.0, 84.0, 217.0, 24.0, 270.0, 85.0, 148.0, 156.0, 281.0, 97.0, 1017.0, 475.0, 327.0, 88.0, 137.0, 767.0, 290.0, 92.0, 192.0, 83.0, 717.0, 40.0, 88.0, 628.0, 394.0, 675.0, 175.0, 634.0, 110.0, 219.0, 599.0, 353.0, 63.0, 88.0, 235.0, 1220.0, 460.0, 181.0, 213.0, 560.0, 239.0, 136.0, 30.0, 230.0, 550.0, 94.0, 184.0, 208.0, 131.0, 403.0, 38.0, 928.0, 170.0, 161.0, 30.0, 243.0, 105.0, 122.0, 234.0, 20.0, 83.0, 4.0, 19.0, 17.0, 82.0, 64.0, 5.0, 2.0, 159.0, 6.0, 41.0, 3.0, 17.0, 33.0, 14.0, 4.0, 17.0, 19.0, 13.0, 34.0, 48.0, 30.0, 13.0, 44.0, 18.0, 12.0, 1.0, 45.0, 46.0, 46.0, 14.0, 13.0, 511.0, 24.0, 20.0, 26.0, 11.0, 21.0, 7.0, 13.0, 6.0, 78.0, 30.0, 16.0, 9.0, 15.0, 36.0, 1.0, 54.0, 44.0, 90.0, 7.0, 52.0, 12.0, 26.0, 12.0, 8.0, 7.0, 63.0, 22.0, 12.0, 22.0, 13.0, 21.0, 7.0, 15.0, 21.0, 95.0, 43.0, 30.0, 10.0, 34.0, 19.0, 39.0, 19.0, 23.0, 43.0, 97.0, 14.0, 9.0, 9.0, 48.0, 8.0, 2.0, 51.0, 46.0, 78.0, 15.0, 15.0, 7.0, 10.0, 16.0, 5.0, 15.0, 10.0, 23.0, 40.0, 59.0, 12.0, 82.0, 92.0, 25.0, 24.0, 27.0, 65.0, 5.0, 16.0, 5.0, 28.0, 4.0, 11.0, 9.0, 26.0, 169.0, 16.0, 6.0, 11.0, 16.0, 18.0, 29.0, 13.0, 40.0, 12.0, 29.0, 8.0, 20.0, 18.0, 35.0, 5.0, 138.0, 59.0, 65.0, 20.0, 57.0, 15.0, 24.0, 4.0, 4.0, 138.0, 18.0, 20.0, 3.0, 20.0, 14.0, 1.0, 116.0, 43.0, 42.0, 73.0, 10.0, 4.0, 64.0, 57.0, 73.0, 8.0, 6.0, 14.0, 15.0, 6.0, 66.0, 20.0, 55.0, 16.0, 76.0, 4.0, 42.0, 36.0, 10.0, 8.0, 55.0, 16.0, 11.0, 19.0, 54.0, 33.0, 5.0, 7.0, 15.0, 3.0, 20.0, 22.0, 20.0, 15.0, 45.0, 43.0, 10.0, 26.0, 16.0, 4.0, 11.0, 24.0, 9.0, 21.0, 5.0, 48.0, 11.0, 4.0, 70.0, 161.0, 28.0, 15.0, 7.0, 20.0, 43.0, 5.0, 1.0, 37.0, 88.0, 8.0, 19.0, 4.0, 5.0, 1.0, 3.0, 47.0, 22.0, 9.0, 20.0, 28.0, 37.0, 87.0, 37.0, 31.0, 33.0, 12.0, 35.0, 36.0, 6.0, 26.0, 14.0, 67.0, 6.0, 6.0, 15.0, 21.0, 51.0, 18.0, 7.0, 20.0, 77.0, 56.0, 15.0, 45.0, 99.0, 23.0, 2.0, 84.0, 20.0, 14.0, 4.0, 11.0, 6.0, 9.0, 165.0, 21.0, 3.0, 8.0, 9.0, 26.0, 9.0, 9.0, 118.0, 33.0, 18.0, 49.0, 10.0, 3.0, 11.0, 22.0, 27.0, 25.0, 17.0, 20.0, 23.0, 15.0, 50.0, 35.0, 24.0, 11.0, 2.0, 34.0, 26.0, 14.0, 18.0, 79.0, 15.0, 38.0, 15.0, 5.0, 14.0, 6.0, 5.0, 2.0, 26.0, 14.0, 19.0, 9.0, 9.0, 11.0, 37.0, 65.0, 17.0, 29.0, 88.0, 35.0, 14.0, 27.0, 4.0, 7.0, 123.0, 9.0, 87.0, 83.0, 58.0, 20.0, 27.0, 21.0, 79.0, 8.0, 67.0, 17.0, 47.0, 90.0, 21.0, 25.0, 11.0, 5.0, 94.0, 23.0, 17.0, 16.0, 33.0, 53.0, 47.0, 11.0, 78.0, 7.0, 9.0, 72.0, 29.0, 27.0, 21.0, 63.0, 4.0, 15.0, 57.0, 17.0, 35.0, 10.0, 39.0, 16.0, 19.0, 146.0, 11.0, 188.0, 76.0, 21.0, 17.0, 4.0, 12.0, 10.0, 14.0, 4.0, 5.0, 28.0, 21.0, 25.0, 48.0, 95.0, 14.0, 8.0, 3.0, 32.0, 40.0, 13.0, 102.0, 11.0, 8.0, 7.0, 26.0, 93.0, 8.0, 1.0, 158.0, 17.0, 8.0, 41.0, 73.0, 16.0, 11.0, 7.0, 25.0, 56.0, 20.0, 68.0, 7.0, 17.0, 25.0, 6.0, 46.0, 111.0, 31.0, 104.0, 11.0, 12.0, 8.0, 19.0, 10.0, 43.0, 30.0, 7.0, 7.0, 39.0, 17.0, 21.0, 5.0, 6.0, 34.0, 112.0, 72.0, 35.0, 23.0, 8.0, 47.0, 26.0, 46.0, 29.0, 12.0, 2.0, 71.0, 14.0, 14.0, 7.0, 4.0, 7.0, 8.0, 60.0, 11.0, 308.0, 38.0, 25.0, 48.0, 8.0, 4.0, 14.0, 16.0, 5.0, 1.0, 36.0, 95.0, 27.0, 3.0, 86.0, 32.0, 32.0, 3.0, 4.0, 15.0, 24.0, 12.0, 13.0, 44.0, 52.0, 5.0, 14.0, 32.0, 24.0, 6.0, 51.0, 369.0, 38.0, 58.0, 42.0, 19.0, 26.0, 8.0, 123.0, 38.0, 12.0, 81.0, 16.0, 23.0, 37.0, 18.0, 34.0, 14.0, 77.0, 9.0, 27.0, 32.0, 6.0, 7.0, 21.0, 53.0, 3.0, 8.0, 16.0, 55.0, 14.0, 12.0, 4.0, 3.0, 18.0, 18.0, 18.0, 3.0, 8.0, 2.0, 4.0, 28.0, 31.0, 18.0, 22.0, 8.0, 20.0, 27.0, 4.0, 4.0, 16.0, 5.0, 10.0, 5.0, 11.0, 9.0, 4.0, 16.0, 11.0, 113.0, 83.0, 10.0, 9.0, 10.0, 15.0, 65.0, 47.0, 2.0, 4.0, 11.0, 10.0, 25.0, 20.0, 57.0, 6.0, 114.0, 70.0, 51.0, 13.0, 17.0, 8.0, 122.0, 12.0, 10.0, 13.0, 64.0, 14.0, 3.0, 2.0, 8.0, 34.0, 39.0, 18.0, 23.0, 22.0, 12.0, 2.0, 71.0, 20.0, 11.0, 29.0, 3.0, 2.0, 25.0, 79.0, 45.0, 62.0, 93.0, 14.0, 10.0, 7.0, 4.0, 11.0, 7.0, 12.0, 157.0, 35.0, 3.0, 15.0, 3.0, 20.0, 7.0, 44.0, 107.0, 36.0, 51.0, 41.0, 14.0, 15.0, 54.0, 32.0, 18.0, 27.0, 15.0, 34.0, 81.0, 54.0, 19.0, 4.0, 65.0, 207.0, 23.0, 11.0, 22.0, 36.0, 38.0, 44.0, 9.0, 12.0, 8.0, 84.0, 5.0, 18.0, 25.0, 8.0, 12.0, 15.0, 6.0, 10.0, 21.0, 12.0, 8.0, 92.0, 39.0, 45.0, 22.0, 13.0, 64.0, 75.0, 17.0, 11.0, 95.0, 76.0, 29.0, 24.0, 14.0, 5.0, 61.0, 23.0, 13.0, 61.0, 24.0, 15.0, 10.0, 4.0, 1.0, 29.0, 80.0, 104.0, 32.0, 47.0, 12.0, 14.0, 9.0, 10.0, 32.0, 36.0, 25.0, 60.0, 10.0, 25.0, 14.0, 9.0, 2.0, 27.0, 34.0, 20.0, 5.0, 70.0, 73.0, 19.0, 29.0, 6.0, 8.0, 14.0, 50.0, 15.0, 31.0, 44.0, 8.0, 3.0, 3.0, 41.0, 65.0, 19.0, 16.0, 10.0, 113.0, 26.0, 19.0, 37.0, 35.0, 16.0, 9.0, 79.0, 14.0, 23.0, 57.0, 14.0, 14.0, 15.0, 7.0, 9.0, 3.0, 20.0, 5.0, 23.0, 27.0, 14.0, 2.0, 41.0, 22.0, 25.0, 39.0, 10.0, 1.0, 5.0, 19.0, 14.0, 3.0, 1.0, 1.0, 1.0, 1.0, 11.0, 1.0, 2.0, 1.0, 6.0, 2.0, 4.0, 2.0, 2.0, 5.0, 3.0, 1.0, 1.0, 1.0, 3.0, 12.0, 2.0, 2.0, 1.0, 1.0, 3.0, 1.0, 1.0, 1.0, 5.0, 2.0, 4.0, 1.0, 7.0, 6.0, 7.0, 43.0, 5.0, 27.0, 1.0, 53.0, 54.0, 45.0, 46.0, 6.0, 18.0, 3.0, 6.0, 11.0, 13.0, 2.0, 89.0, 19.0, 10.0, 43.0, 13.0, 3.0, 125.0, 38.0, 35.0, 18.0, 13.0, 10.0, 17.0, 19.0, 42.0, 34.0, 93.0, 25.0, 12.0, 3.0, 27.0, 3.0, 39.0, 43.0, 96.0, 31.0, 9.0, 6.0, 19.0, 32.0, 16.0, 3.0, 63.0, 8.0, 13.0, 29.0, 34.0, 21.0, 28.0, 12.0, 93.0, 39.0, 30.0, 61.0, 21.0, 3.0, 10.0, 41.0, 43.0, 40.0, 77.0, 14.0, 111.0, 3.0, 34.0, 8.0, 8.0, 16.0, 2.0, 20.0, 67.0, 62.0, 9.0, 26.0, 26.0, 3.0, 13.0, 1.0, 8.0, 8.0, 17.0, 11.0, 102.0, 58.0, 20.0, 41.0, 42.0, 34.0, 11.0, 15.0, 73.0, 13.0, 6.0, 78.0, 23.0, 12.0, 5.0, 2.0, 137.0, 41.0, 30.0, 17.0, 28.0, 26.0, 22.0, 12.0, 6.0, 30.0, 14.0, 12.0, 39.0, 16.0, 35.0, 36.0, 7.0, 57.0, 71.0, 54.0, 26.0, 7.0, 10.0, 16.0, 8.0, 7.0, 75.0, 20.0, 3.0, 1.0, 21.0, 14.0, 4.0, 58.0, 134.0, 54.0, 22.0, 12.0, 8.0, 56.0, 14.0, 14.0, 55.0, 12.0, 17.0, 23.0, 14.0, 38.0, 70.0, 58.0, 18.0, 50.0, 39.0, 29.0, 74.0, 3.0, 1.0, 41.0, 11.0, 20.0, 22.0, 47.0, 28.0, 21.0, 5.0, 6.0, 9.0, 49.0, 42.0, 26.0, 9.0, 36.0, 28.0, 14.0, 6.0, 23.0, 25.0, 29.0, 9.0, 34.0, 21.0, 4.0, 15.0, 101.0, 8.0, 157.0, 81.0, 28.0, 12.0, 9.0, 33.0, 27.0, 1.0, 2.0, 11.0, 110.0, 7.0, 52.0, 9.0, 16.0, 3.0, 28.0, 20.0, 2.0, 6.0, 34.0, 53.0, 79.0, 47.0, 64.0, 19.0, 43.0, 23.0, 38.0, 48.0, 5.0, 22.0, 24.0, 55.0, 27.0, 3.0, 23.0, 49.0, 30.0, 18.0, 2.0, 23.0, 48.0, 20.0, 20.0, 73.0, 46.0, 17.0, 4.0, 53.0, 20.0, 13.0, 9.0, 32.0, 22.0, 1.0, 6.0, 121.0, 5.0, 11.0, 30.0, 18.0, 4.0, 11.0, 23.0, 125.0, 46.0, 7.0, 7.0, 70.0, 1.0, 23.0, 52.0, 33.0, 13.0, 43.0, 3.0, 18.0, 36.0, 10.0, 32.0, 73.0, 5.0, 21.0, 20.0, 49.0, 82.0, 58.0, 12.0, 52.0, 22.0, 24.0, 8.0, 11.0, 29.0, 4.0, 1.0, 8.0, 21.0, 11.0, 6.0, 18.0, 38.0, 6.0, 107.0, 37.0, 17.0, 38.0, 51.0, 44.0, 23.0, 4.0, 9.0, 4.0, 90.0, 67.0, 110.0, 59.0, 5.0, 10.0, 59.0, 23.0, 6.0, 130.0, 23.0, 10.0, 102.0, 44.0, 15.0, 19.0, 7.0, 9.0, 2.0, 24.0, 97.0, 21.0, 6.0, 9.0, 60.0, 73.0, 17.0, 5.0, 10.0, 11.0, 99.0, 10.0, 6.0, 11.0, 11.0, 39.0, 45.0, 100.0, 4.0, 8.0, 26.0, 31.0, 70.0, 15.0, 16.0, 29.0, 139.0, 18.0, 17.0, 168.0, 85.0, 13.0, 22.0, 6.0, 6.0, 6.0, 5.0, 5.0, 10.0, 2.0, 71.0, 3.0, 13.0, 17.0, 39.0, 48.0, 14.0, 10.0, 19.0, 48.0, 81.0, 24.0, 24.0, 16.0, 15.0, 97.0, 10.0, 12.0, 27.0, 105.0, 25.0, 2.0, 118.0, 21.0, 3.0, 47.0, 6.0, 5.0, 56.0, 18.0, 16.0, 21.0, 92.0, 10.0, 18.0, 11.0, 43.0, 13.0, 2.0, 56.0, 7.0, 135.0, 14.0, 18.0, 11.0, 8.0, 11.0, 35.0, 22.0, 13.0, 5.0, 23.0, 40.0, 14.0, 7.0, 17.0, 72.0, 82.0, 79.0, 39.0, 15.0, 14.0, 113.0, 35.0, 44.0, 20.0, 29.0, 2.0, 15.0, 9.0, 4.0, 26.0, 9.0, 22.0, 60.0, 8.0, 76.0, 41.0, 23.0, 54.0, 62.0, 30.0, 14.0, 5.0, 29.0, 21.0, 9.0, 2.0, 109.0, 46.0, 5.0, 25.0, 7.0, 53.0, 76.0, 30.0, 8.0, 5.0, 17.0, 21.0, 25.0, 3.0, 33.0, 15.0, 30.0, 2.0, 33.0, 18.0, 8.0, 87.0, 58.0, 25.0, 73.0, 26.0, 28.0, 29.0, 54.0, 85.0, 36.0, 22.0, 75.0, 32.0, 42.0, 12.0, 18.0, 26.0, 18.0, 4.0, 13.0, 16.0, 31.0, 7.0, 6.0, 16.0, 55.0, 21.0, 13.0, 31.0, 48.0, 31.0, 7.0, 8.0, 3.0, 5.0, 10.0, 5.0, 14.0, 4.0, 2.0, 2.0, 6.0, 30.0, 36.0, 29.0, 16.0, 14.0, 22.0, 6.0, 42.0, 26.0, 1.0, 21.0, 17.0, 16.0, 21.0, 12.0, 8.0, 6.0, 5.0, 11.0, 41.0, 101.0, 27.0, 15.0, 6.0, 79.0, 3.0, 18.0, 45.0, 1.0, 5.0, 16.0, 16.0, 104.0, 6.0, 24.0, 104.0, 59.0, 56.0, 21.0, 41.0, 3.0, 116.0, 9.0, 5.0, 13.0, 44.0, 8.0, 7.0, 4.0, 73.0, 10.0, 4.0, 19.0, 240.0, 12.0, 2.0, 25.0, 16.0, 74.0, 12.0, 17.0, 14.0, 3.0, 14.0, 32.0, 136.0, 37.0, 66.0, 46.0, 119.0, 12.0, 10.0, 16.0, 41.0, 6.0, 15.0, 67.0, 12.0, 12.0, 35.0, 2.0, 61.0, 37.0, 9.0, 31.0, 53.0, 24.0, 60.0, 24.0, 10.0, 71.0, 52.0, 33.0, 55.0, 11.0, 32.0, 17.0, 93.0, 65.0, 14.0, 8.0, 157.0, 37.0, 42.0, 15.0, 51.0, 20.0, 46.0, 14.0, 19.0, 21.0, 22.0, 66.0, 13.0, 7.0, 26.0, 10.0, 14.0, 8.0, 9.0, 4.0, 14.0, 9.0, 14.0, 18.0, 114.0, 51.0, 28.0, 9.0, 20.0, 87.0, 64.0, 10.0, 19.0, 27.0, 7.0, 65.0, 57.0, 19.0, 99.0, 16.0, 18.0, 13.0, 67.0, 9.0, 13.0, 11.0, 13.0, 1.0, 39.0, 71.0, 72.0, 14.0, 10.0, 23.0, 8.0, 24.0, 22.0, 53.0, 48.0, 19.0, 17.0, 96.0, 49.0, 11.0, 13.0, 19.0, 51.0, 31.0, 25.0, 2.0, 137.0, 14.0, 24.0, 30.0, 11.0, 13.0, 5.0, 69.0, 21.0, 35.0, 7.0, 5.0, 11.0, 85.0, 25.0, 53.0, 14.0, 10.0, 58.0, 64.0, 8.0, 44.0, 20.0, 6.0, 15.0, 79.0, 34.0, 14.0, 39.0, 7.0, 2.0, 14.0, 66.0, 2.0, 15.0, 38.0, 10.0, 11.0, 37.0, 20.0, 19.0, 49.0, 12.0, 9.0, 41.0, 8.0, 1.0, 14.0, 11.0, 11.0, 5.0, 2.0, 3.0, 1.0, 2.0, 2.0, 1.0, 9.0, 2.0, 4.0, 1.0, 2.0, 1.0, 8.0, 1.0, 8.0, 2.0, 1.0, 8.0, 1.0, 3.0, 1.0, 2.0, 1.0, 5.0, 1.0],\n",
              "                {heatmapOptions: {\n",
              "                        radius: 15,\n",
              "                        blur: 0.8,\n",
              "                        minOpacity: 0,\n",
              "                        maxOpacity: 0.3,\n",
              "                        scaleRadius: false,\n",
              "                        useLocalExtrema: false,\n",
              "                        defaultWeight: 1,\n",
              "                        \n",
              "                    }\n",
              "                })\n",
              "                .addTo(map_07359571ebab0e1c7bb313bcf309f0e1);\n",
              "\n",
              "        \n",
              "&lt;/script&gt;\n",
              "&lt;/html&gt;\" style=\"position:absolute;width:100%;height:100%;left:0;top:0;border:none !important;\" allowfullscreen webkitallowfullscreen mozallowfullscreen></iframe></div></div>"
            ]
          },
          "metadata": {},
          "execution_count": 88
        }
      ]
    }
  ]
}