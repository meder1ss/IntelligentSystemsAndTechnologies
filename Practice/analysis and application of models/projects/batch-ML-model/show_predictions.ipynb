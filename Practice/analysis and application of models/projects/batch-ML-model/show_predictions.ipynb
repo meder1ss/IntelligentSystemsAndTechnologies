{
 "cells": [
  {
   "cell_type": "code",
   "execution_count": 11,
   "id": "48665359",
   "metadata": {},
   "outputs": [],
   "source": [
    "import findspark\n",
    "findspark.init()\n",
    "\n"
   ]
  },
  {
   "cell_type": "code",
   "execution_count": 12,
   "id": "64b5b529",
   "metadata": {},
   "outputs": [],
   "source": [
    "from pyspark.sql import SparkSession\n",
    "\n",
    "spark = SparkSession \\\n",
    "    .builder \\\n",
    "    .appName(\"batch-ml\") \\\n",
    "    .getOrCreate()"
   ]
  },
  {
   "cell_type": "code",
   "execution_count": 13,
   "id": "da1680ab",
   "metadata": {},
   "outputs": [],
   "source": [
    "predictions = spark.read.csv(\"/path/to/predict_proba.csv\", header=True, inferSchema=True)"
   ]
  },
  {
   "cell_type": "code",
   "execution_count": 14,
   "id": "18fc54d7",
   "metadata": {},
   "outputs": [
    {
     "name": "stdout",
     "output_type": "stream",
     "text": [
      "root\n",
      " |-- url: string (nullable = true)\n",
      " |-- malicious_proba: double (nullable = true)\n",
      "\n"
     ]
    }
   ],
   "source": [
    "predictions.printSchema()"
   ]
  },
  {
   "cell_type": "code",
   "execution_count": 15,
   "id": "39b5a246",
   "metadata": {},
   "outputs": [
    {
     "name": "stdout",
     "output_type": "stream",
     "text": [
      "+--------------------+---------------+\n",
      "|                 url|malicious_proba|\n",
      "+--------------------+---------------+\n",
      "|theglobeandmail.c...|            0.0|\n",
      "|http://www.sikobv...|           0.97|\n",
      "|http://www.versve...|           0.96|\n",
      "|cms.skidmore.edu/...|           0.15|\n",
      "| flixster.com/videos|           0.03|\n",
      "|imdb.com/name/nm0...|            0.0|\n",
      "|sbnation.com/mlb/...|           0.02|\n",
      "|thenhf.com/articl...|           0.03|\n",
      "|youtube.com/watch...|            0.0|\n",
      "|scarlettjohansson...|           0.01|\n",
      "|en-gb.facebook.co...|           0.15|\n",
      "|hobartcorp.com/Co...|           0.07|\n",
      "|  port-montreal.com/|            0.0|\n",
      "|answers.yahoo.com...|            0.0|\n",
      "|local.yahoo.com/i...|           0.03|\n",
      "|http://www.newbod...|            1.0|\n",
      "|arcadja.com/aucti...|           0.01|\n",
      "|en.wikipedia.org/...|           0.02|\n",
      "|facebook.com/peop...|           0.01|\n",
      "|http://torcache.n...|           0.06|\n",
      "+--------------------+---------------+\n",
      "only showing top 20 rows\n",
      "\n"
     ]
    }
   ],
   "source": [
    "predictions.show()"
   ]
  },
  {
   "cell_type": "code",
   "execution_count": null,
   "id": "db5c8958",
   "metadata": {},
   "outputs": [],
   "source": []
  }
 ],
 "metadata": {
  "kernelspec": {
   "display_name": "Python 3",
   "language": "python",
   "name": "python3"
  },
  "language_info": {
   "codemirror_mode": {
    "name": "ipython",
    "version": 3
   },
   "file_extension": ".py",
   "mimetype": "text/x-python",
   "name": "python",
   "nbconvert_exporter": "python",
   "pygments_lexer": "ipython3",
   "version": "3.8.10"
  }
 },
 "nbformat": 4,
 "nbformat_minor": 5
}
