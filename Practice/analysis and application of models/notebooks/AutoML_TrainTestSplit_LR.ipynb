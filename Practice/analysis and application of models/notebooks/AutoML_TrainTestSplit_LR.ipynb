{
 "cells": [
  {
   "cell_type": "markdown",
   "id": "f00b6630",
   "metadata": {},
   "source": [
    "Поищем Spark"
   ]
  },
  {
   "cell_type": "code",
   "execution_count": null,
   "id": "f3fa08c3",
   "metadata": {},
   "outputs": [],
   "source": [
    "import findspark\n",
    "findspark.init()\n",
    "findspark.find()"
   ]
  },
  {
   "cell_type": "markdown",
   "id": "f36f5588",
   "metadata": {},
   "source": [
    "Загрузим необходимые пакеты"
   ]
  },
  {
   "cell_type": "code",
   "execution_count": null,
   "id": "3cf349d8",
   "metadata": {},
   "outputs": [],
   "source": [
    "from pyspark.ml.evaluation import RegressionEvaluator\n",
    "from pyspark.ml.regression import LinearRegression\n",
    "from pyspark.ml.tuning import ParamGridBuilder, TrainValidationSplit\n",
    "\n",
    "from pyspark.sql import SparkSession"
   ]
  },
  {
   "cell_type": "markdown",
   "id": "124854ec",
   "metadata": {},
   "source": [
    "Создадим Spark-сессию"
   ]
  },
  {
   "cell_type": "code",
   "execution_count": null,
   "id": "2ce6ac41",
   "metadata": {},
   "outputs": [],
   "source": [
    "spark = SparkSession\\\n",
    "    .builder\\\n",
    "    .appName(\"TrainValidationSplit\")\\\n",
    "    .getOrCreate()"
   ]
  },
  {
   "cell_type": "markdown",
   "id": "15f3b00c",
   "metadata": {},
   "source": [
    "Загрузим данные и проведем первоначальное разбиение на тренировочную и тестовую выборки"
   ]
  },
  {
   "cell_type": "code",
   "execution_count": null,
   "id": "5cd167e4",
   "metadata": {},
   "outputs": [],
   "source": [
    "# Prepare training and test data.\n",
    "data = spark.read.format(\"libsvm\")\\\n",
    "    .load(\"data/sample_linear_regression_data.txt\")\n",
    "train, test = data.randomSplit([0.9, 0.1], seed=12345)"
   ]
  },
  {
   "cell_type": "code",
   "execution_count": null,
   "id": "9d8cddb8",
   "metadata": {},
   "outputs": [],
   "source": [
    "data.show()"
   ]
  },
  {
   "cell_type": "code",
   "execution_count": null,
   "id": "4ad68dff",
   "metadata": {},
   "outputs": [],
   "source": [
    "lr = LinearRegression(maxIter=10)"
   ]
  },
  {
   "cell_type": "markdown",
   "id": "86a3d947",
   "metadata": {},
   "source": [
    "Применим ParamGridBuilder для создания сетки параметров для поиска.\n",
    "TrainValidationSplit попробует все комбинации значений и определит лучшую модель."
   ]
  },
  {
   "cell_type": "code",
   "execution_count": null,
   "id": "c5f9df8f",
   "metadata": {},
   "outputs": [],
   "source": [
    "paramGrid = (ParamGridBuilder()\n",
    "    .addGrid(lr.regParam, [0.1, 0.01]) \n",
    "    .addGrid(lr.fitIntercept, [False, True])\n",
    "    .addGrid(lr.elasticNetParam, [0.0, 0.5, 1.0])\n",
    "    .build())"
   ]
  },
  {
   "cell_type": "markdown",
   "id": "aa97811e",
   "metadata": {},
   "source": [
    "В качестве модели используем линейную регрессию.\n",
    "Для TrainValidationSplit требуется Estimator, набор Estimator ParamMaps и Evaluator."
   ]
  },
  {
   "cell_type": "code",
   "execution_count": null,
   "id": "413078df",
   "metadata": {},
   "outputs": [],
   "source": [
    "tvs = TrainValidationSplit(estimator=lr,\n",
    "                           estimatorParamMaps=paramGrid,\n",
    "                           evaluator=RegressionEvaluator(),\n",
    "                           # 80% of the data will be used for training, 20% for validation.\n",
    "                           trainRatio=0.8,\n",
    "                           parallelism=2)"
   ]
  },
  {
   "cell_type": "markdown",
   "id": "982cf34b",
   "metadata": {},
   "source": [
    "Запустим TrainValidationSplit и выберем лучший набор параметров."
   ]
  },
  {
   "cell_type": "code",
   "execution_count": null,
   "id": "58169110",
   "metadata": {},
   "outputs": [],
   "source": [
    "model = tvs.fit(train)"
   ]
  },
  {
   "cell_type": "markdown",
   "id": "dee3638b",
   "metadata": {},
   "source": [
    "Прогноз делается на тестовых данных. Итоговая модель — это модель с комбинацией параметров\n",
    "которые показали себя лучше всего."
   ]
  },
  {
   "cell_type": "code",
   "execution_count": null,
   "id": "67a58e3c",
   "metadata": {},
   "outputs": [],
   "source": [
    "model.transform(test)\\\n",
    "    .select(\"features\", \"label\", \"prediction\")\\\n",
    "    .show()"
   ]
  },
  {
   "cell_type": "markdown",
   "id": "e2a1e74e",
   "metadata": {},
   "source": [
    "Остановим Spark"
   ]
  },
  {
   "cell_type": "code",
   "execution_count": null,
   "id": "bc1c7bf1",
   "metadata": {},
   "outputs": [],
   "source": [
    "spark.stop()"
   ]
  }
 ],
 "metadata": {
  "kernelspec": {
   "display_name": "Python 3 (ipykernel)",
   "language": "python",
   "name": "python3"
  },
  "language_info": {
   "codemirror_mode": {
    "name": "ipython",
    "version": 3
   },
   "file_extension": ".py",
   "mimetype": "text/x-python",
   "name": "python",
   "nbconvert_exporter": "python",
   "pygments_lexer": "ipython3",
   "version": "3.9.5"
  }
 },
 "nbformat": 4,
 "nbformat_minor": 5
}
