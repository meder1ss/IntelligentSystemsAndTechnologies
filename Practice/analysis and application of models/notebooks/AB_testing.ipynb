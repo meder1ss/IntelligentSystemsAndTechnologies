{
 "cells": [
  {
   "cell_type": "markdown",
   "metadata": {},
   "source": [
    "<p style=\"align: center;\"><img align=center src=\"https://s3.mooc.ru/prod/source/origin/photos/companies/2402/large.png\"  width=900></p>\n",
    "<h3 style=\"text-align: center;\"><b>«A/B тесты и как их проводить»</b></h3>\n"
   ]
  },
  {
   "cell_type": "code",
   "execution_count": 3,
   "metadata": {},
   "outputs": [],
   "source": [
    "# Подгрузим пакеты \n",
    "import numpy as np\n",
    "import pandas as pd\n",
    "\n",
    "import scipy.stats as stats \n",
    "\n",
    "import matplotlib.pyplot as plt  #Пакет для построения графиков и прочего\n",
    "import seaborn as sns\n"
   ]
  },
  {
   "cell_type": "code",
   "execution_count": 4,
   "metadata": {},
   "outputs": [
    {
     "data": {
      "text/html": [
       "<div>\n",
       "<style scoped>\n",
       "    .dataframe tbody tr th:only-of-type {\n",
       "        vertical-align: middle;\n",
       "    }\n",
       "\n",
       "    .dataframe tbody tr th {\n",
       "        vertical-align: top;\n",
       "    }\n",
       "\n",
       "    .dataframe thead th {\n",
       "        text-align: right;\n",
       "    }\n",
       "</style>\n",
       "<table border=\"1\" class=\"dataframe\">\n",
       "  <thead>\n",
       "    <tr style=\"text-align: right;\">\n",
       "      <th></th>\n",
       "      <th>index</th>\n",
       "      <th>treatments</th>\n",
       "      <th>value</th>\n",
       "    </tr>\n",
       "  </thead>\n",
       "  <tbody>\n",
       "    <tr>\n",
       "      <th>0</th>\n",
       "      <td>0</td>\n",
       "      <td>A</td>\n",
       "      <td>25</td>\n",
       "    </tr>\n",
       "    <tr>\n",
       "      <th>1</th>\n",
       "      <td>1</td>\n",
       "      <td>A</td>\n",
       "      <td>30</td>\n",
       "    </tr>\n",
       "    <tr>\n",
       "      <th>2</th>\n",
       "      <td>2</td>\n",
       "      <td>A</td>\n",
       "      <td>28</td>\n",
       "    </tr>\n",
       "    <tr>\n",
       "      <th>3</th>\n",
       "      <td>3</td>\n",
       "      <td>A</td>\n",
       "      <td>36</td>\n",
       "    </tr>\n",
       "    <tr>\n",
       "      <th>4</th>\n",
       "      <td>4</td>\n",
       "      <td>A</td>\n",
       "      <td>29</td>\n",
       "    </tr>\n",
       "    <tr>\n",
       "      <th>5</th>\n",
       "      <td>0</td>\n",
       "      <td>B</td>\n",
       "      <td>45</td>\n",
       "    </tr>\n",
       "    <tr>\n",
       "      <th>6</th>\n",
       "      <td>1</td>\n",
       "      <td>B</td>\n",
       "      <td>55</td>\n",
       "    </tr>\n",
       "    <tr>\n",
       "      <th>7</th>\n",
       "      <td>2</td>\n",
       "      <td>B</td>\n",
       "      <td>29</td>\n",
       "    </tr>\n",
       "  </tbody>\n",
       "</table>\n",
       "</div>"
      ],
      "text/plain": [
       "   index treatments  value\n",
       "0      0          A     25\n",
       "1      1          A     30\n",
       "2      2          A     28\n",
       "3      3          A     36\n",
       "4      4          A     29\n",
       "5      0          B     45\n",
       "6      1          B     55\n",
       "7      2          B     29"
      ]
     },
     "execution_count": 4,
     "metadata": {},
     "output_type": "execute_result"
    }
   ],
   "source": [
    "df = pd.read_csv(\"https://reneshbedre.github.io/assets/posts/anova/onewayanova.txt\", sep=\"\\t\") # Подгрузим данные\n",
    "\n",
    "# Изменим формат  данных, подходящего для пакета statsmodels\n",
    "df_melt = pd.melt(df.reset_index(), id_vars=['index'], value_vars=['A', 'B', 'C', 'D'])\n",
    "\n",
    "df_melt.columns = ['index', 'treatments', 'value'] # заменяем имена столбцов\n",
    "df_melt.head(8)"
   ]
  },
  {
   "cell_type": "markdown",
   "metadata": {},
   "source": [
    "**Построим коробчатую диаграмму, чтобы увидеть распределение данных по группам.** \n",
    "\n",
    "**Используя коробчатую диаграмму, мы можем легко обнаружить различия между разными методами лечения**"
   ]
  },
  {
   "cell_type": "code",
   "execution_count": 5,
   "metadata": {},
   "outputs": [
    {
     "data": {
      "image/png": "[encoded data removed]",
      "text/plain": [
       "<Figure size 432x288 with 1 Axes>"
      ]
     },
     "metadata": {
      "needs_background": "light"
     },
     "output_type": "display_data"
    }
   ],
   "source": [
    "import seaborn as sns  # Еще дна библиотека для визуализации данных, но более продвинутая\n",
    "#sns.set(rc={'figure.figsize':(10, 5)})  # можно менять ширину и высоту при желании\n",
    "\n",
    "ax = sns.boxplot(y='treatments', x='value', data=df_melt, color='#99c2a2')\n",
    "#ax = sns.swarmplot(x=\"treatments\", y=\"value\", data=df_melt, color='#7d0013')\n",
    "plt.show()"
   ]
  },
  {
   "cell_type": "code",
   "execution_count": 6,
   "metadata": {},
   "outputs": [
    {
     "name": "stdout",
     "output_type": "stream",
     "text": [
      "17.492810457516338 2.639241146210922e-05\n"
     ]
    }
   ],
   "source": [
    "import scipy.stats as stats\n",
    "\n",
    "# Функция f_oneway принимает группы в качестве входных данных и возвращает значения F и P\n",
    "fvalue, pvalue = stats.f_oneway(df['A'],  df['B'], df['C'], df['D'])\n",
    "\n",
    "print(fvalue, pvalue)\n",
    "# 17.492810457516338 2.639241146210922e-05"
   ]
  },
  {
   "cell_type": "code",
   "execution_count": 7,
   "metadata": {},
   "outputs": [
    {
     "data": {
      "text/plain": [
       "(0.40634920634920635, 0.5416380250488471)"
      ]
     },
     "execution_count": 7,
     "metadata": {},
     "output_type": "execute_result"
    }
   ],
   "source": [
    "fvalue, pvalue = stats.f_oneway(df['A'], df['C'])  # Сравнить\n",
    "fvalue, pvalue"
   ]
  },
  {
   "cell_type": "markdown",
   "metadata": {},
   "source": [
    "# Дисперсионный анализ и датасет про раковины"
   ]
  },
  {
   "cell_type": "markdown",
   "metadata": {},
   "source": [
    "<div class=\"alert alert-info\">\n",
    "Вот некоторые данные об измерении раковины (длина рубца передней приводящей мышцы, стандартизированная путем деления на длину) у мидии Mytilus trossulus из пяти мест: \n",
    "Тилламук, Орегон; Ньюпорт, Орегон; Петербург, Аляска; Магадан, Россия и Tvarminne, Финляндия.\n",
    "</div>"
   ]
  },
  {
   "cell_type": "code",
   "execution_count": 39,
   "metadata": {},
   "outputs": [
    {
     "name": "stdout",
     "output_type": "stream",
     "text": [
      "7.693917247212617 0.00014732337069417326\n",
      "Разное распределение (отклоняем H0)\n"
     ]
    }
   ],
   "source": [
    "from scipy.stats import f_oneway # Импортирем функцию для дисперсионного анализа из библиотеки scipy пакета stats\n",
    "\n",
    "# Берем несколько выборок с размерами раковин разных видов\n",
    "tillamook = [0.0571, 0.0813, 0.0831, 0.0976, 0.0817, 0.0859, 0.0735, 0.0659, 0.0923, 0.0836]\n",
    "newport = [0.0873, 0.0662, 0.0672,0.0667, 0.0819, 0.0749, 0.0649, 0.0835,0.0725]\n",
    "petersburg = [0.0974, 0.1352, 0.0817, 0.1016, 0.0968, 0.1064, 0.105]\n",
    "magadan = [0.1033, 0.0915, 0.0781, 0.0685, 0.0677, 0.0697, 0.0764, 0.0689]\n",
    "tvarminne = [0.0703, 0.1026, 0.0956, 0.0973, 0.1039, 0.1045]\n",
    "\n",
    "\n",
    "\n",
    "F, p = f_oneway(tillamook, newport, petersburg, magadan, tvarminne)  # Дисперсионный анализ (ДА) в python\n",
    "\n",
    "alpha = 0.05  # Уровень значимости\n",
    "print(F, p)   # Смотрим на результаты ДА\n",
    "\n",
    "if p > alpha:\n",
    "    print('Одинаковое распределение (не отвергаем H0)')\n",
    "else:\n",
    "    print('Разное распределение (отклоняем H0)')"
   ]
  },
  {
   "cell_type": "code",
   "execution_count": 40,
   "metadata": {},
   "outputs": [
    {
     "data": {
      "image/png": "[encoded data removed]",
      "text/plain": [
       "<Figure size 432x288 with 1 Axes>"
      ]
     },
     "metadata": {
      "needs_background": "light"
     },
     "output_type": "display_data"
    }
   ],
   "source": [
    "import seaborn as sns  # Еще одна библиотека для визуализации данных, но более продвинутая\n",
    " \n",
    "# Немного преобразуем данные, не важно как\n",
    "sizes = tillamook + newport + petersburg + magadan + tvarminne\n",
    "kinds = ['tillamook']*len(tillamook) + ['newport']*len(newport)+['petersburg']*len(petersburg)+['magadan']*len(magadan) + ['tvarminne']*len(tvarminne)\n",
    "df_mid = pd.DataFrame()\n",
    "df_mid['sizes'] = sizes\n",
    "df_mid['kinds'] = kinds\n",
    "\n",
    "\n",
    "ax = sns.boxplot(x='kinds', y='sizes', data=df_mid, color='#99c2a2')\n",
    "#ax = sns.swarmplot(x=\"kinds\", y=\"sizes\", data=df_mid, color='#7d0013')\n",
    "plt.show()"
   ]
  },
  {
   "cell_type": "markdown",
   "metadata": {},
   "source": [
    "**Можете привести пример когда выборки зависимы, а когда нет ?**"
   ]
  },
  {
   "cell_type": "markdown",
   "metadata": {},
   "source": [
    "# Критерий Манна-Уитни"
   ]
  },
  {
   "cell_type": "markdown",
   "metadata": {},
   "source": [
    "<div class=\"alert alert-info\">\n",
    "Тест Вилкоксона для независимых выборок также называется критерием Манна-Уитни\n",
    "</div>"
   ]
  },
  {
   "cell_type": "code",
   "execution_count": 12,
   "metadata": {},
   "outputs": [],
   "source": [
    "from scipy.stats import mannwhitneyu # Импортируем нужный тест из пакета scipy\n",
    " \n",
    "# Генерируем две независимых выборки\n",
    "\n",
    "group_1 = [21,27,23,25,29,26,29,27,29,25,25,28,25,30,25,19,20,18,26,23,27,25,24,32,26,23,20,28,27,19,23,24,\n",
    "           22,29,17,25,21,22,24,26,25,17,20,24,22,28,25,25,25,22,22,23,20,23,23,26,25,22]\n",
    "\n",
    "group_2 = [20,26,22,24,28,28,26,25,28,18,19,17,25,25,22,24,23,31,25,22,19,27,26,18,22,23,16,\n",
    "           21,28,24,20,21,23,25,24,16,19,23,21,27,21,21,30,22,19,22,22,25,24,21,25]\n",
    "\n",
    "#np.random.seed(13)\n",
    "#list(map(int, stats.norm.rvs(scale=4, loc=23, size=52))) "
   ]
  },
  {
   "cell_type": "code",
   "execution_count": 41,
   "metadata": {},
   "outputs": [
    {
     "name": "stdout",
     "output_type": "stream",
     "text": [
      "Statistics=238.000, p=0.151\n",
      "Одинаковые распределения (не отвергаем H0)\n"
     ]
    }
   ],
   "source": [
    "# Сравнение групп\n",
    "stat, p = mannwhitneyu(group_1, group_2) # U-тест Манна-Уитни\n",
    "print('Statistics=%.3f, p=%.3f' % (stat, p))\n",
    "\n",
    "\n",
    "# Интерпретируем\n",
    "alpha = 0.05   # Уровень значимости\n",
    "if p > alpha:\n",
    "    print('Одинаковые распределения (не отвергаем H0)')\n",
    "else:\n",
    "    print('Разные распределения (отвергаем H0)')"
   ]
  },
  {
   "cell_type": "code",
   "execution_count": 42,
   "metadata": {},
   "outputs": [
    {
     "name": "stdout",
     "output_type": "stream",
     "text": [
      "22.5 23.25\n"
     ]
    },
    {
     "data": {
      "image/png": "[encoded data removed]",
      "text/plain": [
       "<Figure size 432x288 with 1 Axes>"
      ]
     },
     "metadata": {
      "needs_background": "light"
     },
     "output_type": "display_data"
    }
   ],
   "source": [
    "print(np.mean(group_1), np.mean(group_2))\n",
    "\n",
    "plt.hist(group_1)\n",
    "plt.hist(group_2);"
   ]
  },
  {
   "cell_type": "code",
   "execution_count": 43,
   "metadata": {},
   "outputs": [
    {
     "data": {
      "image/png": "[encoded data removed]",
      "text/plain": [
       "<Figure size 432x288 with 1 Axes>"
      ]
     },
     "metadata": {
      "needs_background": "light"
     },
     "output_type": "display_data"
    }
   ],
   "source": [
    "data_group = pd.DataFrame()\n",
    "data_group['value'] = group_1 + group_2 \n",
    "data_group['group'] = ['group_1'] * len(group_1) + ['group_2'] * len(group_2)\n",
    "\n",
    "ax = sns.boxplot(x='group', y='value', data=data_group, color='#99c2a2')\n",
    "ax = sns.swarmplot(x='group', y='value', data=data_group, color='#7d0013')\n",
    "plt.show()\n",
    "# pd.DataFrame(group_2).hist()"
   ]
  },
  {
   "cell_type": "markdown",
   "metadata": {},
   "source": [
    "**Какие выборки зависимы? Приведите пример**"
   ]
  },
  {
   "cell_type": "markdown",
   "metadata": {},
   "source": [
    "# Критерий Уилкоксона  "
   ]
  },
  {
   "cell_type": "code",
   "execution_count": 44,
   "metadata": {},
   "outputs": [],
   "source": [
    "from scipy.stats import wilcoxon  # Wilcoxon signed-rank test\n",
    "\n",
    "group = [29, 23, 22, 16, 23, 23, 22, 24, 25, 20, 21, 22]# Некий общий элемент\n",
    "group_1 = group + group \n",
    "group_2 = group + [32, 24, 24, 15, 25, 24, 23, 27, 27, 21, 22, 24] # отличие только в одном элементе, но другой порядок\n",
    "\n"
   ]
  },
  {
   "cell_type": "code",
   "execution_count": 45,
   "metadata": {},
   "outputs": [
    {
     "name": "stderr",
     "output_type": "stream",
     "text": [
      "2021-06-24 21:05:00,742 [12608] WARNING  py.warnings:109: [JupyterRequire] C:\\Users\\sasha\\anaconda3\\lib\\site-packages\\scipy\\stats\\morestats.py:2957: UserWarning: Exact p-value calculation does not work if there are ties. Switching to normal approximation.\n",
      "  warnings.warn(\"Exact p-value calculation does not work if there are \"\n",
      "\n"
     ]
    },
    {
     "name": "stdout",
     "output_type": "stream",
     "text": [
      "Statistics=3.500, p=0.005\n",
      "Разные распределения (отвергаем H0)\n"
     ]
    }
   ],
   "source": [
    "import scipy.stats as stats\n",
    "\n",
    "#Выполняем тест Уилкоксона\n",
    "\n",
    "stat, p = wilcoxon(group_1, group_2)\n",
    "#stat, p = wilcoxon(group_1, group_3)\n",
    "print('Statistics=%.3f, p=%.3f' % (stat, p))\n",
    "# interpret\n",
    "alpha = 0.05\n",
    "if p > alpha:\n",
    "    print('Одинаковые распределения (не отвергаем H0)')\n",
    "else:\n",
    "    print('Разные распределения (отвергаем H0)')"
   ]
  },
  {
   "cell_type": "code",
   "execution_count": 46,
   "metadata": {},
   "outputs": [
    {
     "data": {
      "text/plain": [
       "(array([2., 0., 1., 2., 8., 7., 0., 2., 1., 1.]),\n",
       " array([15. , 16.7, 18.4, 20.1, 21.8, 23.5, 25.2, 26.9, 28.6, 30.3, 32. ]),\n",
       " <BarContainer object of 10 artists>)"
      ]
     },
     "execution_count": 46,
     "metadata": {},
     "output_type": "execute_result"
    },
    {
     "data": {
      "image/png": "[encoded data removed]",
      "text/plain": [
       "<Figure size 432x288 with 1 Axes>"
      ]
     },
     "metadata": {
      "needs_background": "light"
     },
     "output_type": "display_data"
    }
   ],
   "source": [
    "plt.hist(group_1)\n",
    "plt.hist(group_2)"
   ]
  },
  {
   "cell_type": "code",
   "execution_count": 26,
   "metadata": {},
   "outputs": [
    {
     "data": {
      "image/png": "[encoded data removed]",
      "text/plain": [
       "<Figure size 432x288 with 1 Axes>"
      ]
     },
     "metadata": {
      "needs_background": "light"
     },
     "output_type": "display_data"
    }
   ],
   "source": [
    "data_group = pd.DataFrame()\n",
    "data_group['value'] = group_1 + group_2 \n",
    "data_group['group'] = ['group_1']*len(group_1)+['group_2']*len(group_2)\n",
    "\n",
    "ax = sns.boxplot(x='group', y='value', data=data_group, color='#99c2a2')\n",
    "ax = sns.swarmplot(x=\"group\", y=\"value\", data=data_group, color='#7d0013')\n",
    "plt.show()\n",
    "# pd.DataFrame(group_2).hist()"
   ]
  },
  {
   "cell_type": "markdown",
   "metadata": {},
   "source": [
    "# Cookie Cats (Обязательно)"
   ]
  },
  {
   "cell_type": "markdown",
   "metadata": {},
   "source": [
    "<div class=\"alert alert-info\">\n",
    "Cookie Cats - чрезвычайно популярная мобильная игра-головоломка, разработанная Tactile Entertainment. Это классическая игра-головоломка в стиле «соедините три», в которой игрок должен соединять плитки одного цвета, чтобы очистить поле и выиграть уровень. Здесь также есть поющие кошки. Посмотрите эту короткую демонстрацию:\n",
    "</div>"
   ]
  },
  {
   "cell_type": "markdown",
   "metadata": {},
   "source": [
    "<p style=\"align: center;\"><img align=center src=\"https://i.ytimg.com/vi/iPxZIp0cbJE/maxresdefault.jpg\"  width=500></p>\n",
    " \n",
    " \n",
    "<p style=\"align: center;\"><img align=center src=\"https://s3.amazonaws.com/assets.datacamp.com/production/project_184/img/cc_gates.png\"  width=500></p>\n"
   ]
  },
  {
   "cell_type": "markdown",
   "metadata": {},
   "source": [
    "<div class=\"alert alert-info\">\n",
    "По мере прохождения уровней игры игроки время от времени сталкиваются с воротами, которые заставляют их ждать нетривиальное количество времени или совершать покупки в приложении, чтобы продолжить. Помимо стимулирования покупок в приложении, эти ворота имеют цель - дать игрокам вынужденный перерыв в игре, что, как мы надеемся, приведет к увеличению и продлению удовольствия от игры.\n",
    "</div>"
   ]
  },
  {
   "cell_type": "markdown",
   "metadata": {},
   "source": [
    "<div class=\"alert alert-info\">\n",
    "<b>Но где ставить ворота? </b>\n",
    "Первоначально первые ворота были размещены на уровне 30. В этом проекте вам предлагается проанализировать AB-тест, в котором создатели переместили первые ворота в Cookie Cats с 30 уровня на уровень 40. В частности, вам надо рассмотрим влияние A/B теста на удержание игроков.\n",
    "</div>"
   ]
  },
  {
   "cell_type": "markdown",
   "metadata": {},
   "source": [
    "# Данные A/B тестирования"
   ]
  },
  {
   "cell_type": "code",
   "execution_count": 51,
   "metadata": {},
   "outputs": [
    {
     "data": {
      "text/html": [
       "<div>\n",
       "<style scoped>\n",
       "    .dataframe tbody tr th:only-of-type {\n",
       "        vertical-align: middle;\n",
       "    }\n",
       "\n",
       "    .dataframe tbody tr th {\n",
       "        vertical-align: top;\n",
       "    }\n",
       "\n",
       "    .dataframe thead th {\n",
       "        text-align: right;\n",
       "    }\n",
       "</style>\n",
       "<table border=\"1\" class=\"dataframe\">\n",
       "  <thead>\n",
       "    <tr style=\"text-align: right;\">\n",
       "      <th></th>\n",
       "      <th>userid</th>\n",
       "      <th>version</th>\n",
       "      <th>sum_gamerounds</th>\n",
       "      <th>retention_1</th>\n",
       "      <th>retention_7</th>\n",
       "    </tr>\n",
       "  </thead>\n",
       "  <tbody>\n",
       "    <tr>\n",
       "      <th>0</th>\n",
       "      <td>116</td>\n",
       "      <td>gate_30</td>\n",
       "      <td>3</td>\n",
       "      <td>False</td>\n",
       "      <td>False</td>\n",
       "    </tr>\n",
       "    <tr>\n",
       "      <th>1</th>\n",
       "      <td>337</td>\n",
       "      <td>gate_30</td>\n",
       "      <td>38</td>\n",
       "      <td>True</td>\n",
       "      <td>False</td>\n",
       "    </tr>\n",
       "    <tr>\n",
       "      <th>2</th>\n",
       "      <td>377</td>\n",
       "      <td>gate_40</td>\n",
       "      <td>165</td>\n",
       "      <td>True</td>\n",
       "      <td>False</td>\n",
       "    </tr>\n",
       "    <tr>\n",
       "      <th>3</th>\n",
       "      <td>483</td>\n",
       "      <td>gate_40</td>\n",
       "      <td>1</td>\n",
       "      <td>False</td>\n",
       "      <td>False</td>\n",
       "    </tr>\n",
       "    <tr>\n",
       "      <th>4</th>\n",
       "      <td>488</td>\n",
       "      <td>gate_40</td>\n",
       "      <td>179</td>\n",
       "      <td>True</td>\n",
       "      <td>True</td>\n",
       "    </tr>\n",
       "  </tbody>\n",
       "</table>\n",
       "</div>"
      ],
      "text/plain": [
       "   userid  version  sum_gamerounds  retention_1  retention_7\n",
       "0     116  gate_30               3        False        False\n",
       "1     337  gate_30              38         True        False\n",
       "2     377  gate_40             165         True        False\n",
       "3     483  gate_40               1        False        False\n",
       "4     488  gate_40             179         True         True"
      ]
     },
     "execution_count": 51,
     "metadata": {},
     "output_type": "execute_result"
    }
   ],
   "source": [
    "cookie_cats = 'https://raw.githubusercontent.com/a-milenkin/datasets_for_t-tests/main/cookie_cats.csv'\n",
    "\n",
    "data = pd.read_csv(cookie_cats, error_bad_lines=False)  # Откроем датасет\n",
    "data.head()"
   ]
  },
  {
   "cell_type": "markdown",
   "metadata": {},
   "source": [
    "**Данные получены от 90.189 игроков, которые установили игру во время проведения AB-теста. Переменные:**\n",
    "\n",
    "* `userid` - уникальный номер, идентифицирующий каждого игрока.\n",
    "\n",
    "* `version` - был ли игрок помещен в контрольную группу (gate_30 - ворота на уровне 30) или в тестовую группу (gate_40 - ворота на уровне 40).\n",
    "\n",
    "* `sum_gamerounds` - количество игровых раундов, сыгранных игроком в течение первой недели после установки\n",
    "* `retention_1` - проигрыватель вернулся и поиграл через 1 день после установки?\n",
    "* `retention_7` - проигрыватель вернулся и играл через 7 дней после установки?\n",
    "\n",
    "Когда игрок устанавливал игру, ему случайным образом назначали `gate_30` или `gate_40`."
   ]
  },
  {
   "cell_type": "markdown",
   "metadata": {},
   "source": [
    "<div class=\"alert alert-info\">\n",
    "<b>Задание: провести анализ данных и сделать выводы о лучшем месте для установки ворот. </b>\n",
    "    \n",
    "Замечание: приведенных вспомогательных фрагментов кода не хватает для ответа на вопрос. \n",
    "Делать выводы необходимо опираясь на статистические тесты, разобранные в лекции. Большим плюсом будет построение визуализиции для подтверждения ваших выводом. Рекомендую использовать `seaborn` c его `sns.boxplot`/`sns.carplot`, `sns.barplot`, но можно обойтись и обычном `matplotlib`\n",
    "</div>"
   ]
  },
  {
   "cell_type": "code",
   "execution_count": 52,
   "metadata": {},
   "outputs": [
    {
     "data": {
      "text/html": [
       "<div>\n",
       "<style scoped>\n",
       "    .dataframe tbody tr th:only-of-type {\n",
       "        vertical-align: middle;\n",
       "    }\n",
       "\n",
       "    .dataframe tbody tr th {\n",
       "        vertical-align: top;\n",
       "    }\n",
       "\n",
       "    .dataframe thead th {\n",
       "        text-align: right;\n",
       "    }\n",
       "</style>\n",
       "<table border=\"1\" class=\"dataframe\">\n",
       "  <thead>\n",
       "    <tr style=\"text-align: right;\">\n",
       "      <th></th>\n",
       "      <th>userid</th>\n",
       "      <th>sum_gamerounds</th>\n",
       "      <th>retention_1</th>\n",
       "      <th>retention_7</th>\n",
       "    </tr>\n",
       "    <tr>\n",
       "      <th>version</th>\n",
       "      <th></th>\n",
       "      <th></th>\n",
       "      <th></th>\n",
       "      <th></th>\n",
       "    </tr>\n",
       "  </thead>\n",
       "  <tbody>\n",
       "    <tr>\n",
       "      <th>gate_30</th>\n",
       "      <td>44700</td>\n",
       "      <td>44700</td>\n",
       "      <td>44700</td>\n",
       "      <td>44700</td>\n",
       "    </tr>\n",
       "    <tr>\n",
       "      <th>gate_40</th>\n",
       "      <td>45489</td>\n",
       "      <td>45489</td>\n",
       "      <td>45489</td>\n",
       "      <td>45489</td>\n",
       "    </tr>\n",
       "  </tbody>\n",
       "</table>\n",
       "</div>"
      ],
      "text/plain": [
       "         userid  sum_gamerounds  retention_1  retention_7\n",
       "version                                                  \n",
       "gate_30   44700           44700        44700        44700\n",
       "gate_40   45489           45489        45489        45489"
      ]
     },
     "execution_count": 52,
     "metadata": {},
     "output_type": "execute_result"
    }
   ],
   "source": [
    "# Сгруппируем результаты теста по версиям игры\n",
    "data.groupby('version').count()"
   ]
  },
  {
   "cell_type": "code",
   "execution_count": 53,
   "metadata": {},
   "outputs": [
    {
     "data": {
      "text/html": [
       "<div>\n",
       "<style scoped>\n",
       "    .dataframe tbody tr th:only-of-type {\n",
       "        vertical-align: middle;\n",
       "    }\n",
       "\n",
       "    .dataframe tbody tr th {\n",
       "        vertical-align: top;\n",
       "    }\n",
       "\n",
       "    .dataframe thead th {\n",
       "        text-align: right;\n",
       "    }\n",
       "</style>\n",
       "<table border=\"1\" class=\"dataframe\">\n",
       "  <thead>\n",
       "    <tr style=\"text-align: right;\">\n",
       "      <th></th>\n",
       "      <th>userid</th>\n",
       "      <th>sum_gamerounds</th>\n",
       "      <th>retention_1</th>\n",
       "      <th>retention_7</th>\n",
       "    </tr>\n",
       "    <tr>\n",
       "      <th>version</th>\n",
       "      <th></th>\n",
       "      <th></th>\n",
       "      <th></th>\n",
       "      <th></th>\n",
       "    </tr>\n",
       "  </thead>\n",
       "  <tbody>\n",
       "    <tr>\n",
       "      <th>gate_30</th>\n",
       "      <td>222944098441</td>\n",
       "      <td>2344795</td>\n",
       "      <td>20034</td>\n",
       "      <td>8502</td>\n",
       "    </tr>\n",
       "    <tr>\n",
       "      <th>gate_40</th>\n",
       "      <td>227857702576</td>\n",
       "      <td>2333530</td>\n",
       "      <td>20119</td>\n",
       "      <td>8279</td>\n",
       "    </tr>\n",
       "  </tbody>\n",
       "</table>\n",
       "</div>"
      ],
      "text/plain": [
       "               userid  sum_gamerounds  retention_1  retention_7\n",
       "version                                                        \n",
       "gate_30  222944098441         2344795        20034         8502\n",
       "gate_40  227857702576         2333530        20119         8279"
      ]
     },
     "execution_count": 53,
     "metadata": {},
     "output_type": "execute_result"
    }
   ],
   "source": [
    "data.groupby('version').sum()"
   ]
  },
  {
   "cell_type": "code",
   "execution_count": 29,
   "metadata": {},
   "outputs": [],
   "source": [
    "#Ваши выводы: пока анализа недостаточно для вывода"
   ]
  },
  {
   "cell_type": "markdown",
   "metadata": {},
   "source": [
    "# Посмотрим на распределения в каждой группе"
   ]
  },
  {
   "cell_type": "markdown",
   "metadata": {},
   "source": [
    "<div class=\"alert alert-info\">\n",
    "Гистограмма позволяет зрительно оценить распределение данных. Гистограмма дает информацию о разбросе, средних значениях.\n",
    "Важно при критерии Стьюдента нормальное распределение, для других критериев распределение не имеет значения.\n",
    "</div>"
   ]
  },
  {
   "cell_type": "code",
   "execution_count": 30,
   "metadata": {},
   "outputs": [
    {
     "data": {
      "image/png": "[encoded data removed]",
      "text/plain": [
       "<Figure size 1080x720 with 1 Axes>"
      ]
     },
     "metadata": {
      "needs_background": "light"
     },
     "output_type": "display_data"
    }
   ],
   "source": [
    "v_30 = data.loc[data.version == 'gate_30']\n",
    "v_40 = data.loc[data.version == 'gate_40']\n",
    "\n",
    "v_30 = v_30.drop(v_30.loc[v_30.sum_gamerounds > 200].index)\n",
    "v_40 = v_40.drop(v_40.loc[v_40.sum_gamerounds > 200].index)\n",
    "\n",
    "bins = 200\n",
    "plt.figure(figsize=(15, 10))\n",
    "plt.hist(v_30['sum_gamerounds'], bins=bins, alpha=1, edgecolor='black', label='gate 30')\n",
    "plt.hist(v_40['sum_gamerounds'], bins=bins, alpha=0.7, label='gate 40')\n",
    "plt.legend(loc='upper right', bbox_to_anchor=(0.45, 0.35))\n",
    "plt.show()"
   ]
  },
  {
   "cell_type": "markdown",
   "metadata": {},
   "source": [
    "**Ваши выводы**"
   ]
  },
  {
   "cell_type": "code",
   "execution_count": 31,
   "metadata": {},
   "outputs": [
    {
     "data": {
      "image/png": "[encoded data removed]",
      "text/plain": [
       "<Figure size 748.875x360 with 2 Axes>"
      ]
     },
     "metadata": {
      "needs_background": "light"
     },
     "output_type": "display_data"
    }
   ],
   "source": [
    "df = data.loc[data['sum_gamerounds'] < 100].copy();\n",
    "\n",
    "\n",
    "sns.catplot(x=\"version\", y=\"sum_gamerounds\",\n",
    "            hue=\"retention_1\", col = 'retention_7',\n",
    "            data=df, kind=\"box\",\n",
    "            height=5, aspect=.95);\n"
   ]
  },
  {
   "cell_type": "markdown",
   "metadata": {},
   "source": [
    "# Бутстрап или семплирование (Не бойся, это просто!)"
   ]
  },
  {
   "cell_type": "markdown",
   "metadata": {},
   "source": [
    "<div class=\"alert alert-info\">\n",
    "Семплирование, простыми словами, это когда мы берем часть данных и считаем по ним метрику. И так повторяем много раз. Можем построить по метрикам гистограмму. Это экономит время, когда данных очень много.\n",
    "</div>"
   ]
  },
  {
   "cell_type": "code",
   "execution_count": 32,
   "metadata": {},
   "outputs": [
    {
     "data": {
      "text/plain": [
       "<AxesSubplot:ylabel='Density'>"
      ]
     },
     "execution_count": 32,
     "metadata": {},
     "output_type": "execute_result"
    },
    {
     "data": {
      "text/plain": [
       "<Figure size 1080x720 with 0 Axes>"
      ]
     },
     "metadata": {},
     "output_type": "display_data"
    },
    {
     "data": {
      "image/png": "[encoded data removed]",
      "text/plain": [
       "<Figure size 432x288 with 1 Axes>"
      ]
     },
     "metadata": {
      "needs_background": "light"
     },
     "output_type": "display_data"
    }
   ],
   "source": [
    "#Если вдруг оказалось сложно, то вот еще ододин способ визуализации различий\n",
    "# Creating an list with bootstrapped means for each AB-group\n",
    "plt.figure(figsize=(15, 10))\n",
    "\n",
    "boot_1d = []\n",
    "for i in range(1000):\n",
    "    boot_mean = data.sample(frac = 1, replace = True).groupby('version')['retention_7'].mean()  #retention_1\n",
    "    boot_1d.append(boot_mean)\n",
    "    \n",
    "# Преобразование списка в DataFrame\n",
    "boot_1d = pd.DataFrame(boot_1d)\n",
    "    \n",
    "# A Kernel Density Estimate plot of the bootstrap distributions\n",
    "boot_1d.plot(kind='density');"
   ]
  },
  {
   "cell_type": "code",
   "execution_count": 54,
   "metadata": {},
   "outputs": [
    {
     "data": {
      "text/plain": [
       "Ttest_indResult(statistic=97.89246337940531, pvalue=0.0)"
      ]
     },
     "execution_count": 54,
     "metadata": {},
     "output_type": "execute_result"
    }
   ],
   "source": [
    "# v_30 = boot_1d['gate_30']\n",
    "# v_40 = boot_1d['gate_40']\n",
    "\n",
    "# stats.ttest_ind(v_30, v_40)"
   ]
  },
  {
   "cell_type": "code",
   "execution_count": 34,
   "metadata": {},
   "outputs": [],
   "source": [
    "# v_30 = data.loc[data.version == 'gate_30']\n",
    "# v_40 = data.loc[data.version == 'gate_40']\n",
    "\n",
    "# stats.ttest_ind(v_30, v_40)"
   ]
  },
  {
   "cell_type": "code",
   "execution_count": null,
   "metadata": {},
   "outputs": [],
   "source": [
    "from scipy.stats import f_oneway \n",
    "#from scipy.stats import wilcoxon\n",
    "from scipy.stats import mannwhitneyu\n",
    "import scipy.stats as stats\n",
    "\n",
    "# Ваш код. "
   ]
  },
  {
   "cell_type": "code",
   "execution_count": 35,
   "metadata": {},
   "outputs": [
    {
     "data": {
      "text/plain": [
       "(0.7939569526814368, 0.3729086824696095)"
      ]
     },
     "execution_count": 35,
     "metadata": {},
     "output_type": "execute_result"
    }
   ],
   "source": [
    "# f, p = f_oneway(data[data['version'] == 'gate_30']['sum_gamerounds'], data[data['version'] == 'gate_40']['sum_gamerounds'])\n",
    "# f, p\n",
    "#stat, p = mannwhitneyu(data[data['version'] == 'gate_30']['sum_gamerounds'], data[data['version'] == 'gate_40']['sum_gamerounds'])\n",
    "#print('Statistics=%.3f, p=%.3f' % (stat, p))"
   ]
  },
  {
   "cell_type": "markdown",
   "metadata": {},
   "source": [
    "#### Используя любой тест для проверки статистической гипотезы, продемонстрируйте наличие эффекта из-за сдвига ворот."
   ]
  },
  {
   "cell_type": "code",
   "execution_count": 36,
   "metadata": {},
   "outputs": [],
   "source": [
    "from scipy.stats import f_oneway \n",
    "from scipy.stats import wilcoxon\n",
    "from scipy.stats import mannwhitneyu\n",
    "import scipy.stats as stats\n",
    "\n",
    "#Ваш код. \n",
    "\n",
    "\n",
    "\n",
    " "
   ]
  },
  {
   "cell_type": "markdown",
   "metadata": {},
   "source": [
    "**Ваши выводы?** "
   ]
  },
  {
   "cell_type": "code",
   "execution_count": null,
   "metadata": {},
   "outputs": [],
   "source": [
    " "
   ]
  },
  {
   "cell_type": "markdown",
   "metadata": {},
   "source": [
    "# Задания для самостоятельного решения"
   ]
  },
  {
   "cell_type": "markdown",
   "metadata": {},
   "source": [
    "**Замечание: 1** Предполагается, что для решения заданий  № 1-3 будут использоваться разные тесты.\n",
    "\n",
    "**Замечание: 2** Для зачета уже достаточно половины абсолютно верно решенных заданий. \n",
    "\n",
    "Если возникают сложности по ходу решения - пиште свой вопрос в общий чат в Slack. Там всегда подскажут) \n",
    "\n",
    "\n"
   ]
  },
  {
   "cell_type": "markdown",
   "metadata": {},
   "source": [
    "<div class=\"alert alert-info\">\n",
    "<b>Задание № 1 (Обязательно)</b>\n",
    "Вам даны результаты проверки двух препаратов.\n",
    "    \n",
    "Требуется:\n",
    "- Оценить, есть ли различие в эффекте у этих пациентов?\n",
    "- Визуально подтвердить результат\n",
    "    \n",
    "`A` - результаты для группы людей получающих препарат А.\n",
    "\n",
    "`B` - результаты для другой группы людей, получающих препарат B.\n",
    "    \n",
    "</div>"
   ]
  },
  {
   "cell_type": "code",
   "execution_count": 24,
   "metadata": {},
   "outputs": [],
   "source": [
    "np.random.seed(11)\n",
    "A = stats.norm.rvs(scale=30, loc=11, size=100)\n",
    "B = A + stats.norm.rvs(scale=54, loc=11, size=100)\n",
    "\n",
    "# Ваш код."
   ]
  },
  {
   "cell_type": "markdown",
   "metadata": {},
   "source": [
    "<div class=\"alert alert-info\">\n",
    "<b>Задание № 2 (Обязательно)</b>\n",
    "Вам даны результаты проверки двух препаратов. \n",
    "    \n",
    "Требуется: \n",
    "- Оценить, есть ли различие в эффекте у этих пациентов?\n",
    "- Визуально подтвердить результат\n",
    "    \n",
    "`А` - группа людей без препарата.\n",
    "\n",
    "`B` - **та же** группа людей, но получающая препарат\n",
    "</div>"
   ]
  },
  {
   "cell_type": "code",
   "execution_count": 25,
   "metadata": {},
   "outputs": [],
   "source": [
    "np.random.seed(11)\n",
    "A = stats.norm.rvs(scale=30, loc=11, size=100)\n",
    "B = A + stats.norm.rvs(scale=54, loc=11, size=100)\n",
    "\n",
    "# Ваш код."
   ]
  },
  {
   "cell_type": "markdown",
   "metadata": {},
   "source": [
    "<div class=\"alert alert-info\">\n",
    "<b>Задание № 3 (Обязательно)</b>\n",
    "Допустим вы решили устроить дачный эксперимент. Берем и поливаем одни огурцы водой, другие огурцы водой с удобнением, третью группу огурцов будем поливать минералкой. \n",
    "    \n",
    " - Используя дисперсионный анализ, сделайте выводы о распредлениях результатов. Есть ли эффект от удобрения по сравнению с минералкой? \n",
    " - Помимо результата статистического теста, продемонстрируйте отличия визуально с помощью `boxplot` или `hist`\n",
    "    \n",
    "`water = [1,2,3,4,2,4,2,4,5,2,3,4,2,1,3,4,3,2,5,1]`\n",
    "\n",
    "`nutri = [1,2,4,6,5,6,7,5,4,5,6,7,4,3,5,5,6,5,4,3,5]`\n",
    "\n",
    "`mineral =[2,1,1,3,2,4,2,4,5,4,3,2,3,2,3,1,3,4,5,1,4]`\n",
    "</div>"
   ]
  },
  {
   "cell_type": "code",
   "execution_count": 26,
   "metadata": {},
   "outputs": [],
   "source": [
    "water = [1,2,3,4,2,4,2,4,5,2,3,4,2,1,3,4,3,2,5,1]\n",
    "nutri = [1,2,4,6,5,6,7,5,4,5,6,7,4,3,5,5,6,5,4,3,5]\n",
    "mineral =[2,1,1,3,2,4,2,4,5,4,3,2,3,2,3,1,3,4,5,1,4]\n",
    "\n",
    "# Ваш код."
   ]
  },
  {
   "cell_type": "markdown",
   "metadata": {},
   "source": [
    "# Покемоны и AB-тестирование \n",
    "(реальный кейс собеседования на позицию Аналитика).\n",
    "\n",
    "\n",
    "# Описание задачи\n",
    "\n",
    "![banner](https://storage.googleapis.com/kaggle-datasets-images/635/1204/126be74882028aac7241553cef0e27a7/dataset-original.jpg)\n",
    "\n",
    "Покемоны - это маленькие существа, которые сражаются друг с другом на соревнованиях. Все покемоны имеют разные характеристики (сила атаки, защиты и т. д.) И относятся к одному или двум так называемым классам (вода, огонь и т. д.).\n",
    "Профессор Оук является изобретателем Pokedex, портативного устройства, которое хранит информацию обо всех существующих покемонах. Как его ведущий специалист по данным, Вы только что получили от него запрос с просьбой осуществить аналитику данных на всех устройствах Pokedex. \n",
    "\n",
    "## Описание набора данных\n",
    "Профессор Оук скопировал все содержимое памяти одного устройства Pokedex, в результате чего получился набор данных, с которым Вы будете работать в этой задаче. В этом файле каждая строка представляет характеристики одного покемона:\n",
    "\n",
    "* `pid`: Numeric - ID покемона\n",
    "* `HP`: Numeric - Очки здоровья\n",
    "* `Attack`: Numeric - Сила обычной атаки\n",
    "* `Defense`: Numeric - Сила обычной защиты\n",
    "* `Sp. Atk`: Numeric - Сила специальной атаки\n",
    "* `Sp. Def`: Numeric - Сила специальной защиты\n",
    "* `Speed`: Numeric - Скорость движений\n",
    "* `Legendary`: Boolean - «True», если покемон редкий\n",
    "* `Class 1`: Categorical - Класс покемона\n",
    "* `Class 2`: Categorical - Класс покемона"
   ]
  },
  {
   "cell_type": "code",
   "execution_count": 27,
   "metadata": {},
   "outputs": [
    {
     "data": {
      "text/html": [
       "<div>\n",
       "<style scoped>\n",
       "    .dataframe tbody tr th:only-of-type {\n",
       "        vertical-align: middle;\n",
       "    }\n",
       "\n",
       "    .dataframe tbody tr th {\n",
       "        vertical-align: top;\n",
       "    }\n",
       "\n",
       "    .dataframe thead th {\n",
       "        text-align: right;\n",
       "    }\n",
       "</style>\n",
       "<table border=\"1\" class=\"dataframe\">\n",
       "  <thead>\n",
       "    <tr style=\"text-align: right;\">\n",
       "      <th></th>\n",
       "      <th>pid</th>\n",
       "      <th>Name</th>\n",
       "      <th>Class 1</th>\n",
       "      <th>Class 2</th>\n",
       "      <th>HP</th>\n",
       "      <th>Attack</th>\n",
       "      <th>Defense</th>\n",
       "      <th>Sp. Atk</th>\n",
       "      <th>Sp. Def</th>\n",
       "      <th>Speed</th>\n",
       "      <th>Legendary</th>\n",
       "    </tr>\n",
       "  </thead>\n",
       "  <tbody>\n",
       "    <tr>\n",
       "      <th>0</th>\n",
       "      <td>1</td>\n",
       "      <td>Bulbasaur</td>\n",
       "      <td>Grass</td>\n",
       "      <td>Poison</td>\n",
       "      <td>45</td>\n",
       "      <td>49</td>\n",
       "      <td>49</td>\n",
       "      <td>65</td>\n",
       "      <td>65</td>\n",
       "      <td>45</td>\n",
       "      <td>False</td>\n",
       "    </tr>\n",
       "    <tr>\n",
       "      <th>1</th>\n",
       "      <td>2</td>\n",
       "      <td>Ivysaur</td>\n",
       "      <td>Grass</td>\n",
       "      <td>Poison</td>\n",
       "      <td>60</td>\n",
       "      <td>62</td>\n",
       "      <td>63</td>\n",
       "      <td>80</td>\n",
       "      <td>80</td>\n",
       "      <td>60</td>\n",
       "      <td>False</td>\n",
       "    </tr>\n",
       "    <tr>\n",
       "      <th>2</th>\n",
       "      <td>3</td>\n",
       "      <td>Venusaur</td>\n",
       "      <td>Grass</td>\n",
       "      <td>Poison</td>\n",
       "      <td>80</td>\n",
       "      <td>82</td>\n",
       "      <td>83</td>\n",
       "      <td>100</td>\n",
       "      <td>100</td>\n",
       "      <td>80</td>\n",
       "      <td>False</td>\n",
       "    </tr>\n",
       "    <tr>\n",
       "      <th>3</th>\n",
       "      <td>4</td>\n",
       "      <td>Mega Venusaur</td>\n",
       "      <td>Grass</td>\n",
       "      <td>Poison</td>\n",
       "      <td>80</td>\n",
       "      <td>100</td>\n",
       "      <td>123</td>\n",
       "      <td>122</td>\n",
       "      <td>120</td>\n",
       "      <td>80</td>\n",
       "      <td>False</td>\n",
       "    </tr>\n",
       "    <tr>\n",
       "      <th>4</th>\n",
       "      <td>5</td>\n",
       "      <td>Charmander</td>\n",
       "      <td>Fire</td>\n",
       "      <td>NaN</td>\n",
       "      <td>39</td>\n",
       "      <td>52</td>\n",
       "      <td>43</td>\n",
       "      <td>60</td>\n",
       "      <td>50</td>\n",
       "      <td>65</td>\n",
       "      <td>False</td>\n",
       "    </tr>\n",
       "  </tbody>\n",
       "</table>\n",
       "</div>"
      ],
      "text/plain": [
       "   pid           Name Class 1 Class 2  HP  Attack  Defense  Sp. Atk  Sp. Def  \\\n",
       "0    1      Bulbasaur   Grass  Poison  45      49       49       65       65   \n",
       "1    2        Ivysaur   Grass  Poison  60      62       63       80       80   \n",
       "2    3       Venusaur   Grass  Poison  80      82       83      100      100   \n",
       "3    4  Mega Venusaur   Grass  Poison  80     100      123      122      120   \n",
       "4    5     Charmander    Fire     NaN  39      52       43       60       50   \n",
       "\n",
       "   Speed  Legendary  \n",
       "0     45      False  \n",
       "1     60      False  \n",
       "2     80      False  \n",
       "3     80      False  \n",
       "4     65      False  "
      ]
     },
     "execution_count": 27,
     "metadata": {},
     "output_type": "execute_result"
    }
   ],
   "source": [
    "pokemon_path = 'https://raw.githubusercontent.com/a-milenkin/datasets_for_t-tests/main/pokemon.csv'\n",
    "pokemon = pd.read_csv(pokemon_path, error_bad_lines=False)  # Откроем датасет\n",
    "pokemon.head()\n",
    "\n",
    " \n",
    "# Обратите внимание, что у покемона может быть один или два класса. Если у покемона два класса, считается,\n",
    "# что они имеют одинаковую значимость"
   ]
  },
  {
   "cell_type": "markdown",
   "metadata": {},
   "source": [
    "# Задачи"
   ]
  },
  {
   "cell_type": "markdown",
   "metadata": {},
   "source": [
    "<div class=\"alert alert-info\">\n",
    "<b>Задание № 1 (Обязательно):</b>\n",
    "    \n",
    "Профессор Оук подозревает, что покемоны в классе `grass` имеют более сильную обычную атаку, чем у покемонов в классе `rock`. Проверьте, прав ли он, и убедите его в своем выводе статистически.\n",
    "    \n",
    "    \n",
    "Примечание: если есть покемоны, которые относятся к обоим классам, просто выбросьте их.\n",
    "    \n",
    "Вы можете предположить, что распределение обычных атак является нормальным для всех классов покемонов.\n",
    "\n",
    "</div>\n"
   ]
  },
  {
   "cell_type": "code",
   "execution_count": null,
   "metadata": {},
   "outputs": [],
   "source": []
  },
  {
   "cell_type": "markdown",
   "metadata": {},
   "source": [
    "<div class=\"alert alert-info\">\n",
    "<b>Задание № 2 (Обязательно):</b>\n",
    "    \n",
    "Профессор Оук уже долго не может спать по ночам ведь его волнует вопрос, правда ли, что покемоны в классе `Water` в среднем более быстрые, чем покемоны в классе `Normal`. \n",
    "    \n",
    "    \n",
    "Проверьте, прав ли он, и убедите его в своем выводе статистически.\n",
    "    \n",
    "Примечание: если есть покемоны, которые относятся к обоим классам, просто выбросьте их.\n",
    "    \n",
    "Вы можете предположить, что распределение скорости движения является нормальным для всех классов покемонов.\n",
    "\n",
    "</div>"
   ]
  },
  {
   "cell_type": "code",
   "execution_count": null,
   "metadata": {},
   "outputs": [],
   "source": []
  },
  {
   "cell_type": "markdown",
   "metadata": {},
   "source": [
    "<div class=\"alert alert-info\">\n",
    "<b>Задание № 3:</b>\n",
    "    \n",
    "Профессор Оук тот еще безумец. Он изобрел сыворотку, способную ускорить покемона. Однако, мы усомнились в эффективности его вакцины. Профессор дал эту сыворотку следующим покемонам: смотри массив `treathed_pokemon`. Проверьте, работает ли вообще его сыворотка, убедите всех в своем выводе статистически.\n",
    "    \n",
    "    \n",
    "Вы можете предположить, что распределение скорости движения является нормальным для всех классов покемонов.\n",
    "\n",
    "</div>"
   ]
  },
  {
   "cell_type": "code",
   "execution_count": 28,
   "metadata": {},
   "outputs": [],
   "source": [
    "# Покемоны, которые принимали сыворотку увеличения скорости.\n",
    "treathed_pokemon = ['Mega Beedrill','Mega Alakazam', 'Deoxys Normal Forme', 'Mega Lopunny']"
   ]
  },
  {
   "cell_type": "code",
   "execution_count": null,
   "metadata": {},
   "outputs": [],
   "source": []
  },
  {
   "cell_type": "markdown",
   "metadata": {},
   "source": [
    "<div class=\"alert alert-info\">\n",
    "<b>Задание № 4:</b>\n",
    "    \n",
    "Профессор Оук всегда любил истории про легендарных `Legendary` покемонов. Однако, профессор не очень уверен, что они самые лучшие относительно остальных покемонов. Оук предложил разобраться в этом нам. Проверьте, действительно ли сумма характеристик `HP`,`Attack`,`Defense` у легендарных покемонов выше, чем у других покемонов? А произведение этих же параметров? Найдите ответы на эти вопросы и убедите всех в своем выводе статистически.\n",
    "   \n",
    "\n",
    "Вы можете предположить, что распределение сум и произведений этих параметров является нормальным для всех классов покемонов.\n",
    "\n",
    "</div>"
   ]
  },
  {
   "cell_type": "code",
   "execution_count": null,
   "metadata": {},
   "outputs": [],
   "source": []
  },
  {
   "cell_type": "markdown",
   "metadata": {},
   "source": [
    "<div class=\"alert alert-info\">\n",
    "<b>Задание № 5:</b>\n",
    "    \n",
    "Профессор Оук частенько наблюдает за боями покемонов. После очередных таких боев Оук выделил три класса `best_defence_class`, которые, на его взгляд, одинаковы по \"силе обычной защиты\" `Defense`. Проверьте, действительно ли эти классы покемонов не отличаются по уровню защиты статистически значимо? Все та же статистика вам в помощь! \n",
    "   \n",
    "\n",
    "Вы можете предположить, что распределение сум и произведений этих параметров является нормальным для всех классов покемонов.\n",
    "\n",
    "</div>"
   ]
  },
  {
   "cell_type": "code",
   "execution_count": 29,
   "metadata": {},
   "outputs": [
    {
     "data": {
      "text/plain": [
       "['Rock', 'Ground', 'Steel', 'Ice']"
      ]
     },
     "execution_count": 29,
     "metadata": {},
     "output_type": "execute_result"
    }
   ],
   "source": [
    "best_defence_class = ['Rock', 'Ground','Steel','Ice']\n",
    "best_defence_class"
   ]
  },
  {
   "cell_type": "code",
   "execution_count": null,
   "metadata": {},
   "outputs": [],
   "source": []
  }
 ],
 "metadata": {
  "kernelspec": {
   "display_name": "Python 3",
   "language": "python",
   "name": "python3"
  },
  "language_info": {
   "codemirror_mode": {
    "name": "ipython",
    "version": 3
   },
   "file_extension": ".py",
   "mimetype": "text/x-python",
   "name": "python",
   "nbconvert_exporter": "python",
   "pygments_lexer": "ipython3",
   "version": "3.8.5"
  },
  "toc": {
   "base_numbering": 1,
   "nav_menu": {},
   "number_sections": true,
   "sideBar": true,
   "skip_h1_title": false,
   "title_cell": "Table of Contents",
   "title_sidebar": "Contents",
   "toc_cell": false,
   "toc_position": {},
   "toc_section_display": true,
   "toc_window_display": false
  }
 },
 "nbformat": 4,
 "nbformat_minor": 4
}
