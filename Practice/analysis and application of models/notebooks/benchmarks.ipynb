{
 "cells": [
  {
   "cell_type": "markdown",
   "metadata": {},
   "source": [
    "# Пропускная способность инференса"
   ]
  },
  {
   "cell_type": "code",
   "execution_count": 1,
   "metadata": {},
   "outputs": [],
   "source": [
    "from sklearn.datasets import load_digits\n",
    "\n",
    "ds = load_digits()\n",
    "\n",
    "X = ds[\"data\"]\n",
    "y = ds[\"target\"]"
   ]
  },
  {
   "cell_type": "code",
   "execution_count": 2,
   "metadata": {},
   "outputs": [],
   "source": [
    "from sklearn.model_selection import train_test_split\n",
    "\n",
    "X_train, X_test, y_train, y_test = train_test_split(X, y, test_size=0.3, random_state=42)"
   ]
  },
  {
   "cell_type": "code",
   "execution_count": 21,
   "metadata": {},
   "outputs": [
    {
     "name": "stdout",
     "output_type": "stream",
     "text": [
      "Learning rate set to 0.5\n",
      "0:\tlearn: 1.5528448\ttotal: 53.7ms\tremaining: 5.31s\n",
      "1:\tlearn: 1.0792717\ttotal: 60.6ms\tremaining: 2.97s\n",
      "2:\tlearn: 0.7816384\ttotal: 67.6ms\tremaining: 2.19s\n",
      "3:\tlearn: 0.6149772\ttotal: 74.4ms\tremaining: 1.79s\n",
      "4:\tlearn: 0.5036011\ttotal: 81.2ms\tremaining: 1.54s\n",
      "5:\tlearn: 0.4331487\ttotal: 88ms\tremaining: 1.38s\n",
      "6:\tlearn: 0.3764895\ttotal: 94.9ms\tremaining: 1.26s\n",
      "7:\tlearn: 0.3237940\ttotal: 102ms\tremaining: 1.17s\n",
      "8:\tlearn: 0.2873393\ttotal: 109ms\tremaining: 1.1s\n",
      "9:\tlearn: 0.2614587\ttotal: 116ms\tremaining: 1.04s\n",
      "10:\tlearn: 0.2368273\ttotal: 123ms\tremaining: 995ms\n",
      "11:\tlearn: 0.2165800\ttotal: 130ms\tremaining: 953ms\n",
      "12:\tlearn: 0.1993735\ttotal: 137ms\tremaining: 917ms\n",
      "13:\tlearn: 0.1842734\ttotal: 144ms\tremaining: 884ms\n",
      "14:\tlearn: 0.1708763\ttotal: 151ms\tremaining: 855ms\n",
      "15:\tlearn: 0.1553851\ttotal: 158ms\tremaining: 829ms\n",
      "16:\tlearn: 0.1441707\ttotal: 165ms\tremaining: 804ms\n",
      "17:\tlearn: 0.1336074\ttotal: 171ms\tremaining: 781ms\n",
      "18:\tlearn: 0.1275729\ttotal: 178ms\tremaining: 760ms\n",
      "19:\tlearn: 0.1166224\ttotal: 185ms\tremaining: 740ms\n",
      "20:\tlearn: 0.1063135\ttotal: 192ms\tremaining: 722ms\n",
      "21:\tlearn: 0.1004044\ttotal: 199ms\tremaining: 705ms\n",
      "22:\tlearn: 0.0946065\ttotal: 206ms\tremaining: 690ms\n",
      "23:\tlearn: 0.0876238\ttotal: 213ms\tremaining: 675ms\n",
      "24:\tlearn: 0.0823517\ttotal: 220ms\tremaining: 660ms\n",
      "25:\tlearn: 0.0786830\ttotal: 228ms\tremaining: 650ms\n",
      "26:\tlearn: 0.0742317\ttotal: 235ms\tremaining: 636ms\n",
      "27:\tlearn: 0.0709700\ttotal: 242ms\tremaining: 622ms\n",
      "28:\tlearn: 0.0673844\ttotal: 248ms\tremaining: 608ms\n",
      "29:\tlearn: 0.0657374\ttotal: 255ms\tremaining: 596ms\n",
      "30:\tlearn: 0.0631856\ttotal: 262ms\tremaining: 583ms\n",
      "31:\tlearn: 0.0615613\ttotal: 269ms\tremaining: 571ms\n",
      "32:\tlearn: 0.0588253\ttotal: 276ms\tremaining: 560ms\n",
      "33:\tlearn: 0.0578148\ttotal: 283ms\tremaining: 549ms\n",
      "34:\tlearn: 0.0563250\ttotal: 290ms\tremaining: 538ms\n",
      "35:\tlearn: 0.0551077\ttotal: 299ms\tremaining: 531ms\n",
      "36:\tlearn: 0.0533642\ttotal: 306ms\tremaining: 521ms\n",
      "37:\tlearn: 0.0522987\ttotal: 313ms\tremaining: 511ms\n",
      "38:\tlearn: 0.0510607\ttotal: 320ms\tremaining: 501ms\n",
      "39:\tlearn: 0.0496642\ttotal: 327ms\tremaining: 490ms\n",
      "40:\tlearn: 0.0480824\ttotal: 334ms\tremaining: 480ms\n",
      "41:\tlearn: 0.0467259\ttotal: 340ms\tremaining: 470ms\n",
      "42:\tlearn: 0.0454183\ttotal: 347ms\tremaining: 460ms\n",
      "43:\tlearn: 0.0435657\ttotal: 354ms\tremaining: 451ms\n",
      "44:\tlearn: 0.0420702\ttotal: 361ms\tremaining: 441ms\n",
      "45:\tlearn: 0.0411140\ttotal: 367ms\tremaining: 431ms\n",
      "46:\tlearn: 0.0394875\ttotal: 374ms\tremaining: 422ms\n",
      "47:\tlearn: 0.0381939\ttotal: 381ms\tremaining: 413ms\n",
      "48:\tlearn: 0.0368238\ttotal: 388ms\tremaining: 404ms\n",
      "49:\tlearn: 0.0353092\ttotal: 395ms\tremaining: 395ms\n",
      "50:\tlearn: 0.0338856\ttotal: 403ms\tremaining: 388ms\n",
      "51:\tlearn: 0.0331518\ttotal: 411ms\tremaining: 379ms\n",
      "52:\tlearn: 0.0321479\ttotal: 418ms\tremaining: 370ms\n",
      "53:\tlearn: 0.0311528\ttotal: 425ms\tremaining: 362ms\n",
      "54:\tlearn: 0.0304546\ttotal: 432ms\tremaining: 353ms\n",
      "55:\tlearn: 0.0296688\ttotal: 439ms\tremaining: 345ms\n",
      "56:\tlearn: 0.0288652\ttotal: 446ms\tremaining: 336ms\n",
      "57:\tlearn: 0.0283424\ttotal: 453ms\tremaining: 328ms\n",
      "58:\tlearn: 0.0278722\ttotal: 460ms\tremaining: 319ms\n",
      "59:\tlearn: 0.0274113\ttotal: 467ms\tremaining: 311ms\n",
      "60:\tlearn: 0.0269516\ttotal: 475ms\tremaining: 304ms\n",
      "61:\tlearn: 0.0261939\ttotal: 482ms\tremaining: 296ms\n",
      "62:\tlearn: 0.0258041\ttotal: 489ms\tremaining: 287ms\n",
      "63:\tlearn: 0.0253854\ttotal: 496ms\tremaining: 279ms\n",
      "64:\tlearn: 0.0247565\ttotal: 503ms\tremaining: 271ms\n",
      "65:\tlearn: 0.0240735\ttotal: 510ms\tremaining: 263ms\n",
      "66:\tlearn: 0.0235083\ttotal: 517ms\tremaining: 255ms\n",
      "67:\tlearn: 0.0231148\ttotal: 524ms\tremaining: 247ms\n",
      "68:\tlearn: 0.0225053\ttotal: 531ms\tremaining: 239ms\n",
      "69:\tlearn: 0.0220262\ttotal: 538ms\tremaining: 230ms\n",
      "70:\tlearn: 0.0217289\ttotal: 548ms\tremaining: 224ms\n",
      "71:\tlearn: 0.0215817\ttotal: 556ms\tremaining: 216ms\n",
      "72:\tlearn: 0.0210864\ttotal: 565ms\tremaining: 209ms\n",
      "73:\tlearn: 0.0206482\ttotal: 573ms\tremaining: 201ms\n",
      "74:\tlearn: 0.0202662\ttotal: 581ms\tremaining: 194ms\n",
      "75:\tlearn: 0.0201173\ttotal: 588ms\tremaining: 186ms\n",
      "76:\tlearn: 0.0199750\ttotal: 595ms\tremaining: 178ms\n",
      "77:\tlearn: 0.0197743\ttotal: 601ms\tremaining: 170ms\n",
      "78:\tlearn: 0.0193583\ttotal: 610ms\tremaining: 162ms\n",
      "79:\tlearn: 0.0190273\ttotal: 617ms\tremaining: 154ms\n",
      "80:\tlearn: 0.0187047\ttotal: 624ms\tremaining: 146ms\n",
      "81:\tlearn: 0.0183358\ttotal: 630ms\tremaining: 138ms\n",
      "82:\tlearn: 0.0179307\ttotal: 638ms\tremaining: 131ms\n",
      "83:\tlearn: 0.0177076\ttotal: 644ms\tremaining: 123ms\n",
      "84:\tlearn: 0.0175144\ttotal: 651ms\tremaining: 115ms\n",
      "85:\tlearn: 0.0172582\ttotal: 659ms\tremaining: 107ms\n",
      "86:\tlearn: 0.0170555\ttotal: 668ms\tremaining: 99.8ms\n",
      "87:\tlearn: 0.0167418\ttotal: 675ms\tremaining: 92ms\n",
      "88:\tlearn: 0.0165146\ttotal: 681ms\tremaining: 84.2ms\n",
      "89:\tlearn: 0.0162960\ttotal: 688ms\tremaining: 76.5ms\n",
      "90:\tlearn: 0.0160037\ttotal: 695ms\tremaining: 68.7ms\n",
      "91:\tlearn: 0.0158012\ttotal: 702ms\tremaining: 61ms\n",
      "92:\tlearn: 0.0155598\ttotal: 709ms\tremaining: 53.4ms\n",
      "93:\tlearn: 0.0153077\ttotal: 716ms\tremaining: 45.7ms\n",
      "94:\tlearn: 0.0150097\ttotal: 722ms\tremaining: 38ms\n",
      "95:\tlearn: 0.0148950\ttotal: 729ms\tremaining: 30.4ms\n",
      "96:\tlearn: 0.0147016\ttotal: 736ms\tremaining: 22.8ms\n",
      "97:\tlearn: 0.0144542\ttotal: 743ms\tremaining: 15.2ms\n",
      "98:\tlearn: 0.0143771\ttotal: 750ms\tremaining: 7.57ms\n",
      "99:\tlearn: 0.0141512\ttotal: 757ms\tremaining: 0us\n"
     ]
    }
   ],
   "source": [
    "from sklearn.preprocessing import StandardScaler\n",
    "from sklearn.linear_model import LogisticRegression\n",
    "from sklearn.neighbors import KNeighborsClassifier\n",
    "from sklearn.ensemble import RandomForestClassifier\n",
    "from xgboost.sklearn import XGBClassifier\n",
    "from catboost import CatBoostClassifier\n",
    "from sklearn.pipeline import Pipeline\n",
    "\n",
    "clf = Pipeline([\n",
    "    # (\"scaler\", StandardScaler()),\n",
    "    # (\"classifier\", LogisticRegression()),\n",
    "    # (\"classifier\", RandomForestClassifier(n_estimators=100)),\n",
    "    (\"classifier\", CatBoostClassifier(n_estimators=100)),\n",
    "]).fit(X_train, y_train)"
   ]
  },
  {
   "cell_type": "code",
   "execution_count": 22,
   "metadata": {},
   "outputs": [],
   "source": [
    "batch_sizes = [2**i for i in range(10)]"
   ]
  },
  {
   "cell_type": "code",
   "execution_count": 23,
   "metadata": {},
   "outputs": [],
   "source": [
    "import numpy as np\n",
    "from timeit import default_timer as timer\n",
    "\n",
    "n_iterations = 100\n",
    "\n",
    "elapsed = np.zeros((len(batch_sizes), n_iterations))\n",
    "\n",
    "for i, bsize in enumerate(batch_sizes):\n",
    "    for j in range(n_iterations):\n",
    "        sample_idx = np.random.choice(a=X_test.shape[0], size=bsize)\n",
    "        batch = X_test[sample_idx]\n",
    "        start = timer()\n",
    "        clf.predict(batch)\n",
    "        end = timer()\n",
    "        elapsed[i, j] = end - start\n",
    "        \n"
   ]
  },
  {
   "cell_type": "code",
   "execution_count": 24,
   "metadata": {},
   "outputs": [
    {
     "data": {
      "image/png": "[encoded data removed]",
      "text/plain": [
       "<Figure size 432x288 with 1 Axes>"
      ]
     },
     "metadata": {},
     "output_type": "display_data"
    }
   ],
   "source": [
    "import seaborn as sns\n",
    "from matplotlib import pyplot as plt\n",
    "\n",
    "sns.set()\n",
    "elapsed_mean = elapsed.mean(axis=1)\n",
    "\n",
    "throughput = batch_sizes / elapsed_mean\n",
    "\n",
    "plt.plot(batch_sizes, throughput)\n",
    "plt.title(\"Model throughput\")\n",
    "plt.xlabel(\"batch size\")\n",
    "plt.ylabel(\"predictions/s\");"
   ]
  },
  {
   "cell_type": "markdown",
   "metadata": {},
   "source": [
    "## Transformers benchmark"
   ]
  },
  {
   "cell_type": "code",
   "execution_count": 7,
   "metadata": {},
   "outputs": [
    {
     "name": "stderr",
     "output_type": "stream",
     "text": [
      "/home/filonov/.local/lib/python3.8/site-packages/transformers/benchmark/benchmark_args_utils.py:136: FutureWarning: The class <class 'transformers.benchmark.benchmark_args.PyTorchBenchmarkArguments'> is deprecated. Hugging Face Benchmarking utils are deprecated in general and it is advised to use external Benchmarking libraries  to benchmark Transformer models.\n",
      "  warnings.warn(\n"
     ]
    },
    {
     "data": {
      "application/vnd.jupyter.widget-view+json": {
       "model_id": "79ecb658a7d04b84a776ccfcc8925845",
       "version_major": 2,
       "version_minor": 0
      },
      "text/plain": [
       "Downloading config.json:   0%|          | 0.00/570 [00:00<?, ?B/s]"
      ]
     },
     "metadata": {},
     "output_type": "display_data"
    },
    {
     "name": "stderr",
     "output_type": "stream",
     "text": [
      "/home/filonov/.local/lib/python3.8/site-packages/transformers/benchmark/benchmark_utils.py:620: FutureWarning: The class <class 'transformers.benchmark.benchmark.PyTorchBenchmark'> is deprecated. Hugging Face Benchmarking utils are deprecated in general and it is advised to use external Benchmarking libraries  to benchmark Transformer models.\n",
      "  warnings.warn(\n"
     ]
    }
   ],
   "source": [
    "from transformers import PyTorchBenchmark, PyTorchBenchmarkArguments\n",
    "\n",
    "args = PyTorchBenchmarkArguments(models=[\"bert-base-uncased\"], batch_sizes=[8], sequence_lengths=[8, 32, 128, 512])\n",
    "\n",
    "benchmark = PyTorchBenchmark(args)"
   ]
  },
  {
   "cell_type": "code",
   "execution_count": 10,
   "metadata": {},
   "outputs": [
    {
     "name": "stdout",
     "output_type": "stream",
     "text": [
      "1 / 1\n",
      "\n",
      "====================       INFERENCE - SPEED - RESULT       ====================\n",
      "--------------------------------------------------------------------------------\n",
      "          Model Name             Batch Size     Seq Length     Time in s   \n",
      "--------------------------------------------------------------------------------\n",
      "      bert-base-uncased              8               8             0.093     \n",
      "      bert-base-uncased              8               32             0.27     \n",
      "      bert-base-uncased              8              128            1.094     \n",
      "      bert-base-uncased              8              512            5.602     \n",
      "--------------------------------------------------------------------------------\n",
      "\n",
      "====================      INFERENCE - MEMORY - RESULT       ====================\n",
      "--------------------------------------------------------------------------------\n",
      "          Model Name             Batch Size     Seq Length    Memory in MB \n",
      "--------------------------------------------------------------------------------\n",
      "      bert-base-uncased              8               8              699      \n",
      "      bert-base-uncased              8               32             760      \n",
      "      bert-base-uncased              8              128             873      \n",
      "      bert-base-uncased              8              512             1399     \n",
      "--------------------------------------------------------------------------------\n"
     ]
    }
   ],
   "source": [
    "results = benchmark.run()"
   ]
  },
  {
   "cell_type": "code",
   "execution_count": null,
   "metadata": {},
   "outputs": [],
   "source": []
  }
 ],
 "metadata": {
  "kernelspec": {
   "display_name": "Python 3.6.8 64-bit",
   "language": "python",
   "name": "python3"
  },
  "language_info": {
   "codemirror_mode": {
    "name": "ipython",
    "version": 3
   },
   "file_extension": ".py",
   "mimetype": "text/x-python",
   "name": "python",
   "nbconvert_exporter": "python",
   "pygments_lexer": "ipython3",
   "version": "3.8.10"
  },
  "orig_nbformat": 4,
  "vscode": {
   "interpreter": {
    "hash": "31f2aee4e71d21fbe5cf8b01ff0e069b9275f58929596ceb00d14d90e3e16cd6"
   }
  }
 },
 "nbformat": 4,
 "nbformat_minor": 2
}
