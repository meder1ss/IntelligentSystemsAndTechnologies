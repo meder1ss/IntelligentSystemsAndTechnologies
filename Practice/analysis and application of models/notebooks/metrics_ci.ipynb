{
 "cells": [
  {
   "cell_type": "markdown",
   "metadata": {},
   "source": [
    "# Доверительный интервал для метрик модели"
   ]
  },
  {
   "cell_type": "code",
   "execution_count": 92,
   "metadata": {},
   "outputs": [],
   "source": [
    "from sklearn.datasets import load_breast_cancer\n",
    "\n",
    "ds = load_breast_cancer()\n",
    "\n",
    "X = ds[\"data\"]\n",
    "y = ds[\"target\"]"
   ]
  },
  {
   "cell_type": "code",
   "execution_count": 93,
   "metadata": {},
   "outputs": [
    {
     "data": {
      "image/png": "[encoded data removed]",
      "text/plain": [
       "<Figure size 432x288 with 1 Axes>"
      ]
     },
     "metadata": {
      "needs_background": "light"
     },
     "output_type": "display_data"
    }
   ],
   "source": [
    "import seaborn as sns\n",
    "\n",
    "sns.countplot(x=y);"
   ]
  },
  {
   "cell_type": "code",
   "execution_count": 94,
   "metadata": {},
   "outputs": [],
   "source": [
    "from sklearn.model_selection import train_test_split\n",
    "\n",
    "X_train, X_test, y_train, y_test = train_test_split(X, y, test_size=0.3, random_state=42)"
   ]
  },
  {
   "cell_type": "code",
   "execution_count": 95,
   "metadata": {},
   "outputs": [],
   "source": [
    "from sklearn.preprocessing import StandardScaler\n",
    "from sklearn.linear_model import LogisticRegression\n",
    "from sklearn.neighbors import KNeighborsClassifier\n",
    "from sklearn.ensemble import RandomForestClassifier\n",
    "from sklearn.pipeline import Pipeline\n",
    "\n",
    "clf = Pipeline([\n",
    "    (\"scaler\", StandardScaler()),\n",
    "    (\"classifier\", LogisticRegression()),\n",
    "]).fit(X_train, y_train)"
   ]
  },
  {
   "cell_type": "code",
   "execution_count": 100,
   "metadata": {},
   "outputs": [],
   "source": [
    "import numpy as np\n",
    "import pandas as pd\n",
    "\n",
    "from sklearn.metrics import accuracy_score, roc_auc_score\n",
    "\n",
    "y_pred = clf.predict(X_test)\n",
    "y_pred_proba = clf.predict_proba(X_test)[:, 1]\n",
    "\n",
    "bootstrap_iterations = 1000\n",
    "\n",
    "acc_scores = np.zeros(bootstrap_iterations)\n",
    "roc_auc_scores = np.zeros(bootstrap_iterations)\n",
    "\n",
    "df = pd.DataFrame({\n",
    "    \"y_true\": y_test,\n",
    "    \"y_pred\": y_pred,\n",
    "    \"y_pred_proba\": y_pred_proba,\n",
    "})\n",
    "for i in range(bootstrap_iterations):\n",
    "    sample = df.sample(frac=1.0, replace=True)\n",
    "    acc_scores[i] = accuracy_score(sample.y_true, sample.y_pred)\n",
    "    roc_auc_scores[i] = roc_auc_score(sample.y_true, sample.y_pred_proba)\n"
   ]
  },
  {
   "cell_type": "code",
   "execution_count": 97,
   "metadata": {},
   "outputs": [
    {
     "data": {
      "image/png": "[encoded data removed]",
      "text/plain": [
       "<Figure size 432x288 with 1 Axes>"
      ]
     },
     "metadata": {
      "needs_background": "light"
     },
     "output_type": "display_data"
    }
   ],
   "source": [
    "from scipy.stats import norm\n",
    "\n",
    "acc_mean = acc_scores.mean()\n",
    "acc_std = acc_scores.std()\n",
    "\n",
    "acc_low = acc_mean - 3*acc_std\n",
    "acc_upp = acc_mean + 3*acc_std\n",
    "\n",
    "ax = sns.histplot(\n",
    "    acc_scores,\n",
    "    stat=\"density\"\n",
    ")\n",
    "x = np.linspace(acc_low, acc_upp, 100)\n",
    "ax.plot(x, norm.pdf(x, loc=acc_mean, scale=acc_std), color=\"red\");"
   ]
  },
  {
   "cell_type": "code",
   "execution_count": 98,
   "metadata": {},
   "outputs": [
    {
     "name": "stdout",
     "output_type": "stream",
     "text": [
      "Model accuracy CI: (0.952, 1.01)\n"
     ]
    }
   ],
   "source": [
    "print(f\"Model accuracy CI: ({acc_low:.3}, {acc_upp:.3})\")"
   ]
  },
  {
   "cell_type": "code",
   "execution_count": 101,
   "metadata": {},
   "outputs": [
    {
     "data": {
      "image/png": "[encoded data removed]",
      "text/plain": [
       "<Figure size 432x288 with 1 Axes>"
      ]
     },
     "metadata": {
      "needs_background": "light"
     },
     "output_type": "display_data"
    }
   ],
   "source": [
    "roc_auc_mean = roc_auc_scores.mean()\n",
    "roc_auc_std = roc_auc_scores.std()\n",
    "\n",
    "roc_auc_low = roc_auc_mean - 3*roc_auc_std\n",
    "roc_auc_upp = roc_auc_mean + 3*roc_auc_std\n",
    "\n",
    "ax = sns.histplot(\n",
    "    roc_auc_scores,\n",
    "    stat=\"density\"\n",
    ")\n",
    "x = np.linspace(roc_auc_low, roc_auc_upp, 100)\n",
    "ax.plot(x, norm.pdf(x, loc=roc_auc_mean, scale=roc_auc_std), color=\"red\");"
   ]
  },
  {
   "cell_type": "code",
   "execution_count": 103,
   "metadata": {},
   "outputs": [
    {
     "name": "stdout",
     "output_type": "stream",
     "text": [
      "Model ROC-AUC CI: (0.992, 1.0)\n"
     ]
    }
   ],
   "source": [
    "print(f\"Model ROC-AUC CI: ({roc_auc_low:.3}, {roc_auc_upp:.3})\")"
   ]
  },
  {
   "cell_type": "code",
   "execution_count": null,
   "metadata": {},
   "outputs": [],
   "source": []
  }
 ],
 "metadata": {
  "kernelspec": {
   "display_name": "Python 3.6.8 64-bit",
   "language": "python",
   "name": "python3"
  },
  "language_info": {
   "codemirror_mode": {
    "name": "ipython",
    "version": 3
   },
   "file_extension": ".py",
   "mimetype": "text/x-python",
   "name": "python",
   "nbconvert_exporter": "python",
   "pygments_lexer": "ipython3",
   "version": "3.8.10"
  },
  "orig_nbformat": 4,
  "vscode": {
   "interpreter": {
    "hash": "31f2aee4e71d21fbe5cf8b01ff0e069b9275f58929596ceb00d14d90e3e16cd6"
   }
  }
 },
 "nbformat": 4,
 "nbformat_minor": 2
}
